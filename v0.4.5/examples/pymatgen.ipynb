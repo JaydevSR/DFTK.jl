{
 "cells": [
  {
   "cell_type": "markdown",
   "source": [
    "# Creating supercells with pymatgen\n",
    "\n",
    "The [Pymatgen](https://pymatgen.org/) python library allows to setup\n",
    "solid-state calculations using a flexible set of classes as well as an API\n",
    "to an online data base of structures. Its `Structure` and `Lattice`\n",
    "objects are directly supported by the DFTK `load_atoms` and `load_lattice`\n",
    "functions, such that DFTK may be readily used to run calculation on systems\n",
    "defined in pymatgen. Using the `pymatgen_structure` function a conversion\n",
    "from DFTK to pymatgen structures is also possible. In the following we\n",
    "use this to create a silicon supercell and find its LDA ground state\n",
    "using direct minimisation. To run this example Julia's `PyCall` package\n",
    "needs to be able to find an installation of `pymatgen`."
   ],
   "metadata": {}
  },
  {
   "cell_type": "markdown",
   "source": [
    "First we setup the silicon lattice in DFTK."
   ],
   "metadata": {}
  },
  {
   "outputs": [],
   "cell_type": "code",
   "source": [
    "using DFTK\n",
    "\n",
    "a = 10.263141334305942  # Lattice constant in Bohr\n",
    "lattice = a / 2 .* [[0 1 1.]; [1 0 1.]; [1 1 0.]]\n",
    "Si = ElementPsp(:Si, psp=load_psp(\"hgh/lda/Si-q4\"))\n",
    "atoms = [Si => [ones(3)/8, -ones(3)/8]];"
   ],
   "metadata": {},
   "execution_count": 1
  },
  {
   "cell_type": "markdown",
   "source": [
    "Next we make a `[2, 2, 2]` supercell using pymatgen"
   ],
   "metadata": {}
  },
  {
   "outputs": [
    {
     "name": "stdout",
     "output_type": "stream",
     "text": [
      "┌ Warning: `vendor()` is deprecated, use `BLAS.get_config()` and inspect the output instead\n",
      "│   caller = npyinitialize() at numpy.jl:67\n",
      "└ @ PyCall /home/runner/.julia/packages/PyCall/L0fLP/src/numpy.jl:67\n"
     ]
    }
   ],
   "cell_type": "code",
   "source": [
    "pystruct = pymatgen_structure(lattice, atoms)\n",
    "pystruct.make_supercell([2, 2, 2])\n",
    "lattice = load_lattice(pystruct)\n",
    "atoms = [Si => [s.frac_coords for s in pystruct.sites]];"
   ],
   "metadata": {},
   "execution_count": 2
  },
  {
   "cell_type": "markdown",
   "source": [
    "Setup an LDA model and discretize using\n",
    "a single k-point and a small `Ecut` of 5 Hartree."
   ],
   "metadata": {}
  },
  {
   "outputs": [
    {
     "output_type": "execute_result",
     "data": {
      "text/plain": "PlaneWaveBasis discretization:\n    Ecut                 : 5.0 Ha\n    fft_size             : (32, 32, 32)\n    kgrid type           : Monkhorst-Pack\n    kgrid                : [1, 1, 1]\n    num. irred. kpoints  : 1\n\n    Discretized Model(lda_xc_teter93, 3D):\n        lattice (in Bohr)    : [0         , 10.2631   , 10.2631   ]\n                               [10.2631   , 0         , 10.2631   ]\n                               [10.2631   , 10.2631   , 0         ]\n        unit cell volume     : 2162.1 Bohr³\n    \n        atoms                : Si₁₆\n        atom potentials      : ElementPsp(Si, psp=\"hgh/lda/si-q4\")\n    \n        num. electrons       : 64\n        spin polarization    : none\n        temperature          : 0 Ha\n    \n        terms                : Kinetic()\n                               AtomicLocal()\n                               AtomicNonlocal()\n                               Ewald()\n                               PspCorrection()\n                               Hartree()\n                               Xc(:lda_xc_teter93)"
     },
     "metadata": {},
     "execution_count": 3
    }
   ],
   "cell_type": "code",
   "source": [
    "model = model_LDA(lattice, atoms)\n",
    "basis = PlaneWaveBasis(model; Ecut=5, kgrid=(1, 1, 1))"
   ],
   "metadata": {},
   "execution_count": 3
  },
  {
   "cell_type": "markdown",
   "source": [
    "Find the ground state using direct minimisation (always using SCF is boring ...)"
   ],
   "metadata": {}
  },
  {
   "outputs": [
    {
     "name": "stdout",
     "output_type": "stream",
     "text": [
      "Iter     Function value   Gradient norm \n",
      "     0     1.125010e+02     1.624577e+00\n",
      " * time: 0.7945880889892578\n",
      "     1     1.131653e+01     9.143023e-01\n",
      " * time: 2.18729305267334\n",
      "     2    -1.156346e+01     1.049812e+00\n",
      " * time: 2.8465089797973633\n",
      "     3    -3.389760e+01     8.306679e-01\n",
      " * time: 3.8524351119995117\n",
      "     4    -4.745523e+01     5.601640e-01\n",
      " * time: 4.833148002624512\n",
      "     5    -5.697575e+01     1.885443e-01\n",
      " * time: 5.856287002563477\n",
      "     6    -5.986768e+01     1.435412e-01\n",
      " * time: 6.508295059204102\n",
      "     7    -6.091156e+01     4.333224e-02\n",
      " * time: 7.165052175521851\n",
      "     8    -6.129598e+01     6.691075e-02\n",
      " * time: 7.8172221183776855\n",
      "     9    -6.157385e+01     4.353624e-02\n",
      " * time: 8.44467806816101\n",
      "    10    -6.178283e+01     3.061279e-02\n",
      " * time: 9.085944175720215\n",
      "    11    -6.196127e+01     2.111302e-02\n",
      " * time: 9.748471021652222\n",
      "    12    -6.203592e+01     1.636262e-02\n",
      " * time: 10.397061109542847\n",
      "    13    -6.211339e+01     1.405723e-02\n",
      " * time: 11.043482065200806\n",
      "    14    -6.214577e+01     1.201326e-02\n",
      " * time: 11.70088005065918\n",
      "    15    -6.217453e+01     9.530051e-03\n",
      " * time: 12.367594957351685\n",
      "    16    -6.218868e+01     8.145243e-03\n",
      " * time: 13.017301082611084\n",
      "    17    -6.219991e+01     5.947336e-03\n",
      " * time: 13.676018953323364\n",
      "    18    -6.220793e+01     6.264079e-03\n",
      " * time: 14.364218950271606\n",
      "    19    -6.221414e+01     5.592495e-03\n",
      " * time: 15.005321025848389\n",
      "    20    -6.221945e+01     5.581419e-03\n",
      " * time: 15.649019956588745\n",
      "    21    -6.222467e+01     6.383462e-03\n",
      " * time: 16.324331998825073\n",
      "    22    -6.223037e+01     5.713002e-03\n",
      " * time: 16.97316598892212\n",
      "    23    -6.223675e+01     5.358949e-03\n",
      " * time: 17.609204053878784\n",
      "    24    -6.224314e+01     5.225791e-03\n",
      " * time: 18.268605947494507\n",
      "    25    -6.224849e+01     4.511308e-03\n",
      " * time: 18.94838309288025\n",
      "    26    -6.225273e+01     4.211178e-03\n",
      " * time: 19.581505060195923\n",
      "    27    -6.225558e+01     3.008532e-03\n",
      " * time: 20.239882946014404\n",
      "    28    -6.225746e+01     3.236727e-03\n",
      " * time: 20.911175966262817\n",
      "    29    -6.225881e+01     2.179866e-03\n",
      " * time: 21.569345951080322\n",
      "    30    -6.225983e+01     2.221593e-03\n",
      " * time: 22.27292799949646\n",
      "    31    -6.226058e+01     1.761798e-03\n",
      " * time: 22.969890117645264\n",
      "    32    -6.226103e+01     1.315960e-03\n",
      " * time: 23.644018173217773\n",
      "    33    -6.226134e+01     9.004480e-04\n",
      " * time: 24.34755301475525\n",
      "    34    -6.226150e+01     6.854926e-04\n",
      " * time: 25.013857126235962\n",
      "    35    -6.226158e+01     4.718186e-04\n",
      " * time: 25.691100120544434\n",
      "    36    -6.226162e+01     3.551341e-04\n",
      " * time: 26.349092960357666\n",
      "    37    -6.226164e+01     1.984576e-04\n",
      " * time: 27.028618097305298\n",
      "    38    -6.226165e+01     1.749099e-04\n",
      " * time: 27.70097804069519\n",
      "    39    -6.226166e+01     1.739068e-04\n",
      " * time: 28.375874042510986\n",
      "    40    -6.226166e+01     1.355734e-04\n",
      " * time: 29.012875080108643\n",
      "    41    -6.226166e+01     1.124581e-04\n",
      " * time: 29.681923151016235\n",
      "    42    -6.226166e+01     7.091983e-05\n",
      " * time: 30.30807900428772\n",
      "    43    -6.226166e+01     6.338110e-05\n",
      " * time: 30.962834119796753\n",
      "    44    -6.226167e+01     5.106051e-05\n",
      " * time: 31.62861704826355\n",
      "    45    -6.226167e+01     3.721348e-05\n",
      " * time: 32.264594078063965\n",
      "    46    -6.226167e+01     2.309965e-05\n",
      " * time: 32.91165900230408\n",
      "    47    -6.226167e+01     1.934463e-05\n",
      " * time: 33.55744504928589\n",
      "    48    -6.226167e+01     1.120907e-05\n",
      " * time: 34.228224992752075\n",
      "    49    -6.226167e+01     9.156900e-06\n",
      " * time: 34.921679973602295\n",
      "    50    -6.226167e+01     7.812630e-06\n",
      " * time: 35.59877109527588\n",
      "    51    -6.226167e+01     5.912020e-06\n",
      " * time: 36.266335010528564\n",
      "    52    -6.226167e+01     4.328183e-06\n",
      " * time: 36.915913105010986\n",
      "    53    -6.226167e+01     4.476962e-06\n",
      " * time: 37.56770706176758\n",
      "    54    -6.226167e+01     3.499783e-06\n",
      " * time: 38.216866970062256\n",
      "    55    -6.226167e+01     2.704222e-06\n",
      " * time: 38.84360909461975\n",
      "    56    -6.226167e+01     2.047533e-06\n",
      " * time: 39.4798481464386\n"
     ]
    }
   ],
   "cell_type": "code",
   "source": [
    "scfres = direct_minimization(basis, tol=1e-5);"
   ],
   "metadata": {},
   "execution_count": 4
  },
  {
   "outputs": [
    {
     "output_type": "execute_result",
     "data": {
      "text/plain": "Energy breakdown (in Ha):\n    Kinetic             25.7671064\n    AtomicLocal         -18.8557682\n    AtomicNonlocal      14.8522654\n    Ewald               -67.1831486\n    PspCorrection       -2.3569765\n    Hartree             4.8485371 \n    Xc                  -19.3336820\n\n    total               -62.261666461594"
     },
     "metadata": {},
     "execution_count": 5
    }
   ],
   "cell_type": "code",
   "source": [
    "scfres.energies"
   ],
   "metadata": {},
   "execution_count": 5
  }
 ],
 "nbformat_minor": 3,
 "metadata": {
  "language_info": {
   "file_extension": ".jl",
   "mimetype": "application/julia",
   "name": "julia",
   "version": "1.7.1"
  },
  "kernelspec": {
   "name": "julia-1.7",
   "display_name": "Julia 1.7.1",
   "language": "julia"
  }
 },
 "nbformat": 4
}
