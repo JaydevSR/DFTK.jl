{
 "cells": [
  {
   "cell_type": "markdown",
   "source": [
    "# Creating supercells with pymatgen\n",
    "\n",
    "The [Pymatgen](https://pymatgen.org/) python library allows to setup\n",
    "solid-state calculations using a flexible set of classes as well as an API\n",
    "to an online data base of structures. Its `Structure` and `Lattice`\n",
    "objects are directly supported by the DFTK `load_atoms` and `load_lattice`\n",
    "functions, such that DFTK may be readily used to run calculation on systems\n",
    "defined in pymatgen. Using the `pymatgen_structure` function a conversion\n",
    "from DFTK to pymatgen structures is also possible. In the following we\n",
    "use this to create a silicon supercell and find its LDA ground state\n",
    "using direct minimisation."
   ],
   "metadata": {}
  },
  {
   "cell_type": "markdown",
   "source": [
    "First we setup the silicon lattice in DFTK."
   ],
   "metadata": {}
  },
  {
   "outputs": [],
   "cell_type": "code",
   "source": [
    "using DFTK\n",
    "\n",
    "a = 10.263141334305942  # Lattice constant in Bohr\n",
    "lattice = a / 2 .* [[0 1 1.]; [1 0 1.]; [1 1 0.]]\n",
    "Si = ElementPsp(:Si, psp=load_psp(\"hgh/lda/Si-q4\"))\n",
    "atoms = [Si => [ones(3)/8, -ones(3)/8]];"
   ],
   "metadata": {},
   "execution_count": 1
  },
  {
   "cell_type": "markdown",
   "source": [
    "Next we make a `[2, 2, 2]` supercell using pymatgen"
   ],
   "metadata": {}
  },
  {
   "outputs": [],
   "cell_type": "code",
   "source": [
    "pystruct = pymatgen_structure(lattice, atoms)\n",
    "pystruct.make_supercell([2, 2, 2])\n",
    "lattice = load_lattice(pystruct)\n",
    "atoms = [Si => [s.frac_coords for s in pystruct.sites]];"
   ],
   "metadata": {},
   "execution_count": 2
  },
  {
   "cell_type": "markdown",
   "source": [
    "Setup an LDA model and discretize using\n",
    "a single kpoint and a small `Ecut` of 5 Hartree."
   ],
   "metadata": {}
  },
  {
   "outputs": [
    {
     "output_type": "execute_result",
     "data": {
      "text/plain": "PlaneWaveBasis (Ecut=5.0, 1 kpoints)"
     },
     "metadata": {},
     "execution_count": 3
    }
   ],
   "cell_type": "code",
   "source": [
    "model = model_LDA(lattice, atoms)\n",
    "basis = PlaneWaveBasis(model, 5, kgrid=(1, 1, 1))"
   ],
   "metadata": {},
   "execution_count": 3
  },
  {
   "cell_type": "markdown",
   "source": [
    "Find the ground state using direct minimisation (always using SCF is boring ...)"
   ],
   "metadata": {}
  },
  {
   "outputs": [
    {
     "name": "stdout",
     "output_type": "stream",
     "text": [
      "Iter     Function value   Gradient norm \n",
      "     0     1.119410e+02     1.592904e+00\n",
      " * time: 0.14232492446899414\n",
      "     1     1.167310e+01     1.063397e+00\n",
      " * time: 1.5224330425262451\n",
      "     2    -1.102771e+01     1.230674e+00\n",
      " * time: 1.6672170162200928\n",
      "     3    -3.323375e+01     8.630808e-01\n",
      " * time: 1.8418309688568115\n",
      "     4    -4.658742e+01     6.434574e-01\n",
      " * time: 2.0116188526153564\n",
      "     5    -5.668375e+01     2.333021e-01\n",
      " * time: 2.1648318767547607\n",
      "     6    -5.967556e+01     1.902306e-01\n",
      " * time: 2.297433853149414\n",
      "     7    -6.091509e+01     6.026997e-02\n",
      " * time: 2.4313628673553467\n",
      "     8    -6.140307e+01     3.716817e-02\n",
      " * time: 2.560694932937622\n",
      "     9    -6.170865e+01     3.225764e-02\n",
      " * time: 2.6791598796844482\n",
      "    10    -6.185799e+01     3.267211e-02\n",
      " * time: 2.8096139430999756\n",
      "    11    -6.200633e+01     2.196141e-02\n",
      " * time: 2.9330968856811523\n",
      "    12    -6.208368e+01     1.388308e-02\n",
      " * time: 3.0668790340423584\n",
      "    13    -6.212832e+01     1.243505e-02\n",
      " * time: 3.182515859603882\n",
      "    14    -6.216308e+01     1.145391e-02\n",
      " * time: 3.312278985977173\n",
      "    15    -6.218055e+01     9.041928e-03\n",
      " * time: 3.4373059272766113\n",
      "    16    -6.219239e+01     7.363770e-03\n",
      " * time: 3.5775370597839355\n",
      "    17    -6.220057e+01     6.456544e-03\n",
      " * time: 3.698065996170044\n",
      "    18    -6.220818e+01     6.834586e-03\n",
      " * time: 3.823759078979492\n",
      "    19    -6.221524e+01     7.499746e-03\n",
      " * time: 3.942357063293457\n",
      "    20    -6.222278e+01     6.952743e-03\n",
      " * time: 4.06856894493103\n",
      "    21    -6.223093e+01     7.842071e-03\n",
      " * time: 4.194822072982788\n",
      "    22    -6.223906e+01     6.982902e-03\n",
      " * time: 4.332479953765869\n",
      "    23    -6.224602e+01     5.614516e-03\n",
      " * time: 4.461161851882935\n",
      "    24    -6.225106e+01     4.944523e-03\n",
      " * time: 4.587967872619629\n",
      "    25    -6.225428e+01     3.950127e-03\n",
      " * time: 4.720779895782471\n",
      "    26    -6.225642e+01     2.817567e-03\n",
      " * time: 4.84069299697876\n",
      "    27    -6.225798e+01     2.233617e-03\n",
      " * time: 4.969888925552368\n",
      "    28    -6.225912e+01     1.866091e-03\n",
      " * time: 5.089935064315796\n",
      "    29    -6.226004e+01     1.886017e-03\n",
      " * time: 5.2180750370025635\n",
      "    30    -6.226072e+01     1.567929e-03\n",
      " * time: 5.341016054153442\n",
      "    31    -6.226115e+01     1.184772e-03\n",
      " * time: 5.464078903198242\n",
      "    32    -6.226140e+01     7.301049e-04\n",
      " * time: 5.580734968185425\n",
      "    33    -6.226154e+01     5.460778e-04\n",
      " * time: 5.706377029418945\n",
      "    34    -6.226160e+01     4.110734e-04\n",
      " * time: 5.83167290687561\n",
      "    35    -6.226164e+01     2.933752e-04\n",
      " * time: 5.970115900039673\n",
      "    36    -6.226165e+01     2.683061e-04\n",
      " * time: 6.087836027145386\n",
      "    37    -6.226166e+01     1.634690e-04\n",
      " * time: 6.212561845779419\n",
      "    38    -6.226166e+01     1.146350e-04\n",
      " * time: 6.327893018722534\n",
      "    39    -6.226166e+01     9.310884e-05\n",
      " * time: 6.450121879577637\n",
      "    40    -6.226166e+01     7.073571e-05\n",
      " * time: 6.5674519538879395\n",
      "    41    -6.226166e+01     4.944247e-05\n",
      " * time: 6.6893980503082275\n",
      "    42    -6.226167e+01     3.990260e-05\n",
      " * time: 6.804635047912598\n",
      "    43    -6.226167e+01     3.559393e-05\n",
      " * time: 6.93108606338501\n",
      "    44    -6.226167e+01     3.336561e-05\n",
      " * time: 7.043730974197388\n",
      "    45    -6.226167e+01     2.453736e-05\n",
      " * time: 7.177478075027466\n",
      "    46    -6.226167e+01     1.568253e-05\n",
      " * time: 7.300729990005493\n",
      "    47    -6.226167e+01     1.023814e-05\n",
      " * time: 7.415344953536987\n",
      "    48    -6.226167e+01     6.850717e-06\n",
      " * time: 7.53773307800293\n",
      "    49    -6.226167e+01     5.732619e-06\n",
      " * time: 7.652775049209595\n",
      "    50    -6.226167e+01     4.396803e-06\n",
      " * time: 7.7743659019470215\n",
      "    51    -6.226167e+01     4.800646e-06\n",
      " * time: 7.888556957244873\n"
     ]
    }
   ],
   "cell_type": "code",
   "source": [
    "scfres = direct_minimization(basis, tol=1e-5);"
   ],
   "metadata": {},
   "execution_count": 4
  },
  {
   "outputs": [
    {
     "output_type": "execute_result",
     "data": {
      "text/plain": "Energy breakdown:\n    Kinetic             25.7671068\n    AtomicLocal         -18.8557681\n    AtomicNonlocal      14.8522648\n    Ewald               -67.1831486\n    PspCorrection       -2.3569765\n    Hartree             4.8485372 \n    Xc                  -19.3336820\n\n    total               -62.261666455028\n"
     },
     "metadata": {},
     "execution_count": 5
    }
   ],
   "cell_type": "code",
   "source": [
    "scfres.energies"
   ],
   "metadata": {},
   "execution_count": 5
  }
 ],
 "nbformat_minor": 3,
 "metadata": {
  "language_info": {
   "file_extension": ".jl",
   "mimetype": "application/julia",
   "name": "julia",
   "version": "1.4.2"
  },
  "kernelspec": {
   "name": "julia-1.4",
   "display_name": "Julia 1.4.2",
   "language": "julia"
  }
 },
 "nbformat": 4
}
