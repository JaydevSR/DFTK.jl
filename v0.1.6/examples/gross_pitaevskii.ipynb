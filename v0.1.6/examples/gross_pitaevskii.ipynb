{
 "cells": [
  {
   "cell_type": "markdown",
   "source": [
    "# Gross-Pitaevskii equation in one dimension\n",
    "In this example we will use DFTK to solve\n",
    "the Gross-Pitaevskii equation, and use this opportunity to explore a few internals."
   ],
   "metadata": {}
  },
  {
   "cell_type": "markdown",
   "source": [
    "## The model\n",
    "The [Gross-Pitaevskii equation](https://en.wikipedia.org/wiki/Gross%E2%80%93Pitaevskii_equation) (GPE)\n",
    "is a simple non-linear equation used to model bosonic systems\n",
    "in a mean-field approach. Denoting by ``ψ`` the effective one-particle bosonic\n",
    "wave function, the time-independent GPE reads in atomic units:\n",
    "$$\n",
    "    H ψ = \\left(-\\frac12 Δ + V + 2 C |ψ|^2\\right) ψ = μ ψ \\qquad \\|ψ\\|_{L^2} = 1\n",
    "$$\n",
    "where ``C`` provides the strength of the boson-boson coupling.\n",
    "It's in particular a favorite model of applied mathematicians because it\n",
    "has a structure simpler than but similar to that of DFT, and displays\n",
    "interesting behavior (especially in higher dimensions with magnetic fields, see\n",
    "Gross-Pitaevskii equation with magnetism)."
   ],
   "metadata": {}
  },
  {
   "cell_type": "markdown",
   "source": [
    "We wish to model this equation in 1D using DFTK.\n",
    "First we set up the lattice. For a 1D case we supply two zero lattice vectors,"
   ],
   "metadata": {}
  },
  {
   "outputs": [],
   "cell_type": "code",
   "source": [
    "a = 10\n",
    "lattice = a .* [[1 0 0.]; [0 0 0]; [0 0 0]];"
   ],
   "metadata": {},
   "execution_count": 1
  },
  {
   "cell_type": "markdown",
   "source": [
    "which is special cased in DFTK to support 1D models.\n",
    "\n",
    "For the potential term `V` we just pick a harmonic\n",
    "potential. The real-space grid is in ``[0,1)``\n",
    "in fractional coordinates( see\n",
    "Lattices and lattice vectors),\n",
    "therefore:"
   ],
   "metadata": {}
  },
  {
   "outputs": [],
   "cell_type": "code",
   "source": [
    "pot(x) = (x - a/2)^2;"
   ],
   "metadata": {},
   "execution_count": 2
  },
  {
   "cell_type": "markdown",
   "source": [
    "We setup each energy term in sequence: kinetic, potential and nonlinear term.\n",
    "For the non-linearity we use the `PowerNonlinearity(C, α)` term of DFTK.\n",
    "This object introduces an energy term ``C ∫ ρ(r)^α dr``\n",
    "to the total energy functional, thus a potential term ``α C ρ^{α-1}``.\n",
    "In our case we thus need the parameters"
   ],
   "metadata": {}
  },
  {
   "outputs": [],
   "cell_type": "code",
   "source": [
    "C = 1.0\n",
    "α = 2;"
   ],
   "metadata": {},
   "execution_count": 3
  },
  {
   "cell_type": "markdown",
   "source": [
    "... and with this build the model"
   ],
   "metadata": {}
  },
  {
   "outputs": [],
   "cell_type": "code",
   "source": [
    "using DFTK\n",
    "using LinearAlgebra\n",
    "\n",
    "n_electrons = 1  # Increase this for fun\n",
    "terms = [Kinetic(),\n",
    "         ExternalFromReal(r -> pot(r[1])),\n",
    "         PowerNonlinearity(C, α),\n",
    "]\n",
    "model = Model(lattice; n_electrons=n_electrons, terms=terms,\n",
    "              spin_polarization=:spinless);  # use \"spinless electrons\""
   ],
   "metadata": {},
   "execution_count": 4
  },
  {
   "cell_type": "markdown",
   "source": [
    "We discretize using a moderate Ecut (For 1D values up to `5000` are completely fine)\n",
    "and run a direct minimization algorithm:"
   ],
   "metadata": {}
  },
  {
   "outputs": [
    {
     "name": "stdout",
     "output_type": "stream",
     "text": [
      "Iter     Function value   Gradient norm \n",
      "     0     1.760969e+02     1.481442e+02\n",
      " * time: 0.0004668235778808594\n",
      "     1     1.734060e+02     8.993708e+01\n",
      " * time: 0.001483917236328125\n",
      "     2     1.694191e+02     1.022768e+02\n",
      " * time: 0.0029790401458740234\n",
      "     3     1.175300e+02     9.287856e+01\n",
      " * time: 0.004745960235595703\n",
      "     4     1.132156e+02     9.887434e+01\n",
      " * time: 0.006474971771240234\n",
      "     5     5.146985e+01     7.100892e+01\n",
      " * time: 0.008218050003051758\n",
      "     6     1.153423e+01     1.133877e+01\n",
      " * time: 0.009982824325561523\n",
      "     7     7.526324e+00     1.919591e+01\n",
      " * time: 0.011174917221069336\n",
      "     8     5.595417e+00     1.203083e+01\n",
      " * time: 0.012563943862915039\n",
      "     9     4.542672e+00     1.089964e+01\n",
      " * time: 0.013692855834960938\n",
      "    10     2.819445e+00     4.070079e+00\n",
      " * time: 0.014780044555664062\n",
      "    11     1.744499e+00     1.829927e+00\n",
      " * time: 0.01582789421081543\n",
      "    12     1.526890e+00     1.292165e+00\n",
      " * time: 0.01691603660583496\n",
      "    13     1.312374e+00     1.047521e+00\n",
      " * time: 0.01777195930480957\n",
      "    14     1.228663e+00     1.260943e+00\n",
      " * time: 0.018610000610351562\n",
      "    15     1.172852e+00     7.046296e-01\n",
      " * time: 0.01946401596069336\n",
      "    16     1.150468e+00     2.315288e-01\n",
      " * time: 0.020318031311035156\n",
      "    17     1.146887e+00     1.606615e-01\n",
      " * time: 0.021142959594726562\n",
      "    18     1.145110e+00     9.061920e-02\n",
      " * time: 0.021951913833618164\n",
      "    19     1.144603e+00     4.754700e-02\n",
      " * time: 0.022773027420043945\n",
      "    20     1.144373e+00     4.397172e-02\n",
      " * time: 0.023605823516845703\n",
      "    21     1.144276e+00     3.604327e-02\n",
      " * time: 0.024458885192871094\n",
      "    22     1.144151e+00     2.739113e-02\n",
      " * time: 0.02527785301208496\n",
      "    23     1.144119e+00     2.160256e-02\n",
      " * time: 0.02608799934387207\n",
      "    24     1.144071e+00     1.993748e-02\n",
      " * time: 0.026880979537963867\n",
      "    25     1.144048e+00     6.716284e-03\n",
      " * time: 0.027725934982299805\n",
      "    26     1.144042e+00     6.779593e-03\n",
      " * time: 0.028535842895507812\n",
      "    27     1.144039e+00     2.889306e-03\n",
      " * time: 0.029384851455688477\n",
      "    28     1.144037e+00     2.243965e-03\n",
      " * time: 0.030200958251953125\n",
      "    29     1.144037e+00     1.874886e-03\n",
      " * time: 0.031002044677734375\n",
      "    30     1.144037e+00     1.544262e-03\n",
      " * time: 0.03183603286743164\n",
      "    31     1.144037e+00     6.542114e-04\n",
      " * time: 0.03264498710632324\n",
      "    32     1.144037e+00     5.749967e-04\n",
      " * time: 0.03346896171569824\n",
      "    33     1.144037e+00     4.201780e-04\n",
      " * time: 0.03427290916442871\n",
      "    34     1.144037e+00     3.052486e-04\n",
      " * time: 0.03507685661315918\n",
      "    35     1.144037e+00     2.218025e-04\n",
      " * time: 0.03591203689575195\n",
      "    36     1.144037e+00     8.850314e-05\n",
      " * time: 0.036711931228637695\n",
      "    37     1.144037e+00     6.242544e-05\n",
      " * time: 0.037515878677368164\n",
      "    38     1.144037e+00     3.400374e-05\n",
      " * time: 0.03831601142883301\n",
      "    39     1.144037e+00     1.890886e-05\n",
      " * time: 0.03913688659667969\n",
      "    40     1.144037e+00     1.752732e-05\n",
      " * time: 0.039784908294677734\n",
      "    41     1.144037e+00     1.213723e-05\n",
      " * time: 0.04060101509094238\n",
      "    42     1.144037e+00     7.861180e-06\n",
      " * time: 0.04140496253967285\n",
      "    43     1.144037e+00     7.673147e-06\n",
      " * time: 0.04220890998840332\n",
      "    44     1.144037e+00     2.922638e-06\n",
      " * time: 0.04303789138793945\n",
      "    45     1.144037e+00     1.708880e-06\n",
      " * time: 0.04386591911315918\n",
      "    46     1.144037e+00     1.575584e-06\n",
      " * time: 0.04467487335205078\n",
      "    47     1.144037e+00     1.214949e-06\n",
      " * time: 0.04548001289367676\n",
      "    48     1.144037e+00     1.262276e-06\n",
      " * time: 0.04610395431518555\n",
      "    49     1.144037e+00     1.038160e-06\n",
      " * time: 0.046885013580322266\n",
      "    50     1.144037e+00     3.149880e-07\n",
      " * time: 0.04772591590881348\n",
      "    51     1.144037e+00     1.611810e-07\n",
      " * time: 0.048538923263549805\n",
      "    52     1.144037e+00     7.591181e-08\n",
      " * time: 0.04938983917236328\n",
      "    53     1.144037e+00     1.573919e-07\n",
      " * time: 0.05001091957092285\n",
      "    54     1.144037e+00     1.548785e-07\n",
      " * time: 0.051370859146118164\n"
     ]
    },
    {
     "output_type": "execute_result",
     "data": {
      "text/plain": "Energy breakdown:\n    Kinetic             0.2682057 \n    ExternalFromReal    0.4707475 \n    PowerNonlinearity   0.4050836 \n\n    total               1.144036852755 \n"
     },
     "metadata": {},
     "execution_count": 5
    }
   ],
   "cell_type": "code",
   "source": [
    "Ecut = 500\n",
    "basis = PlaneWaveBasis(model, Ecut, kgrid=(1, 1, 1))\n",
    "scfres = direct_minimization(basis, tol=1e-8) # This is a constrained preconditioned LBFGS\n",
    "scfres.energies"
   ],
   "metadata": {},
   "execution_count": 5
  },
  {
   "cell_type": "markdown",
   "source": [
    "## Internals\n",
    "We use the opportunity to explore some of DFTK internals.\n",
    "\n",
    "Extract the converged density and the obtained wave function:"
   ],
   "metadata": {}
  },
  {
   "outputs": [],
   "cell_type": "code",
   "source": [
    "ρ = real(scfres.ρ.real)[:, 1, 1]  # converged density\n",
    "ψ_fourier = scfres.ψ[1][:, 1];    # first kpoint, all G components, first eigenvector"
   ],
   "metadata": {},
   "execution_count": 6
  },
  {
   "cell_type": "markdown",
   "source": [
    "Transform the wave function to real space and fix the phase:"
   ],
   "metadata": {}
  },
  {
   "outputs": [],
   "cell_type": "code",
   "source": [
    "ψ = G_to_r(basis, basis.kpoints[1], ψ_fourier)[:, 1, 1]\n",
    "ψ /= (ψ[div(end, 2)] / abs(ψ[div(end, 2)]));"
   ],
   "metadata": {},
   "execution_count": 7
  },
  {
   "cell_type": "markdown",
   "source": [
    "Check whether ``ψ`` is normalised:"
   ],
   "metadata": {}
  },
  {
   "outputs": [],
   "cell_type": "code",
   "source": [
    "x = a * vec(first.(DFTK.r_vectors(basis)))\n",
    "N = length(x)\n",
    "dx = a / N  # real-space grid spacing\n",
    "@assert sum(abs2.(ψ)) * dx ≈ 1.0"
   ],
   "metadata": {},
   "execution_count": 8
  },
  {
   "cell_type": "markdown",
   "source": [
    "The density is simply built from ψ:"
   ],
   "metadata": {}
  },
  {
   "outputs": [
    {
     "output_type": "execute_result",
     "data": {
      "text/plain": "1.034897658516556e-15"
     },
     "metadata": {},
     "execution_count": 9
    }
   ],
   "cell_type": "code",
   "source": [
    "norm(scfres.ρ.real - abs2.(ψ))"
   ],
   "metadata": {},
   "execution_count": 9
  },
  {
   "cell_type": "markdown",
   "source": [
    "We summarize the ground state in a nice plot:"
   ],
   "metadata": {}
  },
  {
   "outputs": [
    {
     "output_type": "execute_result",
     "data": {
      "text/plain": "Plot{Plots.GRBackend() n=3}",
      "image/png": "[encoded data removed]",
      "text/html": [
       "<?xml version=\"1.0\" encoding=\"utf-8\"?>\n",
       "<svg xmlns=\"http://www.w3.org/2000/svg\" xmlns:xlink=\"http://www.w3.org/1999/xlink\" width=\"600\" height=\"400\" viewBox=\"0 0 2400 1600\">\n",
       "<defs>\n",
       "  <clipPath id=\"clip970\">\n",
       "    <rect x=\"0\" y=\"0\" width=\"2400\" height=\"1600\"/>\n",
       "  </clipPath>\n",
       "</defs>\n",
       "<path clip-path=\"url(#clip970)\" d=\"\n",
       "M0 1600 L2400 1600 L2400 0 L0 0  Z\n",
       "  \" fill=\"#ffffff\" fill-rule=\"evenodd\" fill-opacity=\"1\"/>\n",
       "<defs>\n",
       "  <clipPath id=\"clip971\">\n",
       "    <rect x=\"480\" y=\"0\" width=\"1681\" height=\"1600\"/>\n",
       "  </clipPath>\n",
       "</defs>\n",
       "<path clip-path=\"url(#clip970)\" d=\"\n",
       "M86.9921 1521.01 L2352.76 1521.01 L2352.76 47.2441 L86.9921 47.2441  Z\n",
       "  \" fill=\"#ffffff\" fill-rule=\"evenodd\" fill-opacity=\"1\"/>\n",
       "<defs>\n",
       "  <clipPath id=\"clip972\">\n",
       "    <rect x=\"86\" y=\"47\" width=\"2267\" height=\"1475\"/>\n",
       "  </clipPath>\n",
       "</defs>\n",
       "<polyline clip-path=\"url(#clip972)\" style=\"stroke:#000000; stroke-width:2; stroke-opacity:0.1; fill:none\" points=\"\n",
       "  151.118,1521.01 151.118,47.2441 \n",
       "  \"/>\n",
       "<polyline clip-path=\"url(#clip972)\" style=\"stroke:#000000; stroke-width:2; stroke-opacity:0.1; fill:none\" points=\"\n",
       "  687.981,1521.01 687.981,47.2441 \n",
       "  \"/>\n",
       "<polyline clip-path=\"url(#clip972)\" style=\"stroke:#000000; stroke-width:2; stroke-opacity:0.1; fill:none\" points=\"\n",
       "  1224.84,1521.01 1224.84,47.2441 \n",
       "  \"/>\n",
       "<polyline clip-path=\"url(#clip972)\" style=\"stroke:#000000; stroke-width:2; stroke-opacity:0.1; fill:none\" points=\"\n",
       "  1761.71,1521.01 1761.71,47.2441 \n",
       "  \"/>\n",
       "<polyline clip-path=\"url(#clip972)\" style=\"stroke:#000000; stroke-width:2; stroke-opacity:0.1; fill:none\" points=\"\n",
       "  2298.57,1521.01 2298.57,47.2441 \n",
       "  \"/>\n",
       "<polyline clip-path=\"url(#clip972)\" style=\"stroke:#000000; stroke-width:2; stroke-opacity:0.1; fill:none\" points=\"\n",
       "  86.9921,1479.3 2352.76,1479.3 \n",
       "  \"/>\n",
       "<polyline clip-path=\"url(#clip972)\" style=\"stroke:#000000; stroke-width:2; stroke-opacity:0.1; fill:none\" points=\"\n",
       "  86.9921,1107.38 2352.76,1107.38 \n",
       "  \"/>\n",
       "<polyline clip-path=\"url(#clip972)\" style=\"stroke:#000000; stroke-width:2; stroke-opacity:0.1; fill:none\" points=\"\n",
       "  86.9921,735.461 2352.76,735.461 \n",
       "  \"/>\n",
       "<polyline clip-path=\"url(#clip972)\" style=\"stroke:#000000; stroke-width:2; stroke-opacity:0.1; fill:none\" points=\"\n",
       "  86.9921,363.543 2352.76,363.543 \n",
       "  \"/>\n",
       "<polyline clip-path=\"url(#clip970)\" style=\"stroke:#000000; stroke-width:4; stroke-opacity:1; fill:none\" points=\"\n",
       "  86.9921,1521.01 2352.76,1521.01 \n",
       "  \"/>\n",
       "<polyline clip-path=\"url(#clip970)\" style=\"stroke:#000000; stroke-width:4; stroke-opacity:1; fill:none\" points=\"\n",
       "  86.9921,1521.01 86.9921,47.2441 \n",
       "  \"/>\n",
       "<polyline clip-path=\"url(#clip970)\" style=\"stroke:#000000; stroke-width:4; stroke-opacity:1; fill:none\" points=\"\n",
       "  151.118,1521.01 151.118,1503.32 \n",
       "  \"/>\n",
       "<polyline clip-path=\"url(#clip970)\" style=\"stroke:#000000; stroke-width:4; stroke-opacity:1; fill:none\" points=\"\n",
       "  687.981,1521.01 687.981,1503.32 \n",
       "  \"/>\n",
       "<polyline clip-path=\"url(#clip970)\" style=\"stroke:#000000; stroke-width:4; stroke-opacity:1; fill:none\" points=\"\n",
       "  1224.84,1521.01 1224.84,1503.32 \n",
       "  \"/>\n",
       "<polyline clip-path=\"url(#clip970)\" style=\"stroke:#000000; stroke-width:4; stroke-opacity:1; fill:none\" points=\"\n",
       "  1761.71,1521.01 1761.71,1503.32 \n",
       "  \"/>\n",
       "<polyline clip-path=\"url(#clip970)\" style=\"stroke:#000000; stroke-width:4; stroke-opacity:1; fill:none\" points=\"\n",
       "  2298.57,1521.01 2298.57,1503.32 \n",
       "  \"/>\n",
       "<polyline clip-path=\"url(#clip970)\" style=\"stroke:#000000; stroke-width:4; stroke-opacity:1; fill:none\" points=\"\n",
       "  86.9921,1479.3 114.181,1479.3 \n",
       "  \"/>\n",
       "<polyline clip-path=\"url(#clip970)\" style=\"stroke:#000000; stroke-width:4; stroke-opacity:1; fill:none\" points=\"\n",
       "  86.9921,1107.38 114.181,1107.38 \n",
       "  \"/>\n",
       "<polyline clip-path=\"url(#clip970)\" style=\"stroke:#000000; stroke-width:4; stroke-opacity:1; fill:none\" points=\"\n",
       "  86.9921,735.461 114.181,735.461 \n",
       "  \"/>\n",
       "<polyline clip-path=\"url(#clip970)\" style=\"stroke:#000000; stroke-width:4; stroke-opacity:1; fill:none\" points=\"\n",
       "  86.9921,363.543 114.181,363.543 \n",
       "  \"/>\n",
       "<path clip-path=\"url(#clip970)\" d=\"M 0 0 M132.634 1543 Q129.023 1543 127.194 1546.56 Q125.388 1550.11 125.388 1557.23 Q125.388 1564.34 127.194 1567.91 Q129.023 1571.45 132.634 1571.45 Q136.268 1571.45 138.074 1567.91 Q139.902 1564.34 139.902 1557.23 Q139.902 1550.11 138.074 1546.56 Q136.268 1543 132.634 1543 M132.634 1539.29 Q138.444 1539.29 141.5 1543.9 Q144.578 1548.48 144.578 1557.23 Q144.578 1565.96 141.5 1570.57 Q138.444 1575.15 132.634 1575.15 Q126.824 1575.15 123.745 1570.57 Q120.689 1565.96 120.689 1557.23 Q120.689 1548.48 123.745 1543.9 Q126.824 1539.29 132.634 1539.29 Z\" fill=\"#000000\" fill-rule=\"evenodd\" fill-opacity=\"1\" /><path clip-path=\"url(#clip970)\" d=\"M 0 0 M149.648 1568.6 L154.532 1568.6 L154.532 1574.48 L149.648 1574.48 L149.648 1568.6 Z\" fill=\"#000000\" fill-rule=\"evenodd\" fill-opacity=\"1\" /><path clip-path=\"url(#clip970)\" d=\"M 0 0 M169.601 1543 Q165.99 1543 164.161 1546.56 Q162.356 1550.11 162.356 1557.23 Q162.356 1564.34 164.161 1567.91 Q165.99 1571.45 169.601 1571.45 Q173.235 1571.45 175.041 1567.91 Q176.87 1564.34 176.87 1557.23 Q176.87 1550.11 175.041 1546.56 Q173.235 1543 169.601 1543 M169.601 1539.29 Q175.411 1539.29 178.467 1543.9 Q181.546 1548.48 181.546 1557.23 Q181.546 1565.96 178.467 1570.57 Q175.411 1575.15 169.601 1575.15 Q163.791 1575.15 160.712 1570.57 Q157.657 1565.96 157.657 1557.23 Q157.657 1548.48 160.712 1543.9 Q163.791 1539.29 169.601 1539.29 Z\" fill=\"#000000\" fill-rule=\"evenodd\" fill-opacity=\"1\" /><path clip-path=\"url(#clip970)\" d=\"M 0 0 M664.648 1570.54 L680.967 1570.54 L680.967 1574.48 L659.023 1574.48 L659.023 1570.54 Q661.685 1567.79 666.268 1563.16 Q670.875 1558.51 672.055 1557.17 Q674.301 1554.64 675.18 1552.91 Q676.083 1551.15 676.083 1549.46 Q676.083 1546.7 674.139 1544.97 Q672.217 1543.23 669.116 1543.23 Q666.917 1543.23 664.463 1543.99 Q662.032 1544.76 659.255 1546.31 L659.255 1541.59 Q662.079 1540.45 664.532 1539.87 Q666.986 1539.29 669.023 1539.29 Q674.393 1539.29 677.588 1541.98 Q680.782 1544.67 680.782 1549.16 Q680.782 1551.29 679.972 1553.21 Q679.185 1555.1 677.079 1557.7 Q676.5 1558.37 673.398 1561.59 Q670.296 1564.78 664.648 1570.54 Z\" fill=\"#000000\" fill-rule=\"evenodd\" fill-opacity=\"1\" /><path clip-path=\"url(#clip970)\" d=\"M 0 0 M686.037 1568.6 L690.921 1568.6 L690.921 1574.48 L686.037 1574.48 L686.037 1568.6 Z\" fill=\"#000000\" fill-rule=\"evenodd\" fill-opacity=\"1\" /><path clip-path=\"url(#clip970)\" d=\"M 0 0 M696.037 1539.92 L714.393 1539.92 L714.393 1543.86 L700.319 1543.86 L700.319 1552.33 Q701.338 1551.98 702.356 1551.82 Q703.375 1551.63 704.393 1551.63 Q710.18 1551.63 713.56 1554.8 Q716.939 1557.98 716.939 1563.39 Q716.939 1568.97 713.467 1572.07 Q709.995 1575.15 703.676 1575.15 Q701.5 1575.15 699.231 1574.78 Q696.986 1574.41 694.578 1573.67 L694.578 1568.97 Q696.662 1570.1 698.884 1570.66 Q701.106 1571.22 703.583 1571.22 Q707.588 1571.22 709.926 1569.11 Q712.264 1567 712.264 1563.39 Q712.264 1559.78 709.926 1557.67 Q707.588 1555.57 703.583 1555.57 Q701.708 1555.57 699.833 1555.98 Q697.981 1556.4 696.037 1557.28 L696.037 1539.92 Z\" fill=\"#000000\" fill-rule=\"evenodd\" fill-opacity=\"1\" /><path clip-path=\"url(#clip970)\" d=\"M 0 0 M1196.64 1539.92 L1215 1539.92 L1215 1543.86 L1200.92 1543.86 L1200.92 1552.33 Q1201.94 1551.98 1202.96 1551.82 Q1203.98 1551.63 1205 1551.63 Q1210.78 1551.63 1214.16 1554.8 Q1217.54 1557.98 1217.54 1563.39 Q1217.54 1568.97 1214.07 1572.07 Q1210.6 1575.15 1204.28 1575.15 Q1202.1 1575.15 1199.83 1574.78 Q1197.59 1574.41 1195.18 1573.67 L1195.18 1568.97 Q1197.26 1570.1 1199.49 1570.66 Q1201.71 1571.22 1204.19 1571.22 Q1208.19 1571.22 1210.53 1569.11 Q1212.87 1567 1212.87 1563.39 Q1212.87 1559.78 1210.53 1557.67 Q1208.19 1555.57 1204.19 1555.57 Q1202.31 1555.57 1200.44 1555.98 Q1198.58 1556.4 1196.64 1557.28 L1196.64 1539.92 Z\" fill=\"#000000\" fill-rule=\"evenodd\" fill-opacity=\"1\" /><path clip-path=\"url(#clip970)\" d=\"M 0 0 M1222.61 1568.6 L1227.5 1568.6 L1227.5 1574.48 L1222.61 1574.48 L1222.61 1568.6 Z\" fill=\"#000000\" fill-rule=\"evenodd\" fill-opacity=\"1\" /><path clip-path=\"url(#clip970)\" d=\"M 0 0 M1242.56 1543 Q1238.95 1543 1237.13 1546.56 Q1235.32 1550.11 1235.32 1557.23 Q1235.32 1564.34 1237.13 1567.91 Q1238.95 1571.45 1242.56 1571.45 Q1246.2 1571.45 1248 1567.91 Q1249.83 1564.34 1249.83 1557.23 Q1249.83 1550.11 1248 1546.56 Q1246.2 1543 1242.56 1543 M1242.56 1539.29 Q1248.37 1539.29 1251.43 1543.9 Q1254.51 1548.48 1254.51 1557.23 Q1254.51 1565.96 1251.43 1570.57 Q1248.37 1575.15 1242.56 1575.15 Q1236.75 1575.15 1233.68 1570.57 Q1230.62 1565.96 1230.62 1557.23 Q1230.62 1548.48 1233.68 1543.9 Q1236.75 1539.29 1242.56 1539.29 Z\" fill=\"#000000\" fill-rule=\"evenodd\" fill-opacity=\"1\" /><path clip-path=\"url(#clip970)\" d=\"M 0 0 M1732.61 1539.92 L1754.83 1539.92 L1754.83 1541.91 L1742.29 1574.48 L1737.4 1574.48 L1749.21 1543.86 L1732.61 1543.86 L1732.61 1539.92 Z\" fill=\"#000000\" fill-rule=\"evenodd\" fill-opacity=\"1\" /><path clip-path=\"url(#clip970)\" d=\"M 0 0 M1759.9 1568.6 L1764.79 1568.6 L1764.79 1574.48 L1759.9 1574.48 L1759.9 1568.6 Z\" fill=\"#000000\" fill-rule=\"evenodd\" fill-opacity=\"1\" /><path clip-path=\"url(#clip970)\" d=\"M 0 0 M1769.9 1539.92 L1788.26 1539.92 L1788.26 1543.86 L1774.19 1543.86 L1774.19 1552.33 Q1775.2 1551.98 1776.22 1551.82 Q1777.24 1551.63 1778.26 1551.63 Q1784.05 1551.63 1787.43 1554.8 Q1790.81 1557.98 1790.81 1563.39 Q1790.81 1568.97 1787.33 1572.07 Q1783.86 1575.15 1777.54 1575.15 Q1775.37 1575.15 1773.1 1574.78 Q1770.85 1574.41 1768.44 1573.67 L1768.44 1568.97 Q1770.53 1570.1 1772.75 1570.66 Q1774.97 1571.22 1777.45 1571.22 Q1781.45 1571.22 1783.79 1569.11 Q1786.13 1567 1786.13 1563.39 Q1786.13 1559.78 1783.79 1557.67 Q1781.45 1555.57 1777.45 1555.57 Q1775.57 1555.57 1773.7 1555.98 Q1771.85 1556.4 1769.9 1557.28 L1769.9 1539.92 Z\" fill=\"#000000\" fill-rule=\"evenodd\" fill-opacity=\"1\" /><path clip-path=\"url(#clip970)\" d=\"M 0 0 M2256.96 1570.54 L2264.6 1570.54 L2264.6 1544.18 L2256.29 1545.85 L2256.29 1541.59 L2264.56 1539.92 L2269.23 1539.92 L2269.23 1570.54 L2276.87 1570.54 L2276.87 1574.48 L2256.96 1574.48 L2256.96 1570.54 Z\" fill=\"#000000\" fill-rule=\"evenodd\" fill-opacity=\"1\" /><path clip-path=\"url(#clip970)\" d=\"M 0 0 M2291.94 1543 Q2288.33 1543 2286.5 1546.56 Q2284.7 1550.11 2284.7 1557.23 Q2284.7 1564.34 2286.5 1567.91 Q2288.33 1571.45 2291.94 1571.45 Q2295.57 1571.45 2297.38 1567.91 Q2299.21 1564.34 2299.21 1557.23 Q2299.21 1550.11 2297.38 1546.56 Q2295.57 1543 2291.94 1543 M2291.94 1539.29 Q2297.75 1539.29 2300.81 1543.9 Q2303.88 1548.48 2303.88 1557.23 Q2303.88 1565.96 2300.81 1570.57 Q2297.75 1575.15 2291.94 1575.15 Q2286.13 1575.15 2283.05 1570.57 Q2280 1565.96 2280 1557.23 Q2280 1548.48 2283.05 1543.9 Q2286.13 1539.29 2291.94 1539.29 Z\" fill=\"#000000\" fill-rule=\"evenodd\" fill-opacity=\"1\" /><path clip-path=\"url(#clip970)\" d=\"M 0 0 M2308.95 1568.6 L2313.84 1568.6 L2313.84 1574.48 L2308.95 1574.48 L2308.95 1568.6 Z\" fill=\"#000000\" fill-rule=\"evenodd\" fill-opacity=\"1\" /><path clip-path=\"url(#clip970)\" d=\"M 0 0 M2328.91 1543 Q2325.3 1543 2323.47 1546.56 Q2321.66 1550.11 2321.66 1557.23 Q2321.66 1564.34 2323.47 1567.91 Q2325.3 1571.45 2328.91 1571.45 Q2332.54 1571.45 2334.35 1567.91 Q2336.18 1564.34 2336.18 1557.23 Q2336.18 1550.11 2334.35 1546.56 Q2332.54 1543 2328.91 1543 M2328.91 1539.29 Q2334.72 1539.29 2337.77 1543.9 Q2340.85 1548.48 2340.85 1557.23 Q2340.85 1565.96 2337.77 1570.57 Q2334.72 1575.15 2328.91 1575.15 Q2323.1 1575.15 2320.02 1570.57 Q2316.96 1565.96 2316.96 1557.23 Q2316.96 1548.48 2320.02 1543.9 Q2323.1 1539.29 2328.91 1539.29 Z\" fill=\"#000000\" fill-rule=\"evenodd\" fill-opacity=\"1\" /><path clip-path=\"url(#clip970)\" d=\"M 0 0 M14.0804 1465.1 Q10.4693 1465.1 8.64057 1468.66 Q6.83502 1472.2 6.83502 1479.33 Q6.83502 1486.44 8.64057 1490 Q10.4693 1493.55 14.0804 1493.55 Q17.7146 1493.55 19.5201 1490 Q21.3488 1486.44 21.3488 1479.33 Q21.3488 1472.2 19.5201 1468.66 Q17.7146 1465.1 14.0804 1465.1 M14.0804 1461.39 Q19.8905 1461.39 22.946 1466 Q26.0247 1470.58 26.0247 1479.33 Q26.0247 1488.06 22.946 1492.67 Q19.8905 1497.25 14.0804 1497.25 Q8.2702 1497.25 5.19151 1492.67 Q2.13597 1488.06 2.13597 1479.33 Q2.13597 1470.58 5.19151 1466 Q8.2702 1461.39 14.0804 1461.39 Z\" fill=\"#000000\" fill-rule=\"evenodd\" fill-opacity=\"1\" /><path clip-path=\"url(#clip970)\" d=\"M 0 0 M31.0941 1490.7 L35.9784 1490.7 L35.9784 1496.58 L31.0941 1496.58 L31.0941 1490.7 Z\" fill=\"#000000\" fill-rule=\"evenodd\" fill-opacity=\"1\" /><path clip-path=\"url(#clip970)\" d=\"M 0 0 M51.0477 1465.1 Q47.4367 1465.1 45.608 1468.66 Q43.8024 1472.2 43.8024 1479.33 Q43.8024 1486.44 45.608 1490 Q47.4367 1493.55 51.0477 1493.55 Q54.682 1493.55 56.4875 1490 Q58.3162 1486.44 58.3162 1479.33 Q58.3162 1472.2 56.4875 1468.66 Q54.682 1465.1 51.0477 1465.1 M51.0477 1461.39 Q56.8579 1461.39 59.9134 1466 Q62.9921 1470.58 62.9921 1479.33 Q62.9921 1488.06 59.9134 1492.67 Q56.8579 1497.25 51.0477 1497.25 Q45.2376 1497.25 42.1589 1492.67 Q39.1034 1488.06 39.1034 1479.33 Q39.1034 1470.58 42.1589 1466 Q45.2376 1461.39 51.0477 1461.39 Z\" fill=\"#000000\" fill-rule=\"evenodd\" fill-opacity=\"1\" /><path clip-path=\"url(#clip970)\" d=\"M 0 0 M15.6776 1093.18 Q12.0665 1093.18 10.2378 1096.74 Q8.43223 1100.28 8.43223 1107.41 Q8.43223 1114.52 10.2378 1118.09 Q12.0665 1121.63 15.6776 1121.63 Q19.3118 1121.63 21.1174 1118.09 Q22.946 1114.52 22.946 1107.41 Q22.946 1100.28 21.1174 1096.74 Q19.3118 1093.18 15.6776 1093.18 M15.6776 1089.47 Q21.4877 1089.47 24.5433 1094.08 Q27.6219 1098.66 27.6219 1107.41 Q27.6219 1116.14 24.5433 1120.75 Q21.4877 1125.33 15.6776 1125.33 Q9.86741 1125.33 6.78872 1120.75 Q3.73318 1116.14 3.73318 1107.41 Q3.73318 1098.66 6.78872 1094.08 Q9.86741 1089.47 15.6776 1089.47 Z\" fill=\"#000000\" fill-rule=\"evenodd\" fill-opacity=\"1\" /><path clip-path=\"url(#clip970)\" d=\"M 0 0 M32.6914 1118.78 L37.5756 1118.78 L37.5756 1124.66 L32.6914 1124.66 L32.6914 1118.78 Z\" fill=\"#000000\" fill-rule=\"evenodd\" fill-opacity=\"1\" /><path clip-path=\"url(#clip970)\" d=\"M 0 0 M46.6728 1120.72 L62.9921 1120.72 L62.9921 1124.66 L41.0478 1124.66 L41.0478 1120.72 Q43.7098 1117.97 48.2931 1113.34 Q52.8996 1108.69 54.0801 1107.34 Q56.3255 1104.82 57.2051 1103.09 Q58.1079 1101.33 58.1079 1099.64 Q58.1079 1096.88 56.1635 1095.15 Q54.2422 1093.41 51.1403 1093.41 Q48.9413 1093.41 46.4876 1094.17 Q44.057 1094.94 41.2793 1096.49 L41.2793 1091.77 Q44.1033 1090.63 46.557 1090.05 Q49.0107 1089.47 51.0477 1089.47 Q56.4181 1089.47 59.6125 1092.16 Q62.8069 1094.84 62.8069 1099.34 Q62.8069 1101.46 61.9968 1103.39 Q61.2097 1105.28 59.1033 1107.88 Q58.5246 1108.55 55.4227 1111.77 Q52.3209 1114.96 46.6728 1120.72 Z\" fill=\"#000000\" fill-rule=\"evenodd\" fill-opacity=\"1\" /><path clip-path=\"url(#clip970)\" d=\"M 0 0 M13.5942 721.26 Q9.98315 721.26 8.15446 724.825 Q6.34891 728.366 6.34891 735.496 Q6.34891 742.602 8.15446 746.167 Q9.98315 749.709 13.5942 749.709 Q17.2285 749.709 19.034 746.167 Q20.8627 742.602 20.8627 735.496 Q20.8627 728.366 19.034 724.825 Q17.2285 721.26 13.5942 721.26 M13.5942 717.556 Q19.4044 717.556 22.4599 722.162 Q25.5386 726.746 25.5386 735.496 Q25.5386 744.223 22.4599 748.829 Q19.4044 753.412 13.5942 753.412 Q7.78409 753.412 4.7054 748.829 Q1.64986 744.223 1.64986 735.496 Q1.64986 726.746 4.7054 722.162 Q7.78409 717.556 13.5942 717.556 Z\" fill=\"#000000\" fill-rule=\"evenodd\" fill-opacity=\"1\" /><path clip-path=\"url(#clip970)\" d=\"M 0 0 M30.608 746.861 L35.4923 746.861 L35.4923 752.741 L30.608 752.741 L30.608 746.861 Z\" fill=\"#000000\" fill-rule=\"evenodd\" fill-opacity=\"1\" /><path clip-path=\"url(#clip970)\" d=\"M 0 0 M53.4088 722.255 L41.6034 740.704 L53.4088 740.704 L53.4088 722.255 M52.182 718.181 L58.0616 718.181 L58.0616 740.704 L62.9921 740.704 L62.9921 744.593 L58.0616 744.593 L58.0616 752.741 L53.4088 752.741 L53.4088 744.593 L37.8071 744.593 L37.8071 740.079 L52.182 718.181 Z\" fill=\"#000000\" fill-rule=\"evenodd\" fill-opacity=\"1\" /><path clip-path=\"url(#clip970)\" d=\"M 0 0 M13.9183 349.341 Q10.3072 349.341 8.47853 352.906 Q6.67298 356.448 6.67298 363.577 Q6.67298 370.684 8.47853 374.249 Q10.3072 377.79 13.9183 377.79 Q17.5526 377.79 19.3581 374.249 Q21.1868 370.684 21.1868 363.577 Q21.1868 356.448 19.3581 352.906 Q17.5526 349.341 13.9183 349.341 M13.9183 345.638 Q19.7285 345.638 22.784 350.244 Q25.8627 354.828 25.8627 363.577 Q25.8627 372.304 22.784 376.911 Q19.7285 381.494 13.9183 381.494 Q8.10816 381.494 5.02947 376.911 Q1.97393 372.304 1.97393 363.577 Q1.97393 354.828 5.02947 350.244 Q8.10816 345.638 13.9183 345.638 Z\" fill=\"#000000\" fill-rule=\"evenodd\" fill-opacity=\"1\" /><path clip-path=\"url(#clip970)\" d=\"M 0 0 M30.9321 374.943 L35.8163 374.943 L35.8163 380.823 L30.9321 380.823 L30.9321 374.943 Z\" fill=\"#000000\" fill-rule=\"evenodd\" fill-opacity=\"1\" /><path clip-path=\"url(#clip970)\" d=\"M 0 0 M51.4644 361.679 Q48.3163 361.679 46.4644 363.832 Q44.6357 365.985 44.6357 369.735 Q44.6357 373.462 46.4644 375.638 Q48.3163 377.79 51.4644 377.79 Q54.6125 377.79 56.4412 375.638 Q58.2931 373.462 58.2931 369.735 Q58.2931 365.985 56.4412 363.832 Q54.6125 361.679 51.4644 361.679 M60.7468 347.027 L60.7468 351.286 Q58.9875 350.453 57.182 350.013 Q55.3996 349.573 53.6403 349.573 Q49.0107 349.573 46.557 352.698 Q44.1265 355.823 43.7793 362.142 Q45.145 360.128 47.2052 359.064 Q49.2653 357.976 51.7422 357.976 Q56.9505 357.976 59.9597 361.147 Q62.9921 364.295 62.9921 369.735 Q62.9921 375.059 59.844 378.276 Q56.6959 381.494 51.4644 381.494 Q45.4691 381.494 42.2978 376.911 Q39.1265 372.304 39.1265 363.577 Q39.1265 355.383 43.0154 350.522 Q46.9042 345.638 53.4551 345.638 Q55.2144 345.638 56.9968 345.985 Q58.8023 346.332 60.7468 347.027 Z\" fill=\"#000000\" fill-rule=\"evenodd\" fill-opacity=\"1\" /><polyline clip-path=\"url(#clip972)\" style=\"stroke:#009af9; stroke-width:4; stroke-opacity:1; fill:none\" points=\"\n",
       "  151.118,1479.3 161.059,1479.3 171.001,1479.3 180.943,1479.3 190.885,1479.3 200.827,1479.3 210.769,1479.3 220.711,1479.3 230.653,1479.3 240.595,1479.3 \n",
       "  250.537,1479.3 260.479,1479.3 270.421,1479.29 280.362,1479.29 290.304,1479.29 300.246,1479.29 310.188,1479.29 320.13,1479.28 330.072,1479.28 340.014,1479.27 \n",
       "  349.956,1479.27 359.898,1479.26 369.84,1479.25 379.782,1479.23 389.724,1479.22 399.666,1479.19 409.607,1479.16 419.549,1479.13 429.491,1479.08 439.433,1479.03 \n",
       "  449.375,1478.95 459.317,1478.87 469.259,1478.76 479.201,1478.63 489.143,1478.46 499.085,1478.26 509.027,1478.02 518.969,1477.72 528.911,1477.36 538.852,1476.93 \n",
       "  548.794,1476.4 558.736,1475.78 568.678,1475.03 578.62,1474.14 588.562,1473.08 598.504,1471.83 608.446,1470.36 618.388,1468.63 628.33,1466.61 638.272,1464.25 \n",
       "  648.214,1461.51 658.155,1458.33 668.097,1454.67 678.039,1450.47 687.981,1445.65 697.923,1440.15 707.865,1433.91 717.807,1426.83 727.749,1418.85 737.691,1409.89 \n",
       "  747.633,1399.85 757.575,1388.66 767.517,1376.22 777.459,1362.47 787.4,1347.31 797.342,1330.68 807.284,1312.5 817.226,1292.72 827.168,1271.28 837.11,1248.14 \n",
       "  847.052,1223.27 856.994,1196.67 866.936,1168.34 876.878,1138.29 886.82,1106.58 896.762,1073.25 906.704,1038.39 916.645,1002.11 926.587,964.505 936.529,925.73 \n",
       "  946.471,885.935 956.413,845.288 966.355,803.974 976.297,762.188 986.239,720.132 996.181,678.015 1006.12,636.049 1016.06,594.446 1026.01,553.416 1035.95,513.162 \n",
       "  1045.89,473.884 1055.83,435.769 1065.77,398.994 1075.72,363.725 1085.66,330.115 1095.6,298.302 1105.54,268.414 1115.48,240.562 1125.43,214.845 1135.37,191.35 \n",
       "  1145.31,170.152 1155.25,151.313 1165.19,134.889 1175.14,120.922 1185.08,109.449 1195.02,100.498 1204.96,94.0896 1214.9,90.2389 1224.84,88.9544 1234.79,90.2389 \n",
       "  1244.73,94.0896 1254.67,100.498 1264.61,109.449 1274.55,120.922 1284.5,134.889 1294.44,151.313 1304.38,170.152 1314.32,191.35 1324.26,214.845 1334.21,240.562 \n",
       "  1344.15,268.414 1354.09,298.302 1364.03,330.115 1373.97,363.725 1383.92,398.994 1393.86,435.769 1403.8,473.884 1413.74,513.162 1423.68,553.416 1433.63,594.446 \n",
       "  1443.57,636.049 1453.51,678.015 1463.45,720.132 1473.39,762.188 1483.33,803.974 1493.28,845.288 1503.22,885.935 1513.16,925.73 1523.1,964.505 1533.04,1002.11 \n",
       "  1542.99,1038.39 1552.93,1073.25 1562.87,1106.58 1572.81,1138.29 1582.75,1168.34 1592.7,1196.67 1602.64,1223.27 1612.58,1248.14 1622.52,1271.28 1632.46,1292.72 \n",
       "  1642.41,1312.5 1652.35,1330.68 1662.29,1347.31 1672.23,1362.47 1682.17,1376.22 1692.12,1388.66 1702.06,1399.85 1712,1409.89 1721.94,1418.85 1731.88,1426.83 \n",
       "  1741.82,1433.91 1751.77,1440.15 1761.71,1445.65 1771.65,1450.47 1781.59,1454.67 1791.53,1458.33 1801.48,1461.51 1811.42,1464.25 1821.36,1466.61 1831.3,1468.63 \n",
       "  1841.24,1470.36 1851.19,1471.83 1861.13,1473.08 1871.07,1474.14 1881.01,1475.03 1890.95,1475.78 1900.9,1476.4 1910.84,1476.93 1920.78,1477.36 1930.72,1477.72 \n",
       "  1940.66,1478.02 1950.61,1478.26 1960.55,1478.46 1970.49,1478.63 1980.43,1478.76 1990.37,1478.87 2000.31,1478.95 2010.26,1479.03 2020.2,1479.08 2030.14,1479.13 \n",
       "  2040.08,1479.16 2050.02,1479.19 2059.97,1479.22 2069.91,1479.23 2079.85,1479.25 2089.79,1479.26 2099.73,1479.27 2109.68,1479.27 2119.62,1479.28 2129.56,1479.28 \n",
       "  2139.5,1479.29 2149.44,1479.29 2159.39,1479.29 2169.33,1479.29 2179.27,1479.29 2189.21,1479.3 2199.15,1479.3 2209.1,1479.3 2219.04,1479.3 2228.98,1479.3 \n",
       "  2238.92,1479.3 2248.86,1479.3 2258.8,1479.3 2268.75,1479.3 2278.69,1479.3 2288.63,1479.3 \n",
       "  \"/>\n",
       "<polyline clip-path=\"url(#clip972)\" style=\"stroke:#e26f46; stroke-width:4; stroke-opacity:1; fill:none\" points=\"\n",
       "  151.118,1479.3 161.059,1479.3 171.001,1479.3 180.943,1479.3 190.885,1479.3 200.827,1479.3 210.769,1479.3 220.711,1479.3 230.653,1479.3 240.595,1479.3 \n",
       "  250.537,1479.3 260.479,1479.3 270.421,1479.3 280.362,1479.3 290.304,1479.3 300.246,1479.3 310.188,1479.3 320.13,1479.3 330.072,1479.3 340.014,1479.3 \n",
       "  349.956,1479.3 359.898,1479.3 369.84,1479.3 379.782,1479.3 389.724,1479.3 399.666,1479.3 409.607,1479.3 419.549,1479.3 429.491,1479.3 439.433,1479.3 \n",
       "  449.375,1479.3 459.317,1479.3 469.259,1479.3 479.201,1479.3 489.143,1479.3 499.085,1479.3 509.027,1479.3 518.969,1479.3 528.911,1479.3 538.852,1479.3 \n",
       "  548.794,1479.3 558.736,1479.3 568.678,1479.3 578.62,1479.3 588.562,1479.3 598.504,1479.3 608.446,1479.3 618.388,1479.3 628.33,1479.3 638.272,1479.3 \n",
       "  648.214,1479.3 658.155,1479.3 668.097,1479.3 678.039,1479.3 687.981,1479.3 697.923,1479.3 707.865,1479.3 717.807,1479.3 727.749,1479.3 737.691,1479.3 \n",
       "  747.633,1479.3 757.575,1479.3 767.517,1479.3 777.459,1479.3 787.4,1479.3 797.342,1479.3 807.284,1479.3 817.226,1479.3 827.168,1479.3 837.11,1479.3 \n",
       "  847.052,1479.3 856.994,1479.3 866.936,1479.3 876.878,1479.3 886.82,1479.3 896.762,1479.3 906.704,1479.3 916.645,1479.3 926.587,1479.3 936.529,1479.3 \n",
       "  946.471,1479.3 956.413,1479.3 966.355,1479.3 976.297,1479.3 986.239,1479.3 996.181,1479.3 1006.12,1479.3 1016.06,1479.3 1026.01,1479.3 1035.95,1479.3 \n",
       "  1045.89,1479.3 1055.83,1479.3 1065.77,1479.3 1075.72,1479.3 1085.66,1479.3 1095.6,1479.3 1105.54,1479.3 1115.48,1479.3 1125.43,1479.3 1135.37,1479.3 \n",
       "  1145.31,1479.3 1155.25,1479.3 1165.19,1479.3 1175.14,1479.3 1185.08,1479.3 1195.02,1479.3 1204.96,1479.3 1214.9,1479.3 1224.84,1479.3 1234.79,1479.3 \n",
       "  1244.73,1479.3 1254.67,1479.3 1264.61,1479.3 1274.55,1479.3 1284.5,1479.3 1294.44,1479.3 1304.38,1479.3 1314.32,1479.3 1324.26,1479.3 1334.21,1479.3 \n",
       "  1344.15,1479.3 1354.09,1479.3 1364.03,1479.3 1373.97,1479.3 1383.92,1479.3 1393.86,1479.3 1403.8,1479.3 1413.74,1479.3 1423.68,1479.3 1433.63,1479.3 \n",
       "  1443.57,1479.3 1453.51,1479.3 1463.45,1479.3 1473.39,1479.3 1483.33,1479.3 1493.28,1479.3 1503.22,1479.3 1513.16,1479.3 1523.1,1479.3 1533.04,1479.3 \n",
       "  1542.99,1479.3 1552.93,1479.3 1562.87,1479.3 1572.81,1479.3 1582.75,1479.3 1592.7,1479.3 1602.64,1479.3 1612.58,1479.3 1622.52,1479.3 1632.46,1479.3 \n",
       "  1642.41,1479.3 1652.35,1479.3 1662.29,1479.3 1672.23,1479.3 1682.17,1479.3 1692.12,1479.3 1702.06,1479.3 1712,1479.3 1721.94,1479.3 1731.88,1479.3 \n",
       "  1741.82,1479.3 1751.77,1479.3 1761.71,1479.3 1771.65,1479.3 1781.59,1479.3 1791.53,1479.3 1801.48,1479.3 1811.42,1479.3 1821.36,1479.3 1831.3,1479.3 \n",
       "  1841.24,1479.3 1851.19,1479.3 1861.13,1479.3 1871.07,1479.3 1881.01,1479.3 1890.95,1479.3 1900.9,1479.3 1910.84,1479.3 1920.78,1479.3 1930.72,1479.3 \n",
       "  1940.66,1479.3 1950.61,1479.3 1960.55,1479.3 1970.49,1479.3 1980.43,1479.3 1990.37,1479.3 2000.31,1479.3 2010.26,1479.3 2020.2,1479.3 2030.14,1479.3 \n",
       "  2040.08,1479.3 2050.02,1479.3 2059.97,1479.3 2069.91,1479.3 2079.85,1479.3 2089.79,1479.3 2099.73,1479.3 2109.68,1479.3 2119.62,1479.3 2129.56,1479.3 \n",
       "  2139.5,1479.3 2149.44,1479.3 2159.39,1479.3 2169.33,1479.3 2179.27,1479.3 2189.21,1479.3 2199.15,1479.3 2209.1,1479.3 2219.04,1479.3 2228.98,1479.3 \n",
       "  2238.92,1479.3 2248.86,1479.3 2258.8,1479.3 2268.75,1479.3 2278.69,1479.3 2288.63,1479.3 \n",
       "  \"/>\n",
       "<polyline clip-path=\"url(#clip972)\" style=\"stroke:#3da44d; stroke-width:4; stroke-opacity:1; fill:none\" points=\"\n",
       "  151.118,1479.3 161.059,1479.3 171.001,1479.3 180.943,1479.3 190.885,1479.3 200.827,1479.3 210.769,1479.3 220.711,1479.3 230.653,1479.3 240.595,1479.3 \n",
       "  250.537,1479.3 260.479,1479.3 270.421,1479.3 280.362,1479.3 290.304,1479.3 300.246,1479.3 310.188,1479.3 320.13,1479.3 330.072,1479.3 340.014,1479.3 \n",
       "  349.956,1479.3 359.898,1479.3 369.84,1479.3 379.782,1479.3 389.724,1479.3 399.666,1479.3 409.607,1479.3 419.549,1479.3 429.491,1479.3 439.433,1479.3 \n",
       "  449.375,1479.3 459.317,1479.3 469.259,1479.3 479.201,1479.3 489.143,1479.3 499.085,1479.3 509.027,1479.3 518.969,1479.3 528.911,1479.3 538.852,1479.29 \n",
       "  548.794,1479.29 558.736,1479.29 568.678,1479.29 578.62,1479.28 588.562,1479.28 598.504,1479.27 608.446,1479.25 618.388,1479.24 628.33,1479.21 638.272,1479.18 \n",
       "  648.214,1479.13 658.155,1479.06 668.097,1478.97 678.039,1478.85 687.981,1478.69 697.923,1478.47 707.865,1478.19 717.807,1477.82 727.749,1477.33 737.691,1476.71 \n",
       "  747.633,1475.9 757.575,1474.88 767.517,1473.58 777.459,1471.96 787.4,1469.93 797.342,1467.42 807.284,1464.34 817.226,1460.58 827.168,1456.03 837.11,1450.56 \n",
       "  847.052,1444.05 856.994,1436.34 866.936,1427.3 876.878,1416.76 886.82,1404.59 896.762,1390.64 906.704,1374.76 916.645,1356.84 926.587,1336.79 936.529,1314.51 \n",
       "  946.471,1289.97 956.413,1263.14 966.355,1234.05 976.297,1202.76 986.239,1169.37 996.181,1134.03 1006.12,1096.92 1016.06,1058.26 1026.01,1018.31 1035.95,977.35 \n",
       "  1045.89,935.707 1055.83,893.71 1065.77,851.71 1075.72,810.063 1085.66,769.13 1095.6,729.267 1105.54,690.824 1115.48,654.135 1125.43,619.517 1135.37,587.269 \n",
       "  1145.31,557.663 1155.25,530.948 1165.19,507.345 1175.14,487.045 1185.08,470.213 1195.02,456.982 1204.96,447.457 1214.9,441.713 1224.84,439.793 1234.79,441.713 \n",
       "  1244.73,447.457 1254.67,456.982 1264.61,470.213 1274.55,487.045 1284.5,507.345 1294.44,530.948 1304.38,557.663 1314.32,587.269 1324.26,619.517 1334.21,654.135 \n",
       "  1344.15,690.824 1354.09,729.267 1364.03,769.13 1373.97,810.063 1383.92,851.71 1393.86,893.71 1403.8,935.707 1413.74,977.35 1423.68,1018.31 1433.63,1058.26 \n",
       "  1443.57,1096.92 1453.51,1134.03 1463.45,1169.37 1473.39,1202.76 1483.33,1234.05 1493.28,1263.14 1503.22,1289.97 1513.16,1314.51 1523.1,1336.79 1533.04,1356.84 \n",
       "  1542.99,1374.76 1552.93,1390.64 1562.87,1404.59 1572.81,1416.76 1582.75,1427.3 1592.7,1436.34 1602.64,1444.05 1612.58,1450.56 1622.52,1456.03 1632.46,1460.58 \n",
       "  1642.41,1464.34 1652.35,1467.42 1662.29,1469.93 1672.23,1471.96 1682.17,1473.58 1692.12,1474.88 1702.06,1475.9 1712,1476.71 1721.94,1477.33 1731.88,1477.82 \n",
       "  1741.82,1478.19 1751.77,1478.47 1761.71,1478.69 1771.65,1478.85 1781.59,1478.97 1791.53,1479.06 1801.48,1479.13 1811.42,1479.18 1821.36,1479.21 1831.3,1479.24 \n",
       "  1841.24,1479.25 1851.19,1479.27 1861.13,1479.28 1871.07,1479.28 1881.01,1479.29 1890.95,1479.29 1900.9,1479.29 1910.84,1479.29 1920.78,1479.3 1930.72,1479.3 \n",
       "  1940.66,1479.3 1950.61,1479.3 1960.55,1479.3 1970.49,1479.3 1980.43,1479.3 1990.37,1479.3 2000.31,1479.3 2010.26,1479.3 2020.2,1479.3 2030.14,1479.3 \n",
       "  2040.08,1479.3 2050.02,1479.3 2059.97,1479.3 2069.91,1479.3 2079.85,1479.3 2089.79,1479.3 2099.73,1479.3 2109.68,1479.3 2119.62,1479.3 2129.56,1479.3 \n",
       "  2139.5,1479.3 2149.44,1479.3 2159.39,1479.3 2169.33,1479.3 2179.27,1479.3 2189.21,1479.3 2199.15,1479.3 2209.1,1479.3 2219.04,1479.3 2228.98,1479.3 \n",
       "  2238.92,1479.3 2248.86,1479.3 2258.8,1479.3 2268.75,1479.3 2278.69,1479.3 2288.63,1479.3 \n",
       "  \"/>\n",
       "<path clip-path=\"url(#clip970)\" d=\"\n",
       "M1958.15 277.81 L2352.76 277.81 L2352.76 35.8896 L1958.15 35.8896  Z\n",
       "  \" fill=\"#ffffff\" fill-rule=\"evenodd\" fill-opacity=\"1\"/>\n",
       "<polyline clip-path=\"url(#clip970)\" style=\"stroke:#000000; stroke-width:4; stroke-opacity:1; fill:none\" points=\"\n",
       "  1958.15,277.81 2352.76,277.81 2352.76,35.8896 1958.15,35.8896 1958.15,277.81 \n",
       "  \"/>\n",
       "<polyline clip-path=\"url(#clip970)\" style=\"stroke:#009af9; stroke-width:4; stroke-opacity:1; fill:none\" points=\"\n",
       "  1982.15,96.3696 2126.15,96.3696 \n",
       "  \"/>\n",
       "<path clip-path=\"url(#clip970)\" d=\"M 0 0 M2165.34 91.7052 Q2164.62 91.2886 2163.76 91.1034 Q2162.93 90.895 2161.91 90.895 Q2158.3 90.895 2156.35 93.2561 Q2154.43 95.5941 2154.43 99.9922 L2154.43 113.65 L2150.15 113.65 L2150.15 87.7238 L2154.43 87.7238 L2154.43 91.7515 Q2155.78 89.3904 2157.93 88.2562 Q2160.08 87.0988 2163.16 87.0988 Q2163.6 87.0988 2164.13 87.1682 Q2164.66 87.2145 2165.31 87.3303 L2165.34 91.7052 Z\" fill=\"#000000\" fill-rule=\"evenodd\" fill-opacity=\"1\" /><path clip-path=\"url(#clip970)\" d=\"M 0 0 M2190.94 99.6219 L2190.94 101.705 L2171.35 101.705 Q2171.63 106.103 2173.99 108.418 Q2176.38 110.71 2180.61 110.71 Q2183.07 110.71 2185.36 110.108 Q2187.67 109.506 2189.94 108.302 L2189.94 112.33 Q2187.65 113.302 2185.24 113.812 Q2182.84 114.321 2180.36 114.321 Q2174.15 114.321 2170.52 110.71 Q2166.91 107.099 2166.91 100.941 Q2166.91 94.5756 2170.34 90.8488 Q2173.78 87.0988 2179.62 87.0988 Q2184.85 87.0988 2187.88 90.4784 Q2190.94 93.8348 2190.94 99.6219 M2186.68 98.3719 Q2186.63 94.8765 2184.71 92.7932 Q2182.81 90.7099 2179.66 90.7099 Q2176.1 90.7099 2173.95 92.7237 Q2171.82 94.7376 2171.49 98.395 L2186.68 98.3719 Z\" fill=\"#000000\" fill-rule=\"evenodd\" fill-opacity=\"1\" /><path clip-path=\"url(#clip970)\" d=\"M 0 0 M2207.19 100.617 Q2202.02 100.617 2200.03 101.798 Q2198.04 102.978 2198.04 105.826 Q2198.04 108.094 2199.52 109.437 Q2201.03 110.756 2203.6 110.756 Q2207.14 110.756 2209.27 108.256 Q2211.42 105.733 2211.42 101.566 L2211.42 100.617 L2207.19 100.617 M2215.68 98.858 L2215.68 113.65 L2211.42 113.65 L2211.42 109.714 Q2209.96 112.075 2207.79 113.21 Q2205.61 114.321 2202.46 114.321 Q2198.48 114.321 2196.12 112.099 Q2193.78 109.853 2193.78 106.103 Q2193.78 101.728 2196.7 99.5061 Q2199.64 97.2839 2205.45 97.2839 L2211.42 97.2839 L2211.42 96.8672 Q2211.42 93.9274 2209.48 92.3302 Q2207.56 90.7099 2204.06 90.7099 Q2201.84 90.7099 2199.73 91.2423 Q2197.63 91.7747 2195.68 92.8395 L2195.68 88.9043 Q2198.02 88.0015 2200.22 87.5617 Q2202.42 87.0988 2204.5 87.0988 Q2210.13 87.0988 2212.9 90.0154 Q2215.68 92.9321 2215.68 98.858 Z\" fill=\"#000000\" fill-rule=\"evenodd\" fill-opacity=\"1\" /><path clip-path=\"url(#clip970)\" d=\"M 0 0 M2220.15 77.6312 L2224.41 77.6312 L2224.41 113.65 L2220.15 113.65 L2220.15 77.6312 Z\" fill=\"#000000\" fill-rule=\"evenodd\" fill-opacity=\"1\" /><path clip-path=\"url(#clip970)\" d=\"M 0 0 M2239.11 77.6775 Q2236.01 83.0016 2234.5 88.2099 Q2233 93.4182 2233 98.7654 Q2233 104.113 2234.5 109.367 Q2236.03 114.599 2239.11 119.9 L2235.4 119.9 Q2231.93 114.46 2230.2 109.205 Q2228.48 103.951 2228.48 98.7654 Q2228.48 93.6034 2230.2 88.3719 Q2231.91 83.1405 2235.4 77.6775 L2239.11 77.6775 Z\" fill=\"#000000\" fill-rule=\"evenodd\" fill-opacity=\"1\" /><path clip-path=\"url(#clip970)\" d=\"M 0 0 M2252.56 114.228 Q2247.21 113.372 2244.73 111.126 Q2241.7 108.372 2241.7 102.747 L2241.7 87.7238 L2246.01 87.7238 L2246.01 102.585 Q2246.01 106.821 2247.97 108.58 Q2249.69 110.108 2252.56 110.432 L2252.56 87.7238 L2256.79 87.7238 L2256.79 110.409 Q2259.83 110.085 2261.38 108.557 Q2263.34 106.613 2263.34 102.562 L2263.34 87.7238 L2267.65 87.7238 L2267.65 102.724 Q2267.65 108.557 2264.62 111.103 Q2261.89 113.395 2256.79 114.205 L2256.79 123.511 L2252.56 123.511 L2252.56 114.228 Z\" fill=\"#000000\" fill-rule=\"evenodd\" fill-opacity=\"1\" /><path clip-path=\"url(#clip970)\" d=\"M 0 0 M2271.45 77.6775 L2275.15 77.6775 Q2278.62 83.1405 2280.33 88.3719 Q2282.07 93.6034 2282.07 98.7654 Q2282.07 103.951 2280.33 109.205 Q2278.62 114.46 2275.15 119.9 L2271.45 119.9 Q2274.52 114.599 2276.03 109.367 Q2277.56 104.113 2277.56 98.7654 Q2277.56 93.4182 2276.03 88.2099 Q2274.52 83.0016 2271.45 77.6775 Z\" fill=\"#000000\" fill-rule=\"evenodd\" fill-opacity=\"1\" /><polyline clip-path=\"url(#clip970)\" style=\"stroke:#e26f46; stroke-width:4; stroke-opacity:1; fill:none\" points=\"\n",
       "  1982.15,156.85 2126.15,156.85 \n",
       "  \"/>\n",
       "<path clip-path=\"url(#clip970)\" d=\"M 0 0 M2150.15 148.204 L2154.41 148.204 L2154.41 174.13 L2150.15 174.13 L2150.15 148.204 M2150.15 138.111 L2154.41 138.111 L2154.41 143.505 L2150.15 143.505 L2150.15 138.111 Z\" fill=\"#000000\" fill-rule=\"evenodd\" fill-opacity=\"1\" /><path clip-path=\"url(#clip970)\" d=\"M 0 0 M2179.06 153.181 Q2180.66 150.31 2182.88 148.945 Q2185.1 147.579 2188.11 147.579 Q2192.16 147.579 2194.36 150.426 Q2196.56 153.25 2196.56 158.481 L2196.56 174.13 L2192.28 174.13 L2192.28 158.62 Q2192.28 154.894 2190.96 153.088 Q2189.64 151.282 2186.93 151.282 Q2183.62 151.282 2181.7 153.482 Q2179.78 155.681 2179.78 159.477 L2179.78 174.13 L2175.5 174.13 L2175.5 158.62 Q2175.5 154.87 2174.18 153.088 Q2172.86 151.282 2170.1 151.282 Q2166.84 151.282 2164.92 153.505 Q2163 155.704 2163 159.477 L2163 174.13 L2158.72 174.13 L2158.72 148.204 L2163 148.204 L2163 152.232 Q2164.46 149.847 2166.49 148.713 Q2168.53 147.579 2171.33 147.579 Q2174.15 147.579 2176.12 149.014 Q2178.11 150.449 2179.06 153.181 Z\" fill=\"#000000\" fill-rule=\"evenodd\" fill-opacity=\"1\" /><path clip-path=\"url(#clip970)\" d=\"M 0 0 M2212.81 161.097 Q2207.65 161.097 2205.66 162.278 Q2203.67 163.458 2203.67 166.306 Q2203.67 168.574 2205.15 169.917 Q2206.65 171.236 2209.22 171.236 Q2212.77 171.236 2214.9 168.736 Q2217.05 166.213 2217.05 162.046 L2217.05 161.097 L2212.81 161.097 M2221.31 159.338 L2221.31 174.13 L2217.05 174.13 L2217.05 170.194 Q2215.59 172.555 2213.41 173.69 Q2211.24 174.801 2208.09 174.801 Q2204.11 174.801 2201.75 172.579 Q2199.41 170.333 2199.41 166.583 Q2199.41 162.208 2202.33 159.986 Q2205.27 157.764 2211.08 157.764 L2217.05 157.764 L2217.05 157.347 Q2217.05 154.407 2215.1 152.81 Q2213.18 151.19 2209.69 151.19 Q2207.46 151.19 2205.36 151.722 Q2203.25 152.255 2201.31 153.319 L2201.31 149.384 Q2203.65 148.482 2205.84 148.042 Q2208.04 147.579 2210.13 147.579 Q2215.75 147.579 2218.53 150.495 Q2221.31 153.412 2221.31 159.338 Z\" fill=\"#000000\" fill-rule=\"evenodd\" fill-opacity=\"1\" /><path clip-path=\"url(#clip970)\" d=\"M 0 0 M2242.83 160.866 Q2242.83 156.236 2240.91 153.69 Q2239.02 151.144 2235.57 151.144 Q2232.14 151.144 2230.22 153.69 Q2228.32 156.236 2228.32 160.866 Q2228.32 165.472 2230.22 168.018 Q2232.14 170.565 2235.57 170.565 Q2239.02 170.565 2240.91 168.018 Q2242.83 165.472 2242.83 160.866 M2247.09 170.912 Q2247.09 177.532 2244.15 180.75 Q2241.21 183.991 2235.15 183.991 Q2232.9 183.991 2230.91 183.643 Q2228.92 183.319 2227.05 182.625 L2227.05 178.481 Q2228.92 179.5 2230.75 179.986 Q2232.58 180.472 2234.48 180.472 Q2238.67 180.472 2240.75 178.273 Q2242.83 176.097 2242.83 171.676 L2242.83 169.569 Q2241.52 171.861 2239.46 172.995 Q2237.4 174.13 2234.52 174.13 Q2229.76 174.13 2226.84 170.495 Q2223.92 166.861 2223.92 160.866 Q2223.92 154.847 2226.84 151.213 Q2229.76 147.579 2234.52 147.579 Q2237.4 147.579 2239.46 148.713 Q2241.52 149.847 2242.83 152.139 L2242.83 148.204 L2247.09 148.204 L2247.09 170.912 Z\" fill=\"#000000\" fill-rule=\"evenodd\" fill-opacity=\"1\" /><path clip-path=\"url(#clip970)\" d=\"M 0 0 M2261.79 138.158 Q2258.69 143.482 2257.19 148.69 Q2255.68 153.898 2255.68 159.245 Q2255.68 164.593 2257.19 169.847 Q2258.71 175.079 2261.79 180.38 L2258.09 180.38 Q2254.62 174.94 2252.88 169.685 Q2251.17 164.431 2251.17 159.245 Q2251.17 154.083 2252.88 148.852 Q2254.59 143.62 2258.09 138.158 L2261.79 138.158 Z\" fill=\"#000000\" fill-rule=\"evenodd\" fill-opacity=\"1\" /><path clip-path=\"url(#clip970)\" d=\"M 0 0 M2275.24 174.708 Q2269.89 173.852 2267.42 171.606 Q2264.39 168.852 2264.39 163.227 L2264.39 148.204 L2268.69 148.204 L2268.69 163.065 Q2268.69 167.301 2270.66 169.06 Q2272.37 170.588 2275.24 170.912 L2275.24 148.204 L2279.48 148.204 L2279.48 170.889 Q2282.51 170.565 2284.06 169.037 Q2286.03 167.093 2286.03 163.042 L2286.03 148.204 L2290.33 148.204 L2290.33 163.204 Q2290.33 169.037 2287.3 171.583 Q2284.57 173.875 2279.48 174.685 L2279.48 183.991 L2275.24 183.991 L2275.24 174.708 Z\" fill=\"#000000\" fill-rule=\"evenodd\" fill-opacity=\"1\" /><path clip-path=\"url(#clip970)\" d=\"M 0 0 M2294.13 138.158 L2297.83 138.158 Q2301.31 143.62 2303.02 148.852 Q2304.76 154.083 2304.76 159.245 Q2304.76 164.431 2303.02 169.685 Q2301.31 174.94 2297.83 180.38 L2294.13 180.38 Q2297.21 175.079 2298.71 169.847 Q2300.24 164.593 2300.24 159.245 Q2300.24 153.898 2298.71 148.69 Q2297.21 143.482 2294.13 138.158 Z\" fill=\"#000000\" fill-rule=\"evenodd\" fill-opacity=\"1\" /><polyline clip-path=\"url(#clip970)\" style=\"stroke:#3da44d; stroke-width:4; stroke-opacity:1; fill:none\" points=\"\n",
       "  1982.15,217.33 2126.15,217.33 \n",
       "  \"/>\n",
       "<path clip-path=\"url(#clip970)\" d=\"M 0 0 M2152.23 213.313 Q2153.65 210.952 2157.14 208.869 Q2158.51 208.059 2162.72 208.059 Q2167.44 208.059 2170.38 211.809 Q2173.34 215.559 2173.34 221.67 Q2173.34 227.781 2170.38 231.531 Q2167.44 235.281 2162.72 235.281 Q2159.87 235.281 2157.81 234.17 Q2155.78 233.035 2154.43 230.721 L2154.43 244.471 L2150.15 244.471 L2150.15 221.901 Q2150.15 216.554 2152.23 213.313 M2168.92 221.67 Q2168.92 216.971 2166.98 214.309 Q2165.06 211.624 2161.68 211.624 Q2158.3 211.624 2156.35 214.309 Q2154.43 216.971 2154.43 221.67 Q2154.43 226.369 2156.35 229.054 Q2158.3 231.716 2161.68 231.716 Q2165.06 231.716 2166.98 229.054 Q2168.92 226.369 2168.92 221.67 Z\" fill=\"#000000\" fill-rule=\"evenodd\" fill-opacity=\"1\" /></svg>\n"
      ],
      "image/svg+xml": [
       "<?xml version=\"1.0\" encoding=\"utf-8\"?>\n",
       "<svg xmlns=\"http://www.w3.org/2000/svg\" xmlns:xlink=\"http://www.w3.org/1999/xlink\" width=\"600\" height=\"400\" viewBox=\"0 0 2400 1600\">\n",
       "<defs>\n",
       "  <clipPath id=\"clip940\">\n",
       "    <rect x=\"0\" y=\"0\" width=\"2400\" height=\"1600\"/>\n",
       "  </clipPath>\n",
       "</defs>\n",
       "<path clip-path=\"url(#clip940)\" d=\"\n",
       "M0 1600 L2400 1600 L2400 0 L0 0  Z\n",
       "  \" fill=\"#ffffff\" fill-rule=\"evenodd\" fill-opacity=\"1\"/>\n",
       "<defs>\n",
       "  <clipPath id=\"clip941\">\n",
       "    <rect x=\"480\" y=\"0\" width=\"1681\" height=\"1600\"/>\n",
       "  </clipPath>\n",
       "</defs>\n",
       "<path clip-path=\"url(#clip940)\" d=\"\n",
       "M86.9921 1521.01 L2352.76 1521.01 L2352.76 47.2441 L86.9921 47.2441  Z\n",
       "  \" fill=\"#ffffff\" fill-rule=\"evenodd\" fill-opacity=\"1\"/>\n",
       "<defs>\n",
       "  <clipPath id=\"clip942\">\n",
       "    <rect x=\"86\" y=\"47\" width=\"2267\" height=\"1475\"/>\n",
       "  </clipPath>\n",
       "</defs>\n",
       "<polyline clip-path=\"url(#clip942)\" style=\"stroke:#000000; stroke-width:2; stroke-opacity:0.1; fill:none\" points=\"\n",
       "  151.118,1521.01 151.118,47.2441 \n",
       "  \"/>\n",
       "<polyline clip-path=\"url(#clip942)\" style=\"stroke:#000000; stroke-width:2; stroke-opacity:0.1; fill:none\" points=\"\n",
       "  687.981,1521.01 687.981,47.2441 \n",
       "  \"/>\n",
       "<polyline clip-path=\"url(#clip942)\" style=\"stroke:#000000; stroke-width:2; stroke-opacity:0.1; fill:none\" points=\"\n",
       "  1224.84,1521.01 1224.84,47.2441 \n",
       "  \"/>\n",
       "<polyline clip-path=\"url(#clip942)\" style=\"stroke:#000000; stroke-width:2; stroke-opacity:0.1; fill:none\" points=\"\n",
       "  1761.71,1521.01 1761.71,47.2441 \n",
       "  \"/>\n",
       "<polyline clip-path=\"url(#clip942)\" style=\"stroke:#000000; stroke-width:2; stroke-opacity:0.1; fill:none\" points=\"\n",
       "  2298.57,1521.01 2298.57,47.2441 \n",
       "  \"/>\n",
       "<polyline clip-path=\"url(#clip942)\" style=\"stroke:#000000; stroke-width:2; stroke-opacity:0.1; fill:none\" points=\"\n",
       "  86.9921,1479.3 2352.76,1479.3 \n",
       "  \"/>\n",
       "<polyline clip-path=\"url(#clip942)\" style=\"stroke:#000000; stroke-width:2; stroke-opacity:0.1; fill:none\" points=\"\n",
       "  86.9921,1107.38 2352.76,1107.38 \n",
       "  \"/>\n",
       "<polyline clip-path=\"url(#clip942)\" style=\"stroke:#000000; stroke-width:2; stroke-opacity:0.1; fill:none\" points=\"\n",
       "  86.9921,735.461 2352.76,735.461 \n",
       "  \"/>\n",
       "<polyline clip-path=\"url(#clip942)\" style=\"stroke:#000000; stroke-width:2; stroke-opacity:0.1; fill:none\" points=\"\n",
       "  86.9921,363.543 2352.76,363.543 \n",
       "  \"/>\n",
       "<polyline clip-path=\"url(#clip940)\" style=\"stroke:#000000; stroke-width:4; stroke-opacity:1; fill:none\" points=\"\n",
       "  86.9921,1521.01 2352.76,1521.01 \n",
       "  \"/>\n",
       "<polyline clip-path=\"url(#clip940)\" style=\"stroke:#000000; stroke-width:4; stroke-opacity:1; fill:none\" points=\"\n",
       "  86.9921,1521.01 86.9921,47.2441 \n",
       "  \"/>\n",
       "<polyline clip-path=\"url(#clip940)\" style=\"stroke:#000000; stroke-width:4; stroke-opacity:1; fill:none\" points=\"\n",
       "  151.118,1521.01 151.118,1503.32 \n",
       "  \"/>\n",
       "<polyline clip-path=\"url(#clip940)\" style=\"stroke:#000000; stroke-width:4; stroke-opacity:1; fill:none\" points=\"\n",
       "  687.981,1521.01 687.981,1503.32 \n",
       "  \"/>\n",
       "<polyline clip-path=\"url(#clip940)\" style=\"stroke:#000000; stroke-width:4; stroke-opacity:1; fill:none\" points=\"\n",
       "  1224.84,1521.01 1224.84,1503.32 \n",
       "  \"/>\n",
       "<polyline clip-path=\"url(#clip940)\" style=\"stroke:#000000; stroke-width:4; stroke-opacity:1; fill:none\" points=\"\n",
       "  1761.71,1521.01 1761.71,1503.32 \n",
       "  \"/>\n",
       "<polyline clip-path=\"url(#clip940)\" style=\"stroke:#000000; stroke-width:4; stroke-opacity:1; fill:none\" points=\"\n",
       "  2298.57,1521.01 2298.57,1503.32 \n",
       "  \"/>\n",
       "<polyline clip-path=\"url(#clip940)\" style=\"stroke:#000000; stroke-width:4; stroke-opacity:1; fill:none\" points=\"\n",
       "  86.9921,1479.3 114.181,1479.3 \n",
       "  \"/>\n",
       "<polyline clip-path=\"url(#clip940)\" style=\"stroke:#000000; stroke-width:4; stroke-opacity:1; fill:none\" points=\"\n",
       "  86.9921,1107.38 114.181,1107.38 \n",
       "  \"/>\n",
       "<polyline clip-path=\"url(#clip940)\" style=\"stroke:#000000; stroke-width:4; stroke-opacity:1; fill:none\" points=\"\n",
       "  86.9921,735.461 114.181,735.461 \n",
       "  \"/>\n",
       "<polyline clip-path=\"url(#clip940)\" style=\"stroke:#000000; stroke-width:4; stroke-opacity:1; fill:none\" points=\"\n",
       "  86.9921,363.543 114.181,363.543 \n",
       "  \"/>\n",
       "<path clip-path=\"url(#clip940)\" d=\"M 0 0 M132.634 1543 Q129.023 1543 127.194 1546.56 Q125.388 1550.11 125.388 1557.23 Q125.388 1564.34 127.194 1567.91 Q129.023 1571.45 132.634 1571.45 Q136.268 1571.45 138.074 1567.91 Q139.902 1564.34 139.902 1557.23 Q139.902 1550.11 138.074 1546.56 Q136.268 1543 132.634 1543 M132.634 1539.29 Q138.444 1539.29 141.5 1543.9 Q144.578 1548.48 144.578 1557.23 Q144.578 1565.96 141.5 1570.57 Q138.444 1575.15 132.634 1575.15 Q126.824 1575.15 123.745 1570.57 Q120.689 1565.96 120.689 1557.23 Q120.689 1548.48 123.745 1543.9 Q126.824 1539.29 132.634 1539.29 Z\" fill=\"#000000\" fill-rule=\"evenodd\" fill-opacity=\"1\" /><path clip-path=\"url(#clip940)\" d=\"M 0 0 M149.648 1568.6 L154.532 1568.6 L154.532 1574.48 L149.648 1574.48 L149.648 1568.6 Z\" fill=\"#000000\" fill-rule=\"evenodd\" fill-opacity=\"1\" /><path clip-path=\"url(#clip940)\" d=\"M 0 0 M169.601 1543 Q165.99 1543 164.161 1546.56 Q162.356 1550.11 162.356 1557.23 Q162.356 1564.34 164.161 1567.91 Q165.99 1571.45 169.601 1571.45 Q173.235 1571.45 175.041 1567.91 Q176.87 1564.34 176.87 1557.23 Q176.87 1550.11 175.041 1546.56 Q173.235 1543 169.601 1543 M169.601 1539.29 Q175.411 1539.29 178.467 1543.9 Q181.546 1548.48 181.546 1557.23 Q181.546 1565.96 178.467 1570.57 Q175.411 1575.15 169.601 1575.15 Q163.791 1575.15 160.712 1570.57 Q157.657 1565.96 157.657 1557.23 Q157.657 1548.48 160.712 1543.9 Q163.791 1539.29 169.601 1539.29 Z\" fill=\"#000000\" fill-rule=\"evenodd\" fill-opacity=\"1\" /><path clip-path=\"url(#clip940)\" d=\"M 0 0 M664.648 1570.54 L680.967 1570.54 L680.967 1574.48 L659.023 1574.48 L659.023 1570.54 Q661.685 1567.79 666.268 1563.16 Q670.875 1558.51 672.055 1557.17 Q674.301 1554.64 675.18 1552.91 Q676.083 1551.15 676.083 1549.46 Q676.083 1546.7 674.139 1544.97 Q672.217 1543.23 669.116 1543.23 Q666.917 1543.23 664.463 1543.99 Q662.032 1544.76 659.255 1546.31 L659.255 1541.59 Q662.079 1540.45 664.532 1539.87 Q666.986 1539.29 669.023 1539.29 Q674.393 1539.29 677.588 1541.98 Q680.782 1544.67 680.782 1549.16 Q680.782 1551.29 679.972 1553.21 Q679.185 1555.1 677.079 1557.7 Q676.5 1558.37 673.398 1561.59 Q670.296 1564.78 664.648 1570.54 Z\" fill=\"#000000\" fill-rule=\"evenodd\" fill-opacity=\"1\" /><path clip-path=\"url(#clip940)\" d=\"M 0 0 M686.037 1568.6 L690.921 1568.6 L690.921 1574.48 L686.037 1574.48 L686.037 1568.6 Z\" fill=\"#000000\" fill-rule=\"evenodd\" fill-opacity=\"1\" /><path clip-path=\"url(#clip940)\" d=\"M 0 0 M696.037 1539.92 L714.393 1539.92 L714.393 1543.86 L700.319 1543.86 L700.319 1552.33 Q701.338 1551.98 702.356 1551.82 Q703.375 1551.63 704.393 1551.63 Q710.18 1551.63 713.56 1554.8 Q716.939 1557.98 716.939 1563.39 Q716.939 1568.97 713.467 1572.07 Q709.995 1575.15 703.676 1575.15 Q701.5 1575.15 699.231 1574.78 Q696.986 1574.41 694.578 1573.67 L694.578 1568.97 Q696.662 1570.1 698.884 1570.66 Q701.106 1571.22 703.583 1571.22 Q707.588 1571.22 709.926 1569.11 Q712.264 1567 712.264 1563.39 Q712.264 1559.78 709.926 1557.67 Q707.588 1555.57 703.583 1555.57 Q701.708 1555.57 699.833 1555.98 Q697.981 1556.4 696.037 1557.28 L696.037 1539.92 Z\" fill=\"#000000\" fill-rule=\"evenodd\" fill-opacity=\"1\" /><path clip-path=\"url(#clip940)\" d=\"M 0 0 M1196.64 1539.92 L1215 1539.92 L1215 1543.86 L1200.92 1543.86 L1200.92 1552.33 Q1201.94 1551.98 1202.96 1551.82 Q1203.98 1551.63 1205 1551.63 Q1210.78 1551.63 1214.16 1554.8 Q1217.54 1557.98 1217.54 1563.39 Q1217.54 1568.97 1214.07 1572.07 Q1210.6 1575.15 1204.28 1575.15 Q1202.1 1575.15 1199.83 1574.78 Q1197.59 1574.41 1195.18 1573.67 L1195.18 1568.97 Q1197.26 1570.1 1199.49 1570.66 Q1201.71 1571.22 1204.19 1571.22 Q1208.19 1571.22 1210.53 1569.11 Q1212.87 1567 1212.87 1563.39 Q1212.87 1559.78 1210.53 1557.67 Q1208.19 1555.57 1204.19 1555.57 Q1202.31 1555.57 1200.44 1555.98 Q1198.58 1556.4 1196.64 1557.28 L1196.64 1539.92 Z\" fill=\"#000000\" fill-rule=\"evenodd\" fill-opacity=\"1\" /><path clip-path=\"url(#clip940)\" d=\"M 0 0 M1222.61 1568.6 L1227.5 1568.6 L1227.5 1574.48 L1222.61 1574.48 L1222.61 1568.6 Z\" fill=\"#000000\" fill-rule=\"evenodd\" fill-opacity=\"1\" /><path clip-path=\"url(#clip940)\" d=\"M 0 0 M1242.56 1543 Q1238.95 1543 1237.13 1546.56 Q1235.32 1550.11 1235.32 1557.23 Q1235.32 1564.34 1237.13 1567.91 Q1238.95 1571.45 1242.56 1571.45 Q1246.2 1571.45 1248 1567.91 Q1249.83 1564.34 1249.83 1557.23 Q1249.83 1550.11 1248 1546.56 Q1246.2 1543 1242.56 1543 M1242.56 1539.29 Q1248.37 1539.29 1251.43 1543.9 Q1254.51 1548.48 1254.51 1557.23 Q1254.51 1565.96 1251.43 1570.57 Q1248.37 1575.15 1242.56 1575.15 Q1236.75 1575.15 1233.68 1570.57 Q1230.62 1565.96 1230.62 1557.23 Q1230.62 1548.48 1233.68 1543.9 Q1236.75 1539.29 1242.56 1539.29 Z\" fill=\"#000000\" fill-rule=\"evenodd\" fill-opacity=\"1\" /><path clip-path=\"url(#clip940)\" d=\"M 0 0 M1732.61 1539.92 L1754.83 1539.92 L1754.83 1541.91 L1742.29 1574.48 L1737.4 1574.48 L1749.21 1543.86 L1732.61 1543.86 L1732.61 1539.92 Z\" fill=\"#000000\" fill-rule=\"evenodd\" fill-opacity=\"1\" /><path clip-path=\"url(#clip940)\" d=\"M 0 0 M1759.9 1568.6 L1764.79 1568.6 L1764.79 1574.48 L1759.9 1574.48 L1759.9 1568.6 Z\" fill=\"#000000\" fill-rule=\"evenodd\" fill-opacity=\"1\" /><path clip-path=\"url(#clip940)\" d=\"M 0 0 M1769.9 1539.92 L1788.26 1539.92 L1788.26 1543.86 L1774.19 1543.86 L1774.19 1552.33 Q1775.2 1551.98 1776.22 1551.82 Q1777.24 1551.63 1778.26 1551.63 Q1784.05 1551.63 1787.43 1554.8 Q1790.81 1557.98 1790.81 1563.39 Q1790.81 1568.97 1787.33 1572.07 Q1783.86 1575.15 1777.54 1575.15 Q1775.37 1575.15 1773.1 1574.78 Q1770.85 1574.41 1768.44 1573.67 L1768.44 1568.97 Q1770.53 1570.1 1772.75 1570.66 Q1774.97 1571.22 1777.45 1571.22 Q1781.45 1571.22 1783.79 1569.11 Q1786.13 1567 1786.13 1563.39 Q1786.13 1559.78 1783.79 1557.67 Q1781.45 1555.57 1777.45 1555.57 Q1775.57 1555.57 1773.7 1555.98 Q1771.85 1556.4 1769.9 1557.28 L1769.9 1539.92 Z\" fill=\"#000000\" fill-rule=\"evenodd\" fill-opacity=\"1\" /><path clip-path=\"url(#clip940)\" d=\"M 0 0 M2256.96 1570.54 L2264.6 1570.54 L2264.6 1544.18 L2256.29 1545.85 L2256.29 1541.59 L2264.56 1539.92 L2269.23 1539.92 L2269.23 1570.54 L2276.87 1570.54 L2276.87 1574.48 L2256.96 1574.48 L2256.96 1570.54 Z\" fill=\"#000000\" fill-rule=\"evenodd\" fill-opacity=\"1\" /><path clip-path=\"url(#clip940)\" d=\"M 0 0 M2291.94 1543 Q2288.33 1543 2286.5 1546.56 Q2284.7 1550.11 2284.7 1557.23 Q2284.7 1564.34 2286.5 1567.91 Q2288.33 1571.45 2291.94 1571.45 Q2295.57 1571.45 2297.38 1567.91 Q2299.21 1564.34 2299.21 1557.23 Q2299.21 1550.11 2297.38 1546.56 Q2295.57 1543 2291.94 1543 M2291.94 1539.29 Q2297.75 1539.29 2300.81 1543.9 Q2303.88 1548.48 2303.88 1557.23 Q2303.88 1565.96 2300.81 1570.57 Q2297.75 1575.15 2291.94 1575.15 Q2286.13 1575.15 2283.05 1570.57 Q2280 1565.96 2280 1557.23 Q2280 1548.48 2283.05 1543.9 Q2286.13 1539.29 2291.94 1539.29 Z\" fill=\"#000000\" fill-rule=\"evenodd\" fill-opacity=\"1\" /><path clip-path=\"url(#clip940)\" d=\"M 0 0 M2308.95 1568.6 L2313.84 1568.6 L2313.84 1574.48 L2308.95 1574.48 L2308.95 1568.6 Z\" fill=\"#000000\" fill-rule=\"evenodd\" fill-opacity=\"1\" /><path clip-path=\"url(#clip940)\" d=\"M 0 0 M2328.91 1543 Q2325.3 1543 2323.47 1546.56 Q2321.66 1550.11 2321.66 1557.23 Q2321.66 1564.34 2323.47 1567.91 Q2325.3 1571.45 2328.91 1571.45 Q2332.54 1571.45 2334.35 1567.91 Q2336.18 1564.34 2336.18 1557.23 Q2336.18 1550.11 2334.35 1546.56 Q2332.54 1543 2328.91 1543 M2328.91 1539.29 Q2334.72 1539.29 2337.77 1543.9 Q2340.85 1548.48 2340.85 1557.23 Q2340.85 1565.96 2337.77 1570.57 Q2334.72 1575.15 2328.91 1575.15 Q2323.1 1575.15 2320.02 1570.57 Q2316.96 1565.96 2316.96 1557.23 Q2316.96 1548.48 2320.02 1543.9 Q2323.1 1539.29 2328.91 1539.29 Z\" fill=\"#000000\" fill-rule=\"evenodd\" fill-opacity=\"1\" /><path clip-path=\"url(#clip940)\" d=\"M 0 0 M14.0804 1465.1 Q10.4693 1465.1 8.64057 1468.66 Q6.83502 1472.2 6.83502 1479.33 Q6.83502 1486.44 8.64057 1490 Q10.4693 1493.55 14.0804 1493.55 Q17.7146 1493.55 19.5201 1490 Q21.3488 1486.44 21.3488 1479.33 Q21.3488 1472.2 19.5201 1468.66 Q17.7146 1465.1 14.0804 1465.1 M14.0804 1461.39 Q19.8905 1461.39 22.946 1466 Q26.0247 1470.58 26.0247 1479.33 Q26.0247 1488.06 22.946 1492.67 Q19.8905 1497.25 14.0804 1497.25 Q8.2702 1497.25 5.19151 1492.67 Q2.13597 1488.06 2.13597 1479.33 Q2.13597 1470.58 5.19151 1466 Q8.2702 1461.39 14.0804 1461.39 Z\" fill=\"#000000\" fill-rule=\"evenodd\" fill-opacity=\"1\" /><path clip-path=\"url(#clip940)\" d=\"M 0 0 M31.0941 1490.7 L35.9784 1490.7 L35.9784 1496.58 L31.0941 1496.58 L31.0941 1490.7 Z\" fill=\"#000000\" fill-rule=\"evenodd\" fill-opacity=\"1\" /><path clip-path=\"url(#clip940)\" d=\"M 0 0 M51.0477 1465.1 Q47.4367 1465.1 45.608 1468.66 Q43.8024 1472.2 43.8024 1479.33 Q43.8024 1486.44 45.608 1490 Q47.4367 1493.55 51.0477 1493.55 Q54.682 1493.55 56.4875 1490 Q58.3162 1486.44 58.3162 1479.33 Q58.3162 1472.2 56.4875 1468.66 Q54.682 1465.1 51.0477 1465.1 M51.0477 1461.39 Q56.8579 1461.39 59.9134 1466 Q62.9921 1470.58 62.9921 1479.33 Q62.9921 1488.06 59.9134 1492.67 Q56.8579 1497.25 51.0477 1497.25 Q45.2376 1497.25 42.1589 1492.67 Q39.1034 1488.06 39.1034 1479.33 Q39.1034 1470.58 42.1589 1466 Q45.2376 1461.39 51.0477 1461.39 Z\" fill=\"#000000\" fill-rule=\"evenodd\" fill-opacity=\"1\" /><path clip-path=\"url(#clip940)\" d=\"M 0 0 M15.6776 1093.18 Q12.0665 1093.18 10.2378 1096.74 Q8.43223 1100.28 8.43223 1107.41 Q8.43223 1114.52 10.2378 1118.09 Q12.0665 1121.63 15.6776 1121.63 Q19.3118 1121.63 21.1174 1118.09 Q22.946 1114.52 22.946 1107.41 Q22.946 1100.28 21.1174 1096.74 Q19.3118 1093.18 15.6776 1093.18 M15.6776 1089.47 Q21.4877 1089.47 24.5433 1094.08 Q27.6219 1098.66 27.6219 1107.41 Q27.6219 1116.14 24.5433 1120.75 Q21.4877 1125.33 15.6776 1125.33 Q9.86741 1125.33 6.78872 1120.75 Q3.73318 1116.14 3.73318 1107.41 Q3.73318 1098.66 6.78872 1094.08 Q9.86741 1089.47 15.6776 1089.47 Z\" fill=\"#000000\" fill-rule=\"evenodd\" fill-opacity=\"1\" /><path clip-path=\"url(#clip940)\" d=\"M 0 0 M32.6914 1118.78 L37.5756 1118.78 L37.5756 1124.66 L32.6914 1124.66 L32.6914 1118.78 Z\" fill=\"#000000\" fill-rule=\"evenodd\" fill-opacity=\"1\" /><path clip-path=\"url(#clip940)\" d=\"M 0 0 M46.6728 1120.72 L62.9921 1120.72 L62.9921 1124.66 L41.0478 1124.66 L41.0478 1120.72 Q43.7098 1117.97 48.2931 1113.34 Q52.8996 1108.69 54.0801 1107.34 Q56.3255 1104.82 57.2051 1103.09 Q58.1079 1101.33 58.1079 1099.64 Q58.1079 1096.88 56.1635 1095.15 Q54.2422 1093.41 51.1403 1093.41 Q48.9413 1093.41 46.4876 1094.17 Q44.057 1094.94 41.2793 1096.49 L41.2793 1091.77 Q44.1033 1090.63 46.557 1090.05 Q49.0107 1089.47 51.0477 1089.47 Q56.4181 1089.47 59.6125 1092.16 Q62.8069 1094.84 62.8069 1099.34 Q62.8069 1101.46 61.9968 1103.39 Q61.2097 1105.28 59.1033 1107.88 Q58.5246 1108.55 55.4227 1111.77 Q52.3209 1114.96 46.6728 1120.72 Z\" fill=\"#000000\" fill-rule=\"evenodd\" fill-opacity=\"1\" /><path clip-path=\"url(#clip940)\" d=\"M 0 0 M13.5942 721.26 Q9.98315 721.26 8.15446 724.825 Q6.34891 728.366 6.34891 735.496 Q6.34891 742.602 8.15446 746.167 Q9.98315 749.709 13.5942 749.709 Q17.2285 749.709 19.034 746.167 Q20.8627 742.602 20.8627 735.496 Q20.8627 728.366 19.034 724.825 Q17.2285 721.26 13.5942 721.26 M13.5942 717.556 Q19.4044 717.556 22.4599 722.162 Q25.5386 726.746 25.5386 735.496 Q25.5386 744.223 22.4599 748.829 Q19.4044 753.412 13.5942 753.412 Q7.78409 753.412 4.7054 748.829 Q1.64986 744.223 1.64986 735.496 Q1.64986 726.746 4.7054 722.162 Q7.78409 717.556 13.5942 717.556 Z\" fill=\"#000000\" fill-rule=\"evenodd\" fill-opacity=\"1\" /><path clip-path=\"url(#clip940)\" d=\"M 0 0 M30.608 746.861 L35.4923 746.861 L35.4923 752.741 L30.608 752.741 L30.608 746.861 Z\" fill=\"#000000\" fill-rule=\"evenodd\" fill-opacity=\"1\" /><path clip-path=\"url(#clip940)\" d=\"M 0 0 M53.4088 722.255 L41.6034 740.704 L53.4088 740.704 L53.4088 722.255 M52.182 718.181 L58.0616 718.181 L58.0616 740.704 L62.9921 740.704 L62.9921 744.593 L58.0616 744.593 L58.0616 752.741 L53.4088 752.741 L53.4088 744.593 L37.8071 744.593 L37.8071 740.079 L52.182 718.181 Z\" fill=\"#000000\" fill-rule=\"evenodd\" fill-opacity=\"1\" /><path clip-path=\"url(#clip940)\" d=\"M 0 0 M13.9183 349.341 Q10.3072 349.341 8.47853 352.906 Q6.67298 356.448 6.67298 363.577 Q6.67298 370.684 8.47853 374.249 Q10.3072 377.79 13.9183 377.79 Q17.5526 377.79 19.3581 374.249 Q21.1868 370.684 21.1868 363.577 Q21.1868 356.448 19.3581 352.906 Q17.5526 349.341 13.9183 349.341 M13.9183 345.638 Q19.7285 345.638 22.784 350.244 Q25.8627 354.828 25.8627 363.577 Q25.8627 372.304 22.784 376.911 Q19.7285 381.494 13.9183 381.494 Q8.10816 381.494 5.02947 376.911 Q1.97393 372.304 1.97393 363.577 Q1.97393 354.828 5.02947 350.244 Q8.10816 345.638 13.9183 345.638 Z\" fill=\"#000000\" fill-rule=\"evenodd\" fill-opacity=\"1\" /><path clip-path=\"url(#clip940)\" d=\"M 0 0 M30.9321 374.943 L35.8163 374.943 L35.8163 380.823 L30.9321 380.823 L30.9321 374.943 Z\" fill=\"#000000\" fill-rule=\"evenodd\" fill-opacity=\"1\" /><path clip-path=\"url(#clip940)\" d=\"M 0 0 M51.4644 361.679 Q48.3163 361.679 46.4644 363.832 Q44.6357 365.985 44.6357 369.735 Q44.6357 373.462 46.4644 375.638 Q48.3163 377.79 51.4644 377.79 Q54.6125 377.79 56.4412 375.638 Q58.2931 373.462 58.2931 369.735 Q58.2931 365.985 56.4412 363.832 Q54.6125 361.679 51.4644 361.679 M60.7468 347.027 L60.7468 351.286 Q58.9875 350.453 57.182 350.013 Q55.3996 349.573 53.6403 349.573 Q49.0107 349.573 46.557 352.698 Q44.1265 355.823 43.7793 362.142 Q45.145 360.128 47.2052 359.064 Q49.2653 357.976 51.7422 357.976 Q56.9505 357.976 59.9597 361.147 Q62.9921 364.295 62.9921 369.735 Q62.9921 375.059 59.844 378.276 Q56.6959 381.494 51.4644 381.494 Q45.4691 381.494 42.2978 376.911 Q39.1265 372.304 39.1265 363.577 Q39.1265 355.383 43.0154 350.522 Q46.9042 345.638 53.4551 345.638 Q55.2144 345.638 56.9968 345.985 Q58.8023 346.332 60.7468 347.027 Z\" fill=\"#000000\" fill-rule=\"evenodd\" fill-opacity=\"1\" /><polyline clip-path=\"url(#clip942)\" style=\"stroke:#009af9; stroke-width:4; stroke-opacity:1; fill:none\" points=\"\n",
       "  151.118,1479.3 161.059,1479.3 171.001,1479.3 180.943,1479.3 190.885,1479.3 200.827,1479.3 210.769,1479.3 220.711,1479.3 230.653,1479.3 240.595,1479.3 \n",
       "  250.537,1479.3 260.479,1479.3 270.421,1479.29 280.362,1479.29 290.304,1479.29 300.246,1479.29 310.188,1479.29 320.13,1479.28 330.072,1479.28 340.014,1479.27 \n",
       "  349.956,1479.27 359.898,1479.26 369.84,1479.25 379.782,1479.23 389.724,1479.22 399.666,1479.19 409.607,1479.16 419.549,1479.13 429.491,1479.08 439.433,1479.03 \n",
       "  449.375,1478.95 459.317,1478.87 469.259,1478.76 479.201,1478.63 489.143,1478.46 499.085,1478.26 509.027,1478.02 518.969,1477.72 528.911,1477.36 538.852,1476.93 \n",
       "  548.794,1476.4 558.736,1475.78 568.678,1475.03 578.62,1474.14 588.562,1473.08 598.504,1471.83 608.446,1470.36 618.388,1468.63 628.33,1466.61 638.272,1464.25 \n",
       "  648.214,1461.51 658.155,1458.33 668.097,1454.67 678.039,1450.47 687.981,1445.65 697.923,1440.15 707.865,1433.91 717.807,1426.83 727.749,1418.85 737.691,1409.89 \n",
       "  747.633,1399.85 757.575,1388.66 767.517,1376.22 777.459,1362.47 787.4,1347.31 797.342,1330.68 807.284,1312.5 817.226,1292.72 827.168,1271.28 837.11,1248.14 \n",
       "  847.052,1223.27 856.994,1196.67 866.936,1168.34 876.878,1138.29 886.82,1106.58 896.762,1073.25 906.704,1038.39 916.645,1002.11 926.587,964.505 936.529,925.73 \n",
       "  946.471,885.935 956.413,845.288 966.355,803.974 976.297,762.188 986.239,720.132 996.181,678.015 1006.12,636.049 1016.06,594.446 1026.01,553.416 1035.95,513.162 \n",
       "  1045.89,473.884 1055.83,435.769 1065.77,398.994 1075.72,363.725 1085.66,330.115 1095.6,298.302 1105.54,268.414 1115.48,240.562 1125.43,214.845 1135.37,191.35 \n",
       "  1145.31,170.152 1155.25,151.313 1165.19,134.889 1175.14,120.922 1185.08,109.449 1195.02,100.498 1204.96,94.0896 1214.9,90.2389 1224.84,88.9544 1234.79,90.2389 \n",
       "  1244.73,94.0896 1254.67,100.498 1264.61,109.449 1274.55,120.922 1284.5,134.889 1294.44,151.313 1304.38,170.152 1314.32,191.35 1324.26,214.845 1334.21,240.562 \n",
       "  1344.15,268.414 1354.09,298.302 1364.03,330.115 1373.97,363.725 1383.92,398.994 1393.86,435.769 1403.8,473.884 1413.74,513.162 1423.68,553.416 1433.63,594.446 \n",
       "  1443.57,636.049 1453.51,678.015 1463.45,720.132 1473.39,762.188 1483.33,803.974 1493.28,845.288 1503.22,885.935 1513.16,925.73 1523.1,964.505 1533.04,1002.11 \n",
       "  1542.99,1038.39 1552.93,1073.25 1562.87,1106.58 1572.81,1138.29 1582.75,1168.34 1592.7,1196.67 1602.64,1223.27 1612.58,1248.14 1622.52,1271.28 1632.46,1292.72 \n",
       "  1642.41,1312.5 1652.35,1330.68 1662.29,1347.31 1672.23,1362.47 1682.17,1376.22 1692.12,1388.66 1702.06,1399.85 1712,1409.89 1721.94,1418.85 1731.88,1426.83 \n",
       "  1741.82,1433.91 1751.77,1440.15 1761.71,1445.65 1771.65,1450.47 1781.59,1454.67 1791.53,1458.33 1801.48,1461.51 1811.42,1464.25 1821.36,1466.61 1831.3,1468.63 \n",
       "  1841.24,1470.36 1851.19,1471.83 1861.13,1473.08 1871.07,1474.14 1881.01,1475.03 1890.95,1475.78 1900.9,1476.4 1910.84,1476.93 1920.78,1477.36 1930.72,1477.72 \n",
       "  1940.66,1478.02 1950.61,1478.26 1960.55,1478.46 1970.49,1478.63 1980.43,1478.76 1990.37,1478.87 2000.31,1478.95 2010.26,1479.03 2020.2,1479.08 2030.14,1479.13 \n",
       "  2040.08,1479.16 2050.02,1479.19 2059.97,1479.22 2069.91,1479.23 2079.85,1479.25 2089.79,1479.26 2099.73,1479.27 2109.68,1479.27 2119.62,1479.28 2129.56,1479.28 \n",
       "  2139.5,1479.29 2149.44,1479.29 2159.39,1479.29 2169.33,1479.29 2179.27,1479.29 2189.21,1479.3 2199.15,1479.3 2209.1,1479.3 2219.04,1479.3 2228.98,1479.3 \n",
       "  2238.92,1479.3 2248.86,1479.3 2258.8,1479.3 2268.75,1479.3 2278.69,1479.3 2288.63,1479.3 \n",
       "  \"/>\n",
       "<polyline clip-path=\"url(#clip942)\" style=\"stroke:#e26f46; stroke-width:4; stroke-opacity:1; fill:none\" points=\"\n",
       "  151.118,1479.3 161.059,1479.3 171.001,1479.3 180.943,1479.3 190.885,1479.3 200.827,1479.3 210.769,1479.3 220.711,1479.3 230.653,1479.3 240.595,1479.3 \n",
       "  250.537,1479.3 260.479,1479.3 270.421,1479.3 280.362,1479.3 290.304,1479.3 300.246,1479.3 310.188,1479.3 320.13,1479.3 330.072,1479.3 340.014,1479.3 \n",
       "  349.956,1479.3 359.898,1479.3 369.84,1479.3 379.782,1479.3 389.724,1479.3 399.666,1479.3 409.607,1479.3 419.549,1479.3 429.491,1479.3 439.433,1479.3 \n",
       "  449.375,1479.3 459.317,1479.3 469.259,1479.3 479.201,1479.3 489.143,1479.3 499.085,1479.3 509.027,1479.3 518.969,1479.3 528.911,1479.3 538.852,1479.3 \n",
       "  548.794,1479.3 558.736,1479.3 568.678,1479.3 578.62,1479.3 588.562,1479.3 598.504,1479.3 608.446,1479.3 618.388,1479.3 628.33,1479.3 638.272,1479.3 \n",
       "  648.214,1479.3 658.155,1479.3 668.097,1479.3 678.039,1479.3 687.981,1479.3 697.923,1479.3 707.865,1479.3 717.807,1479.3 727.749,1479.3 737.691,1479.3 \n",
       "  747.633,1479.3 757.575,1479.3 767.517,1479.3 777.459,1479.3 787.4,1479.3 797.342,1479.3 807.284,1479.3 817.226,1479.3 827.168,1479.3 837.11,1479.3 \n",
       "  847.052,1479.3 856.994,1479.3 866.936,1479.3 876.878,1479.3 886.82,1479.3 896.762,1479.3 906.704,1479.3 916.645,1479.3 926.587,1479.3 936.529,1479.3 \n",
       "  946.471,1479.3 956.413,1479.3 966.355,1479.3 976.297,1479.3 986.239,1479.3 996.181,1479.3 1006.12,1479.3 1016.06,1479.3 1026.01,1479.3 1035.95,1479.3 \n",
       "  1045.89,1479.3 1055.83,1479.3 1065.77,1479.3 1075.72,1479.3 1085.66,1479.3 1095.6,1479.3 1105.54,1479.3 1115.48,1479.3 1125.43,1479.3 1135.37,1479.3 \n",
       "  1145.31,1479.3 1155.25,1479.3 1165.19,1479.3 1175.14,1479.3 1185.08,1479.3 1195.02,1479.3 1204.96,1479.3 1214.9,1479.3 1224.84,1479.3 1234.79,1479.3 \n",
       "  1244.73,1479.3 1254.67,1479.3 1264.61,1479.3 1274.55,1479.3 1284.5,1479.3 1294.44,1479.3 1304.38,1479.3 1314.32,1479.3 1324.26,1479.3 1334.21,1479.3 \n",
       "  1344.15,1479.3 1354.09,1479.3 1364.03,1479.3 1373.97,1479.3 1383.92,1479.3 1393.86,1479.3 1403.8,1479.3 1413.74,1479.3 1423.68,1479.3 1433.63,1479.3 \n",
       "  1443.57,1479.3 1453.51,1479.3 1463.45,1479.3 1473.39,1479.3 1483.33,1479.3 1493.28,1479.3 1503.22,1479.3 1513.16,1479.3 1523.1,1479.3 1533.04,1479.3 \n",
       "  1542.99,1479.3 1552.93,1479.3 1562.87,1479.3 1572.81,1479.3 1582.75,1479.3 1592.7,1479.3 1602.64,1479.3 1612.58,1479.3 1622.52,1479.3 1632.46,1479.3 \n",
       "  1642.41,1479.3 1652.35,1479.3 1662.29,1479.3 1672.23,1479.3 1682.17,1479.3 1692.12,1479.3 1702.06,1479.3 1712,1479.3 1721.94,1479.3 1731.88,1479.3 \n",
       "  1741.82,1479.3 1751.77,1479.3 1761.71,1479.3 1771.65,1479.3 1781.59,1479.3 1791.53,1479.3 1801.48,1479.3 1811.42,1479.3 1821.36,1479.3 1831.3,1479.3 \n",
       "  1841.24,1479.3 1851.19,1479.3 1861.13,1479.3 1871.07,1479.3 1881.01,1479.3 1890.95,1479.3 1900.9,1479.3 1910.84,1479.3 1920.78,1479.3 1930.72,1479.3 \n",
       "  1940.66,1479.3 1950.61,1479.3 1960.55,1479.3 1970.49,1479.3 1980.43,1479.3 1990.37,1479.3 2000.31,1479.3 2010.26,1479.3 2020.2,1479.3 2030.14,1479.3 \n",
       "  2040.08,1479.3 2050.02,1479.3 2059.97,1479.3 2069.91,1479.3 2079.85,1479.3 2089.79,1479.3 2099.73,1479.3 2109.68,1479.3 2119.62,1479.3 2129.56,1479.3 \n",
       "  2139.5,1479.3 2149.44,1479.3 2159.39,1479.3 2169.33,1479.3 2179.27,1479.3 2189.21,1479.3 2199.15,1479.3 2209.1,1479.3 2219.04,1479.3 2228.98,1479.3 \n",
       "  2238.92,1479.3 2248.86,1479.3 2258.8,1479.3 2268.75,1479.3 2278.69,1479.3 2288.63,1479.3 \n",
       "  \"/>\n",
       "<polyline clip-path=\"url(#clip942)\" style=\"stroke:#3da44d; stroke-width:4; stroke-opacity:1; fill:none\" points=\"\n",
       "  151.118,1479.3 161.059,1479.3 171.001,1479.3 180.943,1479.3 190.885,1479.3 200.827,1479.3 210.769,1479.3 220.711,1479.3 230.653,1479.3 240.595,1479.3 \n",
       "  250.537,1479.3 260.479,1479.3 270.421,1479.3 280.362,1479.3 290.304,1479.3 300.246,1479.3 310.188,1479.3 320.13,1479.3 330.072,1479.3 340.014,1479.3 \n",
       "  349.956,1479.3 359.898,1479.3 369.84,1479.3 379.782,1479.3 389.724,1479.3 399.666,1479.3 409.607,1479.3 419.549,1479.3 429.491,1479.3 439.433,1479.3 \n",
       "  449.375,1479.3 459.317,1479.3 469.259,1479.3 479.201,1479.3 489.143,1479.3 499.085,1479.3 509.027,1479.3 518.969,1479.3 528.911,1479.3 538.852,1479.29 \n",
       "  548.794,1479.29 558.736,1479.29 568.678,1479.29 578.62,1479.28 588.562,1479.28 598.504,1479.27 608.446,1479.25 618.388,1479.24 628.33,1479.21 638.272,1479.18 \n",
       "  648.214,1479.13 658.155,1479.06 668.097,1478.97 678.039,1478.85 687.981,1478.69 697.923,1478.47 707.865,1478.19 717.807,1477.82 727.749,1477.33 737.691,1476.71 \n",
       "  747.633,1475.9 757.575,1474.88 767.517,1473.58 777.459,1471.96 787.4,1469.93 797.342,1467.42 807.284,1464.34 817.226,1460.58 827.168,1456.03 837.11,1450.56 \n",
       "  847.052,1444.05 856.994,1436.34 866.936,1427.3 876.878,1416.76 886.82,1404.59 896.762,1390.64 906.704,1374.76 916.645,1356.84 926.587,1336.79 936.529,1314.51 \n",
       "  946.471,1289.97 956.413,1263.14 966.355,1234.05 976.297,1202.76 986.239,1169.37 996.181,1134.03 1006.12,1096.92 1016.06,1058.26 1026.01,1018.31 1035.95,977.35 \n",
       "  1045.89,935.707 1055.83,893.71 1065.77,851.71 1075.72,810.063 1085.66,769.13 1095.6,729.267 1105.54,690.824 1115.48,654.135 1125.43,619.517 1135.37,587.269 \n",
       "  1145.31,557.663 1155.25,530.948 1165.19,507.345 1175.14,487.045 1185.08,470.213 1195.02,456.982 1204.96,447.457 1214.9,441.713 1224.84,439.793 1234.79,441.713 \n",
       "  1244.73,447.457 1254.67,456.982 1264.61,470.213 1274.55,487.045 1284.5,507.345 1294.44,530.948 1304.38,557.663 1314.32,587.269 1324.26,619.517 1334.21,654.135 \n",
       "  1344.15,690.824 1354.09,729.267 1364.03,769.13 1373.97,810.063 1383.92,851.71 1393.86,893.71 1403.8,935.707 1413.74,977.35 1423.68,1018.31 1433.63,1058.26 \n",
       "  1443.57,1096.92 1453.51,1134.03 1463.45,1169.37 1473.39,1202.76 1483.33,1234.05 1493.28,1263.14 1503.22,1289.97 1513.16,1314.51 1523.1,1336.79 1533.04,1356.84 \n",
       "  1542.99,1374.76 1552.93,1390.64 1562.87,1404.59 1572.81,1416.76 1582.75,1427.3 1592.7,1436.34 1602.64,1444.05 1612.58,1450.56 1622.52,1456.03 1632.46,1460.58 \n",
       "  1642.41,1464.34 1652.35,1467.42 1662.29,1469.93 1672.23,1471.96 1682.17,1473.58 1692.12,1474.88 1702.06,1475.9 1712,1476.71 1721.94,1477.33 1731.88,1477.82 \n",
       "  1741.82,1478.19 1751.77,1478.47 1761.71,1478.69 1771.65,1478.85 1781.59,1478.97 1791.53,1479.06 1801.48,1479.13 1811.42,1479.18 1821.36,1479.21 1831.3,1479.24 \n",
       "  1841.24,1479.25 1851.19,1479.27 1861.13,1479.28 1871.07,1479.28 1881.01,1479.29 1890.95,1479.29 1900.9,1479.29 1910.84,1479.29 1920.78,1479.3 1930.72,1479.3 \n",
       "  1940.66,1479.3 1950.61,1479.3 1960.55,1479.3 1970.49,1479.3 1980.43,1479.3 1990.37,1479.3 2000.31,1479.3 2010.26,1479.3 2020.2,1479.3 2030.14,1479.3 \n",
       "  2040.08,1479.3 2050.02,1479.3 2059.97,1479.3 2069.91,1479.3 2079.85,1479.3 2089.79,1479.3 2099.73,1479.3 2109.68,1479.3 2119.62,1479.3 2129.56,1479.3 \n",
       "  2139.5,1479.3 2149.44,1479.3 2159.39,1479.3 2169.33,1479.3 2179.27,1479.3 2189.21,1479.3 2199.15,1479.3 2209.1,1479.3 2219.04,1479.3 2228.98,1479.3 \n",
       "  2238.92,1479.3 2248.86,1479.3 2258.8,1479.3 2268.75,1479.3 2278.69,1479.3 2288.63,1479.3 \n",
       "  \"/>\n",
       "<path clip-path=\"url(#clip940)\" d=\"\n",
       "M1958.15 277.81 L2352.76 277.81 L2352.76 35.8896 L1958.15 35.8896  Z\n",
       "  \" fill=\"#ffffff\" fill-rule=\"evenodd\" fill-opacity=\"1\"/>\n",
       "<polyline clip-path=\"url(#clip940)\" style=\"stroke:#000000; stroke-width:4; stroke-opacity:1; fill:none\" points=\"\n",
       "  1958.15,277.81 2352.76,277.81 2352.76,35.8896 1958.15,35.8896 1958.15,277.81 \n",
       "  \"/>\n",
       "<polyline clip-path=\"url(#clip940)\" style=\"stroke:#009af9; stroke-width:4; stroke-opacity:1; fill:none\" points=\"\n",
       "  1982.15,96.3696 2126.15,96.3696 \n",
       "  \"/>\n",
       "<path clip-path=\"url(#clip940)\" d=\"M 0 0 M2165.34 91.7052 Q2164.62 91.2886 2163.76 91.1034 Q2162.93 90.895 2161.91 90.895 Q2158.3 90.895 2156.35 93.2561 Q2154.43 95.5941 2154.43 99.9922 L2154.43 113.65 L2150.15 113.65 L2150.15 87.7238 L2154.43 87.7238 L2154.43 91.7515 Q2155.78 89.3904 2157.93 88.2562 Q2160.08 87.0988 2163.16 87.0988 Q2163.6 87.0988 2164.13 87.1682 Q2164.66 87.2145 2165.31 87.3303 L2165.34 91.7052 Z\" fill=\"#000000\" fill-rule=\"evenodd\" fill-opacity=\"1\" /><path clip-path=\"url(#clip940)\" d=\"M 0 0 M2190.94 99.6219 L2190.94 101.705 L2171.35 101.705 Q2171.63 106.103 2173.99 108.418 Q2176.38 110.71 2180.61 110.71 Q2183.07 110.71 2185.36 110.108 Q2187.67 109.506 2189.94 108.302 L2189.94 112.33 Q2187.65 113.302 2185.24 113.812 Q2182.84 114.321 2180.36 114.321 Q2174.15 114.321 2170.52 110.71 Q2166.91 107.099 2166.91 100.941 Q2166.91 94.5756 2170.34 90.8488 Q2173.78 87.0988 2179.62 87.0988 Q2184.85 87.0988 2187.88 90.4784 Q2190.94 93.8348 2190.94 99.6219 M2186.68 98.3719 Q2186.63 94.8765 2184.71 92.7932 Q2182.81 90.7099 2179.66 90.7099 Q2176.1 90.7099 2173.95 92.7237 Q2171.82 94.7376 2171.49 98.395 L2186.68 98.3719 Z\" fill=\"#000000\" fill-rule=\"evenodd\" fill-opacity=\"1\" /><path clip-path=\"url(#clip940)\" d=\"M 0 0 M2207.19 100.617 Q2202.02 100.617 2200.03 101.798 Q2198.04 102.978 2198.04 105.826 Q2198.04 108.094 2199.52 109.437 Q2201.03 110.756 2203.6 110.756 Q2207.14 110.756 2209.27 108.256 Q2211.42 105.733 2211.42 101.566 L2211.42 100.617 L2207.19 100.617 M2215.68 98.858 L2215.68 113.65 L2211.42 113.65 L2211.42 109.714 Q2209.96 112.075 2207.79 113.21 Q2205.61 114.321 2202.46 114.321 Q2198.48 114.321 2196.12 112.099 Q2193.78 109.853 2193.78 106.103 Q2193.78 101.728 2196.7 99.5061 Q2199.64 97.2839 2205.45 97.2839 L2211.42 97.2839 L2211.42 96.8672 Q2211.42 93.9274 2209.48 92.3302 Q2207.56 90.7099 2204.06 90.7099 Q2201.84 90.7099 2199.73 91.2423 Q2197.63 91.7747 2195.68 92.8395 L2195.68 88.9043 Q2198.02 88.0015 2200.22 87.5617 Q2202.42 87.0988 2204.5 87.0988 Q2210.13 87.0988 2212.9 90.0154 Q2215.68 92.9321 2215.68 98.858 Z\" fill=\"#000000\" fill-rule=\"evenodd\" fill-opacity=\"1\" /><path clip-path=\"url(#clip940)\" d=\"M 0 0 M2220.15 77.6312 L2224.41 77.6312 L2224.41 113.65 L2220.15 113.65 L2220.15 77.6312 Z\" fill=\"#000000\" fill-rule=\"evenodd\" fill-opacity=\"1\" /><path clip-path=\"url(#clip940)\" d=\"M 0 0 M2239.11 77.6775 Q2236.01 83.0016 2234.5 88.2099 Q2233 93.4182 2233 98.7654 Q2233 104.113 2234.5 109.367 Q2236.03 114.599 2239.11 119.9 L2235.4 119.9 Q2231.93 114.46 2230.2 109.205 Q2228.48 103.951 2228.48 98.7654 Q2228.48 93.6034 2230.2 88.3719 Q2231.91 83.1405 2235.4 77.6775 L2239.11 77.6775 Z\" fill=\"#000000\" fill-rule=\"evenodd\" fill-opacity=\"1\" /><path clip-path=\"url(#clip940)\" d=\"M 0 0 M2252.56 114.228 Q2247.21 113.372 2244.73 111.126 Q2241.7 108.372 2241.7 102.747 L2241.7 87.7238 L2246.01 87.7238 L2246.01 102.585 Q2246.01 106.821 2247.97 108.58 Q2249.69 110.108 2252.56 110.432 L2252.56 87.7238 L2256.79 87.7238 L2256.79 110.409 Q2259.83 110.085 2261.38 108.557 Q2263.34 106.613 2263.34 102.562 L2263.34 87.7238 L2267.65 87.7238 L2267.65 102.724 Q2267.65 108.557 2264.62 111.103 Q2261.89 113.395 2256.79 114.205 L2256.79 123.511 L2252.56 123.511 L2252.56 114.228 Z\" fill=\"#000000\" fill-rule=\"evenodd\" fill-opacity=\"1\" /><path clip-path=\"url(#clip940)\" d=\"M 0 0 M2271.45 77.6775 L2275.15 77.6775 Q2278.62 83.1405 2280.33 88.3719 Q2282.07 93.6034 2282.07 98.7654 Q2282.07 103.951 2280.33 109.205 Q2278.62 114.46 2275.15 119.9 L2271.45 119.9 Q2274.52 114.599 2276.03 109.367 Q2277.56 104.113 2277.56 98.7654 Q2277.56 93.4182 2276.03 88.2099 Q2274.52 83.0016 2271.45 77.6775 Z\" fill=\"#000000\" fill-rule=\"evenodd\" fill-opacity=\"1\" /><polyline clip-path=\"url(#clip940)\" style=\"stroke:#e26f46; stroke-width:4; stroke-opacity:1; fill:none\" points=\"\n",
       "  1982.15,156.85 2126.15,156.85 \n",
       "  \"/>\n",
       "<path clip-path=\"url(#clip940)\" d=\"M 0 0 M2150.15 148.204 L2154.41 148.204 L2154.41 174.13 L2150.15 174.13 L2150.15 148.204 M2150.15 138.111 L2154.41 138.111 L2154.41 143.505 L2150.15 143.505 L2150.15 138.111 Z\" fill=\"#000000\" fill-rule=\"evenodd\" fill-opacity=\"1\" /><path clip-path=\"url(#clip940)\" d=\"M 0 0 M2179.06 153.181 Q2180.66 150.31 2182.88 148.945 Q2185.1 147.579 2188.11 147.579 Q2192.16 147.579 2194.36 150.426 Q2196.56 153.25 2196.56 158.481 L2196.56 174.13 L2192.28 174.13 L2192.28 158.62 Q2192.28 154.894 2190.96 153.088 Q2189.64 151.282 2186.93 151.282 Q2183.62 151.282 2181.7 153.482 Q2179.78 155.681 2179.78 159.477 L2179.78 174.13 L2175.5 174.13 L2175.5 158.62 Q2175.5 154.87 2174.18 153.088 Q2172.86 151.282 2170.1 151.282 Q2166.84 151.282 2164.92 153.505 Q2163 155.704 2163 159.477 L2163 174.13 L2158.72 174.13 L2158.72 148.204 L2163 148.204 L2163 152.232 Q2164.46 149.847 2166.49 148.713 Q2168.53 147.579 2171.33 147.579 Q2174.15 147.579 2176.12 149.014 Q2178.11 150.449 2179.06 153.181 Z\" fill=\"#000000\" fill-rule=\"evenodd\" fill-opacity=\"1\" /><path clip-path=\"url(#clip940)\" d=\"M 0 0 M2212.81 161.097 Q2207.65 161.097 2205.66 162.278 Q2203.67 163.458 2203.67 166.306 Q2203.67 168.574 2205.15 169.917 Q2206.65 171.236 2209.22 171.236 Q2212.77 171.236 2214.9 168.736 Q2217.05 166.213 2217.05 162.046 L2217.05 161.097 L2212.81 161.097 M2221.31 159.338 L2221.31 174.13 L2217.05 174.13 L2217.05 170.194 Q2215.59 172.555 2213.41 173.69 Q2211.24 174.801 2208.09 174.801 Q2204.11 174.801 2201.75 172.579 Q2199.41 170.333 2199.41 166.583 Q2199.41 162.208 2202.33 159.986 Q2205.27 157.764 2211.08 157.764 L2217.05 157.764 L2217.05 157.347 Q2217.05 154.407 2215.1 152.81 Q2213.18 151.19 2209.69 151.19 Q2207.46 151.19 2205.36 151.722 Q2203.25 152.255 2201.31 153.319 L2201.31 149.384 Q2203.65 148.482 2205.84 148.042 Q2208.04 147.579 2210.13 147.579 Q2215.75 147.579 2218.53 150.495 Q2221.31 153.412 2221.31 159.338 Z\" fill=\"#000000\" fill-rule=\"evenodd\" fill-opacity=\"1\" /><path clip-path=\"url(#clip940)\" d=\"M 0 0 M2242.83 160.866 Q2242.83 156.236 2240.91 153.69 Q2239.02 151.144 2235.57 151.144 Q2232.14 151.144 2230.22 153.69 Q2228.32 156.236 2228.32 160.866 Q2228.32 165.472 2230.22 168.018 Q2232.14 170.565 2235.57 170.565 Q2239.02 170.565 2240.91 168.018 Q2242.83 165.472 2242.83 160.866 M2247.09 170.912 Q2247.09 177.532 2244.15 180.75 Q2241.21 183.991 2235.15 183.991 Q2232.9 183.991 2230.91 183.643 Q2228.92 183.319 2227.05 182.625 L2227.05 178.481 Q2228.92 179.5 2230.75 179.986 Q2232.58 180.472 2234.48 180.472 Q2238.67 180.472 2240.75 178.273 Q2242.83 176.097 2242.83 171.676 L2242.83 169.569 Q2241.52 171.861 2239.46 172.995 Q2237.4 174.13 2234.52 174.13 Q2229.76 174.13 2226.84 170.495 Q2223.92 166.861 2223.92 160.866 Q2223.92 154.847 2226.84 151.213 Q2229.76 147.579 2234.52 147.579 Q2237.4 147.579 2239.46 148.713 Q2241.52 149.847 2242.83 152.139 L2242.83 148.204 L2247.09 148.204 L2247.09 170.912 Z\" fill=\"#000000\" fill-rule=\"evenodd\" fill-opacity=\"1\" /><path clip-path=\"url(#clip940)\" d=\"M 0 0 M2261.79 138.158 Q2258.69 143.482 2257.19 148.69 Q2255.68 153.898 2255.68 159.245 Q2255.68 164.593 2257.19 169.847 Q2258.71 175.079 2261.79 180.38 L2258.09 180.38 Q2254.62 174.94 2252.88 169.685 Q2251.17 164.431 2251.17 159.245 Q2251.17 154.083 2252.88 148.852 Q2254.59 143.62 2258.09 138.158 L2261.79 138.158 Z\" fill=\"#000000\" fill-rule=\"evenodd\" fill-opacity=\"1\" /><path clip-path=\"url(#clip940)\" d=\"M 0 0 M2275.24 174.708 Q2269.89 173.852 2267.42 171.606 Q2264.39 168.852 2264.39 163.227 L2264.39 148.204 L2268.69 148.204 L2268.69 163.065 Q2268.69 167.301 2270.66 169.06 Q2272.37 170.588 2275.24 170.912 L2275.24 148.204 L2279.48 148.204 L2279.48 170.889 Q2282.51 170.565 2284.06 169.037 Q2286.03 167.093 2286.03 163.042 L2286.03 148.204 L2290.33 148.204 L2290.33 163.204 Q2290.33 169.037 2287.3 171.583 Q2284.57 173.875 2279.48 174.685 L2279.48 183.991 L2275.24 183.991 L2275.24 174.708 Z\" fill=\"#000000\" fill-rule=\"evenodd\" fill-opacity=\"1\" /><path clip-path=\"url(#clip940)\" d=\"M 0 0 M2294.13 138.158 L2297.83 138.158 Q2301.31 143.62 2303.02 148.852 Q2304.76 154.083 2304.76 159.245 Q2304.76 164.431 2303.02 169.685 Q2301.31 174.94 2297.83 180.38 L2294.13 180.38 Q2297.21 175.079 2298.71 169.847 Q2300.24 164.593 2300.24 159.245 Q2300.24 153.898 2298.71 148.69 Q2297.21 143.482 2294.13 138.158 Z\" fill=\"#000000\" fill-rule=\"evenodd\" fill-opacity=\"1\" /><polyline clip-path=\"url(#clip940)\" style=\"stroke:#3da44d; stroke-width:4; stroke-opacity:1; fill:none\" points=\"\n",
       "  1982.15,217.33 2126.15,217.33 \n",
       "  \"/>\n",
       "<path clip-path=\"url(#clip940)\" d=\"M 0 0 M2152.23 213.313 Q2153.65 210.952 2157.14 208.869 Q2158.51 208.059 2162.72 208.059 Q2167.44 208.059 2170.38 211.809 Q2173.34 215.559 2173.34 221.67 Q2173.34 227.781 2170.38 231.531 Q2167.44 235.281 2162.72 235.281 Q2159.87 235.281 2157.81 234.17 Q2155.78 233.035 2154.43 230.721 L2154.43 244.471 L2150.15 244.471 L2150.15 221.901 Q2150.15 216.554 2152.23 213.313 M2168.92 221.67 Q2168.92 216.971 2166.98 214.309 Q2165.06 211.624 2161.68 211.624 Q2158.3 211.624 2156.35 214.309 Q2154.43 216.971 2154.43 221.67 Q2154.43 226.369 2156.35 229.054 Q2158.3 231.716 2161.68 231.716 Q2165.06 231.716 2166.98 229.054 Q2168.92 226.369 2168.92 221.67 Z\" fill=\"#000000\" fill-rule=\"evenodd\" fill-opacity=\"1\" /></svg>\n"
      ]
     },
     "metadata": {},
     "execution_count": 10
    }
   ],
   "cell_type": "code",
   "source": [
    "using Plots\n",
    "\n",
    "p = plot(x, real.(ψ), label=\"real(ψ)\")\n",
    "plot!(p, x, imag.(ψ), label=\"imag(ψ)\")\n",
    "plot!(p, x, ρ, label=\"ρ\")"
   ],
   "metadata": {},
   "execution_count": 10
  },
  {
   "cell_type": "markdown",
   "source": [
    "The `energy_hamiltonian` function can be used to get the energy and\n",
    "effective Hamiltonian (derivative of the energy with respect to the density matrix)\n",
    "of a particular state (ψ, occupation).\n",
    "The density ρ associated to this state is precomputed\n",
    "and passed to the routine as an optimization."
   ],
   "metadata": {}
  },
  {
   "outputs": [],
   "cell_type": "code",
   "source": [
    "E, ham = energy_hamiltonian(basis, scfres.ψ, scfres.occupation; ρ=scfres.ρ)\n",
    "@assert E.total == scfres.energies.total"
   ],
   "metadata": {},
   "execution_count": 11
  },
  {
   "cell_type": "markdown",
   "source": [
    "Now the Hamiltonian contains all the blocks corresponding to kpoints. Here, we just have one kpoint:"
   ],
   "metadata": {}
  },
  {
   "outputs": [],
   "cell_type": "code",
   "source": [
    "H = ham.blocks[1];"
   ],
   "metadata": {},
   "execution_count": 12
  },
  {
   "cell_type": "markdown",
   "source": [
    "`H` can be used as a linear operator (efficiently using FFTs), or converted to a dense matrix:"
   ],
   "metadata": {}
  },
  {
   "outputs": [],
   "cell_type": "code",
   "source": [
    "ψ11 = scfres.ψ[1][:, 1] # first kpoint, first eigenvector\n",
    "Hmat = Array(H) # This is now just a plain Julia matrix,\n",
    "#                which we can compute and store in this simple 1D example\n",
    "@assert norm(Hmat * ψ11 - H * ψ11) < 1e-10"
   ],
   "metadata": {},
   "execution_count": 13
  },
  {
   "cell_type": "markdown",
   "source": [
    "Let's check that ψ11 is indeed an eigenstate:"
   ],
   "metadata": {}
  },
  {
   "outputs": [
    {
     "output_type": "execute_result",
     "data": {
      "text/plain": "1.438755805213859e-7"
     },
     "metadata": {},
     "execution_count": 14
    }
   ],
   "cell_type": "code",
   "source": [
    "norm(H * ψ11 - dot(ψ11, H * ψ11) * ψ11)"
   ],
   "metadata": {},
   "execution_count": 14
  },
  {
   "cell_type": "markdown",
   "source": [
    "Build a finite-differences version of the GPE operator ``H``, as a sanity check:"
   ],
   "metadata": {}
  },
  {
   "outputs": [
    {
     "output_type": "execute_result",
     "data": {
      "text/plain": "0.00022343415757874406"
     },
     "metadata": {},
     "execution_count": 15
    }
   ],
   "cell_type": "code",
   "source": [
    "A = Array(Tridiagonal(-ones(N - 1), 2ones(N), -ones(N - 1)))\n",
    "A[1, end] = A[end, 1] = -1\n",
    "K = A / dx^2 / 2\n",
    "V = Diagonal(pot.(x) + C .* α .* (ρ.^(α-1)))\n",
    "H_findiff = K + V;\n",
    "maximum(abs.(H_findiff*ψ - (dot(ψ, H_findiff*ψ) / dot(ψ, ψ)) * ψ))"
   ],
   "metadata": {},
   "execution_count": 15
  }
 ],
 "nbformat_minor": 3,
 "metadata": {
  "language_info": {
   "file_extension": ".jl",
   "mimetype": "application/julia",
   "name": "julia",
   "version": "1.3.1"
  },
  "kernelspec": {
   "name": "julia-1.3",
   "display_name": "Julia 1.3.1",
   "language": "julia"
  }
 },
 "nbformat": 4
}
