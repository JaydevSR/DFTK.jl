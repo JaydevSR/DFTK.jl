{
 "cells": [
  {
   "cell_type": "markdown",
   "source": [
    "# Creating supercells with pymatgen\n",
    "\n",
    "The [Pymatgen](https://pymatgen.org/) python library allows to setup\n",
    "solid-state calculations using a flexible set of classes as well as an API\n",
    "to an online data base of structures. Its `Structure` and `Lattice`\n",
    "objects are directly supported by the DFTK `load_atoms` and `load_lattice`\n",
    "functions, such that DFTK may be readily used to run calculation on systems\n",
    "defined in pymatgen. Using the `pymatgen_structure` function a conversion\n",
    "from DFTK to pymatgen structures is also possible. In the following we\n",
    "use this to create a silicon supercell and find its LDA ground state\n",
    "using direct minimisation."
   ],
   "metadata": {}
  },
  {
   "cell_type": "markdown",
   "source": [
    "First we setup the silicon lattice in DFTK."
   ],
   "metadata": {}
  },
  {
   "outputs": [],
   "cell_type": "code",
   "source": [
    "using DFTK\n",
    "\n",
    "a = 10.263141334305942  # Lattice constant in Bohr\n",
    "lattice = a / 2 .* [[0 1 1.]; [1 0 1.]; [1 1 0.]]\n",
    "Si = ElementPsp(:Si, psp=load_psp(\"hgh/lda/Si-q4\"))\n",
    "atoms = [Si => [ones(3)/8, -ones(3)/8]];"
   ],
   "metadata": {},
   "execution_count": 1
  },
  {
   "cell_type": "markdown",
   "source": [
    "Next we make a `[2, 2, 2]` supercell using pymatgen"
   ],
   "metadata": {}
  },
  {
   "outputs": [],
   "cell_type": "code",
   "source": [
    "pystruct = pymatgen_structure(lattice, atoms)\n",
    "pystruct.make_supercell([2, 2, 2])\n",
    "lattice = load_lattice(pystruct)\n",
    "atoms = [Si => [s.frac_coords for s in pystruct.sites]];"
   ],
   "metadata": {},
   "execution_count": 2
  },
  {
   "cell_type": "markdown",
   "source": [
    "Setup an LDA model and discretize using\n",
    "a single kpoint and a small `Ecut` of 5 Hartree."
   ],
   "metadata": {}
  },
  {
   "outputs": [
    {
     "output_type": "execute_result",
     "data": {
      "text/plain": "PlaneWaveBasis (Ecut=5.0, 1 kpoints)"
     },
     "metadata": {},
     "execution_count": 3
    }
   ],
   "cell_type": "code",
   "source": [
    "model = model_LDA(lattice, atoms)\n",
    "basis = PlaneWaveBasis(model, 5, kgrid=(1, 1, 1))"
   ],
   "metadata": {},
   "execution_count": 3
  },
  {
   "cell_type": "markdown",
   "source": [
    "Find the ground state using direct minimisation (always using SCF is boring ...)"
   ],
   "metadata": {}
  },
  {
   "outputs": [
    {
     "name": "stdout",
     "output_type": "stream",
     "text": [
      "Iter     Function value   Gradient norm \n",
      "     0     1.117920e+02     1.731046e+00\n",
      " * time: 0.08718419075012207\n",
      "     1     1.094231e+01     1.008072e+00\n",
      " * time: 0.9430320262908936\n",
      "     2    -1.176795e+01     1.167570e+00\n",
      " * time: 1.095870018005371\n",
      "     3    -3.395608e+01     9.275373e-01\n",
      " * time: 1.2343530654907227\n",
      "     4    -4.750550e+01     6.511170e-01\n",
      " * time: 1.3861801624298096\n",
      "     5    -5.671711e+01     2.701177e-01\n",
      " * time: 1.5302481651306152\n",
      "     6    -5.945605e+01     2.799139e-01\n",
      " * time: 1.6349921226501465\n",
      "     7    -6.061725e+01     1.520144e-01\n",
      " * time: 1.7454791069030762\n",
      "     8    -6.117942e+01     7.012199e-02\n",
      " * time: 1.8517100811004639\n",
      "     9    -6.146611e+01     5.182817e-02\n",
      " * time: 1.9628381729125977\n",
      "    10    -6.172059e+01     3.933205e-02\n",
      " * time: 2.068446159362793\n",
      "    11    -6.188813e+01     2.605729e-02\n",
      " * time: 2.17799711227417\n",
      "    12    -6.201710e+01     2.094150e-02\n",
      " * time: 2.2829701900482178\n",
      "    13    -6.207906e+01     1.645206e-02\n",
      " * time: 2.3928990364074707\n",
      "    14    -6.214439e+01     1.351068e-02\n",
      " * time: 2.4971752166748047\n",
      "    15    -6.217480e+01     1.248451e-02\n",
      " * time: 2.6067800521850586\n",
      "    16    -6.219969e+01     1.029640e-02\n",
      " * time: 2.711210012435913\n",
      "    17    -6.221357e+01     9.260486e-03\n",
      " * time: 2.822010040283203\n",
      "    18    -6.222437e+01     7.378733e-03\n",
      " * time: 2.92854905128479\n",
      "    19    -6.223154e+01     6.947547e-03\n",
      " * time: 3.0386850833892822\n",
      "    20    -6.223775e+01     5.765571e-03\n",
      " * time: 3.142307996749878\n",
      "    21    -6.224374e+01     5.285868e-03\n",
      " * time: 3.2514290809631348\n",
      "    22    -6.224953e+01     5.112926e-03\n",
      " * time: 3.355889081954956\n",
      "    23    -6.225438e+01     4.646278e-03\n",
      " * time: 3.4656879901885986\n",
      "    24    -6.225772e+01     3.515968e-03\n",
      " * time: 3.5698931217193604\n",
      "    25    -6.225964e+01     2.112762e-03\n",
      " * time: 3.6797361373901367\n",
      "    26    -6.226062e+01     1.331530e-03\n",
      " * time: 3.7841532230377197\n",
      "    27    -6.226108e+01     9.965077e-04\n",
      " * time: 3.8952832221984863\n",
      "    28    -6.226130e+01     8.284663e-04\n",
      " * time: 4.0010271072387695\n",
      "    29    -6.226142e+01     7.038787e-04\n",
      " * time: 4.112115144729614\n",
      "    30    -6.226150e+01     5.790262e-04\n",
      " * time: 4.217755079269409\n",
      "    31    -6.226155e+01     4.506751e-04\n",
      " * time: 4.328866004943848\n",
      "    32    -6.226159e+01     4.024675e-04\n",
      " * time: 4.434202194213867\n",
      "    33    -6.226161e+01     3.016050e-04\n",
      " * time: 4.545179128646851\n",
      "    34    -6.226164e+01     2.277231e-04\n",
      " * time: 4.6513512134552\n",
      "    35    -6.226165e+01     1.930900e-04\n",
      " * time: 4.762643098831177\n",
      "    36    -6.226166e+01     1.298008e-04\n",
      " * time: 4.867135047912598\n",
      "    37    -6.226166e+01     1.193794e-04\n",
      " * time: 4.9773290157318115\n",
      "    38    -6.226166e+01     7.467171e-05\n",
      " * time: 5.081180095672607\n",
      "    39    -6.226167e+01     4.975605e-05\n",
      " * time: 5.190506219863892\n",
      "    40    -6.226167e+01     3.910991e-05\n",
      " * time: 5.293972015380859\n",
      "    41    -6.226167e+01     3.142005e-05\n",
      " * time: 5.40315318107605\n",
      "    42    -6.226167e+01     2.215404e-05\n",
      " * time: 5.507665157318115\n",
      "    43    -6.226167e+01     1.898045e-05\n",
      " * time: 5.617932081222534\n",
      "    44    -6.226167e+01     1.222549e-05\n",
      " * time: 5.723495006561279\n",
      "    45    -6.226167e+01     1.233115e-05\n",
      " * time: 5.832503080368042\n",
      "    46    -6.226167e+01     9.618900e-06\n",
      " * time: 5.935765027999878\n",
      "    47    -6.226167e+01     7.411620e-06\n",
      " * time: 6.046281099319458\n",
      "    48    -6.226167e+01     5.380281e-06\n",
      " * time: 6.149806022644043\n",
      "    49    -6.226167e+01     3.583573e-06\n",
      " * time: 6.259178161621094\n",
      "    50    -6.226167e+01     2.343252e-06\n",
      " * time: 6.364001989364624\n"
     ]
    }
   ],
   "cell_type": "code",
   "source": [
    "scfres = direct_minimization(basis, tol=1e-5);"
   ],
   "metadata": {},
   "execution_count": 4
  },
  {
   "outputs": [
    {
     "output_type": "execute_result",
     "data": {
      "text/plain": "Energy breakdown:\n    Kinetic             25.7671065\n    AtomicLocal         -18.8557610\n    AtomicNonlocal      14.8522591\n    Ewald               -67.1831486\n    PspCorrection       -2.3569765\n    Hartree             4.8485356 \n    Xc                  -19.3336815\n\n    total               -62.261666460550\n"
     },
     "metadata": {},
     "execution_count": 5
    }
   ],
   "cell_type": "code",
   "source": [
    "scfres.energies"
   ],
   "metadata": {},
   "execution_count": 5
  }
 ],
 "nbformat_minor": 3,
 "metadata": {
  "language_info": {
   "file_extension": ".jl",
   "mimetype": "application/julia",
   "name": "julia",
   "version": "1.3.1"
  },
  "kernelspec": {
   "name": "julia-1.3",
   "display_name": "Julia 1.3.1",
   "language": "julia"
  }
 },
 "nbformat": 4
}
