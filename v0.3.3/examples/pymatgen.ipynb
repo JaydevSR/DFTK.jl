{
 "cells": [
  {
   "cell_type": "markdown",
   "source": [
    "# Creating supercells with pymatgen\n",
    "\n",
    "The [Pymatgen](https://pymatgen.org/) python library allows to setup\n",
    "solid-state calculations using a flexible set of classes as well as an API\n",
    "to an online data base of structures. Its `Structure` and `Lattice`\n",
    "objects are directly supported by the DFTK `load_atoms` and `load_lattice`\n",
    "functions, such that DFTK may be readily used to run calculation on systems\n",
    "defined in pymatgen. Using the `pymatgen_structure` function a conversion\n",
    "from DFTK to pymatgen structures is also possible. In the following we\n",
    "use this to create a silicon supercell and find its LDA ground state\n",
    "using direct minimisation."
   ],
   "metadata": {}
  },
  {
   "cell_type": "markdown",
   "source": [
    "First we setup the silicon lattice in DFTK."
   ],
   "metadata": {}
  },
  {
   "outputs": [],
   "cell_type": "code",
   "source": [
    "using DFTK\n",
    "\n",
    "a = 10.263141334305942  # Lattice constant in Bohr\n",
    "lattice = a / 2 .* [[0 1 1.]; [1 0 1.]; [1 1 0.]]\n",
    "Si = ElementPsp(:Si, psp=load_psp(\"hgh/lda/Si-q4\"))\n",
    "atoms = [Si => [ones(3)/8, -ones(3)/8]];"
   ],
   "metadata": {},
   "execution_count": 1
  },
  {
   "cell_type": "markdown",
   "source": [
    "Next we make a `[2, 2, 2]` supercell using pymatgen"
   ],
   "metadata": {}
  },
  {
   "outputs": [],
   "cell_type": "code",
   "source": [
    "pystruct = pymatgen_structure(lattice, atoms)\n",
    "pystruct.make_supercell([2, 2, 2])\n",
    "lattice = load_lattice(pystruct)\n",
    "atoms = [Si => [s.frac_coords for s in pystruct.sites]];"
   ],
   "metadata": {},
   "execution_count": 2
  },
  {
   "cell_type": "markdown",
   "source": [
    "Setup an LDA model and discretize using\n",
    "a single kpoint and a small `Ecut` of 5 Hartree."
   ],
   "metadata": {}
  },
  {
   "outputs": [
    {
     "output_type": "execute_result",
     "data": {
      "text/plain": "PlaneWaveBasis (Ecut=5.0, 1 kpoints)"
     },
     "metadata": {},
     "execution_count": 3
    }
   ],
   "cell_type": "code",
   "source": [
    "model = model_LDA(lattice, atoms)\n",
    "basis = PlaneWaveBasis(model, 5, kgrid=(1, 1, 1))"
   ],
   "metadata": {},
   "execution_count": 3
  },
  {
   "cell_type": "markdown",
   "source": [
    "Find the ground state using direct minimisation (always using SCF is boring ...)"
   ],
   "metadata": {}
  },
  {
   "outputs": [
    {
     "name": "stdout",
     "output_type": "stream",
     "text": [
      "Iter     Function value   Gradient norm \n",
      "     0     1.120607e+02     1.587999e+00\n",
      " * time: 0.7168409824371338\n",
      "     1     1.108765e+01     9.762699e-01\n",
      " * time: 3.0939249992370605\n",
      "     2    -1.209760e+01     9.864028e-01\n",
      " * time: 3.722234010696411\n",
      "     3    -3.446767e+01     7.418627e-01\n",
      " * time: 4.690423965454102\n",
      "     4    -4.816421e+01     5.122665e-01\n",
      " * time: 5.660660982131958\n",
      "     5    -5.705984e+01     1.866882e-01\n",
      " * time: 6.591387987136841\n",
      "     6    -5.984195e+01     1.022680e-01\n",
      " * time: 7.224095106124878\n",
      "     7    -6.086382e+01     5.829394e-02\n",
      " * time: 7.855782985687256\n",
      "     8    -6.128192e+01     7.181178e-02\n",
      " * time: 8.5053071975708\n",
      "     9    -6.160855e+01     3.460005e-02\n",
      " * time: 9.130141973495483\n",
      "    10    -6.181542e+01     2.566079e-02\n",
      " * time: 9.758421182632446\n",
      "    11    -6.196732e+01     2.217148e-02\n",
      " * time: 10.399819135665894\n",
      "    12    -6.204696e+01     2.284935e-02\n",
      " * time: 11.04395604133606\n",
      "    13    -6.211682e+01     1.798849e-02\n",
      " * time: 11.664241075515747\n",
      "    14    -6.215538e+01     1.935018e-02\n",
      " * time: 12.291043996810913\n",
      "    15    -6.218470e+01     9.826762e-03\n",
      " * time: 12.923539161682129\n",
      "    16    -6.220070e+01     7.990810e-03\n",
      " * time: 13.562920093536377\n",
      "    17    -6.221303e+01     6.895221e-03\n",
      " * time: 14.19528317451477\n",
      "    18    -6.222308e+01     6.829338e-03\n",
      " * time: 14.829254150390625\n",
      "    19    -6.223203e+01     6.371794e-03\n",
      " * time: 15.473579168319702\n",
      "    20    -6.223970e+01     5.940829e-03\n",
      " * time: 16.11251401901245\n",
      "    21    -6.224634e+01     5.687679e-03\n",
      " * time: 16.74351716041565\n",
      "    22    -6.225202e+01     4.260440e-03\n",
      " * time: 17.37795400619507\n",
      "    23    -6.225627e+01     3.200859e-03\n",
      " * time: 18.01766800880432\n",
      "    24    -6.225874e+01     2.608721e-03\n",
      " * time: 18.668951988220215\n",
      "    25    -6.226000e+01     2.014258e-03\n",
      " * time: 19.302019119262695\n",
      "    26    -6.226062e+01     1.775639e-03\n",
      " * time: 19.939568042755127\n",
      "    27    -6.226094e+01     1.332241e-03\n",
      " * time: 20.582473039627075\n",
      "    28    -6.226115e+01     1.156622e-03\n",
      " * time: 21.218048095703125\n",
      "    29    -6.226132e+01     9.205484e-04\n",
      " * time: 21.847661018371582\n",
      "    30    -6.226144e+01     7.409583e-04\n",
      " * time: 22.47968316078186\n",
      "    31    -6.226153e+01     5.546280e-04\n",
      " * time: 23.114662170410156\n",
      "    32    -6.226159e+01     3.891498e-04\n",
      " * time: 23.750746965408325\n",
      "    33    -6.226163e+01     3.277809e-04\n",
      " * time: 24.379507064819336\n",
      "    34    -6.226165e+01     2.859393e-04\n",
      " * time: 25.00035810470581\n",
      "    35    -6.226166e+01     1.915580e-04\n",
      " * time: 25.64170217514038\n",
      "    36    -6.226166e+01     1.026557e-04\n",
      " * time: 26.29469609260559\n",
      "    37    -6.226166e+01     6.667213e-05\n",
      " * time: 26.931071043014526\n",
      "    38    -6.226167e+01     5.789954e-05\n",
      " * time: 27.56968116760254\n",
      "    39    -6.226167e+01     4.046670e-05\n",
      " * time: 28.206629991531372\n",
      "    40    -6.226167e+01     3.496780e-05\n",
      " * time: 28.844364166259766\n",
      "    41    -6.226167e+01     2.485584e-05\n",
      " * time: 29.47984218597412\n",
      "    42    -6.226167e+01     2.083105e-05\n",
      " * time: 30.121649026870728\n",
      "    43    -6.226167e+01     1.940936e-05\n",
      " * time: 30.756505012512207\n",
      "    44    -6.226167e+01     1.413037e-05\n",
      " * time: 31.391796112060547\n",
      "    45    -6.226167e+01     1.234470e-05\n",
      " * time: 32.01801919937134\n",
      "    46    -6.226167e+01     9.545389e-06\n",
      " * time: 32.65255618095398\n",
      "    47    -6.226167e+01     6.628385e-06\n",
      " * time: 33.28510808944702\n",
      "    48    -6.226167e+01     4.405719e-06\n",
      " * time: 33.92465615272522\n",
      "    49    -6.226167e+01     3.482278e-06\n",
      " * time: 34.55290198326111\n"
     ]
    }
   ],
   "cell_type": "code",
   "source": [
    "scfres = direct_minimization(basis, tol=1e-5);"
   ],
   "metadata": {},
   "execution_count": 4
  },
  {
   "outputs": [
    {
     "output_type": "execute_result",
     "data": {
      "text/plain": "Energy breakdown:\n    Kinetic             25.7671071\n    AtomicLocal         -18.8557689\n    AtomicNonlocal      14.8522651\n    Ewald               -67.1831486\n    PspCorrection       -2.3569765\n    Hartree             4.8485377 \n    Xc                  -19.3336822\n\n    total               -62.261666458792\n"
     },
     "metadata": {},
     "execution_count": 5
    }
   ],
   "cell_type": "code",
   "source": [
    "scfres.energies"
   ],
   "metadata": {},
   "execution_count": 5
  }
 ],
 "nbformat_minor": 3,
 "metadata": {
  "language_info": {
   "file_extension": ".jl",
   "mimetype": "application/julia",
   "name": "julia",
   "version": "1.6.1"
  },
  "kernelspec": {
   "name": "julia-1.6",
   "display_name": "Julia 1.6.1",
   "language": "julia"
  }
 },
 "nbformat": 4
}
