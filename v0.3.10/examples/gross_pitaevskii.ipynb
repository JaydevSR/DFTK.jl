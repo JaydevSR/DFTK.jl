{
 "cells": [
  {
   "cell_type": "markdown",
   "source": [
    "# Gross-Pitaevskii equation in one dimension\n",
    "In this example we will use DFTK to solve\n",
    "the Gross-Pitaevskii equation, and use this opportunity to explore a few internals."
   ],
   "metadata": {}
  },
  {
   "cell_type": "markdown",
   "source": [
    "## The model\n",
    "The [Gross-Pitaevskii equation](https://en.wikipedia.org/wiki/Gross%E2%80%93Pitaevskii_equation) (GPE)\n",
    "is a simple non-linear equation used to model bosonic systems\n",
    "in a mean-field approach. Denoting by ``ψ`` the effective one-particle bosonic\n",
    "wave function, the time-independent GPE reads in atomic units:\n",
    "$$\n",
    "    H ψ = \\left(-\\frac12 Δ + V + 2 C |ψ|^2\\right) ψ = μ ψ \\qquad \\|ψ\\|_{L^2} = 1\n",
    "$$\n",
    "where ``C`` provides the strength of the boson-boson coupling.\n",
    "It's in particular a favorite model of applied mathematicians because it\n",
    "has a structure simpler than but similar to that of DFT, and displays\n",
    "interesting behavior (especially in higher dimensions with magnetic fields, see\n",
    "Gross-Pitaevskii equation with magnetism)."
   ],
   "metadata": {}
  },
  {
   "cell_type": "markdown",
   "source": [
    "We wish to model this equation in 1D using DFTK.\n",
    "First we set up the lattice. For a 1D case we supply two zero lattice vectors,"
   ],
   "metadata": {}
  },
  {
   "outputs": [],
   "cell_type": "code",
   "source": [
    "a = 10\n",
    "lattice = a .* [[1 0 0.]; [0 0 0]; [0 0 0]];"
   ],
   "metadata": {},
   "execution_count": 1
  },
  {
   "cell_type": "markdown",
   "source": [
    "which is special cased in DFTK to support 1D models.\n",
    "\n",
    "For the potential term `V` we just pick a harmonic\n",
    "potential. The real-space grid is in ``[0,1)``\n",
    "in fractional coordinates( see\n",
    "Lattices and lattice vectors),\n",
    "therefore:"
   ],
   "metadata": {}
  },
  {
   "outputs": [],
   "cell_type": "code",
   "source": [
    "pot(x) = (x - a/2)^2;"
   ],
   "metadata": {},
   "execution_count": 2
  },
  {
   "cell_type": "markdown",
   "source": [
    "We setup each energy term in sequence: kinetic, potential and nonlinear term.\n",
    "For the non-linearity we use the `PowerNonlinearity(C, α)` term of DFTK.\n",
    "This object introduces an energy term ``C ∫ ρ(r)^α dr``\n",
    "to the total energy functional, thus a potential term ``α C ρ^{α-1}``.\n",
    "In our case we thus need the parameters"
   ],
   "metadata": {}
  },
  {
   "outputs": [],
   "cell_type": "code",
   "source": [
    "C = 1.0\n",
    "α = 2;"
   ],
   "metadata": {},
   "execution_count": 3
  },
  {
   "cell_type": "markdown",
   "source": [
    "... and with this build the model"
   ],
   "metadata": {}
  },
  {
   "outputs": [],
   "cell_type": "code",
   "source": [
    "using DFTK\n",
    "using LinearAlgebra\n",
    "\n",
    "n_electrons = 1  # Increase this for fun\n",
    "terms = [Kinetic(),\n",
    "         ExternalFromReal(r -> pot(r[1])),\n",
    "         PowerNonlinearity(C, α),\n",
    "]\n",
    "model = Model(lattice; n_electrons=n_electrons, terms=terms,\n",
    "              spin_polarization=:spinless);  # use \"spinless electrons\""
   ],
   "metadata": {},
   "execution_count": 4
  },
  {
   "cell_type": "markdown",
   "source": [
    "We discretize using a moderate Ecut (For 1D values up to `5000` are completely fine)\n",
    "and run a direct minimization algorithm:"
   ],
   "metadata": {}
  },
  {
   "outputs": [
    {
     "name": "stdout",
     "output_type": "stream",
     "text": [
      "Iter     Function value   Gradient norm \n",
      "     0     1.597445e+02     1.635877e+02\n",
      " * time: 0.0006971359252929688\n",
      "     1     1.540207e+02     1.529545e+02\n",
      " * time: 0.002201080322265625\n",
      "     2     1.168600e+02     1.706955e+02\n",
      " * time: 0.003958940505981445\n",
      "     3     4.719435e+01     1.074110e+02\n",
      " * time: 0.005813121795654297\n",
      "     4     1.990498e+01     6.233995e+01\n",
      " * time: 0.0075130462646484375\n",
      "     5     1.446872e+01     5.470987e+01\n",
      " * time: 0.008764028549194336\n",
      "     6     1.028559e+01     3.463054e+01\n",
      " * time: 0.009814977645874023\n",
      "     7     9.239520e+00     1.018030e+01\n",
      " * time: 0.010827064514160156\n",
      "     8     6.585533e+00     1.100819e+01\n",
      " * time: 0.011834144592285156\n",
      "     9     3.948380e+00     1.142955e+01\n",
      " * time: 0.012946128845214844\n",
      "    10     2.122278e+00     2.391355e+00\n",
      " * time: 0.01401209831237793\n",
      "    11     1.416845e+00     1.553289e+00\n",
      " * time: 0.015066146850585938\n",
      "    12     1.369622e+00     1.573589e+00\n",
      " * time: 0.01585698127746582\n",
      "    13     1.250320e+00     7.940685e-01\n",
      " * time: 0.01666712760925293\n",
      "    14     1.184392e+00     8.198353e-01\n",
      " * time: 0.017460107803344727\n",
      "    15     1.158106e+00     4.092584e-01\n",
      " * time: 0.018252134323120117\n",
      "    16     1.148319e+00     1.811436e-01\n",
      " * time: 0.019036054611206055\n",
      "    17     1.145951e+00     1.127054e-01\n",
      " * time: 0.019865989685058594\n",
      "    18     1.145023e+00     7.041936e-02\n",
      " * time: 0.02069711685180664\n",
      "    19     1.144439e+00     4.518698e-02\n",
      " * time: 0.021502017974853516\n",
      "    20     1.144231e+00     6.553943e-02\n",
      " * time: 0.022083044052124023\n",
      "    21     1.144195e+00     6.369244e-02\n",
      " * time: 0.022686004638671875\n",
      "    22     1.144130e+00     3.549207e-02\n",
      " * time: 0.02433609962463379\n",
      "    23     1.144091e+00     1.907598e-02\n",
      " * time: 0.02518606185913086\n",
      "    24     1.144058e+00     1.124082e-02\n",
      " * time: 0.0260009765625\n",
      "    25     1.144040e+00     7.059753e-03\n",
      " * time: 0.026803970336914062\n",
      "    26     1.144040e+00     4.578568e-03\n",
      " * time: 0.027383089065551758\n",
      "    27     1.144038e+00     4.604402e-03\n",
      " * time: 0.028222084045410156\n",
      "    28     1.144037e+00     2.416074e-03\n",
      " * time: 0.029050111770629883\n",
      "    29     1.144037e+00     1.055905e-03\n",
      " * time: 0.02986311912536621\n",
      "    30     1.144037e+00     6.336158e-04\n",
      " * time: 0.03067493438720703\n",
      "    31     1.144037e+00     7.362609e-04\n",
      " * time: 0.03147411346435547\n",
      "    32     1.144037e+00     2.860822e-04\n",
      " * time: 0.03205394744873047\n",
      "    33     1.144037e+00     1.964097e-04\n",
      " * time: 0.03290200233459473\n",
      "    34     1.144037e+00     1.304958e-04\n",
      " * time: 0.03381705284118652\n",
      "    35     1.144037e+00     1.078917e-04\n",
      " * time: 0.0346379280090332\n",
      "    36     1.144037e+00     4.127986e-05\n",
      " * time: 0.03550004959106445\n",
      "    37     1.144037e+00     6.999419e-05\n",
      " * time: 0.036366939544677734\n",
      "    38     1.144037e+00     3.934010e-05\n",
      " * time: 0.03724193572998047\n",
      "    39     1.144037e+00     2.635852e-05\n",
      " * time: 0.03808093070983887\n",
      "    40     1.144037e+00     1.961053e-05\n",
      " * time: 0.03891801834106445\n",
      "    41     1.144037e+00     1.166020e-05\n",
      " * time: 0.03971505165100098\n",
      "    42     1.144037e+00     7.174118e-06\n",
      " * time: 0.04052400588989258\n",
      "    43     1.144037e+00     6.365032e-06\n",
      " * time: 0.0413510799407959\n",
      "    44     1.144037e+00     4.842403e-06\n",
      " * time: 0.04215693473815918\n",
      "    45     1.144037e+00     3.860060e-06\n",
      " * time: 0.04297900199890137\n",
      "    46     1.144037e+00     3.154550e-06\n",
      " * time: 0.044181108474731445\n",
      "    47     1.144037e+00     2.319926e-06\n",
      " * time: 0.0450289249420166\n",
      "    48     1.144037e+00     1.045393e-06\n",
      " * time: 0.04588508605957031\n",
      "    49     1.144037e+00     6.560508e-07\n",
      " * time: 0.04670095443725586\n",
      "    50     1.144037e+00     2.975209e-07\n",
      " * time: 0.04751706123352051\n"
     ]
    },
    {
     "output_type": "execute_result",
     "data": {
      "text/plain": "Energy breakdown:\n    Kinetic             0.2682057 \n    ExternalFromReal    0.4707475 \n    PowerNonlinearity   0.4050836 \n\n    total               1.144036852755 \n"
     },
     "metadata": {},
     "execution_count": 5
    }
   ],
   "cell_type": "code",
   "source": [
    "basis = PlaneWaveBasis(model, Ecut=500, kgrid=(1, 1, 1))\n",
    "scfres = direct_minimization(basis, tol=1e-8) # This is a constrained preconditioned LBFGS\n",
    "scfres.energies"
   ],
   "metadata": {},
   "execution_count": 5
  },
  {
   "cell_type": "markdown",
   "source": [
    "## Internals\n",
    "We use the opportunity to explore some of DFTK internals.\n",
    "\n",
    "Extract the converged density and the obtained wave function:"
   ],
   "metadata": {}
  },
  {
   "outputs": [],
   "cell_type": "code",
   "source": [
    "ρ = real(scfres.ρ)[:, 1, 1, 1]  # converged density, first spin component\n",
    "ψ_fourier = scfres.ψ[1][:, 1];    # first kpoint, all G components, first eigenvector"
   ],
   "metadata": {},
   "execution_count": 6
  },
  {
   "cell_type": "markdown",
   "source": [
    "Transform the wave function to real space and fix the phase:"
   ],
   "metadata": {}
  },
  {
   "outputs": [],
   "cell_type": "code",
   "source": [
    "ψ = G_to_r(basis, basis.kpoints[1], ψ_fourier)[:, 1, 1]\n",
    "ψ /= (ψ[div(end, 2)] / abs(ψ[div(end, 2)]));"
   ],
   "metadata": {},
   "execution_count": 7
  },
  {
   "cell_type": "markdown",
   "source": [
    "Check whether ``ψ`` is normalised:"
   ],
   "metadata": {}
  },
  {
   "outputs": [],
   "cell_type": "code",
   "source": [
    "x = a * vec(first.(DFTK.r_vectors(basis)))\n",
    "N = length(x)\n",
    "dx = a / N  # real-space grid spacing\n",
    "@assert sum(abs2.(ψ)) * dx ≈ 1.0"
   ],
   "metadata": {},
   "execution_count": 8
  },
  {
   "cell_type": "markdown",
   "source": [
    "The density is simply built from ψ:"
   ],
   "metadata": {}
  },
  {
   "outputs": [
    {
     "output_type": "execute_result",
     "data": {
      "text/plain": "8.338746851893258e-16"
     },
     "metadata": {},
     "execution_count": 9
    }
   ],
   "cell_type": "code",
   "source": [
    "norm(scfres.ρ - abs2.(ψ))"
   ],
   "metadata": {},
   "execution_count": 9
  },
  {
   "cell_type": "markdown",
   "source": [
    "We summarize the ground state in a nice plot:"
   ],
   "metadata": {}
  },
  {
   "outputs": [
    {
     "output_type": "execute_result",
     "data": {
      "text/plain": "Plot{Plots.GRBackend() n=3}",
      "image/png": "[encoded data removed]",
      "text/html": [
       "<?xml version=\"1.0\" encoding=\"utf-8\"?>\n",
       "<svg xmlns=\"http://www.w3.org/2000/svg\" xmlns:xlink=\"http://www.w3.org/1999/xlink\" width=\"600\" height=\"400\" viewBox=\"0 0 2400 1600\">\n",
       "<defs>\n",
       "  <clipPath id=\"clip260\">\n",
       "    <rect x=\"0\" y=\"0\" width=\"2400\" height=\"1600\"/>\n",
       "  </clipPath>\n",
       "</defs>\n",
       "<path clip-path=\"url(#clip260)\" d=\"\n",
       "M0 1600 L2400 1600 L2400 0 L0 0  Z\n",
       "  \" fill=\"#ffffff\" fill-rule=\"evenodd\" fill-opacity=\"1\"/>\n",
       "<defs>\n",
       "  <clipPath id=\"clip261\">\n",
       "    <rect x=\"480\" y=\"0\" width=\"1681\" height=\"1600\"/>\n",
       "  </clipPath>\n",
       "</defs>\n",
       "<path clip-path=\"url(#clip260)\" d=\"\n",
       "M156.598 1486.45 L2352.76 1486.45 L2352.76 47.2441 L156.598 47.2441  Z\n",
       "  \" fill=\"#ffffff\" fill-rule=\"evenodd\" fill-opacity=\"1\"/>\n",
       "<defs>\n",
       "  <clipPath id=\"clip262\">\n",
       "    <rect x=\"156\" y=\"47\" width=\"2197\" height=\"1440\"/>\n",
       "  </clipPath>\n",
       "</defs>\n",
       "<polyline clip-path=\"url(#clip262)\" style=\"stroke:#000000; stroke-linecap:butt; stroke-linejoin:round; stroke-width:2; stroke-opacity:0.1; fill:none\" points=\"\n",
       "  218.754,1486.45 218.754,47.2441 \n",
       "  \"/>\n",
       "<polyline clip-path=\"url(#clip262)\" style=\"stroke:#000000; stroke-linecap:butt; stroke-linejoin:round; stroke-width:2; stroke-opacity:0.1; fill:none\" points=\"\n",
       "  739.124,1486.45 739.124,47.2441 \n",
       "  \"/>\n",
       "<polyline clip-path=\"url(#clip262)\" style=\"stroke:#000000; stroke-linecap:butt; stroke-linejoin:round; stroke-width:2; stroke-opacity:0.1; fill:none\" points=\"\n",
       "  1259.5,1486.45 1259.5,47.2441 \n",
       "  \"/>\n",
       "<polyline clip-path=\"url(#clip262)\" style=\"stroke:#000000; stroke-linecap:butt; stroke-linejoin:round; stroke-width:2; stroke-opacity:0.1; fill:none\" points=\"\n",
       "  1779.87,1486.45 1779.87,47.2441 \n",
       "  \"/>\n",
       "<polyline clip-path=\"url(#clip262)\" style=\"stroke:#000000; stroke-linecap:butt; stroke-linejoin:round; stroke-width:2; stroke-opacity:0.1; fill:none\" points=\"\n",
       "  2300.24,1486.45 2300.24,47.2441 \n",
       "  \"/>\n",
       "<polyline clip-path=\"url(#clip260)\" style=\"stroke:#000000; stroke-linecap:butt; stroke-linejoin:round; stroke-width:4; stroke-opacity:1; fill:none\" points=\"\n",
       "  156.598,1486.45 2352.76,1486.45 \n",
       "  \"/>\n",
       "<polyline clip-path=\"url(#clip260)\" style=\"stroke:#000000; stroke-linecap:butt; stroke-linejoin:round; stroke-width:4; stroke-opacity:1; fill:none\" points=\"\n",
       "  218.754,1486.45 218.754,1469.18 \n",
       "  \"/>\n",
       "<polyline clip-path=\"url(#clip260)\" style=\"stroke:#000000; stroke-linecap:butt; stroke-linejoin:round; stroke-width:4; stroke-opacity:1; fill:none\" points=\"\n",
       "  739.124,1486.45 739.124,1469.18 \n",
       "  \"/>\n",
       "<polyline clip-path=\"url(#clip260)\" style=\"stroke:#000000; stroke-linecap:butt; stroke-linejoin:round; stroke-width:4; stroke-opacity:1; fill:none\" points=\"\n",
       "  1259.5,1486.45 1259.5,1469.18 \n",
       "  \"/>\n",
       "<polyline clip-path=\"url(#clip260)\" style=\"stroke:#000000; stroke-linecap:butt; stroke-linejoin:round; stroke-width:4; stroke-opacity:1; fill:none\" points=\"\n",
       "  1779.87,1486.45 1779.87,1469.18 \n",
       "  \"/>\n",
       "<polyline clip-path=\"url(#clip260)\" style=\"stroke:#000000; stroke-linecap:butt; stroke-linejoin:round; stroke-width:4; stroke-opacity:1; fill:none\" points=\"\n",
       "  2300.24,1486.45 2300.24,1469.18 \n",
       "  \"/>\n",
       "<path clip-path=\"url(#clip260)\" d=\"M196.138 1515.64 Q192.527 1515.64 190.698 1519.2 Q188.893 1522.75 188.893 1529.87 Q188.893 1536.98 190.698 1540.55 Q192.527 1544.09 196.138 1544.09 Q199.772 1544.09 201.578 1540.55 Q203.407 1536.98 203.407 1529.87 Q203.407 1522.75 201.578 1519.2 Q199.772 1515.64 196.138 1515.64 M196.138 1511.93 Q201.948 1511.93 205.004 1516.54 Q208.082 1521.12 208.082 1529.87 Q208.082 1538.6 205.004 1543.21 Q201.948 1547.79 196.138 1547.79 Q190.328 1547.79 187.249 1543.21 Q184.194 1538.6 184.194 1529.87 Q184.194 1521.12 187.249 1516.54 Q190.328 1511.93 196.138 1511.93 Z\" fill=\"#000000\" fill-rule=\"evenodd\" fill-opacity=\"1\" /><path clip-path=\"url(#clip260)\" d=\"M216.3 1541.24 L221.184 1541.24 L221.184 1547.12 L216.3 1547.12 L216.3 1541.24 Z\" fill=\"#000000\" fill-rule=\"evenodd\" fill-opacity=\"1\" /><path clip-path=\"url(#clip260)\" d=\"M241.369 1515.64 Q237.758 1515.64 235.929 1519.2 Q234.124 1522.75 234.124 1529.87 Q234.124 1536.98 235.929 1540.55 Q237.758 1544.09 241.369 1544.09 Q245.003 1544.09 246.809 1540.55 Q248.638 1536.98 248.638 1529.87 Q248.638 1522.75 246.809 1519.2 Q245.003 1515.64 241.369 1515.64 M241.369 1511.93 Q247.179 1511.93 250.235 1516.54 Q253.314 1521.12 253.314 1529.87 Q253.314 1538.6 250.235 1543.21 Q247.179 1547.79 241.369 1547.79 Q235.559 1547.79 232.48 1543.21 Q229.425 1538.6 229.425 1529.87 Q229.425 1521.12 232.48 1516.54 Q235.559 1511.93 241.369 1511.93 Z\" fill=\"#000000\" fill-rule=\"evenodd\" fill-opacity=\"1\" /><path clip-path=\"url(#clip260)\" d=\"M710.861 1543.18 L727.18 1543.18 L727.18 1547.12 L705.236 1547.12 L705.236 1543.18 Q707.898 1540.43 712.481 1535.8 Q717.088 1531.15 718.268 1529.81 Q720.513 1527.28 721.393 1525.55 Q722.296 1523.79 722.296 1522.1 Q722.296 1519.34 720.351 1517.61 Q718.43 1515.87 715.328 1515.87 Q713.129 1515.87 710.676 1516.63 Q708.245 1517.4 705.467 1518.95 L705.467 1514.23 Q708.291 1513.09 710.745 1512.51 Q713.199 1511.93 715.236 1511.93 Q720.606 1511.93 723.8 1514.62 Q726.995 1517.31 726.995 1521.8 Q726.995 1523.93 726.185 1525.85 Q725.398 1527.74 723.291 1530.34 Q722.713 1531.01 719.611 1534.23 Q716.509 1537.42 710.861 1543.18 Z\" fill=\"#000000\" fill-rule=\"evenodd\" fill-opacity=\"1\" /><path clip-path=\"url(#clip260)\" d=\"M736.995 1541.24 L741.879 1541.24 L741.879 1547.12 L736.995 1547.12 L736.995 1541.24 Z\" fill=\"#000000\" fill-rule=\"evenodd\" fill-opacity=\"1\" /><path clip-path=\"url(#clip260)\" d=\"M752.111 1512.56 L770.467 1512.56 L770.467 1516.5 L756.393 1516.5 L756.393 1524.97 Q757.411 1524.62 758.43 1524.46 Q759.448 1524.27 760.467 1524.27 Q766.254 1524.27 769.634 1527.44 Q773.013 1530.62 773.013 1536.03 Q773.013 1541.61 769.541 1544.71 Q766.069 1547.79 759.749 1547.79 Q757.573 1547.79 755.305 1547.42 Q753.06 1547.05 750.652 1546.31 L750.652 1541.61 Q752.736 1542.74 754.958 1543.3 Q757.18 1543.86 759.657 1543.86 Q763.661 1543.86 765.999 1541.75 Q768.337 1539.64 768.337 1536.03 Q768.337 1532.42 765.999 1530.31 Q763.661 1528.21 759.657 1528.21 Q757.782 1528.21 755.907 1528.62 Q754.055 1529.04 752.111 1529.92 L752.111 1512.56 Z\" fill=\"#000000\" fill-rule=\"evenodd\" fill-opacity=\"1\" /><path clip-path=\"url(#clip260)\" d=\"M1226.66 1512.56 L1245.02 1512.56 L1245.02 1516.5 L1230.94 1516.5 L1230.94 1524.97 Q1231.96 1524.62 1232.98 1524.46 Q1234 1524.27 1235.02 1524.27 Q1240.8 1524.27 1244.18 1527.44 Q1247.56 1530.62 1247.56 1536.03 Q1247.56 1541.61 1244.09 1544.71 Q1240.62 1547.79 1234.3 1547.79 Q1232.12 1547.79 1229.85 1547.42 Q1227.61 1547.05 1225.2 1546.31 L1225.2 1541.61 Q1227.28 1542.74 1229.51 1543.3 Q1231.73 1543.86 1234.21 1543.86 Q1238.21 1543.86 1240.55 1541.75 Q1242.89 1539.64 1242.89 1536.03 Q1242.89 1532.42 1240.55 1530.31 Q1238.21 1528.21 1234.21 1528.21 Q1232.33 1528.21 1230.46 1528.62 Q1228.6 1529.04 1226.66 1529.92 L1226.66 1512.56 Z\" fill=\"#000000\" fill-rule=\"evenodd\" fill-opacity=\"1\" /><path clip-path=\"url(#clip260)\" d=\"M1256.78 1541.24 L1261.66 1541.24 L1261.66 1547.12 L1256.78 1547.12 L1256.78 1541.24 Z\" fill=\"#000000\" fill-rule=\"evenodd\" fill-opacity=\"1\" /><path clip-path=\"url(#clip260)\" d=\"M1281.84 1515.64 Q1278.23 1515.64 1276.4 1519.2 Q1274.6 1522.75 1274.6 1529.87 Q1274.6 1536.98 1276.4 1540.55 Q1278.23 1544.09 1281.84 1544.09 Q1285.48 1544.09 1287.28 1540.55 Q1289.11 1536.98 1289.11 1529.87 Q1289.11 1522.75 1287.28 1519.2 Q1285.48 1515.64 1281.84 1515.64 M1281.84 1511.93 Q1287.65 1511.93 1290.71 1516.54 Q1293.79 1521.12 1293.79 1529.87 Q1293.79 1538.6 1290.71 1543.21 Q1287.65 1547.79 1281.84 1547.79 Q1276.03 1547.79 1272.96 1543.21 Q1269.9 1538.6 1269.9 1529.87 Q1269.9 1521.12 1272.96 1516.54 Q1276.03 1511.93 1281.84 1511.93 Z\" fill=\"#000000\" fill-rule=\"evenodd\" fill-opacity=\"1\" /><path clip-path=\"url(#clip260)\" d=\"M1746.19 1512.56 L1768.41 1512.56 L1768.41 1514.55 L1755.86 1547.12 L1750.98 1547.12 L1762.78 1516.5 L1746.19 1516.5 L1746.19 1512.56 Z\" fill=\"#000000\" fill-rule=\"evenodd\" fill-opacity=\"1\" /><path clip-path=\"url(#clip260)\" d=\"M1777.53 1541.24 L1782.41 1541.24 L1782.41 1547.12 L1777.53 1547.12 L1777.53 1541.24 Z\" fill=\"#000000\" fill-rule=\"evenodd\" fill-opacity=\"1\" /><path clip-path=\"url(#clip260)\" d=\"M1792.64 1512.56 L1811 1512.56 L1811 1516.5 L1796.93 1516.5 L1796.93 1524.97 Q1797.94 1524.62 1798.96 1524.46 Q1799.98 1524.27 1801 1524.27 Q1806.79 1524.27 1810.17 1527.44 Q1813.55 1530.62 1813.55 1536.03 Q1813.55 1541.61 1810.07 1544.71 Q1806.6 1547.79 1800.28 1547.79 Q1798.11 1547.79 1795.84 1547.42 Q1793.59 1547.05 1791.19 1546.31 L1791.19 1541.61 Q1793.27 1542.74 1795.49 1543.3 Q1797.71 1543.86 1800.19 1543.86 Q1804.19 1543.86 1806.53 1541.75 Q1808.87 1539.64 1808.87 1536.03 Q1808.87 1532.42 1806.53 1530.31 Q1804.19 1528.21 1800.19 1528.21 Q1798.32 1528.21 1796.44 1528.62 Q1794.59 1529.04 1792.64 1529.92 L1792.64 1512.56 Z\" fill=\"#000000\" fill-rule=\"evenodd\" fill-opacity=\"1\" /><path clip-path=\"url(#clip260)\" d=\"M2252.31 1543.18 L2259.95 1543.18 L2259.95 1516.82 L2251.64 1518.49 L2251.64 1514.23 L2259.9 1512.56 L2264.58 1512.56 L2264.58 1543.18 L2272.22 1543.18 L2272.22 1547.12 L2252.31 1547.12 L2252.31 1543.18 Z\" fill=\"#000000\" fill-rule=\"evenodd\" fill-opacity=\"1\" /><path clip-path=\"url(#clip260)\" d=\"M2291.66 1515.64 Q2288.05 1515.64 2286.22 1519.2 Q2284.42 1522.75 2284.42 1529.87 Q2284.42 1536.98 2286.22 1540.55 Q2288.05 1544.09 2291.66 1544.09 Q2295.29 1544.09 2297.1 1540.55 Q2298.93 1536.98 2298.93 1529.87 Q2298.93 1522.75 2297.1 1519.2 Q2295.29 1515.64 2291.66 1515.64 M2291.66 1511.93 Q2297.47 1511.93 2300.53 1516.54 Q2303.61 1521.12 2303.61 1529.87 Q2303.61 1538.6 2300.53 1543.21 Q2297.47 1547.79 2291.66 1547.79 Q2285.85 1547.79 2282.77 1543.21 Q2279.72 1538.6 2279.72 1529.87 Q2279.72 1521.12 2282.77 1516.54 Q2285.85 1511.93 2291.66 1511.93 Z\" fill=\"#000000\" fill-rule=\"evenodd\" fill-opacity=\"1\" /><path clip-path=\"url(#clip260)\" d=\"M2311.82 1541.24 L2316.71 1541.24 L2316.71 1547.12 L2311.82 1547.12 L2311.82 1541.24 Z\" fill=\"#000000\" fill-rule=\"evenodd\" fill-opacity=\"1\" /><path clip-path=\"url(#clip260)\" d=\"M2336.89 1515.64 Q2333.28 1515.64 2331.45 1519.2 Q2329.65 1522.75 2329.65 1529.87 Q2329.65 1536.98 2331.45 1540.55 Q2333.28 1544.09 2336.89 1544.09 Q2340.53 1544.09 2342.33 1540.55 Q2344.16 1536.98 2344.16 1529.87 Q2344.16 1522.75 2342.33 1519.2 Q2340.53 1515.64 2336.89 1515.64 M2336.89 1511.93 Q2342.7 1511.93 2345.76 1516.54 Q2348.84 1521.12 2348.84 1529.87 Q2348.84 1538.6 2345.76 1543.21 Q2342.7 1547.79 2336.89 1547.79 Q2331.08 1547.79 2328 1543.21 Q2324.95 1538.6 2324.95 1529.87 Q2324.95 1521.12 2328 1516.54 Q2331.08 1511.93 2336.89 1511.93 Z\" fill=\"#000000\" fill-rule=\"evenodd\" fill-opacity=\"1\" /><polyline clip-path=\"url(#clip262)\" style=\"stroke:#000000; stroke-linecap:butt; stroke-linejoin:round; stroke-width:2; stroke-opacity:0.1; fill:none\" points=\"\n",
       "  156.598,1445.72 2352.76,1445.72 \n",
       "  \"/>\n",
       "<polyline clip-path=\"url(#clip262)\" style=\"stroke:#000000; stroke-linecap:butt; stroke-linejoin:round; stroke-width:2; stroke-opacity:0.1; fill:none\" points=\"\n",
       "  156.598,1082.52 2352.76,1082.52 \n",
       "  \"/>\n",
       "<polyline clip-path=\"url(#clip262)\" style=\"stroke:#000000; stroke-linecap:butt; stroke-linejoin:round; stroke-width:2; stroke-opacity:0.1; fill:none\" points=\"\n",
       "  156.598,719.322 2352.76,719.322 \n",
       "  \"/>\n",
       "<polyline clip-path=\"url(#clip262)\" style=\"stroke:#000000; stroke-linecap:butt; stroke-linejoin:round; stroke-width:2; stroke-opacity:0.1; fill:none\" points=\"\n",
       "  156.598,356.126 2352.76,356.126 \n",
       "  \"/>\n",
       "<polyline clip-path=\"url(#clip260)\" style=\"stroke:#000000; stroke-linecap:butt; stroke-linejoin:round; stroke-width:4; stroke-opacity:1; fill:none\" points=\"\n",
       "  156.598,1486.45 156.598,47.2441 \n",
       "  \"/>\n",
       "<polyline clip-path=\"url(#clip260)\" style=\"stroke:#000000; stroke-linecap:butt; stroke-linejoin:round; stroke-width:4; stroke-opacity:1; fill:none\" points=\"\n",
       "  156.598,1445.72 182.952,1445.72 \n",
       "  \"/>\n",
       "<polyline clip-path=\"url(#clip260)\" style=\"stroke:#000000; stroke-linecap:butt; stroke-linejoin:round; stroke-width:4; stroke-opacity:1; fill:none\" points=\"\n",
       "  156.598,1082.52 182.952,1082.52 \n",
       "  \"/>\n",
       "<polyline clip-path=\"url(#clip260)\" style=\"stroke:#000000; stroke-linecap:butt; stroke-linejoin:round; stroke-width:4; stroke-opacity:1; fill:none\" points=\"\n",
       "  156.598,719.322 182.952,719.322 \n",
       "  \"/>\n",
       "<polyline clip-path=\"url(#clip260)\" style=\"stroke:#000000; stroke-linecap:butt; stroke-linejoin:round; stroke-width:4; stroke-opacity:1; fill:none\" points=\"\n",
       "  156.598,356.126 182.952,356.126 \n",
       "  \"/>\n",
       "<path clip-path=\"url(#clip260)\" d=\"M63.4226 1431.51 Q59.8115 1431.51 57.9828 1435.08 Q56.1773 1438.62 56.1773 1445.75 Q56.1773 1452.86 57.9828 1456.42 Q59.8115 1459.96 63.4226 1459.96 Q67.0569 1459.96 68.8624 1456.42 Q70.6911 1452.86 70.6911 1445.75 Q70.6911 1438.62 68.8624 1435.08 Q67.0569 1431.51 63.4226 1431.51 M63.4226 1427.81 Q69.2328 1427.81 72.2883 1432.42 Q75.367 1437 75.367 1445.75 Q75.367 1454.48 72.2883 1459.08 Q69.2328 1463.67 63.4226 1463.67 Q57.6125 1463.67 54.5338 1459.08 Q51.4782 1454.48 51.4782 1445.75 Q51.4782 1437 54.5338 1432.42 Q57.6125 1427.81 63.4226 1427.81 Z\" fill=\"#000000\" fill-rule=\"evenodd\" fill-opacity=\"1\" /><path clip-path=\"url(#clip260)\" d=\"M83.5845 1457.12 L88.4688 1457.12 L88.4688 1463 L83.5845 1463 L83.5845 1457.12 Z\" fill=\"#000000\" fill-rule=\"evenodd\" fill-opacity=\"1\" /><path clip-path=\"url(#clip260)\" d=\"M108.654 1431.51 Q105.043 1431.51 103.214 1435.08 Q101.409 1438.62 101.409 1445.75 Q101.409 1452.86 103.214 1456.42 Q105.043 1459.96 108.654 1459.96 Q112.288 1459.96 114.094 1456.42 Q115.922 1452.86 115.922 1445.75 Q115.922 1438.62 114.094 1435.08 Q112.288 1431.51 108.654 1431.51 M108.654 1427.81 Q114.464 1427.81 117.52 1432.42 Q120.598 1437 120.598 1445.75 Q120.598 1454.48 117.52 1459.08 Q114.464 1463.67 108.654 1463.67 Q102.844 1463.67 99.765 1459.08 Q96.7095 1454.48 96.7095 1445.75 Q96.7095 1437 99.765 1432.42 Q102.844 1427.81 108.654 1427.81 Z\" fill=\"#000000\" fill-rule=\"evenodd\" fill-opacity=\"1\" /><path clip-path=\"url(#clip260)\" d=\"M65.0198 1068.32 Q61.4087 1068.32 59.58 1071.88 Q57.7745 1075.42 57.7745 1082.55 Q57.7745 1089.66 59.58 1093.22 Q61.4087 1096.77 65.0198 1096.77 Q68.6541 1096.77 70.4596 1093.22 Q72.2883 1089.66 72.2883 1082.55 Q72.2883 1075.42 70.4596 1071.88 Q68.6541 1068.32 65.0198 1068.32 M65.0198 1064.61 Q70.83 1064.61 73.8855 1069.22 Q76.9642 1073.8 76.9642 1082.55 Q76.9642 1091.28 73.8855 1095.89 Q70.83 1100.47 65.0198 1100.47 Q59.2097 1100.47 56.131 1095.89 Q53.0754 1091.28 53.0754 1082.55 Q53.0754 1073.8 56.131 1069.22 Q59.2097 1064.61 65.0198 1064.61 Z\" fill=\"#000000\" fill-rule=\"evenodd\" fill-opacity=\"1\" /><path clip-path=\"url(#clip260)\" d=\"M85.1818 1093.92 L90.066 1093.92 L90.066 1099.8 L85.1818 1099.8 L85.1818 1093.92 Z\" fill=\"#000000\" fill-rule=\"evenodd\" fill-opacity=\"1\" /><path clip-path=\"url(#clip260)\" d=\"M104.279 1095.86 L120.598 1095.86 L120.598 1099.8 L98.6539 1099.8 L98.6539 1095.86 Q101.316 1093.11 105.899 1088.48 Q110.506 1083.83 111.686 1082.48 Q113.932 1079.96 114.811 1078.22 Q115.714 1076.47 115.714 1074.78 Q115.714 1072.02 113.77 1070.29 Q111.848 1068.55 108.746 1068.55 Q106.547 1068.55 104.094 1069.31 Q101.663 1070.08 98.8854 1071.63 L98.8854 1066.91 Q101.709 1065.77 104.163 1065.19 Q106.617 1064.61 108.654 1064.61 Q114.024 1064.61 117.219 1067.3 Q120.413 1069.98 120.413 1074.48 Q120.413 1076.6 119.603 1078.53 Q118.816 1080.42 116.709 1083.02 Q116.131 1083.69 113.029 1086.91 Q109.927 1090.1 104.279 1095.86 Z\" fill=\"#000000\" fill-rule=\"evenodd\" fill-opacity=\"1\" /><path clip-path=\"url(#clip260)\" d=\"M62.9365 705.121 Q59.3254 705.121 57.4967 708.686 Q55.6912 712.227 55.6912 719.357 Q55.6912 726.463 57.4967 730.028 Q59.3254 733.57 62.9365 733.57 Q66.5707 733.57 68.3763 730.028 Q70.205 726.463 70.205 719.357 Q70.205 712.227 68.3763 708.686 Q66.5707 705.121 62.9365 705.121 M62.9365 701.417 Q68.7467 701.417 71.8022 706.024 Q74.8809 710.607 74.8809 719.357 Q74.8809 728.084 71.8022 732.69 Q68.7467 737.274 62.9365 737.274 Q57.1264 737.274 54.0477 732.69 Q50.9921 728.084 50.9921 719.357 Q50.9921 710.607 54.0477 706.024 Q57.1264 701.417 62.9365 701.417 Z\" fill=\"#000000\" fill-rule=\"evenodd\" fill-opacity=\"1\" /><path clip-path=\"url(#clip260)\" d=\"M83.0984 730.723 L87.9827 730.723 L87.9827 736.602 L83.0984 736.602 L83.0984 730.723 Z\" fill=\"#000000\" fill-rule=\"evenodd\" fill-opacity=\"1\" /><path clip-path=\"url(#clip260)\" d=\"M111.015 706.116 L99.2095 724.565 L111.015 724.565 L111.015 706.116 M109.788 702.042 L115.668 702.042 L115.668 724.565 L120.598 724.565 L120.598 728.454 L115.668 728.454 L115.668 736.602 L111.015 736.602 L111.015 728.454 L95.4132 728.454 L95.4132 723.94 L109.788 702.042 Z\" fill=\"#000000\" fill-rule=\"evenodd\" fill-opacity=\"1\" /><path clip-path=\"url(#clip260)\" d=\"M63.2606 341.924 Q59.6495 341.924 57.8208 345.489 Q56.0152 349.031 56.0152 356.16 Q56.0152 363.267 57.8208 366.831 Q59.6495 370.373 63.2606 370.373 Q66.8948 370.373 68.7004 366.831 Q70.5291 363.267 70.5291 356.16 Q70.5291 349.031 68.7004 345.489 Q66.8948 341.924 63.2606 341.924 M63.2606 338.221 Q69.0707 338.221 72.1263 342.827 Q75.205 347.41 75.205 356.16 Q75.205 364.887 72.1263 369.494 Q69.0707 374.077 63.2606 374.077 Q57.4504 374.077 54.3717 369.494 Q51.3162 364.887 51.3162 356.16 Q51.3162 347.41 54.3717 342.827 Q57.4504 338.221 63.2606 338.221 Z\" fill=\"#000000\" fill-rule=\"evenodd\" fill-opacity=\"1\" /><path clip-path=\"url(#clip260)\" d=\"M83.4225 367.526 L88.3067 367.526 L88.3067 373.406 L83.4225 373.406 L83.4225 367.526 Z\" fill=\"#000000\" fill-rule=\"evenodd\" fill-opacity=\"1\" /><path clip-path=\"url(#clip260)\" d=\"M109.071 354.262 Q105.922 354.262 104.071 356.415 Q102.242 358.568 102.242 362.318 Q102.242 366.044 104.071 368.22 Q105.922 370.373 109.071 370.373 Q112.219 370.373 114.047 368.22 Q115.899 366.044 115.899 362.318 Q115.899 358.568 114.047 356.415 Q112.219 354.262 109.071 354.262 M118.353 339.609 L118.353 343.869 Q116.594 343.035 114.788 342.595 Q113.006 342.156 111.246 342.156 Q106.617 342.156 104.163 345.281 Q101.733 348.406 101.385 354.725 Q102.751 352.711 104.811 351.646 Q106.871 350.558 109.348 350.558 Q114.557 350.558 117.566 353.73 Q120.598 356.878 120.598 362.318 Q120.598 367.642 117.45 370.859 Q114.302 374.077 109.071 374.077 Q103.075 374.077 99.9039 369.494 Q96.7326 364.887 96.7326 356.16 Q96.7326 347.966 100.621 343.105 Q104.51 338.221 111.061 338.221 Q112.82 338.221 114.603 338.568 Q116.408 338.915 118.353 339.609 Z\" fill=\"#000000\" fill-rule=\"evenodd\" fill-opacity=\"1\" /><polyline clip-path=\"url(#clip262)\" style=\"stroke:#009af9; stroke-linecap:butt; stroke-linejoin:round; stroke-width:4; stroke-opacity:1; fill:none\" points=\"\n",
       "  218.754,1445.72 228.39,1445.72 238.027,1445.72 247.663,1445.72 257.3,1445.72 266.936,1445.72 276.573,1445.72 286.209,1445.71 295.846,1445.71 305.482,1445.71 \n",
       "  315.119,1445.71 324.755,1445.71 334.392,1445.71 344.028,1445.71 353.665,1445.71 363.301,1445.71 372.938,1445.71 382.574,1445.7 392.211,1445.7 401.847,1445.69 \n",
       "  411.484,1445.69 421.12,1445.68 430.757,1445.67 440.393,1445.65 450.03,1445.64 459.666,1445.61 469.303,1445.58 478.939,1445.55 488.576,1445.51 498.212,1445.45 \n",
       "  507.849,1445.38 517.485,1445.3 527.122,1445.19 536.758,1445.06 546.395,1444.9 556.031,1444.7 565.668,1444.47 575.304,1444.18 584.941,1443.82 594.577,1443.4 \n",
       "  604.214,1442.89 613.85,1442.28 623.487,1441.55 633.123,1440.68 642.76,1439.65 652.396,1438.43 662.033,1436.99 671.669,1435.3 681.305,1433.32 690.942,1431.02 \n",
       "  700.578,1428.34 710.215,1425.24 719.851,1421.67 729.488,1417.56 739.124,1412.86 748.761,1407.49 758.397,1401.39 768.034,1394.48 777.67,1386.69 787.307,1377.93 \n",
       "  796.943,1368.13 806.58,1357.2 816.216,1345.06 825.853,1331.63 835.489,1316.83 845.126,1300.58 854.762,1282.83 864.399,1263.51 874.035,1242.57 883.672,1219.97 \n",
       "  893.308,1195.69 902.945,1169.72 912.581,1142.05 922.218,1112.71 931.854,1081.73 941.491,1049.19 951.127,1015.15 960.764,979.714 970.4,942.996 980.037,905.13 \n",
       "  989.673,866.267 999.31,826.574 1008.95,786.229 1018.58,745.422 1028.22,704.353 1037.86,663.223 1047.49,622.241 1057.13,581.614 1066.77,541.546 1076.4,502.237 \n",
       "  1086.04,463.879 1095.67,426.658 1105.31,390.745 1114.95,356.303 1124.58,323.481 1134.22,292.415 1143.86,263.228 1153.49,236.029 1163.13,210.915 1172.77,187.971 \n",
       "  1182.4,167.269 1192.04,148.873 1201.68,132.833 1211.31,119.194 1220.95,107.99 1230.59,99.2491 1240.22,92.9911 1249.86,89.2307 1259.5,87.9763 1269.13,89.2307 \n",
       "  1278.77,92.9911 1288.4,99.2491 1298.04,107.99 1307.68,119.194 1317.31,132.833 1326.95,148.873 1336.59,167.269 1346.22,187.971 1355.86,210.915 1365.5,236.029 \n",
       "  1375.13,263.228 1384.77,292.415 1394.41,323.481 1404.04,356.303 1413.68,390.745 1423.32,426.658 1432.95,463.879 1442.59,502.237 1452.23,541.546 1461.86,581.614 \n",
       "  1471.5,622.241 1481.13,663.223 1490.77,704.353 1500.41,745.422 1510.04,786.229 1519.68,826.574 1529.32,866.267 1538.95,905.13 1548.59,942.996 1558.23,979.714 \n",
       "  1567.86,1015.15 1577.5,1049.19 1587.14,1081.73 1596.77,1112.71 1606.41,1142.05 1616.05,1169.72 1625.68,1195.69 1635.32,1219.98 1644.96,1242.57 1654.59,1263.51 \n",
       "  1664.23,1282.83 1673.86,1300.58 1683.5,1316.83 1693.14,1331.63 1702.77,1345.06 1712.41,1357.2 1722.05,1368.13 1731.68,1377.93 1741.32,1386.69 1750.96,1394.48 \n",
       "  1760.59,1401.39 1770.23,1407.49 1779.87,1412.86 1789.5,1417.56 1799.14,1421.67 1808.78,1425.24 1818.41,1428.34 1828.05,1431.02 1837.69,1433.32 1847.32,1435.3 \n",
       "  1856.96,1436.99 1866.59,1438.43 1876.23,1439.65 1885.87,1440.68 1895.5,1441.55 1905.14,1442.28 1914.78,1442.89 1924.41,1443.4 1934.05,1443.82 1943.69,1444.18 \n",
       "  1953.32,1444.47 1962.96,1444.7 1972.6,1444.9 1982.23,1445.06 1991.87,1445.19 2001.51,1445.3 2011.14,1445.38 2020.78,1445.45 2030.42,1445.51 2040.05,1445.55 \n",
       "  2049.69,1445.58 2059.32,1445.61 2068.96,1445.64 2078.6,1445.65 2088.23,1445.67 2097.87,1445.68 2107.51,1445.69 2117.14,1445.69 2126.78,1445.7 2136.42,1445.7 \n",
       "  2146.05,1445.71 2155.69,1445.71 2165.33,1445.71 2174.96,1445.71 2184.6,1445.71 2194.24,1445.71 2203.87,1445.71 2213.51,1445.71 2223.15,1445.71 2232.78,1445.71 \n",
       "  2242.42,1445.72 2252.05,1445.72 2261.69,1445.72 2271.33,1445.72 2280.96,1445.72 2290.6,1445.72 \n",
       "  \"/>\n",
       "<polyline clip-path=\"url(#clip262)\" style=\"stroke:#e26f46; stroke-linecap:butt; stroke-linejoin:round; stroke-width:4; stroke-opacity:1; fill:none\" points=\"\n",
       "  218.754,1445.72 228.39,1445.72 238.027,1445.72 247.663,1445.72 257.3,1445.72 266.936,1445.72 276.573,1445.72 286.209,1445.72 295.846,1445.72 305.482,1445.72 \n",
       "  315.119,1445.72 324.755,1445.72 334.392,1445.72 344.028,1445.72 353.665,1445.72 363.301,1445.72 372.938,1445.72 382.574,1445.72 392.211,1445.72 401.847,1445.72 \n",
       "  411.484,1445.72 421.12,1445.72 430.757,1445.72 440.393,1445.72 450.03,1445.72 459.666,1445.72 469.303,1445.72 478.939,1445.72 488.576,1445.72 498.212,1445.72 \n",
       "  507.849,1445.72 517.485,1445.72 527.122,1445.72 536.758,1445.72 546.395,1445.72 556.031,1445.72 565.668,1445.72 575.304,1445.72 584.941,1445.72 594.577,1445.72 \n",
       "  604.214,1445.72 613.85,1445.72 623.487,1445.72 633.123,1445.72 642.76,1445.72 652.396,1445.72 662.033,1445.72 671.669,1445.72 681.305,1445.72 690.942,1445.72 \n",
       "  700.578,1445.72 710.215,1445.72 719.851,1445.72 729.488,1445.72 739.124,1445.72 748.761,1445.72 758.397,1445.72 768.034,1445.72 777.67,1445.72 787.307,1445.72 \n",
       "  796.943,1445.72 806.58,1445.72 816.216,1445.72 825.853,1445.72 835.489,1445.72 845.126,1445.72 854.762,1445.72 864.399,1445.72 874.035,1445.72 883.672,1445.72 \n",
       "  893.308,1445.72 902.945,1445.72 912.581,1445.72 922.218,1445.72 931.854,1445.72 941.491,1445.72 951.127,1445.72 960.764,1445.72 970.4,1445.72 980.037,1445.72 \n",
       "  989.673,1445.72 999.31,1445.72 1008.95,1445.72 1018.58,1445.72 1028.22,1445.72 1037.86,1445.72 1047.49,1445.72 1057.13,1445.72 1066.77,1445.72 1076.4,1445.72 \n",
       "  1086.04,1445.72 1095.67,1445.72 1105.31,1445.72 1114.95,1445.72 1124.58,1445.72 1134.22,1445.72 1143.86,1445.72 1153.49,1445.72 1163.13,1445.72 1172.77,1445.72 \n",
       "  1182.4,1445.72 1192.04,1445.72 1201.68,1445.72 1211.31,1445.72 1220.95,1445.72 1230.59,1445.72 1240.22,1445.72 1249.86,1445.72 1259.5,1445.72 1269.13,1445.72 \n",
       "  1278.77,1445.72 1288.4,1445.72 1298.04,1445.72 1307.68,1445.72 1317.31,1445.72 1326.95,1445.72 1336.59,1445.72 1346.22,1445.72 1355.86,1445.72 1365.5,1445.72 \n",
       "  1375.13,1445.72 1384.77,1445.72 1394.41,1445.72 1404.04,1445.72 1413.68,1445.72 1423.32,1445.72 1432.95,1445.72 1442.59,1445.72 1452.23,1445.72 1461.86,1445.72 \n",
       "  1471.5,1445.72 1481.13,1445.72 1490.77,1445.72 1500.41,1445.72 1510.04,1445.72 1519.68,1445.72 1529.32,1445.72 1538.95,1445.72 1548.59,1445.72 1558.23,1445.72 \n",
       "  1567.86,1445.72 1577.5,1445.72 1587.14,1445.72 1596.77,1445.72 1606.41,1445.72 1616.05,1445.72 1625.68,1445.72 1635.32,1445.72 1644.96,1445.72 1654.59,1445.72 \n",
       "  1664.23,1445.72 1673.86,1445.72 1683.5,1445.72 1693.14,1445.72 1702.77,1445.72 1712.41,1445.72 1722.05,1445.72 1731.68,1445.72 1741.32,1445.72 1750.96,1445.72 \n",
       "  1760.59,1445.72 1770.23,1445.72 1779.87,1445.72 1789.5,1445.72 1799.14,1445.72 1808.78,1445.72 1818.41,1445.72 1828.05,1445.72 1837.69,1445.72 1847.32,1445.72 \n",
       "  1856.96,1445.72 1866.59,1445.72 1876.23,1445.72 1885.87,1445.72 1895.5,1445.72 1905.14,1445.72 1914.78,1445.72 1924.41,1445.72 1934.05,1445.72 1943.69,1445.72 \n",
       "  1953.32,1445.72 1962.96,1445.72 1972.6,1445.72 1982.23,1445.72 1991.87,1445.72 2001.51,1445.72 2011.14,1445.72 2020.78,1445.72 2030.42,1445.72 2040.05,1445.72 \n",
       "  2049.69,1445.72 2059.32,1445.72 2068.96,1445.72 2078.6,1445.72 2088.23,1445.72 2097.87,1445.72 2107.51,1445.72 2117.14,1445.72 2126.78,1445.72 2136.42,1445.72 \n",
       "  2146.05,1445.72 2155.69,1445.72 2165.33,1445.72 2174.96,1445.72 2184.6,1445.72 2194.24,1445.72 2203.87,1445.72 2213.51,1445.72 2223.15,1445.72 2232.78,1445.72 \n",
       "  2242.42,1445.72 2252.05,1445.72 2261.69,1445.72 2271.33,1445.72 2280.96,1445.72 2290.6,1445.72 \n",
       "  \"/>\n",
       "<polyline clip-path=\"url(#clip262)\" style=\"stroke:#3da44d; stroke-linecap:butt; stroke-linejoin:round; stroke-width:4; stroke-opacity:1; fill:none\" points=\"\n",
       "  218.754,1445.72 228.39,1445.72 238.027,1445.72 247.663,1445.72 257.3,1445.72 266.936,1445.72 276.573,1445.72 286.209,1445.72 295.846,1445.72 305.482,1445.72 \n",
       "  315.119,1445.72 324.755,1445.72 334.392,1445.72 344.028,1445.72 353.665,1445.72 363.301,1445.72 372.938,1445.72 382.574,1445.72 392.211,1445.72 401.847,1445.72 \n",
       "  411.484,1445.72 421.12,1445.72 430.757,1445.72 440.393,1445.72 450.03,1445.72 459.666,1445.72 469.303,1445.72 478.939,1445.72 488.576,1445.72 498.212,1445.72 \n",
       "  507.849,1445.72 517.485,1445.72 527.122,1445.72 536.758,1445.72 546.395,1445.72 556.031,1445.72 565.668,1445.71 575.304,1445.71 584.941,1445.71 594.577,1445.71 \n",
       "  604.214,1445.71 613.85,1445.71 623.487,1445.71 633.123,1445.7 642.76,1445.7 652.396,1445.69 662.033,1445.67 671.669,1445.66 681.305,1445.63 690.942,1445.6 \n",
       "  700.578,1445.55 710.215,1445.48 719.851,1445.4 729.488,1445.28 739.124,1445.12 748.761,1444.91 758.397,1444.63 768.034,1444.27 777.67,1443.8 787.307,1443.19 \n",
       "  796.943,1442.4 806.58,1441.4 816.216,1440.14 825.853,1438.55 835.489,1436.57 845.126,1434.12 854.762,1431.11 864.399,1427.43 874.035,1422.99 883.672,1417.65 \n",
       "  893.308,1411.29 902.945,1403.77 912.581,1394.94 922.218,1384.65 931.854,1372.76 941.491,1359.13 951.127,1343.63 960.764,1326.13 970.4,1306.55 980.037,1284.79 \n",
       "  989.673,1260.82 999.31,1234.63 1008.95,1206.22 1018.58,1175.66 1028.22,1143.06 1037.86,1108.55 1047.49,1072.3 1057.13,1034.55 1066.77,995.534 1076.4,955.539 \n",
       "  1086.04,914.872 1095.67,873.861 1105.31,832.845 1114.95,792.175 1124.58,752.202 1134.22,713.274 1143.86,675.732 1153.49,639.903 1163.13,606.097 1172.77,574.605 \n",
       "  1182.4,545.694 1192.04,519.605 1201.68,496.555 1211.31,476.732 1220.95,460.294 1230.59,447.374 1240.22,438.072 1249.86,432.462 1259.5,430.587 1269.13,432.462 \n",
       "  1278.77,438.072 1288.4,447.374 1298.04,460.294 1307.68,476.732 1317.31,496.555 1326.95,519.605 1336.59,545.694 1346.22,574.605 1355.86,606.097 1365.5,639.903 \n",
       "  1375.13,675.732 1384.77,713.274 1394.41,752.202 1404.04,792.175 1413.68,832.845 1423.32,873.861 1432.95,914.872 1442.59,955.539 1452.23,995.534 1461.86,1034.55 \n",
       "  1471.5,1072.3 1481.13,1108.55 1490.77,1143.06 1500.41,1175.66 1510.04,1206.22 1519.68,1234.63 1529.32,1260.82 1538.95,1284.79 1548.59,1306.55 1558.23,1326.13 \n",
       "  1567.86,1343.63 1577.5,1359.13 1587.14,1372.76 1596.77,1384.65 1606.41,1394.94 1616.05,1403.77 1625.68,1411.29 1635.32,1417.65 1644.96,1422.99 1654.59,1427.43 \n",
       "  1664.23,1431.11 1673.86,1434.12 1683.5,1436.57 1693.14,1438.55 1702.77,1440.14 1712.41,1441.4 1722.05,1442.4 1731.68,1443.19 1741.32,1443.8 1750.96,1444.27 \n",
       "  1760.59,1444.63 1770.23,1444.91 1779.87,1445.12 1789.5,1445.28 1799.14,1445.4 1808.78,1445.48 1818.41,1445.55 1828.05,1445.6 1837.69,1445.63 1847.32,1445.66 \n",
       "  1856.96,1445.67 1866.59,1445.69 1876.23,1445.7 1885.87,1445.7 1895.5,1445.71 1905.14,1445.71 1914.78,1445.71 1924.41,1445.71 1934.05,1445.71 1943.69,1445.71 \n",
       "  1953.32,1445.71 1962.96,1445.72 1972.6,1445.72 1982.23,1445.72 1991.87,1445.72 2001.51,1445.72 2011.14,1445.72 2020.78,1445.72 2030.42,1445.72 2040.05,1445.72 \n",
       "  2049.69,1445.72 2059.32,1445.72 2068.96,1445.72 2078.6,1445.72 2088.23,1445.72 2097.87,1445.72 2107.51,1445.72 2117.14,1445.72 2126.78,1445.72 2136.42,1445.72 \n",
       "  2146.05,1445.72 2155.69,1445.72 2165.33,1445.72 2174.96,1445.72 2184.6,1445.72 2194.24,1445.72 2203.87,1445.72 2213.51,1445.72 2223.15,1445.72 2232.78,1445.72 \n",
       "  2242.42,1445.72 2252.05,1445.72 2261.69,1445.72 2271.33,1445.72 2280.96,1445.72 2290.6,1445.72 \n",
       "  \"/>\n",
       "<path clip-path=\"url(#clip260)\" d=\"\n",
       "M1857.32 302.578 L2279.55 302.578 L2279.55 95.2176 L1857.32 95.2176  Z\n",
       "  \" fill=\"#ffffff\" fill-rule=\"evenodd\" fill-opacity=\"1\"/>\n",
       "<polyline clip-path=\"url(#clip260)\" style=\"stroke:#000000; stroke-linecap:butt; stroke-linejoin:round; stroke-width:4; stroke-opacity:1; fill:none\" points=\"\n",
       "  1857.32,302.578 2279.55,302.578 2279.55,95.2176 1857.32,95.2176 1857.32,302.578 \n",
       "  \"/>\n",
       "<polyline clip-path=\"url(#clip260)\" style=\"stroke:#009af9; stroke-linecap:butt; stroke-linejoin:round; stroke-width:4; stroke-opacity:1; fill:none\" points=\"\n",
       "  1881.72,147.058 2028.13,147.058 \n",
       "  \"/>\n",
       "<path clip-path=\"url(#clip260)\" d=\"M2067.72 142.393 Q2067 141.977 2066.14 141.791 Q2065.31 141.583 2064.29 141.583 Q2060.68 141.583 2058.73 143.944 Q2056.81 146.282 2056.81 150.68 L2056.81 164.338 L2052.53 164.338 L2052.53 138.412 L2056.81 138.412 L2056.81 142.44 Q2058.16 140.078 2060.31 138.944 Q2062.46 137.787 2065.54 137.787 Q2065.98 137.787 2066.51 137.856 Q2067.04 137.903 2067.69 138.018 L2067.72 142.393 Z\" fill=\"#000000\" fill-rule=\"evenodd\" fill-opacity=\"1\" /><path clip-path=\"url(#clip260)\" d=\"M2093.32 150.31 L2093.32 152.393 L2073.73 152.393 Q2074.01 156.791 2076.37 159.106 Q2078.76 161.398 2082.99 161.398 Q2085.45 161.398 2087.74 160.796 Q2090.05 160.194 2092.32 158.99 L2092.32 163.018 Q2090.03 163.99 2087.62 164.5 Q2085.22 165.009 2082.74 165.009 Q2076.54 165.009 2072.9 161.398 Q2069.29 157.787 2069.29 151.629 Q2069.29 145.264 2072.72 141.537 Q2076.16 137.787 2082 137.787 Q2087.23 137.787 2090.26 141.166 Q2093.32 144.523 2093.32 150.31 M2089.06 149.06 Q2089.01 145.565 2087.09 143.481 Q2085.19 141.398 2082.04 141.398 Q2078.48 141.398 2076.33 143.412 Q2074.2 145.426 2073.87 149.083 L2089.06 149.06 Z\" fill=\"#000000\" fill-rule=\"evenodd\" fill-opacity=\"1\" /><path clip-path=\"url(#clip260)\" d=\"M2112.09 151.305 Q2106.93 151.305 2104.94 152.486 Q2102.95 153.666 2102.95 156.514 Q2102.95 158.782 2104.43 160.125 Q2105.93 161.444 2108.5 161.444 Q2112.04 161.444 2114.17 158.944 Q2116.33 156.421 2116.33 152.254 L2116.33 151.305 L2112.09 151.305 M2120.59 149.546 L2120.59 164.338 L2116.33 164.338 L2116.33 160.402 Q2114.87 162.763 2112.69 163.898 Q2110.52 165.009 2107.37 165.009 Q2103.39 165.009 2101.03 162.787 Q2098.69 160.541 2098.69 156.791 Q2098.69 152.416 2101.6 150.194 Q2104.54 147.972 2110.35 147.972 L2116.33 147.972 L2116.33 147.555 Q2116.33 144.615 2114.38 143.018 Q2112.46 141.398 2108.97 141.398 Q2106.74 141.398 2104.64 141.93 Q2102.53 142.463 2100.59 143.527 L2100.59 139.592 Q2102.92 138.69 2105.12 138.25 Q2107.32 137.787 2109.41 137.787 Q2115.03 137.787 2117.81 140.703 Q2120.59 143.62 2120.59 149.546 Z\" fill=\"#000000\" fill-rule=\"evenodd\" fill-opacity=\"1\" /><path clip-path=\"url(#clip260)\" d=\"M2129.36 128.319 L2133.62 128.319 L2133.62 164.338 L2129.36 164.338 L2129.36 128.319 Z\" fill=\"#000000\" fill-rule=\"evenodd\" fill-opacity=\"1\" /><path clip-path=\"url(#clip260)\" d=\"M2152.76 128.366 Q2149.66 133.69 2148.15 138.898 Q2146.65 144.106 2146.65 149.453 Q2146.65 154.801 2148.15 160.055 Q2149.68 165.287 2152.76 170.588 L2149.06 170.588 Q2145.59 165.148 2143.85 159.893 Q2142.14 154.639 2142.14 149.453 Q2142.14 144.291 2143.85 139.06 Q2145.56 133.828 2149.06 128.366 L2152.76 128.366 Z\" fill=\"#000000\" fill-rule=\"evenodd\" fill-opacity=\"1\" /><path clip-path=\"url(#clip260)\" d=\"M2170.01 164.916 Q2164.66 164.06 2162.18 161.814 Q2159.15 159.06 2159.15 153.435 L2159.15 138.412 L2163.46 138.412 L2163.46 153.273 Q2163.46 157.509 2165.42 159.268 Q2167.14 160.796 2170.01 161.12 L2170.01 138.412 L2174.24 138.412 L2174.24 161.097 Q2177.28 160.773 2178.83 159.245 Q2180.79 157.301 2180.79 153.25 L2180.79 138.412 L2185.1 138.412 L2185.1 153.412 Q2185.1 159.245 2182.07 161.791 Q2179.34 164.083 2174.24 164.893 L2174.24 174.199 L2170.01 174.199 L2170.01 164.916 Z\" fill=\"#000000\" fill-rule=\"evenodd\" fill-opacity=\"1\" /><path clip-path=\"url(#clip260)\" d=\"M2191.63 128.366 L2195.33 128.366 Q2198.8 133.828 2200.52 139.06 Q2202.25 144.291 2202.25 149.453 Q2202.25 154.639 2200.52 159.893 Q2198.8 165.148 2195.33 170.588 L2191.63 170.588 Q2194.71 165.287 2196.21 160.055 Q2197.74 154.801 2197.74 149.453 Q2197.74 144.106 2196.21 138.898 Q2194.71 133.69 2191.63 128.366 Z\" fill=\"#000000\" fill-rule=\"evenodd\" fill-opacity=\"1\" /><polyline clip-path=\"url(#clip260)\" style=\"stroke:#e26f46; stroke-linecap:butt; stroke-linejoin:round; stroke-width:4; stroke-opacity:1; fill:none\" points=\"\n",
       "  1881.72,198.898 2028.13,198.898 \n",
       "  \"/>\n",
       "<path clip-path=\"url(#clip260)\" d=\"M2052.53 190.252 L2056.79 190.252 L2056.79 216.178 L2052.53 216.178 L2052.53 190.252 M2052.53 180.159 L2056.79 180.159 L2056.79 185.553 L2052.53 185.553 L2052.53 180.159 Z\" fill=\"#000000\" fill-rule=\"evenodd\" fill-opacity=\"1\" /><path clip-path=\"url(#clip260)\" d=\"M2085.89 195.229 Q2087.48 192.358 2089.71 190.993 Q2091.93 189.627 2094.94 189.627 Q2098.99 189.627 2101.19 192.474 Q2103.39 195.298 2103.39 200.529 L2103.39 216.178 L2099.1 216.178 L2099.1 200.668 Q2099.1 196.942 2097.78 195.136 Q2096.47 193.33 2093.76 193.33 Q2090.45 193.33 2088.53 195.53 Q2086.6 197.729 2086.6 201.525 L2086.6 216.178 L2082.32 216.178 L2082.32 200.668 Q2082.32 196.918 2081 195.136 Q2079.68 193.33 2076.93 193.33 Q2073.66 193.33 2071.74 195.553 Q2069.82 197.752 2069.82 201.525 L2069.82 216.178 L2065.54 216.178 L2065.54 190.252 L2069.82 190.252 L2069.82 194.28 Q2071.28 191.895 2073.32 190.761 Q2075.35 189.627 2078.16 189.627 Q2080.98 189.627 2082.95 191.062 Q2084.94 192.497 2085.89 195.229 Z\" fill=\"#000000\" fill-rule=\"evenodd\" fill-opacity=\"1\" /><path clip-path=\"url(#clip260)\" d=\"M2123.66 203.145 Q2118.5 203.145 2116.51 204.326 Q2114.52 205.506 2114.52 208.354 Q2114.52 210.622 2116 211.965 Q2117.51 213.284 2120.08 213.284 Q2123.62 213.284 2125.75 210.784 Q2127.9 208.261 2127.9 204.094 L2127.9 203.145 L2123.66 203.145 M2132.16 201.386 L2132.16 216.178 L2127.9 216.178 L2127.9 212.242 Q2126.44 214.603 2124.27 215.738 Q2122.09 216.849 2118.94 216.849 Q2114.96 216.849 2112.6 214.627 Q2110.26 212.381 2110.26 208.631 Q2110.26 204.256 2113.18 202.034 Q2116.12 199.812 2121.93 199.812 L2127.9 199.812 L2127.9 199.395 Q2127.9 196.455 2125.96 194.858 Q2124.03 193.238 2120.54 193.238 Q2118.32 193.238 2116.21 193.77 Q2114.1 194.303 2112.16 195.367 L2112.16 191.432 Q2114.5 190.53 2116.7 190.09 Q2118.9 189.627 2120.98 189.627 Q2126.6 189.627 2129.38 192.543 Q2132.16 195.46 2132.16 201.386 Z\" fill=\"#000000\" fill-rule=\"evenodd\" fill-opacity=\"1\" /><path clip-path=\"url(#clip260)\" d=\"M2157.99 202.914 Q2157.99 198.284 2156.07 195.738 Q2154.17 193.192 2150.72 193.192 Q2147.3 193.192 2145.38 195.738 Q2143.48 198.284 2143.48 202.914 Q2143.48 207.52 2145.38 210.066 Q2147.3 212.613 2150.72 212.613 Q2154.17 212.613 2156.07 210.066 Q2157.99 207.52 2157.99 202.914 M2162.25 212.96 Q2162.25 219.58 2159.31 222.798 Q2156.37 226.039 2150.31 226.039 Q2148.06 226.039 2146.07 225.691 Q2144.08 225.367 2142.21 224.673 L2142.21 220.529 Q2144.08 221.548 2145.91 222.034 Q2147.74 222.52 2149.64 222.52 Q2153.83 222.52 2155.91 220.321 Q2157.99 218.145 2157.99 213.724 L2157.99 211.617 Q2156.67 213.909 2154.61 215.043 Q2152.55 216.178 2149.68 216.178 Q2144.91 216.178 2142 212.543 Q2139.08 208.909 2139.08 202.914 Q2139.08 196.895 2142 193.261 Q2144.91 189.627 2149.68 189.627 Q2152.55 189.627 2154.61 190.761 Q2156.67 191.895 2157.99 194.187 L2157.99 190.252 L2162.25 190.252 L2162.25 212.96 Z\" fill=\"#000000\" fill-rule=\"evenodd\" fill-opacity=\"1\" /><path clip-path=\"url(#clip260)\" d=\"M2181.26 180.206 Q2178.15 185.53 2176.65 190.738 Q2175.15 195.946 2175.15 201.293 Q2175.15 206.641 2176.65 211.895 Q2178.18 217.127 2181.26 222.428 L2177.55 222.428 Q2174.08 216.988 2172.34 211.733 Q2170.63 206.479 2170.63 201.293 Q2170.63 196.131 2172.34 190.9 Q2174.06 185.668 2177.55 180.206 L2181.26 180.206 Z\" fill=\"#000000\" fill-rule=\"evenodd\" fill-opacity=\"1\" /><path clip-path=\"url(#clip260)\" d=\"M2198.5 216.756 Q2193.15 215.9 2190.68 213.654 Q2187.65 210.9 2187.65 205.275 L2187.65 190.252 L2191.95 190.252 L2191.95 205.113 Q2191.95 209.349 2193.92 211.108 Q2195.63 212.636 2198.5 212.96 L2198.5 190.252 L2202.74 190.252 L2202.74 212.937 Q2205.77 212.613 2207.32 211.085 Q2209.29 209.141 2209.29 205.09 L2209.29 190.252 L2213.59 190.252 L2213.59 205.252 Q2213.59 211.085 2210.56 213.631 Q2207.83 215.923 2202.74 216.733 L2202.74 226.039 L2198.5 226.039 L2198.5 216.756 Z\" fill=\"#000000\" fill-rule=\"evenodd\" fill-opacity=\"1\" /><path clip-path=\"url(#clip260)\" d=\"M2220.12 180.206 L2223.83 180.206 Q2227.3 185.668 2229.01 190.9 Q2230.75 196.131 2230.75 201.293 Q2230.75 206.479 2229.01 211.733 Q2227.3 216.988 2223.83 222.428 L2220.12 222.428 Q2223.2 217.127 2224.71 211.895 Q2226.23 206.641 2226.23 201.293 Q2226.23 195.946 2224.71 190.738 Q2223.2 185.53 2220.12 180.206 Z\" fill=\"#000000\" fill-rule=\"evenodd\" fill-opacity=\"1\" /><polyline clip-path=\"url(#clip260)\" style=\"stroke:#3da44d; stroke-linecap:butt; stroke-linejoin:round; stroke-width:4; stroke-opacity:1; fill:none\" points=\"\n",
       "  1881.72,250.738 2028.13,250.738 \n",
       "  \"/>\n",
       "<path clip-path=\"url(#clip260)\" d=\"M2054.61 246.721 Q2056.03 244.36 2059.52 242.277 Q2060.89 241.467 2065.1 241.467 Q2069.82 241.467 2072.76 245.217 Q2075.72 248.967 2075.72 255.078 Q2075.72 261.189 2072.76 264.939 Q2069.82 268.689 2065.1 268.689 Q2062.25 268.689 2060.19 267.578 Q2058.16 266.443 2056.81 264.129 L2056.81 277.879 L2052.53 277.879 L2052.53 255.309 Q2052.53 249.962 2054.61 246.721 M2071.3 255.078 Q2071.3 250.379 2069.36 247.717 Q2067.44 245.032 2064.06 245.032 Q2060.68 245.032 2058.73 247.717 Q2056.81 250.379 2056.81 255.078 Q2056.81 259.777 2058.73 262.462 Q2060.68 265.124 2064.06 265.124 Q2067.44 265.124 2069.36 262.462 Q2071.3 259.777 2071.3 255.078 Z\" fill=\"#000000\" fill-rule=\"evenodd\" fill-opacity=\"1\" /></svg>\n"
      ],
      "image/svg+xml": [
       "<?xml version=\"1.0\" encoding=\"utf-8\"?>\n",
       "<svg xmlns=\"http://www.w3.org/2000/svg\" xmlns:xlink=\"http://www.w3.org/1999/xlink\" width=\"600\" height=\"400\" viewBox=\"0 0 2400 1600\">\n",
       "<defs>\n",
       "  <clipPath id=\"clip230\">\n",
       "    <rect x=\"0\" y=\"0\" width=\"2400\" height=\"1600\"/>\n",
       "  </clipPath>\n",
       "</defs>\n",
       "<path clip-path=\"url(#clip230)\" d=\"\n",
       "M0 1600 L2400 1600 L2400 0 L0 0  Z\n",
       "  \" fill=\"#ffffff\" fill-rule=\"evenodd\" fill-opacity=\"1\"/>\n",
       "<defs>\n",
       "  <clipPath id=\"clip231\">\n",
       "    <rect x=\"480\" y=\"0\" width=\"1681\" height=\"1600\"/>\n",
       "  </clipPath>\n",
       "</defs>\n",
       "<path clip-path=\"url(#clip230)\" d=\"\n",
       "M156.598 1486.45 L2352.76 1486.45 L2352.76 47.2441 L156.598 47.2441  Z\n",
       "  \" fill=\"#ffffff\" fill-rule=\"evenodd\" fill-opacity=\"1\"/>\n",
       "<defs>\n",
       "  <clipPath id=\"clip232\">\n",
       "    <rect x=\"156\" y=\"47\" width=\"2197\" height=\"1440\"/>\n",
       "  </clipPath>\n",
       "</defs>\n",
       "<polyline clip-path=\"url(#clip232)\" style=\"stroke:#000000; stroke-linecap:butt; stroke-linejoin:round; stroke-width:2; stroke-opacity:0.1; fill:none\" points=\"\n",
       "  218.754,1486.45 218.754,47.2441 \n",
       "  \"/>\n",
       "<polyline clip-path=\"url(#clip232)\" style=\"stroke:#000000; stroke-linecap:butt; stroke-linejoin:round; stroke-width:2; stroke-opacity:0.1; fill:none\" points=\"\n",
       "  739.124,1486.45 739.124,47.2441 \n",
       "  \"/>\n",
       "<polyline clip-path=\"url(#clip232)\" style=\"stroke:#000000; stroke-linecap:butt; stroke-linejoin:round; stroke-width:2; stroke-opacity:0.1; fill:none\" points=\"\n",
       "  1259.5,1486.45 1259.5,47.2441 \n",
       "  \"/>\n",
       "<polyline clip-path=\"url(#clip232)\" style=\"stroke:#000000; stroke-linecap:butt; stroke-linejoin:round; stroke-width:2; stroke-opacity:0.1; fill:none\" points=\"\n",
       "  1779.87,1486.45 1779.87,47.2441 \n",
       "  \"/>\n",
       "<polyline clip-path=\"url(#clip232)\" style=\"stroke:#000000; stroke-linecap:butt; stroke-linejoin:round; stroke-width:2; stroke-opacity:0.1; fill:none\" points=\"\n",
       "  2300.24,1486.45 2300.24,47.2441 \n",
       "  \"/>\n",
       "<polyline clip-path=\"url(#clip230)\" style=\"stroke:#000000; stroke-linecap:butt; stroke-linejoin:round; stroke-width:4; stroke-opacity:1; fill:none\" points=\"\n",
       "  156.598,1486.45 2352.76,1486.45 \n",
       "  \"/>\n",
       "<polyline clip-path=\"url(#clip230)\" style=\"stroke:#000000; stroke-linecap:butt; stroke-linejoin:round; stroke-width:4; stroke-opacity:1; fill:none\" points=\"\n",
       "  218.754,1486.45 218.754,1469.18 \n",
       "  \"/>\n",
       "<polyline clip-path=\"url(#clip230)\" style=\"stroke:#000000; stroke-linecap:butt; stroke-linejoin:round; stroke-width:4; stroke-opacity:1; fill:none\" points=\"\n",
       "  739.124,1486.45 739.124,1469.18 \n",
       "  \"/>\n",
       "<polyline clip-path=\"url(#clip230)\" style=\"stroke:#000000; stroke-linecap:butt; stroke-linejoin:round; stroke-width:4; stroke-opacity:1; fill:none\" points=\"\n",
       "  1259.5,1486.45 1259.5,1469.18 \n",
       "  \"/>\n",
       "<polyline clip-path=\"url(#clip230)\" style=\"stroke:#000000; stroke-linecap:butt; stroke-linejoin:round; stroke-width:4; stroke-opacity:1; fill:none\" points=\"\n",
       "  1779.87,1486.45 1779.87,1469.18 \n",
       "  \"/>\n",
       "<polyline clip-path=\"url(#clip230)\" style=\"stroke:#000000; stroke-linecap:butt; stroke-linejoin:round; stroke-width:4; stroke-opacity:1; fill:none\" points=\"\n",
       "  2300.24,1486.45 2300.24,1469.18 \n",
       "  \"/>\n",
       "<path clip-path=\"url(#clip230)\" d=\"M196.138 1515.64 Q192.527 1515.64 190.698 1519.2 Q188.893 1522.75 188.893 1529.87 Q188.893 1536.98 190.698 1540.55 Q192.527 1544.09 196.138 1544.09 Q199.772 1544.09 201.578 1540.55 Q203.407 1536.98 203.407 1529.87 Q203.407 1522.75 201.578 1519.2 Q199.772 1515.64 196.138 1515.64 M196.138 1511.93 Q201.948 1511.93 205.004 1516.54 Q208.082 1521.12 208.082 1529.87 Q208.082 1538.6 205.004 1543.21 Q201.948 1547.79 196.138 1547.79 Q190.328 1547.79 187.249 1543.21 Q184.194 1538.6 184.194 1529.87 Q184.194 1521.12 187.249 1516.54 Q190.328 1511.93 196.138 1511.93 Z\" fill=\"#000000\" fill-rule=\"evenodd\" fill-opacity=\"1\" /><path clip-path=\"url(#clip230)\" d=\"M216.3 1541.24 L221.184 1541.24 L221.184 1547.12 L216.3 1547.12 L216.3 1541.24 Z\" fill=\"#000000\" fill-rule=\"evenodd\" fill-opacity=\"1\" /><path clip-path=\"url(#clip230)\" d=\"M241.369 1515.64 Q237.758 1515.64 235.929 1519.2 Q234.124 1522.75 234.124 1529.87 Q234.124 1536.98 235.929 1540.55 Q237.758 1544.09 241.369 1544.09 Q245.003 1544.09 246.809 1540.55 Q248.638 1536.98 248.638 1529.87 Q248.638 1522.75 246.809 1519.2 Q245.003 1515.64 241.369 1515.64 M241.369 1511.93 Q247.179 1511.93 250.235 1516.54 Q253.314 1521.12 253.314 1529.87 Q253.314 1538.6 250.235 1543.21 Q247.179 1547.79 241.369 1547.79 Q235.559 1547.79 232.48 1543.21 Q229.425 1538.6 229.425 1529.87 Q229.425 1521.12 232.48 1516.54 Q235.559 1511.93 241.369 1511.93 Z\" fill=\"#000000\" fill-rule=\"evenodd\" fill-opacity=\"1\" /><path clip-path=\"url(#clip230)\" d=\"M710.861 1543.18 L727.18 1543.18 L727.18 1547.12 L705.236 1547.12 L705.236 1543.18 Q707.898 1540.43 712.481 1535.8 Q717.088 1531.15 718.268 1529.81 Q720.513 1527.28 721.393 1525.55 Q722.296 1523.79 722.296 1522.1 Q722.296 1519.34 720.351 1517.61 Q718.43 1515.87 715.328 1515.87 Q713.129 1515.87 710.676 1516.63 Q708.245 1517.4 705.467 1518.95 L705.467 1514.23 Q708.291 1513.09 710.745 1512.51 Q713.199 1511.93 715.236 1511.93 Q720.606 1511.93 723.8 1514.62 Q726.995 1517.31 726.995 1521.8 Q726.995 1523.93 726.185 1525.85 Q725.398 1527.74 723.291 1530.34 Q722.713 1531.01 719.611 1534.23 Q716.509 1537.42 710.861 1543.18 Z\" fill=\"#000000\" fill-rule=\"evenodd\" fill-opacity=\"1\" /><path clip-path=\"url(#clip230)\" d=\"M736.995 1541.24 L741.879 1541.24 L741.879 1547.12 L736.995 1547.12 L736.995 1541.24 Z\" fill=\"#000000\" fill-rule=\"evenodd\" fill-opacity=\"1\" /><path clip-path=\"url(#clip230)\" d=\"M752.111 1512.56 L770.467 1512.56 L770.467 1516.5 L756.393 1516.5 L756.393 1524.97 Q757.411 1524.62 758.43 1524.46 Q759.448 1524.27 760.467 1524.27 Q766.254 1524.27 769.634 1527.44 Q773.013 1530.62 773.013 1536.03 Q773.013 1541.61 769.541 1544.71 Q766.069 1547.79 759.749 1547.79 Q757.573 1547.79 755.305 1547.42 Q753.06 1547.05 750.652 1546.31 L750.652 1541.61 Q752.736 1542.74 754.958 1543.3 Q757.18 1543.86 759.657 1543.86 Q763.661 1543.86 765.999 1541.75 Q768.337 1539.64 768.337 1536.03 Q768.337 1532.42 765.999 1530.31 Q763.661 1528.21 759.657 1528.21 Q757.782 1528.21 755.907 1528.62 Q754.055 1529.04 752.111 1529.92 L752.111 1512.56 Z\" fill=\"#000000\" fill-rule=\"evenodd\" fill-opacity=\"1\" /><path clip-path=\"url(#clip230)\" d=\"M1226.66 1512.56 L1245.02 1512.56 L1245.02 1516.5 L1230.94 1516.5 L1230.94 1524.97 Q1231.96 1524.62 1232.98 1524.46 Q1234 1524.27 1235.02 1524.27 Q1240.8 1524.27 1244.18 1527.44 Q1247.56 1530.62 1247.56 1536.03 Q1247.56 1541.61 1244.09 1544.71 Q1240.62 1547.79 1234.3 1547.79 Q1232.12 1547.79 1229.85 1547.42 Q1227.61 1547.05 1225.2 1546.31 L1225.2 1541.61 Q1227.28 1542.74 1229.51 1543.3 Q1231.73 1543.86 1234.21 1543.86 Q1238.21 1543.86 1240.55 1541.75 Q1242.89 1539.64 1242.89 1536.03 Q1242.89 1532.42 1240.55 1530.31 Q1238.21 1528.21 1234.21 1528.21 Q1232.33 1528.21 1230.46 1528.62 Q1228.6 1529.04 1226.66 1529.92 L1226.66 1512.56 Z\" fill=\"#000000\" fill-rule=\"evenodd\" fill-opacity=\"1\" /><path clip-path=\"url(#clip230)\" d=\"M1256.78 1541.24 L1261.66 1541.24 L1261.66 1547.12 L1256.78 1547.12 L1256.78 1541.24 Z\" fill=\"#000000\" fill-rule=\"evenodd\" fill-opacity=\"1\" /><path clip-path=\"url(#clip230)\" d=\"M1281.84 1515.64 Q1278.23 1515.64 1276.4 1519.2 Q1274.6 1522.75 1274.6 1529.87 Q1274.6 1536.98 1276.4 1540.55 Q1278.23 1544.09 1281.84 1544.09 Q1285.48 1544.09 1287.28 1540.55 Q1289.11 1536.98 1289.11 1529.87 Q1289.11 1522.75 1287.28 1519.2 Q1285.48 1515.64 1281.84 1515.64 M1281.84 1511.93 Q1287.65 1511.93 1290.71 1516.54 Q1293.79 1521.12 1293.79 1529.87 Q1293.79 1538.6 1290.71 1543.21 Q1287.65 1547.79 1281.84 1547.79 Q1276.03 1547.79 1272.96 1543.21 Q1269.9 1538.6 1269.9 1529.87 Q1269.9 1521.12 1272.96 1516.54 Q1276.03 1511.93 1281.84 1511.93 Z\" fill=\"#000000\" fill-rule=\"evenodd\" fill-opacity=\"1\" /><path clip-path=\"url(#clip230)\" d=\"M1746.19 1512.56 L1768.41 1512.56 L1768.41 1514.55 L1755.86 1547.12 L1750.98 1547.12 L1762.78 1516.5 L1746.19 1516.5 L1746.19 1512.56 Z\" fill=\"#000000\" fill-rule=\"evenodd\" fill-opacity=\"1\" /><path clip-path=\"url(#clip230)\" d=\"M1777.53 1541.24 L1782.41 1541.24 L1782.41 1547.12 L1777.53 1547.12 L1777.53 1541.24 Z\" fill=\"#000000\" fill-rule=\"evenodd\" fill-opacity=\"1\" /><path clip-path=\"url(#clip230)\" d=\"M1792.64 1512.56 L1811 1512.56 L1811 1516.5 L1796.93 1516.5 L1796.93 1524.97 Q1797.94 1524.62 1798.96 1524.46 Q1799.98 1524.27 1801 1524.27 Q1806.79 1524.27 1810.17 1527.44 Q1813.55 1530.62 1813.55 1536.03 Q1813.55 1541.61 1810.07 1544.71 Q1806.6 1547.79 1800.28 1547.79 Q1798.11 1547.79 1795.84 1547.42 Q1793.59 1547.05 1791.19 1546.31 L1791.19 1541.61 Q1793.27 1542.74 1795.49 1543.3 Q1797.71 1543.86 1800.19 1543.86 Q1804.19 1543.86 1806.53 1541.75 Q1808.87 1539.64 1808.87 1536.03 Q1808.87 1532.42 1806.53 1530.31 Q1804.19 1528.21 1800.19 1528.21 Q1798.32 1528.21 1796.44 1528.62 Q1794.59 1529.04 1792.64 1529.92 L1792.64 1512.56 Z\" fill=\"#000000\" fill-rule=\"evenodd\" fill-opacity=\"1\" /><path clip-path=\"url(#clip230)\" d=\"M2252.31 1543.18 L2259.95 1543.18 L2259.95 1516.82 L2251.64 1518.49 L2251.64 1514.23 L2259.9 1512.56 L2264.58 1512.56 L2264.58 1543.18 L2272.22 1543.18 L2272.22 1547.12 L2252.31 1547.12 L2252.31 1543.18 Z\" fill=\"#000000\" fill-rule=\"evenodd\" fill-opacity=\"1\" /><path clip-path=\"url(#clip230)\" d=\"M2291.66 1515.64 Q2288.05 1515.64 2286.22 1519.2 Q2284.42 1522.75 2284.42 1529.87 Q2284.42 1536.98 2286.22 1540.55 Q2288.05 1544.09 2291.66 1544.09 Q2295.29 1544.09 2297.1 1540.55 Q2298.93 1536.98 2298.93 1529.87 Q2298.93 1522.75 2297.1 1519.2 Q2295.29 1515.64 2291.66 1515.64 M2291.66 1511.93 Q2297.47 1511.93 2300.53 1516.54 Q2303.61 1521.12 2303.61 1529.87 Q2303.61 1538.6 2300.53 1543.21 Q2297.47 1547.79 2291.66 1547.79 Q2285.85 1547.79 2282.77 1543.21 Q2279.72 1538.6 2279.72 1529.87 Q2279.72 1521.12 2282.77 1516.54 Q2285.85 1511.93 2291.66 1511.93 Z\" fill=\"#000000\" fill-rule=\"evenodd\" fill-opacity=\"1\" /><path clip-path=\"url(#clip230)\" d=\"M2311.82 1541.24 L2316.71 1541.24 L2316.71 1547.12 L2311.82 1547.12 L2311.82 1541.24 Z\" fill=\"#000000\" fill-rule=\"evenodd\" fill-opacity=\"1\" /><path clip-path=\"url(#clip230)\" d=\"M2336.89 1515.64 Q2333.28 1515.64 2331.45 1519.2 Q2329.65 1522.75 2329.65 1529.87 Q2329.65 1536.98 2331.45 1540.55 Q2333.28 1544.09 2336.89 1544.09 Q2340.53 1544.09 2342.33 1540.55 Q2344.16 1536.98 2344.16 1529.87 Q2344.16 1522.75 2342.33 1519.2 Q2340.53 1515.64 2336.89 1515.64 M2336.89 1511.93 Q2342.7 1511.93 2345.76 1516.54 Q2348.84 1521.12 2348.84 1529.87 Q2348.84 1538.6 2345.76 1543.21 Q2342.7 1547.79 2336.89 1547.79 Q2331.08 1547.79 2328 1543.21 Q2324.95 1538.6 2324.95 1529.87 Q2324.95 1521.12 2328 1516.54 Q2331.08 1511.93 2336.89 1511.93 Z\" fill=\"#000000\" fill-rule=\"evenodd\" fill-opacity=\"1\" /><polyline clip-path=\"url(#clip232)\" style=\"stroke:#000000; stroke-linecap:butt; stroke-linejoin:round; stroke-width:2; stroke-opacity:0.1; fill:none\" points=\"\n",
       "  156.598,1445.72 2352.76,1445.72 \n",
       "  \"/>\n",
       "<polyline clip-path=\"url(#clip232)\" style=\"stroke:#000000; stroke-linecap:butt; stroke-linejoin:round; stroke-width:2; stroke-opacity:0.1; fill:none\" points=\"\n",
       "  156.598,1082.52 2352.76,1082.52 \n",
       "  \"/>\n",
       "<polyline clip-path=\"url(#clip232)\" style=\"stroke:#000000; stroke-linecap:butt; stroke-linejoin:round; stroke-width:2; stroke-opacity:0.1; fill:none\" points=\"\n",
       "  156.598,719.322 2352.76,719.322 \n",
       "  \"/>\n",
       "<polyline clip-path=\"url(#clip232)\" style=\"stroke:#000000; stroke-linecap:butt; stroke-linejoin:round; stroke-width:2; stroke-opacity:0.1; fill:none\" points=\"\n",
       "  156.598,356.126 2352.76,356.126 \n",
       "  \"/>\n",
       "<polyline clip-path=\"url(#clip230)\" style=\"stroke:#000000; stroke-linecap:butt; stroke-linejoin:round; stroke-width:4; stroke-opacity:1; fill:none\" points=\"\n",
       "  156.598,1486.45 156.598,47.2441 \n",
       "  \"/>\n",
       "<polyline clip-path=\"url(#clip230)\" style=\"stroke:#000000; stroke-linecap:butt; stroke-linejoin:round; stroke-width:4; stroke-opacity:1; fill:none\" points=\"\n",
       "  156.598,1445.72 182.952,1445.72 \n",
       "  \"/>\n",
       "<polyline clip-path=\"url(#clip230)\" style=\"stroke:#000000; stroke-linecap:butt; stroke-linejoin:round; stroke-width:4; stroke-opacity:1; fill:none\" points=\"\n",
       "  156.598,1082.52 182.952,1082.52 \n",
       "  \"/>\n",
       "<polyline clip-path=\"url(#clip230)\" style=\"stroke:#000000; stroke-linecap:butt; stroke-linejoin:round; stroke-width:4; stroke-opacity:1; fill:none\" points=\"\n",
       "  156.598,719.322 182.952,719.322 \n",
       "  \"/>\n",
       "<polyline clip-path=\"url(#clip230)\" style=\"stroke:#000000; stroke-linecap:butt; stroke-linejoin:round; stroke-width:4; stroke-opacity:1; fill:none\" points=\"\n",
       "  156.598,356.126 182.952,356.126 \n",
       "  \"/>\n",
       "<path clip-path=\"url(#clip230)\" d=\"M63.4226 1431.51 Q59.8115 1431.51 57.9828 1435.08 Q56.1773 1438.62 56.1773 1445.75 Q56.1773 1452.86 57.9828 1456.42 Q59.8115 1459.96 63.4226 1459.96 Q67.0569 1459.96 68.8624 1456.42 Q70.6911 1452.86 70.6911 1445.75 Q70.6911 1438.62 68.8624 1435.08 Q67.0569 1431.51 63.4226 1431.51 M63.4226 1427.81 Q69.2328 1427.81 72.2883 1432.42 Q75.367 1437 75.367 1445.75 Q75.367 1454.48 72.2883 1459.08 Q69.2328 1463.67 63.4226 1463.67 Q57.6125 1463.67 54.5338 1459.08 Q51.4782 1454.48 51.4782 1445.75 Q51.4782 1437 54.5338 1432.42 Q57.6125 1427.81 63.4226 1427.81 Z\" fill=\"#000000\" fill-rule=\"evenodd\" fill-opacity=\"1\" /><path clip-path=\"url(#clip230)\" d=\"M83.5845 1457.12 L88.4688 1457.12 L88.4688 1463 L83.5845 1463 L83.5845 1457.12 Z\" fill=\"#000000\" fill-rule=\"evenodd\" fill-opacity=\"1\" /><path clip-path=\"url(#clip230)\" d=\"M108.654 1431.51 Q105.043 1431.51 103.214 1435.08 Q101.409 1438.62 101.409 1445.75 Q101.409 1452.86 103.214 1456.42 Q105.043 1459.96 108.654 1459.96 Q112.288 1459.96 114.094 1456.42 Q115.922 1452.86 115.922 1445.75 Q115.922 1438.62 114.094 1435.08 Q112.288 1431.51 108.654 1431.51 M108.654 1427.81 Q114.464 1427.81 117.52 1432.42 Q120.598 1437 120.598 1445.75 Q120.598 1454.48 117.52 1459.08 Q114.464 1463.67 108.654 1463.67 Q102.844 1463.67 99.765 1459.08 Q96.7095 1454.48 96.7095 1445.75 Q96.7095 1437 99.765 1432.42 Q102.844 1427.81 108.654 1427.81 Z\" fill=\"#000000\" fill-rule=\"evenodd\" fill-opacity=\"1\" /><path clip-path=\"url(#clip230)\" d=\"M65.0198 1068.32 Q61.4087 1068.32 59.58 1071.88 Q57.7745 1075.42 57.7745 1082.55 Q57.7745 1089.66 59.58 1093.22 Q61.4087 1096.77 65.0198 1096.77 Q68.6541 1096.77 70.4596 1093.22 Q72.2883 1089.66 72.2883 1082.55 Q72.2883 1075.42 70.4596 1071.88 Q68.6541 1068.32 65.0198 1068.32 M65.0198 1064.61 Q70.83 1064.61 73.8855 1069.22 Q76.9642 1073.8 76.9642 1082.55 Q76.9642 1091.28 73.8855 1095.89 Q70.83 1100.47 65.0198 1100.47 Q59.2097 1100.47 56.131 1095.89 Q53.0754 1091.28 53.0754 1082.55 Q53.0754 1073.8 56.131 1069.22 Q59.2097 1064.61 65.0198 1064.61 Z\" fill=\"#000000\" fill-rule=\"evenodd\" fill-opacity=\"1\" /><path clip-path=\"url(#clip230)\" d=\"M85.1818 1093.92 L90.066 1093.92 L90.066 1099.8 L85.1818 1099.8 L85.1818 1093.92 Z\" fill=\"#000000\" fill-rule=\"evenodd\" fill-opacity=\"1\" /><path clip-path=\"url(#clip230)\" d=\"M104.279 1095.86 L120.598 1095.86 L120.598 1099.8 L98.6539 1099.8 L98.6539 1095.86 Q101.316 1093.11 105.899 1088.48 Q110.506 1083.83 111.686 1082.48 Q113.932 1079.96 114.811 1078.22 Q115.714 1076.47 115.714 1074.78 Q115.714 1072.02 113.77 1070.29 Q111.848 1068.55 108.746 1068.55 Q106.547 1068.55 104.094 1069.31 Q101.663 1070.08 98.8854 1071.63 L98.8854 1066.91 Q101.709 1065.77 104.163 1065.19 Q106.617 1064.61 108.654 1064.61 Q114.024 1064.61 117.219 1067.3 Q120.413 1069.98 120.413 1074.48 Q120.413 1076.6 119.603 1078.53 Q118.816 1080.42 116.709 1083.02 Q116.131 1083.69 113.029 1086.91 Q109.927 1090.1 104.279 1095.86 Z\" fill=\"#000000\" fill-rule=\"evenodd\" fill-opacity=\"1\" /><path clip-path=\"url(#clip230)\" d=\"M62.9365 705.121 Q59.3254 705.121 57.4967 708.686 Q55.6912 712.227 55.6912 719.357 Q55.6912 726.463 57.4967 730.028 Q59.3254 733.57 62.9365 733.57 Q66.5707 733.57 68.3763 730.028 Q70.205 726.463 70.205 719.357 Q70.205 712.227 68.3763 708.686 Q66.5707 705.121 62.9365 705.121 M62.9365 701.417 Q68.7467 701.417 71.8022 706.024 Q74.8809 710.607 74.8809 719.357 Q74.8809 728.084 71.8022 732.69 Q68.7467 737.274 62.9365 737.274 Q57.1264 737.274 54.0477 732.69 Q50.9921 728.084 50.9921 719.357 Q50.9921 710.607 54.0477 706.024 Q57.1264 701.417 62.9365 701.417 Z\" fill=\"#000000\" fill-rule=\"evenodd\" fill-opacity=\"1\" /><path clip-path=\"url(#clip230)\" d=\"M83.0984 730.723 L87.9827 730.723 L87.9827 736.602 L83.0984 736.602 L83.0984 730.723 Z\" fill=\"#000000\" fill-rule=\"evenodd\" fill-opacity=\"1\" /><path clip-path=\"url(#clip230)\" d=\"M111.015 706.116 L99.2095 724.565 L111.015 724.565 L111.015 706.116 M109.788 702.042 L115.668 702.042 L115.668 724.565 L120.598 724.565 L120.598 728.454 L115.668 728.454 L115.668 736.602 L111.015 736.602 L111.015 728.454 L95.4132 728.454 L95.4132 723.94 L109.788 702.042 Z\" fill=\"#000000\" fill-rule=\"evenodd\" fill-opacity=\"1\" /><path clip-path=\"url(#clip230)\" d=\"M63.2606 341.924 Q59.6495 341.924 57.8208 345.489 Q56.0152 349.031 56.0152 356.16 Q56.0152 363.267 57.8208 366.831 Q59.6495 370.373 63.2606 370.373 Q66.8948 370.373 68.7004 366.831 Q70.5291 363.267 70.5291 356.16 Q70.5291 349.031 68.7004 345.489 Q66.8948 341.924 63.2606 341.924 M63.2606 338.221 Q69.0707 338.221 72.1263 342.827 Q75.205 347.41 75.205 356.16 Q75.205 364.887 72.1263 369.494 Q69.0707 374.077 63.2606 374.077 Q57.4504 374.077 54.3717 369.494 Q51.3162 364.887 51.3162 356.16 Q51.3162 347.41 54.3717 342.827 Q57.4504 338.221 63.2606 338.221 Z\" fill=\"#000000\" fill-rule=\"evenodd\" fill-opacity=\"1\" /><path clip-path=\"url(#clip230)\" d=\"M83.4225 367.526 L88.3067 367.526 L88.3067 373.406 L83.4225 373.406 L83.4225 367.526 Z\" fill=\"#000000\" fill-rule=\"evenodd\" fill-opacity=\"1\" /><path clip-path=\"url(#clip230)\" d=\"M109.071 354.262 Q105.922 354.262 104.071 356.415 Q102.242 358.568 102.242 362.318 Q102.242 366.044 104.071 368.22 Q105.922 370.373 109.071 370.373 Q112.219 370.373 114.047 368.22 Q115.899 366.044 115.899 362.318 Q115.899 358.568 114.047 356.415 Q112.219 354.262 109.071 354.262 M118.353 339.609 L118.353 343.869 Q116.594 343.035 114.788 342.595 Q113.006 342.156 111.246 342.156 Q106.617 342.156 104.163 345.281 Q101.733 348.406 101.385 354.725 Q102.751 352.711 104.811 351.646 Q106.871 350.558 109.348 350.558 Q114.557 350.558 117.566 353.73 Q120.598 356.878 120.598 362.318 Q120.598 367.642 117.45 370.859 Q114.302 374.077 109.071 374.077 Q103.075 374.077 99.9039 369.494 Q96.7326 364.887 96.7326 356.16 Q96.7326 347.966 100.621 343.105 Q104.51 338.221 111.061 338.221 Q112.82 338.221 114.603 338.568 Q116.408 338.915 118.353 339.609 Z\" fill=\"#000000\" fill-rule=\"evenodd\" fill-opacity=\"1\" /><polyline clip-path=\"url(#clip232)\" style=\"stroke:#009af9; stroke-linecap:butt; stroke-linejoin:round; stroke-width:4; stroke-opacity:1; fill:none\" points=\"\n",
       "  218.754,1445.72 228.39,1445.72 238.027,1445.72 247.663,1445.72 257.3,1445.72 266.936,1445.72 276.573,1445.72 286.209,1445.71 295.846,1445.71 305.482,1445.71 \n",
       "  315.119,1445.71 324.755,1445.71 334.392,1445.71 344.028,1445.71 353.665,1445.71 363.301,1445.71 372.938,1445.71 382.574,1445.7 392.211,1445.7 401.847,1445.69 \n",
       "  411.484,1445.69 421.12,1445.68 430.757,1445.67 440.393,1445.65 450.03,1445.64 459.666,1445.61 469.303,1445.58 478.939,1445.55 488.576,1445.51 498.212,1445.45 \n",
       "  507.849,1445.38 517.485,1445.3 527.122,1445.19 536.758,1445.06 546.395,1444.9 556.031,1444.7 565.668,1444.47 575.304,1444.18 584.941,1443.82 594.577,1443.4 \n",
       "  604.214,1442.89 613.85,1442.28 623.487,1441.55 633.123,1440.68 642.76,1439.65 652.396,1438.43 662.033,1436.99 671.669,1435.3 681.305,1433.32 690.942,1431.02 \n",
       "  700.578,1428.34 710.215,1425.24 719.851,1421.67 729.488,1417.56 739.124,1412.86 748.761,1407.49 758.397,1401.39 768.034,1394.48 777.67,1386.69 787.307,1377.93 \n",
       "  796.943,1368.13 806.58,1357.2 816.216,1345.06 825.853,1331.63 835.489,1316.83 845.126,1300.58 854.762,1282.83 864.399,1263.51 874.035,1242.57 883.672,1219.97 \n",
       "  893.308,1195.69 902.945,1169.72 912.581,1142.05 922.218,1112.71 931.854,1081.73 941.491,1049.19 951.127,1015.15 960.764,979.714 970.4,942.996 980.037,905.13 \n",
       "  989.673,866.267 999.31,826.574 1008.95,786.229 1018.58,745.422 1028.22,704.353 1037.86,663.223 1047.49,622.241 1057.13,581.614 1066.77,541.546 1076.4,502.237 \n",
       "  1086.04,463.879 1095.67,426.658 1105.31,390.745 1114.95,356.303 1124.58,323.481 1134.22,292.415 1143.86,263.228 1153.49,236.029 1163.13,210.915 1172.77,187.971 \n",
       "  1182.4,167.269 1192.04,148.873 1201.68,132.833 1211.31,119.194 1220.95,107.99 1230.59,99.2491 1240.22,92.9911 1249.86,89.2307 1259.5,87.9763 1269.13,89.2307 \n",
       "  1278.77,92.9911 1288.4,99.2491 1298.04,107.99 1307.68,119.194 1317.31,132.833 1326.95,148.873 1336.59,167.269 1346.22,187.971 1355.86,210.915 1365.5,236.029 \n",
       "  1375.13,263.228 1384.77,292.415 1394.41,323.481 1404.04,356.303 1413.68,390.745 1423.32,426.658 1432.95,463.879 1442.59,502.237 1452.23,541.546 1461.86,581.614 \n",
       "  1471.5,622.241 1481.13,663.223 1490.77,704.353 1500.41,745.422 1510.04,786.229 1519.68,826.574 1529.32,866.267 1538.95,905.13 1548.59,942.996 1558.23,979.714 \n",
       "  1567.86,1015.15 1577.5,1049.19 1587.14,1081.73 1596.77,1112.71 1606.41,1142.05 1616.05,1169.72 1625.68,1195.69 1635.32,1219.98 1644.96,1242.57 1654.59,1263.51 \n",
       "  1664.23,1282.83 1673.86,1300.58 1683.5,1316.83 1693.14,1331.63 1702.77,1345.06 1712.41,1357.2 1722.05,1368.13 1731.68,1377.93 1741.32,1386.69 1750.96,1394.48 \n",
       "  1760.59,1401.39 1770.23,1407.49 1779.87,1412.86 1789.5,1417.56 1799.14,1421.67 1808.78,1425.24 1818.41,1428.34 1828.05,1431.02 1837.69,1433.32 1847.32,1435.3 \n",
       "  1856.96,1436.99 1866.59,1438.43 1876.23,1439.65 1885.87,1440.68 1895.5,1441.55 1905.14,1442.28 1914.78,1442.89 1924.41,1443.4 1934.05,1443.82 1943.69,1444.18 \n",
       "  1953.32,1444.47 1962.96,1444.7 1972.6,1444.9 1982.23,1445.06 1991.87,1445.19 2001.51,1445.3 2011.14,1445.38 2020.78,1445.45 2030.42,1445.51 2040.05,1445.55 \n",
       "  2049.69,1445.58 2059.32,1445.61 2068.96,1445.64 2078.6,1445.65 2088.23,1445.67 2097.87,1445.68 2107.51,1445.69 2117.14,1445.69 2126.78,1445.7 2136.42,1445.7 \n",
       "  2146.05,1445.71 2155.69,1445.71 2165.33,1445.71 2174.96,1445.71 2184.6,1445.71 2194.24,1445.71 2203.87,1445.71 2213.51,1445.71 2223.15,1445.71 2232.78,1445.71 \n",
       "  2242.42,1445.72 2252.05,1445.72 2261.69,1445.72 2271.33,1445.72 2280.96,1445.72 2290.6,1445.72 \n",
       "  \"/>\n",
       "<polyline clip-path=\"url(#clip232)\" style=\"stroke:#e26f46; stroke-linecap:butt; stroke-linejoin:round; stroke-width:4; stroke-opacity:1; fill:none\" points=\"\n",
       "  218.754,1445.72 228.39,1445.72 238.027,1445.72 247.663,1445.72 257.3,1445.72 266.936,1445.72 276.573,1445.72 286.209,1445.72 295.846,1445.72 305.482,1445.72 \n",
       "  315.119,1445.72 324.755,1445.72 334.392,1445.72 344.028,1445.72 353.665,1445.72 363.301,1445.72 372.938,1445.72 382.574,1445.72 392.211,1445.72 401.847,1445.72 \n",
       "  411.484,1445.72 421.12,1445.72 430.757,1445.72 440.393,1445.72 450.03,1445.72 459.666,1445.72 469.303,1445.72 478.939,1445.72 488.576,1445.72 498.212,1445.72 \n",
       "  507.849,1445.72 517.485,1445.72 527.122,1445.72 536.758,1445.72 546.395,1445.72 556.031,1445.72 565.668,1445.72 575.304,1445.72 584.941,1445.72 594.577,1445.72 \n",
       "  604.214,1445.72 613.85,1445.72 623.487,1445.72 633.123,1445.72 642.76,1445.72 652.396,1445.72 662.033,1445.72 671.669,1445.72 681.305,1445.72 690.942,1445.72 \n",
       "  700.578,1445.72 710.215,1445.72 719.851,1445.72 729.488,1445.72 739.124,1445.72 748.761,1445.72 758.397,1445.72 768.034,1445.72 777.67,1445.72 787.307,1445.72 \n",
       "  796.943,1445.72 806.58,1445.72 816.216,1445.72 825.853,1445.72 835.489,1445.72 845.126,1445.72 854.762,1445.72 864.399,1445.72 874.035,1445.72 883.672,1445.72 \n",
       "  893.308,1445.72 902.945,1445.72 912.581,1445.72 922.218,1445.72 931.854,1445.72 941.491,1445.72 951.127,1445.72 960.764,1445.72 970.4,1445.72 980.037,1445.72 \n",
       "  989.673,1445.72 999.31,1445.72 1008.95,1445.72 1018.58,1445.72 1028.22,1445.72 1037.86,1445.72 1047.49,1445.72 1057.13,1445.72 1066.77,1445.72 1076.4,1445.72 \n",
       "  1086.04,1445.72 1095.67,1445.72 1105.31,1445.72 1114.95,1445.72 1124.58,1445.72 1134.22,1445.72 1143.86,1445.72 1153.49,1445.72 1163.13,1445.72 1172.77,1445.72 \n",
       "  1182.4,1445.72 1192.04,1445.72 1201.68,1445.72 1211.31,1445.72 1220.95,1445.72 1230.59,1445.72 1240.22,1445.72 1249.86,1445.72 1259.5,1445.72 1269.13,1445.72 \n",
       "  1278.77,1445.72 1288.4,1445.72 1298.04,1445.72 1307.68,1445.72 1317.31,1445.72 1326.95,1445.72 1336.59,1445.72 1346.22,1445.72 1355.86,1445.72 1365.5,1445.72 \n",
       "  1375.13,1445.72 1384.77,1445.72 1394.41,1445.72 1404.04,1445.72 1413.68,1445.72 1423.32,1445.72 1432.95,1445.72 1442.59,1445.72 1452.23,1445.72 1461.86,1445.72 \n",
       "  1471.5,1445.72 1481.13,1445.72 1490.77,1445.72 1500.41,1445.72 1510.04,1445.72 1519.68,1445.72 1529.32,1445.72 1538.95,1445.72 1548.59,1445.72 1558.23,1445.72 \n",
       "  1567.86,1445.72 1577.5,1445.72 1587.14,1445.72 1596.77,1445.72 1606.41,1445.72 1616.05,1445.72 1625.68,1445.72 1635.32,1445.72 1644.96,1445.72 1654.59,1445.72 \n",
       "  1664.23,1445.72 1673.86,1445.72 1683.5,1445.72 1693.14,1445.72 1702.77,1445.72 1712.41,1445.72 1722.05,1445.72 1731.68,1445.72 1741.32,1445.72 1750.96,1445.72 \n",
       "  1760.59,1445.72 1770.23,1445.72 1779.87,1445.72 1789.5,1445.72 1799.14,1445.72 1808.78,1445.72 1818.41,1445.72 1828.05,1445.72 1837.69,1445.72 1847.32,1445.72 \n",
       "  1856.96,1445.72 1866.59,1445.72 1876.23,1445.72 1885.87,1445.72 1895.5,1445.72 1905.14,1445.72 1914.78,1445.72 1924.41,1445.72 1934.05,1445.72 1943.69,1445.72 \n",
       "  1953.32,1445.72 1962.96,1445.72 1972.6,1445.72 1982.23,1445.72 1991.87,1445.72 2001.51,1445.72 2011.14,1445.72 2020.78,1445.72 2030.42,1445.72 2040.05,1445.72 \n",
       "  2049.69,1445.72 2059.32,1445.72 2068.96,1445.72 2078.6,1445.72 2088.23,1445.72 2097.87,1445.72 2107.51,1445.72 2117.14,1445.72 2126.78,1445.72 2136.42,1445.72 \n",
       "  2146.05,1445.72 2155.69,1445.72 2165.33,1445.72 2174.96,1445.72 2184.6,1445.72 2194.24,1445.72 2203.87,1445.72 2213.51,1445.72 2223.15,1445.72 2232.78,1445.72 \n",
       "  2242.42,1445.72 2252.05,1445.72 2261.69,1445.72 2271.33,1445.72 2280.96,1445.72 2290.6,1445.72 \n",
       "  \"/>\n",
       "<polyline clip-path=\"url(#clip232)\" style=\"stroke:#3da44d; stroke-linecap:butt; stroke-linejoin:round; stroke-width:4; stroke-opacity:1; fill:none\" points=\"\n",
       "  218.754,1445.72 228.39,1445.72 238.027,1445.72 247.663,1445.72 257.3,1445.72 266.936,1445.72 276.573,1445.72 286.209,1445.72 295.846,1445.72 305.482,1445.72 \n",
       "  315.119,1445.72 324.755,1445.72 334.392,1445.72 344.028,1445.72 353.665,1445.72 363.301,1445.72 372.938,1445.72 382.574,1445.72 392.211,1445.72 401.847,1445.72 \n",
       "  411.484,1445.72 421.12,1445.72 430.757,1445.72 440.393,1445.72 450.03,1445.72 459.666,1445.72 469.303,1445.72 478.939,1445.72 488.576,1445.72 498.212,1445.72 \n",
       "  507.849,1445.72 517.485,1445.72 527.122,1445.72 536.758,1445.72 546.395,1445.72 556.031,1445.72 565.668,1445.71 575.304,1445.71 584.941,1445.71 594.577,1445.71 \n",
       "  604.214,1445.71 613.85,1445.71 623.487,1445.71 633.123,1445.7 642.76,1445.7 652.396,1445.69 662.033,1445.67 671.669,1445.66 681.305,1445.63 690.942,1445.6 \n",
       "  700.578,1445.55 710.215,1445.48 719.851,1445.4 729.488,1445.28 739.124,1445.12 748.761,1444.91 758.397,1444.63 768.034,1444.27 777.67,1443.8 787.307,1443.19 \n",
       "  796.943,1442.4 806.58,1441.4 816.216,1440.14 825.853,1438.55 835.489,1436.57 845.126,1434.12 854.762,1431.11 864.399,1427.43 874.035,1422.99 883.672,1417.65 \n",
       "  893.308,1411.29 902.945,1403.77 912.581,1394.94 922.218,1384.65 931.854,1372.76 941.491,1359.13 951.127,1343.63 960.764,1326.13 970.4,1306.55 980.037,1284.79 \n",
       "  989.673,1260.82 999.31,1234.63 1008.95,1206.22 1018.58,1175.66 1028.22,1143.06 1037.86,1108.55 1047.49,1072.3 1057.13,1034.55 1066.77,995.534 1076.4,955.539 \n",
       "  1086.04,914.872 1095.67,873.861 1105.31,832.845 1114.95,792.175 1124.58,752.202 1134.22,713.274 1143.86,675.732 1153.49,639.903 1163.13,606.097 1172.77,574.605 \n",
       "  1182.4,545.694 1192.04,519.605 1201.68,496.555 1211.31,476.732 1220.95,460.294 1230.59,447.374 1240.22,438.072 1249.86,432.462 1259.5,430.587 1269.13,432.462 \n",
       "  1278.77,438.072 1288.4,447.374 1298.04,460.294 1307.68,476.732 1317.31,496.555 1326.95,519.605 1336.59,545.694 1346.22,574.605 1355.86,606.097 1365.5,639.903 \n",
       "  1375.13,675.732 1384.77,713.274 1394.41,752.202 1404.04,792.175 1413.68,832.845 1423.32,873.861 1432.95,914.872 1442.59,955.539 1452.23,995.534 1461.86,1034.55 \n",
       "  1471.5,1072.3 1481.13,1108.55 1490.77,1143.06 1500.41,1175.66 1510.04,1206.22 1519.68,1234.63 1529.32,1260.82 1538.95,1284.79 1548.59,1306.55 1558.23,1326.13 \n",
       "  1567.86,1343.63 1577.5,1359.13 1587.14,1372.76 1596.77,1384.65 1606.41,1394.94 1616.05,1403.77 1625.68,1411.29 1635.32,1417.65 1644.96,1422.99 1654.59,1427.43 \n",
       "  1664.23,1431.11 1673.86,1434.12 1683.5,1436.57 1693.14,1438.55 1702.77,1440.14 1712.41,1441.4 1722.05,1442.4 1731.68,1443.19 1741.32,1443.8 1750.96,1444.27 \n",
       "  1760.59,1444.63 1770.23,1444.91 1779.87,1445.12 1789.5,1445.28 1799.14,1445.4 1808.78,1445.48 1818.41,1445.55 1828.05,1445.6 1837.69,1445.63 1847.32,1445.66 \n",
       "  1856.96,1445.67 1866.59,1445.69 1876.23,1445.7 1885.87,1445.7 1895.5,1445.71 1905.14,1445.71 1914.78,1445.71 1924.41,1445.71 1934.05,1445.71 1943.69,1445.71 \n",
       "  1953.32,1445.71 1962.96,1445.72 1972.6,1445.72 1982.23,1445.72 1991.87,1445.72 2001.51,1445.72 2011.14,1445.72 2020.78,1445.72 2030.42,1445.72 2040.05,1445.72 \n",
       "  2049.69,1445.72 2059.32,1445.72 2068.96,1445.72 2078.6,1445.72 2088.23,1445.72 2097.87,1445.72 2107.51,1445.72 2117.14,1445.72 2126.78,1445.72 2136.42,1445.72 \n",
       "  2146.05,1445.72 2155.69,1445.72 2165.33,1445.72 2174.96,1445.72 2184.6,1445.72 2194.24,1445.72 2203.87,1445.72 2213.51,1445.72 2223.15,1445.72 2232.78,1445.72 \n",
       "  2242.42,1445.72 2252.05,1445.72 2261.69,1445.72 2271.33,1445.72 2280.96,1445.72 2290.6,1445.72 \n",
       "  \"/>\n",
       "<path clip-path=\"url(#clip230)\" d=\"\n",
       "M1857.32 302.578 L2279.55 302.578 L2279.55 95.2176 L1857.32 95.2176  Z\n",
       "  \" fill=\"#ffffff\" fill-rule=\"evenodd\" fill-opacity=\"1\"/>\n",
       "<polyline clip-path=\"url(#clip230)\" style=\"stroke:#000000; stroke-linecap:butt; stroke-linejoin:round; stroke-width:4; stroke-opacity:1; fill:none\" points=\"\n",
       "  1857.32,302.578 2279.55,302.578 2279.55,95.2176 1857.32,95.2176 1857.32,302.578 \n",
       "  \"/>\n",
       "<polyline clip-path=\"url(#clip230)\" style=\"stroke:#009af9; stroke-linecap:butt; stroke-linejoin:round; stroke-width:4; stroke-opacity:1; fill:none\" points=\"\n",
       "  1881.72,147.058 2028.13,147.058 \n",
       "  \"/>\n",
       "<path clip-path=\"url(#clip230)\" d=\"M2067.72 142.393 Q2067 141.977 2066.14 141.791 Q2065.31 141.583 2064.29 141.583 Q2060.68 141.583 2058.73 143.944 Q2056.81 146.282 2056.81 150.68 L2056.81 164.338 L2052.53 164.338 L2052.53 138.412 L2056.81 138.412 L2056.81 142.44 Q2058.16 140.078 2060.31 138.944 Q2062.46 137.787 2065.54 137.787 Q2065.98 137.787 2066.51 137.856 Q2067.04 137.903 2067.69 138.018 L2067.72 142.393 Z\" fill=\"#000000\" fill-rule=\"evenodd\" fill-opacity=\"1\" /><path clip-path=\"url(#clip230)\" d=\"M2093.32 150.31 L2093.32 152.393 L2073.73 152.393 Q2074.01 156.791 2076.37 159.106 Q2078.76 161.398 2082.99 161.398 Q2085.45 161.398 2087.74 160.796 Q2090.05 160.194 2092.32 158.99 L2092.32 163.018 Q2090.03 163.99 2087.62 164.5 Q2085.22 165.009 2082.74 165.009 Q2076.54 165.009 2072.9 161.398 Q2069.29 157.787 2069.29 151.629 Q2069.29 145.264 2072.72 141.537 Q2076.16 137.787 2082 137.787 Q2087.23 137.787 2090.26 141.166 Q2093.32 144.523 2093.32 150.31 M2089.06 149.06 Q2089.01 145.565 2087.09 143.481 Q2085.19 141.398 2082.04 141.398 Q2078.48 141.398 2076.33 143.412 Q2074.2 145.426 2073.87 149.083 L2089.06 149.06 Z\" fill=\"#000000\" fill-rule=\"evenodd\" fill-opacity=\"1\" /><path clip-path=\"url(#clip230)\" d=\"M2112.09 151.305 Q2106.93 151.305 2104.94 152.486 Q2102.95 153.666 2102.95 156.514 Q2102.95 158.782 2104.43 160.125 Q2105.93 161.444 2108.5 161.444 Q2112.04 161.444 2114.17 158.944 Q2116.33 156.421 2116.33 152.254 L2116.33 151.305 L2112.09 151.305 M2120.59 149.546 L2120.59 164.338 L2116.33 164.338 L2116.33 160.402 Q2114.87 162.763 2112.69 163.898 Q2110.52 165.009 2107.37 165.009 Q2103.39 165.009 2101.03 162.787 Q2098.69 160.541 2098.69 156.791 Q2098.69 152.416 2101.6 150.194 Q2104.54 147.972 2110.35 147.972 L2116.33 147.972 L2116.33 147.555 Q2116.33 144.615 2114.38 143.018 Q2112.46 141.398 2108.97 141.398 Q2106.74 141.398 2104.64 141.93 Q2102.53 142.463 2100.59 143.527 L2100.59 139.592 Q2102.92 138.69 2105.12 138.25 Q2107.32 137.787 2109.41 137.787 Q2115.03 137.787 2117.81 140.703 Q2120.59 143.62 2120.59 149.546 Z\" fill=\"#000000\" fill-rule=\"evenodd\" fill-opacity=\"1\" /><path clip-path=\"url(#clip230)\" d=\"M2129.36 128.319 L2133.62 128.319 L2133.62 164.338 L2129.36 164.338 L2129.36 128.319 Z\" fill=\"#000000\" fill-rule=\"evenodd\" fill-opacity=\"1\" /><path clip-path=\"url(#clip230)\" d=\"M2152.76 128.366 Q2149.66 133.69 2148.15 138.898 Q2146.65 144.106 2146.65 149.453 Q2146.65 154.801 2148.15 160.055 Q2149.68 165.287 2152.76 170.588 L2149.06 170.588 Q2145.59 165.148 2143.85 159.893 Q2142.14 154.639 2142.14 149.453 Q2142.14 144.291 2143.85 139.06 Q2145.56 133.828 2149.06 128.366 L2152.76 128.366 Z\" fill=\"#000000\" fill-rule=\"evenodd\" fill-opacity=\"1\" /><path clip-path=\"url(#clip230)\" d=\"M2170.01 164.916 Q2164.66 164.06 2162.18 161.814 Q2159.15 159.06 2159.15 153.435 L2159.15 138.412 L2163.46 138.412 L2163.46 153.273 Q2163.46 157.509 2165.42 159.268 Q2167.14 160.796 2170.01 161.12 L2170.01 138.412 L2174.24 138.412 L2174.24 161.097 Q2177.28 160.773 2178.83 159.245 Q2180.79 157.301 2180.79 153.25 L2180.79 138.412 L2185.1 138.412 L2185.1 153.412 Q2185.1 159.245 2182.07 161.791 Q2179.34 164.083 2174.24 164.893 L2174.24 174.199 L2170.01 174.199 L2170.01 164.916 Z\" fill=\"#000000\" fill-rule=\"evenodd\" fill-opacity=\"1\" /><path clip-path=\"url(#clip230)\" d=\"M2191.63 128.366 L2195.33 128.366 Q2198.8 133.828 2200.52 139.06 Q2202.25 144.291 2202.25 149.453 Q2202.25 154.639 2200.52 159.893 Q2198.8 165.148 2195.33 170.588 L2191.63 170.588 Q2194.71 165.287 2196.21 160.055 Q2197.74 154.801 2197.74 149.453 Q2197.74 144.106 2196.21 138.898 Q2194.71 133.69 2191.63 128.366 Z\" fill=\"#000000\" fill-rule=\"evenodd\" fill-opacity=\"1\" /><polyline clip-path=\"url(#clip230)\" style=\"stroke:#e26f46; stroke-linecap:butt; stroke-linejoin:round; stroke-width:4; stroke-opacity:1; fill:none\" points=\"\n",
       "  1881.72,198.898 2028.13,198.898 \n",
       "  \"/>\n",
       "<path clip-path=\"url(#clip230)\" d=\"M2052.53 190.252 L2056.79 190.252 L2056.79 216.178 L2052.53 216.178 L2052.53 190.252 M2052.53 180.159 L2056.79 180.159 L2056.79 185.553 L2052.53 185.553 L2052.53 180.159 Z\" fill=\"#000000\" fill-rule=\"evenodd\" fill-opacity=\"1\" /><path clip-path=\"url(#clip230)\" d=\"M2085.89 195.229 Q2087.48 192.358 2089.71 190.993 Q2091.93 189.627 2094.94 189.627 Q2098.99 189.627 2101.19 192.474 Q2103.39 195.298 2103.39 200.529 L2103.39 216.178 L2099.1 216.178 L2099.1 200.668 Q2099.1 196.942 2097.78 195.136 Q2096.47 193.33 2093.76 193.33 Q2090.45 193.33 2088.53 195.53 Q2086.6 197.729 2086.6 201.525 L2086.6 216.178 L2082.32 216.178 L2082.32 200.668 Q2082.32 196.918 2081 195.136 Q2079.68 193.33 2076.93 193.33 Q2073.66 193.33 2071.74 195.553 Q2069.82 197.752 2069.82 201.525 L2069.82 216.178 L2065.54 216.178 L2065.54 190.252 L2069.82 190.252 L2069.82 194.28 Q2071.28 191.895 2073.32 190.761 Q2075.35 189.627 2078.16 189.627 Q2080.98 189.627 2082.95 191.062 Q2084.94 192.497 2085.89 195.229 Z\" fill=\"#000000\" fill-rule=\"evenodd\" fill-opacity=\"1\" /><path clip-path=\"url(#clip230)\" d=\"M2123.66 203.145 Q2118.5 203.145 2116.51 204.326 Q2114.52 205.506 2114.52 208.354 Q2114.52 210.622 2116 211.965 Q2117.51 213.284 2120.08 213.284 Q2123.62 213.284 2125.75 210.784 Q2127.9 208.261 2127.9 204.094 L2127.9 203.145 L2123.66 203.145 M2132.16 201.386 L2132.16 216.178 L2127.9 216.178 L2127.9 212.242 Q2126.44 214.603 2124.27 215.738 Q2122.09 216.849 2118.94 216.849 Q2114.96 216.849 2112.6 214.627 Q2110.26 212.381 2110.26 208.631 Q2110.26 204.256 2113.18 202.034 Q2116.12 199.812 2121.93 199.812 L2127.9 199.812 L2127.9 199.395 Q2127.9 196.455 2125.96 194.858 Q2124.03 193.238 2120.54 193.238 Q2118.32 193.238 2116.21 193.77 Q2114.1 194.303 2112.16 195.367 L2112.16 191.432 Q2114.5 190.53 2116.7 190.09 Q2118.9 189.627 2120.98 189.627 Q2126.6 189.627 2129.38 192.543 Q2132.16 195.46 2132.16 201.386 Z\" fill=\"#000000\" fill-rule=\"evenodd\" fill-opacity=\"1\" /><path clip-path=\"url(#clip230)\" d=\"M2157.99 202.914 Q2157.99 198.284 2156.07 195.738 Q2154.17 193.192 2150.72 193.192 Q2147.3 193.192 2145.38 195.738 Q2143.48 198.284 2143.48 202.914 Q2143.48 207.52 2145.38 210.066 Q2147.3 212.613 2150.72 212.613 Q2154.17 212.613 2156.07 210.066 Q2157.99 207.52 2157.99 202.914 M2162.25 212.96 Q2162.25 219.58 2159.31 222.798 Q2156.37 226.039 2150.31 226.039 Q2148.06 226.039 2146.07 225.691 Q2144.08 225.367 2142.21 224.673 L2142.21 220.529 Q2144.08 221.548 2145.91 222.034 Q2147.74 222.52 2149.64 222.52 Q2153.83 222.52 2155.91 220.321 Q2157.99 218.145 2157.99 213.724 L2157.99 211.617 Q2156.67 213.909 2154.61 215.043 Q2152.55 216.178 2149.68 216.178 Q2144.91 216.178 2142 212.543 Q2139.08 208.909 2139.08 202.914 Q2139.08 196.895 2142 193.261 Q2144.91 189.627 2149.68 189.627 Q2152.55 189.627 2154.61 190.761 Q2156.67 191.895 2157.99 194.187 L2157.99 190.252 L2162.25 190.252 L2162.25 212.96 Z\" fill=\"#000000\" fill-rule=\"evenodd\" fill-opacity=\"1\" /><path clip-path=\"url(#clip230)\" d=\"M2181.26 180.206 Q2178.15 185.53 2176.65 190.738 Q2175.15 195.946 2175.15 201.293 Q2175.15 206.641 2176.65 211.895 Q2178.18 217.127 2181.26 222.428 L2177.55 222.428 Q2174.08 216.988 2172.34 211.733 Q2170.63 206.479 2170.63 201.293 Q2170.63 196.131 2172.34 190.9 Q2174.06 185.668 2177.55 180.206 L2181.26 180.206 Z\" fill=\"#000000\" fill-rule=\"evenodd\" fill-opacity=\"1\" /><path clip-path=\"url(#clip230)\" d=\"M2198.5 216.756 Q2193.15 215.9 2190.68 213.654 Q2187.65 210.9 2187.65 205.275 L2187.65 190.252 L2191.95 190.252 L2191.95 205.113 Q2191.95 209.349 2193.92 211.108 Q2195.63 212.636 2198.5 212.96 L2198.5 190.252 L2202.74 190.252 L2202.74 212.937 Q2205.77 212.613 2207.32 211.085 Q2209.29 209.141 2209.29 205.09 L2209.29 190.252 L2213.59 190.252 L2213.59 205.252 Q2213.59 211.085 2210.56 213.631 Q2207.83 215.923 2202.74 216.733 L2202.74 226.039 L2198.5 226.039 L2198.5 216.756 Z\" fill=\"#000000\" fill-rule=\"evenodd\" fill-opacity=\"1\" /><path clip-path=\"url(#clip230)\" d=\"M2220.12 180.206 L2223.83 180.206 Q2227.3 185.668 2229.01 190.9 Q2230.75 196.131 2230.75 201.293 Q2230.75 206.479 2229.01 211.733 Q2227.3 216.988 2223.83 222.428 L2220.12 222.428 Q2223.2 217.127 2224.71 211.895 Q2226.23 206.641 2226.23 201.293 Q2226.23 195.946 2224.71 190.738 Q2223.2 185.53 2220.12 180.206 Z\" fill=\"#000000\" fill-rule=\"evenodd\" fill-opacity=\"1\" /><polyline clip-path=\"url(#clip230)\" style=\"stroke:#3da44d; stroke-linecap:butt; stroke-linejoin:round; stroke-width:4; stroke-opacity:1; fill:none\" points=\"\n",
       "  1881.72,250.738 2028.13,250.738 \n",
       "  \"/>\n",
       "<path clip-path=\"url(#clip230)\" d=\"M2054.61 246.721 Q2056.03 244.36 2059.52 242.277 Q2060.89 241.467 2065.1 241.467 Q2069.82 241.467 2072.76 245.217 Q2075.72 248.967 2075.72 255.078 Q2075.72 261.189 2072.76 264.939 Q2069.82 268.689 2065.1 268.689 Q2062.25 268.689 2060.19 267.578 Q2058.16 266.443 2056.81 264.129 L2056.81 277.879 L2052.53 277.879 L2052.53 255.309 Q2052.53 249.962 2054.61 246.721 M2071.3 255.078 Q2071.3 250.379 2069.36 247.717 Q2067.44 245.032 2064.06 245.032 Q2060.68 245.032 2058.73 247.717 Q2056.81 250.379 2056.81 255.078 Q2056.81 259.777 2058.73 262.462 Q2060.68 265.124 2064.06 265.124 Q2067.44 265.124 2069.36 262.462 Q2071.3 259.777 2071.3 255.078 Z\" fill=\"#000000\" fill-rule=\"evenodd\" fill-opacity=\"1\" /></svg>\n"
      ]
     },
     "metadata": {},
     "execution_count": 10
    }
   ],
   "cell_type": "code",
   "source": [
    "using Plots\n",
    "\n",
    "p = plot(x, real.(ψ), label=\"real(ψ)\")\n",
    "plot!(p, x, imag.(ψ), label=\"imag(ψ)\")\n",
    "plot!(p, x, ρ, label=\"ρ\")"
   ],
   "metadata": {},
   "execution_count": 10
  },
  {
   "cell_type": "markdown",
   "source": [
    "The `energy_hamiltonian` function can be used to get the energy and\n",
    "effective Hamiltonian (derivative of the energy with respect to the density matrix)\n",
    "of a particular state (ψ, occupation).\n",
    "The density ρ associated to this state is precomputed\n",
    "and passed to the routine as an optimization."
   ],
   "metadata": {}
  },
  {
   "outputs": [],
   "cell_type": "code",
   "source": [
    "E, ham = energy_hamiltonian(basis, scfres.ψ, scfres.occupation; ρ=scfres.ρ)\n",
    "@assert E.total == scfres.energies.total"
   ],
   "metadata": {},
   "execution_count": 11
  },
  {
   "cell_type": "markdown",
   "source": [
    "Now the Hamiltonian contains all the blocks corresponding to kpoints. Here, we just have one kpoint:"
   ],
   "metadata": {}
  },
  {
   "outputs": [],
   "cell_type": "code",
   "source": [
    "H = ham.blocks[1];"
   ],
   "metadata": {},
   "execution_count": 12
  },
  {
   "cell_type": "markdown",
   "source": [
    "`H` can be used as a linear operator (efficiently using FFTs), or converted to a dense matrix:"
   ],
   "metadata": {}
  },
  {
   "outputs": [],
   "cell_type": "code",
   "source": [
    "ψ11 = scfres.ψ[1][:, 1] # first kpoint, first eigenvector\n",
    "Hmat = Array(H) # This is now just a plain Julia matrix,\n",
    "#                which we can compute and store in this simple 1D example\n",
    "@assert norm(Hmat * ψ11 - H * ψ11) < 1e-10"
   ],
   "metadata": {},
   "execution_count": 13
  },
  {
   "cell_type": "markdown",
   "source": [
    "Let's check that ψ11 is indeed an eigenstate:"
   ],
   "metadata": {}
  },
  {
   "outputs": [
    {
     "output_type": "execute_result",
     "data": {
      "text/plain": "3.326664185386434e-7"
     },
     "metadata": {},
     "execution_count": 14
    }
   ],
   "cell_type": "code",
   "source": [
    "norm(H * ψ11 - dot(ψ11, H * ψ11) * ψ11)"
   ],
   "metadata": {},
   "execution_count": 14
  },
  {
   "cell_type": "markdown",
   "source": [
    "Build a finite-differences version of the GPE operator ``H``, as a sanity check:"
   ],
   "metadata": {}
  },
  {
   "outputs": [
    {
     "output_type": "execute_result",
     "data": {
      "text/plain": "0.00022348749912162638"
     },
     "metadata": {},
     "execution_count": 15
    }
   ],
   "cell_type": "code",
   "source": [
    "A = Array(Tridiagonal(-ones(N - 1), 2ones(N), -ones(N - 1)))\n",
    "A[1, end] = A[end, 1] = -1\n",
    "K = A / dx^2 / 2\n",
    "V = Diagonal(pot.(x) + C .* α .* (ρ.^(α-1)))\n",
    "H_findiff = K + V;\n",
    "maximum(abs.(H_findiff*ψ - (dot(ψ, H_findiff*ψ) / dot(ψ, ψ)) * ψ))"
   ],
   "metadata": {},
   "execution_count": 15
  }
 ],
 "nbformat_minor": 3,
 "metadata": {
  "language_info": {
   "file_extension": ".jl",
   "mimetype": "application/julia",
   "name": "julia",
   "version": "1.6.2"
  },
  "kernelspec": {
   "name": "julia-1.6",
   "display_name": "Julia 1.6.2",
   "language": "julia"
  }
 },
 "nbformat": 4
}
