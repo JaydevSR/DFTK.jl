{
 "cells": [
  {
   "cell_type": "markdown",
   "source": [
    "# Creating supercells with pymatgen\n",
    "\n",
    "The [Pymatgen](https://pymatgen.org/) python library allows to setup\n",
    "solid-state calculations using a flexible set of classes as well as an API\n",
    "to an online data base of structures. Its `Structure` and `Lattice`\n",
    "objects are directly supported by the DFTK `load_atoms` and `load_lattice`\n",
    "functions, such that DFTK may be readily used to run calculation on systems\n",
    "defined in pymatgen. Using the `pymatgen_structure` function a conversion\n",
    "from DFTK to pymatgen structures is also possible. In the following we\n",
    "use this to create a silicon supercell and find its LDA ground state\n",
    "using direct minimisation."
   ],
   "metadata": {}
  },
  {
   "cell_type": "markdown",
   "source": [
    "First we setup the silicon lattice in DFTK."
   ],
   "metadata": {}
  },
  {
   "outputs": [],
   "cell_type": "code",
   "source": [
    "using DFTK\n",
    "\n",
    "a = 10.263141334305942  # Lattice constant in Bohr\n",
    "lattice = a / 2 .* [[0 1 1.]; [1 0 1.]; [1 1 0.]]\n",
    "Si = ElementPsp(:Si, psp=load_psp(\"hgh/lda/Si-q4\"))\n",
    "atoms = [Si => [ones(3)/8, -ones(3)/8]];"
   ],
   "metadata": {},
   "execution_count": 1
  },
  {
   "cell_type": "markdown",
   "source": [
    "Next we make a `[2, 2, 2]` supercell using pymatgen"
   ],
   "metadata": {}
  },
  {
   "outputs": [],
   "cell_type": "code",
   "source": [
    "pystruct = pymatgen_structure(lattice, atoms)\n",
    "pystruct.make_supercell([2, 2, 2])\n",
    "lattice = load_lattice(pystruct)\n",
    "atoms = [Si => [s.frac_coords for s in pystruct.sites]];"
   ],
   "metadata": {},
   "execution_count": 2
  },
  {
   "cell_type": "markdown",
   "source": [
    "Setup an LDA model and discretize using\n",
    "a single kpoint and a small `Ecut` of 5 Hartree."
   ],
   "metadata": {}
  },
  {
   "outputs": [
    {
     "output_type": "execute_result",
     "data": {
      "text/plain": "PlaneWaveBasis (Ecut=5.0, 1 kpoints)"
     },
     "metadata": {},
     "execution_count": 3
    }
   ],
   "cell_type": "code",
   "source": [
    "model = model_LDA(lattice, atoms)\n",
    "basis = PlaneWaveBasis(model, 5, kgrid=(1, 1, 1))"
   ],
   "metadata": {},
   "execution_count": 3
  },
  {
   "cell_type": "markdown",
   "source": [
    "Find the ground state using direct minimisation (always using SCF is boring ...)"
   ],
   "metadata": {}
  },
  {
   "outputs": [
    {
     "name": "stdout",
     "output_type": "stream",
     "text": [
      "Iter     Function value   Gradient norm \n",
      "     0     1.121736e+02     1.543532e+00\n",
      " * time: 0.6848011016845703\n",
      "     1     1.085481e+01     8.940654e-01\n",
      " * time: 2.0310211181640625\n",
      "     2    -1.228226e+01     9.634674e-01\n",
      " * time: 2.718388080596924\n",
      "     3    -3.434843e+01     8.233876e-01\n",
      " * time: 3.668174982070923\n",
      "     4    -4.800090e+01     6.609128e-01\n",
      " * time: 4.6324169635772705\n",
      "     5    -5.680566e+01     2.845932e-01\n",
      " * time: 5.593683958053589\n",
      "     6    -5.945220e+01     2.747412e-01\n",
      " * time: 6.2140419483184814\n",
      "     7    -6.062499e+01     1.031030e-01\n",
      " * time: 6.88067102432251\n",
      "     8    -6.119585e+01     4.246864e-02\n",
      " * time: 7.520668983459473\n",
      "     9    -6.147872e+01     3.586425e-02\n",
      " * time: 8.176743030548096\n",
      "    10    -6.171315e+01     2.937246e-02\n",
      " * time: 8.81228494644165\n",
      "    11    -6.188294e+01     2.458883e-02\n",
      " * time: 9.448822021484375\n",
      "    12    -6.200539e+01     2.401420e-02\n",
      " * time: 10.112662076950073\n",
      "    13    -6.206713e+01     1.945006e-02\n",
      " * time: 10.76079797744751\n",
      "    14    -6.212006e+01     1.233435e-02\n",
      " * time: 11.42314100265503\n",
      "    15    -6.214706e+01     1.386318e-02\n",
      " * time: 12.083470106124878\n",
      "    16    -6.216790e+01     1.299556e-02\n",
      " * time: 12.715481996536255\n",
      "    17    -6.218216e+01     1.111749e-02\n",
      " * time: 13.33731198310852\n",
      "    18    -6.219355e+01     7.730938e-03\n",
      " * time: 13.993356943130493\n",
      "    19    -6.220106e+01     6.446501e-03\n",
      " * time: 14.626105070114136\n",
      "    20    -6.220724e+01     5.986005e-03\n",
      " * time: 15.266288995742798\n",
      "    21    -6.221295e+01     5.995300e-03\n",
      " * time: 15.976226091384888\n",
      "    22    -6.221869e+01     7.461268e-03\n",
      " * time: 16.59588098526001\n",
      "    23    -6.222413e+01     5.387484e-03\n",
      " * time: 17.21696710586548\n",
      "    24    -6.222934e+01     6.147206e-03\n",
      " * time: 17.849141120910645\n",
      "    25    -6.223458e+01     5.137485e-03\n",
      " * time: 18.507045030593872\n",
      "    26    -6.224012e+01     5.840076e-03\n",
      " * time: 19.14129400253296\n",
      "    27    -6.224531e+01     5.770205e-03\n",
      " * time: 19.767625093460083\n",
      "    28    -6.225026e+01     5.031678e-03\n",
      " * time: 20.40631914138794\n",
      "    29    -6.225440e+01     3.793222e-03\n",
      " * time: 21.080587148666382\n",
      "    30    -6.225735e+01     3.095922e-03\n",
      " * time: 21.727144956588745\n",
      "    31    -6.225921e+01     2.731297e-03\n",
      " * time: 22.379591941833496\n",
      "    32    -6.226032e+01     1.728797e-03\n",
      " * time: 23.009972095489502\n",
      "    33    -6.226097e+01     1.181067e-03\n",
      " * time: 23.648182153701782\n",
      "    34    -6.226129e+01     8.241737e-04\n",
      " * time: 24.296297073364258\n",
      "    35    -6.226147e+01     6.578705e-04\n",
      " * time: 24.946780920028687\n",
      "    36    -6.226155e+01     5.156948e-04\n",
      " * time: 25.58837914466858\n",
      "    37    -6.226159e+01     4.375162e-04\n",
      " * time: 26.22631597518921\n",
      "    38    -6.226162e+01     2.879797e-04\n",
      " * time: 26.893393993377686\n",
      "    39    -6.226163e+01     2.372885e-04\n",
      " * time: 27.50838804244995\n",
      "    40    -6.226164e+01     2.254807e-04\n",
      " * time: 28.134989976882935\n",
      "    41    -6.226165e+01     1.852172e-04\n",
      " * time: 28.785408973693848\n",
      "    42    -6.226166e+01     1.371360e-04\n",
      " * time: 29.449342012405396\n",
      "    43    -6.226166e+01     1.055437e-04\n",
      " * time: 30.081033945083618\n",
      "    44    -6.226166e+01     7.774477e-05\n",
      " * time: 30.751049041748047\n",
      "    45    -6.226167e+01     5.615661e-05\n",
      " * time: 31.388726949691772\n",
      "    46    -6.226167e+01     3.651206e-05\n",
      " * time: 32.03332495689392\n",
      "    47    -6.226167e+01     2.451593e-05\n",
      " * time: 32.68710207939148\n",
      "    48    -6.226167e+01     1.905260e-05\n",
      " * time: 33.34993505477905\n",
      "    49    -6.226167e+01     1.193822e-05\n",
      " * time: 34.00900602340698\n",
      "    50    -6.226167e+01     1.030623e-05\n",
      " * time: 34.65874195098877\n",
      "    51    -6.226167e+01     8.943683e-06\n",
      " * time: 35.31452298164368\n",
      "    52    -6.226167e+01     6.612344e-06\n",
      " * time: 35.996204137802124\n",
      "    53    -6.226167e+01     6.356308e-06\n",
      " * time: 36.64549994468689\n",
      "    54    -6.226167e+01     4.779317e-06\n",
      " * time: 37.27297496795654\n",
      "    55    -6.226167e+01     3.616759e-06\n",
      " * time: 37.9034321308136\n",
      "    56    -6.226167e+01     2.942389e-06\n",
      " * time: 38.53810906410217\n",
      "    57    -6.226167e+01     1.924942e-06\n",
      " * time: 39.21419310569763\n"
     ]
    }
   ],
   "cell_type": "code",
   "source": [
    "scfres = direct_minimization(basis, tol=1e-5);"
   ],
   "metadata": {},
   "execution_count": 4
  },
  {
   "outputs": [
    {
     "output_type": "execute_result",
     "data": {
      "text/plain": "Energy breakdown:\n    Kinetic             25.7671068\n    AtomicLocal         -18.8557706\n    AtomicNonlocal      14.8522671\n    Ewald               -67.1831486\n    PspCorrection       -2.3569765\n    Hartree             4.8485376 \n    Xc                  -19.3336821\n\n    total               -62.261666461944\n"
     },
     "metadata": {},
     "execution_count": 5
    }
   ],
   "cell_type": "code",
   "source": [
    "scfres.energies"
   ],
   "metadata": {},
   "execution_count": 5
  }
 ],
 "nbformat_minor": 3,
 "metadata": {
  "language_info": {
   "file_extension": ".jl",
   "mimetype": "application/julia",
   "name": "julia",
   "version": "1.6.2"
  },
  "kernelspec": {
   "name": "julia-1.6",
   "display_name": "Julia 1.6.2",
   "language": "julia"
  }
 },
 "nbformat": 4
}
