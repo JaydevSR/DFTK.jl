{
 "cells": [
  {
   "cell_type": "markdown",
   "source": [
    "# Creating supercells with pymatgen\n",
    "\n",
    "The [Pymatgen](https://pymatgen.org/) python library allows to setup\n",
    "solid-state calculations using a flexible set of classes as well as an API\n",
    "to an online data base of structures. Its `Structure` and `Lattice`\n",
    "objects are directly supported by the DFTK `load_atoms` and `load_lattice`\n",
    "functions, such that DFTK may be readily used to run calculation on systems\n",
    "defined in pymatgen. Using the `pymatgen_structure` function a conversion\n",
    "from DFTK to pymatgen structures is also possible. In the following we\n",
    "use this to create a silicon supercell and find its LDA ground state\n",
    "using direct minimisation."
   ],
   "metadata": {}
  },
  {
   "cell_type": "markdown",
   "source": [
    "First we setup the silicon lattice in DFTK."
   ],
   "metadata": {}
  },
  {
   "outputs": [],
   "cell_type": "code",
   "source": [
    "using DFTK\n",
    "\n",
    "a = 10.263141334305942  # Lattice constant in Bohr\n",
    "lattice = a / 2 .* [[0 1 1.]; [1 0 1.]; [1 1 0.]]\n",
    "Si = ElementPsp(:Si, psp=load_psp(\"hgh/lda/Si-q4\"))\n",
    "atoms = [Si => [ones(3)/8, -ones(3)/8]];"
   ],
   "metadata": {},
   "execution_count": 1
  },
  {
   "cell_type": "markdown",
   "source": [
    "Next we make a `[2, 2, 2]` supercell using pymatgen"
   ],
   "metadata": {}
  },
  {
   "outputs": [],
   "cell_type": "code",
   "source": [
    "pystruct = pymatgen_structure(lattice, atoms)\n",
    "pystruct.make_supercell([2, 2, 2])\n",
    "lattice = load_lattice(pystruct)\n",
    "atoms = [Si => [s.frac_coords for s in pystruct.sites]];"
   ],
   "metadata": {},
   "execution_count": 2
  },
  {
   "cell_type": "markdown",
   "source": [
    "Setup an LDA model and discretize using\n",
    "a single kpoint and a small `Ecut` of 5 Hartree."
   ],
   "metadata": {}
  },
  {
   "outputs": [
    {
     "output_type": "execute_result",
     "data": {
      "text/plain": "PlaneWaveBasis (Ecut=5.0, 1 kpoints)"
     },
     "metadata": {},
     "execution_count": 3
    }
   ],
   "cell_type": "code",
   "source": [
    "model = model_LDA(lattice, atoms)\n",
    "basis = PlaneWaveBasis(model, 5, kgrid=(1, 1, 1))"
   ],
   "metadata": {},
   "execution_count": 3
  },
  {
   "cell_type": "markdown",
   "source": [
    "Find the ground state using direct minimisation (always using SCF is boring ...)"
   ],
   "metadata": {}
  },
  {
   "outputs": [
    {
     "name": "stdout",
     "output_type": "stream",
     "text": [
      "Iter     Function value   Gradient norm \n",
      "     0     1.123236e+02     1.555433e+00\n",
      " * time: 0.3784139156341553\n",
      "     1     1.082452e+01     8.737443e-01\n",
      " * time: 2.4346070289611816\n",
      "     2    -1.166514e+01     9.603391e-01\n",
      " * time: 3.108814001083374\n",
      "     3    -3.454761e+01     7.816577e-01\n",
      " * time: 4.1425909996032715\n",
      "     4    -4.822310e+01     5.659699e-01\n",
      " * time: 5.173605918884277\n",
      "     5    -5.716133e+01     2.014148e-01\n",
      " * time: 6.16612696647644\n",
      "     6    -5.980823e+01     1.246975e-01\n",
      " * time: 6.8331029415130615\n",
      "     7    -6.086007e+01     5.984695e-02\n",
      " * time: 7.502481937408447\n",
      "     8    -6.128802e+01     5.404932e-02\n",
      " * time: 8.189166069030762\n",
      "     9    -6.156802e+01     4.789208e-02\n",
      " * time: 8.875817060470581\n",
      "    10    -6.178719e+01     2.952494e-02\n",
      " * time: 9.549713850021362\n",
      "    11    -6.197393e+01     2.834982e-02\n",
      " * time: 10.21753191947937\n",
      "    12    -6.204600e+01     2.417196e-02\n",
      " * time: 10.90040898323059\n",
      "    13    -6.211137e+01     1.786655e-02\n",
      " * time: 11.57434606552124\n",
      "    14    -6.214183e+01     1.654999e-02\n",
      " * time: 12.280626058578491\n",
      "    15    -6.216831e+01     1.447010e-02\n",
      " * time: 12.955841064453125\n",
      "    16    -6.218183e+01     1.003481e-02\n",
      " * time: 13.613955974578857\n",
      "    17    -6.219361e+01     9.722806e-03\n",
      " * time: 14.303891897201538\n",
      "    18    -6.220426e+01     8.033365e-03\n",
      " * time: 14.980732917785645\n",
      "    19    -6.221445e+01     7.413159e-03\n",
      " * time: 15.671905040740967\n",
      "    20    -6.222425e+01     7.301130e-03\n",
      " * time: 16.33678388595581\n",
      "    21    -6.223410e+01     6.331909e-03\n",
      " * time: 17.006366968154907\n",
      "    22    -6.224338e+01     5.667213e-03\n",
      " * time: 17.67286491394043\n",
      "    23    -6.225071e+01     5.405411e-03\n",
      " * time: 18.344527006149292\n",
      "    24    -6.225529e+01     4.527273e-03\n",
      " * time: 19.015044927597046\n",
      "    25    -6.225770e+01     3.318721e-03\n",
      " * time: 19.68674898147583\n",
      "    26    -6.225904e+01     2.778196e-03\n",
      " * time: 20.351862907409668\n",
      "    27    -6.225986e+01     1.661793e-03\n",
      " * time: 21.041182041168213\n",
      "    28    -6.226043e+01     1.641676e-03\n",
      " * time: 21.738733053207397\n",
      "    29    -6.226079e+01     1.592074e-03\n",
      " * time: 22.43855094909668\n",
      "    30    -6.226110e+01     1.284526e-03\n",
      " * time: 23.118157863616943\n",
      "    31    -6.226132e+01     1.071568e-03\n",
      " * time: 23.802469968795776\n",
      "    32    -6.226146e+01     8.792940e-04\n",
      " * time: 24.469084978103638\n",
      "    33    -6.226156e+01     5.582761e-04\n",
      " * time: 25.14504098892212\n",
      "    34    -6.226161e+01     3.621876e-04\n",
      " * time: 25.825403928756714\n",
      "    35    -6.226164e+01     2.250694e-04\n",
      " * time: 26.492692947387695\n",
      "    36    -6.226166e+01     1.894832e-04\n",
      " * time: 27.179527044296265\n",
      "    37    -6.226166e+01     1.067401e-04\n",
      " * time: 27.859715938568115\n",
      "    38    -6.226166e+01     7.097737e-05\n",
      " * time: 28.568487882614136\n",
      "    39    -6.226167e+01     5.460534e-05\n",
      " * time: 29.245879888534546\n",
      "    40    -6.226167e+01     4.624383e-05\n",
      " * time: 29.931814908981323\n",
      "    41    -6.226167e+01     3.608135e-05\n",
      " * time: 30.617913961410522\n",
      "    42    -6.226167e+01     3.034978e-05\n",
      " * time: 31.318415880203247\n",
      "    43    -6.226167e+01     2.414406e-05\n",
      " * time: 31.99687385559082\n",
      "    44    -6.226167e+01     2.376479e-05\n",
      " * time: 32.66998791694641\n",
      "    45    -6.226167e+01     1.497632e-05\n",
      " * time: 33.36483097076416\n",
      "    46    -6.226167e+01     1.398730e-05\n",
      " * time: 34.0543909072876\n",
      "    47    -6.226167e+01     1.034866e-05\n",
      " * time: 34.71814489364624\n",
      "    48    -6.226167e+01     6.231342e-06\n",
      " * time: 35.39549398422241\n",
      "    49    -6.226167e+01     4.494777e-06\n",
      " * time: 36.08293795585632\n",
      "    50    -6.226167e+01     3.147685e-06\n",
      " * time: 36.75169801712036\n"
     ]
    }
   ],
   "cell_type": "code",
   "source": [
    "scfres = direct_minimization(basis, tol=1e-5);"
   ],
   "metadata": {},
   "execution_count": 4
  },
  {
   "outputs": [
    {
     "output_type": "execute_result",
     "data": {
      "text/plain": "Energy breakdown:\n    Kinetic             25.7671054\n    AtomicLocal         -18.8557669\n    AtomicNonlocal      14.8522657\n    Ewald               -67.1831486\n    PspCorrection       -2.3569765\n    Hartree             4.8485359 \n    Xc                  -19.3336815\n\n    total               -62.261666459318\n"
     },
     "metadata": {},
     "execution_count": 5
    }
   ],
   "cell_type": "code",
   "source": [
    "scfres.energies"
   ],
   "metadata": {},
   "execution_count": 5
  }
 ],
 "nbformat_minor": 3,
 "metadata": {
  "language_info": {
   "file_extension": ".jl",
   "mimetype": "application/julia",
   "name": "julia",
   "version": "1.5.3"
  },
  "kernelspec": {
   "name": "julia-1.5",
   "display_name": "Julia 1.5.3",
   "language": "julia"
  }
 },
 "nbformat": 4
}
