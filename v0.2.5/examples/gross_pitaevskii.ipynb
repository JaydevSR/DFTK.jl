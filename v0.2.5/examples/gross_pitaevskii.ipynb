{
 "cells": [
  {
   "cell_type": "markdown",
   "source": [
    "# Gross-Pitaevskii equation in one dimension\n",
    "In this example we will use DFTK to solve\n",
    "the Gross-Pitaevskii equation, and use this opportunity to explore a few internals."
   ],
   "metadata": {}
  },
  {
   "cell_type": "markdown",
   "source": [
    "## The model\n",
    "The [Gross-Pitaevskii equation](https://en.wikipedia.org/wiki/Gross%E2%80%93Pitaevskii_equation) (GPE)\n",
    "is a simple non-linear equation used to model bosonic systems\n",
    "in a mean-field approach. Denoting by ``ψ`` the effective one-particle bosonic\n",
    "wave function, the time-independent GPE reads in atomic units:\n",
    "$$\n",
    "    H ψ = \\left(-\\frac12 Δ + V + 2 C |ψ|^2\\right) ψ = μ ψ \\qquad \\|ψ\\|_{L^2} = 1\n",
    "$$\n",
    "where ``C`` provides the strength of the boson-boson coupling.\n",
    "It's in particular a favorite model of applied mathematicians because it\n",
    "has a structure simpler than but similar to that of DFT, and displays\n",
    "interesting behavior (especially in higher dimensions with magnetic fields, see\n",
    "Gross-Pitaevskii equation with magnetism)."
   ],
   "metadata": {}
  },
  {
   "cell_type": "markdown",
   "source": [
    "We wish to model this equation in 1D using DFTK.\n",
    "First we set up the lattice. For a 1D case we supply two zero lattice vectors,"
   ],
   "metadata": {}
  },
  {
   "outputs": [],
   "cell_type": "code",
   "source": [
    "a = 10\n",
    "lattice = a .* [[1 0 0.]; [0 0 0]; [0 0 0]];"
   ],
   "metadata": {},
   "execution_count": 1
  },
  {
   "cell_type": "markdown",
   "source": [
    "which is special cased in DFTK to support 1D models.\n",
    "\n",
    "For the potential term `V` we just pick a harmonic\n",
    "potential. The real-space grid is in ``[0,1)``\n",
    "in fractional coordinates( see\n",
    "Lattices and lattice vectors),\n",
    "therefore:"
   ],
   "metadata": {}
  },
  {
   "outputs": [],
   "cell_type": "code",
   "source": [
    "pot(x) = (x - a/2)^2;"
   ],
   "metadata": {},
   "execution_count": 2
  },
  {
   "cell_type": "markdown",
   "source": [
    "We setup each energy term in sequence: kinetic, potential and nonlinear term.\n",
    "For the non-linearity we use the `PowerNonlinearity(C, α)` term of DFTK.\n",
    "This object introduces an energy term ``C ∫ ρ(r)^α dr``\n",
    "to the total energy functional, thus a potential term ``α C ρ^{α-1}``.\n",
    "In our case we thus need the parameters"
   ],
   "metadata": {}
  },
  {
   "outputs": [],
   "cell_type": "code",
   "source": [
    "C = 1.0\n",
    "α = 2;"
   ],
   "metadata": {},
   "execution_count": 3
  },
  {
   "cell_type": "markdown",
   "source": [
    "... and with this build the model"
   ],
   "metadata": {}
  },
  {
   "outputs": [],
   "cell_type": "code",
   "source": [
    "using DFTK\n",
    "using LinearAlgebra\n",
    "\n",
    "n_electrons = 1  # Increase this for fun\n",
    "terms = [Kinetic(),\n",
    "         ExternalFromReal(r -> pot(r[1])),\n",
    "         PowerNonlinearity(C, α),\n",
    "]\n",
    "model = Model(lattice; n_electrons=n_electrons, terms=terms,\n",
    "              spin_polarization=:spinless);  # use \"spinless electrons\""
   ],
   "metadata": {},
   "execution_count": 4
  },
  {
   "cell_type": "markdown",
   "source": [
    "We discretize using a moderate Ecut (For 1D values up to `5000` are completely fine)\n",
    "and run a direct minimization algorithm:"
   ],
   "metadata": {}
  },
  {
   "outputs": [
    {
     "name": "stdout",
     "output_type": "stream",
     "text": [
      "Iter     Function value   Gradient norm \n",
      "     0     1.512873e+02     1.375222e+02\n",
      " * time: 0.0005550384521484375\n",
      "     1     1.435477e+02     1.325821e+02\n",
      " * time: 0.002213001251220703\n",
      "     2     1.041580e+02     1.483330e+02\n",
      " * time: 0.004019021987915039\n",
      "     3     3.009455e+01     7.316066e+01\n",
      " * time: 0.0060939788818359375\n",
      "     4     9.832331e+00     1.068648e+01\n",
      " * time: 0.008001089096069336\n",
      "     5     6.485721e+00     9.172395e+00\n",
      " * time: 0.009205102920532227\n",
      "     6     5.485390e+00     2.470008e+01\n",
      " * time: 0.010338068008422852\n",
      "     7     3.515126e+00     5.155697e+00\n",
      " * time: 0.011465072631835938\n",
      "     8     2.019436e+00     2.716812e+00\n",
      " * time: 0.012649059295654297\n",
      "     9     1.587086e+00     3.413942e+00\n",
      " * time: 0.013792991638183594\n",
      "    10     1.527533e+00     3.713483e+00\n",
      " * time: 0.014712095260620117\n",
      "    11     1.434190e+00     1.368665e+00\n",
      " * time: 0.015640974044799805\n",
      "    12     1.297052e+00     3.363398e+00\n",
      " * time: 0.016596078872680664\n",
      "    13     1.289323e+00     1.420985e+00\n",
      " * time: 0.01731705665588379\n",
      "    14     1.226052e+00     2.516724e+00\n",
      " * time: 0.018079042434692383\n",
      "    15     1.203786e+00     1.144940e+00\n",
      " * time: 0.018832921981811523\n",
      "    16     1.168152e+00     9.702134e-01\n",
      " * time: 0.019828081130981445\n",
      "    17     1.152504e+00     6.790808e-01\n",
      " * time: 0.020860910415649414\n",
      "    18     1.147824e+00     1.730229e-01\n",
      " * time: 0.021867990493774414\n",
      "    19     1.145413e+00     1.103970e-01\n",
      " * time: 0.02283787727355957\n",
      "    20     1.144585e+00     7.813989e-02\n",
      " * time: 0.024638891220092773\n",
      "    21     1.144282e+00     5.032958e-02\n",
      " * time: 0.0256350040435791\n",
      "    22     1.144228e+00     3.584493e-02\n",
      " * time: 0.026599884033203125\n",
      "    23     1.144139e+00     3.200982e-02\n",
      " * time: 0.027524948120117188\n",
      "    24     1.144083e+00     1.953526e-02\n",
      " * time: 0.02848196029663086\n",
      "    25     1.144063e+00     1.667393e-02\n",
      " * time: 0.029253005981445312\n",
      "    26     1.144061e+00     1.907542e-02\n",
      " * time: 0.030039072036743164\n",
      "    27     1.144047e+00     1.115443e-02\n",
      " * time: 0.03078293800354004\n",
      "    28     1.144041e+00     6.494545e-03\n",
      " * time: 0.031697988510131836\n",
      "    29     1.144039e+00     8.805683e-03\n",
      " * time: 0.032633066177368164\n",
      "    30     1.144038e+00     3.159632e-03\n",
      " * time: 0.03362703323364258\n",
      "    31     1.144037e+00     1.601036e-03\n",
      " * time: 0.034584999084472656\n",
      "    32     1.144037e+00     1.045798e-03\n",
      " * time: 0.035572052001953125\n",
      "    33     1.144037e+00     6.224392e-04\n",
      " * time: 0.036602020263671875\n",
      "    34     1.144037e+00     6.443154e-04\n",
      " * time: 0.037600040435791016\n",
      "    35     1.144037e+00     3.128451e-04\n",
      " * time: 0.038580894470214844\n",
      "    36     1.144037e+00     2.523591e-04\n",
      " * time: 0.03959488868713379\n",
      "    37     1.144037e+00     2.434505e-04\n",
      " * time: 0.04046297073364258\n",
      "    38     1.144037e+00     1.032864e-04\n",
      " * time: 0.04125690460205078\n",
      "    39     1.144037e+00     1.069945e-04\n",
      " * time: 0.04197096824645996\n",
      "    40     1.144037e+00     6.393069e-05\n",
      " * time: 0.042675018310546875\n",
      "    41     1.144037e+00     5.772990e-05\n",
      " * time: 0.04359793663024902\n",
      "    42     1.144037e+00     4.321297e-05\n",
      " * time: 0.044693946838378906\n",
      "    43     1.144037e+00     2.389234e-05\n",
      " * time: 0.04565596580505371\n",
      "    44     1.144037e+00     1.932888e-05\n",
      " * time: 0.046586036682128906\n",
      "    45     1.144037e+00     7.550192e-06\n",
      " * time: 0.047515869140625\n",
      "    46     1.144037e+00     5.040746e-06\n",
      " * time: 0.04846000671386719\n",
      "    47     1.144037e+00     4.330509e-06\n",
      " * time: 0.04948306083679199\n",
      "    48     1.144037e+00     2.806654e-06\n",
      " * time: 0.050488948822021484\n",
      "    49     1.144037e+00     1.544158e-06\n",
      " * time: 0.05128002166748047\n",
      "    50     1.144037e+00     9.185410e-07\n",
      " * time: 0.05201888084411621\n",
      "    51     1.144037e+00     6.317455e-07\n",
      " * time: 0.05276298522949219\n",
      "    52     1.144037e+00     2.995184e-07\n",
      " * time: 0.05356192588806152\n",
      "    53     1.144037e+00     2.205630e-07\n",
      " * time: 0.05452990531921387\n"
     ]
    },
    {
     "output_type": "execute_result",
     "data": {
      "text/plain": "Energy breakdown:\n    Kinetic             0.2682057 \n    ExternalFromReal    0.4707475 \n    PowerNonlinearity   0.4050836 \n\n    total               1.144036852755 \n"
     },
     "metadata": {},
     "execution_count": 5
    }
   ],
   "cell_type": "code",
   "source": [
    "Ecut = 500\n",
    "basis = PlaneWaveBasis(model, Ecut, kgrid=(1, 1, 1))\n",
    "scfres = direct_minimization(basis, tol=1e-8) # This is a constrained preconditioned LBFGS\n",
    "scfres.energies"
   ],
   "metadata": {},
   "execution_count": 5
  },
  {
   "cell_type": "markdown",
   "source": [
    "## Internals\n",
    "We use the opportunity to explore some of DFTK internals.\n",
    "\n",
    "Extract the converged density and the obtained wave function:"
   ],
   "metadata": {}
  },
  {
   "outputs": [],
   "cell_type": "code",
   "source": [
    "ρ = real(scfres.ρ.real)[:, 1, 1]  # converged density\n",
    "ψ_fourier = scfres.ψ[1][:, 1];    # first kpoint, all G components, first eigenvector"
   ],
   "metadata": {},
   "execution_count": 6
  },
  {
   "cell_type": "markdown",
   "source": [
    "Transform the wave function to real space and fix the phase:"
   ],
   "metadata": {}
  },
  {
   "outputs": [],
   "cell_type": "code",
   "source": [
    "ψ = G_to_r(basis, basis.kpoints[1], ψ_fourier)[:, 1, 1]\n",
    "ψ /= (ψ[div(end, 2)] / abs(ψ[div(end, 2)]));"
   ],
   "metadata": {},
   "execution_count": 7
  },
  {
   "cell_type": "markdown",
   "source": [
    "Check whether ``ψ`` is normalised:"
   ],
   "metadata": {}
  },
  {
   "outputs": [],
   "cell_type": "code",
   "source": [
    "x = a * vec(first.(DFTK.r_vectors(basis)))\n",
    "N = length(x)\n",
    "dx = a / N  # real-space grid spacing\n",
    "@assert sum(abs2.(ψ)) * dx ≈ 1.0"
   ],
   "metadata": {},
   "execution_count": 8
  },
  {
   "cell_type": "markdown",
   "source": [
    "The density is simply built from ψ:"
   ],
   "metadata": {}
  },
  {
   "outputs": [
    {
     "output_type": "execute_result",
     "data": {
      "text/plain": "8.994397710078003e-16"
     },
     "metadata": {},
     "execution_count": 9
    }
   ],
   "cell_type": "code",
   "source": [
    "norm(scfres.ρ.real - abs2.(ψ))"
   ],
   "metadata": {},
   "execution_count": 9
  },
  {
   "cell_type": "markdown",
   "source": [
    "We summarize the ground state in a nice plot:"
   ],
   "metadata": {}
  },
  {
   "outputs": [
    {
     "output_type": "execute_result",
     "data": {
      "text/plain": "Plot{Plots.GRBackend() n=3}",
      "image/png": "[encoded data removed]",
      "text/html": [
       "<?xml version=\"1.0\" encoding=\"utf-8\"?>\n",
       "<svg xmlns=\"http://www.w3.org/2000/svg\" xmlns:xlink=\"http://www.w3.org/1999/xlink\" width=\"600\" height=\"400\" viewBox=\"0 0 2400 1600\">\n",
       "<defs>\n",
       "  <clipPath id=\"clip570\">\n",
       "    <rect x=\"0\" y=\"0\" width=\"2400\" height=\"1600\"/>\n",
       "  </clipPath>\n",
       "</defs>\n",
       "<path clip-path=\"url(#clip570)\" d=\"\n",
       "M0 1600 L2400 1600 L2400 0 L0 0  Z\n",
       "  \" fill=\"#ffffff\" fill-rule=\"evenodd\" fill-opacity=\"1\"/>\n",
       "<defs>\n",
       "  <clipPath id=\"clip571\">\n",
       "    <rect x=\"480\" y=\"0\" width=\"1681\" height=\"1600\"/>\n",
       "  </clipPath>\n",
       "</defs>\n",
       "<path clip-path=\"url(#clip570)\" d=\"\n",
       "M86.9921 1521.01 L2352.76 1521.01 L2352.76 47.2441 L86.9921 47.2441  Z\n",
       "  \" fill=\"#ffffff\" fill-rule=\"evenodd\" fill-opacity=\"1\"/>\n",
       "<defs>\n",
       "  <clipPath id=\"clip572\">\n",
       "    <rect x=\"86\" y=\"47\" width=\"2267\" height=\"1475\"/>\n",
       "  </clipPath>\n",
       "</defs>\n",
       "<polyline clip-path=\"url(#clip572)\" style=\"stroke:#000000; stroke-width:2; stroke-opacity:0.1; fill:none\" points=\"\n",
       "  151.118,1521.01 151.118,47.2441 \n",
       "  \"/>\n",
       "<polyline clip-path=\"url(#clip572)\" style=\"stroke:#000000; stroke-width:2; stroke-opacity:0.1; fill:none\" points=\"\n",
       "  687.981,1521.01 687.981,47.2441 \n",
       "  \"/>\n",
       "<polyline clip-path=\"url(#clip572)\" style=\"stroke:#000000; stroke-width:2; stroke-opacity:0.1; fill:none\" points=\"\n",
       "  1224.84,1521.01 1224.84,47.2441 \n",
       "  \"/>\n",
       "<polyline clip-path=\"url(#clip572)\" style=\"stroke:#000000; stroke-width:2; stroke-opacity:0.1; fill:none\" points=\"\n",
       "  1761.71,1521.01 1761.71,47.2441 \n",
       "  \"/>\n",
       "<polyline clip-path=\"url(#clip572)\" style=\"stroke:#000000; stroke-width:2; stroke-opacity:0.1; fill:none\" points=\"\n",
       "  2298.57,1521.01 2298.57,47.2441 \n",
       "  \"/>\n",
       "<polyline clip-path=\"url(#clip570)\" style=\"stroke:#000000; stroke-width:4; stroke-opacity:1; fill:none\" points=\"\n",
       "  86.9921,1521.01 2352.76,1521.01 \n",
       "  \"/>\n",
       "<polyline clip-path=\"url(#clip570)\" style=\"stroke:#000000; stroke-width:4; stroke-opacity:1; fill:none\" points=\"\n",
       "  151.118,1521.01 151.118,1503.32 \n",
       "  \"/>\n",
       "<polyline clip-path=\"url(#clip570)\" style=\"stroke:#000000; stroke-width:4; stroke-opacity:1; fill:none\" points=\"\n",
       "  687.981,1521.01 687.981,1503.32 \n",
       "  \"/>\n",
       "<polyline clip-path=\"url(#clip570)\" style=\"stroke:#000000; stroke-width:4; stroke-opacity:1; fill:none\" points=\"\n",
       "  1224.84,1521.01 1224.84,1503.32 \n",
       "  \"/>\n",
       "<polyline clip-path=\"url(#clip570)\" style=\"stroke:#000000; stroke-width:4; stroke-opacity:1; fill:none\" points=\"\n",
       "  1761.71,1521.01 1761.71,1503.32 \n",
       "  \"/>\n",
       "<polyline clip-path=\"url(#clip570)\" style=\"stroke:#000000; stroke-width:4; stroke-opacity:1; fill:none\" points=\"\n",
       "  2298.57,1521.01 2298.57,1503.32 \n",
       "  \"/>\n",
       "<path clip-path=\"url(#clip570)\" d=\"M 0 0 M132.634 1550.2 Q129.023 1550.2 127.194 1553.76 Q125.388 1557.31 125.388 1564.43 Q125.388 1571.54 127.194 1575.11 Q129.023 1578.65 132.634 1578.65 Q136.268 1578.65 138.074 1575.11 Q139.902 1571.54 139.902 1564.43 Q139.902 1557.31 138.074 1553.76 Q136.268 1550.2 132.634 1550.2 M132.634 1546.49 Q138.444 1546.49 141.5 1551.1 Q144.578 1555.68 144.578 1564.43 Q144.578 1573.16 141.5 1577.77 Q138.444 1582.35 132.634 1582.35 Q126.824 1582.35 123.745 1577.77 Q120.689 1573.16 120.689 1564.43 Q120.689 1555.68 123.745 1551.1 Q126.824 1546.49 132.634 1546.49 Z\" fill=\"#000000\" fill-rule=\"evenodd\" fill-opacity=\"1\" /><path clip-path=\"url(#clip570)\" d=\"M 0 0 M149.648 1575.8 L154.532 1575.8 L154.532 1581.68 L149.648 1581.68 L149.648 1575.8 Z\" fill=\"#000000\" fill-rule=\"evenodd\" fill-opacity=\"1\" /><path clip-path=\"url(#clip570)\" d=\"M 0 0 M169.601 1550.2 Q165.99 1550.2 164.161 1553.76 Q162.356 1557.31 162.356 1564.43 Q162.356 1571.54 164.161 1575.11 Q165.99 1578.65 169.601 1578.65 Q173.235 1578.65 175.041 1575.11 Q176.87 1571.54 176.87 1564.43 Q176.87 1557.31 175.041 1553.76 Q173.235 1550.2 169.601 1550.2 M169.601 1546.49 Q175.411 1546.49 178.467 1551.1 Q181.546 1555.68 181.546 1564.43 Q181.546 1573.16 178.467 1577.77 Q175.411 1582.35 169.601 1582.35 Q163.791 1582.35 160.712 1577.77 Q157.657 1573.16 157.657 1564.43 Q157.657 1555.68 160.712 1551.1 Q163.791 1546.49 169.601 1546.49 Z\" fill=\"#000000\" fill-rule=\"evenodd\" fill-opacity=\"1\" /><path clip-path=\"url(#clip570)\" d=\"M 0 0 M664.648 1577.74 L680.967 1577.74 L680.967 1581.68 L659.023 1581.68 L659.023 1577.74 Q661.685 1574.99 666.268 1570.36 Q670.875 1565.71 672.055 1564.37 Q674.301 1561.84 675.18 1560.11 Q676.083 1558.35 676.083 1556.66 Q676.083 1553.9 674.139 1552.17 Q672.217 1550.43 669.116 1550.43 Q666.917 1550.43 664.463 1551.19 Q662.032 1551.96 659.255 1553.51 L659.255 1548.79 Q662.079 1547.65 664.532 1547.07 Q666.986 1546.49 669.023 1546.49 Q674.393 1546.49 677.588 1549.18 Q680.782 1551.87 680.782 1556.36 Q680.782 1558.49 679.972 1560.41 Q679.185 1562.3 677.079 1564.9 Q676.5 1565.57 673.398 1568.79 Q670.296 1571.98 664.648 1577.74 Z\" fill=\"#000000\" fill-rule=\"evenodd\" fill-opacity=\"1\" /><path clip-path=\"url(#clip570)\" d=\"M 0 0 M686.037 1575.8 L690.921 1575.8 L690.921 1581.68 L686.037 1581.68 L686.037 1575.8 Z\" fill=\"#000000\" fill-rule=\"evenodd\" fill-opacity=\"1\" /><path clip-path=\"url(#clip570)\" d=\"M 0 0 M696.037 1547.12 L714.393 1547.12 L714.393 1551.06 L700.319 1551.06 L700.319 1559.53 Q701.338 1559.18 702.356 1559.02 Q703.375 1558.83 704.393 1558.83 Q710.18 1558.83 713.56 1562 Q716.939 1565.18 716.939 1570.59 Q716.939 1576.17 713.467 1579.27 Q709.995 1582.35 703.676 1582.35 Q701.5 1582.35 699.231 1581.98 Q696.986 1581.61 694.578 1580.87 L694.578 1576.17 Q696.662 1577.3 698.884 1577.86 Q701.106 1578.42 703.583 1578.42 Q707.588 1578.42 709.926 1576.31 Q712.264 1574.2 712.264 1570.59 Q712.264 1566.98 709.926 1564.87 Q707.588 1562.77 703.583 1562.77 Q701.708 1562.77 699.833 1563.18 Q697.981 1563.6 696.037 1564.48 L696.037 1547.12 Z\" fill=\"#000000\" fill-rule=\"evenodd\" fill-opacity=\"1\" /><path clip-path=\"url(#clip570)\" d=\"M 0 0 M1196.64 1547.12 L1215 1547.12 L1215 1551.06 L1200.92 1551.06 L1200.92 1559.53 Q1201.94 1559.18 1202.96 1559.02 Q1203.98 1558.83 1205 1558.83 Q1210.78 1558.83 1214.16 1562 Q1217.54 1565.18 1217.54 1570.59 Q1217.54 1576.17 1214.07 1579.27 Q1210.6 1582.35 1204.28 1582.35 Q1202.1 1582.35 1199.83 1581.98 Q1197.59 1581.61 1195.18 1580.87 L1195.18 1576.17 Q1197.26 1577.3 1199.49 1577.86 Q1201.71 1578.42 1204.19 1578.42 Q1208.19 1578.42 1210.53 1576.31 Q1212.87 1574.2 1212.87 1570.59 Q1212.87 1566.98 1210.53 1564.87 Q1208.19 1562.77 1204.19 1562.77 Q1202.31 1562.77 1200.44 1563.18 Q1198.58 1563.6 1196.64 1564.48 L1196.64 1547.12 Z\" fill=\"#000000\" fill-rule=\"evenodd\" fill-opacity=\"1\" /><path clip-path=\"url(#clip570)\" d=\"M 0 0 M1222.61 1575.8 L1227.5 1575.8 L1227.5 1581.68 L1222.61 1581.68 L1222.61 1575.8 Z\" fill=\"#000000\" fill-rule=\"evenodd\" fill-opacity=\"1\" /><path clip-path=\"url(#clip570)\" d=\"M 0 0 M1242.56 1550.2 Q1238.95 1550.2 1237.13 1553.76 Q1235.32 1557.31 1235.32 1564.43 Q1235.32 1571.54 1237.13 1575.11 Q1238.95 1578.65 1242.56 1578.65 Q1246.2 1578.65 1248 1575.11 Q1249.83 1571.54 1249.83 1564.43 Q1249.83 1557.31 1248 1553.76 Q1246.2 1550.2 1242.56 1550.2 M1242.56 1546.49 Q1248.37 1546.49 1251.43 1551.1 Q1254.51 1555.68 1254.51 1564.43 Q1254.51 1573.16 1251.43 1577.77 Q1248.37 1582.35 1242.56 1582.35 Q1236.75 1582.35 1233.68 1577.77 Q1230.62 1573.16 1230.62 1564.43 Q1230.62 1555.68 1233.68 1551.1 Q1236.75 1546.49 1242.56 1546.49 Z\" fill=\"#000000\" fill-rule=\"evenodd\" fill-opacity=\"1\" /><path clip-path=\"url(#clip570)\" d=\"M 0 0 M1732.61 1547.12 L1754.83 1547.12 L1754.83 1549.11 L1742.29 1581.68 L1737.4 1581.68 L1749.21 1551.06 L1732.61 1551.06 L1732.61 1547.12 Z\" fill=\"#000000\" fill-rule=\"evenodd\" fill-opacity=\"1\" /><path clip-path=\"url(#clip570)\" d=\"M 0 0 M1759.9 1575.8 L1764.79 1575.8 L1764.79 1581.68 L1759.9 1581.68 L1759.9 1575.8 Z\" fill=\"#000000\" fill-rule=\"evenodd\" fill-opacity=\"1\" /><path clip-path=\"url(#clip570)\" d=\"M 0 0 M1769.9 1547.12 L1788.26 1547.12 L1788.26 1551.06 L1774.19 1551.06 L1774.19 1559.53 Q1775.2 1559.18 1776.22 1559.02 Q1777.24 1558.83 1778.26 1558.83 Q1784.05 1558.83 1787.43 1562 Q1790.81 1565.18 1790.81 1570.59 Q1790.81 1576.17 1787.33 1579.27 Q1783.86 1582.35 1777.54 1582.35 Q1775.37 1582.35 1773.1 1581.98 Q1770.85 1581.61 1768.44 1580.87 L1768.44 1576.17 Q1770.53 1577.3 1772.75 1577.86 Q1774.97 1578.42 1777.45 1578.42 Q1781.45 1578.42 1783.79 1576.31 Q1786.13 1574.2 1786.13 1570.59 Q1786.13 1566.98 1783.79 1564.87 Q1781.45 1562.77 1777.45 1562.77 Q1775.57 1562.77 1773.7 1563.18 Q1771.85 1563.6 1769.9 1564.48 L1769.9 1547.12 Z\" fill=\"#000000\" fill-rule=\"evenodd\" fill-opacity=\"1\" /><path clip-path=\"url(#clip570)\" d=\"M 0 0 M2256.96 1577.74 L2264.6 1577.74 L2264.6 1551.38 L2256.29 1553.05 L2256.29 1548.79 L2264.56 1547.12 L2269.23 1547.12 L2269.23 1577.74 L2276.87 1577.74 L2276.87 1581.68 L2256.96 1581.68 L2256.96 1577.74 Z\" fill=\"#000000\" fill-rule=\"evenodd\" fill-opacity=\"1\" /><path clip-path=\"url(#clip570)\" d=\"M 0 0 M2291.94 1550.2 Q2288.33 1550.2 2286.5 1553.76 Q2284.7 1557.31 2284.7 1564.43 Q2284.7 1571.54 2286.5 1575.11 Q2288.33 1578.65 2291.94 1578.65 Q2295.57 1578.65 2297.38 1575.11 Q2299.21 1571.54 2299.21 1564.43 Q2299.21 1557.31 2297.38 1553.76 Q2295.57 1550.2 2291.94 1550.2 M2291.94 1546.49 Q2297.75 1546.49 2300.81 1551.1 Q2303.88 1555.68 2303.88 1564.43 Q2303.88 1573.16 2300.81 1577.77 Q2297.75 1582.35 2291.94 1582.35 Q2286.13 1582.35 2283.05 1577.77 Q2280 1573.16 2280 1564.43 Q2280 1555.68 2283.05 1551.1 Q2286.13 1546.49 2291.94 1546.49 Z\" fill=\"#000000\" fill-rule=\"evenodd\" fill-opacity=\"1\" /><path clip-path=\"url(#clip570)\" d=\"M 0 0 M2308.95 1575.8 L2313.84 1575.8 L2313.84 1581.68 L2308.95 1581.68 L2308.95 1575.8 Z\" fill=\"#000000\" fill-rule=\"evenodd\" fill-opacity=\"1\" /><path clip-path=\"url(#clip570)\" d=\"M 0 0 M2328.91 1550.2 Q2325.3 1550.2 2323.47 1553.76 Q2321.66 1557.31 2321.66 1564.43 Q2321.66 1571.54 2323.47 1575.11 Q2325.3 1578.65 2328.91 1578.65 Q2332.54 1578.65 2334.35 1575.11 Q2336.18 1571.54 2336.18 1564.43 Q2336.18 1557.31 2334.35 1553.76 Q2332.54 1550.2 2328.91 1550.2 M2328.91 1546.49 Q2334.72 1546.49 2337.77 1551.1 Q2340.85 1555.68 2340.85 1564.43 Q2340.85 1573.16 2337.77 1577.77 Q2334.72 1582.35 2328.91 1582.35 Q2323.1 1582.35 2320.02 1577.77 Q2316.96 1573.16 2316.96 1564.43 Q2316.96 1555.68 2320.02 1551.1 Q2323.1 1546.49 2328.91 1546.49 Z\" fill=\"#000000\" fill-rule=\"evenodd\" fill-opacity=\"1\" /><polyline clip-path=\"url(#clip572)\" style=\"stroke:#000000; stroke-width:2; stroke-opacity:0.1; fill:none\" points=\"\n",
       "  86.9921,1479.3 2352.76,1479.3 \n",
       "  \"/>\n",
       "<polyline clip-path=\"url(#clip572)\" style=\"stroke:#000000; stroke-width:2; stroke-opacity:0.1; fill:none\" points=\"\n",
       "  86.9921,1107.38 2352.76,1107.38 \n",
       "  \"/>\n",
       "<polyline clip-path=\"url(#clip572)\" style=\"stroke:#000000; stroke-width:2; stroke-opacity:0.1; fill:none\" points=\"\n",
       "  86.9921,735.461 2352.76,735.461 \n",
       "  \"/>\n",
       "<polyline clip-path=\"url(#clip572)\" style=\"stroke:#000000; stroke-width:2; stroke-opacity:0.1; fill:none\" points=\"\n",
       "  86.9921,363.543 2352.76,363.543 \n",
       "  \"/>\n",
       "<polyline clip-path=\"url(#clip570)\" style=\"stroke:#000000; stroke-width:4; stroke-opacity:1; fill:none\" points=\"\n",
       "  86.9921,1521.01 86.9921,47.2441 \n",
       "  \"/>\n",
       "<polyline clip-path=\"url(#clip570)\" style=\"stroke:#000000; stroke-width:4; stroke-opacity:1; fill:none\" points=\"\n",
       "  86.9921,1479.3 114.181,1479.3 \n",
       "  \"/>\n",
       "<polyline clip-path=\"url(#clip570)\" style=\"stroke:#000000; stroke-width:4; stroke-opacity:1; fill:none\" points=\"\n",
       "  86.9921,1107.38 114.181,1107.38 \n",
       "  \"/>\n",
       "<polyline clip-path=\"url(#clip570)\" style=\"stroke:#000000; stroke-width:4; stroke-opacity:1; fill:none\" points=\"\n",
       "  86.9921,735.461 114.181,735.461 \n",
       "  \"/>\n",
       "<polyline clip-path=\"url(#clip570)\" style=\"stroke:#000000; stroke-width:4; stroke-opacity:1; fill:none\" points=\"\n",
       "  86.9921,363.543 114.181,363.543 \n",
       "  \"/>\n",
       "<path clip-path=\"url(#clip570)\" d=\"M 0 0 M2.08035 1465.1 Q-1.53074 1465.1 -3.35943 1468.66 Q-5.16498 1472.2 -5.16498 1479.33 Q-5.16498 1486.44 -3.35943 1490 Q-1.53074 1493.55 2.08035 1493.55 Q5.71459 1493.55 7.52014 1490 Q9.34883 1486.44 9.34883 1479.33 Q9.34883 1472.2 7.52014 1468.66 Q5.71459 1465.1 2.08035 1465.1 M2.08035 1461.39 Q7.89051 1461.39 10.946 1466 Q14.0247 1470.58 14.0247 1479.33 Q14.0247 1488.06 10.946 1492.67 Q7.89051 1497.25 2.08035 1497.25 Q-3.7298 1497.25 -6.80849 1492.67 Q-9.86403 1488.06 -9.86403 1479.33 Q-9.86403 1470.58 -6.80849 1466 Q-3.7298 1461.39 2.08035 1461.39 Z\" fill=\"#000000\" fill-rule=\"evenodd\" fill-opacity=\"1\" /><path clip-path=\"url(#clip570)\" d=\"M 0 0 M19.0941 1490.7 L23.9784 1490.7 L23.9784 1496.58 L19.0941 1496.58 L19.0941 1490.7 Z\" fill=\"#000000\" fill-rule=\"evenodd\" fill-opacity=\"1\" /><path clip-path=\"url(#clip570)\" d=\"M 0 0 M39.0477 1465.1 Q35.4367 1465.1 33.608 1468.66 Q31.8024 1472.2 31.8024 1479.33 Q31.8024 1486.44 33.608 1490 Q35.4367 1493.55 39.0477 1493.55 Q42.682 1493.55 44.4875 1490 Q46.3162 1486.44 46.3162 1479.33 Q46.3162 1472.2 44.4875 1468.66 Q42.682 1465.1 39.0477 1465.1 M39.0477 1461.39 Q44.8579 1461.39 47.9134 1466 Q50.9921 1470.58 50.9921 1479.33 Q50.9921 1488.06 47.9134 1492.67 Q44.8579 1497.25 39.0477 1497.25 Q33.2376 1497.25 30.1589 1492.67 Q27.1034 1488.06 27.1034 1479.33 Q27.1034 1470.58 30.1589 1466 Q33.2376 1461.39 39.0477 1461.39 Z\" fill=\"#000000\" fill-rule=\"evenodd\" fill-opacity=\"1\" /><path clip-path=\"url(#clip570)\" d=\"M 0 0 M3.67756 1093.18 Q0.0664729 1093.18 -1.76222 1096.74 Q-3.56777 1100.28 -3.56777 1107.41 Q-3.56777 1114.52 -1.76222 1118.09 Q0.0664729 1121.63 3.67756 1121.63 Q7.3118 1121.63 9.11735 1118.09 Q10.946 1114.52 10.946 1107.41 Q10.946 1100.28 9.11735 1096.74 Q7.3118 1093.18 3.67756 1093.18 M3.67756 1089.47 Q9.48772 1089.47 12.5433 1094.08 Q15.6219 1098.66 15.6219 1107.41 Q15.6219 1116.14 12.5433 1120.75 Q9.48772 1125.33 3.67756 1125.33 Q-2.13259 1125.33 -5.21128 1120.75 Q-8.26682 1116.14 -8.26682 1107.41 Q-8.26682 1098.66 -5.21128 1094.08 Q-2.13259 1089.47 3.67756 1089.47 Z\" fill=\"#000000\" fill-rule=\"evenodd\" fill-opacity=\"1\" /><path clip-path=\"url(#clip570)\" d=\"M 0 0 M20.6914 1118.78 L25.5756 1118.78 L25.5756 1124.66 L20.6914 1124.66 L20.6914 1118.78 Z\" fill=\"#000000\" fill-rule=\"evenodd\" fill-opacity=\"1\" /><path clip-path=\"url(#clip570)\" d=\"M 0 0 M34.6728 1120.72 L50.9921 1120.72 L50.9921 1124.66 L29.0478 1124.66 L29.0478 1120.72 Q31.7098 1117.97 36.2931 1113.34 Q40.8996 1108.69 42.0801 1107.34 Q44.3255 1104.82 45.2051 1103.09 Q46.1079 1101.33 46.1079 1099.64 Q46.1079 1096.88 44.1635 1095.15 Q42.2422 1093.41 39.1403 1093.41 Q36.9413 1093.41 34.4876 1094.17 Q32.057 1094.94 29.2793 1096.49 L29.2793 1091.77 Q32.1033 1090.63 34.557 1090.05 Q37.0107 1089.47 39.0477 1089.47 Q44.4181 1089.47 47.6125 1092.16 Q50.8069 1094.84 50.8069 1099.34 Q50.8069 1101.46 49.9968 1103.39 Q49.2097 1105.28 47.1033 1107.88 Q46.5246 1108.55 43.4227 1111.77 Q40.3209 1114.96 34.6728 1120.72 Z\" fill=\"#000000\" fill-rule=\"evenodd\" fill-opacity=\"1\" /><path clip-path=\"url(#clip570)\" d=\"M 0 0 M1.59424 721.26 Q-2.01685 721.26 -3.84554 724.825 Q-5.65109 728.366 -5.65109 735.496 Q-5.65109 742.602 -3.84554 746.167 Q-2.01685 749.709 1.59424 749.709 Q5.22848 749.709 7.03403 746.167 Q8.86272 742.602 8.86272 735.496 Q8.86272 728.366 7.03403 724.825 Q5.22848 721.26 1.59424 721.26 M1.59424 717.556 Q7.4044 717.556 10.4599 722.162 Q13.5386 726.746 13.5386 735.496 Q13.5386 744.223 10.4599 748.829 Q7.4044 753.412 1.59424 753.412 Q-4.21591 753.412 -7.2946 748.829 Q-10.3501 744.223 -10.3501 735.496 Q-10.3501 726.746 -7.2946 722.162 Q-4.21591 717.556 1.59424 717.556 Z\" fill=\"#000000\" fill-rule=\"evenodd\" fill-opacity=\"1\" /><path clip-path=\"url(#clip570)\" d=\"M 0 0 M18.608 746.861 L23.4923 746.861 L23.4923 752.741 L18.608 752.741 L18.608 746.861 Z\" fill=\"#000000\" fill-rule=\"evenodd\" fill-opacity=\"1\" /><path clip-path=\"url(#clip570)\" d=\"M 0 0 M41.4088 722.255 L29.6034 740.704 L41.4088 740.704 L41.4088 722.255 M40.182 718.181 L46.0616 718.181 L46.0616 740.704 L50.9921 740.704 L50.9921 744.593 L46.0616 744.593 L46.0616 752.741 L41.4088 752.741 L41.4088 744.593 L25.8071 744.593 L25.8071 740.079 L40.182 718.181 Z\" fill=\"#000000\" fill-rule=\"evenodd\" fill-opacity=\"1\" /><path clip-path=\"url(#clip570)\" d=\"M 0 0 M1.91831 349.341 Q-1.69278 349.341 -3.52147 352.906 Q-5.32702 356.448 -5.32702 363.578 Q-5.32702 370.684 -3.52147 374.249 Q-1.69278 377.79 1.91831 377.79 Q5.55255 377.79 7.3581 374.249 Q9.18679 370.684 9.18679 363.578 Q9.18679 356.448 7.3581 352.906 Q5.55255 349.341 1.91831 349.341 M1.91831 345.638 Q7.72847 345.638 10.784 350.244 Q13.8627 354.828 13.8627 363.578 Q13.8627 372.304 10.784 376.911 Q7.72847 381.494 1.91831 381.494 Q-3.89184 381.494 -6.97053 376.911 Q-10.0261 372.304 -10.0261 363.578 Q-10.0261 354.828 -6.97053 350.244 Q-3.89184 345.638 1.91831 345.638 Z\" fill=\"#000000\" fill-rule=\"evenodd\" fill-opacity=\"1\" /><path clip-path=\"url(#clip570)\" d=\"M 0 0 M18.9321 374.943 L23.8163 374.943 L23.8163 380.823 L18.9321 380.823 L18.9321 374.943 Z\" fill=\"#000000\" fill-rule=\"evenodd\" fill-opacity=\"1\" /><path clip-path=\"url(#clip570)\" d=\"M 0 0 M39.4644 361.679 Q36.3163 361.679 34.4644 363.832 Q32.6357 365.985 32.6357 369.735 Q32.6357 373.462 34.4644 375.638 Q36.3163 377.79 39.4644 377.79 Q42.6125 377.79 44.4412 375.638 Q46.2931 373.462 46.2931 369.735 Q46.2931 365.985 44.4412 363.832 Q42.6125 361.679 39.4644 361.679 M48.7468 347.027 L48.7468 351.286 Q46.9875 350.453 45.182 350.013 Q43.3996 349.573 41.6403 349.573 Q37.0107 349.573 34.557 352.698 Q32.1265 355.823 31.7793 362.142 Q33.145 360.128 35.2052 359.064 Q37.2653 357.976 39.7422 357.976 Q44.9505 357.976 47.9597 361.147 Q50.9921 364.295 50.9921 369.735 Q50.9921 375.059 47.844 378.276 Q44.6959 381.494 39.4644 381.494 Q33.4691 381.494 30.2978 376.911 Q27.1265 372.304 27.1265 363.578 Q27.1265 355.383 31.0154 350.522 Q34.9042 345.638 41.4551 345.638 Q43.2144 345.638 44.9968 345.985 Q46.8023 346.332 48.7468 347.027 Z\" fill=\"#000000\" fill-rule=\"evenodd\" fill-opacity=\"1\" /><polyline clip-path=\"url(#clip572)\" style=\"stroke:#009af9; stroke-width:4; stroke-opacity:1; fill:none\" points=\"\n",
       "  151.118,1479.3 161.059,1479.3 171.001,1479.3 180.943,1479.3 190.885,1479.3 200.827,1479.3 210.769,1479.3 220.711,1479.3 230.653,1479.3 240.595,1479.3 \n",
       "  250.537,1479.3 260.479,1479.3 270.421,1479.29 280.362,1479.29 290.304,1479.29 300.246,1479.29 310.188,1479.29 320.13,1479.28 330.072,1479.28 340.014,1479.27 \n",
       "  349.956,1479.27 359.898,1479.26 369.84,1479.25 379.782,1479.23 389.724,1479.22 399.666,1479.19 409.607,1479.16 419.549,1479.13 429.491,1479.08 439.433,1479.03 \n",
       "  449.375,1478.95 459.317,1478.87 469.259,1478.76 479.201,1478.63 489.143,1478.46 499.085,1478.26 509.027,1478.02 518.969,1477.72 528.911,1477.36 538.852,1476.93 \n",
       "  548.794,1476.4 558.736,1475.78 568.678,1475.03 578.62,1474.14 588.562,1473.08 598.504,1471.83 608.446,1470.36 618.388,1468.63 628.33,1466.61 638.272,1464.25 \n",
       "  648.214,1461.51 658.155,1458.33 668.097,1454.67 678.039,1450.47 687.981,1445.65 697.923,1440.15 707.865,1433.91 717.807,1426.83 727.749,1418.85 737.691,1409.89 \n",
       "  747.633,1399.85 757.575,1388.66 767.517,1376.22 777.459,1362.47 787.4,1347.31 797.342,1330.68 807.284,1312.5 817.226,1292.72 827.168,1271.28 837.11,1248.14 \n",
       "  847.052,1223.27 856.994,1196.67 866.936,1168.34 876.878,1138.29 886.82,1106.58 896.762,1073.25 906.704,1038.39 916.645,1002.11 926.587,964.505 936.529,925.73 \n",
       "  946.471,885.935 956.413,845.288 966.355,803.974 976.297,762.188 986.239,720.132 996.181,678.015 1006.12,636.049 1016.06,594.446 1026.01,553.416 1035.95,513.162 \n",
       "  1045.89,473.884 1055.83,435.769 1065.77,398.994 1075.72,363.725 1085.66,330.115 1095.6,298.302 1105.54,268.414 1115.48,240.562 1125.43,214.845 1135.37,191.35 \n",
       "  1145.31,170.152 1155.25,151.313 1165.19,134.889 1175.14,120.922 1185.08,109.449 1195.02,100.498 1204.96,94.0896 1214.9,90.2389 1224.84,88.9544 1234.79,90.2389 \n",
       "  1244.73,94.0896 1254.67,100.498 1264.61,109.449 1274.55,120.922 1284.5,134.889 1294.44,151.313 1304.38,170.152 1314.32,191.35 1324.26,214.845 1334.21,240.562 \n",
       "  1344.15,268.414 1354.09,298.302 1364.03,330.115 1373.97,363.725 1383.92,398.994 1393.86,435.769 1403.8,473.884 1413.74,513.162 1423.68,553.416 1433.63,594.446 \n",
       "  1443.57,636.049 1453.51,678.015 1463.45,720.132 1473.39,762.188 1483.33,803.974 1493.28,845.288 1503.22,885.935 1513.16,925.73 1523.1,964.505 1533.04,1002.11 \n",
       "  1542.99,1038.39 1552.93,1073.25 1562.87,1106.58 1572.81,1138.29 1582.75,1168.34 1592.7,1196.67 1602.64,1223.27 1612.58,1248.14 1622.52,1271.28 1632.46,1292.72 \n",
       "  1642.41,1312.5 1652.35,1330.68 1662.29,1347.31 1672.23,1362.47 1682.17,1376.22 1692.12,1388.66 1702.06,1399.85 1712,1409.89 1721.94,1418.85 1731.88,1426.83 \n",
       "  1741.82,1433.91 1751.77,1440.15 1761.71,1445.65 1771.65,1450.47 1781.59,1454.67 1791.53,1458.33 1801.48,1461.51 1811.42,1464.25 1821.36,1466.61 1831.3,1468.63 \n",
       "  1841.24,1470.36 1851.19,1471.83 1861.13,1473.08 1871.07,1474.14 1881.01,1475.03 1890.95,1475.78 1900.9,1476.4 1910.84,1476.93 1920.78,1477.36 1930.72,1477.72 \n",
       "  1940.66,1478.02 1950.61,1478.26 1960.55,1478.46 1970.49,1478.63 1980.43,1478.76 1990.37,1478.87 2000.31,1478.95 2010.26,1479.03 2020.2,1479.08 2030.14,1479.13 \n",
       "  2040.08,1479.16 2050.02,1479.19 2059.97,1479.22 2069.91,1479.23 2079.85,1479.25 2089.79,1479.26 2099.73,1479.27 2109.68,1479.27 2119.62,1479.28 2129.56,1479.28 \n",
       "  2139.5,1479.29 2149.44,1479.29 2159.39,1479.29 2169.33,1479.29 2179.27,1479.29 2189.21,1479.3 2199.15,1479.3 2209.1,1479.3 2219.04,1479.3 2228.98,1479.3 \n",
       "  2238.92,1479.3 2248.86,1479.3 2258.8,1479.3 2268.75,1479.3 2278.69,1479.3 2288.63,1479.3 \n",
       "  \"/>\n",
       "<polyline clip-path=\"url(#clip572)\" style=\"stroke:#e26f46; stroke-width:4; stroke-opacity:1; fill:none\" points=\"\n",
       "  151.118,1479.3 161.059,1479.3 171.001,1479.3 180.943,1479.3 190.885,1479.3 200.827,1479.3 210.769,1479.3 220.711,1479.3 230.653,1479.3 240.595,1479.3 \n",
       "  250.537,1479.3 260.479,1479.3 270.421,1479.3 280.362,1479.3 290.304,1479.3 300.246,1479.3 310.188,1479.3 320.13,1479.3 330.072,1479.3 340.014,1479.3 \n",
       "  349.956,1479.3 359.898,1479.3 369.84,1479.3 379.782,1479.3 389.724,1479.3 399.666,1479.3 409.607,1479.3 419.549,1479.3 429.491,1479.3 439.433,1479.3 \n",
       "  449.375,1479.3 459.317,1479.3 469.259,1479.3 479.201,1479.3 489.143,1479.3 499.085,1479.3 509.027,1479.3 518.969,1479.3 528.911,1479.3 538.852,1479.3 \n",
       "  548.794,1479.3 558.736,1479.3 568.678,1479.3 578.62,1479.3 588.562,1479.3 598.504,1479.3 608.446,1479.3 618.388,1479.3 628.33,1479.3 638.272,1479.3 \n",
       "  648.214,1479.3 658.155,1479.3 668.097,1479.3 678.039,1479.3 687.981,1479.3 697.923,1479.3 707.865,1479.3 717.807,1479.3 727.749,1479.3 737.691,1479.3 \n",
       "  747.633,1479.3 757.575,1479.3 767.517,1479.3 777.459,1479.3 787.4,1479.3 797.342,1479.3 807.284,1479.3 817.226,1479.3 827.168,1479.3 837.11,1479.3 \n",
       "  847.052,1479.3 856.994,1479.3 866.936,1479.3 876.878,1479.3 886.82,1479.3 896.762,1479.3 906.704,1479.3 916.645,1479.3 926.587,1479.3 936.529,1479.3 \n",
       "  946.471,1479.3 956.413,1479.3 966.355,1479.3 976.297,1479.3 986.239,1479.3 996.181,1479.3 1006.12,1479.3 1016.06,1479.3 1026.01,1479.3 1035.95,1479.3 \n",
       "  1045.89,1479.3 1055.83,1479.3 1065.77,1479.3 1075.72,1479.3 1085.66,1479.3 1095.6,1479.3 1105.54,1479.3 1115.48,1479.3 1125.43,1479.3 1135.37,1479.3 \n",
       "  1145.31,1479.3 1155.25,1479.3 1165.19,1479.3 1175.14,1479.3 1185.08,1479.3 1195.02,1479.3 1204.96,1479.3 1214.9,1479.3 1224.84,1479.3 1234.79,1479.3 \n",
       "  1244.73,1479.3 1254.67,1479.3 1264.61,1479.3 1274.55,1479.3 1284.5,1479.3 1294.44,1479.3 1304.38,1479.3 1314.32,1479.3 1324.26,1479.3 1334.21,1479.3 \n",
       "  1344.15,1479.3 1354.09,1479.3 1364.03,1479.3 1373.97,1479.3 1383.92,1479.3 1393.86,1479.3 1403.8,1479.3 1413.74,1479.3 1423.68,1479.3 1433.63,1479.3 \n",
       "  1443.57,1479.3 1453.51,1479.3 1463.45,1479.3 1473.39,1479.3 1483.33,1479.3 1493.28,1479.3 1503.22,1479.3 1513.16,1479.3 1523.1,1479.3 1533.04,1479.3 \n",
       "  1542.99,1479.3 1552.93,1479.3 1562.87,1479.3 1572.81,1479.3 1582.75,1479.3 1592.7,1479.3 1602.64,1479.3 1612.58,1479.3 1622.52,1479.3 1632.46,1479.3 \n",
       "  1642.41,1479.3 1652.35,1479.3 1662.29,1479.3 1672.23,1479.3 1682.17,1479.3 1692.12,1479.3 1702.06,1479.3 1712,1479.3 1721.94,1479.3 1731.88,1479.3 \n",
       "  1741.82,1479.3 1751.77,1479.3 1761.71,1479.3 1771.65,1479.3 1781.59,1479.3 1791.53,1479.3 1801.48,1479.3 1811.42,1479.3 1821.36,1479.3 1831.3,1479.3 \n",
       "  1841.24,1479.3 1851.19,1479.3 1861.13,1479.3 1871.07,1479.3 1881.01,1479.3 1890.95,1479.3 1900.9,1479.3 1910.84,1479.3 1920.78,1479.3 1930.72,1479.3 \n",
       "  1940.66,1479.3 1950.61,1479.3 1960.55,1479.3 1970.49,1479.3 1980.43,1479.3 1990.37,1479.3 2000.31,1479.3 2010.26,1479.3 2020.2,1479.3 2030.14,1479.3 \n",
       "  2040.08,1479.3 2050.02,1479.3 2059.97,1479.3 2069.91,1479.3 2079.85,1479.3 2089.79,1479.3 2099.73,1479.3 2109.68,1479.3 2119.62,1479.3 2129.56,1479.3 \n",
       "  2139.5,1479.3 2149.44,1479.3 2159.39,1479.3 2169.33,1479.3 2179.27,1479.3 2189.21,1479.3 2199.15,1479.3 2209.1,1479.3 2219.04,1479.3 2228.98,1479.3 \n",
       "  2238.92,1479.3 2248.86,1479.3 2258.8,1479.3 2268.75,1479.3 2278.69,1479.3 2288.63,1479.3 \n",
       "  \"/>\n",
       "<polyline clip-path=\"url(#clip572)\" style=\"stroke:#3da44d; stroke-width:4; stroke-opacity:1; fill:none\" points=\"\n",
       "  151.118,1479.3 161.059,1479.3 171.001,1479.3 180.943,1479.3 190.885,1479.3 200.827,1479.3 210.769,1479.3 220.711,1479.3 230.653,1479.3 240.595,1479.3 \n",
       "  250.537,1479.3 260.479,1479.3 270.421,1479.3 280.362,1479.3 290.304,1479.3 300.246,1479.3 310.188,1479.3 320.13,1479.3 330.072,1479.3 340.014,1479.3 \n",
       "  349.956,1479.3 359.898,1479.3 369.84,1479.3 379.782,1479.3 389.724,1479.3 399.666,1479.3 409.607,1479.3 419.549,1479.3 429.491,1479.3 439.433,1479.3 \n",
       "  449.375,1479.3 459.317,1479.3 469.259,1479.3 479.201,1479.3 489.143,1479.3 499.085,1479.3 509.027,1479.3 518.969,1479.3 528.911,1479.3 538.852,1479.29 \n",
       "  548.794,1479.29 558.736,1479.29 568.678,1479.29 578.62,1479.28 588.562,1479.28 598.504,1479.27 608.446,1479.25 618.388,1479.24 628.33,1479.21 638.272,1479.18 \n",
       "  648.214,1479.13 658.155,1479.06 668.097,1478.97 678.039,1478.85 687.981,1478.69 697.923,1478.47 707.865,1478.19 717.807,1477.82 727.749,1477.33 737.691,1476.71 \n",
       "  747.633,1475.9 757.575,1474.88 767.517,1473.58 777.459,1471.96 787.4,1469.93 797.342,1467.42 807.284,1464.34 817.226,1460.58 827.168,1456.03 837.11,1450.56 \n",
       "  847.052,1444.05 856.994,1436.34 866.936,1427.3 876.878,1416.76 886.82,1404.59 896.762,1390.64 906.704,1374.76 916.645,1356.84 926.587,1336.79 936.529,1314.51 \n",
       "  946.471,1289.97 956.413,1263.14 966.355,1234.05 976.297,1202.76 986.239,1169.37 996.181,1134.03 1006.12,1096.92 1016.06,1058.26 1026.01,1018.31 1035.95,977.35 \n",
       "  1045.89,935.707 1055.83,893.71 1065.77,851.71 1075.72,810.063 1085.66,769.13 1095.6,729.267 1105.54,690.824 1115.48,654.135 1125.43,619.517 1135.37,587.269 \n",
       "  1145.31,557.663 1155.25,530.948 1165.19,507.345 1175.14,487.045 1185.08,470.213 1195.02,456.982 1204.96,447.457 1214.9,441.713 1224.84,439.793 1234.79,441.713 \n",
       "  1244.73,447.457 1254.67,456.982 1264.61,470.213 1274.55,487.045 1284.5,507.345 1294.44,530.948 1304.38,557.663 1314.32,587.269 1324.26,619.517 1334.21,654.135 \n",
       "  1344.15,690.824 1354.09,729.267 1364.03,769.13 1373.97,810.063 1383.92,851.71 1393.86,893.71 1403.8,935.707 1413.74,977.35 1423.68,1018.31 1433.63,1058.26 \n",
       "  1443.57,1096.92 1453.51,1134.03 1463.45,1169.37 1473.39,1202.76 1483.33,1234.05 1493.28,1263.14 1503.22,1289.97 1513.16,1314.51 1523.1,1336.79 1533.04,1356.84 \n",
       "  1542.99,1374.76 1552.93,1390.64 1562.87,1404.59 1572.81,1416.76 1582.75,1427.3 1592.7,1436.34 1602.64,1444.05 1612.58,1450.56 1622.52,1456.03 1632.46,1460.58 \n",
       "  1642.41,1464.34 1652.35,1467.42 1662.29,1469.93 1672.23,1471.96 1682.17,1473.58 1692.12,1474.88 1702.06,1475.9 1712,1476.71 1721.94,1477.33 1731.88,1477.82 \n",
       "  1741.82,1478.19 1751.77,1478.47 1761.71,1478.69 1771.65,1478.85 1781.59,1478.97 1791.53,1479.06 1801.48,1479.13 1811.42,1479.18 1821.36,1479.21 1831.3,1479.24 \n",
       "  1841.24,1479.25 1851.19,1479.27 1861.13,1479.28 1871.07,1479.28 1881.01,1479.29 1890.95,1479.29 1900.9,1479.29 1910.84,1479.29 1920.78,1479.3 1930.72,1479.3 \n",
       "  1940.66,1479.3 1950.61,1479.3 1960.55,1479.3 1970.49,1479.3 1980.43,1479.3 1990.37,1479.3 2000.31,1479.3 2010.26,1479.3 2020.2,1479.3 2030.14,1479.3 \n",
       "  2040.08,1479.3 2050.02,1479.3 2059.97,1479.3 2069.91,1479.3 2079.85,1479.3 2089.79,1479.3 2099.73,1479.3 2109.68,1479.3 2119.62,1479.3 2129.56,1479.3 \n",
       "  2139.5,1479.3 2149.44,1479.3 2159.39,1479.3 2169.33,1479.3 2179.27,1479.3 2189.21,1479.3 2199.15,1479.3 2209.1,1479.3 2219.04,1479.3 2228.98,1479.3 \n",
       "  2238.92,1479.3 2248.86,1479.3 2258.8,1479.3 2268.75,1479.3 2278.69,1479.3 2288.63,1479.3 \n",
       "  \"/>\n",
       "<path clip-path=\"url(#clip570)\" d=\"\n",
       "M1870.87 338.29 L2277.23 338.29 L2277.23 96.3696 L1870.87 96.3696  Z\n",
       "  \" fill=\"#ffffff\" fill-rule=\"evenodd\" fill-opacity=\"1\"/>\n",
       "<polyline clip-path=\"url(#clip570)\" style=\"stroke:#000000; stroke-width:4; stroke-opacity:1; fill:none\" points=\"\n",
       "  1870.87,338.29 2277.23,338.29 2277.23,96.3696 1870.87,96.3696 1870.87,338.29 \n",
       "  \"/>\n",
       "<polyline clip-path=\"url(#clip570)\" style=\"stroke:#009af9; stroke-width:4; stroke-opacity:1; fill:none\" points=\"\n",
       "  1896.05,156.85 2047.1,156.85 \n",
       "  \"/>\n",
       "<path clip-path=\"url(#clip570)\" d=\"M 0 0 M2087.46 152.185 Q2086.74 151.769 2085.89 151.583 Q2085.05 151.375 2084.03 151.375 Q2080.42 151.375 2078.48 153.736 Q2076.56 156.074 2076.56 160.472 L2076.56 174.13 L2072.27 174.13 L2072.27 148.204 L2076.56 148.204 L2076.56 152.232 Q2077.9 149.87 2080.05 148.736 Q2082.2 147.579 2085.28 147.579 Q2085.72 147.579 2086.26 147.648 Q2086.79 147.695 2087.44 147.81 L2087.46 152.185 Z\" fill=\"#000000\" fill-rule=\"evenodd\" fill-opacity=\"1\" /><path clip-path=\"url(#clip570)\" d=\"M 0 0 M2113.06 160.102 L2113.06 162.185 L2093.48 162.185 Q2093.76 166.583 2096.12 168.898 Q2098.5 171.19 2102.74 171.19 Q2105.19 171.19 2107.48 170.588 Q2109.8 169.986 2112.07 168.782 L2112.07 172.81 Q2109.77 173.782 2107.37 174.292 Q2104.96 174.801 2102.48 174.801 Q2096.28 174.801 2092.64 171.19 Q2089.03 167.579 2089.03 161.421 Q2089.03 155.056 2092.46 151.329 Q2095.91 147.579 2101.74 147.579 Q2106.97 147.579 2110.01 150.958 Q2113.06 154.315 2113.06 160.102 M2108.8 158.852 Q2108.76 155.357 2106.83 153.273 Q2104.94 151.19 2101.79 151.19 Q2098.22 151.19 2096.07 153.204 Q2093.94 155.218 2093.62 158.875 L2108.8 158.852 Z\" fill=\"#000000\" fill-rule=\"evenodd\" fill-opacity=\"1\" /><path clip-path=\"url(#clip570)\" d=\"M 0 0 M2129.31 161.097 Q2124.15 161.097 2122.16 162.278 Q2120.17 163.458 2120.17 166.306 Q2120.17 168.574 2121.65 169.917 Q2123.15 171.236 2125.72 171.236 Q2129.26 171.236 2131.39 168.736 Q2133.55 166.213 2133.55 162.046 L2133.55 161.097 L2129.31 161.097 M2137.81 159.338 L2137.81 174.13 L2133.55 174.13 L2133.55 170.194 Q2132.09 172.555 2129.91 173.69 Q2127.74 174.801 2124.59 174.801 Q2120.61 174.801 2118.25 172.579 Q2115.91 170.333 2115.91 166.583 Q2115.91 162.208 2118.83 159.986 Q2121.76 157.764 2127.58 157.764 L2133.55 157.764 L2133.55 157.347 Q2133.55 154.407 2131.6 152.81 Q2129.68 151.19 2126.19 151.19 Q2123.96 151.19 2121.86 151.722 Q2119.75 152.255 2117.81 153.319 L2117.81 149.384 Q2120.14 148.482 2122.34 148.042 Q2124.54 147.579 2126.63 147.579 Q2132.25 147.579 2135.03 150.495 Q2137.81 153.412 2137.81 159.338 Z\" fill=\"#000000\" fill-rule=\"evenodd\" fill-opacity=\"1\" /><path clip-path=\"url(#clip570)\" d=\"M 0 0 M2142.27 138.111 L2146.53 138.111 L2146.53 174.13 L2142.27 174.13 L2142.27 138.111 Z\" fill=\"#000000\" fill-rule=\"evenodd\" fill-opacity=\"1\" /><path clip-path=\"url(#clip570)\" d=\"M 0 0 M2161.23 138.158 Q2158.13 143.482 2156.63 148.69 Q2155.12 153.898 2155.12 159.245 Q2155.12 164.593 2156.63 169.847 Q2158.15 175.079 2161.23 180.38 L2157.53 180.38 Q2154.06 174.94 2152.32 169.685 Q2150.61 164.431 2150.61 159.245 Q2150.61 154.083 2152.32 148.852 Q2154.03 143.62 2157.53 138.158 L2161.23 138.158 Z\" fill=\"#000000\" fill-rule=\"evenodd\" fill-opacity=\"1\" /><path clip-path=\"url(#clip570)\" d=\"M 0 0 M2174.68 174.708 Q2169.33 173.852 2166.86 171.606 Q2163.82 168.852 2163.82 163.227 L2163.82 148.204 L2168.13 148.204 L2168.13 163.065 Q2168.13 167.301 2170.1 169.06 Q2171.81 170.588 2174.68 170.912 L2174.68 148.204 L2178.92 148.204 L2178.92 170.889 Q2181.95 170.565 2183.5 169.037 Q2185.47 167.093 2185.47 163.042 L2185.47 148.204 L2189.77 148.204 L2189.77 163.204 Q2189.77 169.037 2186.74 171.583 Q2184.01 173.875 2178.92 174.685 L2178.92 183.991 L2174.68 183.991 L2174.68 174.708 Z\" fill=\"#000000\" fill-rule=\"evenodd\" fill-opacity=\"1\" /><path clip-path=\"url(#clip570)\" d=\"M 0 0 M2193.57 138.158 L2197.27 138.158 Q2200.75 143.62 2202.46 148.852 Q2204.2 154.083 2204.2 159.245 Q2204.2 164.431 2202.46 169.685 Q2200.75 174.94 2197.27 180.38 L2193.57 180.38 Q2196.65 175.079 2198.15 169.847 Q2199.68 164.593 2199.68 159.245 Q2199.68 153.898 2198.15 148.69 Q2196.65 143.482 2193.57 138.158 Z\" fill=\"#000000\" fill-rule=\"evenodd\" fill-opacity=\"1\" /><polyline clip-path=\"url(#clip570)\" style=\"stroke:#e26f46; stroke-width:4; stroke-opacity:1; fill:none\" points=\"\n",
       "  1896.05,217.33 2047.1,217.33 \n",
       "  \"/>\n",
       "<path clip-path=\"url(#clip570)\" d=\"M 0 0 M2072.27 208.684 L2076.53 208.684 L2076.53 234.61 L2072.27 234.61 L2072.27 208.684 M2072.27 198.591 L2076.53 198.591 L2076.53 203.985 L2072.27 203.985 L2072.27 198.591 Z\" fill=\"#000000\" fill-rule=\"evenodd\" fill-opacity=\"1\" /><path clip-path=\"url(#clip570)\" d=\"M 0 0 M2101.19 213.661 Q2102.78 210.79 2105.01 209.425 Q2107.23 208.059 2110.24 208.059 Q2114.29 208.059 2116.49 210.906 Q2118.69 213.73 2118.69 218.961 L2118.69 234.61 L2114.4 234.61 L2114.4 219.1 Q2114.4 215.374 2113.08 213.568 Q2111.77 211.762 2109.06 211.762 Q2105.75 211.762 2103.83 213.962 Q2101.9 216.161 2101.9 219.957 L2101.9 234.61 L2097.62 234.61 L2097.62 219.1 Q2097.62 215.35 2096.3 213.568 Q2094.98 211.762 2092.23 211.762 Q2088.96 211.762 2087.04 213.985 Q2085.12 216.184 2085.12 219.957 L2085.12 234.61 L2080.84 234.61 L2080.84 208.684 L2085.12 208.684 L2085.12 212.712 Q2086.58 210.327 2088.62 209.193 Q2090.65 208.059 2093.45 208.059 Q2096.28 208.059 2098.25 209.494 Q2100.24 210.929 2101.19 213.661 Z\" fill=\"#000000\" fill-rule=\"evenodd\" fill-opacity=\"1\" /><path clip-path=\"url(#clip570)\" d=\"M 0 0 M2134.94 221.577 Q2129.77 221.577 2127.78 222.758 Q2125.79 223.938 2125.79 226.786 Q2125.79 229.054 2127.27 230.397 Q2128.78 231.716 2131.35 231.716 Q2134.89 231.716 2137.02 229.216 Q2139.17 226.693 2139.17 222.526 L2139.17 221.577 L2134.94 221.577 M2143.43 219.818 L2143.43 234.61 L2139.17 234.61 L2139.17 230.674 Q2137.71 233.035 2135.54 234.17 Q2133.36 235.281 2130.21 235.281 Q2126.23 235.281 2123.87 233.059 Q2121.53 230.813 2121.53 227.063 Q2121.53 222.688 2124.45 220.466 Q2127.39 218.244 2133.2 218.244 L2139.17 218.244 L2139.17 217.827 Q2139.17 214.887 2137.23 213.29 Q2135.31 211.67 2131.81 211.67 Q2129.59 211.67 2127.48 212.202 Q2125.38 212.735 2123.43 213.799 L2123.43 209.864 Q2125.77 208.962 2127.97 208.522 Q2130.17 208.059 2132.25 208.059 Q2137.88 208.059 2140.65 210.975 Q2143.43 213.892 2143.43 219.818 Z\" fill=\"#000000\" fill-rule=\"evenodd\" fill-opacity=\"1\" /><path clip-path=\"url(#clip570)\" d=\"M 0 0 M2164.96 221.346 Q2164.96 216.716 2163.04 214.17 Q2161.14 211.624 2157.69 211.624 Q2154.26 211.624 2152.34 214.17 Q2150.45 216.716 2150.45 221.346 Q2150.45 225.952 2152.34 228.498 Q2154.26 231.045 2157.69 231.045 Q2161.14 231.045 2163.04 228.498 Q2164.96 225.952 2164.96 221.346 M2169.22 231.392 Q2169.22 238.012 2166.28 241.23 Q2163.34 244.471 2157.27 244.471 Q2155.03 244.471 2153.04 244.123 Q2151.05 243.799 2149.17 243.105 L2149.17 238.961 Q2151.05 239.98 2152.88 240.466 Q2154.7 240.952 2156.6 240.952 Q2160.79 240.952 2162.88 238.753 Q2164.96 236.577 2164.96 232.156 L2164.96 230.049 Q2163.64 232.341 2161.58 233.475 Q2159.52 234.61 2156.65 234.61 Q2151.88 234.61 2148.96 230.975 Q2146.05 227.341 2146.05 221.346 Q2146.05 215.327 2148.96 211.693 Q2151.88 208.059 2156.65 208.059 Q2159.52 208.059 2161.58 209.193 Q2163.64 210.327 2164.96 212.619 L2164.96 208.684 L2169.22 208.684 L2169.22 231.392 Z\" fill=\"#000000\" fill-rule=\"evenodd\" fill-opacity=\"1\" /><path clip-path=\"url(#clip570)\" d=\"M 0 0 M2183.92 198.638 Q2180.82 203.962 2179.31 209.17 Q2177.81 214.378 2177.81 219.725 Q2177.81 225.073 2179.31 230.327 Q2180.84 235.559 2183.92 240.86 L2180.21 240.86 Q2176.74 235.42 2175.01 230.165 Q2173.29 224.911 2173.29 219.725 Q2173.29 214.563 2175.01 209.332 Q2176.72 204.1 2180.21 198.638 L2183.92 198.638 Z\" fill=\"#000000\" fill-rule=\"evenodd\" fill-opacity=\"1\" /><path clip-path=\"url(#clip570)\" d=\"M 0 0 M2197.37 235.188 Q2192.02 234.332 2189.54 232.086 Q2186.51 229.332 2186.51 223.707 L2186.51 208.684 L2190.82 208.684 L2190.82 223.545 Q2190.82 227.781 2192.78 229.54 Q2194.5 231.068 2197.37 231.392 L2197.37 208.684 L2201.6 208.684 L2201.6 231.369 Q2204.63 231.045 2206.19 229.517 Q2208.15 227.573 2208.15 223.522 L2208.15 208.684 L2212.46 208.684 L2212.46 223.684 Q2212.46 229.517 2209.43 232.063 Q2206.7 234.355 2201.6 235.165 L2201.6 244.471 L2197.37 244.471 L2197.37 235.188 Z\" fill=\"#000000\" fill-rule=\"evenodd\" fill-opacity=\"1\" /><path clip-path=\"url(#clip570)\" d=\"M 0 0 M2216.26 198.638 L2219.96 198.638 Q2223.43 204.1 2225.14 209.332 Q2226.88 214.563 2226.88 219.725 Q2226.88 224.911 2225.14 230.165 Q2223.43 235.42 2219.96 240.86 L2216.26 240.86 Q2219.33 235.559 2220.84 230.327 Q2222.37 225.073 2222.37 219.725 Q2222.37 214.378 2220.84 209.17 Q2219.33 203.962 2216.26 198.638 Z\" fill=\"#000000\" fill-rule=\"evenodd\" fill-opacity=\"1\" /><polyline clip-path=\"url(#clip570)\" style=\"stroke:#3da44d; stroke-width:4; stroke-opacity:1; fill:none\" points=\"\n",
       "  1896.05,277.81 2047.1,277.81 \n",
       "  \"/>\n",
       "<path clip-path=\"url(#clip570)\" d=\"M 0 0 M2074.36 273.793 Q2075.77 271.432 2079.27 269.349 Q2080.63 268.539 2084.84 268.539 Q2089.57 268.539 2092.51 272.289 Q2095.47 276.039 2095.47 282.15 Q2095.47 288.261 2092.51 292.011 Q2089.57 295.761 2084.84 295.761 Q2082 295.761 2079.94 294.65 Q2077.9 293.515 2076.56 291.201 L2076.56 304.951 L2072.27 304.951 L2072.27 282.381 Q2072.27 277.034 2074.36 273.793 M2091.05 282.15 Q2091.05 277.451 2089.1 274.789 Q2087.18 272.104 2083.8 272.104 Q2080.42 272.104 2078.48 274.789 Q2076.56 277.451 2076.56 282.15 Q2076.56 286.849 2078.48 289.534 Q2080.42 292.196 2083.8 292.196 Q2087.18 292.196 2089.1 289.534 Q2091.05 286.849 2091.05 282.15 Z\" fill=\"#000000\" fill-rule=\"evenodd\" fill-opacity=\"1\" /></svg>\n"
      ],
      "image/svg+xml": [
       "<?xml version=\"1.0\" encoding=\"utf-8\"?>\n",
       "<svg xmlns=\"http://www.w3.org/2000/svg\" xmlns:xlink=\"http://www.w3.org/1999/xlink\" width=\"600\" height=\"400\" viewBox=\"0 0 2400 1600\">\n",
       "<defs>\n",
       "  <clipPath id=\"clip540\">\n",
       "    <rect x=\"0\" y=\"0\" width=\"2400\" height=\"1600\"/>\n",
       "  </clipPath>\n",
       "</defs>\n",
       "<path clip-path=\"url(#clip540)\" d=\"\n",
       "M0 1600 L2400 1600 L2400 0 L0 0  Z\n",
       "  \" fill=\"#ffffff\" fill-rule=\"evenodd\" fill-opacity=\"1\"/>\n",
       "<defs>\n",
       "  <clipPath id=\"clip541\">\n",
       "    <rect x=\"480\" y=\"0\" width=\"1681\" height=\"1600\"/>\n",
       "  </clipPath>\n",
       "</defs>\n",
       "<path clip-path=\"url(#clip540)\" d=\"\n",
       "M86.9921 1521.01 L2352.76 1521.01 L2352.76 47.2441 L86.9921 47.2441  Z\n",
       "  \" fill=\"#ffffff\" fill-rule=\"evenodd\" fill-opacity=\"1\"/>\n",
       "<defs>\n",
       "  <clipPath id=\"clip542\">\n",
       "    <rect x=\"86\" y=\"47\" width=\"2267\" height=\"1475\"/>\n",
       "  </clipPath>\n",
       "</defs>\n",
       "<polyline clip-path=\"url(#clip542)\" style=\"stroke:#000000; stroke-width:2; stroke-opacity:0.1; fill:none\" points=\"\n",
       "  151.118,1521.01 151.118,47.2441 \n",
       "  \"/>\n",
       "<polyline clip-path=\"url(#clip542)\" style=\"stroke:#000000; stroke-width:2; stroke-opacity:0.1; fill:none\" points=\"\n",
       "  687.981,1521.01 687.981,47.2441 \n",
       "  \"/>\n",
       "<polyline clip-path=\"url(#clip542)\" style=\"stroke:#000000; stroke-width:2; stroke-opacity:0.1; fill:none\" points=\"\n",
       "  1224.84,1521.01 1224.84,47.2441 \n",
       "  \"/>\n",
       "<polyline clip-path=\"url(#clip542)\" style=\"stroke:#000000; stroke-width:2; stroke-opacity:0.1; fill:none\" points=\"\n",
       "  1761.71,1521.01 1761.71,47.2441 \n",
       "  \"/>\n",
       "<polyline clip-path=\"url(#clip542)\" style=\"stroke:#000000; stroke-width:2; stroke-opacity:0.1; fill:none\" points=\"\n",
       "  2298.57,1521.01 2298.57,47.2441 \n",
       "  \"/>\n",
       "<polyline clip-path=\"url(#clip540)\" style=\"stroke:#000000; stroke-width:4; stroke-opacity:1; fill:none\" points=\"\n",
       "  86.9921,1521.01 2352.76,1521.01 \n",
       "  \"/>\n",
       "<polyline clip-path=\"url(#clip540)\" style=\"stroke:#000000; stroke-width:4; stroke-opacity:1; fill:none\" points=\"\n",
       "  151.118,1521.01 151.118,1503.32 \n",
       "  \"/>\n",
       "<polyline clip-path=\"url(#clip540)\" style=\"stroke:#000000; stroke-width:4; stroke-opacity:1; fill:none\" points=\"\n",
       "  687.981,1521.01 687.981,1503.32 \n",
       "  \"/>\n",
       "<polyline clip-path=\"url(#clip540)\" style=\"stroke:#000000; stroke-width:4; stroke-opacity:1; fill:none\" points=\"\n",
       "  1224.84,1521.01 1224.84,1503.32 \n",
       "  \"/>\n",
       "<polyline clip-path=\"url(#clip540)\" style=\"stroke:#000000; stroke-width:4; stroke-opacity:1; fill:none\" points=\"\n",
       "  1761.71,1521.01 1761.71,1503.32 \n",
       "  \"/>\n",
       "<polyline clip-path=\"url(#clip540)\" style=\"stroke:#000000; stroke-width:4; stroke-opacity:1; fill:none\" points=\"\n",
       "  2298.57,1521.01 2298.57,1503.32 \n",
       "  \"/>\n",
       "<path clip-path=\"url(#clip540)\" d=\"M 0 0 M132.634 1550.2 Q129.023 1550.2 127.194 1553.76 Q125.388 1557.31 125.388 1564.43 Q125.388 1571.54 127.194 1575.11 Q129.023 1578.65 132.634 1578.65 Q136.268 1578.65 138.074 1575.11 Q139.902 1571.54 139.902 1564.43 Q139.902 1557.31 138.074 1553.76 Q136.268 1550.2 132.634 1550.2 M132.634 1546.49 Q138.444 1546.49 141.5 1551.1 Q144.578 1555.68 144.578 1564.43 Q144.578 1573.16 141.5 1577.77 Q138.444 1582.35 132.634 1582.35 Q126.824 1582.35 123.745 1577.77 Q120.689 1573.16 120.689 1564.43 Q120.689 1555.68 123.745 1551.1 Q126.824 1546.49 132.634 1546.49 Z\" fill=\"#000000\" fill-rule=\"evenodd\" fill-opacity=\"1\" /><path clip-path=\"url(#clip540)\" d=\"M 0 0 M149.648 1575.8 L154.532 1575.8 L154.532 1581.68 L149.648 1581.68 L149.648 1575.8 Z\" fill=\"#000000\" fill-rule=\"evenodd\" fill-opacity=\"1\" /><path clip-path=\"url(#clip540)\" d=\"M 0 0 M169.601 1550.2 Q165.99 1550.2 164.161 1553.76 Q162.356 1557.31 162.356 1564.43 Q162.356 1571.54 164.161 1575.11 Q165.99 1578.65 169.601 1578.65 Q173.235 1578.65 175.041 1575.11 Q176.87 1571.54 176.87 1564.43 Q176.87 1557.31 175.041 1553.76 Q173.235 1550.2 169.601 1550.2 M169.601 1546.49 Q175.411 1546.49 178.467 1551.1 Q181.546 1555.68 181.546 1564.43 Q181.546 1573.16 178.467 1577.77 Q175.411 1582.35 169.601 1582.35 Q163.791 1582.35 160.712 1577.77 Q157.657 1573.16 157.657 1564.43 Q157.657 1555.68 160.712 1551.1 Q163.791 1546.49 169.601 1546.49 Z\" fill=\"#000000\" fill-rule=\"evenodd\" fill-opacity=\"1\" /><path clip-path=\"url(#clip540)\" d=\"M 0 0 M664.648 1577.74 L680.967 1577.74 L680.967 1581.68 L659.023 1581.68 L659.023 1577.74 Q661.685 1574.99 666.268 1570.36 Q670.875 1565.71 672.055 1564.37 Q674.301 1561.84 675.18 1560.11 Q676.083 1558.35 676.083 1556.66 Q676.083 1553.9 674.139 1552.17 Q672.217 1550.43 669.116 1550.43 Q666.917 1550.43 664.463 1551.19 Q662.032 1551.96 659.255 1553.51 L659.255 1548.79 Q662.079 1547.65 664.532 1547.07 Q666.986 1546.49 669.023 1546.49 Q674.393 1546.49 677.588 1549.18 Q680.782 1551.87 680.782 1556.36 Q680.782 1558.49 679.972 1560.41 Q679.185 1562.3 677.079 1564.9 Q676.5 1565.57 673.398 1568.79 Q670.296 1571.98 664.648 1577.74 Z\" fill=\"#000000\" fill-rule=\"evenodd\" fill-opacity=\"1\" /><path clip-path=\"url(#clip540)\" d=\"M 0 0 M686.037 1575.8 L690.921 1575.8 L690.921 1581.68 L686.037 1581.68 L686.037 1575.8 Z\" fill=\"#000000\" fill-rule=\"evenodd\" fill-opacity=\"1\" /><path clip-path=\"url(#clip540)\" d=\"M 0 0 M696.037 1547.12 L714.393 1547.12 L714.393 1551.06 L700.319 1551.06 L700.319 1559.53 Q701.338 1559.18 702.356 1559.02 Q703.375 1558.83 704.393 1558.83 Q710.18 1558.83 713.56 1562 Q716.939 1565.18 716.939 1570.59 Q716.939 1576.17 713.467 1579.27 Q709.995 1582.35 703.676 1582.35 Q701.5 1582.35 699.231 1581.98 Q696.986 1581.61 694.578 1580.87 L694.578 1576.17 Q696.662 1577.3 698.884 1577.86 Q701.106 1578.42 703.583 1578.42 Q707.588 1578.42 709.926 1576.31 Q712.264 1574.2 712.264 1570.59 Q712.264 1566.98 709.926 1564.87 Q707.588 1562.77 703.583 1562.77 Q701.708 1562.77 699.833 1563.18 Q697.981 1563.6 696.037 1564.48 L696.037 1547.12 Z\" fill=\"#000000\" fill-rule=\"evenodd\" fill-opacity=\"1\" /><path clip-path=\"url(#clip540)\" d=\"M 0 0 M1196.64 1547.12 L1215 1547.12 L1215 1551.06 L1200.92 1551.06 L1200.92 1559.53 Q1201.94 1559.18 1202.96 1559.02 Q1203.98 1558.83 1205 1558.83 Q1210.78 1558.83 1214.16 1562 Q1217.54 1565.18 1217.54 1570.59 Q1217.54 1576.17 1214.07 1579.27 Q1210.6 1582.35 1204.28 1582.35 Q1202.1 1582.35 1199.83 1581.98 Q1197.59 1581.61 1195.18 1580.87 L1195.18 1576.17 Q1197.26 1577.3 1199.49 1577.86 Q1201.71 1578.42 1204.19 1578.42 Q1208.19 1578.42 1210.53 1576.31 Q1212.87 1574.2 1212.87 1570.59 Q1212.87 1566.98 1210.53 1564.87 Q1208.19 1562.77 1204.19 1562.77 Q1202.31 1562.77 1200.44 1563.18 Q1198.58 1563.6 1196.64 1564.48 L1196.64 1547.12 Z\" fill=\"#000000\" fill-rule=\"evenodd\" fill-opacity=\"1\" /><path clip-path=\"url(#clip540)\" d=\"M 0 0 M1222.61 1575.8 L1227.5 1575.8 L1227.5 1581.68 L1222.61 1581.68 L1222.61 1575.8 Z\" fill=\"#000000\" fill-rule=\"evenodd\" fill-opacity=\"1\" /><path clip-path=\"url(#clip540)\" d=\"M 0 0 M1242.56 1550.2 Q1238.95 1550.2 1237.13 1553.76 Q1235.32 1557.31 1235.32 1564.43 Q1235.32 1571.54 1237.13 1575.11 Q1238.95 1578.65 1242.56 1578.65 Q1246.2 1578.65 1248 1575.11 Q1249.83 1571.54 1249.83 1564.43 Q1249.83 1557.31 1248 1553.76 Q1246.2 1550.2 1242.56 1550.2 M1242.56 1546.49 Q1248.37 1546.49 1251.43 1551.1 Q1254.51 1555.68 1254.51 1564.43 Q1254.51 1573.16 1251.43 1577.77 Q1248.37 1582.35 1242.56 1582.35 Q1236.75 1582.35 1233.68 1577.77 Q1230.62 1573.16 1230.62 1564.43 Q1230.62 1555.68 1233.68 1551.1 Q1236.75 1546.49 1242.56 1546.49 Z\" fill=\"#000000\" fill-rule=\"evenodd\" fill-opacity=\"1\" /><path clip-path=\"url(#clip540)\" d=\"M 0 0 M1732.61 1547.12 L1754.83 1547.12 L1754.83 1549.11 L1742.29 1581.68 L1737.4 1581.68 L1749.21 1551.06 L1732.61 1551.06 L1732.61 1547.12 Z\" fill=\"#000000\" fill-rule=\"evenodd\" fill-opacity=\"1\" /><path clip-path=\"url(#clip540)\" d=\"M 0 0 M1759.9 1575.8 L1764.79 1575.8 L1764.79 1581.68 L1759.9 1581.68 L1759.9 1575.8 Z\" fill=\"#000000\" fill-rule=\"evenodd\" fill-opacity=\"1\" /><path clip-path=\"url(#clip540)\" d=\"M 0 0 M1769.9 1547.12 L1788.26 1547.12 L1788.26 1551.06 L1774.19 1551.06 L1774.19 1559.53 Q1775.2 1559.18 1776.22 1559.02 Q1777.24 1558.83 1778.26 1558.83 Q1784.05 1558.83 1787.43 1562 Q1790.81 1565.18 1790.81 1570.59 Q1790.81 1576.17 1787.33 1579.27 Q1783.86 1582.35 1777.54 1582.35 Q1775.37 1582.35 1773.1 1581.98 Q1770.85 1581.61 1768.44 1580.87 L1768.44 1576.17 Q1770.53 1577.3 1772.75 1577.86 Q1774.97 1578.42 1777.45 1578.42 Q1781.45 1578.42 1783.79 1576.31 Q1786.13 1574.2 1786.13 1570.59 Q1786.13 1566.98 1783.79 1564.87 Q1781.45 1562.77 1777.45 1562.77 Q1775.57 1562.77 1773.7 1563.18 Q1771.85 1563.6 1769.9 1564.48 L1769.9 1547.12 Z\" fill=\"#000000\" fill-rule=\"evenodd\" fill-opacity=\"1\" /><path clip-path=\"url(#clip540)\" d=\"M 0 0 M2256.96 1577.74 L2264.6 1577.74 L2264.6 1551.38 L2256.29 1553.05 L2256.29 1548.79 L2264.56 1547.12 L2269.23 1547.12 L2269.23 1577.74 L2276.87 1577.74 L2276.87 1581.68 L2256.96 1581.68 L2256.96 1577.74 Z\" fill=\"#000000\" fill-rule=\"evenodd\" fill-opacity=\"1\" /><path clip-path=\"url(#clip540)\" d=\"M 0 0 M2291.94 1550.2 Q2288.33 1550.2 2286.5 1553.76 Q2284.7 1557.31 2284.7 1564.43 Q2284.7 1571.54 2286.5 1575.11 Q2288.33 1578.65 2291.94 1578.65 Q2295.57 1578.65 2297.38 1575.11 Q2299.21 1571.54 2299.21 1564.43 Q2299.21 1557.31 2297.38 1553.76 Q2295.57 1550.2 2291.94 1550.2 M2291.94 1546.49 Q2297.75 1546.49 2300.81 1551.1 Q2303.88 1555.68 2303.88 1564.43 Q2303.88 1573.16 2300.81 1577.77 Q2297.75 1582.35 2291.94 1582.35 Q2286.13 1582.35 2283.05 1577.77 Q2280 1573.16 2280 1564.43 Q2280 1555.68 2283.05 1551.1 Q2286.13 1546.49 2291.94 1546.49 Z\" fill=\"#000000\" fill-rule=\"evenodd\" fill-opacity=\"1\" /><path clip-path=\"url(#clip540)\" d=\"M 0 0 M2308.95 1575.8 L2313.84 1575.8 L2313.84 1581.68 L2308.95 1581.68 L2308.95 1575.8 Z\" fill=\"#000000\" fill-rule=\"evenodd\" fill-opacity=\"1\" /><path clip-path=\"url(#clip540)\" d=\"M 0 0 M2328.91 1550.2 Q2325.3 1550.2 2323.47 1553.76 Q2321.66 1557.31 2321.66 1564.43 Q2321.66 1571.54 2323.47 1575.11 Q2325.3 1578.65 2328.91 1578.65 Q2332.54 1578.65 2334.35 1575.11 Q2336.18 1571.54 2336.18 1564.43 Q2336.18 1557.31 2334.35 1553.76 Q2332.54 1550.2 2328.91 1550.2 M2328.91 1546.49 Q2334.72 1546.49 2337.77 1551.1 Q2340.85 1555.68 2340.85 1564.43 Q2340.85 1573.16 2337.77 1577.77 Q2334.72 1582.35 2328.91 1582.35 Q2323.1 1582.35 2320.02 1577.77 Q2316.96 1573.16 2316.96 1564.43 Q2316.96 1555.68 2320.02 1551.1 Q2323.1 1546.49 2328.91 1546.49 Z\" fill=\"#000000\" fill-rule=\"evenodd\" fill-opacity=\"1\" /><polyline clip-path=\"url(#clip542)\" style=\"stroke:#000000; stroke-width:2; stroke-opacity:0.1; fill:none\" points=\"\n",
       "  86.9921,1479.3 2352.76,1479.3 \n",
       "  \"/>\n",
       "<polyline clip-path=\"url(#clip542)\" style=\"stroke:#000000; stroke-width:2; stroke-opacity:0.1; fill:none\" points=\"\n",
       "  86.9921,1107.38 2352.76,1107.38 \n",
       "  \"/>\n",
       "<polyline clip-path=\"url(#clip542)\" style=\"stroke:#000000; stroke-width:2; stroke-opacity:0.1; fill:none\" points=\"\n",
       "  86.9921,735.461 2352.76,735.461 \n",
       "  \"/>\n",
       "<polyline clip-path=\"url(#clip542)\" style=\"stroke:#000000; stroke-width:2; stroke-opacity:0.1; fill:none\" points=\"\n",
       "  86.9921,363.543 2352.76,363.543 \n",
       "  \"/>\n",
       "<polyline clip-path=\"url(#clip540)\" style=\"stroke:#000000; stroke-width:4; stroke-opacity:1; fill:none\" points=\"\n",
       "  86.9921,1521.01 86.9921,47.2441 \n",
       "  \"/>\n",
       "<polyline clip-path=\"url(#clip540)\" style=\"stroke:#000000; stroke-width:4; stroke-opacity:1; fill:none\" points=\"\n",
       "  86.9921,1479.3 114.181,1479.3 \n",
       "  \"/>\n",
       "<polyline clip-path=\"url(#clip540)\" style=\"stroke:#000000; stroke-width:4; stroke-opacity:1; fill:none\" points=\"\n",
       "  86.9921,1107.38 114.181,1107.38 \n",
       "  \"/>\n",
       "<polyline clip-path=\"url(#clip540)\" style=\"stroke:#000000; stroke-width:4; stroke-opacity:1; fill:none\" points=\"\n",
       "  86.9921,735.461 114.181,735.461 \n",
       "  \"/>\n",
       "<polyline clip-path=\"url(#clip540)\" style=\"stroke:#000000; stroke-width:4; stroke-opacity:1; fill:none\" points=\"\n",
       "  86.9921,363.543 114.181,363.543 \n",
       "  \"/>\n",
       "<path clip-path=\"url(#clip540)\" d=\"M 0 0 M2.08035 1465.1 Q-1.53074 1465.1 -3.35943 1468.66 Q-5.16498 1472.2 -5.16498 1479.33 Q-5.16498 1486.44 -3.35943 1490 Q-1.53074 1493.55 2.08035 1493.55 Q5.71459 1493.55 7.52014 1490 Q9.34883 1486.44 9.34883 1479.33 Q9.34883 1472.2 7.52014 1468.66 Q5.71459 1465.1 2.08035 1465.1 M2.08035 1461.39 Q7.89051 1461.39 10.946 1466 Q14.0247 1470.58 14.0247 1479.33 Q14.0247 1488.06 10.946 1492.67 Q7.89051 1497.25 2.08035 1497.25 Q-3.7298 1497.25 -6.80849 1492.67 Q-9.86403 1488.06 -9.86403 1479.33 Q-9.86403 1470.58 -6.80849 1466 Q-3.7298 1461.39 2.08035 1461.39 Z\" fill=\"#000000\" fill-rule=\"evenodd\" fill-opacity=\"1\" /><path clip-path=\"url(#clip540)\" d=\"M 0 0 M19.0941 1490.7 L23.9784 1490.7 L23.9784 1496.58 L19.0941 1496.58 L19.0941 1490.7 Z\" fill=\"#000000\" fill-rule=\"evenodd\" fill-opacity=\"1\" /><path clip-path=\"url(#clip540)\" d=\"M 0 0 M39.0477 1465.1 Q35.4367 1465.1 33.608 1468.66 Q31.8024 1472.2 31.8024 1479.33 Q31.8024 1486.44 33.608 1490 Q35.4367 1493.55 39.0477 1493.55 Q42.682 1493.55 44.4875 1490 Q46.3162 1486.44 46.3162 1479.33 Q46.3162 1472.2 44.4875 1468.66 Q42.682 1465.1 39.0477 1465.1 M39.0477 1461.39 Q44.8579 1461.39 47.9134 1466 Q50.9921 1470.58 50.9921 1479.33 Q50.9921 1488.06 47.9134 1492.67 Q44.8579 1497.25 39.0477 1497.25 Q33.2376 1497.25 30.1589 1492.67 Q27.1034 1488.06 27.1034 1479.33 Q27.1034 1470.58 30.1589 1466 Q33.2376 1461.39 39.0477 1461.39 Z\" fill=\"#000000\" fill-rule=\"evenodd\" fill-opacity=\"1\" /><path clip-path=\"url(#clip540)\" d=\"M 0 0 M3.67756 1093.18 Q0.0664729 1093.18 -1.76222 1096.74 Q-3.56777 1100.28 -3.56777 1107.41 Q-3.56777 1114.52 -1.76222 1118.09 Q0.0664729 1121.63 3.67756 1121.63 Q7.3118 1121.63 9.11735 1118.09 Q10.946 1114.52 10.946 1107.41 Q10.946 1100.28 9.11735 1096.74 Q7.3118 1093.18 3.67756 1093.18 M3.67756 1089.47 Q9.48772 1089.47 12.5433 1094.08 Q15.6219 1098.66 15.6219 1107.41 Q15.6219 1116.14 12.5433 1120.75 Q9.48772 1125.33 3.67756 1125.33 Q-2.13259 1125.33 -5.21128 1120.75 Q-8.26682 1116.14 -8.26682 1107.41 Q-8.26682 1098.66 -5.21128 1094.08 Q-2.13259 1089.47 3.67756 1089.47 Z\" fill=\"#000000\" fill-rule=\"evenodd\" fill-opacity=\"1\" /><path clip-path=\"url(#clip540)\" d=\"M 0 0 M20.6914 1118.78 L25.5756 1118.78 L25.5756 1124.66 L20.6914 1124.66 L20.6914 1118.78 Z\" fill=\"#000000\" fill-rule=\"evenodd\" fill-opacity=\"1\" /><path clip-path=\"url(#clip540)\" d=\"M 0 0 M34.6728 1120.72 L50.9921 1120.72 L50.9921 1124.66 L29.0478 1124.66 L29.0478 1120.72 Q31.7098 1117.97 36.2931 1113.34 Q40.8996 1108.69 42.0801 1107.34 Q44.3255 1104.82 45.2051 1103.09 Q46.1079 1101.33 46.1079 1099.64 Q46.1079 1096.88 44.1635 1095.15 Q42.2422 1093.41 39.1403 1093.41 Q36.9413 1093.41 34.4876 1094.17 Q32.057 1094.94 29.2793 1096.49 L29.2793 1091.77 Q32.1033 1090.63 34.557 1090.05 Q37.0107 1089.47 39.0477 1089.47 Q44.4181 1089.47 47.6125 1092.16 Q50.8069 1094.84 50.8069 1099.34 Q50.8069 1101.46 49.9968 1103.39 Q49.2097 1105.28 47.1033 1107.88 Q46.5246 1108.55 43.4227 1111.77 Q40.3209 1114.96 34.6728 1120.72 Z\" fill=\"#000000\" fill-rule=\"evenodd\" fill-opacity=\"1\" /><path clip-path=\"url(#clip540)\" d=\"M 0 0 M1.59424 721.26 Q-2.01685 721.26 -3.84554 724.825 Q-5.65109 728.366 -5.65109 735.496 Q-5.65109 742.602 -3.84554 746.167 Q-2.01685 749.709 1.59424 749.709 Q5.22848 749.709 7.03403 746.167 Q8.86272 742.602 8.86272 735.496 Q8.86272 728.366 7.03403 724.825 Q5.22848 721.26 1.59424 721.26 M1.59424 717.556 Q7.4044 717.556 10.4599 722.162 Q13.5386 726.746 13.5386 735.496 Q13.5386 744.223 10.4599 748.829 Q7.4044 753.412 1.59424 753.412 Q-4.21591 753.412 -7.2946 748.829 Q-10.3501 744.223 -10.3501 735.496 Q-10.3501 726.746 -7.2946 722.162 Q-4.21591 717.556 1.59424 717.556 Z\" fill=\"#000000\" fill-rule=\"evenodd\" fill-opacity=\"1\" /><path clip-path=\"url(#clip540)\" d=\"M 0 0 M18.608 746.861 L23.4923 746.861 L23.4923 752.741 L18.608 752.741 L18.608 746.861 Z\" fill=\"#000000\" fill-rule=\"evenodd\" fill-opacity=\"1\" /><path clip-path=\"url(#clip540)\" d=\"M 0 0 M41.4088 722.255 L29.6034 740.704 L41.4088 740.704 L41.4088 722.255 M40.182 718.181 L46.0616 718.181 L46.0616 740.704 L50.9921 740.704 L50.9921 744.593 L46.0616 744.593 L46.0616 752.741 L41.4088 752.741 L41.4088 744.593 L25.8071 744.593 L25.8071 740.079 L40.182 718.181 Z\" fill=\"#000000\" fill-rule=\"evenodd\" fill-opacity=\"1\" /><path clip-path=\"url(#clip540)\" d=\"M 0 0 M1.91831 349.341 Q-1.69278 349.341 -3.52147 352.906 Q-5.32702 356.448 -5.32702 363.578 Q-5.32702 370.684 -3.52147 374.249 Q-1.69278 377.79 1.91831 377.79 Q5.55255 377.79 7.3581 374.249 Q9.18679 370.684 9.18679 363.578 Q9.18679 356.448 7.3581 352.906 Q5.55255 349.341 1.91831 349.341 M1.91831 345.638 Q7.72847 345.638 10.784 350.244 Q13.8627 354.828 13.8627 363.578 Q13.8627 372.304 10.784 376.911 Q7.72847 381.494 1.91831 381.494 Q-3.89184 381.494 -6.97053 376.911 Q-10.0261 372.304 -10.0261 363.578 Q-10.0261 354.828 -6.97053 350.244 Q-3.89184 345.638 1.91831 345.638 Z\" fill=\"#000000\" fill-rule=\"evenodd\" fill-opacity=\"1\" /><path clip-path=\"url(#clip540)\" d=\"M 0 0 M18.9321 374.943 L23.8163 374.943 L23.8163 380.823 L18.9321 380.823 L18.9321 374.943 Z\" fill=\"#000000\" fill-rule=\"evenodd\" fill-opacity=\"1\" /><path clip-path=\"url(#clip540)\" d=\"M 0 0 M39.4644 361.679 Q36.3163 361.679 34.4644 363.832 Q32.6357 365.985 32.6357 369.735 Q32.6357 373.462 34.4644 375.638 Q36.3163 377.79 39.4644 377.79 Q42.6125 377.79 44.4412 375.638 Q46.2931 373.462 46.2931 369.735 Q46.2931 365.985 44.4412 363.832 Q42.6125 361.679 39.4644 361.679 M48.7468 347.027 L48.7468 351.286 Q46.9875 350.453 45.182 350.013 Q43.3996 349.573 41.6403 349.573 Q37.0107 349.573 34.557 352.698 Q32.1265 355.823 31.7793 362.142 Q33.145 360.128 35.2052 359.064 Q37.2653 357.976 39.7422 357.976 Q44.9505 357.976 47.9597 361.147 Q50.9921 364.295 50.9921 369.735 Q50.9921 375.059 47.844 378.276 Q44.6959 381.494 39.4644 381.494 Q33.4691 381.494 30.2978 376.911 Q27.1265 372.304 27.1265 363.578 Q27.1265 355.383 31.0154 350.522 Q34.9042 345.638 41.4551 345.638 Q43.2144 345.638 44.9968 345.985 Q46.8023 346.332 48.7468 347.027 Z\" fill=\"#000000\" fill-rule=\"evenodd\" fill-opacity=\"1\" /><polyline clip-path=\"url(#clip542)\" style=\"stroke:#009af9; stroke-width:4; stroke-opacity:1; fill:none\" points=\"\n",
       "  151.118,1479.3 161.059,1479.3 171.001,1479.3 180.943,1479.3 190.885,1479.3 200.827,1479.3 210.769,1479.3 220.711,1479.3 230.653,1479.3 240.595,1479.3 \n",
       "  250.537,1479.3 260.479,1479.3 270.421,1479.29 280.362,1479.29 290.304,1479.29 300.246,1479.29 310.188,1479.29 320.13,1479.28 330.072,1479.28 340.014,1479.27 \n",
       "  349.956,1479.27 359.898,1479.26 369.84,1479.25 379.782,1479.23 389.724,1479.22 399.666,1479.19 409.607,1479.16 419.549,1479.13 429.491,1479.08 439.433,1479.03 \n",
       "  449.375,1478.95 459.317,1478.87 469.259,1478.76 479.201,1478.63 489.143,1478.46 499.085,1478.26 509.027,1478.02 518.969,1477.72 528.911,1477.36 538.852,1476.93 \n",
       "  548.794,1476.4 558.736,1475.78 568.678,1475.03 578.62,1474.14 588.562,1473.08 598.504,1471.83 608.446,1470.36 618.388,1468.63 628.33,1466.61 638.272,1464.25 \n",
       "  648.214,1461.51 658.155,1458.33 668.097,1454.67 678.039,1450.47 687.981,1445.65 697.923,1440.15 707.865,1433.91 717.807,1426.83 727.749,1418.85 737.691,1409.89 \n",
       "  747.633,1399.85 757.575,1388.66 767.517,1376.22 777.459,1362.47 787.4,1347.31 797.342,1330.68 807.284,1312.5 817.226,1292.72 827.168,1271.28 837.11,1248.14 \n",
       "  847.052,1223.27 856.994,1196.67 866.936,1168.34 876.878,1138.29 886.82,1106.58 896.762,1073.25 906.704,1038.39 916.645,1002.11 926.587,964.505 936.529,925.73 \n",
       "  946.471,885.935 956.413,845.288 966.355,803.974 976.297,762.188 986.239,720.132 996.181,678.015 1006.12,636.049 1016.06,594.446 1026.01,553.416 1035.95,513.162 \n",
       "  1045.89,473.884 1055.83,435.769 1065.77,398.994 1075.72,363.725 1085.66,330.115 1095.6,298.302 1105.54,268.414 1115.48,240.562 1125.43,214.845 1135.37,191.35 \n",
       "  1145.31,170.152 1155.25,151.313 1165.19,134.889 1175.14,120.922 1185.08,109.449 1195.02,100.498 1204.96,94.0896 1214.9,90.2389 1224.84,88.9544 1234.79,90.2389 \n",
       "  1244.73,94.0896 1254.67,100.498 1264.61,109.449 1274.55,120.922 1284.5,134.889 1294.44,151.313 1304.38,170.152 1314.32,191.35 1324.26,214.845 1334.21,240.562 \n",
       "  1344.15,268.414 1354.09,298.302 1364.03,330.115 1373.97,363.725 1383.92,398.994 1393.86,435.769 1403.8,473.884 1413.74,513.162 1423.68,553.416 1433.63,594.446 \n",
       "  1443.57,636.049 1453.51,678.015 1463.45,720.132 1473.39,762.188 1483.33,803.974 1493.28,845.288 1503.22,885.935 1513.16,925.73 1523.1,964.505 1533.04,1002.11 \n",
       "  1542.99,1038.39 1552.93,1073.25 1562.87,1106.58 1572.81,1138.29 1582.75,1168.34 1592.7,1196.67 1602.64,1223.27 1612.58,1248.14 1622.52,1271.28 1632.46,1292.72 \n",
       "  1642.41,1312.5 1652.35,1330.68 1662.29,1347.31 1672.23,1362.47 1682.17,1376.22 1692.12,1388.66 1702.06,1399.85 1712,1409.89 1721.94,1418.85 1731.88,1426.83 \n",
       "  1741.82,1433.91 1751.77,1440.15 1761.71,1445.65 1771.65,1450.47 1781.59,1454.67 1791.53,1458.33 1801.48,1461.51 1811.42,1464.25 1821.36,1466.61 1831.3,1468.63 \n",
       "  1841.24,1470.36 1851.19,1471.83 1861.13,1473.08 1871.07,1474.14 1881.01,1475.03 1890.95,1475.78 1900.9,1476.4 1910.84,1476.93 1920.78,1477.36 1930.72,1477.72 \n",
       "  1940.66,1478.02 1950.61,1478.26 1960.55,1478.46 1970.49,1478.63 1980.43,1478.76 1990.37,1478.87 2000.31,1478.95 2010.26,1479.03 2020.2,1479.08 2030.14,1479.13 \n",
       "  2040.08,1479.16 2050.02,1479.19 2059.97,1479.22 2069.91,1479.23 2079.85,1479.25 2089.79,1479.26 2099.73,1479.27 2109.68,1479.27 2119.62,1479.28 2129.56,1479.28 \n",
       "  2139.5,1479.29 2149.44,1479.29 2159.39,1479.29 2169.33,1479.29 2179.27,1479.29 2189.21,1479.3 2199.15,1479.3 2209.1,1479.3 2219.04,1479.3 2228.98,1479.3 \n",
       "  2238.92,1479.3 2248.86,1479.3 2258.8,1479.3 2268.75,1479.3 2278.69,1479.3 2288.63,1479.3 \n",
       "  \"/>\n",
       "<polyline clip-path=\"url(#clip542)\" style=\"stroke:#e26f46; stroke-width:4; stroke-opacity:1; fill:none\" points=\"\n",
       "  151.118,1479.3 161.059,1479.3 171.001,1479.3 180.943,1479.3 190.885,1479.3 200.827,1479.3 210.769,1479.3 220.711,1479.3 230.653,1479.3 240.595,1479.3 \n",
       "  250.537,1479.3 260.479,1479.3 270.421,1479.3 280.362,1479.3 290.304,1479.3 300.246,1479.3 310.188,1479.3 320.13,1479.3 330.072,1479.3 340.014,1479.3 \n",
       "  349.956,1479.3 359.898,1479.3 369.84,1479.3 379.782,1479.3 389.724,1479.3 399.666,1479.3 409.607,1479.3 419.549,1479.3 429.491,1479.3 439.433,1479.3 \n",
       "  449.375,1479.3 459.317,1479.3 469.259,1479.3 479.201,1479.3 489.143,1479.3 499.085,1479.3 509.027,1479.3 518.969,1479.3 528.911,1479.3 538.852,1479.3 \n",
       "  548.794,1479.3 558.736,1479.3 568.678,1479.3 578.62,1479.3 588.562,1479.3 598.504,1479.3 608.446,1479.3 618.388,1479.3 628.33,1479.3 638.272,1479.3 \n",
       "  648.214,1479.3 658.155,1479.3 668.097,1479.3 678.039,1479.3 687.981,1479.3 697.923,1479.3 707.865,1479.3 717.807,1479.3 727.749,1479.3 737.691,1479.3 \n",
       "  747.633,1479.3 757.575,1479.3 767.517,1479.3 777.459,1479.3 787.4,1479.3 797.342,1479.3 807.284,1479.3 817.226,1479.3 827.168,1479.3 837.11,1479.3 \n",
       "  847.052,1479.3 856.994,1479.3 866.936,1479.3 876.878,1479.3 886.82,1479.3 896.762,1479.3 906.704,1479.3 916.645,1479.3 926.587,1479.3 936.529,1479.3 \n",
       "  946.471,1479.3 956.413,1479.3 966.355,1479.3 976.297,1479.3 986.239,1479.3 996.181,1479.3 1006.12,1479.3 1016.06,1479.3 1026.01,1479.3 1035.95,1479.3 \n",
       "  1045.89,1479.3 1055.83,1479.3 1065.77,1479.3 1075.72,1479.3 1085.66,1479.3 1095.6,1479.3 1105.54,1479.3 1115.48,1479.3 1125.43,1479.3 1135.37,1479.3 \n",
       "  1145.31,1479.3 1155.25,1479.3 1165.19,1479.3 1175.14,1479.3 1185.08,1479.3 1195.02,1479.3 1204.96,1479.3 1214.9,1479.3 1224.84,1479.3 1234.79,1479.3 \n",
       "  1244.73,1479.3 1254.67,1479.3 1264.61,1479.3 1274.55,1479.3 1284.5,1479.3 1294.44,1479.3 1304.38,1479.3 1314.32,1479.3 1324.26,1479.3 1334.21,1479.3 \n",
       "  1344.15,1479.3 1354.09,1479.3 1364.03,1479.3 1373.97,1479.3 1383.92,1479.3 1393.86,1479.3 1403.8,1479.3 1413.74,1479.3 1423.68,1479.3 1433.63,1479.3 \n",
       "  1443.57,1479.3 1453.51,1479.3 1463.45,1479.3 1473.39,1479.3 1483.33,1479.3 1493.28,1479.3 1503.22,1479.3 1513.16,1479.3 1523.1,1479.3 1533.04,1479.3 \n",
       "  1542.99,1479.3 1552.93,1479.3 1562.87,1479.3 1572.81,1479.3 1582.75,1479.3 1592.7,1479.3 1602.64,1479.3 1612.58,1479.3 1622.52,1479.3 1632.46,1479.3 \n",
       "  1642.41,1479.3 1652.35,1479.3 1662.29,1479.3 1672.23,1479.3 1682.17,1479.3 1692.12,1479.3 1702.06,1479.3 1712,1479.3 1721.94,1479.3 1731.88,1479.3 \n",
       "  1741.82,1479.3 1751.77,1479.3 1761.71,1479.3 1771.65,1479.3 1781.59,1479.3 1791.53,1479.3 1801.48,1479.3 1811.42,1479.3 1821.36,1479.3 1831.3,1479.3 \n",
       "  1841.24,1479.3 1851.19,1479.3 1861.13,1479.3 1871.07,1479.3 1881.01,1479.3 1890.95,1479.3 1900.9,1479.3 1910.84,1479.3 1920.78,1479.3 1930.72,1479.3 \n",
       "  1940.66,1479.3 1950.61,1479.3 1960.55,1479.3 1970.49,1479.3 1980.43,1479.3 1990.37,1479.3 2000.31,1479.3 2010.26,1479.3 2020.2,1479.3 2030.14,1479.3 \n",
       "  2040.08,1479.3 2050.02,1479.3 2059.97,1479.3 2069.91,1479.3 2079.85,1479.3 2089.79,1479.3 2099.73,1479.3 2109.68,1479.3 2119.62,1479.3 2129.56,1479.3 \n",
       "  2139.5,1479.3 2149.44,1479.3 2159.39,1479.3 2169.33,1479.3 2179.27,1479.3 2189.21,1479.3 2199.15,1479.3 2209.1,1479.3 2219.04,1479.3 2228.98,1479.3 \n",
       "  2238.92,1479.3 2248.86,1479.3 2258.8,1479.3 2268.75,1479.3 2278.69,1479.3 2288.63,1479.3 \n",
       "  \"/>\n",
       "<polyline clip-path=\"url(#clip542)\" style=\"stroke:#3da44d; stroke-width:4; stroke-opacity:1; fill:none\" points=\"\n",
       "  151.118,1479.3 161.059,1479.3 171.001,1479.3 180.943,1479.3 190.885,1479.3 200.827,1479.3 210.769,1479.3 220.711,1479.3 230.653,1479.3 240.595,1479.3 \n",
       "  250.537,1479.3 260.479,1479.3 270.421,1479.3 280.362,1479.3 290.304,1479.3 300.246,1479.3 310.188,1479.3 320.13,1479.3 330.072,1479.3 340.014,1479.3 \n",
       "  349.956,1479.3 359.898,1479.3 369.84,1479.3 379.782,1479.3 389.724,1479.3 399.666,1479.3 409.607,1479.3 419.549,1479.3 429.491,1479.3 439.433,1479.3 \n",
       "  449.375,1479.3 459.317,1479.3 469.259,1479.3 479.201,1479.3 489.143,1479.3 499.085,1479.3 509.027,1479.3 518.969,1479.3 528.911,1479.3 538.852,1479.29 \n",
       "  548.794,1479.29 558.736,1479.29 568.678,1479.29 578.62,1479.28 588.562,1479.28 598.504,1479.27 608.446,1479.25 618.388,1479.24 628.33,1479.21 638.272,1479.18 \n",
       "  648.214,1479.13 658.155,1479.06 668.097,1478.97 678.039,1478.85 687.981,1478.69 697.923,1478.47 707.865,1478.19 717.807,1477.82 727.749,1477.33 737.691,1476.71 \n",
       "  747.633,1475.9 757.575,1474.88 767.517,1473.58 777.459,1471.96 787.4,1469.93 797.342,1467.42 807.284,1464.34 817.226,1460.58 827.168,1456.03 837.11,1450.56 \n",
       "  847.052,1444.05 856.994,1436.34 866.936,1427.3 876.878,1416.76 886.82,1404.59 896.762,1390.64 906.704,1374.76 916.645,1356.84 926.587,1336.79 936.529,1314.51 \n",
       "  946.471,1289.97 956.413,1263.14 966.355,1234.05 976.297,1202.76 986.239,1169.37 996.181,1134.03 1006.12,1096.92 1016.06,1058.26 1026.01,1018.31 1035.95,977.35 \n",
       "  1045.89,935.707 1055.83,893.71 1065.77,851.71 1075.72,810.063 1085.66,769.13 1095.6,729.267 1105.54,690.824 1115.48,654.135 1125.43,619.517 1135.37,587.269 \n",
       "  1145.31,557.663 1155.25,530.948 1165.19,507.345 1175.14,487.045 1185.08,470.213 1195.02,456.982 1204.96,447.457 1214.9,441.713 1224.84,439.793 1234.79,441.713 \n",
       "  1244.73,447.457 1254.67,456.982 1264.61,470.213 1274.55,487.045 1284.5,507.345 1294.44,530.948 1304.38,557.663 1314.32,587.269 1324.26,619.517 1334.21,654.135 \n",
       "  1344.15,690.824 1354.09,729.267 1364.03,769.13 1373.97,810.063 1383.92,851.71 1393.86,893.71 1403.8,935.707 1413.74,977.35 1423.68,1018.31 1433.63,1058.26 \n",
       "  1443.57,1096.92 1453.51,1134.03 1463.45,1169.37 1473.39,1202.76 1483.33,1234.05 1493.28,1263.14 1503.22,1289.97 1513.16,1314.51 1523.1,1336.79 1533.04,1356.84 \n",
       "  1542.99,1374.76 1552.93,1390.64 1562.87,1404.59 1572.81,1416.76 1582.75,1427.3 1592.7,1436.34 1602.64,1444.05 1612.58,1450.56 1622.52,1456.03 1632.46,1460.58 \n",
       "  1642.41,1464.34 1652.35,1467.42 1662.29,1469.93 1672.23,1471.96 1682.17,1473.58 1692.12,1474.88 1702.06,1475.9 1712,1476.71 1721.94,1477.33 1731.88,1477.82 \n",
       "  1741.82,1478.19 1751.77,1478.47 1761.71,1478.69 1771.65,1478.85 1781.59,1478.97 1791.53,1479.06 1801.48,1479.13 1811.42,1479.18 1821.36,1479.21 1831.3,1479.24 \n",
       "  1841.24,1479.25 1851.19,1479.27 1861.13,1479.28 1871.07,1479.28 1881.01,1479.29 1890.95,1479.29 1900.9,1479.29 1910.84,1479.29 1920.78,1479.3 1930.72,1479.3 \n",
       "  1940.66,1479.3 1950.61,1479.3 1960.55,1479.3 1970.49,1479.3 1980.43,1479.3 1990.37,1479.3 2000.31,1479.3 2010.26,1479.3 2020.2,1479.3 2030.14,1479.3 \n",
       "  2040.08,1479.3 2050.02,1479.3 2059.97,1479.3 2069.91,1479.3 2079.85,1479.3 2089.79,1479.3 2099.73,1479.3 2109.68,1479.3 2119.62,1479.3 2129.56,1479.3 \n",
       "  2139.5,1479.3 2149.44,1479.3 2159.39,1479.3 2169.33,1479.3 2179.27,1479.3 2189.21,1479.3 2199.15,1479.3 2209.1,1479.3 2219.04,1479.3 2228.98,1479.3 \n",
       "  2238.92,1479.3 2248.86,1479.3 2258.8,1479.3 2268.75,1479.3 2278.69,1479.3 2288.63,1479.3 \n",
       "  \"/>\n",
       "<path clip-path=\"url(#clip540)\" d=\"\n",
       "M1870.87 338.29 L2277.23 338.29 L2277.23 96.3696 L1870.87 96.3696  Z\n",
       "  \" fill=\"#ffffff\" fill-rule=\"evenodd\" fill-opacity=\"1\"/>\n",
       "<polyline clip-path=\"url(#clip540)\" style=\"stroke:#000000; stroke-width:4; stroke-opacity:1; fill:none\" points=\"\n",
       "  1870.87,338.29 2277.23,338.29 2277.23,96.3696 1870.87,96.3696 1870.87,338.29 \n",
       "  \"/>\n",
       "<polyline clip-path=\"url(#clip540)\" style=\"stroke:#009af9; stroke-width:4; stroke-opacity:1; fill:none\" points=\"\n",
       "  1896.05,156.85 2047.1,156.85 \n",
       "  \"/>\n",
       "<path clip-path=\"url(#clip540)\" d=\"M 0 0 M2087.46 152.185 Q2086.74 151.769 2085.89 151.583 Q2085.05 151.375 2084.03 151.375 Q2080.42 151.375 2078.48 153.736 Q2076.56 156.074 2076.56 160.472 L2076.56 174.13 L2072.27 174.13 L2072.27 148.204 L2076.56 148.204 L2076.56 152.232 Q2077.9 149.87 2080.05 148.736 Q2082.2 147.579 2085.28 147.579 Q2085.72 147.579 2086.26 147.648 Q2086.79 147.695 2087.44 147.81 L2087.46 152.185 Z\" fill=\"#000000\" fill-rule=\"evenodd\" fill-opacity=\"1\" /><path clip-path=\"url(#clip540)\" d=\"M 0 0 M2113.06 160.102 L2113.06 162.185 L2093.48 162.185 Q2093.76 166.583 2096.12 168.898 Q2098.5 171.19 2102.74 171.19 Q2105.19 171.19 2107.48 170.588 Q2109.8 169.986 2112.07 168.782 L2112.07 172.81 Q2109.77 173.782 2107.37 174.292 Q2104.96 174.801 2102.48 174.801 Q2096.28 174.801 2092.64 171.19 Q2089.03 167.579 2089.03 161.421 Q2089.03 155.056 2092.46 151.329 Q2095.91 147.579 2101.74 147.579 Q2106.97 147.579 2110.01 150.958 Q2113.06 154.315 2113.06 160.102 M2108.8 158.852 Q2108.76 155.357 2106.83 153.273 Q2104.94 151.19 2101.79 151.19 Q2098.22 151.19 2096.07 153.204 Q2093.94 155.218 2093.62 158.875 L2108.8 158.852 Z\" fill=\"#000000\" fill-rule=\"evenodd\" fill-opacity=\"1\" /><path clip-path=\"url(#clip540)\" d=\"M 0 0 M2129.31 161.097 Q2124.15 161.097 2122.16 162.278 Q2120.17 163.458 2120.17 166.306 Q2120.17 168.574 2121.65 169.917 Q2123.15 171.236 2125.72 171.236 Q2129.26 171.236 2131.39 168.736 Q2133.55 166.213 2133.55 162.046 L2133.55 161.097 L2129.31 161.097 M2137.81 159.338 L2137.81 174.13 L2133.55 174.13 L2133.55 170.194 Q2132.09 172.555 2129.91 173.69 Q2127.74 174.801 2124.59 174.801 Q2120.61 174.801 2118.25 172.579 Q2115.91 170.333 2115.91 166.583 Q2115.91 162.208 2118.83 159.986 Q2121.76 157.764 2127.58 157.764 L2133.55 157.764 L2133.55 157.347 Q2133.55 154.407 2131.6 152.81 Q2129.68 151.19 2126.19 151.19 Q2123.96 151.19 2121.86 151.722 Q2119.75 152.255 2117.81 153.319 L2117.81 149.384 Q2120.14 148.482 2122.34 148.042 Q2124.54 147.579 2126.63 147.579 Q2132.25 147.579 2135.03 150.495 Q2137.81 153.412 2137.81 159.338 Z\" fill=\"#000000\" fill-rule=\"evenodd\" fill-opacity=\"1\" /><path clip-path=\"url(#clip540)\" d=\"M 0 0 M2142.27 138.111 L2146.53 138.111 L2146.53 174.13 L2142.27 174.13 L2142.27 138.111 Z\" fill=\"#000000\" fill-rule=\"evenodd\" fill-opacity=\"1\" /><path clip-path=\"url(#clip540)\" d=\"M 0 0 M2161.23 138.158 Q2158.13 143.482 2156.63 148.69 Q2155.12 153.898 2155.12 159.245 Q2155.12 164.593 2156.63 169.847 Q2158.15 175.079 2161.23 180.38 L2157.53 180.38 Q2154.06 174.94 2152.32 169.685 Q2150.61 164.431 2150.61 159.245 Q2150.61 154.083 2152.32 148.852 Q2154.03 143.62 2157.53 138.158 L2161.23 138.158 Z\" fill=\"#000000\" fill-rule=\"evenodd\" fill-opacity=\"1\" /><path clip-path=\"url(#clip540)\" d=\"M 0 0 M2174.68 174.708 Q2169.33 173.852 2166.86 171.606 Q2163.82 168.852 2163.82 163.227 L2163.82 148.204 L2168.13 148.204 L2168.13 163.065 Q2168.13 167.301 2170.1 169.06 Q2171.81 170.588 2174.68 170.912 L2174.68 148.204 L2178.92 148.204 L2178.92 170.889 Q2181.95 170.565 2183.5 169.037 Q2185.47 167.093 2185.47 163.042 L2185.47 148.204 L2189.77 148.204 L2189.77 163.204 Q2189.77 169.037 2186.74 171.583 Q2184.01 173.875 2178.92 174.685 L2178.92 183.991 L2174.68 183.991 L2174.68 174.708 Z\" fill=\"#000000\" fill-rule=\"evenodd\" fill-opacity=\"1\" /><path clip-path=\"url(#clip540)\" d=\"M 0 0 M2193.57 138.158 L2197.27 138.158 Q2200.75 143.62 2202.46 148.852 Q2204.2 154.083 2204.2 159.245 Q2204.2 164.431 2202.46 169.685 Q2200.75 174.94 2197.27 180.38 L2193.57 180.38 Q2196.65 175.079 2198.15 169.847 Q2199.68 164.593 2199.68 159.245 Q2199.68 153.898 2198.15 148.69 Q2196.65 143.482 2193.57 138.158 Z\" fill=\"#000000\" fill-rule=\"evenodd\" fill-opacity=\"1\" /><polyline clip-path=\"url(#clip540)\" style=\"stroke:#e26f46; stroke-width:4; stroke-opacity:1; fill:none\" points=\"\n",
       "  1896.05,217.33 2047.1,217.33 \n",
       "  \"/>\n",
       "<path clip-path=\"url(#clip540)\" d=\"M 0 0 M2072.27 208.684 L2076.53 208.684 L2076.53 234.61 L2072.27 234.61 L2072.27 208.684 M2072.27 198.591 L2076.53 198.591 L2076.53 203.985 L2072.27 203.985 L2072.27 198.591 Z\" fill=\"#000000\" fill-rule=\"evenodd\" fill-opacity=\"1\" /><path clip-path=\"url(#clip540)\" d=\"M 0 0 M2101.19 213.661 Q2102.78 210.79 2105.01 209.425 Q2107.23 208.059 2110.24 208.059 Q2114.29 208.059 2116.49 210.906 Q2118.69 213.73 2118.69 218.961 L2118.69 234.61 L2114.4 234.61 L2114.4 219.1 Q2114.4 215.374 2113.08 213.568 Q2111.77 211.762 2109.06 211.762 Q2105.75 211.762 2103.83 213.962 Q2101.9 216.161 2101.9 219.957 L2101.9 234.61 L2097.62 234.61 L2097.62 219.1 Q2097.62 215.35 2096.3 213.568 Q2094.98 211.762 2092.23 211.762 Q2088.96 211.762 2087.04 213.985 Q2085.12 216.184 2085.12 219.957 L2085.12 234.61 L2080.84 234.61 L2080.84 208.684 L2085.12 208.684 L2085.12 212.712 Q2086.58 210.327 2088.62 209.193 Q2090.65 208.059 2093.45 208.059 Q2096.28 208.059 2098.25 209.494 Q2100.24 210.929 2101.19 213.661 Z\" fill=\"#000000\" fill-rule=\"evenodd\" fill-opacity=\"1\" /><path clip-path=\"url(#clip540)\" d=\"M 0 0 M2134.94 221.577 Q2129.77 221.577 2127.78 222.758 Q2125.79 223.938 2125.79 226.786 Q2125.79 229.054 2127.27 230.397 Q2128.78 231.716 2131.35 231.716 Q2134.89 231.716 2137.02 229.216 Q2139.17 226.693 2139.17 222.526 L2139.17 221.577 L2134.94 221.577 M2143.43 219.818 L2143.43 234.61 L2139.17 234.61 L2139.17 230.674 Q2137.71 233.035 2135.54 234.17 Q2133.36 235.281 2130.21 235.281 Q2126.23 235.281 2123.87 233.059 Q2121.53 230.813 2121.53 227.063 Q2121.53 222.688 2124.45 220.466 Q2127.39 218.244 2133.2 218.244 L2139.17 218.244 L2139.17 217.827 Q2139.17 214.887 2137.23 213.29 Q2135.31 211.67 2131.81 211.67 Q2129.59 211.67 2127.48 212.202 Q2125.38 212.735 2123.43 213.799 L2123.43 209.864 Q2125.77 208.962 2127.97 208.522 Q2130.17 208.059 2132.25 208.059 Q2137.88 208.059 2140.65 210.975 Q2143.43 213.892 2143.43 219.818 Z\" fill=\"#000000\" fill-rule=\"evenodd\" fill-opacity=\"1\" /><path clip-path=\"url(#clip540)\" d=\"M 0 0 M2164.96 221.346 Q2164.96 216.716 2163.04 214.17 Q2161.14 211.624 2157.69 211.624 Q2154.26 211.624 2152.34 214.17 Q2150.45 216.716 2150.45 221.346 Q2150.45 225.952 2152.34 228.498 Q2154.26 231.045 2157.69 231.045 Q2161.14 231.045 2163.04 228.498 Q2164.96 225.952 2164.96 221.346 M2169.22 231.392 Q2169.22 238.012 2166.28 241.23 Q2163.34 244.471 2157.27 244.471 Q2155.03 244.471 2153.04 244.123 Q2151.05 243.799 2149.17 243.105 L2149.17 238.961 Q2151.05 239.98 2152.88 240.466 Q2154.7 240.952 2156.6 240.952 Q2160.79 240.952 2162.88 238.753 Q2164.96 236.577 2164.96 232.156 L2164.96 230.049 Q2163.64 232.341 2161.58 233.475 Q2159.52 234.61 2156.65 234.61 Q2151.88 234.61 2148.96 230.975 Q2146.05 227.341 2146.05 221.346 Q2146.05 215.327 2148.96 211.693 Q2151.88 208.059 2156.65 208.059 Q2159.52 208.059 2161.58 209.193 Q2163.64 210.327 2164.96 212.619 L2164.96 208.684 L2169.22 208.684 L2169.22 231.392 Z\" fill=\"#000000\" fill-rule=\"evenodd\" fill-opacity=\"1\" /><path clip-path=\"url(#clip540)\" d=\"M 0 0 M2183.92 198.638 Q2180.82 203.962 2179.31 209.17 Q2177.81 214.378 2177.81 219.725 Q2177.81 225.073 2179.31 230.327 Q2180.84 235.559 2183.92 240.86 L2180.21 240.86 Q2176.74 235.42 2175.01 230.165 Q2173.29 224.911 2173.29 219.725 Q2173.29 214.563 2175.01 209.332 Q2176.72 204.1 2180.21 198.638 L2183.92 198.638 Z\" fill=\"#000000\" fill-rule=\"evenodd\" fill-opacity=\"1\" /><path clip-path=\"url(#clip540)\" d=\"M 0 0 M2197.37 235.188 Q2192.02 234.332 2189.54 232.086 Q2186.51 229.332 2186.51 223.707 L2186.51 208.684 L2190.82 208.684 L2190.82 223.545 Q2190.82 227.781 2192.78 229.54 Q2194.5 231.068 2197.37 231.392 L2197.37 208.684 L2201.6 208.684 L2201.6 231.369 Q2204.63 231.045 2206.19 229.517 Q2208.15 227.573 2208.15 223.522 L2208.15 208.684 L2212.46 208.684 L2212.46 223.684 Q2212.46 229.517 2209.43 232.063 Q2206.7 234.355 2201.6 235.165 L2201.6 244.471 L2197.37 244.471 L2197.37 235.188 Z\" fill=\"#000000\" fill-rule=\"evenodd\" fill-opacity=\"1\" /><path clip-path=\"url(#clip540)\" d=\"M 0 0 M2216.26 198.638 L2219.96 198.638 Q2223.43 204.1 2225.14 209.332 Q2226.88 214.563 2226.88 219.725 Q2226.88 224.911 2225.14 230.165 Q2223.43 235.42 2219.96 240.86 L2216.26 240.86 Q2219.33 235.559 2220.84 230.327 Q2222.37 225.073 2222.37 219.725 Q2222.37 214.378 2220.84 209.17 Q2219.33 203.962 2216.26 198.638 Z\" fill=\"#000000\" fill-rule=\"evenodd\" fill-opacity=\"1\" /><polyline clip-path=\"url(#clip540)\" style=\"stroke:#3da44d; stroke-width:4; stroke-opacity:1; fill:none\" points=\"\n",
       "  1896.05,277.81 2047.1,277.81 \n",
       "  \"/>\n",
       "<path clip-path=\"url(#clip540)\" d=\"M 0 0 M2074.36 273.793 Q2075.77 271.432 2079.27 269.349 Q2080.63 268.539 2084.84 268.539 Q2089.57 268.539 2092.51 272.289 Q2095.47 276.039 2095.47 282.15 Q2095.47 288.261 2092.51 292.011 Q2089.57 295.761 2084.84 295.761 Q2082 295.761 2079.94 294.65 Q2077.9 293.515 2076.56 291.201 L2076.56 304.951 L2072.27 304.951 L2072.27 282.381 Q2072.27 277.034 2074.36 273.793 M2091.05 282.15 Q2091.05 277.451 2089.1 274.789 Q2087.18 272.104 2083.8 272.104 Q2080.42 272.104 2078.48 274.789 Q2076.56 277.451 2076.56 282.15 Q2076.56 286.849 2078.48 289.534 Q2080.42 292.196 2083.8 292.196 Q2087.18 292.196 2089.1 289.534 Q2091.05 286.849 2091.05 282.15 Z\" fill=\"#000000\" fill-rule=\"evenodd\" fill-opacity=\"1\" /></svg>\n"
      ]
     },
     "metadata": {},
     "execution_count": 10
    }
   ],
   "cell_type": "code",
   "source": [
    "using Plots\n",
    "\n",
    "p = plot(x, real.(ψ), label=\"real(ψ)\")\n",
    "plot!(p, x, imag.(ψ), label=\"imag(ψ)\")\n",
    "plot!(p, x, ρ, label=\"ρ\")"
   ],
   "metadata": {},
   "execution_count": 10
  },
  {
   "cell_type": "markdown",
   "source": [
    "The `energy_hamiltonian` function can be used to get the energy and\n",
    "effective Hamiltonian (derivative of the energy with respect to the density matrix)\n",
    "of a particular state (ψ, occupation).\n",
    "The density ρ associated to this state is precomputed\n",
    "and passed to the routine as an optimization."
   ],
   "metadata": {}
  },
  {
   "outputs": [],
   "cell_type": "code",
   "source": [
    "E, ham = energy_hamiltonian(basis, scfres.ψ, scfres.occupation; ρ=scfres.ρ)\n",
    "@assert E.total == scfres.energies.total"
   ],
   "metadata": {},
   "execution_count": 11
  },
  {
   "cell_type": "markdown",
   "source": [
    "Now the Hamiltonian contains all the blocks corresponding to kpoints. Here, we just have one kpoint:"
   ],
   "metadata": {}
  },
  {
   "outputs": [],
   "cell_type": "code",
   "source": [
    "H = ham.blocks[1];"
   ],
   "metadata": {},
   "execution_count": 12
  },
  {
   "cell_type": "markdown",
   "source": [
    "`H` can be used as a linear operator (efficiently using FFTs), or converted to a dense matrix:"
   ],
   "metadata": {}
  },
  {
   "outputs": [],
   "cell_type": "code",
   "source": [
    "ψ11 = scfres.ψ[1][:, 1] # first kpoint, first eigenvector\n",
    "Hmat = Array(H) # This is now just a plain Julia matrix,\n",
    "#                which we can compute and store in this simple 1D example\n",
    "@assert norm(Hmat * ψ11 - H * ψ11) < 1e-10"
   ],
   "metadata": {},
   "execution_count": 13
  },
  {
   "cell_type": "markdown",
   "source": [
    "Let's check that ψ11 is indeed an eigenstate:"
   ],
   "metadata": {}
  },
  {
   "outputs": [
    {
     "output_type": "execute_result",
     "data": {
      "text/plain": "2.353833572647533e-7"
     },
     "metadata": {},
     "execution_count": 14
    }
   ],
   "cell_type": "code",
   "source": [
    "norm(H * ψ11 - dot(ψ11, H * ψ11) * ψ11)"
   ],
   "metadata": {},
   "execution_count": 14
  },
  {
   "cell_type": "markdown",
   "source": [
    "Build a finite-differences version of the GPE operator ``H``, as a sanity check:"
   ],
   "metadata": {}
  },
  {
   "outputs": [
    {
     "output_type": "execute_result",
     "data": {
      "text/plain": "0.00022345682490699286"
     },
     "metadata": {},
     "execution_count": 15
    }
   ],
   "cell_type": "code",
   "source": [
    "A = Array(Tridiagonal(-ones(N - 1), 2ones(N), -ones(N - 1)))\n",
    "A[1, end] = A[end, 1] = -1\n",
    "K = A / dx^2 / 2\n",
    "V = Diagonal(pot.(x) + C .* α .* (ρ.^(α-1)))\n",
    "H_findiff = K + V;\n",
    "maximum(abs.(H_findiff*ψ - (dot(ψ, H_findiff*ψ) / dot(ψ, ψ)) * ψ))"
   ],
   "metadata": {},
   "execution_count": 15
  }
 ],
 "nbformat_minor": 3,
 "metadata": {
  "language_info": {
   "file_extension": ".jl",
   "mimetype": "application/julia",
   "name": "julia",
   "version": "1.5.3"
  },
  "kernelspec": {
   "name": "julia-1.5",
   "display_name": "Julia 1.5.3",
   "language": "julia"
  }
 },
 "nbformat": 4
}
