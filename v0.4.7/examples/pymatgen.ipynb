{
 "cells": [
  {
   "cell_type": "markdown",
   "source": [
    "# Creating supercells with pymatgen\n",
    "\n",
    "The [Pymatgen](https://pymatgen.org/) python library allows to setup\n",
    "solid-state calculations using a flexible set of classes as well as an API\n",
    "to an online data base of structures. Its `Structure` and `Lattice`\n",
    "objects are directly supported by the DFTK `load_atoms` and `load_lattice`\n",
    "functions, such that DFTK may be readily used to run calculation on systems\n",
    "defined in pymatgen. Using the `pymatgen_structure` function a conversion\n",
    "from DFTK to pymatgen structures is also possible. In the following we\n",
    "use this to create a silicon supercell and find its LDA ground state\n",
    "using direct minimisation. To run this example Julia's `PyCall` package\n",
    "needs to be able to find an installation of `pymatgen`."
   ],
   "metadata": {}
  },
  {
   "cell_type": "markdown",
   "source": [
    "First we setup the silicon lattice in DFTK."
   ],
   "metadata": {}
  },
  {
   "outputs": [],
   "cell_type": "code",
   "source": [
    "using DFTK\n",
    "\n",
    "a = 10.263141334305942  # Lattice constant in Bohr\n",
    "lattice = a / 2 .* [[0 1 1.]; [1 0 1.]; [1 1 0.]]\n",
    "Si = ElementPsp(:Si, psp=load_psp(\"hgh/lda/Si-q4\"))\n",
    "atoms = [Si => [ones(3)/8, -ones(3)/8]];"
   ],
   "metadata": {},
   "execution_count": 1
  },
  {
   "cell_type": "markdown",
   "source": [
    "Next we make a `[2, 2, 2]` supercell using pymatgen"
   ],
   "metadata": {}
  },
  {
   "outputs": [
    {
     "name": "stdout",
     "output_type": "stream",
     "text": [
      "┌ Warning: `vendor()` is deprecated, use `BLAS.get_config()` and inspect the output instead\n",
      "│   caller = npyinitialize() at numpy.jl:67\n",
      "└ @ PyCall /home/runner/.julia/packages/PyCall/L0fLP/src/numpy.jl:67\n"
     ]
    }
   ],
   "cell_type": "code",
   "source": [
    "pystruct = pymatgen_structure(lattice, atoms)\n",
    "pystruct.make_supercell([2, 2, 2])\n",
    "lattice = load_lattice(pystruct)\n",
    "atoms = [Si => [s.frac_coords for s in pystruct.sites]];"
   ],
   "metadata": {},
   "execution_count": 2
  },
  {
   "cell_type": "markdown",
   "source": [
    "Setup an LDA model and discretize using\n",
    "a single k-point and a small `Ecut` of 5 Hartree."
   ],
   "metadata": {}
  },
  {
   "outputs": [
    {
     "output_type": "execute_result",
     "data": {
      "text/plain": "PlaneWaveBasis discretization:\n    Ecut                 : 5.0 Ha\n    fft_size             : (32, 32, 32), 32768 total points\n    kgrid type           : Monkhorst-Pack\n    kgrid                : [1, 1, 1]\n    num. irred. kpoints  : 1\n\n    Discretized Model(lda_xc_teter93, 3D):\n        lattice (in Bohr)    : [0         , 10.2631   , 10.2631   ]\n                               [10.2631   , 0         , 10.2631   ]\n                               [10.2631   , 10.2631   , 0         ]\n        unit cell volume     : 2162.1 Bohr³\n    \n        atoms                : Si₁₆\n        atom potentials      : ElementPsp(Si, psp=\"hgh/lda/si-q4\")\n    \n        num. electrons       : 64\n        spin polarization    : none\n        temperature          : 0 Ha\n    \n        terms                : Kinetic()\n                               AtomicLocal()\n                               AtomicNonlocal()\n                               Ewald()\n                               PspCorrection()\n                               Hartree()\n                               Xc(:lda_xc_teter93)"
     },
     "metadata": {},
     "execution_count": 3
    }
   ],
   "cell_type": "code",
   "source": [
    "model = model_LDA(lattice, atoms)\n",
    "basis = PlaneWaveBasis(model; Ecut=5, kgrid=(1, 1, 1))"
   ],
   "metadata": {},
   "execution_count": 3
  },
  {
   "cell_type": "markdown",
   "source": [
    "Find the ground state using direct minimisation (always using SCF is boring ...)"
   ],
   "metadata": {}
  },
  {
   "outputs": [
    {
     "name": "stdout",
     "output_type": "stream",
     "text": [
      "Iter     Function value   Gradient norm \n",
      "     0     1.119351e+02     1.614488e+00\n",
      " * time: 0.5037741661071777\n",
      "     1     1.147571e+01     9.612708e-01\n",
      " * time: 2.0165162086486816\n",
      "     2    -1.153692e+01     1.104480e+00\n",
      " * time: 2.1254541873931885\n",
      "     3    -3.377962e+01     7.456426e-01\n",
      " * time: 2.237626075744629\n",
      "     4    -4.748166e+01     5.609969e-01\n",
      " * time: 2.373444080352783\n",
      "     5    -5.689246e+01     1.885948e-01\n",
      " * time: 2.4775431156158447\n",
      "     6    -5.979406e+01     1.423394e-01\n",
      " * time: 2.5520541667938232\n",
      "     7    -6.094395e+01     5.759049e-02\n",
      " * time: 2.6468851566314697\n",
      "     8    -6.141515e+01     4.136405e-02\n",
      " * time: 2.7207460403442383\n",
      "     9    -6.166655e+01     4.903475e-02\n",
      " * time: 2.792717218399048\n",
      "    10    -6.185895e+01     2.626912e-02\n",
      " * time: 2.8649160861968994\n",
      "    11    -6.199355e+01     1.884512e-02\n",
      " * time: 2.9460361003875732\n",
      "    12    -6.206902e+01     1.646119e-02\n",
      " * time: 3.019599199295044\n",
      "    13    -6.211331e+01     1.383126e-02\n",
      " * time: 3.0913290977478027\n",
      "    14    -6.215245e+01     1.122514e-02\n",
      " * time: 3.163421154022217\n",
      "    15    -6.217468e+01     1.435289e-02\n",
      " * time: 3.246843099594116\n",
      "    16    -6.219088e+01     9.047309e-03\n",
      " * time: 3.32043719291687\n",
      "    17    -6.220191e+01     6.814582e-03\n",
      " * time: 3.3936800956726074\n",
      "    18    -6.221058e+01     8.188983e-03\n",
      " * time: 3.4771411418914795\n",
      "    19    -6.221734e+01     8.933841e-03\n",
      " * time: 3.5499870777130127\n",
      "    20    -6.222340e+01     7.498969e-03\n",
      " * time: 3.622141122817993\n",
      "    21    -6.222950e+01     6.878314e-03\n",
      " * time: 3.6950762271881104\n",
      "    22    -6.223591e+01     7.025926e-03\n",
      " * time: 3.7791640758514404\n",
      "    23    -6.224219e+01     5.017621e-03\n",
      " * time: 3.8516290187835693\n",
      "    24    -6.224796e+01     4.558313e-03\n",
      " * time: 3.928704023361206\n",
      "    25    -6.225246e+01     3.847248e-03\n",
      " * time: 4.0366411209106445\n",
      "    26    -6.225536e+01     3.454587e-03\n",
      " * time: 4.121692180633545\n",
      "    27    -6.225739e+01     2.394504e-03\n",
      " * time: 4.194354057312012\n",
      "    28    -6.225877e+01     2.426183e-03\n",
      " * time: 4.2678210735321045\n",
      "    29    -6.225977e+01     2.295258e-03\n",
      " * time: 4.352996110916138\n",
      "    30    -6.226045e+01     1.651038e-03\n",
      " * time: 4.42477822303772\n",
      "    31    -6.226091e+01     1.205458e-03\n",
      " * time: 4.496419191360474\n",
      "    32    -6.226123e+01     8.520958e-04\n",
      " * time: 4.569653034210205\n",
      "    33    -6.226144e+01     5.981237e-04\n",
      " * time: 4.650518178939819\n",
      "    34    -6.226156e+01     5.449614e-04\n",
      " * time: 4.72304105758667\n",
      "    35    -6.226162e+01     3.314023e-04\n",
      " * time: 4.792922019958496\n",
      "    36    -6.226164e+01     2.743857e-04\n",
      " * time: 4.8631532192230225\n",
      "    37    -6.226165e+01     1.897307e-04\n",
      " * time: 4.94123101234436\n",
      "    38    -6.226166e+01     1.276326e-04\n",
      " * time: 5.011963129043579\n",
      "    39    -6.226166e+01     8.988231e-05\n",
      " * time: 5.082078218460083\n",
      "    40    -6.226166e+01     7.131509e-05\n",
      " * time: 5.1619250774383545\n",
      "    41    -6.226166e+01     5.665224e-05\n",
      " * time: 5.2308030128479\n",
      "    42    -6.226167e+01     3.939669e-05\n",
      " * time: 5.3006532192230225\n",
      "    43    -6.226167e+01     3.213110e-05\n",
      " * time: 5.3725080490112305\n",
      "    44    -6.226167e+01     3.015164e-05\n",
      " * time: 5.451746225357056\n",
      "    45    -6.226167e+01     2.503090e-05\n",
      " * time: 5.520385026931763\n",
      "    46    -6.226167e+01     1.967350e-05\n",
      " * time: 5.589842081069946\n",
      "    47    -6.226167e+01     1.315246e-05\n",
      " * time: 5.672162055969238\n",
      "    48    -6.226167e+01     8.189703e-06\n",
      " * time: 5.742704153060913\n",
      "    49    -6.226167e+01     7.300353e-06\n",
      " * time: 5.812582015991211\n",
      "    50    -6.226167e+01     5.472796e-06\n",
      " * time: 5.88391900062561\n",
      "    51    -6.226167e+01     5.054637e-06\n",
      " * time: 5.964737176895142\n"
     ]
    }
   ],
   "cell_type": "code",
   "source": [
    "scfres = direct_minimization(basis, tol=1e-5);"
   ],
   "metadata": {},
   "execution_count": 4
  },
  {
   "outputs": [
    {
     "output_type": "execute_result",
     "data": {
      "text/plain": "Energy breakdown (in Ha):\n    Kinetic             25.7671072\n    AtomicLocal         -18.8557750\n    AtomicNonlocal      14.8522704\n    Ewald               -67.1831486\n    PspCorrection       -2.3569765\n    Hartree             4.8485386 \n    Xc                  -19.3336825\n\n    total               -62.261666453753"
     },
     "metadata": {},
     "execution_count": 5
    }
   ],
   "cell_type": "code",
   "source": [
    "scfres.energies"
   ],
   "metadata": {},
   "execution_count": 5
  }
 ],
 "nbformat_minor": 3,
 "metadata": {
  "language_info": {
   "file_extension": ".jl",
   "mimetype": "application/julia",
   "name": "julia",
   "version": "1.7.2"
  },
  "kernelspec": {
   "name": "julia-1.7",
   "display_name": "Julia 1.7.2",
   "language": "julia"
  }
 },
 "nbformat": 4
}
