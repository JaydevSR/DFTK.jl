{
 "cells": [
  {
   "cell_type": "markdown",
   "source": [
    "# Creating supercells with pymatgen\n",
    "\n",
    "The [Pymatgen](https://pymatgen.org/) python library allows to setup\n",
    "solid-state calculations using a flexible set of classes as well as an API\n",
    "to an online data base of structures. Its `Structure` and `Lattice`\n",
    "objects are directly supported by the DFTK `load_atoms` and `load_lattice`\n",
    "functions, such that DFTK may be readily used to run calculation on systems\n",
    "defined in pymatgen. Using the `pymatgen_structure` function a conversion\n",
    "from DFTK to pymatgen structures is also possible. In the following we\n",
    "use this to create a silicon supercell and find its LDA ground state\n",
    "using direct minimisation."
   ],
   "metadata": {}
  },
  {
   "cell_type": "markdown",
   "source": [
    "First we setup the silicon lattice in DFTK."
   ],
   "metadata": {}
  },
  {
   "outputs": [],
   "cell_type": "code",
   "source": [
    "using DFTK\n",
    "\n",
    "a = 10.263141334305942  # Lattice constant in Bohr\n",
    "lattice = a / 2 .* [[0 1 1.]; [1 0 1.]; [1 1 0.]]\n",
    "Si = ElementPsp(:Si, psp=load_psp(\"hgh/lda/Si-q4\"))\n",
    "atoms = [Si => [ones(3)/8, -ones(3)/8]];"
   ],
   "metadata": {},
   "execution_count": 1
  },
  {
   "cell_type": "markdown",
   "source": [
    "Next we make a `[2, 2, 2]` supercell using pymatgen"
   ],
   "metadata": {}
  },
  {
   "outputs": [],
   "cell_type": "code",
   "source": [
    "pystruct = pymatgen_structure(lattice, atoms)\n",
    "pystruct.make_supercell([2, 2, 2])\n",
    "lattice = load_lattice(pystruct)\n",
    "atoms = [Si => [s.frac_coords for s in pystruct.sites]];"
   ],
   "metadata": {},
   "execution_count": 2
  },
  {
   "cell_type": "markdown",
   "source": [
    "Setup an LDA model and discretize using\n",
    "a single kpoint and a small `Ecut` of 5 Hartree."
   ],
   "metadata": {}
  },
  {
   "outputs": [
    {
     "output_type": "execute_result",
     "data": {
      "text/plain": "PlaneWaveBasis (Ecut=5.0, 1 kpoints)"
     },
     "metadata": {},
     "execution_count": 3
    }
   ],
   "cell_type": "code",
   "source": [
    "model = model_LDA(lattice, atoms)\n",
    "basis = PlaneWaveBasis(model, 5, kgrid=(1, 1, 1))"
   ],
   "metadata": {},
   "execution_count": 3
  },
  {
   "cell_type": "markdown",
   "source": [
    "Find the ground state using direct minimisation (always using SCF is boring ...)"
   ],
   "metadata": {}
  },
  {
   "outputs": [
    {
     "name": "stdout",
     "output_type": "stream",
     "text": [
      "Iter     Function value   Gradient norm \n",
      "     0     1.119209e+02     1.772026e+00\n",
      " * time: 0.7002918720245361\n",
      "     1     1.072308e+01     9.614443e-01\n",
      " * time: 3.1032118797302246\n",
      "     2    -1.200084e+01     1.157315e+00\n",
      " * time: 3.840285062789917\n",
      "     3    -3.414897e+01     8.932160e-01\n",
      " * time: 4.805388927459717\n",
      "     4    -4.789867e+01     5.823769e-01\n",
      " * time: 5.774584054946899\n",
      "     5    -5.695287e+01     1.973861e-01\n",
      " * time: 7.148752927780151\n",
      "     6    -5.980205e+01     8.775398e-02\n",
      " * time: 7.791231870651245\n",
      "     7    -6.084986e+01     5.857470e-02\n",
      " * time: 8.434614896774292\n",
      "     8    -6.126330e+01     6.352012e-02\n",
      " * time: 9.077996969223022\n",
      "     9    -6.161319e+01     3.422309e-02\n",
      " * time: 9.95672607421875\n",
      "    10    -6.184996e+01     2.610041e-02\n",
      " * time: 10.59305191040039\n",
      "    11    -6.200915e+01     2.253048e-02\n",
      " * time: 11.234220027923584\n",
      "    12    -6.207534e+01     1.925230e-02\n",
      " * time: 11.912605047225952\n",
      "    13    -6.213686e+01     1.431383e-02\n",
      " * time: 12.552502870559692\n",
      "    14    -6.216913e+01     1.191746e-02\n",
      " * time: 13.193384885787964\n",
      "    15    -6.219694e+01     9.268176e-03\n",
      " * time: 13.872374057769775\n",
      "    16    -6.221288e+01     9.074252e-03\n",
      " * time: 14.51338005065918\n",
      "    17    -6.222302e+01     9.131801e-03\n",
      " * time: 15.1496000289917\n",
      "    18    -6.223006e+01     8.571017e-03\n",
      " * time: 15.786949872970581\n",
      "    19    -6.223509e+01     6.189112e-03\n",
      " * time: 16.42973303794861\n",
      "    20    -6.223971e+01     5.989390e-03\n",
      " * time: 17.068578958511353\n",
      "    21    -6.224474e+01     6.107685e-03\n",
      " * time: 17.705638885498047\n",
      "    22    -6.224992e+01     6.531073e-03\n",
      " * time: 18.34701704978943\n",
      "    23    -6.225463e+01     5.566435e-03\n",
      " * time: 18.982254028320312\n",
      "    24    -6.225793e+01     3.733997e-03\n",
      " * time: 19.619773864746094\n",
      "    25    -6.225962e+01     2.298652e-03\n",
      " * time: 20.264765977859497\n",
      "    26    -6.226051e+01     1.638582e-03\n",
      " * time: 20.901785850524902\n",
      "    27    -6.226097e+01     1.355720e-03\n",
      " * time: 21.538100004196167\n",
      "    28    -6.226121e+01     1.228417e-03\n",
      " * time: 22.181395053863525\n",
      "    29    -6.226136e+01     8.201787e-04\n",
      " * time: 22.819889068603516\n",
      "    30    -6.226146e+01     7.340770e-04\n",
      " * time: 23.45964503288269\n",
      "    31    -6.226152e+01     5.685445e-04\n",
      " * time: 24.100937843322754\n",
      "    32    -6.226157e+01     4.692964e-04\n",
      " * time: 24.737921953201294\n",
      "    33    -6.226161e+01     3.483759e-04\n",
      " * time: 25.402920961380005\n",
      "    34    -6.226164e+01     2.453796e-04\n",
      " * time: 26.04605484008789\n",
      "    35    -6.226165e+01     1.858584e-04\n",
      " * time: 26.684051990509033\n",
      "    36    -6.226166e+01     1.597953e-04\n",
      " * time: 27.35237693786621\n",
      "    37    -6.226166e+01     1.288605e-04\n",
      " * time: 27.992843866348267\n",
      "    38    -6.226166e+01     7.081363e-05\n",
      " * time: 28.627898931503296\n",
      "    39    -6.226167e+01     4.487443e-05\n",
      " * time: 29.26616406440735\n",
      "    40    -6.226167e+01     3.395820e-05\n",
      " * time: 29.91048002243042\n",
      "    41    -6.226167e+01     3.036606e-05\n",
      " * time: 30.549726963043213\n",
      "    42    -6.226167e+01     2.676240e-05\n",
      " * time: 31.185302019119263\n",
      "    43    -6.226167e+01     1.943207e-05\n",
      " * time: 31.82989501953125\n",
      "    44    -6.226167e+01     1.727927e-05\n",
      " * time: 32.469528913497925\n",
      "    45    -6.226167e+01     1.459793e-05\n",
      " * time: 33.110811948776245\n",
      "    46    -6.226167e+01     1.238173e-05\n",
      " * time: 33.75241303443909\n",
      "    47    -6.226167e+01     9.147306e-06\n",
      " * time: 34.39261603355408\n",
      "    48    -6.226167e+01     6.449128e-06\n",
      " * time: 35.02775502204895\n",
      "    49    -6.226167e+01     4.000783e-06\n",
      " * time: 35.69936394691467\n",
      "    50    -6.226167e+01     2.593359e-06\n",
      " * time: 36.33735799789429\n"
     ]
    }
   ],
   "cell_type": "code",
   "source": [
    "scfres = direct_minimization(basis, tol=1e-5);"
   ],
   "metadata": {},
   "execution_count": 4
  },
  {
   "outputs": [
    {
     "output_type": "execute_result",
     "data": {
      "text/plain": "Energy breakdown:\n    Kinetic             25.7671063\n    AtomicLocal         -18.8557688\n    AtomicNonlocal      14.8522660\n    Ewald               -67.1831486\n    PspCorrection       -2.3569765\n    Hartree             4.8485372 \n    Xc                  -19.3336820\n\n    total               -62.261666460600\n"
     },
     "metadata": {},
     "execution_count": 5
    }
   ],
   "cell_type": "code",
   "source": [
    "scfres.energies"
   ],
   "metadata": {},
   "execution_count": 5
  }
 ],
 "nbformat_minor": 3,
 "metadata": {
  "language_info": {
   "file_extension": ".jl",
   "mimetype": "application/julia",
   "name": "julia",
   "version": "1.6.1"
  },
  "kernelspec": {
   "name": "julia-1.6",
   "display_name": "Julia 1.6.1",
   "language": "julia"
  }
 },
 "nbformat": 4
}
