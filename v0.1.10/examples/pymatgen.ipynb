{
 "cells": [
  {
   "cell_type": "markdown",
   "source": [
    "# Creating supercells with pymatgen\n",
    "\n",
    "The [Pymatgen](https://pymatgen.org/) python library allows to setup\n",
    "solid-state calculations using a flexible set of classes as well as an API\n",
    "to an online data base of structures. Its `Structure` and `Lattice`\n",
    "objects are directly supported by the DFTK `load_atoms` and `load_lattice`\n",
    "functions, such that DFTK may be readily used to run calculation on systems\n",
    "defined in pymatgen. Using the `pymatgen_structure` function a conversion\n",
    "from DFTK to pymatgen structures is also possible. In the following we\n",
    "use this to create a silicon supercell and find its LDA ground state\n",
    "using direct minimisation."
   ],
   "metadata": {}
  },
  {
   "cell_type": "markdown",
   "source": [
    "First we setup the silicon lattice in DFTK."
   ],
   "metadata": {}
  },
  {
   "outputs": [],
   "cell_type": "code",
   "source": [
    "using DFTK\n",
    "\n",
    "a = 10.263141334305942  # Lattice constant in Bohr\n",
    "lattice = a / 2 .* [[0 1 1.]; [1 0 1.]; [1 1 0.]]\n",
    "Si = ElementPsp(:Si, psp=load_psp(\"hgh/lda/Si-q4\"))\n",
    "atoms = [Si => [ones(3)/8, -ones(3)/8]];"
   ],
   "metadata": {},
   "execution_count": 1
  },
  {
   "cell_type": "markdown",
   "source": [
    "Next we make a `[2, 2, 2]` supercell using pymatgen"
   ],
   "metadata": {}
  },
  {
   "outputs": [],
   "cell_type": "code",
   "source": [
    "pystruct = pymatgen_structure(lattice, atoms)\n",
    "pystruct.make_supercell([2, 2, 2])\n",
    "lattice = load_lattice(pystruct)\n",
    "atoms = [Si => [s.frac_coords for s in pystruct.sites]];"
   ],
   "metadata": {},
   "execution_count": 2
  },
  {
   "cell_type": "markdown",
   "source": [
    "Setup an LDA model and discretize using\n",
    "a single kpoint and a small `Ecut` of 5 Hartree."
   ],
   "metadata": {}
  },
  {
   "outputs": [
    {
     "output_type": "execute_result",
     "data": {
      "text/plain": "PlaneWaveBasis (Ecut=5.0, 1 kpoints)"
     },
     "metadata": {},
     "execution_count": 3
    }
   ],
   "cell_type": "code",
   "source": [
    "model = model_LDA(lattice, atoms)\n",
    "basis = PlaneWaveBasis(model, 5, kgrid=(1, 1, 1))"
   ],
   "metadata": {},
   "execution_count": 3
  },
  {
   "cell_type": "markdown",
   "source": [
    "Find the ground state using direct minimisation (always using SCF is boring ...)"
   ],
   "metadata": {}
  },
  {
   "outputs": [
    {
     "name": "stdout",
     "output_type": "stream",
     "text": [
      "Iter     Function value   Gradient norm \n",
      "     0     1.123128e+02     1.640410e+00\n",
      " * time: 0.08849620819091797\n",
      "     1     1.068246e+01     8.759217e-01\n",
      " * time: 0.910952091217041\n",
      "     2    -1.180391e+01     1.074858e+00\n",
      " * time: 1.0513520240783691\n",
      "     3    -3.401406e+01     7.982792e-01\n",
      " * time: 1.21864914894104\n",
      "     4    -4.770256e+01     5.481225e-01\n",
      " * time: 1.3680660724639893\n",
      "     5    -5.682452e+01     1.971017e-01\n",
      " * time: 1.5134031772613525\n",
      "     6    -5.967678e+01     1.395010e-01\n",
      " * time: 1.6197991371154785\n",
      "     7    -6.081552e+01     5.415686e-02\n",
      " * time: 1.7319371700286865\n",
      "     8    -6.127445e+01     6.801012e-02\n",
      " * time: 1.84405517578125\n",
      "     9    -6.158094e+01     5.243551e-02\n",
      " * time: 1.9500641822814941\n",
      "    10    -6.182802e+01     3.441750e-02\n",
      " * time: 2.063599109649658\n",
      "    11    -6.201123e+01     1.995612e-02\n",
      " * time: 2.169530153274536\n",
      "    12    -6.207919e+01     1.816470e-02\n",
      " * time: 2.282785177230835\n",
      "    13    -6.213985e+01     1.488489e-02\n",
      " * time: 2.3964250087738037\n",
      "    14    -6.216595e+01     1.259645e-02\n",
      " * time: 2.5030760765075684\n",
      "    15    -6.218943e+01     1.062580e-02\n",
      " * time: 2.6164000034332275\n",
      "    16    -6.220237e+01     7.726182e-03\n",
      " * time: 2.7219600677490234\n",
      "    17    -6.221363e+01     6.655934e-03\n",
      " * time: 2.8349251747131348\n",
      "    18    -6.222352e+01     6.748979e-03\n",
      " * time: 2.9477720260620117\n",
      "    19    -6.223220e+01     6.102594e-03\n",
      " * time: 3.0551981925964355\n",
      "    20    -6.224008e+01     5.622824e-03\n",
      " * time: 3.1685431003570557\n",
      "    21    -6.224697e+01     4.958851e-03\n",
      " * time: 3.2821781635284424\n",
      "    22    -6.225252e+01     4.348404e-03\n",
      " * time: 3.3879361152648926\n",
      "    23    -6.225644e+01     3.218919e-03\n",
      " * time: 3.502087116241455\n",
      "    24    -6.225873e+01     2.229103e-03\n",
      " * time: 3.6085519790649414\n",
      "    25    -6.225989e+01     1.870877e-03\n",
      " * time: 3.721727132797241\n",
      "    26    -6.226052e+01     1.577532e-03\n",
      " * time: 3.834062099456787\n",
      "    27    -6.226090e+01     1.237030e-03\n",
      " * time: 3.939460039138794\n",
      "    28    -6.226115e+01     1.004944e-03\n",
      " * time: 4.055517196655273\n",
      "    29    -6.226132e+01     8.465692e-04\n",
      " * time: 4.1769959926605225\n",
      "    30    -6.226144e+01     6.903726e-04\n",
      " * time: 4.294093132019043\n",
      "    31    -6.226153e+01     5.470794e-04\n",
      " * time: 4.407433032989502\n",
      "    32    -6.226159e+01     4.004067e-04\n",
      " * time: 4.513984203338623\n",
      "    33    -6.226162e+01     3.317104e-04\n",
      " * time: 4.6266419887542725\n",
      "    34    -6.226164e+01     2.234868e-04\n",
      " * time: 4.7314441204071045\n",
      "    35    -6.226165e+01     2.505897e-04\n",
      " * time: 4.843984127044678\n",
      "    36    -6.226166e+01     1.361236e-04\n",
      " * time: 4.956230163574219\n",
      "    37    -6.226166e+01     1.181021e-04\n",
      " * time: 5.062491178512573\n",
      "    38    -6.226166e+01     7.505384e-05\n",
      " * time: 5.174322128295898\n",
      "    39    -6.226167e+01     5.530855e-05\n",
      " * time: 5.278890132904053\n",
      "    40    -6.226167e+01     4.241215e-05\n",
      " * time: 5.3908421993255615\n",
      "    41    -6.226167e+01     3.474261e-05\n",
      " * time: 5.504724025726318\n",
      "    42    -6.226167e+01     2.812215e-05\n",
      " * time: 5.610491037368774\n",
      "    43    -6.226167e+01     2.518891e-05\n",
      " * time: 5.723173141479492\n",
      "    44    -6.226167e+01     1.850930e-05\n",
      " * time: 5.835080146789551\n",
      "    45    -6.226167e+01     1.124116e-05\n",
      " * time: 5.940093994140625\n",
      "    46    -6.226167e+01     7.987793e-06\n",
      " * time: 6.053282022476196\n",
      "    47    -6.226167e+01     5.679892e-06\n",
      " * time: 6.1579999923706055\n",
      "    48    -6.226167e+01     3.695173e-06\n",
      " * time: 6.269729137420654\n",
      "    49    -6.226167e+01     3.055832e-06\n",
      " * time: 6.381590127944946\n"
     ]
    }
   ],
   "cell_type": "code",
   "source": [
    "scfres = direct_minimization(basis, tol=1e-5);"
   ],
   "metadata": {},
   "execution_count": 4
  },
  {
   "outputs": [
    {
     "output_type": "execute_result",
     "data": {
      "text/plain": "Energy breakdown:\n    Kinetic             25.7671065\n    AtomicLocal         -18.8557679\n    AtomicNonlocal      14.8522651\n    Ewald               -67.1831486\n    PspCorrection       -2.3569765\n    Hartree             4.8485369 \n    Xc                  -19.3336819\n\n    total               -62.261666458885\n"
     },
     "metadata": {},
     "execution_count": 5
    }
   ],
   "cell_type": "code",
   "source": [
    "scfres.energies"
   ],
   "metadata": {},
   "execution_count": 5
  }
 ],
 "nbformat_minor": 3,
 "metadata": {
  "language_info": {
   "file_extension": ".jl",
   "mimetype": "application/julia",
   "name": "julia",
   "version": "1.3.1"
  },
  "kernelspec": {
   "name": "julia-1.3",
   "display_name": "Julia 1.3.1",
   "language": "julia"
  }
 },
 "nbformat": 4
}
