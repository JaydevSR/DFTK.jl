{
 "cells": [
  {
   "cell_type": "markdown",
   "source": [
    "# Creating supercells with pymatgen\n",
    "\n",
    "The [Pymatgen](https://pymatgen.org/) python library allows to setup\n",
    "solid-state calculations using a flexible set of classes as well as an API\n",
    "to an online data base of structures. Its `Structure` and `Lattice`\n",
    "objects are directly supported by the DFTK `load_atoms` and `load_lattice`\n",
    "functions, such that DFTK may be readily used to run calculation on systems\n",
    "defined in pymatgen. Using the `pymatgen_structure` function a conversion\n",
    "from DFTK to pymatgen structures is also possible. In the following we\n",
    "use this to create a silicon supercell and find its LDA ground state\n",
    "using direct minimisation. To run this example Julia's `PyCall` package\n",
    "needs to be able to find an installation of `pymatgen`."
   ],
   "metadata": {}
  },
  {
   "cell_type": "markdown",
   "source": [
    "First we setup the silicon lattice in DFTK."
   ],
   "metadata": {}
  },
  {
   "outputs": [],
   "cell_type": "code",
   "source": [
    "using DFTK\n",
    "\n",
    "a = 10.263141334305942  # Lattice constant in Bohr\n",
    "lattice = a / 2 .* [[0 1 1.]; [1 0 1.]; [1 1 0.]]\n",
    "Si = ElementPsp(:Si, psp=load_psp(\"hgh/lda/Si-q4\"))\n",
    "atoms = [Si => [ones(3)/8, -ones(3)/8]];"
   ],
   "metadata": {},
   "execution_count": 1
  },
  {
   "cell_type": "markdown",
   "source": [
    "Next we make a `[2, 2, 2]` supercell using pymatgen"
   ],
   "metadata": {}
  },
  {
   "outputs": [],
   "cell_type": "code",
   "source": [
    "pystruct = pymatgen_structure(lattice, atoms)\n",
    "pystruct.make_supercell([2, 2, 2])\n",
    "lattice = load_lattice(pystruct)\n",
    "atoms = [Si => [s.frac_coords for s in pystruct.sites]];"
   ],
   "metadata": {},
   "execution_count": 2
  },
  {
   "cell_type": "markdown",
   "source": [
    "Setup an LDA model and discretize using\n",
    "a single k-point and a small `Ecut` of 5 Hartree."
   ],
   "metadata": {}
  },
  {
   "outputs": [
    {
     "output_type": "execute_result",
     "data": {
      "text/plain": "PlaneWaveBasis discretization:\n    Ecut                 : 5.0 Ha\n    fft_size             : (32, 32, 32)\n    kgrid type           : Monkhorst-Pack\n    kgrid                : [1, 1, 1]\n    num. irred. kpoints  : 1\n\n    Discretized Model(lda_xc_teter93, 3D):\n        lattice (in Bohr)    : [0         , 10.2631   , 10.2631   ]\n                               [10.2631   , 0         , 10.2631   ]\n                               [10.2631   , 10.2631   , 0         ]\n        unit cell volume     : 2162.1 Bohr³\n    \n        atoms                : Si₁₆\n        atom potentials      : ElementPsp(Si, psp=hgh/lda/si-q4)\n    \n        num. electrons       : 64\n        spin polarization    : none\n        temperature          : 0 Ha\n    \n        terms                : Kinetic(1)\n                               AtomicLocal()\n                               AtomicNonlocal()\n                               Ewald()\n                               PspCorrection()\n                               Hartree(1)\n                               Xc([:lda_xc_teter93], 1, nothing)"
     },
     "metadata": {},
     "execution_count": 3
    }
   ],
   "cell_type": "code",
   "source": [
    "model = model_LDA(lattice, atoms)\n",
    "basis = PlaneWaveBasis(model; Ecut=5, kgrid=(1, 1, 1))"
   ],
   "metadata": {},
   "execution_count": 3
  },
  {
   "cell_type": "markdown",
   "source": [
    "Find the ground state using direct minimisation (always using SCF is boring ...)"
   ],
   "metadata": {}
  },
  {
   "outputs": [
    {
     "name": "stdout",
     "output_type": "stream",
     "text": [
      "Iter     Function value   Gradient norm \n",
      "     0     1.123808e+02     1.509665e+00\n",
      " * time: 0.9006941318511963\n",
      "     1     1.063659e+01     8.912954e-01\n",
      " * time: 2.385573148727417\n",
      "     2    -1.204671e+01     9.046873e-01\n",
      " * time: 3.116708993911743\n",
      "     3    -3.437072e+01     7.931602e-01\n",
      " * time: 4.205080986022949\n",
      "     4    -4.816746e+01     6.137722e-01\n",
      " * time: 5.2208781242370605\n",
      "     5    -5.699879e+01     2.243068e-01\n",
      " * time: 6.221042156219482\n",
      "     6    -5.973594e+01     1.397788e-01\n",
      " * time: 6.88073205947876\n",
      "     7    -6.078716e+01     4.847727e-02\n",
      " * time: 7.546424150466919\n",
      "     8    -6.120001e+01     7.022580e-02\n",
      " * time: 8.221664190292358\n",
      "     9    -6.150142e+01     4.655458e-02\n",
      " * time: 8.895681142807007\n",
      "    10    -6.170934e+01     3.102695e-02\n",
      " * time: 9.572257995605469\n",
      "    11    -6.188900e+01     2.151821e-02\n",
      " * time: 10.243652105331421\n",
      "    12    -6.196809e+01     1.845573e-02\n",
      " * time: 10.90320110321045\n",
      "    13    -6.205629e+01     1.428262e-02\n",
      " * time: 11.57168698310852\n",
      "    14    -6.209695e+01     1.463945e-02\n",
      " * time: 12.235538959503174\n",
      "    15    -6.213951e+01     1.114893e-02\n",
      " * time: 12.914985179901123\n",
      "    16    -6.216017e+01     1.040719e-02\n",
      " * time: 13.725756168365479\n",
      "    17    -6.217953e+01     8.323106e-03\n",
      " * time: 14.502087116241455\n",
      "    18    -6.219183e+01     8.938661e-03\n",
      " * time: 15.192414999008179\n",
      "    19    -6.220255e+01     7.295404e-03\n",
      " * time: 15.85018515586853\n",
      "    20    -6.221215e+01     6.462709e-03\n",
      " * time: 16.513636112213135\n",
      "    21    -6.222301e+01     6.407775e-03\n",
      " * time: 17.178542137145996\n",
      "    22    -6.223420e+01     6.594609e-03\n",
      " * time: 17.849343061447144\n",
      "    23    -6.224442e+01     6.364140e-03\n",
      " * time: 18.522016048431396\n",
      "    24    -6.225184e+01     4.715632e-03\n",
      " * time: 19.22186517715454\n",
      "    25    -6.225607e+01     3.558534e-03\n",
      " * time: 19.875779151916504\n",
      "    26    -6.225832e+01     2.842162e-03\n",
      " * time: 20.536715984344482\n",
      "    27    -6.225956e+01     1.782392e-03\n",
      " * time: 21.191926956176758\n",
      "    28    -6.226029e+01     1.473377e-03\n",
      " * time: 21.862085103988647\n",
      "    29    -6.226071e+01     1.129623e-03\n",
      " * time: 22.528488159179688\n",
      "    30    -6.226104e+01     1.113378e-03\n",
      " * time: 23.193058013916016\n",
      "    31    -6.226125e+01     9.011240e-04\n",
      " * time: 23.858510971069336\n",
      "    32    -6.226141e+01     7.691278e-04\n",
      " * time: 24.5258891582489\n",
      "    33    -6.226151e+01     6.072121e-04\n",
      " * time: 25.192896127700806\n",
      "    34    -6.226159e+01     4.115025e-04\n",
      " * time: 25.85979199409485\n",
      "    35    -6.226163e+01     2.610613e-04\n",
      " * time: 26.534706115722656\n",
      "    36    -6.226164e+01     2.118702e-04\n",
      " * time: 27.201987981796265\n",
      "    37    -6.226165e+01     1.427730e-04\n",
      " * time: 27.879575967788696\n",
      "    38    -6.226166e+01     1.370011e-04\n",
      " * time: 28.566378116607666\n",
      "    39    -6.226166e+01     8.653834e-05\n",
      " * time: 29.254889965057373\n",
      "    40    -6.226166e+01     6.481488e-05\n",
      " * time: 29.9128520488739\n",
      "    41    -6.226166e+01     5.430433e-05\n",
      " * time: 30.58664298057556\n",
      "    42    -6.226167e+01     4.276485e-05\n",
      " * time: 31.23182702064514\n",
      "    43    -6.226167e+01     3.961841e-05\n",
      " * time: 31.894322156906128\n",
      "    44    -6.226167e+01     3.361916e-05\n",
      " * time: 32.55472111701965\n",
      "    45    -6.226167e+01     2.760315e-05\n",
      " * time: 33.205090045928955\n",
      "    46    -6.226167e+01     1.779299e-05\n",
      " * time: 33.85650110244751\n",
      "    47    -6.226167e+01     1.349352e-05\n",
      " * time: 34.50850701332092\n",
      "    48    -6.226167e+01     8.734230e-06\n",
      " * time: 35.17041206359863\n",
      "    49    -6.226167e+01     6.543367e-06\n",
      " * time: 35.8260440826416\n",
      "    50    -6.226167e+01     4.182696e-06\n",
      " * time: 36.50237417221069\n"
     ]
    }
   ],
   "cell_type": "code",
   "source": [
    "scfres = direct_minimization(basis, tol=1e-5);"
   ],
   "metadata": {},
   "execution_count": 4
  },
  {
   "outputs": [
    {
     "output_type": "execute_result",
     "data": {
      "text/plain": "Energy breakdown (in Ha):\n    Kinetic             25.7671051\n    AtomicLocal         -18.8557612\n    AtomicNonlocal      14.8522610\n    Ewald               -67.1831486\n    PspCorrection       -2.3569765\n    Hartree             4.8485350 \n    Xc                  -19.3336812\n\n    total               -62.261666455555"
     },
     "metadata": {},
     "execution_count": 5
    }
   ],
   "cell_type": "code",
   "source": [
    "scfres.energies"
   ],
   "metadata": {},
   "execution_count": 5
  }
 ],
 "nbformat_minor": 3,
 "metadata": {
  "language_info": {
   "file_extension": ".jl",
   "mimetype": "application/julia",
   "name": "julia",
   "version": "1.6.3"
  },
  "kernelspec": {
   "name": "julia-1.6",
   "display_name": "Julia 1.6.3",
   "language": "julia"
  }
 },
 "nbformat": 4
}
