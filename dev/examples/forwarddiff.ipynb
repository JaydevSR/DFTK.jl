{
 "cells": [
  {
   "cell_type": "markdown",
   "source": [
    "# Polarizability using automatic differentiation\n",
    "\n",
    "Simple example for computing properties using (forward-mode)\n",
    "automatic differentiation.\n",
    "For a more classical approach and more details about computing polarizabilities,\n",
    "see Polarizability by linear response."
   ],
   "metadata": {}
  },
  {
   "outputs": [],
   "cell_type": "code",
   "source": [
    "using DFTK\n",
    "using LinearAlgebra\n",
    "using ForwardDiff\n",
    "\n",
    "# Construct PlaneWaveBasis given a particular electric field strength\n",
    "# Again we take the example of a Helium atom.\n",
    "function make_basis(ε::T; a=10., Ecut=30) where {T}\n",
    "    lattice=T(a) * I(3)  # lattice is a cube of $a$ Bohrs\n",
    "    # Helium at the center of the box\n",
    "    atoms     = [ElementPsp(:He; psp=load_psp(\"hgh/lda/He-q2\"))]\n",
    "    positions = [[1/2, 1/2, 1/2]]\n",
    "\n",
    "    model = model_DFT(lattice, atoms, positions, [:lda_x, :lda_c_vwn];\n",
    "                      extra_terms=[ExternalFromReal(r -> -ε * (r[1] - a/2))],\n",
    "                      symmetries=false)\n",
    "    PlaneWaveBasis(model; Ecut, kgrid=[1, 1, 1])  # No k-point sampling on isolated system\n",
    "end\n",
    "\n",
    "# dipole moment of a given density (assuming the current geometry)\n",
    "function dipole(basis, ρ)\n",
    "    @assert isdiag(basis.model.lattice)\n",
    "    a  = basis.model.lattice[1, 1]\n",
    "    rr = [a * (r[1] - 1/2) for r in r_vectors(basis)]\n",
    "    sum(rr .* ρ) * basis.dvol\n",
    "end\n",
    "\n",
    "# Function to compute the dipole for a given field strength\n",
    "function compute_dipole(ε; tol=1e-8, kwargs...)\n",
    "    scfres = self_consistent_field(make_basis(ε; kwargs...); tol)\n",
    "    dipole(scfres.basis, scfres.ρ)\n",
    "end;"
   ],
   "metadata": {},
   "execution_count": 1
  },
  {
   "cell_type": "markdown",
   "source": [
    "With this in place we can compute the polarizability from finite differences\n",
    "(just like in the previous example):"
   ],
   "metadata": {}
  },
  {
   "outputs": [
    {
     "name": "stdout",
     "output_type": "stream",
     "text": [
      "n     Energy            log10(ΔE)   log10(Δρ)   Diag   Δtime\n",
      "---   ---------------   ---------   ---------   ----   ------\n",
      "  1   -2.770843674480                   -0.53    8.0         \n",
      "  2   -2.772140529948       -2.89       -1.31    1.0    107ms\n",
      "  3   -2.772170122022       -4.53       -2.56    1.0    137ms\n",
      "  4   -2.772170706859       -6.23       -3.52    2.0    122ms\n",
      "  5   -2.772170721237       -7.84       -3.92    1.0    138ms\n",
      "  6   -2.772170722856       -8.79       -4.75    1.0    110ms\n",
      "  7   -2.772170723006       -9.82       -5.01    2.0    127ms\n",
      "  8   -2.772170723015      -11.05       -5.75    1.0    121ms\n",
      "  9   -2.772170723015      -12.29       -6.46    2.0    130ms\n",
      " 10   -2.772170723015      -13.83       -7.61    1.0    143ms\n",
      " 11   -2.772170723015      -14.24       -8.72    2.0    131ms\n",
      "n     Energy            log10(ΔE)   log10(Δρ)   Diag   Δtime\n",
      "---   ---------------   ---------   ---------   ----   ------\n",
      "  1   -2.770600288348                   -0.53    8.0         \n",
      "  2   -2.772050327685       -2.84       -1.30    1.0    104ms\n",
      "  3   -2.772082783499       -4.49       -2.66    1.0    106ms\n",
      "  4   -2.772083414495       -6.20       -3.80    2.0    143ms\n",
      "  5   -2.772083417406       -8.54       -4.20    2.0    123ms\n",
      "  6   -2.772083417798       -9.41       -5.44    1.0    123ms\n",
      "  7   -2.772083417810      -10.91       -5.73    2.0    127ms\n",
      "  8   -2.772083417811      -12.41       -6.63    1.0    115ms\n",
      "  9   -2.772083417811      -13.67       -7.18    2.0    147ms\n",
      " 10   -2.772083417811   +  -13.97       -7.62    1.0    124ms\n",
      " 11   -2.772083417811   +  -14.35       -8.41    1.0    123ms\n"
     ]
    },
    {
     "output_type": "execute_result",
     "data": {
      "text/plain": "1.773558059530367"
     },
     "metadata": {},
     "execution_count": 2
    }
   ],
   "cell_type": "code",
   "source": [
    "polarizability_fd = let\n",
    "    ε = 0.01\n",
    "    (compute_dipole(ε) - compute_dipole(0.0)) / ε\n",
    "end"
   ],
   "metadata": {},
   "execution_count": 2
  },
  {
   "cell_type": "markdown",
   "source": [
    "We do the same thing using automatic differentiation. Under the hood this uses\n",
    "custom rules to implicitly differentiate through the self-consistent\n",
    "field fixed-point problem."
   ],
   "metadata": {}
  },
  {
   "outputs": [
    {
     "name": "stdout",
     "output_type": "stream",
     "text": [
      "n     Energy            log10(ΔE)   log10(Δρ)   Diag   Δtime\n",
      "---   ---------------   ---------   ---------   ----   ------\n",
      "  1   -2.770617423478                   -0.53    8.0         \n",
      "  2   -2.772046993410       -2.84       -1.30    1.0    152ms\n",
      "  3   -2.772082375154       -4.45       -2.65    1.0    106ms\n",
      "  4   -2.772083414597       -5.98       -3.95    2.0    166ms\n",
      "  5   -2.772083417657       -8.51       -4.45    2.0    123ms\n",
      "  6   -2.772083417804       -9.83       -5.35    1.0    111ms\n",
      "  7   -2.772083417810      -11.19       -5.95    2.0    145ms\n",
      "  8   -2.772083417811      -12.94       -6.85    1.0    116ms\n",
      "  9   -2.772083417811      -13.78       -7.60    2.0    148ms\n",
      " 10   -2.772083417811   +  -14.21       -7.85    2.0    137ms\n",
      " 11   -2.772083417811   +  -14.45       -9.40    1.0    122ms\n",
      "\n",
      "Polarizability via ForwardDiff:       1.7725349704777307\n",
      "Polarizability via finite difference: 1.773558059530367\n"
     ]
    }
   ],
   "cell_type": "code",
   "source": [
    "polarizability = ForwardDiff.derivative(compute_dipole, 0.0)\n",
    "println()\n",
    "println(\"Polarizability via ForwardDiff:       $polarizability\")\n",
    "println(\"Polarizability via finite difference: $polarizability_fd\")"
   ],
   "metadata": {},
   "execution_count": 3
  }
 ],
 "nbformat_minor": 3,
 "metadata": {
  "language_info": {
   "file_extension": ".jl",
   "mimetype": "application/julia",
   "name": "julia",
   "version": "1.9.4"
  },
  "kernelspec": {
   "name": "julia-1.9",
   "display_name": "Julia 1.9.4",
   "language": "julia"
  }
 },
 "nbformat": 4
}
