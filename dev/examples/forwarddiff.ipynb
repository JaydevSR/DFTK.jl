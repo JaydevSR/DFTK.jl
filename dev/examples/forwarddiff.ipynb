{
 "cells": [
  {
   "cell_type": "markdown",
   "source": [
    "# Polarizability using automatic differentiation\n",
    "\n",
    "Simple example for computing properties using (forward-mode)\n",
    "automatic differentiation.\n",
    "For a more classical approach and more details about computing polarizabilities,\n",
    "see Polarizability by linear response."
   ],
   "metadata": {}
  },
  {
   "outputs": [],
   "cell_type": "code",
   "source": [
    "using DFTK\n",
    "using LinearAlgebra\n",
    "using ForwardDiff\n",
    "\n",
    "# Construct PlaneWaveBasis given a particular electric field strength\n",
    "# Again we take the example of a Helium atom.\n",
    "function make_basis(ε::T; a=10., Ecut=30) where {T}\n",
    "    lattice=T(a) * I(3)  # lattice is a cube of $a$ Bohrs\n",
    "    # Helium at the center of the box\n",
    "    atoms     = [ElementPsp(:He; psp=load_psp(\"hgh/lda/He-q2\"))]\n",
    "    positions = [[1/2, 1/2, 1/2]]\n",
    "\n",
    "    model = model_DFT(lattice, atoms, positions, [:lda_x, :lda_c_vwn];\n",
    "                      extra_terms=[ExternalFromReal(r -> -ε * (r[1] - a/2))],\n",
    "                      symmetries=false)\n",
    "    PlaneWaveBasis(model; Ecut, kgrid=[1, 1, 1])  # No k-point sampling on isolated system\n",
    "end\n",
    "\n",
    "# dipole moment of a given density (assuming the current geometry)\n",
    "function dipole(basis, ρ)\n",
    "    @assert isdiag(basis.model.lattice)\n",
    "    a  = basis.model.lattice[1, 1]\n",
    "    rr = [a * (r[1] - 1/2) for r in r_vectors(basis)]\n",
    "    sum(rr .* ρ) * basis.dvol\n",
    "end\n",
    "\n",
    "# Function to compute the dipole for a given field strength\n",
    "function compute_dipole(ε; tol=1e-8, kwargs...)\n",
    "    scfres = self_consistent_field(make_basis(ε; kwargs...); tol)\n",
    "    dipole(scfres.basis, scfres.ρ)\n",
    "end;"
   ],
   "metadata": {},
   "execution_count": 1
  },
  {
   "cell_type": "markdown",
   "source": [
    "With this in place we can compute the polarizability from finite differences\n",
    "(just like in the previous example):"
   ],
   "metadata": {}
  },
  {
   "outputs": [
    {
     "name": "stdout",
     "output_type": "stream",
     "text": [
      "n     Energy            log10(ΔE)   log10(Δρ)   Diag   Δtime\n",
      "---   ---------------   ---------   ---------   ----   ------\n",
      "  1   -2.770794296182                   -0.53    9.0    237ms\n",
      "  2   -2.772136383783       -2.87       -1.30    1.0    487ms\n",
      "  3   -2.772169439575       -4.48       -2.63    1.0    109ms\n",
      "  4   -2.772170720646       -5.89       -4.08    2.0    463ms\n",
      "  5   -2.772170722929       -8.64       -4.60    2.0    130ms\n",
      "  6   -2.772170723011      -10.09       -5.51    1.0    114ms\n",
      "  7   -2.772170723015      -11.37       -5.94    2.0    135ms\n",
      "  8   -2.772170723015      -12.87       -6.74    1.0    120ms\n",
      "  9   -2.772170723015      -13.52       -7.72    2.0    149ms\n",
      " 10   -2.772170723015   +  -13.68       -8.07    2.0    148ms\n",
      "n     Energy            log10(ΔE)   log10(Δρ)   Diag   Δtime\n",
      "---   ---------------   ---------   ---------   ----   ------\n",
      "  1   -2.770810670098                   -0.52    9.0    193ms\n",
      "  2   -2.772061937705       -2.90       -1.32    1.0    108ms\n",
      "  3   -2.772083068188       -4.68       -2.46    1.0    110ms\n",
      "  4   -2.772083342453       -6.56       -3.17    1.0    110ms\n",
      "  5   -2.772083416912       -7.13       -4.02    2.0    130ms\n",
      "  6   -2.772083417694       -9.11       -4.62    1.0    114ms\n",
      "  7   -2.772083417810       -9.93       -5.95    2.0    136ms\n",
      "  8   -2.772083417811      -13.05       -6.16    2.0    137ms\n",
      "  9   -2.772083417811      -13.16       -7.35    1.0    129ms\n",
      " 10   -2.772083417811      -14.57       -7.96    2.0    148ms\n",
      " 11   -2.772083417811      -13.99       -9.41    1.0    124ms\n"
     ]
    },
    {
     "output_type": "execute_result",
     "data": {
      "text/plain": "1.773557997884673"
     },
     "metadata": {},
     "execution_count": 2
    }
   ],
   "cell_type": "code",
   "source": [
    "polarizability_fd = let\n",
    "    ε = 0.01\n",
    "    (compute_dipole(ε) - compute_dipole(0.0)) / ε\n",
    "end"
   ],
   "metadata": {},
   "execution_count": 2
  },
  {
   "cell_type": "markdown",
   "source": [
    "We do the same thing using automatic differentiation. Under the hood this uses\n",
    "custom rules to implicitly differentiate through the self-consistent\n",
    "field fixed-point problem."
   ],
   "metadata": {}
  },
  {
   "outputs": [
    {
     "name": "stdout",
     "output_type": "stream",
     "text": [
      "n     Energy            log10(ΔE)   log10(Δρ)   Diag   Δtime\n",
      "---   ---------------   ---------   ---------   ----   ------\n",
      "  1   -2.770828503671                   -0.52    9.0    161ms\n",
      "  2   -2.772062033284       -2.91       -1.32    1.0    120ms\n",
      "  3   -2.772083070424       -4.68       -2.45    1.0    123ms\n",
      "  4   -2.772083338436       -6.57       -3.14    1.0    126ms\n",
      "  5   -2.772083416847       -7.11       -4.03    2.0    130ms\n",
      "  6   -2.772083417694       -9.07       -4.63    1.0    112ms\n",
      "  7   -2.772083417809       -9.94       -5.33    2.0    132ms\n",
      "  8   -2.772083417810      -12.14       -5.80    1.0    119ms\n",
      "  9   -2.772083417811      -12.36       -7.55    1.0    133ms\n",
      " 10   -2.772083417811      -13.71       -7.95    3.0    167ms\n",
      " 11   -2.772083417811   +  -13.89       -8.35    1.0    122ms\n",
      "\n",
      "Polarizability via ForwardDiff:       1.7725349839101703\n",
      "Polarizability via finite difference: 1.773557997884673\n"
     ]
    }
   ],
   "cell_type": "code",
   "source": [
    "polarizability = ForwardDiff.derivative(compute_dipole, 0.0)\n",
    "println()\n",
    "println(\"Polarizability via ForwardDiff:       $polarizability\")\n",
    "println(\"Polarizability via finite difference: $polarizability_fd\")"
   ],
   "metadata": {},
   "execution_count": 3
  }
 ],
 "nbformat_minor": 3,
 "metadata": {
  "language_info": {
   "file_extension": ".jl",
   "mimetype": "application/julia",
   "name": "julia",
   "version": "1.10.2"
  },
  "kernelspec": {
   "name": "julia-1.10",
   "display_name": "Julia 1.10.2",
   "language": "julia"
  }
 },
 "nbformat": 4
}
