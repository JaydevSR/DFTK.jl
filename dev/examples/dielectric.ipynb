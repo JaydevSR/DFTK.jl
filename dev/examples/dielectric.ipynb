{
 "cells": [
  {
   "cell_type": "markdown",
   "source": [
    "# Eigenvalues of the dielectric matrix\n",
    "\n",
    "We compute a few eigenvalues of the dielectric matrix ($q=0$, $ω=0$) iteratively."
   ],
   "metadata": {}
  },
  {
   "outputs": [
    {
     "name": "stdout",
     "output_type": "stream",
     "text": [
      "n     Energy            log10(ΔE)   log10(Δρ)   Diag   Δtime\n",
      "---   ---------------   ---------   ---------   ----   ------\n",
      "  1   -7.235414409175                   -0.50    8.0         \n",
      "  2   -7.250284763576       -1.83       -1.40    1.0   5.15ms\n",
      "  3   -7.251127389681       -3.07       -2.07    1.0   5.15ms\n",
      "  4   -7.251186418911       -4.23       -2.03    2.0   6.39ms\n",
      "  5   -7.251329896738       -3.84       -2.63    1.0   5.22ms\n",
      "  6   -7.251337973313       -5.09       -3.12    1.0   5.32ms\n",
      "  7   -7.251338709813       -6.13       -3.73    1.0   5.60ms\n",
      "  8   -7.251338795792       -7.07       -4.13    2.0   6.63ms\n",
      "  9   -7.251338798133       -8.63       -4.85    1.0   5.53ms\n",
      " 10   -7.251338798685       -9.26       -5.27    3.0   7.45ms\n",
      " 11   -7.251338798701      -10.80       -5.74    1.0   5.67ms\n",
      " 12   -7.251338798703      -11.74       -5.91    2.0   6.68ms\n",
      " 13   -7.251338798704      -11.83       -6.53    1.0   5.75ms\n",
      " 14   -7.251338798705      -13.05       -6.83    2.0   6.78ms\n",
      " 15   -7.251338798705      -13.80       -7.36    2.0   6.76ms\n",
      " 16   -7.251338798705      -14.75       -7.66    2.0   45.5ms\n",
      " 17   -7.251338798705      -15.05       -8.05    1.0   5.69ms\n"
     ]
    }
   ],
   "cell_type": "code",
   "source": [
    "using DFTK\n",
    "using Plots\n",
    "using KrylovKit\n",
    "using Printf\n",
    "\n",
    "# Calculation parameters\n",
    "kgrid = [1, 1, 1]\n",
    "Ecut = 5\n",
    "\n",
    "# Silicon lattice\n",
    "a = 10.26\n",
    "lattice = a / 2 .* [[0 1 1.]; [1 0 1.]; [1 1 0.]]\n",
    "Si = ElementPsp(:Si; psp=load_psp(\"hgh/lda/Si-q4\"))\n",
    "atoms     = [Si, Si]\n",
    "positions = [ones(3)/8, -ones(3)/8]\n",
    "\n",
    "# Compute the dielectric operator without symmetries\n",
    "model  = model_LDA(lattice, atoms, positions, symmetries=false)\n",
    "basis  = PlaneWaveBasis(model; Ecut, kgrid)\n",
    "scfres = self_consistent_field(basis, tol=1e-8);"
   ],
   "metadata": {},
   "execution_count": 1
  },
  {
   "cell_type": "markdown",
   "source": [
    "Applying $ε^† ≔ (1- χ_0 K)$ …"
   ],
   "metadata": {}
  },
  {
   "outputs": [],
   "cell_type": "code",
   "source": [
    "function eps_fun(δρ)\n",
    "    δV = apply_kernel(basis, δρ; ρ=scfres.ρ)\n",
    "    χ0δV = apply_χ0(scfres, δV)\n",
    "    δρ - χ0δV\n",
    "end;"
   ],
   "metadata": {},
   "execution_count": 2
  },
  {
   "cell_type": "markdown",
   "source": [
    "… eagerly diagonalizes the subspace matrix at each iteration"
   ],
   "metadata": {}
  },
  {
   "outputs": [
    {
     "name": "stdout",
     "output_type": "stream",
     "text": [
      "[ Info: Arnoldi iteration step 1: normres = 0.07383263154415157\n",
      "[ Info: Arnoldi iteration step 2: normres = 0.6222518012864504\n",
      "[ Info: Arnoldi iteration step 3: normres = 0.7518371544180092\n",
      "[ Info: Arnoldi iteration step 4: normres = 0.2216870716952142\n",
      "[ Info: Arnoldi iteration step 5: normres = 0.591454011691182\n",
      "[ Info: Arnoldi schursolve in iter 1, krylovdim = 5: 0 values converged, normres = (2.04e-02, 8.37e-02, 5.19e-01, 2.69e-01, 1.43e-02)\n",
      "[ Info: Arnoldi iteration step 6: normres = 0.25459341321689466\n",
      "[ Info: Arnoldi schursolve in iter 1, krylovdim = 6: 0 values converged, normres = (4.31e-03, 1.38e-01, 1.62e-01, 9.34e-02, 3.87e-02)\n",
      "[ Info: Arnoldi iteration step 7: normres = 0.09923096620018791\n",
      "[ Info: Arnoldi schursolve in iter 1, krylovdim = 7: 0 values converged, normres = (2.12e-04, 1.37e-02, 1.33e-02, 7.08e-02, 5.99e-02)\n",
      "[ Info: Arnoldi iteration step 8: normres = 0.11840249136390532\n",
      "[ Info: Arnoldi schursolve in iter 1, krylovdim = 8: 0 values converged, normres = (1.07e-05, 1.12e-03, 1.21e-03, 2.42e-02, 3.24e-02)\n",
      "[ Info: Arnoldi iteration step 9: normres = 0.06579268796938892\n",
      "[ Info: Arnoldi schursolve in iter 1, krylovdim = 9: 0 values converged, normres = (3.12e-07, 5.52e-05, 6.64e-05, 7.10e-03, 3.57e-02)\n",
      "[ Info: Arnoldi iteration step 10: normres = 0.0711715016501276\n",
      "[ Info: Arnoldi schursolve in iter 1, krylovdim = 10: 0 values converged, normres = (9.71e-09, 2.85e-06, 3.82e-06, 1.86e-03, 1.96e-02)\n",
      "[ Info: Arnoldi iteration step 11: normres = 0.06482436953321913\n",
      "[ Info: Arnoldi schursolve in iter 1, krylovdim = 11: 0 values converged, normres = (2.65e-10, 1.26e-07, 1.87e-07, 3.28e-04, 6.37e-03)\n",
      "[ Info: Arnoldi iteration step 12: normres = 0.06974214634226661\n",
      "[ Info: Arnoldi schursolve in iter 1, krylovdim = 12: 0 values converged, normres = (7.93e-12, 6.17e-09, 1.01e-08, 6.94e-05, 2.49e-03)\n",
      "[ Info: Arnoldi iteration step 13: normres = 0.0566074412849664\n",
      "[ Info: Arnoldi schursolve in iter 1, krylovdim = 13: 1 values converged, normres = (1.92e-13, 2.45e-10, 4.46e-10, 1.21e-05, 8.60e-04)\n",
      "[ Info: Arnoldi iteration step 14: normres = 0.7213668562288817\n",
      "[ Info: Arnoldi schursolve in iter 1, krylovdim = 14: 1 values converged, normres = (8.49e-14, 2.43e-10, 5.47e-10, 7.13e-01, 3.62e-02)\n",
      "[ Info: Arnoldi iteration step 15: normres = 0.049372695424214026\n",
      "[ Info: Arnoldi schursolve in iter 1, krylovdim = 15: 1 values converged, normres = (2.71e-15, 4.21e-11, 3.24e-02, 6.95e-03, 1.36e-05)\n",
      "[ Info: Arnoldi iteration step 16: normres = 0.7473061103205819\n",
      "[ Info: Arnoldi schursolve in iter 1, krylovdim = 16: 1 values converged, normres = (1.22e-15, 4.29e-11, 3.99e-02, 5.80e-03, 7.45e-01)\n",
      "[ Info: Arnoldi iteration step 17: normres = 0.04433687947771563\n",
      "[ Info: Arnoldi schursolve in iter 1, krylovdim = 17: 1 values converged, normres = (4.09e-17, 8.72e-10, 3.06e-02, 9.05e-06, 5.92e-03)\n",
      "[ Info: Arnoldi iteration step 18: normres = 0.02127263270292299\n",
      "[ Info: Arnoldi schursolve in iter 1, krylovdim = 18: 1 values converged, normres = (3.59e-19, 1.10e-04, 4.15e-04, 4.74e-05, 7.69e-05)\n",
      "[ Info: Arnoldi iteration step 19: normres = 0.15779163229986543\n",
      "[ Info: Arnoldi schursolve in iter 1, krylovdim = 19: 1 values converged, normres = (2.38e-20, 9.07e-09, 4.60e-05, 3.46e-08, 1.07e-05)\n",
      "[ Info: Arnoldi iteration step 20: normres = 0.056432645662828775\n",
      "[ Info: Arnoldi schursolve in iter 1, krylovdim = 20: 1 values converged, normres = (6.54e-22, 2.11e-09, 2.27e-06, 3.73e-08, 6.02e-07)\n",
      "[ Info: Arnoldi iteration step 21: normres = 0.0357410289563413\n",
      "[ Info: Arnoldi schursolve in iter 1, krylovdim = 21: 1 values converged, normres = (9.73e-24, 3.83e-09, 5.42e-08, 1.64e-09, 1.58e-08)\n",
      "[ Info: Arnoldi iteration step 22: normres = 0.016114649355971556\n",
      "[ Info: Arnoldi schursolve in iter 1, krylovdim = 22: 1 values converged, normres = (6.50e-26, 1.39e-11, 5.82e-10, 1.76e-11, 1.87e-10)\n",
      "[ Info: Arnoldi iteration step 23: normres = 0.35858998263223923\n",
      "[ Info: Arnoldi schursolve in iter 1, krylovdim = 23: 1 values converged, normres = (1.01e-26, 3.55e-12, 1.49e-10, 5.02e-12, 5.31e-11)\n",
      "[ Info: Arnoldi iteration step 24: normres = 0.073031421306694\n",
      "[ Info: Arnoldi schursolve in iter 1, krylovdim = 24: 1 values converged, normres = (6.69e-28, 1.65e-12, 6.93e-11, 8.33e-11, 8.72e-10)\n",
      "[ Info: Arnoldi iteration step 25: normres = 0.1264222917253866\n",
      "[ Info: Arnoldi schursolve in iter 1, krylovdim = 25: 2 values converged, normres = (3.60e-29, 1.50e-13, 6.28e-12, 5.57e-10, 6.31e-09)\n",
      "[ Info: Arnoldi iteration step 26: normres = 0.020773228217058737\n",
      "[ Info: Arnoldi schursolve in iter 1, krylovdim = 26: 3 values converged, normres = (3.27e-31, 2.26e-15, 9.48e-14, 9.78e-05, 5.29e-05)\n",
      "[ Info: Arnoldi iteration step 27: normres = 0.022841898187433526\n",
      "[ Info: Arnoldi schursolve in iter 1, krylovdim = 27: 3 values converged, normres = (3.07e-33, 3.37e-17, 1.41e-15, 1.53e-10, 1.70e-09)\n",
      "[ Info: Arnoldi iteration step 28: normres = 0.10236910123685475\n",
      "[ Info: Arnoldi schursolve in iter 1, krylovdim = 28: 3 values converged, normres = (1.35e-34, 2.43e-18, 1.02e-16, 1.86e-08, 1.43e-07)\n",
      "[ Info: Arnoldi iteration step 29: normres = 0.018402651778983148\n",
      "[ Info: Arnoldi schursolve in iter 1, krylovdim = 29: 3 values converged, normres = (1.06e-36, 3.11e-20, 1.30e-18, 4.36e-12, 2.04e-09)\n",
      "[ Info: Arnoldi iteration step 30: normres = 0.18788752931505345\n",
      "[ Info: Arnoldi schursolve in iter 1, krylovdim = 30: 4 values converged, normres = (8.49e-38, 4.07e-21, 1.71e-19, 6.15e-13, 2.97e-10)\n",
      "[ Info: Arnoldi schursolve in iter 2, krylovdim = 19: 4 values converged, normres = (8.49e-38, 4.07e-21, 1.71e-19, 6.15e-13, 2.97e-10)\n",
      "[ Info: Arnoldi iteration step 20: normres = 0.055862146095625086\n",
      "[ Info: Arnoldi schursolve in iter 2, krylovdim = 20: 4 values converged, normres = (2.29e-39, 1.95e-22, 8.20e-21, 3.36e-14, 1.62e-11)\n",
      "[ Info: Arnoldi iteration step 21: normres = 0.0701897359137976\n",
      "┌ Info: Arnoldi eigsolve finished after 2 iterations:\n",
      "│ *  6 eigenvalues converged\n",
      "│ *  norm of residuals = (6.680818195833259e-41, 9.208115978656482e-24, 3.7975765420957637e-22, 1.7484554090489014e-15, 8.409222226466822e-13, 3.550496840820154e-14)\n",
      "└ *  number of operations = 32\n"
     ]
    }
   ],
   "cell_type": "code",
   "source": [
    "eigsolve(eps_fun, randn(size(scfres.ρ)), 5, :LM; eager=true, verbosity=3);"
   ],
   "metadata": {},
   "execution_count": 3
  }
 ],
 "nbformat_minor": 3,
 "metadata": {
  "language_info": {
   "file_extension": ".jl",
   "mimetype": "application/julia",
   "name": "julia",
   "version": "1.9.4"
  },
  "kernelspec": {
   "name": "julia-1.9",
   "display_name": "Julia 1.9.4",
   "language": "julia"
  }
 },
 "nbformat": 4
}
