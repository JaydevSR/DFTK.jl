{
 "cells": [
  {
   "cell_type": "markdown",
   "source": [
    "# Eigenvalues of the dielectric matrix\n",
    "\n",
    "We compute a few eigenvalues of the dielectric matrix ($q=0$, $ω=0$) iteratively."
   ],
   "metadata": {}
  },
  {
   "outputs": [
    {
     "name": "stdout",
     "output_type": "stream",
     "text": [
      "n     Energy            log10(ΔE)   log10(Δρ)   Diag   Δtime\n",
      "---   ---------------   ---------   ---------   ----   ------\n",
      "  1   -7.234974635752                   -0.50    8.0         \n",
      "  2   -7.250220719840       -1.82       -1.40    1.0   5.02ms\n",
      "  3   -7.250877698475       -3.18       -1.86    1.0   5.08ms\n",
      "  4   -7.250960573051       -4.08       -1.87    2.0   6.31ms\n",
      "  5   -7.251330613211       -3.43       -2.65    1.0   5.16ms\n",
      "  6   -7.251338003690       -5.13       -3.14    1.0   5.22ms\n",
      "  7   -7.251338627939       -6.20       -3.44    2.0   6.29ms\n",
      "  8   -7.251338782177       -6.81       -4.01    1.0   5.48ms\n",
      "  9   -7.251338792656       -7.98       -4.14    3.0   7.20ms\n",
      " 10   -7.251338798014       -8.27       -4.67    2.0   6.40ms\n",
      " 11   -7.251338798674       -9.18       -5.55    2.0   6.64ms\n",
      " 12   -7.251338798703      -10.54       -5.71    3.0   7.97ms\n",
      " 13   -7.251338798704      -11.86       -6.11    1.0   5.79ms\n",
      " 14   -7.251338798704      -12.32       -6.57    2.0   6.66ms\n",
      " 15   -7.251338798705      -13.10       -7.09    1.0   5.76ms\n",
      " 16   -7.251338798705      -14.75       -7.31    2.0   6.82ms\n",
      " 17   -7.251338798705      -15.05       -7.72    1.0   5.81ms\n",
      " 18   -7.251338798705      -14.75       -8.11    2.0   6.91ms\n"
     ]
    }
   ],
   "cell_type": "code",
   "source": [
    "using DFTK\n",
    "using Plots\n",
    "using KrylovKit\n",
    "using Printf\n",
    "\n",
    "# Calculation parameters\n",
    "kgrid = [1, 1, 1]\n",
    "Ecut = 5\n",
    "\n",
    "# Silicon lattice\n",
    "a = 10.26\n",
    "lattice = a / 2 .* [[0 1 1.]; [1 0 1.]; [1 1 0.]]\n",
    "Si = ElementPsp(:Si; psp=load_psp(\"hgh/lda/Si-q4\"))\n",
    "atoms     = [Si, Si]\n",
    "positions = [ones(3)/8, -ones(3)/8]\n",
    "\n",
    "# Compute the dielectric operator without symmetries\n",
    "model  = model_LDA(lattice, atoms, positions, symmetries=false)\n",
    "basis  = PlaneWaveBasis(model; Ecut, kgrid)\n",
    "scfres = self_consistent_field(basis, tol=1e-8);"
   ],
   "metadata": {},
   "execution_count": 1
  },
  {
   "cell_type": "markdown",
   "source": [
    "Applying $ε^† ≔ (1- χ_0 K)$ …"
   ],
   "metadata": {}
  },
  {
   "outputs": [],
   "cell_type": "code",
   "source": [
    "function eps_fun(δρ)\n",
    "    δV = apply_kernel(basis, δρ; ρ=scfres.ρ)\n",
    "    χ0δV = apply_χ0(scfres, δV)\n",
    "    δρ - χ0δV\n",
    "end;"
   ],
   "metadata": {},
   "execution_count": 2
  },
  {
   "cell_type": "markdown",
   "source": [
    "… eagerly diagonalizes the subspace matrix at each iteration"
   ],
   "metadata": {}
  },
  {
   "outputs": [
    {
     "name": "stdout",
     "output_type": "stream",
     "text": [
      "[ Info: Arnoldi iteration step 1: normres = 0.047073016769121075\n",
      "[ Info: Arnoldi iteration step 2: normres = 0.7463992030941486\n",
      "[ Info: Arnoldi iteration step 3: normres = 0.693594319732335\n",
      "[ Info: Arnoldi iteration step 4: normres = 0.29289499163600663\n",
      "[ Info: Arnoldi iteration step 5: normres = 0.3167519711440241\n",
      "[ Info: Arnoldi schursolve in iter 1, krylovdim = 5: 0 values converged, normres = (1.31e-02, 6.04e-02, 2.12e-01, 2.23e-01, 3.84e-02)\n",
      "[ Info: Arnoldi iteration step 6: normres = 0.4931213449423616\n",
      "[ Info: Arnoldi schursolve in iter 1, krylovdim = 6: 0 values converged, normres = (5.29e-03, 1.55e-01, 4.45e-01, 1.04e-01, 3.31e-02)\n",
      "[ Info: Arnoldi iteration step 7: normres = 0.09882351622650842\n",
      "[ Info: Arnoldi schursolve in iter 1, krylovdim = 7: 0 values converged, normres = (3.10e-04, 3.95e-02, 2.03e-02, 5.43e-02, 6.71e-02)\n",
      "[ Info: Arnoldi iteration step 8: normres = 0.11144086675834461\n",
      "[ Info: Arnoldi schursolve in iter 1, krylovdim = 8: 0 values converged, normres = (1.50e-05, 3.14e-03, 1.76e-03, 1.98e-02, 4.18e-02)\n",
      "[ Info: Arnoldi iteration step 9: normres = 0.08189322933406123\n",
      "[ Info: Arnoldi schursolve in iter 1, krylovdim = 9: 0 values converged, normres = (5.33e-07, 1.85e-04, 1.15e-04, 6.03e-03, 3.06e-02)\n",
      "[ Info: Arnoldi iteration step 10: normres = 0.07832757350408419\n",
      "[ Info: Arnoldi schursolve in iter 1, krylovdim = 10: 0 values converged, normres = (1.83e-08, 1.05e-05, 7.32e-06, 1.73e-03, 2.13e-02)\n",
      "[ Info: Arnoldi iteration step 11: normres = 0.06411181314074976\n",
      "[ Info: Arnoldi schursolve in iter 1, krylovdim = 11: 0 values converged, normres = (5.00e-10, 4.71e-07, 3.63e-07, 3.38e-04, 8.20e-03)\n",
      "[ Info: Arnoldi iteration step 12: normres = 0.08546261318851722\n",
      "[ Info: Arnoldi schursolve in iter 1, krylovdim = 12: 0 values converged, normres = (1.82e-11, 2.79e-08, 2.38e-08, 8.41e-05, 3.79e-03)\n",
      "[ Info: Arnoldi iteration step 13: normres = 0.05711058077357129\n",
      "[ Info: Arnoldi schursolve in iter 1, krylovdim = 13: 1 values converged, normres = (4.45e-13, 1.12e-09, 1.06e-09, 1.49e-05, 1.34e-03)\n",
      "[ Info: Arnoldi iteration step 14: normres = 0.6598512892823464\n",
      "[ Info: Arnoldi schursolve in iter 1, krylovdim = 14: 1 values converged, normres = (2.03e-13, 1.36e-09, 1.73e-09, 6.57e-01, 9.71e-03)\n",
      "[ Info: Arnoldi iteration step 15: normres = 0.06075469682866933\n",
      "[ Info: Arnoldi schursolve in iter 1, krylovdim = 15: 1 values converged, normres = (7.04e-15, 2.20e-10, 3.36e-02, 4.64e-04, 1.57e-06)\n",
      "[ Info: Arnoldi iteration step 16: normres = 0.48136288311777564\n",
      "[ Info: Arnoldi schursolve in iter 1, krylovdim = 16: 1 values converged, normres = (3.08e-15, 5.87e-10, 1.81e-01, 7.62e-03, 4.46e-01)\n",
      "[ Info: Arnoldi iteration step 17: normres = 0.02488145381829493\n",
      "[ Info: Arnoldi schursolve in iter 1, krylovdim = 17: 1 values converged, normres = (3.78e-17, 1.50e-08, 8.13e-03, 6.64e-06, 2.13e-03)\n",
      "[ Info: Arnoldi iteration step 18: normres = 0.04578701939653853\n",
      "[ Info: Arnoldi schursolve in iter 1, krylovdim = 18: 1 values converged, normres = (7.19e-19, 2.37e-04, 7.19e-05, 6.89e-05, 1.82e-05)\n",
      "[ Info: Arnoldi iteration step 19: normres = 0.2119458600490856\n",
      "[ Info: Arnoldi schursolve in iter 1, krylovdim = 19: 1 values converged, normres = (6.88e-20, 1.51e-08, 4.02e-05, 3.33e-08, 1.29e-05)\n",
      "[ Info: Arnoldi iteration step 20: normres = 0.02695684136612146\n",
      "[ Info: Arnoldi schursolve in iter 1, krylovdim = 20: 1 values converged, normres = (8.48e-22, 8.55e-07, 1.73e-08, 5.82e-08, 3.05e-07)\n",
      "[ Info: Arnoldi iteration step 21: normres = 0.02660725415415803\n",
      "[ Info: Arnoldi schursolve in iter 1, krylovdim = 21: 1 values converged, normres = (9.31e-24, 1.50e-08, 5.48e-10, 3.51e-09, 4.86e-09)\n",
      "[ Info: Arnoldi iteration step 22: normres = 0.10718282761175772\n",
      "[ Info: Arnoldi schursolve in iter 1, krylovdim = 22: 1 values converged, normres = (4.16e-25, 1.06e-09, 2.08e-10, 3.36e-10, 3.36e-10)\n",
      "[ Info: Arnoldi iteration step 23: normres = 0.32591231309818997\n",
      "[ Info: Arnoldi schursolve in iter 1, krylovdim = 23: 1 values converged, normres = (1.18e-25, 1.48e-09, 1.85e-10, 1.10e-09, 1.21e-09)\n",
      "[ Info: Arnoldi iteration step 24: normres = 0.014614863757176926\n",
      "[ Info: Arnoldi schursolve in iter 1, krylovdim = 24: 1 values converged, normres = (7.77e-28, 2.36e-11, 4.30e-12, 1.60e-04, 1.66e-04)\n",
      "[ Info: Arnoldi iteration step 25: normres = 0.059986691785014076\n",
      "[ Info: Arnoldi schursolve in iter 1, krylovdim = 25: 3 values converged, normres = (1.92e-29, 9.32e-13, 1.69e-13, 2.11e-08, 7.55e-08)\n",
      "[ Info: Arnoldi iteration step 26: normres = 0.05875384464721062\n",
      "[ Info: Arnoldi schursolve in iter 1, krylovdim = 26: 3 values converged, normres = (5.09e-31, 4.18e-14, 7.60e-15, 3.85e-06, 1.85e-06)\n",
      "[ Info: Arnoldi iteration step 27: normres = 0.0198095124092362\n",
      "[ Info: Arnoldi schursolve in iter 1, krylovdim = 27: 3 values converged, normres = (4.15e-33, 5.45e-16, 9.90e-17, 8.02e-09, 1.83e-08)\n",
      "[ Info: Arnoldi iteration step 28: normres = 0.09985439530514706\n",
      "[ Info: Arnoldi schursolve in iter 1, krylovdim = 28: 3 values converged, normres = (1.75e-34, 3.72e-17, 6.75e-18, 5.04e-09, 2.07e-09)\n",
      "[ Info: Arnoldi iteration step 29: normres = 0.08598878438639006\n",
      "[ Info: Arnoldi schursolve in iter 1, krylovdim = 29: 3 values converged, normres = (6.59e-36, 2.33e-18, 4.23e-19, 2.64e-10, 4.64e-10)\n",
      "[ Info: Arnoldi iteration step 30: normres = 0.09733064314437152\n",
      "[ Info: Arnoldi schursolve in iter 1, krylovdim = 30: 3 values converged, normres = (3.14e-37, 1.99e-19, 3.62e-20, 2.62e-11, 4.44e-11)\n",
      "[ Info: Arnoldi schursolve in iter 2, krylovdim = 19: 3 values converged, normres = (3.14e-37, 1.99e-19, 3.62e-20, 2.62e-11, 4.44e-11)\n",
      "[ Info: Arnoldi iteration step 20: normres = 0.07238409152206975\n",
      "[ Info: Arnoldi schursolve in iter 2, krylovdim = 20: 3 values converged, normres = (9.60e-39, 9.90e-21, 1.80e-21, 1.44e-12, 2.44e-12)\n",
      "[ Info: Arnoldi iteration step 21: normres = 0.03996471578586654\n",
      "┌ Info: Arnoldi eigsolve finished after 2 iterations:\n",
      "│ *  6 eigenvalues converged\n",
      "│ *  norm of residuals = (1.646501561599842e-40, 2.782324140610077e-22, 1.1597005007962812e-22, 4.501932200700054e-14, 8.7611512061163e-14, 6.830960302546456e-14)\n",
      "└ *  number of operations = 32\n"
     ]
    }
   ],
   "cell_type": "code",
   "source": [
    "eigsolve(eps_fun, randn(size(scfres.ρ)), 5, :LM; eager=true, verbosity=3);"
   ],
   "metadata": {},
   "execution_count": 3
  }
 ],
 "nbformat_minor": 3,
 "metadata": {
  "language_info": {
   "file_extension": ".jl",
   "mimetype": "application/julia",
   "name": "julia",
   "version": "1.9.4"
  },
  "kernelspec": {
   "name": "julia-1.9",
   "display_name": "Julia 1.9.4",
   "language": "julia"
  }
 },
 "nbformat": 4
}
