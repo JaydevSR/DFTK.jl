{
 "cells": [
  {
   "cell_type": "markdown",
   "source": [
    "# Creating and modelling metallic supercells\n",
    "\n",
    "In this section we will be concerned with modelling supercells of aluminium.\n",
    "When dealing with periodic problems there is no unique definition of the\n",
    "lattice: Clearly any duplication of the lattice along an axis is also a valid\n",
    "repetitive unit to describe exactly the same system.\n",
    "This is exactly what a **supercell** is: An $n$-fold repetition along one of the\n",
    "axes of the original lattice.\n",
    "\n",
    "The following code achieves this for aluminium:"
   ],
   "metadata": {}
  },
  {
   "outputs": [],
   "cell_type": "code",
   "source": [
    "using DFTK\n",
    "using LinearAlgebra\n",
    "using ASEconvert\n",
    "\n",
    "function aluminium_setup(repeat=1; Ecut=7.0, kgrid=[2, 2, 2])\n",
    "    a = 7.65339\n",
    "    lattice = a * Matrix(I, 3, 3)\n",
    "    Al = ElementPsp(:Al; psp=load_psp(\"hgh/lda/al-q3\"))\n",
    "    atoms     = [Al, Al, Al, Al]\n",
    "    positions = [[0.0, 0.0, 0.0], [0.0, 0.5, 0.5], [0.5, 0.0, 0.5], [0.5, 0.5, 0.0]]\n",
    "    unit_cell = periodic_system(lattice, atoms, positions)\n",
    "\n",
    "    # Make supercell in ASE:\n",
    "    # We convert our lattice to the conventions used in ASE, make the supercell\n",
    "    # and then convert back ...\n",
    "    supercell_ase = convert_ase(unit_cell) * pytuple((repeat, 1, 1))\n",
    "    supercell     = pyconvert(AbstractSystem, supercell_ase)\n",
    "\n",
    "    # Unfortunately right now the conversion to ASE drops the pseudopotential information,\n",
    "    # so we need to reattach it:\n",
    "    supercell = attach_psp(supercell; Al=\"hgh/lda/al-q3\")\n",
    "\n",
    "    # Construct an LDA model and discretise\n",
    "    # Note: We disable symmetries explicitly here. Otherwise the problem sizes\n",
    "    #       we are able to run on the CI are too simple to observe the numerical\n",
    "    #       instabilities we want to trigger here.\n",
    "    model = model_LDA(supercell; temperature=1e-3, symmetries=false)\n",
    "    PlaneWaveBasis(model; Ecut, kgrid)\n",
    "end;"
   ],
   "metadata": {},
   "execution_count": 1
  },
  {
   "cell_type": "markdown",
   "source": [
    "As part of the code we are using a routine inside the ASE,\n",
    "the [atomistic simulation environment](https://wiki.fysik.dtu.dk/ase/index.html)\n",
    "for creating the supercell and make use of the two-way interoperability of\n",
    "DFTK and ASE. For more details on this aspect see the documentation\n",
    "on Input and output formats."
   ],
   "metadata": {}
  },
  {
   "cell_type": "markdown",
   "source": [
    "Write an example supercell structure to a file to plot it:"
   ],
   "metadata": {}
  },
  {
   "outputs": [
    {
     "name": "stdout",
     "output_type": "stream",
     "text": [
      "┌ Warning: Skipping atomic property pseudopotential, which is not supported in ASE.\n",
      "└ @ ASEconvert ~/.julia/packages/ASEconvert/yMJC2/src/ase_conversions.jl:100\n",
      "┌ Warning: Skipping atomic property pseudopotential, which is not supported in ASE.\n",
      "└ @ ASEconvert ~/.julia/packages/ASEconvert/yMJC2/src/ase_conversions.jl:100\n"
     ]
    },
    {
     "output_type": "execute_result",
     "data": {
      "text/plain": "Python: None"
     },
     "metadata": {},
     "execution_count": 2
    }
   ],
   "cell_type": "code",
   "source": [
    "setup = aluminium_setup(5)\n",
    "convert_ase(periodic_system(setup.model)).write(\"al_supercell.png\")"
   ],
   "metadata": {},
   "execution_count": 2
  },
  {
   "cell_type": "markdown",
   "source": [
    "<img src=\"https://docs.dftk.org/stable/examples/al_supercell.png\" width=500 height=500 />"
   ],
   "metadata": {}
  },
  {
   "cell_type": "markdown",
   "source": [
    "As we will see in this notebook the modelling of a system generally becomes\n",
    "harder if the system becomes larger.\n",
    "\n",
    "- This sounds like a trivial statement as *per se* the cost per SCF step increases\n",
    "  as the system (and thus $N$) gets larger.\n",
    "- But there is more to it:\n",
    "  If one is not careful also the *number of SCF iterations* increases\n",
    "  as the system gets larger.\n",
    "- The aim of a proper computational treatment of such supercells is therefore\n",
    "  to ensure that the **number of SCF iterations remains constant** when the\n",
    "  system size increases."
   ],
   "metadata": {}
  },
  {
   "cell_type": "markdown",
   "source": [
    "For achieving the latter DFTK by default employs the `LdosMixing`\n",
    "preconditioner [^HL2021] during the SCF iterations. This mixing approach is\n",
    "completely parameter free, but still automatically adapts to the treated\n",
    "system in order to efficiently prevent charge sloshing. As a result,\n",
    "modelling aluminium slabs indeed takes roughly the same number of SCF iterations\n",
    "irrespective of the supercell size:\n",
    "\n",
    "[^HL2021]:\n",
    "   M. F. Herbst and A. Levitt.\n",
    "   *Black-box inhomogeneous preconditioning for self-consistent field iterations in density functional theory.*\n",
    "   J. Phys. Cond. Matt *33* 085503 (2021). [ArXiv:2009.01665](https://arxiv.org/abs/2009.01665)"
   ],
   "metadata": {}
  },
  {
   "outputs": [
    {
     "name": "stdout",
     "output_type": "stream",
     "text": [
      "┌ Warning: Skipping atomic property pseudopotential, which is not supported in ASE.\n",
      "└ @ ASEconvert ~/.julia/packages/ASEconvert/yMJC2/src/ase_conversions.jl:100\n",
      "n     Energy            log10(ΔE)   log10(Δρ)   Diag   Δtime\n",
      "---   ---------------   ---------   ---------   ----   ------\n",
      "  1   -8.298683019102                   -0.85    6.1    207ms\n",
      "  2   -8.300225274409       -2.81       -1.25    2.1    102ms\n",
      "  3   -8.300439428372       -3.67       -1.85    1.9    115ms\n",
      "  4   -8.300459956298       -4.69       -2.58    1.0   90.1ms\n",
      "  5   -8.300464270116       -5.37       -3.00    1.9    108ms\n",
      "  6   -8.300464578961       -6.51       -3.19    1.6   99.4ms\n",
      "  7   -8.300464620793       -7.38       -3.44    1.1   97.4ms\n",
      "  8   -8.300464632481       -7.93       -3.64    1.5   93.4ms\n",
      "  9   -8.300464637566       -8.29       -3.80    1.6   98.9ms\n",
      " 10   -8.300464641635       -8.39       -4.05    1.0   88.1ms\n"
     ]
    }
   ],
   "cell_type": "code",
   "source": [
    "self_consistent_field(aluminium_setup(1); tol=1e-4);"
   ],
   "metadata": {},
   "execution_count": 3
  },
  {
   "outputs": [
    {
     "name": "stdout",
     "output_type": "stream",
     "text": [
      "┌ Warning: Skipping atomic property pseudopotential, which is not supported in ASE.\n",
      "└ @ ASEconvert ~/.julia/packages/ASEconvert/yMJC2/src/ase_conversions.jl:100\n",
      "n     Energy            log10(ΔE)   log10(Δρ)   Diag   Δtime\n",
      "---   ---------------   ---------   ---------   ----   ------\n",
      "  1   -16.67027348342                   -0.70    5.9    493ms\n",
      "  2   -16.67320286534       -2.53       -1.14    1.4    221ms\n",
      "  3   -16.67923283400       -2.22       -1.83    3.4    297ms\n",
      "  4   -16.67927425461       -4.38       -2.52    2.1    232ms\n",
      "  5   -16.67928481810       -4.98       -3.07    2.2    269ms\n",
      "  6   -16.67928611809       -5.89       -3.38    4.6    323ms\n",
      "  7   -16.67928620376       -7.07       -3.96    1.1    196ms\n",
      "  8   -16.67928622006       -7.79       -4.38    2.6    285ms\n"
     ]
    }
   ],
   "cell_type": "code",
   "source": [
    "self_consistent_field(aluminium_setup(2); tol=1e-4);"
   ],
   "metadata": {},
   "execution_count": 4
  },
  {
   "outputs": [
    {
     "name": "stdout",
     "output_type": "stream",
     "text": [
      "┌ Warning: Skipping atomic property pseudopotential, which is not supported in ASE.\n",
      "└ @ ASEconvert ~/.julia/packages/ASEconvert/yMJC2/src/ase_conversions.jl:100\n",
      "n     Energy            log10(ΔE)   log10(Δρ)   Diag   Δtime\n",
      "---   ---------------   ---------   ---------   ----   ------\n",
      "  1   -33.32629305858                   -0.56    7.4    1.49s\n",
      "  2   -33.33287848349       -2.18       -1.00    1.0    681ms\n",
      "  3   -33.33412537030       -2.90       -1.73    4.2    963ms\n",
      "  4   -33.33488681269       -3.12       -2.38    1.2    693ms\n",
      "  5   -33.33692464072       -2.69       -2.59   11.5    1.36s\n",
      "  6   -33.33693899045       -4.84       -2.93    3.4    812ms\n",
      "  7   -33.33694334901       -5.36       -3.63    2.5    793ms\n",
      "  8   -33.33694363672       -6.54       -3.75    6.4    1.18s\n",
      "  9   -33.33694375983       -6.91       -4.18    1.0    637ms\n"
     ]
    }
   ],
   "cell_type": "code",
   "source": [
    "self_consistent_field(aluminium_setup(4); tol=1e-4);"
   ],
   "metadata": {},
   "execution_count": 5
  },
  {
   "cell_type": "markdown",
   "source": [
    "When switching off explicitly the `LdosMixing`, by selecting `mixing=SimpleMixing()`,\n",
    "the performance of number of required SCF steps starts to increase as we increase\n",
    "the size of the modelled problem:"
   ],
   "metadata": {}
  },
  {
   "outputs": [
    {
     "name": "stdout",
     "output_type": "stream",
     "text": [
      "┌ Warning: Skipping atomic property pseudopotential, which is not supported in ASE.\n",
      "└ @ ASEconvert ~/.julia/packages/ASEconvert/yMJC2/src/ase_conversions.jl:100\n",
      "n     Energy            log10(ΔE)   log10(Δρ)   Diag   Δtime\n",
      "---   ---------------   ---------   ---------   ----   ------\n",
      "  1   -8.298716014950                   -0.85    5.2    224ms\n",
      "  2   -8.300288315612       -2.80       -1.58    1.1   79.5ms\n",
      "  3   -8.300382221975       -4.03       -2.31    3.0    104ms\n",
      "  4   -8.300326010095   +   -4.25       -2.18    2.5    110ms\n",
      "  5   -8.300463929138       -3.86       -3.46    1.0   77.1ms\n",
      "  6   -8.300464517999       -6.23       -3.70   10.4    217ms\n",
      "  7   -8.300464633295       -6.94       -4.13    1.1   91.2ms\n"
     ]
    }
   ],
   "cell_type": "code",
   "source": [
    "self_consistent_field(aluminium_setup(1); tol=1e-4, mixing=SimpleMixing());"
   ],
   "metadata": {},
   "execution_count": 6
  },
  {
   "outputs": [
    {
     "name": "stdout",
     "output_type": "stream",
     "text": [
      "┌ Warning: Skipping atomic property pseudopotential, which is not supported in ASE.\n",
      "└ @ ASEconvert ~/.julia/packages/ASEconvert/yMJC2/src/ase_conversions.jl:100\n",
      "n     Energy            log10(ΔE)   log10(Δρ)   Diag   Δtime\n",
      "---   ---------------   ---------   ---------   ----   ------\n",
      "  1   -33.32801926525                   -0.56    7.4    1.83s\n",
      "  2   -33.33322657271       -2.28       -1.28    1.5    621ms\n",
      "  3   -31.58753950696   +    0.24       -0.94    6.5    1.23s\n",
      "  4   -32.92480737076        0.13       -1.25    5.1    1.17s\n",
      "  5   -33.26180000621       -0.47       -1.41    3.4    923ms\n",
      "  6   -32.97248830377   +   -0.54       -1.28    3.5    929ms\n",
      "  7   -33.32316648089       -0.46       -1.94    4.0    943ms\n",
      "  8   -33.33508720867       -1.92       -2.37    1.6    647ms\n",
      "  9   -33.33584442039       -3.12       -2.50    3.1    889ms\n",
      " 10   -33.33668030341       -3.08       -2.66    2.1    742ms\n",
      " 11   -33.33683105540       -3.82       -2.85    1.8    709ms\n",
      " 12   -33.33692987588       -4.01       -3.27    2.6    1.07s\n",
      " 13   -33.33694147960       -4.94       -3.62    3.9    923ms\n",
      " 14   -33.33694217794       -6.16       -3.74    3.0    827ms\n",
      " 15   -33.33694277579       -6.22       -3.95    1.5    641ms\n",
      " 16   -33.33694364113       -6.06       -4.20    2.0    709ms\n"
     ]
    }
   ],
   "cell_type": "code",
   "source": [
    "self_consistent_field(aluminium_setup(4); tol=1e-4, mixing=SimpleMixing());"
   ],
   "metadata": {},
   "execution_count": 7
  },
  {
   "cell_type": "markdown",
   "source": [
    "For completion let us note that the more traditional `mixing=KerkerMixing()`\n",
    "approach would also help in this particular setting to obtain a constant\n",
    "number of SCF iterations for an increasing system size (try it!). In contrast\n",
    "to `LdosMixing`, however, `KerkerMixing` is only suitable to model bulk metallic\n",
    "system (like the case we are considering here). When modelling metallic surfaces\n",
    "or mixtures of metals and insulators, `KerkerMixing` fails, while `LdosMixing`\n",
    "still works well. See the Modelling a gallium arsenide surface example\n",
    "or [^HL2021] for details. Due to the general applicability of `LdosMixing` this\n",
    "method is the default mixing approach in DFTK."
   ],
   "metadata": {}
  }
 ],
 "nbformat_minor": 3,
 "metadata": {
  "language_info": {
   "file_extension": ".jl",
   "mimetype": "application/julia",
   "name": "julia",
   "version": "1.10.2"
  },
  "kernelspec": {
   "name": "julia-1.10",
   "display_name": "Julia 1.10.2",
   "language": "julia"
  }
 },
 "nbformat": 4
}
