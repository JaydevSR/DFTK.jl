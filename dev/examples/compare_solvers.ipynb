{
 "cells": [
  {
   "cell_type": "markdown",
   "source": [
    "# Comparison of DFT solvers"
   ],
   "metadata": {}
  },
  {
   "cell_type": "markdown",
   "source": [
    "We compare four different approaches for solving the DFT minimisation problem,\n",
    "namely a density-based SCF, a potential-based SCF, direct minimisation and Newton."
   ],
   "metadata": {}
  },
  {
   "cell_type": "markdown",
   "source": [
    "First we setup our problem"
   ],
   "metadata": {}
  },
  {
   "outputs": [
    {
     "output_type": "execute_result",
     "data": {
      "text/plain": "1.0e-6"
     },
     "metadata": {},
     "execution_count": 1
    }
   ],
   "cell_type": "code",
   "source": [
    "using DFTK\n",
    "using LinearAlgebra\n",
    "\n",
    "a = 10.26  # Silicon lattice constant in Bohr\n",
    "lattice = a / 2 * [[0 1 1.];\n",
    "                   [1 0 1.];\n",
    "                   [1 1 0.]]\n",
    "Si = ElementPsp(:Si; psp=load_psp(\"hgh/lda/Si-q4\"))\n",
    "atoms     = [Si, Si]\n",
    "positions = [ones(3)/8, -ones(3)/8]\n",
    "\n",
    "model = model_LDA(lattice, atoms, positions)\n",
    "basis = PlaneWaveBasis(model; Ecut=5, kgrid=[3, 3, 3])\n",
    "\n",
    "# Convergence we desire in the density\n",
    "tol = 1e-6"
   ],
   "metadata": {},
   "execution_count": 1
  },
  {
   "cell_type": "markdown",
   "source": [
    "## Density-based self-consistent field"
   ],
   "metadata": {}
  },
  {
   "outputs": [
    {
     "name": "stdout",
     "output_type": "stream",
     "text": [
      "n     Energy            log10(ΔE)   log10(Δρ)   Diag   Δtime\n",
      "---   ---------------   ---------   ---------   ----   ------\n",
      "  1   -7.847715525333                   -0.70    4.5    108ms\n",
      "  2   -7.852385689960       -2.33       -1.53    1.0   17.7ms\n",
      "  3   -7.852608526563       -3.65       -2.54    1.2   18.5ms\n",
      "  4   -7.852645455493       -4.43       -2.78    2.5   23.2ms\n",
      "  5   -7.852646116448       -6.18       -2.88    1.2   18.5ms\n",
      "  6   -7.852646667205       -6.26       -3.89    1.0   18.0ms\n",
      "  7   -7.852646685944       -7.73       -4.62    2.0   64.8ms\n",
      "  8   -7.852646686684       -9.13       -5.11    1.5   19.6ms\n",
      "  9   -7.852646686725      -10.39       -5.74    1.2   19.2ms\n",
      " 10   -7.852646686729      -11.34       -5.98    2.0   22.4ms\n",
      " 11   -7.852646686730      -12.41       -6.55    1.0   18.5ms\n"
     ]
    }
   ],
   "cell_type": "code",
   "source": [
    "scfres_scf = self_consistent_field(basis; tol);"
   ],
   "metadata": {},
   "execution_count": 2
  },
  {
   "cell_type": "markdown",
   "source": [
    "## Potential-based SCF"
   ],
   "metadata": {}
  },
  {
   "outputs": [
    {
     "name": "stdout",
     "output_type": "stream",
     "text": [
      "n     Energy            log10(ΔE)   log10(Δρ)   α      Diag   Δtime\n",
      "---   ---------------   ---------   ---------   ----   ----   ------\n",
      "  1   -7.847776637273                   -0.70           4.5    418ms\n",
      "  2   -7.852561107626       -2.32       -1.62   0.80    2.2    2.37s\n",
      "  3   -7.852641777153       -4.09       -2.69   0.80    1.0    234ms\n",
      "  4   -7.852646503862       -5.33       -3.43   0.80    1.8   19.8ms\n",
      "  5   -7.852646681733       -6.75       -4.41   0.80    2.0   20.1ms\n",
      "  6   -7.852646686633       -8.31       -4.88   0.80    2.5   22.5ms\n",
      "  7   -7.852646686725      -10.04       -5.54   0.80    1.0   16.4ms\n",
      "  8   -7.852646686730      -11.33       -6.48   0.80    1.5   19.3ms\n"
     ]
    }
   ],
   "cell_type": "code",
   "source": [
    "scfres_scfv = DFTK.scf_potential_mixing(basis; tol);"
   ],
   "metadata": {},
   "execution_count": 3
  },
  {
   "cell_type": "markdown",
   "source": [
    "## Direct minimization\n",
    "Note: Unlike the other algorithms, tolerance for this one is in the energy,\n",
    "thus we square the density tolerance value to be roughly equivalent."
   ],
   "metadata": {}
  },
  {
   "outputs": [
    {
     "name": "stdout",
     "output_type": "stream",
     "text": [
      "n     Energy            log10(ΔE)   log10(Δρ)   Δtime\n",
      "---   ---------------   ---------   ---------   ------\n",
      "  1   +1.242843227457                   -1.00    4.38s\n",
      "  2   -1.332637854287        0.41       -0.69    108ms\n",
      "  3   -3.494481637289        0.33       -0.46   33.0ms\n",
      "  4   -4.449077121683       -0.02       -0.58   32.9ms\n",
      "  5   -6.270454056228        0.26       -0.64   32.9ms\n",
      "  6   -7.151745662839       -0.05       -0.97   33.0ms\n",
      "  7   -7.477816097498       -0.49       -1.36   24.8ms\n",
      "  8   -7.703511615218       -0.65       -1.70   24.8ms\n",
      "  9   -7.767295068779       -1.20       -1.81   24.9ms\n",
      " 10   -7.801719717790       -1.46       -1.99   24.8ms\n",
      " 11   -7.827717495126       -1.59       -2.26   24.7ms\n",
      " 12   -7.843291169873       -1.81       -2.11   24.8ms\n",
      " 13   -7.848490781619       -2.28       -2.82   24.9ms\n",
      " 14   -7.851570080660       -2.51       -2.92   25.1ms\n",
      " 15   -7.852018004673       -3.35       -3.32   25.4ms\n",
      " 16   -7.852419150247       -3.40       -3.69   25.0ms\n",
      " 17   -7.852575129236       -3.81       -3.58   24.8ms\n",
      " 18   -7.852622025031       -4.33       -3.90   24.9ms\n",
      " 19   -7.852638136238       -4.79       -4.17   24.8ms\n",
      " 20   -7.852643553045       -5.27       -4.61   24.7ms\n",
      " 21   -7.852645699649       -5.67       -4.43   24.6ms\n",
      " 22   -7.852646411473       -6.15       -4.92   53.3ms\n",
      " 23   -7.852646617332       -6.69       -5.20   25.1ms\n",
      " 24   -7.852646667188       -7.30       -5.26   24.9ms\n",
      " 25   -7.852646678665       -7.94       -5.66   25.1ms\n",
      " 26   -7.852646682959       -8.37       -6.07   25.1ms\n",
      " 27   -7.852646685252       -8.64       -6.36   25.0ms\n",
      " 28   -7.852646686281       -8.99       -6.50   24.9ms\n",
      " 29   -7.852646686600       -9.50       -6.70   24.8ms\n",
      " 30   -7.852646686687      -10.06       -6.99   25.0ms\n",
      " 31   -7.852646686713      -10.58       -7.06   25.0ms\n",
      " 32   -7.852646686724      -10.98       -7.24   25.0ms\n",
      " 33   -7.852646686728      -11.38       -7.76   25.0ms\n",
      " 34   -7.852646686729      -11.88       -7.48   24.9ms\n",
      " 35   -7.852646686730      -12.42       -7.72   24.8ms\n",
      " 36   -7.852646686730      -12.93       -8.60   24.9ms\n",
      " 37   -7.852646686730      -13.32       -8.42   25.0ms\n",
      " 38   -7.852646686730      -13.75       -8.40   25.0ms\n",
      " 39   -7.852646686730      -14.15       -8.95   25.1ms\n",
      " 40   -7.852646686730   +    -Inf       -9.10   49.2ms\n",
      " 41   -7.852646686730      -15.05       -8.89   25.1ms\n",
      " 42   -7.852646686730      -15.05       -9.92   33.1ms\n",
      " 43   -7.852646686730      -14.75       -9.92   25.1ms\n",
      " 44   -7.852646686730   +    -Inf      -10.04   74.0ms\n",
      " 45   -7.852646686730      -15.05       -9.72   49.3ms\n",
      "┌ Warning: DM not converged.\n",
      "└ @ DFTK ~/work/DFTK.jl/DFTK.jl/src/scf/scf_callbacks.jl:60\n"
     ]
    }
   ],
   "cell_type": "code",
   "source": [
    "scfres_dm = direct_minimization(basis; tol=tol^2);"
   ],
   "metadata": {},
   "execution_count": 4
  },
  {
   "cell_type": "markdown",
   "source": [
    "## Newton algorithm"
   ],
   "metadata": {}
  },
  {
   "cell_type": "markdown",
   "source": [
    "Start not too far from the solution to ensure convergence:\n",
    "We run first a very crude SCF to get close and then switch to Newton."
   ],
   "metadata": {}
  },
  {
   "outputs": [
    {
     "name": "stdout",
     "output_type": "stream",
     "text": [
      "n     Energy            log10(ΔE)   log10(Δρ)   Diag   Δtime\n",
      "---   ---------------   ---------   ---------   ----   ------\n",
      "  1   -7.847722213053                   -0.70    4.8   29.9ms\n"
     ]
    }
   ],
   "cell_type": "code",
   "source": [
    "scfres_start = self_consistent_field(basis; tol=0.5);"
   ],
   "metadata": {},
   "execution_count": 5
  },
  {
   "cell_type": "markdown",
   "source": [
    "Remove the virtual orbitals (which Newton cannot treat yet)"
   ],
   "metadata": {}
  },
  {
   "outputs": [
    {
     "name": "stdout",
     "output_type": "stream",
     "text": [
      "n     Energy            log10(ΔE)   log10(Δρ)   Δtime\n",
      "---   ---------------   ---------   ---------   ------\n",
      "  1   -7.852645811909                   -1.63    13.9s\n",
      "  2   -7.852646686730       -6.06       -3.69    3.62s\n",
      "  3   -7.852646686730      -13.13       -7.17    120ms\n"
     ]
    }
   ],
   "cell_type": "code",
   "source": [
    "ψ = DFTK.select_occupied_orbitals(basis, scfres_start.ψ, scfres_start.occupation).ψ\n",
    "scfres_newton = newton(basis, ψ; tol);"
   ],
   "metadata": {},
   "execution_count": 6
  },
  {
   "cell_type": "markdown",
   "source": [
    "## Comparison of results"
   ],
   "metadata": {}
  },
  {
   "outputs": [
    {
     "name": "stdout",
     "output_type": "stream",
     "text": [
      "|ρ_newton - ρ_scf|  = 2.861034723590568e-7\n",
      "|ρ_newton - ρ_scfv| = 3.4228147312591993e-7\n",
      "|ρ_newton - ρ_dm|   = 6.853243272703199e-10\n"
     ]
    }
   ],
   "cell_type": "code",
   "source": [
    "println(\"|ρ_newton - ρ_scf|  = \", norm(scfres_newton.ρ - scfres_scf.ρ))\n",
    "println(\"|ρ_newton - ρ_scfv| = \", norm(scfres_newton.ρ - scfres_scfv.ρ))\n",
    "println(\"|ρ_newton - ρ_dm|   = \", norm(scfres_newton.ρ - scfres_dm.ρ))"
   ],
   "metadata": {},
   "execution_count": 7
  }
 ],
 "nbformat_minor": 3,
 "metadata": {
  "language_info": {
   "file_extension": ".jl",
   "mimetype": "application/julia",
   "name": "julia",
   "version": "1.10.2"
  },
  "kernelspec": {
   "name": "julia-1.10",
   "display_name": "Julia 1.10.2",
   "language": "julia"
  }
 },
 "nbformat": 4
}
