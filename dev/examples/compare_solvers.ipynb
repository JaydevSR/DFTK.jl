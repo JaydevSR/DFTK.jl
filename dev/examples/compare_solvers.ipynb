{
 "cells": [
  {
   "cell_type": "markdown",
   "source": [
    "# Comparison of DFT solvers"
   ],
   "metadata": {}
  },
  {
   "cell_type": "markdown",
   "source": [
    "We compare four different approaches for solving the DFT minimisation problem,\n",
    "namely a density-based SCF, a potential-based SCF, direct minimisation and Newton."
   ],
   "metadata": {}
  },
  {
   "cell_type": "markdown",
   "source": [
    "First we setup our problem"
   ],
   "metadata": {}
  },
  {
   "outputs": [
    {
     "output_type": "execute_result",
     "data": {
      "text/plain": "1.0e-6"
     },
     "metadata": {},
     "execution_count": 1
    }
   ],
   "cell_type": "code",
   "source": [
    "using DFTK\n",
    "using LinearAlgebra\n",
    "\n",
    "a = 10.26  # Silicon lattice constant in Bohr\n",
    "lattice = a / 2 * [[0 1 1.];\n",
    "                   [1 0 1.];\n",
    "                   [1 1 0.]]\n",
    "Si = ElementPsp(:Si; psp=load_psp(\"hgh/lda/Si-q4\"))\n",
    "atoms     = [Si, Si]\n",
    "positions = [ones(3)/8, -ones(3)/8]\n",
    "\n",
    "model = model_LDA(lattice, atoms, positions)\n",
    "basis = PlaneWaveBasis(model; Ecut=5, kgrid=[3, 3, 3])\n",
    "\n",
    "# Convergence we desire in the density\n",
    "tol = 1e-6"
   ],
   "metadata": {},
   "execution_count": 1
  },
  {
   "cell_type": "markdown",
   "source": [
    "## Density-based self-consistent field"
   ],
   "metadata": {}
  },
  {
   "outputs": [
    {
     "name": "stdout",
     "output_type": "stream",
     "text": [
      "n     Energy            log10(ΔE)   log10(Δρ)   Diag   Δtime\n",
      "---   ---------------   ---------   ---------   ----   ------\n",
      "  1   -7.846814066043                   -0.70    4.8         \n",
      "  2   -7.852322221402       -2.26       -1.53    1.0   16.7ms\n",
      "  3   -7.852617244679       -3.53       -2.56    1.5   18.5ms\n",
      "  4   -7.852646045678       -4.54       -2.90    2.5   22.3ms\n",
      "  5   -7.852646524674       -6.32       -3.20    1.0   17.0ms\n",
      "  6   -7.852646680990       -6.81       -4.25    1.0   17.0ms\n",
      "  7   -7.852646686684       -8.24       -5.01    2.2   22.4ms\n",
      "  8   -7.852646686726      -10.38       -5.51    1.5   19.3ms\n",
      "  9   -7.852646686728      -11.58       -5.66    1.2   17.9ms\n",
      " 10   -7.852646686730      -11.87       -6.71    1.0   17.6ms\n"
     ]
    }
   ],
   "cell_type": "code",
   "source": [
    "scfres_scf = self_consistent_field(basis; tol);"
   ],
   "metadata": {},
   "execution_count": 2
  },
  {
   "cell_type": "markdown",
   "source": [
    "## Potential-based SCF"
   ],
   "metadata": {}
  },
  {
   "outputs": [
    {
     "name": "stdout",
     "output_type": "stream",
     "text": [
      "n     Energy            log10(ΔE)   log10(Δρ)   α      Diag   Δtime\n",
      "---   ---------------   ---------   ---------   ----   ----   ------\n",
      "  1   -7.846773261210                   -0.70           4.5         \n",
      "  2   -7.852552750822       -2.24       -1.64   0.80    2.2    216ms\n",
      "  3   -7.852638554617       -4.07       -2.74   0.80    1.0   61.8ms\n",
      "  4   -7.852646515518       -5.10       -3.32   0.80    2.0   19.3ms\n",
      "  5   -7.852646677026       -6.79       -4.23   0.80    1.8   18.0ms\n",
      "  6   -7.852646686595       -8.02       -4.82   0.80    2.0   19.7ms\n",
      "  7   -7.852646686721       -9.90       -5.70   0.80    1.5   17.1ms\n",
      "  8   -7.852646686730      -11.06       -6.85   0.80    2.0   19.9ms\n"
     ]
    }
   ],
   "cell_type": "code",
   "source": [
    "scfres_scfv = DFTK.scf_potential_mixing(basis; tol);"
   ],
   "metadata": {},
   "execution_count": 3
  },
  {
   "cell_type": "markdown",
   "source": [
    "## Direct minimization\n",
    "Note: Unlike the other algorithms, tolerance for this one is in the energy,\n",
    "thus we square the density tolerance value to be roughly equivalent."
   ],
   "metadata": {}
  },
  {
   "outputs": [
    {
     "name": "stdout",
     "output_type": "stream",
     "text": [
      "Iter     Function value   Gradient norm \n",
      "     0     1.380094e+01     3.291980e+00\n",
      " * time: 0.04595613479614258\n",
      "     1     1.232801e+00     2.033710e+00\n",
      " * time: 0.27105712890625\n",
      "     2    -1.254125e+00     2.517570e+00\n",
      " * time: 0.2887611389160156\n",
      "     3    -3.691819e+00     2.035582e+00\n",
      " * time: 0.3141341209411621\n",
      "     4    -4.701090e+00     1.870208e+00\n",
      " * time: 0.3395850658416748\n",
      "     5    -6.644361e+00     1.055905e+00\n",
      " * time: 0.3649439811706543\n",
      "     6    -7.371995e+00     4.719368e-01\n",
      " * time: 0.3902881145477295\n",
      "     7    -7.668230e+00     2.394569e-01\n",
      " * time: 0.408005952835083\n",
      "     8    -7.745229e+00     9.681594e-02\n",
      " * time: 0.42566895484924316\n",
      "     9    -7.763456e+00     1.153055e-01\n",
      " * time: 0.44341301918029785\n",
      "    10    -7.775555e+00     4.979200e-02\n",
      " * time: 0.4610869884490967\n",
      "    11    -7.780884e+00     4.332608e-02\n",
      " * time: 0.47877001762390137\n",
      "    12    -7.786047e+00     5.110680e-02\n",
      " * time: 0.4964289665222168\n",
      "    13    -7.794195e+00     6.378840e-02\n",
      " * time: 0.5140969753265381\n",
      "    14    -7.806420e+00     6.615867e-02\n",
      " * time: 0.5318150520324707\n",
      "    15    -7.822117e+00     5.948395e-02\n",
      " * time: 0.5495800971984863\n",
      "    16    -7.834311e+00     4.792840e-02\n",
      " * time: 0.5672039985656738\n",
      "    17    -7.847194e+00     3.977858e-02\n",
      " * time: 0.5849440097808838\n",
      "    18    -7.850626e+00     1.977768e-02\n",
      " * time: 0.6026411056518555\n",
      "    19    -7.851991e+00     1.189389e-02\n",
      " * time: 0.6202900409698486\n",
      "    20    -7.852479e+00     1.165521e-02\n",
      " * time: 0.6379520893096924\n",
      "    21    -7.852585e+00     3.572241e-03\n",
      " * time: 0.6556510925292969\n",
      "    22    -7.852628e+00     2.349321e-03\n",
      " * time: 0.6733460426330566\n",
      "    23    -7.852640e+00     1.544671e-03\n",
      " * time: 0.6910159587860107\n",
      "    24    -7.852644e+00     9.324593e-04\n",
      " * time: 0.7087559700012207\n",
      "    25    -7.852646e+00     5.762728e-04\n",
      " * time: 0.7264001369476318\n",
      "    26    -7.852646e+00     3.752237e-04\n",
      " * time: 0.7440860271453857\n",
      "    27    -7.852647e+00     2.048671e-04\n",
      " * time: 0.7618210315704346\n",
      "    28    -7.852647e+00     1.242726e-04\n",
      " * time: 0.7795310020446777\n",
      "    29    -7.852647e+00     6.994715e-05\n",
      " * time: 0.7972660064697266\n",
      "    30    -7.852647e+00     2.807038e-05\n",
      " * time: 0.8149480819702148\n",
      "    31    -7.852647e+00     3.105599e-05\n",
      " * time: 0.8337879180908203\n",
      "    32    -7.852647e+00     1.498306e-05\n",
      " * time: 0.8601751327514648\n",
      "    33    -7.852647e+00     6.234469e-06\n",
      " * time: 0.8863630294799805\n",
      "    34    -7.852647e+00     5.899983e-06\n",
      " * time: 0.9054770469665527\n",
      "    35    -7.852647e+00     2.174102e-06\n",
      " * time: 0.9240429401397705\n",
      "    36    -7.852647e+00     1.608544e-06\n",
      " * time: 0.9424691200256348\n",
      "    37    -7.852647e+00     9.368904e-07\n",
      " * time: 0.9604511260986328\n",
      "    38    -7.852647e+00     5.465731e-07\n",
      " * time: 0.9782669544219971\n",
      "    39    -7.852647e+00     2.652823e-07\n",
      " * time: 0.9960391521453857\n",
      "    40    -7.852647e+00     1.931178e-07\n",
      " * time: 1.0137739181518555\n",
      "    41    -7.852647e+00     1.147412e-07\n",
      " * time: 1.0314791202545166\n",
      "    42    -7.852647e+00     6.528110e-08\n",
      " * time: 1.0493040084838867\n",
      "    43    -7.852647e+00     4.313957e-08\n",
      " * time: 1.0669710636138916\n",
      "    44    -7.852647e+00     2.197759e-08\n",
      " * time: 1.084712028503418\n",
      "    45    -7.852647e+00     1.551778e-08\n",
      " * time: 1.1024141311645508\n",
      "    46    -7.852647e+00     1.551778e-08\n",
      " * time: 1.2194061279296875\n"
     ]
    }
   ],
   "cell_type": "code",
   "source": [
    "scfres_dm = direct_minimization(basis; tol=tol^2);"
   ],
   "metadata": {},
   "execution_count": 4
  },
  {
   "cell_type": "markdown",
   "source": [
    "## Newton algorithm"
   ],
   "metadata": {}
  },
  {
   "cell_type": "markdown",
   "source": [
    "Start not too far from the solution to ensure convergence:\n",
    "We run first a very crude SCF to get close and then switch to Newton."
   ],
   "metadata": {}
  },
  {
   "outputs": [
    {
     "name": "stdout",
     "output_type": "stream",
     "text": [
      "n     Energy            log10(ΔE)   log10(Δρ)   Diag   Δtime\n",
      "---   ---------------   ---------   ---------   ----   ------\n",
      "  1   -7.846801867260                   -0.70    4.5         \n"
     ]
    }
   ],
   "cell_type": "code",
   "source": [
    "scfres_start = self_consistent_field(basis; tol=0.5);"
   ],
   "metadata": {},
   "execution_count": 5
  },
  {
   "cell_type": "markdown",
   "source": [
    "Remove the virtual orbitals (which Newton cannot treat yet)"
   ],
   "metadata": {}
  },
  {
   "outputs": [
    {
     "name": "stdout",
     "output_type": "stream",
     "text": [
      "n     Energy            log10(ΔE)   log10(Δρ)   Δtime\n",
      "---   ---------------   ---------   ---------   ------\n",
      "  1   -7.852645865896                   -1.64         \n",
      "  2   -7.852646686730       -6.09       -3.70    1.55s\n",
      "  3   -7.852646686730      -13.22       -7.22    125ms\n"
     ]
    }
   ],
   "cell_type": "code",
   "source": [
    "ψ = DFTK.select_occupied_orbitals(basis, scfres_start.ψ, scfres_start.occupation).ψ\n",
    "scfres_newton = newton(basis, ψ; tol);"
   ],
   "metadata": {},
   "execution_count": 6
  },
  {
   "cell_type": "markdown",
   "source": [
    "## Comparison of results"
   ],
   "metadata": {}
  },
  {
   "outputs": [
    {
     "name": "stdout",
     "output_type": "stream",
     "text": [
      "|ρ_newton - ρ_scf|  = 2.5105794429729203e-7\n",
      "|ρ_newton - ρ_scfv| = 6.19616350579379e-8\n",
      "|ρ_newton - ρ_dm|   = 4.267566857927198e-9\n"
     ]
    }
   ],
   "cell_type": "code",
   "source": [
    "println(\"|ρ_newton - ρ_scf|  = \", norm(scfres_newton.ρ - scfres_scf.ρ))\n",
    "println(\"|ρ_newton - ρ_scfv| = \", norm(scfres_newton.ρ - scfres_scfv.ρ))\n",
    "println(\"|ρ_newton - ρ_dm|   = \", norm(scfres_newton.ρ - scfres_dm.ρ))"
   ],
   "metadata": {},
   "execution_count": 7
  }
 ],
 "nbformat_minor": 3,
 "metadata": {
  "language_info": {
   "file_extension": ".jl",
   "mimetype": "application/julia",
   "name": "julia",
   "version": "1.9.4"
  },
  "kernelspec": {
   "name": "julia-1.9",
   "display_name": "Julia 1.9.4",
   "language": "julia"
  }
 },
 "nbformat": 4
}
