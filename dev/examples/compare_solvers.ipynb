{
 "cells": [
  {
   "cell_type": "markdown",
   "source": [
    "# Comparison of DFT solvers"
   ],
   "metadata": {}
  },
  {
   "cell_type": "markdown",
   "source": [
    "We compare four different approaches for solving the DFT minimisation problem,\n",
    "namely a density-based SCF, a potential-based SCF, direct minimisation and Newton."
   ],
   "metadata": {}
  },
  {
   "cell_type": "markdown",
   "source": [
    "First we setup our problem"
   ],
   "metadata": {}
  },
  {
   "outputs": [
    {
     "output_type": "execute_result",
     "data": {
      "text/plain": "1.0e-6"
     },
     "metadata": {},
     "execution_count": 1
    }
   ],
   "cell_type": "code",
   "source": [
    "using DFTK\n",
    "using LinearAlgebra\n",
    "\n",
    "a = 10.26  # Silicon lattice constant in Bohr\n",
    "lattice = a / 2 * [[0 1 1.];\n",
    "                   [1 0 1.];\n",
    "                   [1 1 0.]]\n",
    "Si = ElementPsp(:Si; psp=load_psp(\"hgh/lda/Si-q4\"))\n",
    "atoms     = [Si, Si]\n",
    "positions = [ones(3)/8, -ones(3)/8]\n",
    "\n",
    "model = model_LDA(lattice, atoms, positions)\n",
    "basis = PlaneWaveBasis(model; Ecut=5, kgrid=[3, 3, 3])\n",
    "\n",
    "# Convergence we desire in the density\n",
    "tol = 1e-6"
   ],
   "metadata": {},
   "execution_count": 1
  },
  {
   "cell_type": "markdown",
   "source": [
    "## Density-based self-consistent field"
   ],
   "metadata": {}
  },
  {
   "outputs": [
    {
     "name": "stdout",
     "output_type": "stream",
     "text": [
      "n     Energy            log10(ΔE)   log10(Δρ)   Diag   Δtime\n",
      "---   ---------------   ---------   ---------   ----   ------\n",
      "  1   -7.846873773526                   -0.70    4.8         \n",
      "  2   -7.852321703699       -2.26       -1.53    1.0   17.1ms\n",
      "  3   -7.852617664064       -3.53       -2.56    1.5   19.1ms\n",
      "  4   -7.852646024980       -4.55       -2.91    2.5   22.7ms\n",
      "  5   -7.852646538081       -6.29       -3.24    1.2   18.2ms\n",
      "  6   -7.852646679983       -6.85       -4.16    1.0   17.4ms\n",
      "  7   -7.852646686693       -8.17       -5.23    2.2   76.2ms\n",
      "  8   -7.852646686727      -10.46       -5.64    1.5   19.6ms\n",
      "  9   -7.852646686729      -11.93       -5.70    1.5   19.5ms\n",
      " 10   -7.852646686730      -11.89       -6.94    1.0   17.9ms\n"
     ]
    }
   ],
   "cell_type": "code",
   "source": [
    "scfres_scf = self_consistent_field(basis; tol);"
   ],
   "metadata": {},
   "execution_count": 2
  },
  {
   "cell_type": "markdown",
   "source": [
    "## Potential-based SCF"
   ],
   "metadata": {}
  },
  {
   "outputs": [
    {
     "name": "stdout",
     "output_type": "stream",
     "text": [
      "n     Energy            log10(ΔE)   log10(Δρ)   α      Diag   Δtime\n",
      "---   ---------------   ---------   ---------   ----   ----   ------\n",
      "  1   -7.846893638313                   -0.70           4.5         \n",
      "  2   -7.852552471501       -2.25       -1.63   0.80    2.0    204ms\n",
      "  3   -7.852638470235       -4.07       -2.73   0.80    1.0   16.0ms\n",
      "  4   -7.852646449418       -5.10       -3.32   0.80    2.0   19.8ms\n",
      "  5   -7.852646672663       -6.65       -4.15   0.80    1.2   17.2ms\n",
      "  6   -7.852646686459       -7.86       -4.67   0.80    1.8   19.2ms\n",
      "  7   -7.852646686714       -9.59       -5.57   0.80    1.2   17.3ms\n",
      "  8   -7.852646686730      -10.81       -6.53   0.80    2.0   20.4ms\n"
     ]
    }
   ],
   "cell_type": "code",
   "source": [
    "scfres_scfv = DFTK.scf_potential_mixing(basis; tol);"
   ],
   "metadata": {},
   "execution_count": 3
  },
  {
   "cell_type": "markdown",
   "source": [
    "## Direct minimization\n",
    "Note: Unlike the other algorithms, tolerance for this one is in the energy,\n",
    "thus we square the density tolerance value to be roughly equivalent."
   ],
   "metadata": {}
  },
  {
   "outputs": [
    {
     "name": "stdout",
     "output_type": "stream",
     "text": [
      "Iter     Function value   Gradient norm \n",
      "     0     1.451749e+01     4.240984e+00\n",
      " * time: 0.047482967376708984\n",
      "     1     1.078060e+00     2.221504e+00\n",
      " * time: 0.2195589542388916\n",
      "     2    -1.598047e+00     2.657162e+00\n",
      " * time: 0.23782801628112793\n",
      "     3    -3.468775e+00     2.199733e+00\n",
      " * time: 0.2639799118041992\n",
      "     4    -4.778464e+00     1.712739e+00\n",
      " * time: 0.2900409698486328\n",
      "     5    -6.409892e+00     1.199883e+00\n",
      " * time: 0.31603193283081055\n",
      "     6    -7.188167e+00     6.144368e-01\n",
      " * time: 0.34215712547302246\n",
      "     7    -7.510976e+00     4.528192e-01\n",
      " * time: 0.3603990077972412\n",
      "     8    -7.647902e+00     1.312943e-01\n",
      " * time: 0.37853097915649414\n",
      "     9    -7.713704e+00     1.787357e-01\n",
      " * time: 0.3965480327606201\n",
      "    10    -7.774872e+00     1.007326e-01\n",
      " * time: 0.4145359992980957\n",
      "    11    -7.815696e+00     6.224306e-02\n",
      " * time: 0.43245410919189453\n",
      "    12    -7.838653e+00     6.304134e-02\n",
      " * time: 0.450451135635376\n",
      "    13    -7.846711e+00     4.740414e-02\n",
      " * time: 0.4687080383300781\n",
      "    14    -7.849189e+00     4.116328e-02\n",
      " * time: 0.4866759777069092\n",
      "    15    -7.850483e+00     2.917729e-02\n",
      " * time: 0.5046191215515137\n",
      "    16    -7.851827e+00     1.108505e-02\n",
      " * time: 0.5226130485534668\n",
      "    17    -7.852428e+00     8.338846e-03\n",
      " * time: 0.5406830310821533\n",
      "    18    -7.852578e+00     4.951757e-03\n",
      " * time: 0.5587151050567627\n",
      "    19    -7.852623e+00     2.965206e-03\n",
      " * time: 0.5766770839691162\n",
      "    20    -7.852638e+00     1.734469e-03\n",
      " * time: 0.5946450233459473\n",
      "    21    -7.852644e+00     8.574171e-04\n",
      " * time: 0.6126530170440674\n",
      "    22    -7.852646e+00     5.443675e-04\n",
      " * time: 0.6306090354919434\n",
      "    23    -7.852646e+00     3.746382e-04\n",
      " * time: 0.648751974105835\n",
      "    24    -7.852647e+00     2.092210e-04\n",
      " * time: 0.6667289733886719\n",
      "    25    -7.852647e+00     1.718385e-04\n",
      " * time: 0.6848230361938477\n",
      "    26    -7.852647e+00     7.673842e-05\n",
      " * time: 0.702855110168457\n",
      "    27    -7.852647e+00     7.130586e-05\n",
      " * time: 0.8056139945983887\n",
      "    28    -7.852647e+00     3.956851e-05\n",
      " * time: 0.8235471248626709\n",
      "    29    -7.852647e+00     9.302639e-06\n",
      " * time: 0.8414039611816406\n",
      "    30    -7.852647e+00     5.641866e-06\n",
      " * time: 0.8592040538787842\n",
      "    31    -7.852647e+00     4.166352e-06\n",
      " * time: 0.8769569396972656\n",
      "    32    -7.852647e+00     1.715824e-06\n",
      " * time: 0.8947689533233643\n",
      "    33    -7.852647e+00     1.351396e-06\n",
      " * time: 0.9125230312347412\n",
      "    34    -7.852647e+00     6.184363e-07\n",
      " * time: 0.9302899837493896\n",
      "    35    -7.852647e+00     3.580472e-07\n",
      " * time: 0.9480319023132324\n",
      "    36    -7.852647e+00     2.547618e-07\n",
      " * time: 0.9658849239349365\n",
      "    37    -7.852647e+00     1.534630e-07\n",
      " * time: 0.9836950302124023\n",
      "    38    -7.852647e+00     7.843477e-08\n",
      " * time: 1.0017399787902832\n",
      "    39    -7.852647e+00     5.233372e-08\n",
      " * time: 1.0197970867156982\n",
      "    40    -7.852647e+00     3.737200e-08\n",
      " * time: 1.037734031677246\n",
      "    41    -7.852647e+00     3.107000e-08\n",
      " * time: 1.0556190013885498\n",
      "    42    -7.852647e+00     1.935887e-08\n",
      " * time: 1.0735669136047363\n",
      "    43    -7.852647e+00     5.332538e-09\n",
      " * time: 1.0914499759674072\n",
      "    44    -7.852647e+00     5.172418e-09\n",
      " * time: 1.12522292137146\n",
      "    45    -7.852647e+00     5.172418e-09\n",
      " * time: 1.2220230102539062\n"
     ]
    }
   ],
   "cell_type": "code",
   "source": [
    "scfres_dm = direct_minimization(basis; tol=tol^2);"
   ],
   "metadata": {},
   "execution_count": 4
  },
  {
   "cell_type": "markdown",
   "source": [
    "## Newton algorithm"
   ],
   "metadata": {}
  },
  {
   "cell_type": "markdown",
   "source": [
    "Start not too far from the solution to ensure convergence:\n",
    "We run first a very crude SCF to get close and then switch to Newton."
   ],
   "metadata": {}
  },
  {
   "outputs": [
    {
     "name": "stdout",
     "output_type": "stream",
     "text": [
      "n     Energy            log10(ΔE)   log10(Δρ)   Diag   Δtime\n",
      "---   ---------------   ---------   ---------   ----   ------\n",
      "  1   -7.846888791783                   -0.70    4.5         \n"
     ]
    }
   ],
   "cell_type": "code",
   "source": [
    "scfres_start = self_consistent_field(basis; tol=0.5);"
   ],
   "metadata": {},
   "execution_count": 5
  },
  {
   "cell_type": "markdown",
   "source": [
    "Remove the virtual orbitals (which Newton cannot treat yet)"
   ],
   "metadata": {}
  },
  {
   "outputs": [
    {
     "name": "stdout",
     "output_type": "stream",
     "text": [
      "n     Energy            log10(ΔE)   log10(Δρ)   Δtime\n",
      "---   ---------------   ---------   ---------   ------\n",
      "  1   -7.852645915497                   -1.64         \n",
      "  2   -7.852646686730       -6.11       -3.71    1.51s\n",
      "  3   -7.852646686730      -13.28       -7.25    127ms\n"
     ]
    }
   ],
   "cell_type": "code",
   "source": [
    "ψ = DFTK.select_occupied_orbitals(basis, scfres_start.ψ, scfres_start.occupation).ψ\n",
    "scfres_newton = newton(basis, ψ; tol);"
   ],
   "metadata": {},
   "execution_count": 6
  },
  {
   "cell_type": "markdown",
   "source": [
    "## Comparison of results"
   ],
   "metadata": {}
  },
  {
   "outputs": [
    {
     "name": "stdout",
     "output_type": "stream",
     "text": [
      "|ρ_newton - ρ_scf|  = 1.8776515860180296e-7\n",
      "|ρ_newton - ρ_scfv| = 1.273967503004968e-7\n",
      "|ρ_newton - ρ_dm|   = 6.172851761312806e-10\n"
     ]
    }
   ],
   "cell_type": "code",
   "source": [
    "println(\"|ρ_newton - ρ_scf|  = \", norm(scfres_newton.ρ - scfres_scf.ρ))\n",
    "println(\"|ρ_newton - ρ_scfv| = \", norm(scfres_newton.ρ - scfres_scfv.ρ))\n",
    "println(\"|ρ_newton - ρ_dm|   = \", norm(scfres_newton.ρ - scfres_dm.ρ))"
   ],
   "metadata": {},
   "execution_count": 7
  }
 ],
 "nbformat_minor": 3,
 "metadata": {
  "language_info": {
   "file_extension": ".jl",
   "mimetype": "application/julia",
   "name": "julia",
   "version": "1.9.4"
  },
  "kernelspec": {
   "name": "julia-1.9",
   "display_name": "Julia 1.9.4",
   "language": "julia"
  }
 },
 "nbformat": 4
}
