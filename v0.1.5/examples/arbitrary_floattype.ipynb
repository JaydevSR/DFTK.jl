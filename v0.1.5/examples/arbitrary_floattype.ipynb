{
 "cells": [
  {
   "cell_type": "markdown",
   "source": [
    "# Arbitrary floating-point types\n",
    "\n",
    "Since DFTK is completely generic in the floating-point type\n",
    "in its routines, there is no reason to perform the computation\n",
    "using double-precision arithmetic (i.e.`Float64`).\n",
    "Other floating-point types such as `Float32` (single precision)\n",
    "are readily supported as well.\n",
    "On top of that we  already reported[^HLC2020] calculations\n",
    "in DFTK using elevated precision\n",
    "from [DoubleFloats.jl](https://github.com/JuliaMath/DoubleFloats.jl)\n",
    "or interval arithmetic\n",
    "using [IntervalArithmetic.jl](https://github.com/JuliaIntervals/IntervalArithmetic.jl).\n",
    "In this example, however, we will concentrate on single-precision\n",
    "computations with `Float32`.\n",
    "The setup of such a reduced-precision calculation is basically identical\n",
    "to the regular case, since Julia automatically compiles all routines\n",
    "of DFTK at the precision, which is used for the lattice vectors.\n",
    "Apart from setting up the model with an explicit cast of the lattice\n",
    "vectors to `Float32`, there is thus no change in user code required:\n",
    "\n",
    "[^HLC2020]:\n",
    "    M. F. Herbst, A. Levitt, E. Cancès.\n",
    "    *A posteriori error estimation for the non-self-consistent Kohn-Sham equations*\n",
    "    [ArXiv 2004.13549](https://arxiv.org/abs/2004.13549)"
   ],
   "metadata": {}
  },
  {
   "outputs": [
    {
     "name": "stdout",
     "output_type": "stream",
     "text": [
      "n     Energy            ρout-ρin   Eₙ₋₁-Eₙ    Diag\n",
      "---   ---------------   --------   --------   ----\n",
      "1     -7.900818824768   1.99e-01        NaN   4.1 \n",
      "2     -7.904987812042   2.75e-02   4.17e-03   1.0 \n",
      "3     -7.905573844910   5.12e-03   5.86e-04   1.1 \n",
      "4     -7.905618667603   7.01e-04   4.48e-05   2.1 \n"
     ]
    }
   ],
   "cell_type": "code",
   "source": [
    "using DFTK\n",
    "\n",
    "# Setup silicon lattice\n",
    "a = 10.263141334305942  # lattice constant in Bohr\n",
    "lattice = a / 2 .* [[0 1 1.]; [1 0 1.]; [1 1 0.]]\n",
    "Si = ElementPsp(:Si, psp=load_psp(:Si, functional=\"lda\"))\n",
    "atoms = [Si => [ones(3)/8, -ones(3)/8]]\n",
    "\n",
    "# Cast to Float32, setup model and basis\n",
    "model = model_DFT(Array{Float32}(lattice), atoms, [:lda_x, :lda_c_vwn])\n",
    "Ecut = 7\n",
    "basis = PlaneWaveBasis(model, Ecut, kgrid=[4, 4, 4])\n",
    "\n",
    "# Run the SCF\n",
    "scfres = self_consistent_field(basis, tol=1e-4);"
   ],
   "metadata": {},
   "execution_count": 1
  },
  {
   "cell_type": "markdown",
   "source": [
    "To check the calculation has really run in Float32,\n",
    "we check the energies and density are expressed in this floating-point type:"
   ],
   "metadata": {}
  },
  {
   "outputs": [
    {
     "output_type": "execute_result",
     "data": {
      "text/plain": "Energy breakdown:\n    Kinetic             3.1022663 \n    AtomicLocal         -2.1984780\n    AtomicNonlocal      1.7290686 \n    Ewald               -8.3978930\n    PspCorrection       -0.2946220\n    Hartree             0.5530963 \n    Xc                  -2.3990571\n\n    total               -7.905618667603\n"
     },
     "metadata": {},
     "execution_count": 2
    }
   ],
   "cell_type": "code",
   "source": [
    "scfres.energies"
   ],
   "metadata": {},
   "execution_count": 2
  },
  {
   "outputs": [
    {
     "output_type": "execute_result",
     "data": {
      "text/plain": "Float32"
     },
     "metadata": {},
     "execution_count": 3
    }
   ],
   "cell_type": "code",
   "source": [
    "eltype(sum(values(scfres.energies)))"
   ],
   "metadata": {},
   "execution_count": 3
  },
  {
   "outputs": [
    {
     "output_type": "execute_result",
     "data": {
      "text/plain": "Float32"
     },
     "metadata": {},
     "execution_count": 4
    }
   ],
   "cell_type": "code",
   "source": [
    "eltype(scfres.ρ.real)"
   ],
   "metadata": {},
   "execution_count": 4
  }
 ],
 "nbformat_minor": 3,
 "metadata": {
  "language_info": {
   "file_extension": ".jl",
   "mimetype": "application/julia",
   "name": "julia",
   "version": "1.3.1"
  },
  "kernelspec": {
   "name": "julia-1.3",
   "display_name": "Julia 1.3.1",
   "language": "julia"
  }
 },
 "nbformat": 4
}
