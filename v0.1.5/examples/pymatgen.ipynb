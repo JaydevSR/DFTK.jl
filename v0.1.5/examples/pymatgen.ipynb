{
 "cells": [
  {
   "cell_type": "markdown",
   "source": [
    "# Creating supercells with pymatgen\n",
    "\n",
    "The [Pymatgen](https://pymatgen.org/) python library allows to setup\n",
    "solid-state calculations using a flexible set of classes as well as an API\n",
    "to an online data base of structures. Its `Structure` and `Lattice`\n",
    "objects are directly supported by the DFTK `load_atoms` and `load_lattice`\n",
    "functions, such that DFTK may be readily used to run calculation on systems\n",
    "defined in pymatgen. Using the `pymatgen_structure` function a conversion\n",
    "from DFTK to pymatgen structures is also possible. In the following we\n",
    "use this to create a silicon supercell and find its LDA ground state\n",
    "using direct minimisation."
   ],
   "metadata": {}
  },
  {
   "cell_type": "markdown",
   "source": [
    "First we setup the silicon lattice in DFTK."
   ],
   "metadata": {}
  },
  {
   "outputs": [],
   "cell_type": "code",
   "source": [
    "using DFTK\n",
    "\n",
    "a = 10.263141334305942  # Lattice constant in Bohr\n",
    "lattice = a / 2 .* [[0 1 1.]; [1 0 1.]; [1 1 0.]]\n",
    "Si = ElementPsp(:Si, psp=load_psp(\"hgh/lda/Si-q4\"))\n",
    "atoms = [Si => [ones(3)/8, -ones(3)/8]];"
   ],
   "metadata": {},
   "execution_count": 1
  },
  {
   "cell_type": "markdown",
   "source": [
    "Next we make a `[2, 2, 2]` supercell using pymatgen"
   ],
   "metadata": {}
  },
  {
   "outputs": [],
   "cell_type": "code",
   "source": [
    "pystruct = pymatgen_structure(lattice, atoms)\n",
    "pystruct.make_supercell([2, 2, 2])\n",
    "lattice = load_lattice(pystruct)\n",
    "atoms = [Si => [s.frac_coords for s in pystruct.sites]];"
   ],
   "metadata": {},
   "execution_count": 2
  },
  {
   "cell_type": "markdown",
   "source": [
    "Setup an LDA model and discretize using\n",
    "a single kpoint and a small `Ecut` of 5 Hartree.\n",
    "Notice that `PlaneWaveBasis` defaults to just using the ``Γ``-point\n",
    "if no ``k``-point options are provided."
   ],
   "metadata": {}
  },
  {
   "outputs": [
    {
     "output_type": "execute_result",
     "data": {
      "text/plain": "PlaneWaveBasis (Ecut=5.0, 1 kpoints)"
     },
     "metadata": {},
     "execution_count": 3
    }
   ],
   "cell_type": "code",
   "source": [
    "model = model_LDA(lattice, atoms)\n",
    "basis = PlaneWaveBasis(model, 5)"
   ],
   "metadata": {},
   "execution_count": 3
  },
  {
   "cell_type": "markdown",
   "source": [
    "Find the ground state using direct minimisation (always using SCF is boring ...)"
   ],
   "metadata": {}
  },
  {
   "outputs": [
    {
     "name": "stdout",
     "output_type": "stream",
     "text": [
      "Iter     Function value   Gradient norm \n",
      "     0     1.123538e+02     1.663824e+00\n",
      " * time: 0.09135198593139648\n",
      "     1     1.114924e+01     8.974484e-01\n",
      " * time: 0.9727389812469482\n",
      "     2    -1.181448e+01     1.092021e+00\n",
      " * time: 1.129668951034546\n",
      "     3    -3.360739e+01     8.273377e-01\n",
      " * time: 1.27056884765625\n",
      "     4    -4.727954e+01     5.262481e-01\n",
      " * time: 1.4315869808197021\n",
      "     5    -5.674310e+01     1.894482e-01\n",
      " * time: 1.586332082748413\n",
      "     6    -5.975647e+01     1.254155e-01\n",
      " * time: 1.7030949592590332\n",
      "     7    -6.087355e+01     5.783431e-02\n",
      " * time: 1.8328289985656738\n",
      "     8    -6.129232e+01     5.797227e-02\n",
      " * time: 1.9430139064788818\n",
      "     9    -6.158587e+01     3.722474e-02\n",
      " * time: 2.061706066131592\n",
      "    10    -6.182224e+01     2.897894e-02\n",
      " * time: 2.172581911087036\n",
      "    11    -6.201136e+01     2.337912e-02\n",
      " * time: 2.2908668518066406\n",
      "    12    -6.208541e+01     1.849311e-02\n",
      " * time: 2.40077805519104\n",
      "    13    -6.215793e+01     1.684097e-02\n",
      " * time: 2.51869797706604\n",
      "    14    -6.218685e+01     1.139864e-02\n",
      " * time: 2.62937593460083\n",
      "    15    -6.221108e+01     9.262668e-03\n",
      " * time: 2.749279022216797\n",
      "    16    -6.222333e+01     6.877292e-03\n",
      " * time: 2.858802080154419\n",
      "    17    -6.223134e+01     5.670502e-03\n",
      " * time: 2.997407913208008\n",
      "    18    -6.223827e+01     5.306338e-03\n",
      " * time: 3.108335018157959\n",
      "    19    -6.224363e+01     5.113173e-03\n",
      " * time: 3.226815938949585\n",
      "    20    -6.224856e+01     4.157429e-03\n",
      " * time: 3.3363139629364014\n",
      "    21    -6.225289e+01     4.310263e-03\n",
      " * time: 3.4539239406585693\n",
      "    22    -6.225652e+01     3.190915e-03\n",
      " * time: 3.5646960735321045\n",
      "    23    -6.225900e+01     2.216212e-03\n",
      " * time: 3.675567865371704\n",
      "    24    -6.226028e+01     1.905361e-03\n",
      " * time: 3.7926559448242188\n",
      "    25    -6.226093e+01     1.451728e-03\n",
      " * time: 3.90386700630188\n",
      "    26    -6.226124e+01     1.031804e-03\n",
      " * time: 4.020362854003906\n",
      "    27    -6.226140e+01     8.585679e-04\n",
      " * time: 4.130363941192627\n",
      "    28    -6.226149e+01     6.705491e-04\n",
      " * time: 4.247600078582764\n",
      "    29    -6.226154e+01     6.489073e-04\n",
      " * time: 4.356730937957764\n",
      "    30    -6.226159e+01     5.645936e-04\n",
      " * time: 4.474218845367432\n",
      "    31    -6.226161e+01     4.127690e-04\n",
      " * time: 4.584265947341919\n",
      "    32    -6.226163e+01     2.959082e-04\n",
      " * time: 4.700554847717285\n",
      "    33    -6.226165e+01     1.957933e-04\n",
      " * time: 4.808883905410767\n",
      "    34    -6.226166e+01     1.544280e-04\n",
      " * time: 4.9245688915252686\n",
      "    35    -6.226166e+01     1.513299e-04\n",
      " * time: 5.0326879024505615\n",
      "    36    -6.226166e+01     7.176423e-05\n",
      " * time: 5.1487040519714355\n",
      "    37    -6.226167e+01     5.943168e-05\n",
      " * time: 5.257593870162964\n",
      "    38    -6.226167e+01     4.937991e-05\n",
      " * time: 5.3740880489349365\n",
      "    39    -6.226167e+01     4.248711e-05\n",
      " * time: 5.48464298248291\n",
      "    40    -6.226167e+01     3.250541e-05\n",
      " * time: 5.6019299030303955\n",
      "    41    -6.226167e+01     2.255510e-05\n",
      " * time: 5.710625886917114\n",
      "    42    -6.226167e+01     1.928919e-05\n",
      " * time: 5.827497959136963\n",
      "    43    -6.226167e+01     1.750113e-05\n",
      " * time: 5.945451974868774\n",
      "    44    -6.226167e+01     1.210405e-05\n",
      " * time: 6.075047016143799\n",
      "    45    -6.226167e+01     9.442274e-06\n",
      " * time: 6.183722019195557\n",
      "    46    -6.226167e+01     6.877570e-06\n",
      " * time: 6.300754070281982\n",
      "    47    -6.226167e+01     4.779990e-06\n",
      " * time: 6.410063982009888\n",
      "    48    -6.226167e+01     3.270685e-06\n",
      " * time: 6.524863958358765\n",
      "    49    -6.226167e+01     2.516321e-06\n",
      " * time: 6.631624937057495\n"
     ]
    }
   ],
   "cell_type": "code",
   "source": [
    "scfres = direct_minimization(basis, tol=1e-5);"
   ],
   "metadata": {},
   "execution_count": 4
  },
  {
   "outputs": [
    {
     "output_type": "execute_result",
     "data": {
      "text/plain": "Energy breakdown:\n    Kinetic             25.7671067\n    AtomicLocal         -18.8557708\n    AtomicNonlocal      14.8522674\n    Ewald               -67.1831486\n    PspCorrection       -2.3569765\n    Hartree             4.8485376 \n    Xc                  -19.3336821\n\n    total               -62.261666461685\n"
     },
     "metadata": {},
     "execution_count": 5
    }
   ],
   "cell_type": "code",
   "source": [
    "scfres.energies"
   ],
   "metadata": {},
   "execution_count": 5
  }
 ],
 "nbformat_minor": 3,
 "metadata": {
  "language_info": {
   "file_extension": ".jl",
   "mimetype": "application/julia",
   "name": "julia",
   "version": "1.3.1"
  },
  "kernelspec": {
   "name": "julia-1.3",
   "display_name": "Julia 1.3.1",
   "language": "julia"
  }
 },
 "nbformat": 4
}
