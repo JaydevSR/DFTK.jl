{
 "cells": [
  {
   "cell_type": "markdown",
   "source": [
    "# Creating supercells with pymatgen\n",
    "\n",
    "The [Pymatgen](https://pymatgen.org/) python library allows to setup\n",
    "solid-state calculations using a flexible set of classes as well as an API\n",
    "to an online data base of structures. Its `Structure` and `Lattice`\n",
    "objects are directly supported by the DFTK `load_atoms` and `load_lattice`\n",
    "functions, such that DFTK may be readily used to run calculation on systems\n",
    "defined in pymatgen. Using the `pymatgen_structure` function a conversion\n",
    "from DFTK to pymatgen structures is also possible. In the following we\n",
    "use this to create a silicon supercell and find its LDA ground state\n",
    "using direct minimisation."
   ],
   "metadata": {}
  },
  {
   "cell_type": "markdown",
   "source": [
    "First we setup the silicon lattice in DFTK."
   ],
   "metadata": {}
  },
  {
   "outputs": [],
   "cell_type": "code",
   "source": [
    "using DFTK\n",
    "\n",
    "a = 10.263141334305942  # Lattice constant in Bohr\n",
    "lattice = a / 2 .* [[0 1 1.]; [1 0 1.]; [1 1 0.]]\n",
    "Si = ElementPsp(:Si, psp=load_psp(\"hgh/lda/Si-q4\"))\n",
    "atoms = [Si => [ones(3)/8, -ones(3)/8]];"
   ],
   "metadata": {},
   "execution_count": 1
  },
  {
   "cell_type": "markdown",
   "source": [
    "Next we make a `[2, 2, 2]` supercell using pymatgen"
   ],
   "metadata": {}
  },
  {
   "outputs": [],
   "cell_type": "code",
   "source": [
    "pystruct = pymatgen_structure(lattice, atoms)\n",
    "pystruct.make_supercell([2, 2, 2])\n",
    "lattice = load_lattice(pystruct)\n",
    "atoms = [Si => [s.frac_coords for s in pystruct.sites]];"
   ],
   "metadata": {},
   "execution_count": 2
  },
  {
   "cell_type": "markdown",
   "source": [
    "Setup an LDA model and discretize using\n",
    "a single kpoint and a small `Ecut` of 5 Hartree.\n",
    "Notice that `PlaneWaveBasis` defaults to just using the ``Γ``-point\n",
    "if no ``k``-point options are provided."
   ],
   "metadata": {}
  },
  {
   "outputs": [
    {
     "name": "stdout",
     "output_type": "stream",
     "text": [
      "Iter     Function value   Gradient norm \n",
      "     0     1.113005e+02     1.695879e+00\n",
      " * time: 0.08987212181091309\n",
      "     1     1.062714e+01     8.704111e-01\n",
      " * time: 0.9242010116577148\n",
      "     2    -1.215558e+01     1.055267e+00\n",
      " * time: 1.1894850730895996\n",
      "     3    -3.413548e+01     7.939458e-01\n",
      " * time: 1.3698070049285889\n",
      "     4    -4.763283e+01     5.693305e-01\n",
      " * time: 1.7670519351959229\n",
      "     5    -5.707730e+01     2.078044e-01\n",
      " * time: 1.922076940536499\n",
      "     6    -5.992332e+01     1.389056e-01\n",
      " * time: 2.039149045944214\n",
      "     7    -6.097523e+01     4.757450e-02\n",
      " * time: 2.156002998352051\n",
      "     8    -6.136758e+01     5.994065e-02\n",
      " * time: 2.266170024871826\n",
      "     9    -6.159949e+01     3.258536e-02\n",
      " * time: 2.383674144744873\n",
      "    10    -6.180025e+01     3.503339e-02\n",
      " * time: 2.5003421306610107\n",
      "    11    -6.196544e+01     3.049756e-02\n",
      " * time: 2.617309093475342\n",
      "    12    -6.204564e+01     2.541724e-02\n",
      " * time: 2.732762098312378\n",
      "    13    -6.212381e+01     1.534821e-02\n",
      " * time: 2.8421130180358887\n",
      "    14    -6.216457e+01     1.333212e-02\n",
      " * time: 2.957982063293457\n",
      "    15    -6.219910e+01     1.204937e-02\n",
      " * time: 3.073045015335083\n",
      "    16    -6.221690e+01     9.581777e-03\n",
      " * time: 3.1887080669403076\n",
      "    17    -6.222950e+01     6.263590e-03\n",
      " * time: 3.3053109645843506\n",
      "    18    -6.223725e+01     5.421283e-03\n",
      " * time: 3.41463303565979\n",
      "    19    -6.224255e+01     5.374006e-03\n",
      " * time: 3.5303421020507812\n",
      "    20    -6.224716e+01     5.126186e-03\n",
      " * time: 3.6457250118255615\n",
      "    21    -6.225139e+01     4.827220e-03\n",
      " * time: 3.7615549564361572\n",
      "    22    -6.225520e+01     4.465682e-03\n",
      " * time: 3.876642942428589\n",
      "    23    -6.225817e+01     2.714491e-03\n",
      " * time: 3.9854280948638916\n",
      "    24    -6.225992e+01     1.788040e-03\n",
      " * time: 4.100733995437622\n",
      "    25    -6.226077e+01     1.354450e-03\n",
      " * time: 4.215935945510864\n",
      "    26    -6.226119e+01     9.257491e-04\n",
      " * time: 4.331979990005493\n",
      "    27    -6.226139e+01     8.789251e-04\n",
      " * time: 4.439764022827148\n",
      "    28    -6.226149e+01     6.094831e-04\n",
      " * time: 4.554012060165405\n",
      "    29    -6.226155e+01     6.440334e-04\n",
      " * time: 4.668935060501099\n",
      "    30    -6.226159e+01     3.804505e-04\n",
      " * time: 4.783086061477661\n",
      "    31    -6.226161e+01     2.991305e-04\n",
      " * time: 4.897278070449829\n",
      "    32    -6.226163e+01     2.554643e-04\n",
      " * time: 5.006087064743042\n",
      "    33    -6.226165e+01     2.018937e-04\n",
      " * time: 5.121026039123535\n",
      "    34    -6.226166e+01     1.991269e-04\n",
      " * time: 5.235986948013306\n",
      "    35    -6.226166e+01     1.341968e-04\n",
      " * time: 5.350516080856323\n",
      "    36    -6.226166e+01     1.135588e-04\n",
      " * time: 5.46603798866272\n",
      "    37    -6.226166e+01     7.230173e-05\n",
      " * time: 5.574739933013916\n",
      "    38    -6.226167e+01     4.389803e-05\n",
      " * time: 5.690678119659424\n",
      "    39    -6.226167e+01     3.249030e-05\n",
      " * time: 5.8057310581207275\n",
      "    40    -6.226167e+01     2.581923e-05\n",
      " * time: 5.920596122741699\n",
      "    41    -6.226167e+01     2.315314e-05\n",
      " * time: 6.035326957702637\n",
      "    42    -6.226167e+01     1.982514e-05\n",
      " * time: 6.143507957458496\n",
      "    43    -6.226167e+01     1.491491e-05\n",
      " * time: 6.258829116821289\n",
      "    44    -6.226167e+01     1.129661e-05\n",
      " * time: 6.372879981994629\n",
      "    45    -6.226167e+01     8.689989e-06\n",
      " * time: 6.486894130706787\n",
      "    46    -6.226167e+01     6.615968e-06\n",
      " * time: 6.5947511196136475\n",
      "    47    -6.226167e+01     5.072526e-06\n",
      " * time: 6.7091710567474365\n",
      "    48    -6.226167e+01     3.485290e-06\n",
      " * time: 6.823518991470337\n",
      "    49    -6.226167e+01     3.363655e-06\n",
      " * time: 6.936921119689941\n"
     ]
    }
   ],
   "cell_type": "code",
   "source": [
    "model = model_LDA(lattice, atoms)\n",
    "basis = PlaneWaveBasis(model, 5)\n",
    "\n",
    "# Find the ground state using direct minimisation (always using SCF is boring ...)\n",
    "scfres = direct_minimization(basis, tol=1e-5);"
   ],
   "metadata": {},
   "execution_count": 3
  },
  {
   "outputs": [
    {
     "output_type": "execute_result",
     "data": {
      "text/plain": "Energy breakdown:\n    Kinetic             25.7671060\n    AtomicLocal         -18.8557678\n    AtomicNonlocal      14.8522657\n    Ewald               -67.1831486\n    PspCorrection       -2.3569765\n    Hartree             4.8485366 \n    Xc                  -19.3336818\n\n    total               -62.261666460929\n"
     },
     "metadata": {},
     "execution_count": 4
    }
   ],
   "cell_type": "code",
   "source": [
    "scfres.energies"
   ],
   "metadata": {},
   "execution_count": 4
  }
 ],
 "nbformat_minor": 3,
 "metadata": {
  "language_info": {
   "file_extension": ".jl",
   "mimetype": "application/julia",
   "name": "julia",
   "version": "1.3.1"
  },
  "kernelspec": {
   "name": "julia-1.3",
   "display_name": "Julia 1.3.1",
   "language": "julia"
  }
 },
 "nbformat": 4
}
