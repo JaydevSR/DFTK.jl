{
 "cells": [
  {
   "cell_type": "markdown",
   "source": [
    "# Creating supercells with pymatgen\n",
    "\n",
    "The [Pymatgen](https://pymatgen.org/) python library allows to setup\n",
    "solid-state calculations using a flexible set of classes as well as an API\n",
    "to an online data base of structures. Its `Structure` and `Lattice`\n",
    "objects are directly supported by the DFTK `load_atoms` and `load_lattice`\n",
    "functions, such that DFTK may be readily used to run calculation on systems\n",
    "defined in pymatgen. Using the `pymatgen_structure` function a conversion\n",
    "from DFTK to pymatgen structures is also possible. In the following we\n",
    "use this to create a silicon supercell and find its LDA ground state\n",
    "using direct minimisation."
   ],
   "metadata": {}
  },
  {
   "cell_type": "markdown",
   "source": [
    "First we setup the silicon lattice in DFTK."
   ],
   "metadata": {}
  },
  {
   "outputs": [],
   "cell_type": "code",
   "source": [
    "using DFTK\n",
    "\n",
    "a = 10.263141334305942  # Lattice constant in Bohr\n",
    "lattice = a / 2 .* [[0 1 1.]; [1 0 1.]; [1 1 0.]]\n",
    "Si = ElementPsp(:Si, psp=load_psp(\"hgh/lda/Si-q4\"))\n",
    "atoms = [Si => [ones(3)/8, -ones(3)/8]];"
   ],
   "metadata": {},
   "execution_count": 1
  },
  {
   "cell_type": "markdown",
   "source": [
    "Next we make a `[2, 2, 2]` supercell using pymatgen"
   ],
   "metadata": {}
  },
  {
   "outputs": [],
   "cell_type": "code",
   "source": [
    "pystruct = pymatgen_structure(lattice, atoms)\n",
    "pystruct.make_supercell([2, 2, 2])\n",
    "lattice = load_lattice(pystruct)\n",
    "atoms = [Si => [s.frac_coords for s in pystruct.sites]];"
   ],
   "metadata": {},
   "execution_count": 2
  },
  {
   "cell_type": "markdown",
   "source": [
    "Setup an LDA model and discretize using\n",
    "a single kpoint and a small `Ecut` of 5 Hartree."
   ],
   "metadata": {}
  },
  {
   "outputs": [
    {
     "output_type": "execute_result",
     "data": {
      "text/plain": "PlaneWaveBasis (Ecut=5.0, 1 kpoints)"
     },
     "metadata": {},
     "execution_count": 3
    }
   ],
   "cell_type": "code",
   "source": [
    "model = model_LDA(lattice, atoms)\n",
    "basis = PlaneWaveBasis(model, 5, kgrid=(1, 1, 1))"
   ],
   "metadata": {},
   "execution_count": 3
  },
  {
   "cell_type": "markdown",
   "source": [
    "Find the ground state using direct minimisation (always using SCF is boring ...)"
   ],
   "metadata": {}
  },
  {
   "outputs": [
    {
     "name": "stdout",
     "output_type": "stream",
     "text": [
      "Iter     Function value   Gradient norm \n",
      "     0     1.119038e+02     1.715931e+00\n",
      " * time: 0.07577085494995117\n",
      "     1     1.103532e+01     9.720456e-01\n",
      " * time: 1.391779899597168\n",
      "     2    -1.139322e+01     9.877438e-01\n",
      " * time: 1.4919068813323975\n",
      "     3    -3.375419e+01     8.642042e-01\n",
      " * time: 1.621243953704834\n",
      "     4    -4.700773e+01     7.062267e-01\n",
      " * time: 1.775650978088379\n",
      "     5    -5.667329e+01     2.673316e-01\n",
      " * time: 1.8930788040161133\n",
      "     6    -5.954156e+01     2.949440e-01\n",
      " * time: 1.9897449016571045\n",
      "     7    -6.079350e+01     1.303211e-01\n",
      " * time: 2.091615915298462\n",
      "     8    -6.138066e+01     5.033727e-02\n",
      " * time: 2.2047038078308105\n",
      "     9    -6.164814e+01     3.551597e-02\n",
      " * time: 2.2956769466400146\n",
      "    10    -6.183533e+01     2.792023e-02\n",
      " * time: 2.386706829071045\n",
      "    11    -6.197559e+01     2.444381e-02\n",
      " * time: 2.4791507720947266\n",
      "    12    -6.207153e+01     1.968968e-02\n",
      " * time: 2.5702338218688965\n",
      "    13    -6.211809e+01     1.669925e-02\n",
      " * time: 2.67524790763855\n",
      "    14    -6.215896e+01     1.284629e-02\n",
      " * time: 2.7672619819641113\n",
      "    15    -6.218075e+01     1.250063e-02\n",
      " * time: 2.857966899871826\n",
      "    16    -6.219869e+01     1.189551e-02\n",
      " * time: 2.949476957321167\n",
      "    17    -6.221172e+01     9.031304e-03\n",
      " * time: 3.0410587787628174\n",
      "    18    -6.222153e+01     6.628172e-03\n",
      " * time: 3.1418628692626953\n",
      "    19    -6.222945e+01     5.990227e-03\n",
      " * time: 3.233259916305542\n",
      "    20    -6.223606e+01     5.269957e-03\n",
      " * time: 3.323694944381714\n",
      "    21    -6.224225e+01     5.382037e-03\n",
      " * time: 3.4154908657073975\n",
      "    22    -6.224796e+01     4.950701e-03\n",
      " * time: 3.507159948348999\n",
      "    23    -6.225291e+01     3.840693e-03\n",
      " * time: 3.6070499420166016\n",
      "    24    -6.225666e+01     3.314113e-03\n",
      " * time: 3.6978719234466553\n",
      "    25    -6.225889e+01     2.456479e-03\n",
      " * time: 3.7883639335632324\n",
      "    26    -6.226014e+01     1.768618e-03\n",
      " * time: 3.880417823791504\n",
      "    27    -6.226076e+01     1.562870e-03\n",
      " * time: 3.972275972366333\n",
      "    28    -6.226109e+01     1.221003e-03\n",
      " * time: 4.064181804656982\n",
      "    29    -6.226128e+01     1.025694e-03\n",
      " * time: 4.163383960723877\n",
      "    30    -6.226141e+01     6.950532e-04\n",
      " * time: 4.25476598739624\n",
      "    31    -6.226149e+01     5.681949e-04\n",
      " * time: 4.346015930175781\n",
      "    32    -6.226155e+01     4.384659e-04\n",
      " * time: 4.4362077713012695\n",
      "    33    -6.226159e+01     3.590175e-04\n",
      " * time: 4.526639938354492\n",
      "    34    -6.226163e+01     3.073583e-04\n",
      " * time: 4.626524925231934\n",
      "    35    -6.226165e+01     2.582795e-04\n",
      " * time: 4.7165467739105225\n",
      "    36    -6.226166e+01     1.750178e-04\n",
      " * time: 4.8070387840271\n",
      "    37    -6.226166e+01     1.214594e-04\n",
      " * time: 4.899046897888184\n",
      "    38    -6.226166e+01     9.321142e-05\n",
      " * time: 4.989121913909912\n",
      "    39    -6.226166e+01     7.227195e-05\n",
      " * time: 5.087681770324707\n",
      "    40    -6.226167e+01     6.346996e-05\n",
      " * time: 5.1787109375\n",
      "    41    -6.226167e+01     4.801105e-05\n",
      " * time: 5.268380880355835\n",
      "    42    -6.226167e+01     3.902128e-05\n",
      " * time: 5.358179807662964\n",
      "    43    -6.226167e+01     2.603766e-05\n",
      " * time: 5.448386907577515\n",
      "    44    -6.226167e+01     2.100065e-05\n",
      " * time: 5.546053886413574\n",
      "    45    -6.226167e+01     1.639748e-05\n",
      " * time: 5.637868881225586\n",
      "    46    -6.226167e+01     1.180097e-05\n",
      " * time: 5.729372978210449\n",
      "    47    -6.226167e+01     8.757902e-06\n",
      " * time: 5.820695877075195\n",
      "    48    -6.226167e+01     5.738414e-06\n",
      " * time: 5.912616968154907\n",
      "    49    -6.226167e+01     3.895057e-06\n",
      " * time: 6.0108819007873535\n",
      "    50    -6.226167e+01     3.120677e-06\n",
      " * time: 6.100895881652832\n"
     ]
    }
   ],
   "cell_type": "code",
   "source": [
    "scfres = direct_minimization(basis, tol=1e-5);"
   ],
   "metadata": {},
   "execution_count": 4
  },
  {
   "outputs": [
    {
     "output_type": "execute_result",
     "data": {
      "text/plain": "Energy breakdown:\n    Kinetic             25.7671063\n    AtomicLocal         -18.8557587\n    AtomicNonlocal      14.8522571\n    Ewald               -67.1831486\n    PspCorrection       -2.3569765\n    Hartree             4.8485355 \n    Xc                  -19.3336815\n\n    total               -62.261666458769\n"
     },
     "metadata": {},
     "execution_count": 5
    }
   ],
   "cell_type": "code",
   "source": [
    "scfres.energies"
   ],
   "metadata": {},
   "execution_count": 5
  }
 ],
 "nbformat_minor": 3,
 "metadata": {
  "language_info": {
   "file_extension": ".jl",
   "mimetype": "application/julia",
   "name": "julia",
   "version": "1.4.2"
  },
  "kernelspec": {
   "name": "julia-1.4",
   "display_name": "Julia 1.4.2",
   "language": "julia"
  }
 },
 "nbformat": 4
}
