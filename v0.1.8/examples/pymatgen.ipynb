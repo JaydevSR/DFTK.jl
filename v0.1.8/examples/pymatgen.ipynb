{
 "cells": [
  {
   "cell_type": "markdown",
   "source": [
    "# Creating supercells with pymatgen\n",
    "\n",
    "The [Pymatgen](https://pymatgen.org/) python library allows to setup\n",
    "solid-state calculations using a flexible set of classes as well as an API\n",
    "to an online data base of structures. Its `Structure` and `Lattice`\n",
    "objects are directly supported by the DFTK `load_atoms` and `load_lattice`\n",
    "functions, such that DFTK may be readily used to run calculation on systems\n",
    "defined in pymatgen. Using the `pymatgen_structure` function a conversion\n",
    "from DFTK to pymatgen structures is also possible. In the following we\n",
    "use this to create a silicon supercell and find its LDA ground state\n",
    "using direct minimisation."
   ],
   "metadata": {}
  },
  {
   "cell_type": "markdown",
   "source": [
    "First we setup the silicon lattice in DFTK."
   ],
   "metadata": {}
  },
  {
   "outputs": [],
   "cell_type": "code",
   "source": [
    "using DFTK\n",
    "\n",
    "a = 10.263141334305942  # Lattice constant in Bohr\n",
    "lattice = a / 2 .* [[0 1 1.]; [1 0 1.]; [1 1 0.]]\n",
    "Si = ElementPsp(:Si, psp=load_psp(\"hgh/lda/Si-q4\"))\n",
    "atoms = [Si => [ones(3)/8, -ones(3)/8]];"
   ],
   "metadata": {},
   "execution_count": 1
  },
  {
   "cell_type": "markdown",
   "source": [
    "Next we make a `[2, 2, 2]` supercell using pymatgen"
   ],
   "metadata": {}
  },
  {
   "outputs": [],
   "cell_type": "code",
   "source": [
    "pystruct = pymatgen_structure(lattice, atoms)\n",
    "pystruct.make_supercell([2, 2, 2])\n",
    "lattice = load_lattice(pystruct)\n",
    "atoms = [Si => [s.frac_coords for s in pystruct.sites]];"
   ],
   "metadata": {},
   "execution_count": 2
  },
  {
   "cell_type": "markdown",
   "source": [
    "Setup an LDA model and discretize using\n",
    "a single kpoint and a small `Ecut` of 5 Hartree."
   ],
   "metadata": {}
  },
  {
   "outputs": [
    {
     "output_type": "execute_result",
     "data": {
      "text/plain": "PlaneWaveBasis (Ecut=5.0, 1 kpoints)"
     },
     "metadata": {},
     "execution_count": 3
    }
   ],
   "cell_type": "code",
   "source": [
    "model = model_LDA(lattice, atoms)\n",
    "basis = PlaneWaveBasis(model, 5, kgrid=(1, 1, 1))"
   ],
   "metadata": {},
   "execution_count": 3
  },
  {
   "cell_type": "markdown",
   "source": [
    "Find the ground state using direct minimisation (always using SCF is boring ...)"
   ],
   "metadata": {}
  },
  {
   "outputs": [
    {
     "name": "stdout",
     "output_type": "stream",
     "text": [
      "Iter     Function value   Gradient norm \n",
      "     0     1.121859e+02     1.478726e+00\n",
      " * time: 0.12488985061645508\n",
      "     1     1.091177e+01     1.067664e+00\n",
      " * time: 1.0175549983978271\n",
      "     2    -1.230745e+01     1.043913e+00\n",
      " * time: 1.158998966217041\n",
      "     3    -3.425900e+01     9.032160e-01\n",
      " * time: 1.3135309219360352\n",
      "     4    -4.789073e+01     7.520529e-01\n",
      " * time: 1.4609730243682861\n",
      "     5    -5.705595e+01     3.074327e-01\n",
      " * time: 1.6020610332489014\n",
      "     6    -5.978100e+01     2.880649e-01\n",
      " * time: 1.7172129154205322\n",
      "     7    -6.091281e+01     1.392807e-01\n",
      " * time: 1.8342208862304688\n",
      "     8    -6.141858e+01     4.118639e-02\n",
      " * time: 1.9427218437194824\n",
      "     9    -6.166344e+01     3.724459e-02\n",
      " * time: 2.059459924697876\n",
      "    10    -6.182938e+01     4.932860e-02\n",
      " * time: 2.170297861099243\n",
      "    11    -6.196563e+01     2.723432e-02\n",
      " * time: 2.2856569290161133\n",
      "    12    -6.205699e+01     1.991604e-02\n",
      " * time: 2.4043428897857666\n",
      "    13    -6.211610e+01     1.536877e-02\n",
      " * time: 2.5163118839263916\n",
      "    14    -6.215647e+01     1.665458e-02\n",
      " * time: 2.6346020698547363\n",
      "    15    -6.218612e+01     1.336302e-02\n",
      " * time: 2.7461328506469727\n",
      "    16    -6.220495e+01     9.698880e-03\n",
      " * time: 2.8635969161987305\n",
      "    17    -6.221830e+01     7.170940e-03\n",
      " * time: 2.985071897506714\n",
      "    18    -6.222786e+01     6.078674e-03\n",
      " * time: 3.0955159664154053\n",
      "    19    -6.223463e+01     5.242237e-03\n",
      " * time: 3.2121498584747314\n",
      "    20    -6.224053e+01     4.924001e-03\n",
      " * time: 3.329108953475952\n",
      "    21    -6.224600e+01     5.377634e-03\n",
      " * time: 3.439046859741211\n",
      "    22    -6.225119e+01     4.381838e-03\n",
      " * time: 3.557997941970825\n",
      "    23    -6.225536e+01     3.889361e-03\n",
      " * time: 3.668433904647827\n",
      "    24    -6.225818e+01     2.875688e-03\n",
      " * time: 3.787569999694824\n",
      "    25    -6.225976e+01     2.454838e-03\n",
      " * time: 3.904860019683838\n",
      "    26    -6.226057e+01     1.663692e-03\n",
      " * time: 4.017384052276611\n",
      "    27    -6.226097e+01     1.123784e-03\n",
      " * time: 4.135154962539673\n",
      "    28    -6.226120e+01     1.061973e-03\n",
      " * time: 4.246126890182495\n",
      "    29    -6.226134e+01     8.770663e-04\n",
      " * time: 4.362585067749023\n",
      "    30    -6.226145e+01     7.473200e-04\n",
      " * time: 4.479553937911987\n",
      "    31    -6.226153e+01     5.470440e-04\n",
      " * time: 4.590147018432617\n",
      "    32    -6.226159e+01     4.228276e-04\n",
      " * time: 4.708750009536743\n",
      "    33    -6.226162e+01     3.526666e-04\n",
      " * time: 4.82002592086792\n",
      "    34    -6.226164e+01     2.191421e-04\n",
      " * time: 4.936924934387207\n",
      "    35    -6.226166e+01     2.011206e-04\n",
      " * time: 5.05561089515686\n",
      "    36    -6.226166e+01     1.436254e-04\n",
      " * time: 5.166765928268433\n",
      "    37    -6.226166e+01     8.839877e-05\n",
      " * time: 5.2860119342803955\n",
      "    38    -6.226166e+01     6.328296e-05\n",
      " * time: 5.395766973495483\n",
      "    39    -6.226167e+01     5.612182e-05\n",
      " * time: 5.511970043182373\n",
      "    40    -6.226167e+01     4.108987e-05\n",
      " * time: 5.6300048828125\n",
      "    41    -6.226167e+01     3.319658e-05\n",
      " * time: 5.73984694480896\n",
      "    42    -6.226167e+01     2.541292e-05\n",
      " * time: 5.858125925064087\n",
      "    43    -6.226167e+01     2.264543e-05\n",
      " * time: 5.970460891723633\n",
      "    44    -6.226167e+01     1.996349e-05\n",
      " * time: 6.087224960327148\n",
      "    45    -6.226167e+01     1.586118e-05\n",
      " * time: 6.206088066101074\n",
      "    46    -6.226167e+01     1.282680e-05\n",
      " * time: 6.317631006240845\n",
      "    47    -6.226167e+01     8.670042e-06\n",
      " * time: 6.439383029937744\n",
      "    48    -6.226167e+01     6.936140e-06\n",
      " * time: 6.5530500411987305\n",
      "    49    -6.226167e+01     4.403771e-06\n",
      " * time: 6.671795845031738\n",
      "    50    -6.226167e+01     2.880712e-06\n",
      " * time: 6.789917945861816\n"
     ]
    }
   ],
   "cell_type": "code",
   "source": [
    "scfres = direct_minimization(basis, tol=1e-5);"
   ],
   "metadata": {},
   "execution_count": 4
  },
  {
   "outputs": [
    {
     "output_type": "execute_result",
     "data": {
      "text/plain": "Energy breakdown:\n    Kinetic             25.7671061\n    AtomicLocal         -18.8557617\n    AtomicNonlocal      14.8522602\n    Ewald               -67.1831486\n    PspCorrection       -2.3569765\n    Hartree             4.8485356 \n    Xc                  -19.3336814\n\n    total               -62.261666460690\n"
     },
     "metadata": {},
     "execution_count": 5
    }
   ],
   "cell_type": "code",
   "source": [
    "scfres.energies"
   ],
   "metadata": {},
   "execution_count": 5
  }
 ],
 "nbformat_minor": 3,
 "metadata": {
  "language_info": {
   "file_extension": ".jl",
   "mimetype": "application/julia",
   "name": "julia",
   "version": "1.3.1"
  },
  "kernelspec": {
   "name": "julia-1.3",
   "display_name": "Julia 1.3.1",
   "language": "julia"
  }
 },
 "nbformat": 4
}
