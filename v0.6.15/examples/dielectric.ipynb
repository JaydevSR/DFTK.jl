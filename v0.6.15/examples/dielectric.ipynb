{
 "cells": [
  {
   "cell_type": "markdown",
   "source": [
    "# Eigenvalues of the dielectric matrix\n",
    "\n",
    "We compute a few eigenvalues of the dielectric matrix ($q=0$, $ω=0$) iteratively."
   ],
   "metadata": {}
  },
  {
   "outputs": [
    {
     "name": "stdout",
     "output_type": "stream",
     "text": [
      "n     Energy            log10(ΔE)   log10(Δρ)   Diag   Δtime\n",
      "---   ---------------   ---------   ---------   ----   ------\n",
      "  1   -7.234452283272                   -0.50    7.0         \n",
      "  2   -7.250076277547       -1.81       -1.39    1.0   5.02ms\n",
      "  3   -7.250771234929       -3.16       -1.83    1.0   5.18ms\n",
      "  4   -7.250931197727       -3.80       -1.85    2.0   6.08ms\n",
      "  5   -7.251335099123       -3.39       -2.79    1.0   5.21ms\n",
      "  6   -7.251337975014       -5.54       -3.06    2.0   6.53ms\n",
      "  7   -7.251338715482       -6.13       -3.62    1.0   5.34ms\n",
      "  8   -7.251338779141       -7.20       -3.92    2.0   6.43ms\n",
      "  9   -7.251338797122       -7.75       -4.47    1.0   5.53ms\n",
      " 10   -7.251338798605       -8.83       -5.05    2.0   6.64ms\n",
      " 11   -7.251338798688      -10.08       -5.48    2.0   6.59ms\n",
      " 12   -7.251338798702      -10.85       -5.91    1.0   5.84ms\n",
      " 13   -7.251338798704      -11.69       -6.25    2.0   7.03ms\n",
      " 14   -7.251338798705      -12.53       -6.74    1.0   5.86ms\n",
      " 15   -7.251338798705      -13.59       -7.29    2.0   7.28ms\n",
      " 16   -7.251338798705      -14.57       -7.82    1.0   6.32ms\n",
      " 17   -7.251338798705   +    -Inf       -8.35    2.0   7.85ms\n"
     ]
    }
   ],
   "cell_type": "code",
   "source": [
    "using DFTK\n",
    "using Plots\n",
    "using KrylovKit\n",
    "using Printf\n",
    "\n",
    "# Calculation parameters\n",
    "kgrid = [1, 1, 1]\n",
    "Ecut = 5\n",
    "\n",
    "# Silicon lattice\n",
    "a = 10.26\n",
    "lattice = a / 2 .* [[0 1 1.]; [1 0 1.]; [1 1 0.]]\n",
    "Si = ElementPsp(:Si; psp=load_psp(\"hgh/lda/Si-q4\"))\n",
    "atoms     = [Si, Si]\n",
    "positions = [ones(3)/8, -ones(3)/8]\n",
    "\n",
    "# Compute the dielectric operator without symmetries\n",
    "model  = model_LDA(lattice, atoms, positions, symmetries=false)\n",
    "basis  = PlaneWaveBasis(model; Ecut, kgrid)\n",
    "scfres = self_consistent_field(basis, tol=1e-8);"
   ],
   "metadata": {},
   "execution_count": 1
  },
  {
   "cell_type": "markdown",
   "source": [
    "Applying $ε^† ≔ (1- χ_0 K)$ …"
   ],
   "metadata": {}
  },
  {
   "outputs": [],
   "cell_type": "code",
   "source": [
    "function eps_fun(δρ)\n",
    "    δV = apply_kernel(basis, δρ; ρ=scfres.ρ)\n",
    "    χ0δV = apply_χ0(scfres, δV)\n",
    "    δρ - χ0δV\n",
    "end;"
   ],
   "metadata": {},
   "execution_count": 2
  },
  {
   "cell_type": "markdown",
   "source": [
    "… eagerly diagonalizes the subspace matrix at each iteration"
   ],
   "metadata": {}
  },
  {
   "outputs": [
    {
     "name": "stdout",
     "output_type": "stream",
     "text": [
      "[ Info: Arnoldi iteration step 1: normres = 0.049758938946369194\n",
      "[ Info: Arnoldi iteration step 2: normres = 0.6433844177384684\n",
      "[ Info: Arnoldi iteration step 3: normres = 0.7547206915446946\n",
      "[ Info: Arnoldi iteration step 4: normres = 0.31143545636228775\n",
      "[ Info: Arnoldi iteration step 5: normres = 0.41594925053305665\n",
      "[ Info: Arnoldi schursolve in iter 1, krylovdim = 5: 0 values converged, normres = (2.10e-02, 7.13e-02, 3.17e-01, 2.52e-01, 6.05e-02)\n",
      "[ Info: Arnoldi iteration step 6: normres = 0.23050025176005626\n",
      "[ Info: Arnoldi schursolve in iter 1, krylovdim = 6: 0 values converged, normres = (4.58e-03, 1.61e-01, 1.43e-01, 6.77e-02, 1.23e-02)\n",
      "[ Info: Arnoldi iteration step 7: normres = 0.08472006551297927\n",
      "[ Info: Arnoldi schursolve in iter 1, krylovdim = 7: 0 values converged, normres = (1.80e-04, 1.15e-02, 8.92e-03, 2.22e-02, 7.83e-02)\n",
      "[ Info: Arnoldi iteration step 8: normres = 0.07154634809741824\n",
      "[ Info: Arnoldi schursolve in iter 1, krylovdim = 8: 0 values converged, normres = (5.45e-06, 5.63e-04, 4.84e-04, 4.54e-03, 3.08e-02)\n",
      "[ Info: Arnoldi iteration step 9: normres = 0.08002133549633432\n",
      "[ Info: Arnoldi schursolve in iter 1, krylovdim = 9: 0 values converged, normres = (1.90e-07, 3.23e-05, 3.09e-05, 1.24e-03, 2.76e-02)\n",
      "[ Info: Arnoldi iteration step 10: normres = 0.06374644571232306\n",
      "[ Info: Arnoldi schursolve in iter 1, krylovdim = 10: 0 values converged, normres = (5.14e-09, 1.43e-06, 1.51e-06, 2.29e-04, 1.35e-02)\n",
      "[ Info: Arnoldi iteration step 11: normres = 0.10663316958751191\n",
      "[ Info: Arnoldi schursolve in iter 1, krylovdim = 11: 0 values converged, normres = (2.36e-10, 1.08e-07, 1.27e-07, 7.77e-05, 1.47e-02)\n",
      "[ Info: Arnoldi iteration step 12: normres = 0.09708842334924825\n",
      "[ Info: Arnoldi schursolve in iter 1, krylovdim = 12: 0 values converged, normres = (1.00e-11, 7.59e-09, 9.93e-09, 2.86e-05, 4.65e-02)\n",
      "[ Info: Arnoldi iteration step 13: normres = 0.08820683562677922\n",
      "[ Info: Arnoldi schursolve in iter 1, krylovdim = 13: 1 values converged, normres = (3.92e-13, 4.97e-10, 7.26e-10, 1.10e-05, 4.79e-02)\n",
      "[ Info: Arnoldi iteration step 14: normres = 0.7431565133646466\n",
      "[ Info: Arnoldi schursolve in iter 1, krylovdim = 14: 1 values converged, normres = (1.98e-13, 6.57e-10, 1.28e-09, 7.36e-01, 6.62e-03)\n",
      "[ Info: Arnoldi iteration step 15: normres = 0.07473416506847586\n",
      "[ Info: Arnoldi schursolve in iter 1, krylovdim = 15: 1 values converged, normres = (9.74e-15, 1.23e-09, 4.58e-02, 1.90e-04, 5.90e-06)\n",
      "[ Info: Arnoldi iteration step 16: normres = 0.493225470188405\n",
      "[ Info: Arnoldi schursolve in iter 1, krylovdim = 16: 1 values converged, normres = (3.76e-15, 4.90e-09, 6.04e-02, 8.68e-04, 4.88e-01)\n",
      "[ Info: Arnoldi iteration step 17: normres = 0.03614752627765298\n",
      "[ Info: Arnoldi schursolve in iter 1, krylovdim = 17: 1 values converged, normres = (7.00e-17, 9.54e-09, 4.11e-03, 1.20e-02, 6.91e-03)\n",
      "[ Info: Arnoldi iteration step 18: normres = 0.018593476073026787\n",
      "[ Info: Arnoldi schursolve in iter 1, krylovdim = 18: 1 values converged, normres = (5.38e-19, 9.02e-08, 5.04e-05, 9.54e-05, 1.62e-04)\n",
      "[ Info: Arnoldi iteration step 19: normres = 0.08912272692752812\n",
      "[ Info: Arnoldi schursolve in iter 1, krylovdim = 19: 1 values converged, normres = (1.99e-20, 2.95e-06, 3.70e-07, 4.55e-08, 1.22e-05)\n",
      "[ Info: Arnoldi iteration step 20: normres = 0.14386245909459366\n",
      "[ Info: Arnoldi schursolve in iter 1, krylovdim = 20: 1 values converged, normres = (1.38e-21, 1.14e-08, 3.68e-07, 1.37e-06, 1.04e-06)\n",
      "[ Info: Arnoldi iteration step 21: normres = 0.02931931593026109\n",
      "[ Info: Arnoldi schursolve in iter 1, krylovdim = 21: 1 values converged, normres = (1.73e-23, 6.31e-09, 4.22e-09, 8.37e-09, 3.85e-08)\n",
      "[ Info: Arnoldi iteration step 22: normres = 0.016036805690883338\n",
      "[ Info: Arnoldi schursolve in iter 1, krylovdim = 22: 1 values converged, normres = (1.14e-25, 5.07e-11, 6.17e-11, 6.40e-11, 4.52e-10)\n",
      "[ Info: Arnoldi iteration step 23: normres = 0.20676682851254646\n",
      "[ Info: Arnoldi schursolve in iter 1, krylovdim = 23: 1 values converged, normres = (9.76e-27, 6.92e-12, 8.45e-12, 9.69e-12, 6.81e-11)\n",
      "[ Info: Arnoldi iteration step 24: normres = 0.08791910917305668\n",
      "[ Info: Arnoldi schursolve in iter 1, krylovdim = 24: 1 values converged, normres = (9.51e-28, 4.04e-12, 4.92e-12, 9.33e-11, 6.46e-10)\n",
      "[ Info: Arnoldi iteration step 25: normres = 0.013807072990352333\n",
      "[ Info: Arnoldi schursolve in iter 1, krylovdim = 25: 3 values converged, normres = (4.60e-30, 3.87e-14, 4.72e-14, 3.28e-04, 6.26e-04)\n",
      "[ Info: Arnoldi iteration step 26: normres = 0.0837282552739992\n",
      "[ Info: Arnoldi schursolve in iter 1, krylovdim = 26: 3 values converged, normres = (1.60e-31, 2.16e-15, 2.64e-15, 5.19e-10, 3.28e-09)\n",
      "[ Info: Arnoldi iteration step 27: normres = 0.0534213230135538\n",
      "[ Info: Arnoldi schursolve in iter 1, krylovdim = 27: 3 values converged, normres = (3.81e-33, 8.65e-17, 1.05e-16, 1.36e-06, 9.39e-07)\n",
      "[ Info: Arnoldi iteration step 28: normres = 0.08355495341748291\n",
      "[ Info: Arnoldi schursolve in iter 1, krylovdim = 28: 3 values converged, normres = (1.33e-34, 4.88e-18, 5.95e-18, 2.55e-10, 2.66e-09)\n",
      "[ Info: Arnoldi iteration step 29: normres = 0.025898903292526056\n",
      "[ Info: Arnoldi schursolve in iter 1, krylovdim = 29: 3 values converged, normres = (1.52e-36, 9.27e-20, 1.13e-19, 1.86e-11, 6.17e-10)\n",
      "[ Info: Arnoldi iteration step 30: normres = 0.044329142860491874\n",
      "[ Info: Arnoldi schursolve in iter 1, krylovdim = 30: 4 values converged, normres = (2.77e-38, 2.70e-21, 3.29e-21, 5.97e-13, 4.52e-11)\n",
      "[ Info: Arnoldi schursolve in iter 2, krylovdim = 19: 4 values converged, normres = (2.77e-38, 2.70e-21, 3.29e-21, 5.97e-13, 4.52e-11)\n",
      "[ Info: Arnoldi iteration step 20: normres = 0.15803501858036526\n",
      "[ Info: Arnoldi schursolve in iter 2, krylovdim = 20: 4 values converged, normres = (2.11e-39, 3.64e-22, 4.44e-22, 9.13e-14, 1.37e-11)\n",
      "[ Info: Arnoldi iteration step 21: normres = 0.08195380713039509\n",
      "┌ Info: Arnoldi eigsolve finished after 2 iterations:\n",
      "│ *  6 eigenvalues converged\n",
      "│ *  norm of residuals = (7.464401362696769e-41, 2.1311057793135846e-23, 2.0449972750216268e-23, 5.960032375332007e-15, 5.059559885644641e-13, 5.059559885644641e-13)\n",
      "└ *  number of operations = 32\n"
     ]
    }
   ],
   "cell_type": "code",
   "source": [
    "eigsolve(eps_fun, randn(size(scfres.ρ)), 5, :LM; eager=true, verbosity=3);"
   ],
   "metadata": {},
   "execution_count": 3
  }
 ],
 "nbformat_minor": 3,
 "metadata": {
  "language_info": {
   "file_extension": ".jl",
   "mimetype": "application/julia",
   "name": "julia",
   "version": "1.9.4"
  },
  "kernelspec": {
   "name": "julia-1.9",
   "display_name": "Julia 1.9.4",
   "language": "julia"
  }
 },
 "nbformat": 4
}
