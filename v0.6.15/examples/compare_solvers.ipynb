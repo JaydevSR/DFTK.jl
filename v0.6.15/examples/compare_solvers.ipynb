{
 "cells": [
  {
   "cell_type": "markdown",
   "source": [
    "# Comparison of DFT solvers"
   ],
   "metadata": {}
  },
  {
   "cell_type": "markdown",
   "source": [
    "We compare four different approaches for solving the DFT minimisation problem,\n",
    "namely a density-based SCF, a potential-based SCF, direct minimisation and Newton."
   ],
   "metadata": {}
  },
  {
   "cell_type": "markdown",
   "source": [
    "First we setup our problem"
   ],
   "metadata": {}
  },
  {
   "outputs": [
    {
     "output_type": "execute_result",
     "data": {
      "text/plain": "1.0e-6"
     },
     "metadata": {},
     "execution_count": 1
    }
   ],
   "cell_type": "code",
   "source": [
    "using DFTK\n",
    "using LinearAlgebra\n",
    "\n",
    "a = 10.26  # Silicon lattice constant in Bohr\n",
    "lattice = a / 2 * [[0 1 1.];\n",
    "                   [1 0 1.];\n",
    "                   [1 1 0.]]\n",
    "Si = ElementPsp(:Si; psp=load_psp(\"hgh/lda/Si-q4\"))\n",
    "atoms     = [Si, Si]\n",
    "positions = [ones(3)/8, -ones(3)/8]\n",
    "\n",
    "model = model_LDA(lattice, atoms, positions)\n",
    "basis = PlaneWaveBasis(model; Ecut=5, kgrid=[3, 3, 3])\n",
    "\n",
    "# Convergence we desire in the density\n",
    "tol = 1e-6"
   ],
   "metadata": {},
   "execution_count": 1
  },
  {
   "cell_type": "markdown",
   "source": [
    "## Density-based self-consistent field"
   ],
   "metadata": {}
  },
  {
   "outputs": [
    {
     "name": "stdout",
     "output_type": "stream",
     "text": [
      "n     Energy            log10(ΔE)   log10(Δρ)   Diag   Δtime\n",
      "---   ---------------   ---------   ---------   ----   ------\n",
      "  1   -7.846714780244                   -0.71    4.5         \n",
      "  2   -7.852180852320       -2.26       -1.54    1.0   18.1ms\n",
      "  3   -7.852615177583       -3.36       -2.57    2.0   20.2ms\n",
      "  4   -7.852645905854       -4.51       -2.96    2.2   22.3ms\n",
      "  5   -7.852646566003       -6.18       -3.38    1.0   17.3ms\n",
      "  6   -7.852646676873       -6.96       -4.00    1.5   19.3ms\n",
      "  7   -7.852646686414       -8.02       -5.68    1.5   60.6ms\n",
      "  8   -7.852646686729       -9.50       -6.21    3.2   26.7ms\n"
     ]
    }
   ],
   "cell_type": "code",
   "source": [
    "scfres_scf = self_consistent_field(basis; tol);"
   ],
   "metadata": {},
   "execution_count": 2
  },
  {
   "cell_type": "markdown",
   "source": [
    "## Potential-based SCF"
   ],
   "metadata": {}
  },
  {
   "outputs": [
    {
     "name": "stdout",
     "output_type": "stream",
     "text": [
      "n     Energy            log10(ΔE)   log10(Δρ)   α      Diag   Δtime\n",
      "---   ---------------   ---------   ---------   ----   ----   ------\n",
      "  1   -7.846858316488                   -0.70           4.5         \n",
      "  2   -7.852526347074       -2.25       -1.63   0.80    2.0    207ms\n",
      "  3   -7.852636345317       -3.96       -2.72   0.80    1.0   16.1ms\n",
      "  4   -7.852646600177       -4.99       -3.26   0.80    2.2   21.2ms\n",
      "  5   -7.852646682314       -7.09       -4.13   0.80    1.0   15.8ms\n",
      "  6   -7.852646686359       -8.39       -4.92   0.80    1.2   17.4ms\n",
      "  7   -7.852646686720       -9.44       -5.87   0.80    2.0   20.2ms\n",
      "  8   -7.852646686730      -11.00       -7.02   0.80    2.2   21.1ms\n"
     ]
    }
   ],
   "cell_type": "code",
   "source": [
    "scfres_scfv = DFTK.scf_potential_mixing(basis; tol);"
   ],
   "metadata": {},
   "execution_count": 3
  },
  {
   "cell_type": "markdown",
   "source": [
    "## Direct minimization\n",
    "Note: Unlike the other algorithms, tolerance for this one is in the energy,\n",
    "thus we square the density tolerance value to be roughly equivalent."
   ],
   "metadata": {}
  },
  {
   "outputs": [
    {
     "name": "stdout",
     "output_type": "stream",
     "text": [
      "Iter     Function value   Gradient norm \n",
      "     0     1.392999e+01     3.200008e+00\n",
      " * time: 0.046170949935913086\n",
      "     1     1.604474e+00     1.975501e+00\n",
      " * time: 0.21927499771118164\n",
      "     2    -1.478369e+00     2.357089e+00\n",
      " * time: 0.23728203773498535\n",
      "     3    -3.719226e+00     2.206651e+00\n",
      " * time: 0.26306700706481934\n",
      "     4    -5.172344e+00     2.113847e+00\n",
      " * time: 0.28878092765808105\n",
      "     5    -6.719548e+00     1.455641e+00\n",
      " * time: 0.3146169185638428\n",
      "     6    -6.888665e+00     1.783924e+00\n",
      " * time: 0.33242106437683105\n",
      "     7    -7.449353e+00     1.324456e+00\n",
      " * time: 0.35024189949035645\n",
      "     8    -7.516555e+00     1.510260e+00\n",
      " * time: 0.3681049346923828\n",
      "     9    -7.673405e+00     1.039300e+00\n",
      " * time: 0.38605189323425293\n",
      "    10    -7.723542e+00     8.209456e-01\n",
      " * time: 0.40405797958374023\n",
      "    11    -7.783759e+00     1.958426e-01\n",
      " * time: 0.4219400882720947\n",
      "    12    -7.805167e+00     1.119282e-01\n",
      " * time: 0.43982887268066406\n",
      "    13    -7.833288e+00     1.185862e-01\n",
      " * time: 0.457751989364624\n",
      "    14    -7.843086e+00     5.522774e-02\n",
      " * time: 0.524695873260498\n",
      "    15    -7.849792e+00     3.696692e-02\n",
      " * time: 0.5426609516143799\n",
      "    16    -7.851648e+00     2.296287e-02\n",
      " * time: 0.5604019165039062\n",
      "    17    -7.852325e+00     7.837416e-03\n",
      " * time: 0.5780460834503174\n",
      "    18    -7.852543e+00     7.476680e-03\n",
      " * time: 0.5957419872283936\n",
      "    19    -7.852613e+00     3.490132e-03\n",
      " * time: 0.6133580207824707\n",
      "    20    -7.852638e+00     1.211782e-03\n",
      " * time: 0.6309590339660645\n",
      "    21    -7.852643e+00     1.244942e-03\n",
      " * time: 0.6485490798950195\n",
      "    22    -7.852645e+00     6.322873e-04\n",
      " * time: 0.6661748886108398\n",
      "    23    -7.852646e+00     3.170003e-04\n",
      " * time: 0.6839649677276611\n",
      "    24    -7.852647e+00     2.718799e-04\n",
      " * time: 0.7016479969024658\n",
      "    25    -7.852647e+00     1.314629e-04\n",
      " * time: 0.7195150852203369\n",
      "    26    -7.852647e+00     5.866383e-05\n",
      " * time: 0.7372598648071289\n",
      "    27    -7.852647e+00     3.926714e-05\n",
      " * time: 0.7549419403076172\n",
      "    28    -7.852647e+00     2.357442e-05\n",
      " * time: 0.7726099491119385\n",
      "    29    -7.852647e+00     1.115336e-05\n",
      " * time: 0.7903110980987549\n",
      "    30    -7.852647e+00     9.283614e-06\n",
      " * time: 0.8080389499664307\n",
      "    31    -7.852647e+00     5.041193e-06\n",
      " * time: 0.8256940841674805\n",
      "    32    -7.852647e+00     2.872750e-06\n",
      " * time: 0.8433620929718018\n",
      "    33    -7.852647e+00     2.399798e-06\n",
      " * time: 0.8609869480133057\n",
      "    34    -7.852647e+00     1.440327e-06\n",
      " * time: 0.8786840438842773\n",
      "    35    -7.852647e+00     7.153778e-07\n",
      " * time: 0.896353006362915\n",
      "    36    -7.852647e+00     3.479688e-07\n",
      " * time: 0.9141640663146973\n",
      "    37    -7.852647e+00     2.678891e-07\n",
      " * time: 0.9319229125976562\n",
      "    38    -7.852647e+00     1.765410e-07\n",
      " * time: 0.9496340751647949\n",
      "    39    -7.852647e+00     8.531008e-08\n",
      " * time: 0.9673869609832764\n",
      "    40    -7.852647e+00     5.199806e-08\n",
      " * time: 0.9851410388946533\n",
      "    41    -7.852647e+00     2.187639e-08\n",
      " * time: 1.0028390884399414\n",
      "    42    -7.852647e+00     1.465055e-08\n",
      " * time: 1.0209589004516602\n",
      "    43    -7.852647e+00     1.238633e-08\n",
      " * time: 1.0543270111083984\n",
      "    44    -7.852647e+00     6.313827e-09\n",
      " * time: 1.0725529193878174\n",
      "    45    -7.852647e+00     8.943237e-09\n",
      " * time: 1.0902669429779053\n",
      "    46    -7.852647e+00     2.381552e-09\n",
      " * time: 1.1079580783843994\n",
      "    47    -7.852647e+00     1.540757e-09\n",
      " * time: 1.1256558895111084\n",
      "    48    -7.852647e+00     1.540757e-09\n",
      " * time: 1.198293924331665\n"
     ]
    }
   ],
   "cell_type": "code",
   "source": [
    "scfres_dm = direct_minimization(basis; tol=tol^2);"
   ],
   "metadata": {},
   "execution_count": 4
  },
  {
   "cell_type": "markdown",
   "source": [
    "## Newton algorithm"
   ],
   "metadata": {}
  },
  {
   "cell_type": "markdown",
   "source": [
    "Start not too far from the solution to ensure convergence:\n",
    "We run first a very crude SCF to get close and then switch to Newton."
   ],
   "metadata": {}
  },
  {
   "outputs": [
    {
     "name": "stdout",
     "output_type": "stream",
     "text": [
      "n     Energy            log10(ΔE)   log10(Δρ)   Diag   Δtime\n",
      "---   ---------------   ---------   ---------   ----   ------\n",
      "  1   -7.846813962279                   -0.70    4.5         \n"
     ]
    }
   ],
   "cell_type": "code",
   "source": [
    "scfres_start = self_consistent_field(basis; tol=0.5);"
   ],
   "metadata": {},
   "execution_count": 5
  },
  {
   "cell_type": "markdown",
   "source": [
    "Remove the virtual orbitals (which Newton cannot treat yet)"
   ],
   "metadata": {}
  },
  {
   "outputs": [
    {
     "name": "stdout",
     "output_type": "stream",
     "text": [
      "n     Energy            log10(ΔE)   log10(Δρ)   Δtime\n",
      "---   ---------------   ---------   ---------   ------\n",
      "  1   -7.852645890039                   -1.64         \n",
      "  2   -7.852646686730       -6.10       -3.70    1.57s\n",
      "  3   -7.852646686730      -13.31       -7.24    122ms\n"
     ]
    }
   ],
   "cell_type": "code",
   "source": [
    "ψ = DFTK.select_occupied_orbitals(basis, scfres_start.ψ, scfres_start.occupation).ψ\n",
    "scfres_newton = newton(basis, ψ; tol);"
   ],
   "metadata": {},
   "execution_count": 6
  },
  {
   "cell_type": "markdown",
   "source": [
    "## Comparison of results"
   ],
   "metadata": {}
  },
  {
   "outputs": [
    {
     "name": "stdout",
     "output_type": "stream",
     "text": [
      "|ρ_newton - ρ_scf|  = 6.585690510645978e-7\n",
      "|ρ_newton - ρ_scfv| = 1.5297640832487523e-7\n",
      "|ρ_newton - ρ_dm|   = 6.398055870980295e-10\n"
     ]
    }
   ],
   "cell_type": "code",
   "source": [
    "println(\"|ρ_newton - ρ_scf|  = \", norm(scfres_newton.ρ - scfres_scf.ρ))\n",
    "println(\"|ρ_newton - ρ_scfv| = \", norm(scfres_newton.ρ - scfres_scfv.ρ))\n",
    "println(\"|ρ_newton - ρ_dm|   = \", norm(scfres_newton.ρ - scfres_dm.ρ))"
   ],
   "metadata": {},
   "execution_count": 7
  }
 ],
 "nbformat_minor": 3,
 "metadata": {
  "language_info": {
   "file_extension": ".jl",
   "mimetype": "application/julia",
   "name": "julia",
   "version": "1.9.4"
  },
  "kernelspec": {
   "name": "julia-1.9",
   "display_name": "Julia 1.9.4",
   "language": "julia"
  }
 },
 "nbformat": 4
}
