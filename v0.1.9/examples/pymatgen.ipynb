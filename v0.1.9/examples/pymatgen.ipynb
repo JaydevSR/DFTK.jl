{
 "cells": [
  {
   "cell_type": "markdown",
   "source": [
    "# Creating supercells with pymatgen\n",
    "\n",
    "The [Pymatgen](https://pymatgen.org/) python library allows to setup\n",
    "solid-state calculations using a flexible set of classes as well as an API\n",
    "to an online data base of structures. Its `Structure` and `Lattice`\n",
    "objects are directly supported by the DFTK `load_atoms` and `load_lattice`\n",
    "functions, such that DFTK may be readily used to run calculation on systems\n",
    "defined in pymatgen. Using the `pymatgen_structure` function a conversion\n",
    "from DFTK to pymatgen structures is also possible. In the following we\n",
    "use this to create a silicon supercell and find its LDA ground state\n",
    "using direct minimisation."
   ],
   "metadata": {}
  },
  {
   "cell_type": "markdown",
   "source": [
    "First we setup the silicon lattice in DFTK."
   ],
   "metadata": {}
  },
  {
   "outputs": [],
   "cell_type": "code",
   "source": [
    "using DFTK\n",
    "\n",
    "a = 10.263141334305942  # Lattice constant in Bohr\n",
    "lattice = a / 2 .* [[0 1 1.]; [1 0 1.]; [1 1 0.]]\n",
    "Si = ElementPsp(:Si, psp=load_psp(\"hgh/lda/Si-q4\"))\n",
    "atoms = [Si => [ones(3)/8, -ones(3)/8]];"
   ],
   "metadata": {},
   "execution_count": 1
  },
  {
   "cell_type": "markdown",
   "source": [
    "Next we make a `[2, 2, 2]` supercell using pymatgen"
   ],
   "metadata": {}
  },
  {
   "outputs": [],
   "cell_type": "code",
   "source": [
    "pystruct = pymatgen_structure(lattice, atoms)\n",
    "pystruct.make_supercell([2, 2, 2])\n",
    "lattice = load_lattice(pystruct)\n",
    "atoms = [Si => [s.frac_coords for s in pystruct.sites]];"
   ],
   "metadata": {},
   "execution_count": 2
  },
  {
   "cell_type": "markdown",
   "source": [
    "Setup an LDA model and discretize using\n",
    "a single kpoint and a small `Ecut` of 5 Hartree."
   ],
   "metadata": {}
  },
  {
   "outputs": [
    {
     "output_type": "execute_result",
     "data": {
      "text/plain": "PlaneWaveBasis (Ecut=5.0, 1 kpoints)"
     },
     "metadata": {},
     "execution_count": 3
    }
   ],
   "cell_type": "code",
   "source": [
    "model = model_LDA(lattice, atoms)\n",
    "basis = PlaneWaveBasis(model, 5, kgrid=(1, 1, 1))"
   ],
   "metadata": {},
   "execution_count": 3
  },
  {
   "cell_type": "markdown",
   "source": [
    "Find the ground state using direct minimisation (always using SCF is boring ...)"
   ],
   "metadata": {}
  },
  {
   "outputs": [
    {
     "name": "stdout",
     "output_type": "stream",
     "text": [
      "Iter     Function value   Gradient norm \n",
      "     0     1.122060e+02     1.546567e+00\n",
      " * time: 0.08457803726196289\n",
      "     1     1.079038e+01     1.008570e+00\n",
      " * time: 0.9184379577636719\n",
      "     2    -1.256071e+01     1.015411e+00\n",
      " * time: 1.050055980682373\n",
      "     3    -3.445638e+01     7.644100e-01\n",
      " * time: 1.2074689865112305\n",
      "     4    -4.827367e+01     5.278907e-01\n",
      " * time: 1.3491511344909668\n",
      "     5    -5.711799e+01     1.776993e-01\n",
      " * time: 1.4860920906066895\n",
      "     6    -5.981573e+01     1.189209e-01\n",
      " * time: 1.5890710353851318\n",
      "     7    -6.083877e+01     5.639945e-02\n",
      " * time: 1.6979451179504395\n",
      "     8    -6.124802e+01     7.793251e-02\n",
      " * time: 1.8056659698486328\n",
      "     9    -6.158612e+01     3.630137e-02\n",
      " * time: 1.9088599681854248\n",
      "    10    -6.181275e+01     2.660409e-02\n",
      " * time: 2.017781972885132\n",
      "    11    -6.197543e+01     2.166842e-02\n",
      " * time: 2.1246790885925293\n",
      "    12    -6.204137e+01     1.932414e-02\n",
      " * time: 2.2251570224761963\n",
      "    13    -6.210439e+01     1.811439e-02\n",
      " * time: 2.3332021236419678\n",
      "    14    -6.213630e+01     1.493583e-02\n",
      " * time: 2.4341750144958496\n",
      "    15    -6.216638e+01     1.040675e-02\n",
      " * time: 2.5415050983428955\n",
      "    16    -6.218595e+01     1.093026e-02\n",
      " * time: 2.6481270790100098\n",
      "    17    -6.219949e+01     8.374400e-03\n",
      " * time: 2.748418092727661\n",
      "    18    -6.221056e+01     7.498340e-03\n",
      " * time: 2.856342077255249\n",
      "    19    -6.221841e+01     6.942662e-03\n",
      " * time: 2.9617490768432617\n",
      "    20    -6.222492e+01     6.203096e-03\n",
      " * time: 3.0710959434509277\n",
      "    21    -6.223089e+01     5.887714e-03\n",
      " * time: 3.1796200275421143\n",
      "    22    -6.223704e+01     5.701069e-03\n",
      " * time: 3.283811092376709\n",
      "    23    -6.224331e+01     5.006043e-03\n",
      " * time: 3.392625093460083\n",
      "    24    -6.224922e+01     4.543108e-03\n",
      " * time: 3.5015909671783447\n",
      "    25    -6.225371e+01     4.014073e-03\n",
      " * time: 3.6033201217651367\n",
      "    26    -6.225672e+01     2.768393e-03\n",
      " * time: 3.7113559246063232\n",
      "    27    -6.225856e+01     2.415484e-03\n",
      " * time: 3.8128530979156494\n",
      "    28    -6.225961e+01     2.168840e-03\n",
      " * time: 3.932598114013672\n",
      "    29    -6.226029e+01     1.531814e-03\n",
      " * time: 4.041621923446655\n",
      "    30    -6.226077e+01     1.411464e-03\n",
      " * time: 4.14451003074646\n",
      "    31    -6.226110e+01     9.975722e-04\n",
      " * time: 4.254517078399658\n",
      "    32    -6.226131e+01     8.394414e-04\n",
      " * time: 4.3582329750061035\n",
      "    33    -6.226147e+01     7.584075e-04\n",
      " * time: 4.4667229652404785\n",
      "    34    -6.226156e+01     5.485353e-04\n",
      " * time: 4.575531959533691\n",
      "    35    -6.226162e+01     3.554691e-04\n",
      " * time: 4.678530931472778\n",
      "    36    -6.226164e+01     3.017110e-04\n",
      " * time: 4.785637140274048\n",
      "    37    -6.226165e+01     2.063254e-04\n",
      " * time: 4.894263029098511\n",
      "    38    -6.226166e+01     1.258132e-04\n",
      " * time: 4.996711015701294\n",
      "    39    -6.226166e+01     1.065910e-04\n",
      " * time: 5.1048500537872314\n",
      "    40    -6.226166e+01     8.343857e-05\n",
      " * time: 5.2044761180877686\n",
      "    41    -6.226166e+01     7.032732e-05\n",
      " * time: 5.310052156448364\n",
      "    42    -6.226167e+01     6.253318e-05\n",
      " * time: 5.416507959365845\n",
      "    43    -6.226167e+01     4.052714e-05\n",
      " * time: 5.518094062805176\n",
      "    44    -6.226167e+01     3.334635e-05\n",
      " * time: 5.626301050186157\n",
      "    45    -6.226167e+01     2.426881e-05\n",
      " * time: 5.727995157241821\n",
      "    46    -6.226167e+01     2.003974e-05\n",
      " * time: 5.835845947265625\n",
      "    47    -6.226167e+01     1.613049e-05\n",
      " * time: 5.942081928253174\n",
      "    48    -6.226167e+01     9.457958e-06\n",
      " * time: 6.044141054153442\n",
      "    49    -6.226167e+01     7.615206e-06\n",
      " * time: 6.152008056640625\n",
      "    50    -6.226167e+01     5.827728e-06\n",
      " * time: 6.259285926818848\n",
      "    51    -6.226167e+01     4.440456e-06\n",
      " * time: 6.360619068145752\n",
      "    52    -6.226167e+01     3.645033e-06\n",
      " * time: 6.467371940612793\n"
     ]
    }
   ],
   "cell_type": "code",
   "source": [
    "scfres = direct_minimization(basis, tol=1e-5);"
   ],
   "metadata": {},
   "execution_count": 4
  },
  {
   "outputs": [
    {
     "output_type": "execute_result",
     "data": {
      "text/plain": "Energy breakdown:\n    Kinetic             25.7671065\n    AtomicLocal         -18.8557701\n    AtomicNonlocal      14.8522668\n    Ewald               -67.1831486\n    PspCorrection       -2.3569765\n    Hartree             4.8485376 \n    Xc                  -19.3336821\n\n    total               -62.261666456593\n"
     },
     "metadata": {},
     "execution_count": 5
    }
   ],
   "cell_type": "code",
   "source": [
    "scfres.energies"
   ],
   "metadata": {},
   "execution_count": 5
  }
 ],
 "nbformat_minor": 3,
 "metadata": {
  "language_info": {
   "file_extension": ".jl",
   "mimetype": "application/julia",
   "name": "julia",
   "version": "1.3.1"
  },
  "kernelspec": {
   "name": "julia-1.3",
   "display_name": "Julia 1.3.1",
   "language": "julia"
  }
 },
 "nbformat": 4
}
