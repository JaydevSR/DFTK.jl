{
 "cells": [
  {
   "cell_type": "markdown",
   "source": [
    "# Creating supercells with pymatgen\n",
    "\n",
    "The [Pymatgen](https://pymatgen.org/) python library allows to setup\n",
    "solid-state calculations using a flexible set of classes as well as an API\n",
    "to an online data base of structures. Its `Structure` and `Lattice`\n",
    "objects are directly supported by the DFTK `load_atoms` and `load_lattice`\n",
    "functions, such that DFTK may be readily used to run calculation on systems\n",
    "defined in pymatgen. Using the `pymatgen_structure` function a conversion\n",
    "from DFTK to pymatgen structures is also possible. In the following we\n",
    "use this to create a silicon supercell and find its LDA ground state\n",
    "using direct minimisation."
   ],
   "metadata": {}
  },
  {
   "cell_type": "markdown",
   "source": [
    "First we setup the silicon lattice in DFTK."
   ],
   "metadata": {}
  },
  {
   "outputs": [],
   "cell_type": "code",
   "source": [
    "using DFTK\n",
    "\n",
    "a = 10.263141334305942  # Lattice constant in Bohr\n",
    "lattice = a / 2 .* [[0 1 1.]; [1 0 1.]; [1 1 0.]]\n",
    "Si = ElementPsp(:Si, psp=load_psp(\"hgh/lda/Si-q4\"))\n",
    "atoms = [Si => [ones(3)/8, -ones(3)/8]];"
   ],
   "metadata": {},
   "execution_count": 1
  },
  {
   "cell_type": "markdown",
   "source": [
    "Next we make a `[2, 2, 2]` supercell using pymatgen"
   ],
   "metadata": {}
  },
  {
   "outputs": [],
   "cell_type": "code",
   "source": [
    "pystruct = pymatgen_structure(lattice, atoms)\n",
    "pystruct.make_supercell([2, 2, 2])\n",
    "lattice = load_lattice(pystruct)\n",
    "atoms = [Si => [s.frac_coords for s in pystruct.sites]];"
   ],
   "metadata": {},
   "execution_count": 2
  },
  {
   "cell_type": "markdown",
   "source": [
    "Setup an LDA model and discretize using\n",
    "a single kpoint and a small `Ecut` of 5 Hartree."
   ],
   "metadata": {}
  },
  {
   "outputs": [
    {
     "output_type": "execute_result",
     "data": {
      "text/plain": "PlaneWaveBasis (Ecut=5.0, 1 kpoints)"
     },
     "metadata": {},
     "execution_count": 3
    }
   ],
   "cell_type": "code",
   "source": [
    "model = model_LDA(lattice, atoms)\n",
    "basis = PlaneWaveBasis(model, 5, kgrid=(1, 1, 1))"
   ],
   "metadata": {},
   "execution_count": 3
  },
  {
   "cell_type": "markdown",
   "source": [
    "Find the ground state using direct minimisation (always using SCF is boring ...)"
   ],
   "metadata": {}
  },
  {
   "outputs": [
    {
     "name": "stdout",
     "output_type": "stream",
     "text": [
      "Iter     Function value   Gradient norm \n",
      "     0     1.122124e+02     1.413665e+00\n",
      " * time: 0.7630660533905029\n",
      "     1     1.038343e+01     8.676847e-01\n",
      " * time: 2.4034430980682373\n",
      "     2    -1.178435e+01     1.039838e+00\n",
      " * time: 3.0885281562805176\n",
      "     3    -3.434635e+01     7.476202e-01\n",
      " * time: 4.042011976242065\n",
      "     4    -4.780346e+01     6.008637e-01\n",
      " * time: 5.017481088638306\n",
      "     5    -5.690138e+01     2.227735e-01\n",
      " * time: 5.99259614944458\n",
      "     6    -5.961475e+01     1.958275e-01\n",
      " * time: 6.629975080490112\n",
      "     7    -6.073288e+01     9.667213e-02\n",
      " * time: 7.270071029663086\n",
      "     8    -6.122882e+01     3.878293e-02\n",
      " * time: 7.909970045089722\n",
      "     9    -6.152225e+01     6.665616e-02\n",
      " * time: 8.671207189559937\n",
      "    10    -6.170901e+01     2.495934e-02\n",
      " * time: 9.311475038528442\n",
      "    11    -6.186819e+01     2.433724e-02\n",
      " * time: 9.952018022537231\n",
      "    12    -6.198292e+01     2.168103e-02\n",
      " * time: 10.598251104354858\n",
      "    13    -6.204279e+01     2.035068e-02\n",
      " * time: 11.630211114883423\n",
      "    14    -6.211710e+01     1.503440e-02\n",
      " * time: 12.271640062332153\n",
      "    15    -6.215253e+01     1.296966e-02\n",
      " * time: 12.912245988845825\n",
      "    16    -6.218520e+01     9.547012e-03\n",
      " * time: 13.552402019500732\n",
      "    17    -6.220237e+01     8.827898e-03\n",
      " * time: 14.428057193756104\n",
      "    18    -6.221518e+01     6.968401e-03\n",
      " * time: 15.066771030426025\n",
      "    19    -6.222167e+01     7.523864e-03\n",
      " * time: 15.707908153533936\n",
      "    20    -6.222646e+01     7.225695e-03\n",
      " * time: 16.357365131378174\n",
      "    21    -6.223096e+01     7.438944e-03\n",
      " * time: 17.000096082687378\n",
      "    22    -6.223605e+01     6.477815e-03\n",
      " * time: 17.64059805870056\n",
      "    23    -6.224200e+01     5.465628e-03\n",
      " * time: 18.28908920288086\n",
      "    24    -6.224856e+01     4.963424e-03\n",
      " * time: 18.930277109146118\n",
      "    25    -6.225414e+01     3.455949e-03\n",
      " * time: 19.570338010787964\n",
      "    26    -6.225726e+01     2.741649e-03\n",
      " * time: 20.219621181488037\n",
      "    27    -6.225901e+01     2.074903e-03\n",
      " * time: 20.85984516143799\n",
      "    28    -6.225989e+01     2.216570e-03\n",
      " * time: 21.500729084014893\n",
      "    29    -6.226041e+01     1.455071e-03\n",
      " * time: 22.145020008087158\n",
      "    30    -6.226077e+01     1.257739e-03\n",
      " * time: 22.786420106887817\n",
      "    31    -6.226106e+01     1.040085e-03\n",
      " * time: 23.427160024642944\n",
      "    32    -6.226129e+01     8.638876e-04\n",
      " * time: 24.072968006134033\n",
      "    33    -6.226145e+01     7.157584e-04\n",
      " * time: 24.71104907989502\n",
      "    34    -6.226156e+01     5.418960e-04\n",
      " * time: 25.351684093475342\n",
      "    35    -6.226161e+01     3.225908e-04\n",
      " * time: 25.99739718437195\n",
      "    36    -6.226164e+01     2.667476e-04\n",
      " * time: 26.636011123657227\n",
      "    37    -6.226165e+01     1.922703e-04\n",
      " * time: 27.27640700340271\n",
      "    38    -6.226166e+01     1.196437e-04\n",
      " * time: 27.920427083969116\n",
      "    39    -6.226166e+01     7.943427e-05\n",
      " * time: 28.559205055236816\n",
      "    40    -6.226166e+01     6.816548e-05\n",
      " * time: 29.204323053359985\n",
      "    41    -6.226167e+01     5.969561e-05\n",
      " * time: 29.8507239818573\n",
      "    42    -6.226167e+01     4.621310e-05\n",
      " * time: 30.492187023162842\n",
      "    43    -6.226167e+01     3.759586e-05\n",
      " * time: 31.132320165634155\n",
      "    44    -6.226167e+01     2.602182e-05\n",
      " * time: 31.777778148651123\n",
      "    45    -6.226167e+01     2.042351e-05\n",
      " * time: 32.419126987457275\n",
      "    46    -6.226167e+01     1.516590e-05\n",
      " * time: 33.05960011482239\n",
      "    47    -6.226167e+01     1.216818e-05\n",
      " * time: 33.703953981399536\n",
      "    48    -6.226167e+01     1.052342e-05\n",
      " * time: 34.3431191444397\n",
      "    49    -6.226167e+01     7.604846e-06\n",
      " * time: 34.9839141368866\n",
      "    50    -6.226167e+01     5.272315e-06\n",
      " * time: 35.62969899177551\n"
     ]
    }
   ],
   "cell_type": "code",
   "source": [
    "scfres = direct_minimization(basis, tol=1e-5);"
   ],
   "metadata": {},
   "execution_count": 4
  },
  {
   "outputs": [
    {
     "output_type": "execute_result",
     "data": {
      "text/plain": "Energy breakdown:\n    Kinetic             25.7671062\n    AtomicLocal         -18.8557717\n    AtomicNonlocal      14.8522691\n    Ewald               -67.1831486\n    PspCorrection       -2.3569765\n    Hartree             4.8485369 \n    Xc                  -19.3336818\n\n    total               -62.261666452064\n"
     },
     "metadata": {},
     "execution_count": 5
    }
   ],
   "cell_type": "code",
   "source": [
    "scfres.energies"
   ],
   "metadata": {},
   "execution_count": 5
  }
 ],
 "nbformat_minor": 3,
 "metadata": {
  "language_info": {
   "file_extension": ".jl",
   "mimetype": "application/julia",
   "name": "julia",
   "version": "1.6.1"
  },
  "kernelspec": {
   "name": "julia-1.6",
   "display_name": "Julia 1.6.1",
   "language": "julia"
  }
 },
 "nbformat": 4
}
