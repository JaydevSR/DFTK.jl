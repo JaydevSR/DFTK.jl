{
 "cells": [
  {
   "cell_type": "markdown",
   "source": [
    "# Creating supercells with pymatgen\n",
    "\n",
    "The [Pymatgen](https://pymatgen.org/) python library allows to setup\n",
    "solid-state calculations using a flexible set of classes as well as an API\n",
    "to an online data base of structures. Its `Structure` and `Lattice`\n",
    "objects are directly supported by the DFTK `load_atoms` and `load_lattice`\n",
    "functions, such that DFTK may be readily used to run calculation on systems\n",
    "defined in pymatgen. Using the `pymatgen_structure` function a conversion\n",
    "from DFTK to pymatgen structures is also possible. In the following we\n",
    "use this to create a silicon supercell and find its LDA ground state\n",
    "using direct minimisation. To run this example Julia's `PyCall` package\n",
    "needs to be able to find an installation of `pymatgen`."
   ],
   "metadata": {}
  },
  {
   "cell_type": "markdown",
   "source": [
    "First we setup the silicon lattice in DFTK."
   ],
   "metadata": {}
  },
  {
   "outputs": [],
   "cell_type": "code",
   "source": [
    "using DFTK\n",
    "\n",
    "a = 10.263141334305942  # Lattice constant in Bohr\n",
    "lattice = a / 2 .* [[0 1 1.]; [1 0 1.]; [1 1 0.]]\n",
    "Si = ElementPsp(:Si, psp=load_psp(\"hgh/lda/Si-q4\"))\n",
    "atoms = [Si => [ones(3)/8, -ones(3)/8]];"
   ],
   "metadata": {},
   "execution_count": 1
  },
  {
   "cell_type": "markdown",
   "source": [
    "Next we make a `[2, 2, 2]` supercell using pymatgen"
   ],
   "metadata": {}
  },
  {
   "outputs": [
    {
     "name": "stdout",
     "output_type": "stream",
     "text": [
      "┌ Warning: `vendor()` is deprecated, use `BLAS.get_config()` and inspect the output instead\n",
      "│   caller = npyinitialize() at numpy.jl:67\n",
      "└ @ PyCall /home/runner/.julia/packages/PyCall/L0fLP/src/numpy.jl:67\n"
     ]
    }
   ],
   "cell_type": "code",
   "source": [
    "pystruct = pymatgen_structure(lattice, atoms)\n",
    "pystruct.make_supercell([2, 2, 2])\n",
    "lattice = load_lattice(pystruct)\n",
    "atoms = [Si => [s.frac_coords for s in pystruct.sites]];"
   ],
   "metadata": {},
   "execution_count": 2
  },
  {
   "cell_type": "markdown",
   "source": [
    "Setup an LDA model and discretize using\n",
    "a single k-point and a small `Ecut` of 5 Hartree."
   ],
   "metadata": {}
  },
  {
   "outputs": [
    {
     "output_type": "execute_result",
     "data": {
      "text/plain": "PlaneWaveBasis discretization:\n    Ecut                 : 5.0 Ha\n    fft_size             : (32, 32, 32), 32768 total points\n    kgrid type           : Monkhorst-Pack\n    kgrid                : [1, 1, 1]\n    num. irred. kpoints  : 1\n\n    Discretized Model(lda_xc_teter93, 3D):\n        lattice (in Bohr)    : [0         , 10.2631   , 10.2631   ]\n                               [10.2631   , 0         , 10.2631   ]\n                               [10.2631   , 10.2631   , 0         ]\n        unit cell volume     : 2162.1 Bohr³\n    \n        atoms                : Si₁₆\n        atom potentials      : ElementPsp(Si, psp=\"hgh/lda/si-q4\")\n    \n        num. electrons       : 64\n        spin polarization    : none\n        temperature          : 0 Ha\n    \n        terms                : Kinetic()\n                               AtomicLocal()\n                               AtomicNonlocal()\n                               Ewald()\n                               PspCorrection()\n                               Hartree()\n                               Xc(:lda_xc_teter93)"
     },
     "metadata": {},
     "execution_count": 3
    }
   ],
   "cell_type": "code",
   "source": [
    "model = model_LDA(lattice, atoms)\n",
    "basis = PlaneWaveBasis(model; Ecut=5, kgrid=(1, 1, 1))"
   ],
   "metadata": {},
   "execution_count": 3
  },
  {
   "cell_type": "markdown",
   "source": [
    "Find the ground state using direct minimisation (always using SCF is boring ...)"
   ],
   "metadata": {}
  },
  {
   "outputs": [
    {
     "name": "stdout",
     "output_type": "stream",
     "text": [
      "Iter     Function value   Gradient norm \n",
      "     0     1.119423e+02     1.611731e+00\n",
      " * time: 0.5074131488800049\n",
      "     1     1.146934e+01     1.012074e+00\n",
      " * time: 1.1238250732421875\n",
      "     2    -1.195142e+01     1.075805e+00\n",
      " * time: 1.1834700107574463\n",
      "     3    -3.428890e+01     8.818910e-01\n",
      " * time: 1.2678911685943604\n",
      "     4    -4.799133e+01     6.366852e-01\n",
      " * time: 1.3527541160583496\n",
      "     5    -5.696223e+01     1.886577e-01\n",
      " * time: 1.5274081230163574\n",
      "     6    -5.986099e+01     1.189047e-01\n",
      " * time: 1.5786340236663818\n",
      "     7    -6.090171e+01     6.870723e-02\n",
      " * time: 1.6306710243225098\n",
      "     8    -6.131526e+01     7.746972e-02\n",
      " * time: 1.6823642253875732\n",
      "     9    -6.162907e+01     3.717340e-02\n",
      " * time: 1.7340970039367676\n",
      "    10    -6.185329e+01     3.055578e-02\n",
      " * time: 1.7865240573883057\n",
      "    11    -6.201562e+01     2.382769e-02\n",
      " * time: 2.214853048324585\n",
      "    12    -6.208052e+01     1.992308e-02\n",
      " * time: 2.266803026199341\n",
      "    13    -6.213166e+01     1.674111e-02\n",
      " * time: 2.318235158920288\n",
      "    14    -6.215471e+01     1.108693e-02\n",
      " * time: 2.369584083557129\n",
      "    15    -6.217354e+01     9.083477e-03\n",
      " * time: 2.4213790893554688\n",
      "    16    -6.218414e+01     6.242227e-03\n",
      " * time: 2.703336000442505\n",
      "    17    -6.219093e+01     5.480651e-03\n",
      " * time: 2.757005214691162\n",
      "    18    -6.219767e+01     4.855661e-03\n",
      " * time: 2.811000108718872\n",
      "    19    -6.220334e+01     4.975198e-03\n",
      " * time: 2.864093065261841\n",
      "    20    -6.220872e+01     5.234198e-03\n",
      " * time: 2.9291231632232666\n",
      "    21    -6.221395e+01     6.065181e-03\n",
      " * time: 2.9818520545959473\n",
      "    22    -6.221918e+01     5.826042e-03\n",
      " * time: 3.034173011779785\n",
      "    23    -6.222429e+01     5.485444e-03\n",
      " * time: 3.0873591899871826\n",
      "    24    -6.222898e+01     6.150395e-03\n",
      " * time: 3.1516621112823486\n",
      "    25    -6.223381e+01     5.441862e-03\n",
      " * time: 3.205416202545166\n",
      "    26    -6.223910e+01     5.234782e-03\n",
      " * time: 3.2568981647491455\n",
      "    27    -6.224464e+01     4.799453e-03\n",
      " * time: 3.3084821701049805\n",
      "    28    -6.225016e+01     4.360987e-03\n",
      " * time: 3.365540027618408\n",
      "    29    -6.225447e+01     3.633734e-03\n",
      " * time: 3.416821002960205\n",
      "    30    -6.225744e+01     2.742325e-03\n",
      " * time: 3.468318223953247\n",
      "    31    -6.225935e+01     2.532025e-03\n",
      " * time: 3.5202112197875977\n",
      "    32    -6.226037e+01     2.026331e-03\n",
      " * time: 3.57715106010437\n",
      "    33    -6.226095e+01     1.349104e-03\n",
      " * time: 3.62858510017395\n",
      "    34    -6.226126e+01     9.568796e-04\n",
      " * time: 3.680565118789673\n",
      "    35    -6.226142e+01     6.972741e-04\n",
      " * time: 3.737591028213501\n",
      "    36    -6.226150e+01     5.400116e-04\n",
      " * time: 3.7891581058502197\n",
      "    37    -6.226155e+01     3.743999e-04\n",
      " * time: 3.8408451080322266\n",
      "    38    -6.226159e+01     3.587355e-04\n",
      " * time: 3.8924620151519775\n",
      "    39    -6.226161e+01     3.285989e-04\n",
      " * time: 3.949782133102417\n",
      "    40    -6.226163e+01     2.628741e-04\n",
      " * time: 4.00140118598938\n",
      "    41    -6.226165e+01     2.106067e-04\n",
      " * time: 4.0529022216796875\n",
      "    42    -6.226166e+01     1.700007e-04\n",
      " * time: 4.104806184768677\n",
      "    43    -6.226166e+01     1.233571e-04\n",
      " * time: 4.162314176559448\n",
      "    44    -6.226166e+01     8.558399e-05\n",
      " * time: 4.213917016983032\n",
      "    45    -6.226167e+01     4.688912e-05\n",
      " * time: 4.26540207862854\n",
      "    46    -6.226167e+01     3.148438e-05\n",
      " * time: 4.317247152328491\n",
      "    47    -6.226167e+01     2.476561e-05\n",
      " * time: 4.37422513961792\n",
      "    48    -6.226167e+01     1.976521e-05\n",
      " * time: 4.425819158554077\n",
      "    49    -6.226167e+01     1.552597e-05\n",
      " * time: 4.476991176605225\n",
      "    50    -6.226167e+01     1.473084e-05\n",
      " * time: 4.533982992172241\n",
      "    51    -6.226167e+01     1.048883e-05\n",
      " * time: 4.585263013839722\n",
      "    52    -6.226167e+01     9.123110e-06\n",
      " * time: 4.6366541385650635\n",
      "    53    -6.226167e+01     8.298418e-06\n",
      " * time: 4.688137054443359\n",
      "    54    -6.226167e+01     4.637304e-06\n",
      " * time: 4.7449951171875\n",
      "    55    -6.226167e+01     3.627769e-06\n",
      " * time: 4.796371221542358\n",
      "    56    -6.226167e+01     3.072507e-06\n",
      " * time: 4.847488164901733\n"
     ]
    }
   ],
   "cell_type": "code",
   "source": [
    "scfres = direct_minimization(basis, tol=1e-5);"
   ],
   "metadata": {},
   "execution_count": 4
  },
  {
   "outputs": [
    {
     "output_type": "execute_result",
     "data": {
      "text/plain": "Energy breakdown (in Ha):\n    Kinetic             25.7671084\n    AtomicLocal         -18.8557715\n    AtomicNonlocal      14.8522655\n    Ewald               -67.1831486\n    PspCorrection       -2.3569765\n    Hartree             4.8485391 \n    Xc                  -19.3336828\n\n    total               -62.261666460870"
     },
     "metadata": {},
     "execution_count": 5
    }
   ],
   "cell_type": "code",
   "source": [
    "scfres.energies"
   ],
   "metadata": {},
   "execution_count": 5
  }
 ],
 "nbformat_minor": 3,
 "metadata": {
  "language_info": {
   "file_extension": ".jl",
   "mimetype": "application/julia",
   "name": "julia",
   "version": "1.7.2"
  },
  "kernelspec": {
   "name": "julia-1.7",
   "display_name": "Julia 1.7.2",
   "language": "julia"
  }
 },
 "nbformat": 4
}
