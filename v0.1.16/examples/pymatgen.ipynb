{
 "cells": [
  {
   "cell_type": "markdown",
   "source": [
    "# Creating supercells with pymatgen\n",
    "\n",
    "The [Pymatgen](https://pymatgen.org/) python library allows to setup\n",
    "solid-state calculations using a flexible set of classes as well as an API\n",
    "to an online data base of structures. Its `Structure` and `Lattice`\n",
    "objects are directly supported by the DFTK `load_atoms` and `load_lattice`\n",
    "functions, such that DFTK may be readily used to run calculation on systems\n",
    "defined in pymatgen. Using the `pymatgen_structure` function a conversion\n",
    "from DFTK to pymatgen structures is also possible. In the following we\n",
    "use this to create a silicon supercell and find its LDA ground state\n",
    "using direct minimisation."
   ],
   "metadata": {}
  },
  {
   "cell_type": "markdown",
   "source": [
    "First we setup the silicon lattice in DFTK."
   ],
   "metadata": {}
  },
  {
   "outputs": [],
   "cell_type": "code",
   "source": [
    "using DFTK\n",
    "\n",
    "a = 10.263141334305942  # Lattice constant in Bohr\n",
    "lattice = a / 2 .* [[0 1 1.]; [1 0 1.]; [1 1 0.]]\n",
    "Si = ElementPsp(:Si, psp=load_psp(\"hgh/lda/Si-q4\"))\n",
    "atoms = [Si => [ones(3)/8, -ones(3)/8]];"
   ],
   "metadata": {},
   "execution_count": 1
  },
  {
   "cell_type": "markdown",
   "source": [
    "Next we make a `[2, 2, 2]` supercell using pymatgen"
   ],
   "metadata": {}
  },
  {
   "outputs": [],
   "cell_type": "code",
   "source": [
    "pystruct = pymatgen_structure(lattice, atoms)\n",
    "pystruct.make_supercell([2, 2, 2])\n",
    "lattice = load_lattice(pystruct)\n",
    "atoms = [Si => [s.frac_coords for s in pystruct.sites]];"
   ],
   "metadata": {},
   "execution_count": 2
  },
  {
   "cell_type": "markdown",
   "source": [
    "Setup an LDA model and discretize using\n",
    "a single kpoint and a small `Ecut` of 5 Hartree."
   ],
   "metadata": {}
  },
  {
   "outputs": [
    {
     "output_type": "execute_result",
     "data": {
      "text/plain": "PlaneWaveBasis (Ecut=5.0, 1 kpoints)"
     },
     "metadata": {},
     "execution_count": 3
    }
   ],
   "cell_type": "code",
   "source": [
    "model = model_LDA(lattice, atoms)\n",
    "basis = PlaneWaveBasis(model, 5, kgrid=(1, 1, 1))"
   ],
   "metadata": {},
   "execution_count": 3
  },
  {
   "cell_type": "markdown",
   "source": [
    "Find the ground state using direct minimisation (always using SCF is boring ...)"
   ],
   "metadata": {}
  },
  {
   "outputs": [
    {
     "name": "stdout",
     "output_type": "stream",
     "text": [
      "Iter     Function value   Gradient norm \n",
      "     0     1.122712e+02     1.551663e+00\n",
      " * time: 0.07651495933532715\n",
      "     1     1.141622e+01     8.747565e-01\n",
      " * time: 1.4261839389801025\n",
      "     2    -1.264994e+01     9.946860e-01\n",
      " * time: 1.5238399505615234\n",
      "     3    -3.429007e+01     7.698666e-01\n",
      " * time: 1.6551969051361084\n",
      "     4    -4.834649e+01     5.461153e-01\n",
      " * time: 1.8061888217926025\n",
      "     5    -5.718844e+01     2.093628e-01\n",
      " * time: 1.9233059883117676\n",
      "     6    -5.988488e+01     1.048598e-01\n",
      " * time: 2.014204978942871\n",
      "     7    -6.091353e+01     5.451258e-02\n",
      " * time: 2.1052498817443848\n",
      "     8    -6.131493e+01     7.064753e-02\n",
      " * time: 2.1964609622955322\n",
      "     9    -6.161448e+01     3.424745e-02\n",
      " * time: 2.3011088371276855\n",
      "    10    -6.181200e+01     2.360874e-02\n",
      " * time: 2.3921549320220947\n",
      "    11    -6.196857e+01     2.015299e-02\n",
      " * time: 2.483119010925293\n",
      "    12    -6.203475e+01     1.969486e-02\n",
      " * time: 2.574676990509033\n",
      "    13    -6.210696e+01     1.668801e-02\n",
      " * time: 2.6653029918670654\n",
      "    14    -6.214178e+01     1.576633e-02\n",
      " * time: 2.7676198482513428\n",
      "    15    -6.217348e+01     1.108684e-02\n",
      " * time: 2.858588933944702\n",
      "    16    -6.219044e+01     9.840965e-03\n",
      " * time: 2.9492838382720947\n",
      "    17    -6.220229e+01     9.839819e-03\n",
      " * time: 3.0393519401550293\n",
      "    18    -6.221107e+01     8.169298e-03\n",
      " * time: 3.137223958969116\n",
      "    19    -6.221808e+01     7.390558e-03\n",
      " * time: 3.2269039154052734\n",
      "    20    -6.222442e+01     6.528733e-03\n",
      " * time: 3.3154499530792236\n",
      "    21    -6.223091e+01     6.341024e-03\n",
      " * time: 3.406200885772705\n",
      "    22    -6.223758e+01     5.954468e-03\n",
      " * time: 3.4951958656311035\n",
      "    23    -6.224417e+01     5.703525e-03\n",
      " * time: 3.5938258171081543\n",
      "    24    -6.224979e+01     5.433642e-03\n",
      " * time: 3.6825709342956543\n",
      "    25    -6.225388e+01     4.383703e-03\n",
      " * time: 3.7715959548950195\n",
      "    26    -6.225671e+01     3.054748e-03\n",
      " * time: 3.8612608909606934\n",
      "    27    -6.225851e+01     2.763603e-03\n",
      " * time: 3.9562788009643555\n",
      "    28    -6.225958e+01     2.030484e-03\n",
      " * time: 4.059358835220337\n",
      "    29    -6.226025e+01     2.089308e-03\n",
      " * time: 4.148651838302612\n",
      "    30    -6.226070e+01     1.647586e-03\n",
      " * time: 4.237756967544556\n",
      "    31    -6.226105e+01     1.312552e-03\n",
      " * time: 4.328012943267822\n",
      "    32    -6.226130e+01     9.532808e-04\n",
      " * time: 4.418277978897095\n",
      "    33    -6.226147e+01     6.872031e-04\n",
      " * time: 4.515957832336426\n",
      "    34    -6.226157e+01     4.906294e-04\n",
      " * time: 4.605186939239502\n",
      "    35    -6.226162e+01     3.168070e-04\n",
      " * time: 4.694988012313843\n",
      "    36    -6.226164e+01     2.989484e-04\n",
      " * time: 4.78457498550415\n",
      "    37    -6.226165e+01     2.145338e-04\n",
      " * time: 4.873687982559204\n",
      "    38    -6.226166e+01     1.528716e-04\n",
      " * time: 4.971609830856323\n",
      "    39    -6.226166e+01     1.229300e-04\n",
      " * time: 5.060921907424927\n",
      "    40    -6.226166e+01     8.642535e-05\n",
      " * time: 5.151279926300049\n",
      "    41    -6.226166e+01     7.593280e-05\n",
      " * time: 5.2391698360443115\n",
      "    42    -6.226167e+01     6.326985e-05\n",
      " * time: 5.337036848068237\n",
      "    43    -6.226167e+01     4.948026e-05\n",
      " * time: 5.425993919372559\n",
      "    44    -6.226167e+01     4.614154e-05\n",
      " * time: 5.515130996704102\n",
      "    45    -6.226167e+01     3.093447e-05\n",
      " * time: 5.60353684425354\n",
      "    46    -6.226167e+01     2.277443e-05\n",
      " * time: 5.698500871658325\n",
      "    47    -6.226167e+01     1.233398e-05\n",
      " * time: 5.804431915283203\n",
      "    48    -6.226167e+01     1.028704e-05\n",
      " * time: 5.895084857940674\n",
      "    49    -6.226167e+01     7.589165e-06\n",
      " * time: 5.984739780426025\n",
      "    50    -6.226167e+01     4.749738e-06\n",
      " * time: 6.074469804763794\n"
     ]
    }
   ],
   "cell_type": "code",
   "source": [
    "scfres = direct_minimization(basis, tol=1e-5);"
   ],
   "metadata": {},
   "execution_count": 4
  },
  {
   "outputs": [
    {
     "output_type": "execute_result",
     "data": {
      "text/plain": "Energy breakdown:\n    Kinetic             25.7671057\n    AtomicLocal         -18.8557552\n    AtomicNonlocal      14.8522551\n    Ewald               -67.1831486\n    PspCorrection       -2.3569765\n    Hartree             4.8485340 \n    Xc                  -19.3336809\n\n    total               -62.261666451506\n"
     },
     "metadata": {},
     "execution_count": 5
    }
   ],
   "cell_type": "code",
   "source": [
    "scfres.energies"
   ],
   "metadata": {},
   "execution_count": 5
  }
 ],
 "nbformat_minor": 3,
 "metadata": {
  "language_info": {
   "file_extension": ".jl",
   "mimetype": "application/julia",
   "name": "julia",
   "version": "1.4.2"
  },
  "kernelspec": {
   "name": "julia-1.4",
   "display_name": "Julia 1.4.2",
   "language": "julia"
  }
 },
 "nbformat": 4
}
