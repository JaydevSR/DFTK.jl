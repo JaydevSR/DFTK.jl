{
 "cells": [
  {
   "cell_type": "markdown",
   "source": [
    "# Creating supercells with pymatgen\n",
    "\n",
    "The [Pymatgen](https://pymatgen.org/) python library allows to setup\n",
    "solid-state calculations using a flexible set of classes as well as an API\n",
    "to an online data base of structures. Its `Structure` and `Lattice`\n",
    "objects are directly supported by the DFTK `load_atoms` and `load_lattice`\n",
    "functions, such that DFTK may be readily used to run calculation on systems\n",
    "defined in pymatgen. Using the `pymatgen_structure` function a conversion\n",
    "from DFTK to pymatgen structures is also possible. In the following we\n",
    "use this to create a silicon supercell and find its LDA ground state\n",
    "using direct minimisation. To run this example Julia's `PyCall` package\n",
    "needs to be able to find an installation of `pymatgen`."
   ],
   "metadata": {}
  },
  {
   "cell_type": "markdown",
   "source": [
    "First we setup the silicon lattice in DFTK."
   ],
   "metadata": {}
  },
  {
   "outputs": [],
   "cell_type": "code",
   "source": [
    "using DFTK\n",
    "\n",
    "a = 10.263141334305942  # Lattice constant in Bohr\n",
    "lattice = a / 2 .* [[0 1 1.]; [1 0 1.]; [1 1 0.]]\n",
    "Si = ElementPsp(:Si, psp=load_psp(\"hgh/lda/Si-q4\"))\n",
    "atoms = [Si => [ones(3)/8, -ones(3)/8]];"
   ],
   "metadata": {},
   "execution_count": 1
  },
  {
   "cell_type": "markdown",
   "source": [
    "Next we make a `[2, 2, 2]` supercell using pymatgen"
   ],
   "metadata": {}
  },
  {
   "outputs": [
    {
     "name": "stdout",
     "output_type": "stream",
     "text": [
      "┌ Warning: `vendor()` is deprecated, use `BLAS.get_config()` and inspect the output instead\n",
      "│   caller = npyinitialize() at numpy.jl:67\n",
      "└ @ PyCall /home/runner/.julia/packages/PyCall/3fwVL/src/numpy.jl:67\n"
     ]
    }
   ],
   "cell_type": "code",
   "source": [
    "pystruct = pymatgen_structure(lattice, atoms)\n",
    "pystruct.make_supercell([2, 2, 2])\n",
    "lattice = load_lattice(pystruct)\n",
    "atoms = [Si => [s.frac_coords for s in pystruct.sites]];"
   ],
   "metadata": {},
   "execution_count": 2
  },
  {
   "cell_type": "markdown",
   "source": [
    "Setup an LDA model and discretize using\n",
    "a single k-point and a small `Ecut` of 5 Hartree."
   ],
   "metadata": {}
  },
  {
   "outputs": [
    {
     "output_type": "execute_result",
     "data": {
      "text/plain": "PlaneWaveBasis discretization:\n    Ecut                 : 5.0 Ha\n    fft_size             : (32, 32, 32)\n    kgrid type           : Monkhorst-Pack\n    kgrid                : [1, 1, 1]\n    num. irred. kpoints  : 1\n\n    Discretized Model(lda_xc_teter93, 3D):\n        lattice (in Bohr)    : [0         , 10.2631   , 10.2631   ]\n                               [10.2631   , 0         , 10.2631   ]\n                               [10.2631   , 10.2631   , 0         ]\n        unit cell volume     : 2162.1 Bohr³\n    \n        atoms                : Si₁₆\n        atom potentials      : ElementPsp(Si, psp=hgh/lda/si-q4)\n    \n        num. electrons       : 64\n        spin polarization    : none\n        temperature          : 0 Ha\n    \n        terms                : Kinetic(1)\n                               AtomicLocal()\n                               AtomicNonlocal()\n                               Ewald()\n                               PspCorrection()\n                               Hartree(1)\n                               Xc([:lda_xc_teter93], 1, nothing)"
     },
     "metadata": {},
     "execution_count": 3
    }
   ],
   "cell_type": "code",
   "source": [
    "model = model_LDA(lattice, atoms)\n",
    "basis = PlaneWaveBasis(model; Ecut=5, kgrid=(1, 1, 1))"
   ],
   "metadata": {},
   "execution_count": 3
  },
  {
   "cell_type": "markdown",
   "source": [
    "Find the ground state using direct minimisation (always using SCF is boring ...)"
   ],
   "metadata": {}
  },
  {
   "outputs": [
    {
     "name": "stdout",
     "output_type": "stream",
     "text": [
      "Iter     Function value   Gradient norm \n",
      "     0     1.127665e+02     1.606264e+00\n",
      " * time: 0.6813020706176758\n",
      "     1     1.102113e+01     9.131531e-01\n",
      " * time: 1.9149129390716553\n",
      "     2    -1.220498e+01     1.003073e+00\n",
      " * time: 2.5312600135803223\n",
      "     3    -3.431502e+01     7.718194e-01\n",
      " * time: 3.4145729541778564\n",
      "     4    -4.808367e+01     5.306985e-01\n",
      " * time: 4.330345153808594\n",
      "     5    -5.708626e+01     1.905927e-01\n",
      " * time: 5.2445759773254395\n",
      "     6    -5.987112e+01     1.060438e-01\n",
      " * time: 5.848098993301392\n",
      "     7    -6.090861e+01     5.019898e-02\n",
      " * time: 6.447036027908325\n",
      "     8    -6.129330e+01     5.690215e-02\n",
      " * time: 7.047147035598755\n",
      "     9    -6.159423e+01     3.711250e-02\n",
      " * time: 7.6310529708862305\n",
      "    10    -6.180460e+01     2.781044e-02\n",
      " * time: 8.25081992149353\n",
      "    11    -6.196505e+01     1.742607e-02\n",
      " * time: 8.833728075027466\n",
      "    12    -6.202623e+01     1.612862e-02\n",
      " * time: 9.419173955917358\n",
      "    13    -6.208966e+01     1.361778e-02\n",
      " * time: 10.022592067718506\n",
      "    14    -6.212275e+01     1.399923e-02\n",
      " * time: 10.64862608909607\n",
      "    15    -6.215683e+01     1.274281e-02\n",
      " * time: 11.240405082702637\n",
      "    16    -6.218055e+01     1.113331e-02\n",
      " * time: 11.818444013595581\n",
      "    17    -6.219644e+01     7.867465e-03\n",
      " * time: 12.443083047866821\n",
      "    18    -6.220863e+01     6.479617e-03\n",
      " * time: 13.03515911102295\n",
      "    19    -6.221581e+01     7.018942e-03\n",
      " * time: 13.640233993530273\n",
      "    20    -6.222156e+01     8.555744e-03\n",
      " * time: 14.274359941482544\n",
      "    21    -6.222693e+01     8.129904e-03\n",
      " * time: 14.878632068634033\n",
      "    22    -6.223305e+01     6.875692e-03\n",
      " * time: 15.519186019897461\n",
      "    23    -6.223939e+01     6.258161e-03\n",
      " * time: 16.127515077590942\n",
      "    24    -6.224536e+01     5.625647e-03\n",
      " * time: 16.754805088043213\n",
      "    25    -6.225068e+01     4.487478e-03\n",
      " * time: 17.370190143585205\n",
      "    26    -6.225468e+01     3.762597e-03\n",
      " * time: 17.985623121261597\n",
      "    27    -6.225731e+01     2.608814e-03\n",
      " * time: 18.609884023666382\n",
      "    28    -6.225884e+01     2.552003e-03\n",
      " * time: 19.22965097427368\n",
      "    29    -6.225982e+01     1.754205e-03\n",
      " * time: 19.824806928634644\n",
      "    30    -6.226047e+01     1.777548e-03\n",
      " * time: 20.458758115768433\n",
      "    31    -6.226090e+01     1.375625e-03\n",
      " * time: 21.07746696472168\n",
      "    32    -6.226118e+01     1.029226e-03\n",
      " * time: 21.656898975372314\n",
      "    33    -6.226139e+01     8.291170e-04\n",
      " * time: 22.243086099624634\n",
      "    34    -6.226152e+01     5.685170e-04\n",
      " * time: 22.854833126068115\n",
      "    35    -6.226159e+01     4.788458e-04\n",
      " * time: 23.467275142669678\n",
      "    36    -6.226163e+01     3.158293e-04\n",
      " * time: 24.047385931015015\n",
      "    37    -6.226165e+01     2.020799e-04\n",
      " * time: 24.682228088378906\n",
      "    38    -6.226166e+01     1.715368e-04\n",
      " * time: 25.28341794013977\n",
      "    39    -6.226166e+01     1.022627e-04\n",
      " * time: 25.914152145385742\n",
      "    40    -6.226166e+01     8.447038e-05\n",
      " * time: 26.54927897453308\n",
      "    41    -6.226166e+01     7.183904e-05\n",
      " * time: 27.177632093429565\n",
      "    42    -6.226166e+01     6.062900e-05\n",
      " * time: 27.8263840675354\n",
      "    43    -6.226167e+01     4.902286e-05\n",
      " * time: 28.424849033355713\n",
      "    44    -6.226167e+01     3.748563e-05\n",
      " * time: 29.03422999382019\n",
      "    45    -6.226167e+01     3.233952e-05\n",
      " * time: 29.61795997619629\n",
      "    46    -6.226167e+01     2.514306e-05\n",
      " * time: 30.203439950942993\n",
      "    47    -6.226167e+01     1.679244e-05\n",
      " * time: 30.83185911178589\n",
      "    48    -6.226167e+01     1.195956e-05\n",
      " * time: 31.44237995147705\n",
      "    49    -6.226167e+01     1.100932e-05\n",
      " * time: 32.03841805458069\n",
      "    50    -6.226167e+01     6.349492e-06\n",
      " * time: 32.65385413169861\n",
      "    51    -6.226167e+01     4.615798e-06\n",
      " * time: 33.2709641456604\n",
      "    52    -6.226167e+01     4.007953e-06\n",
      " * time: 33.85377311706543\n",
      "    53    -6.226167e+01     3.444816e-06\n",
      " * time: 34.46028804779053\n"
     ]
    }
   ],
   "cell_type": "code",
   "source": [
    "scfres = direct_minimization(basis, tol=1e-5);"
   ],
   "metadata": {},
   "execution_count": 4
  },
  {
   "outputs": [
    {
     "output_type": "execute_result",
     "data": {
      "text/plain": "Energy breakdown (in Ha):\n    Kinetic             25.7671068\n    AtomicLocal         -18.8557675\n    AtomicNonlocal      14.8522645\n    Ewald               -67.1831486\n    PspCorrection       -2.3569765\n    Hartree             4.8485369 \n    Xc                  -19.3336819\n\n    total               -62.261666457831"
     },
     "metadata": {},
     "execution_count": 5
    }
   ],
   "cell_type": "code",
   "source": [
    "scfres.energies"
   ],
   "metadata": {},
   "execution_count": 5
  }
 ],
 "nbformat_minor": 3,
 "metadata": {
  "language_info": {
   "file_extension": ".jl",
   "mimetype": "application/julia",
   "name": "julia",
   "version": "1.7.0"
  },
  "kernelspec": {
   "name": "julia-1.7",
   "display_name": "Julia 1.7.0",
   "language": "julia"
  }
 },
 "nbformat": 4
}
