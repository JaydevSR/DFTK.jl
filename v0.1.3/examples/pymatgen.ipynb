{
 "cells": [
  {
   "cell_type": "markdown",
   "source": [
    "# Creating supercells with pymatgen\n",
    "\n",
    "The [Pymatgen](https://pymatgen.org/) python library allows to setup\n",
    "solid-state calculations using a flexible set of classes as well as an API\n",
    "to an online data base of structures. Its `Structure` and `Lattice`\n",
    "objects are directly supported by the DFTK `load_atoms` and `load_lattice`\n",
    "functions, such that DFTK may be readily used to run calculation on systems\n",
    "defined in pymatgen. Using the `pymatgen_structure` function a conversion\n",
    "from DFTK to pymatgen structures is also possible. In the following we\n",
    "use this to create a silicon supercell and find its LDA ground state\n",
    "using direct minimisation."
   ],
   "metadata": {}
  },
  {
   "cell_type": "markdown",
   "source": [
    "First we setup the silicon lattice in DFTK."
   ],
   "metadata": {}
  },
  {
   "outputs": [],
   "cell_type": "code",
   "source": [
    "using DFTK\n",
    "\n",
    "a = 10.263141334305942  # Lattice constant in Bohr\n",
    "lattice = a / 2 .* [[0 1 1.]; [1 0 1.]; [1 1 0.]]\n",
    "Si = ElementPsp(:Si, psp=load_psp(\"hgh/lda/Si-q4\"))\n",
    "atoms = [Si => [ones(3)/8, -ones(3)/8]];"
   ],
   "metadata": {},
   "execution_count": 1
  },
  {
   "cell_type": "markdown",
   "source": [
    "Next we make a `[2, 2, 2]` supercell using pymatgen"
   ],
   "metadata": {}
  },
  {
   "outputs": [],
   "cell_type": "code",
   "source": [
    "pystruct = pymatgen_structure(lattice, atoms)\n",
    "pystruct.make_supercell([2, 2, 2])\n",
    "lattice = load_lattice(pystruct)\n",
    "atoms = [Si => [s.frac_coords for s in pystruct.sites]];"
   ],
   "metadata": {},
   "execution_count": 2
  },
  {
   "cell_type": "markdown",
   "source": [
    "Setup an LDA model and discretize using\n",
    "a single kpoint and a small `Ecut` of 5 Hartree.\n",
    "Notice that `PlaneWaveBasis` defaults to just using the ``Γ``-point\n",
    "if no ``k``-point options are provided."
   ],
   "metadata": {}
  },
  {
   "outputs": [
    {
     "output_type": "execute_result",
     "data": {
      "text/plain": "PlaneWaveBasis (Ecut=5.0, 1 kpoints)"
     },
     "metadata": {},
     "execution_count": 3
    }
   ],
   "cell_type": "code",
   "source": [
    "model = model_LDA(lattice, atoms)\n",
    "basis = PlaneWaveBasis(model, 5)"
   ],
   "metadata": {},
   "execution_count": 3
  },
  {
   "cell_type": "markdown",
   "source": [
    "Find the ground state using direct minimisation (always using SCF is boring ...)"
   ],
   "metadata": {}
  },
  {
   "outputs": [
    {
     "name": "stdout",
     "output_type": "stream",
     "text": [
      "Iter     Function value   Gradient norm \n",
      "     0     1.123127e+02     1.711691e+00\n",
      " * time: 0.09424495697021484\n",
      "     1     1.047991e+01     9.343160e-01\n",
      " * time: 0.9960160255432129\n",
      "     2    -1.193138e+01     1.098977e+00\n",
      " * time: 1.1534209251403809\n",
      "     3    -3.420650e+01     8.748666e-01\n",
      " * time: 1.2942039966583252\n",
      "     4    -4.756674e+01     6.124611e-01\n",
      " * time: 1.454693078994751\n",
      "     5    -5.706021e+01     2.250515e-01\n",
      " * time: 1.6062099933624268\n",
      "     6    -5.976222e+01     2.140850e-01\n",
      " * time: 1.714108943939209\n",
      "     7    -6.086317e+01     8.495412e-02\n",
      " * time: 1.8326799869537354\n",
      "     8    -6.134776e+01     4.194778e-02\n",
      " * time: 1.947390079498291\n",
      "     9    -6.165709e+01     3.384703e-02\n",
      " * time: 2.081897020339966\n",
      "    10    -6.184861e+01     3.518770e-02\n",
      " * time: 2.190023899078369\n",
      "    11    -6.198747e+01     2.957360e-02\n",
      " * time: 2.3081259727478027\n",
      "    12    -6.206315e+01     2.920424e-02\n",
      " * time: 2.4161579608917236\n",
      "    13    -6.211824e+01     1.666897e-02\n",
      " * time: 2.5306529998779297\n",
      "    14    -6.215574e+01     1.108404e-02\n",
      " * time: 2.63954496383667\n",
      "    15    -6.217808e+01     1.226088e-02\n",
      " * time: 2.7475550174713135\n",
      "    16    -6.219263e+01     1.241604e-02\n",
      " * time: 2.8635261058807373\n",
      "    17    -6.220328e+01     1.058505e-02\n",
      " * time: 2.972191095352173\n",
      "    18    -6.221267e+01     8.339389e-03\n",
      " * time: 3.089756965637207\n",
      "    19    -6.222016e+01     7.968052e-03\n",
      " * time: 3.197361946105957\n",
      "    20    -6.222700e+01     7.139969e-03\n",
      " * time: 3.3162341117858887\n",
      "    21    -6.223392e+01     6.454816e-03\n",
      " * time: 3.4257171154022217\n",
      "    22    -6.224064e+01     5.182253e-03\n",
      " * time: 3.541872978210449\n",
      "    23    -6.224662e+01     4.844980e-03\n",
      " * time: 3.650883913040161\n",
      "    24    -6.225149e+01     4.119510e-03\n",
      " * time: 3.772982120513916\n",
      "    25    -6.225500e+01     3.609425e-03\n",
      " * time: 3.881654977798462\n",
      "    26    -6.225725e+01     2.893832e-03\n",
      " * time: 3.9992010593414307\n",
      "    27    -6.225871e+01     2.183009e-03\n",
      " * time: 4.1101250648498535\n",
      "    28    -6.225969e+01     1.723831e-03\n",
      " * time: 4.227294921875\n",
      "    29    -6.226038e+01     1.637925e-03\n",
      " * time: 4.336687088012695\n",
      "    30    -6.226086e+01     1.338262e-03\n",
      " * time: 4.4529900550842285\n",
      "    31    -6.226119e+01     1.077993e-03\n",
      " * time: 4.5626380443573\n",
      "    32    -6.226140e+01     7.002055e-04\n",
      " * time: 4.679302930831909\n",
      "    33    -6.226153e+01     5.327067e-04\n",
      " * time: 4.788315057754517\n",
      "    34    -6.226161e+01     3.974225e-04\n",
      " * time: 4.905062913894653\n",
      "    35    -6.226164e+01     2.383386e-04\n",
      " * time: 5.015376091003418\n",
      "    36    -6.226165e+01     2.491991e-04\n",
      " * time: 5.132883071899414\n",
      "    37    -6.226166e+01     1.469597e-04\n",
      " * time: 5.241786003112793\n",
      "    38    -6.226166e+01     1.259535e-04\n",
      " * time: 5.350920915603638\n",
      "    39    -6.226166e+01     9.542216e-05\n",
      " * time: 5.468651056289673\n",
      "    40    -6.226166e+01     7.874951e-05\n",
      " * time: 5.597476959228516\n",
      "    41    -6.226167e+01     6.053976e-05\n",
      " * time: 5.7156031131744385\n",
      "    42    -6.226167e+01     5.115093e-05\n",
      " * time: 5.822681903839111\n",
      "    43    -6.226167e+01     3.736554e-05\n",
      " * time: 5.938482046127319\n",
      "    44    -6.226167e+01     2.801491e-05\n",
      " * time: 6.046897888183594\n",
      "    45    -6.226167e+01     2.057188e-05\n",
      " * time: 6.167675971984863\n",
      "    46    -6.226167e+01     1.565144e-05\n",
      " * time: 6.276633977890015\n",
      "    47    -6.226167e+01     1.100802e-05\n",
      " * time: 6.394284963607788\n",
      "    48    -6.226167e+01     7.424562e-06\n",
      " * time: 6.5100860595703125\n",
      "    49    -6.226167e+01     6.695962e-06\n",
      " * time: 6.638021945953369\n",
      "    50    -6.226167e+01     3.993676e-06\n",
      " * time: 6.746392011642456\n"
     ]
    }
   ],
   "cell_type": "code",
   "source": [
    "scfres = direct_minimization(basis, tol=1e-5);"
   ],
   "metadata": {},
   "execution_count": 4
  },
  {
   "outputs": [
    {
     "output_type": "execute_result",
     "data": {
      "text/plain": "Energy breakdown:\n    Kinetic             25.7671059\n    AtomicLocal         -18.8557787\n    AtomicNonlocal      14.8522758\n    Ewald               -67.1831486\n    PspCorrection       -2.3569765\n    Hartree             4.8485379 \n    Xc                  -19.3336821\n\n    total               -62.261666454496\n"
     },
     "metadata": {},
     "execution_count": 5
    }
   ],
   "cell_type": "code",
   "source": [
    "scfres.energies"
   ],
   "metadata": {},
   "execution_count": 5
  }
 ],
 "nbformat_minor": 3,
 "metadata": {
  "language_info": {
   "file_extension": ".jl",
   "mimetype": "application/julia",
   "name": "julia",
   "version": "1.3.1"
  },
  "kernelspec": {
   "name": "julia-1.3",
   "display_name": "Julia 1.3.1",
   "language": "julia"
  }
 },
 "nbformat": 4
}
