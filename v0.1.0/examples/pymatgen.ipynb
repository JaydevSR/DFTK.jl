{
 "cells": [
  {
   "cell_type": "markdown",
   "source": [
    "# Creating supercells with pymatgen\n",
    "\n",
    "The [Pymatgen](https://pymatgen.org/) python library allows to setup\n",
    "solid-state calculations using a flexible set of classes as well as an API\n",
    "to an online data base of structures. Its `Structure` and `Lattice`\n",
    "objects are directly supported by the DFTK `load_atoms` and `load_lattice`\n",
    "functions, such that DFTK may be readily used to run calculation on systems\n",
    "defined in pymatgen. Using the `pymatgen_structure` function a conversion\n",
    "from DFTK to pymatgen structures is also possible. In the following we\n",
    "use this to create a silicon supercell and find its LDA ground state\n",
    "using direct minimisation."
   ],
   "metadata": {}
  },
  {
   "cell_type": "markdown",
   "source": [
    "First we setup the silicon lattice in DFTK."
   ],
   "metadata": {}
  },
  {
   "outputs": [],
   "cell_type": "code",
   "source": [
    "using DFTK\n",
    "\n",
    "a = 10.263141334305942  # Lattice constant in Bohr\n",
    "lattice = a / 2 .* [[0 1 1.]; [1 0 1.]; [1 1 0.]]\n",
    "Si = ElementPsp(:Si, psp=load_psp(\"hgh/lda/Si-q4\"))\n",
    "atoms = [Si => [ones(3)/8, -ones(3)/8]];"
   ],
   "metadata": {},
   "execution_count": 1
  },
  {
   "cell_type": "markdown",
   "source": [
    "Next we make a `[2, 2, 2]` supercell using pymatgen"
   ],
   "metadata": {}
  },
  {
   "outputs": [],
   "cell_type": "code",
   "source": [
    "pystruct = pymatgen_structure(lattice, atoms)\n",
    "pystruct.make_supercell([2, 2, 2])\n",
    "lattice = load_lattice(pystruct)\n",
    "atoms = [Si => [s.frac_coords for s in pystruct.sites]];"
   ],
   "metadata": {},
   "execution_count": 2
  },
  {
   "cell_type": "markdown",
   "source": [
    "Setup an LDA model and discretize using\n",
    "a single kpoint and a small `Ecut` of 5 Hartree.\n",
    "Notice that `PlaneWaveBasis` defaults to just using the ``Γ``-point\n",
    "if no ``k``-point options are provided."
   ],
   "metadata": {}
  },
  {
   "outputs": [
    {
     "name": "stdout",
     "output_type": "stream",
     "text": [
      "Iter     Function value   Gradient norm \n",
      "     0     1.122868e+02     1.591442e+00\n",
      " * time: 0.09169983863830566\n",
      "     1     1.034146e+01     8.903759e-01\n",
      " * time: 0.9666829109191895\n",
      "     2    -1.160161e+01     1.041350e+00\n",
      " * time: 1.1044797897338867\n",
      "     3    -3.379781e+01     7.880703e-01\n",
      " * time: 1.2724599838256836\n",
      "     4    -4.714581e+01     6.419166e-01\n",
      " * time: 1.433424949645996\n",
      "     5    -5.668637e+01     2.768249e-01\n",
      " * time: 1.5870769023895264\n",
      "     6    -5.942955e+01     3.386544e-01\n",
      " * time: 1.7011888027191162\n",
      "     7    -6.058871e+01     1.656004e-01\n",
      " * time: 1.8242418766021729\n",
      "     8    -6.111174e+01     1.023647e-01\n",
      " * time: 1.937182903289795\n",
      "     9    -6.148871e+01     4.077687e-02\n",
      " * time: 2.0513648986816406\n",
      "    10    -6.169761e+01     4.554744e-02\n",
      " * time: 2.1729519367218018\n",
      "    11    -6.188435e+01     2.354294e-02\n",
      " * time: 2.288400888442993\n",
      "    12    -6.198753e+01     1.895439e-02\n",
      " * time: 2.4079599380493164\n",
      "    13    -6.204582e+01     1.455635e-02\n",
      " * time: 2.521263837814331\n",
      "    14    -6.209189e+01     1.400400e-02\n",
      " * time: 2.641704797744751\n",
      "    15    -6.212415e+01     1.279348e-02\n",
      " * time: 2.7572858333587646\n",
      "    16    -6.214867e+01     1.087641e-02\n",
      " * time: 2.8802378177642822\n",
      "    17    -6.216559e+01     9.768889e-03\n",
      " * time: 2.9957900047302246\n",
      "    18    -6.217919e+01     9.324364e-03\n",
      " * time: 3.1191158294677734\n",
      "    19    -6.218921e+01     8.955926e-03\n",
      " * time: 3.233973979949951\n",
      "    20    -6.219689e+01     7.396120e-03\n",
      " * time: 3.3544678688049316\n",
      "    21    -6.220303e+01     5.983746e-03\n",
      " * time: 3.4685349464416504\n",
      "    22    -6.220874e+01     5.034526e-03\n",
      " * time: 3.590500831604004\n",
      "    23    -6.221433e+01     5.181561e-03\n",
      " * time: 3.7051568031311035\n",
      "    24    -6.221965e+01     6.202330e-03\n",
      " * time: 3.8283169269561768\n",
      "    25    -6.222473e+01     5.906698e-03\n",
      " * time: 3.942812919616699\n",
      "    26    -6.223010e+01     5.517008e-03\n",
      " * time: 4.064507007598877\n",
      "    27    -6.223595e+01     5.120018e-03\n",
      " * time: 4.17920184135437\n",
      "    28    -6.224182e+01     4.634973e-03\n",
      " * time: 4.298946857452393\n",
      "    29    -6.224728e+01     5.019787e-03\n",
      " * time: 4.4124109745025635\n",
      "    30    -6.225173e+01     4.696140e-03\n",
      " * time: 4.535491943359375\n",
      "    31    -6.225501e+01     4.494168e-03\n",
      " * time: 4.6485888957977295\n",
      "    32    -6.225754e+01     3.099913e-03\n",
      " * time: 4.788537979125977\n",
      "    33    -6.225937e+01     1.970348e-03\n",
      " * time: 4.901090860366821\n",
      "    34    -6.226039e+01     1.839028e-03\n",
      " * time: 5.014235973358154\n",
      "    35    -6.226101e+01     1.165937e-03\n",
      " * time: 5.134499788284302\n",
      "    36    -6.226132e+01     1.063717e-03\n",
      " * time: 5.247635841369629\n",
      "    37    -6.226147e+01     6.759418e-04\n",
      " * time: 5.368165016174316\n",
      "    38    -6.226155e+01     4.637716e-04\n",
      " * time: 5.482270002365112\n",
      "    39    -6.226159e+01     3.835974e-04\n",
      " * time: 5.604346990585327\n",
      "    40    -6.226161e+01     3.497294e-04\n",
      " * time: 5.719130992889404\n",
      "    41    -6.226163e+01     2.737936e-04\n",
      " * time: 5.841850996017456\n",
      "    42    -6.226164e+01     2.223302e-04\n",
      " * time: 5.956017017364502\n",
      "    43    -6.226165e+01     1.777827e-04\n",
      " * time: 6.07542085647583\n",
      "    44    -6.226166e+01     1.755788e-04\n",
      " * time: 6.19088888168335\n",
      "    45    -6.226166e+01     1.164287e-04\n",
      " * time: 6.310043811798096\n",
      "    46    -6.226166e+01     9.458051e-05\n",
      " * time: 6.422841787338257\n",
      "    47    -6.226167e+01     6.018696e-05\n",
      " * time: 6.543136835098267\n",
      "    48    -6.226167e+01     4.532846e-05\n",
      " * time: 6.654995918273926\n",
      "    49    -6.226167e+01     3.242965e-05\n",
      " * time: 6.77505898475647\n",
      "    50    -6.226167e+01     2.010567e-05\n",
      " * time: 6.887465953826904\n",
      "    51    -6.226167e+01     1.847513e-05\n",
      " * time: 7.007351875305176\n",
      "    52    -6.226167e+01     1.364269e-05\n",
      " * time: 7.120943784713745\n",
      "    53    -6.226167e+01     1.186426e-05\n",
      " * time: 7.240108966827393\n",
      "    54    -6.226167e+01     9.617010e-06\n",
      " * time: 7.352358818054199\n",
      "    55    -6.226167e+01     9.420541e-06\n",
      " * time: 7.473395824432373\n",
      "    56    -6.226167e+01     5.707880e-06\n",
      " * time: 7.587816953659058\n",
      "    57    -6.226167e+01     4.969161e-06\n",
      " * time: 7.707031011581421\n",
      "    58    -6.226167e+01     3.175725e-06\n",
      " * time: 7.818588018417358\n"
     ]
    }
   ],
   "cell_type": "code",
   "source": [
    "model = model_LDA(lattice, atoms)\n",
    "basis = PlaneWaveBasis(model, 5)\n",
    "\n",
    "# Find the ground state using direct minimisation (always using SCF is boring ...)\n",
    "scfres = direct_minimization(basis, tol=1e-5);"
   ],
   "metadata": {},
   "execution_count": 3
  },
  {
   "outputs": [
    {
     "output_type": "execute_result",
     "data": {
      "text/plain": "Energy breakdown:\n    Kinetic             25.7671076\n    AtomicLocal         -18.8557704\n    AtomicNonlocal      14.8522656\n    Ewald               -67.1831486\n    PspCorrection       -2.3569765\n    Hartree             4.8485384 \n    Xc                  -19.3336825\n\n    total               -62.261666459437\n"
     },
     "metadata": {},
     "execution_count": 4
    }
   ],
   "cell_type": "code",
   "source": [
    "scfres.energies"
   ],
   "metadata": {},
   "execution_count": 4
  }
 ],
 "nbformat_minor": 3,
 "metadata": {
  "language_info": {
   "file_extension": ".jl",
   "mimetype": "application/julia",
   "name": "julia",
   "version": "1.3.1"
  },
  "kernelspec": {
   "name": "julia-1.3",
   "display_name": "Julia 1.3.1",
   "language": "julia"
  }
 },
 "nbformat": 4
}
