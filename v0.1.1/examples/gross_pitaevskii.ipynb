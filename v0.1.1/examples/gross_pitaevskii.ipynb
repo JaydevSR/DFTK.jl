{
 "cells": [
  {
   "cell_type": "markdown",
   "source": [
    "# Gross-Pitaevskii equation in one dimension\n",
    "In this example we will use DFTK to solve\n",
    "the Gross-Pitaevskii equation, and use this opportunity to explore a few internals."
   ],
   "metadata": {}
  },
  {
   "cell_type": "markdown",
   "source": [
    "## The model\n",
    "The [Gross-Pitaevskii equation](https://en.wikipedia.org/wiki/Gross%E2%80%93Pitaevskii_equation) (GPE)\n",
    "is a simple non-linear equation used to model bosonic systems\n",
    "in a mean-field approach. Denoting by ``ψ`` the effective one-particle bosonic\n",
    "wave function, the time-independent GPE reads in atomic units:\n",
    "$$\n",
    "    H ψ = \\left(-\\frac12 Δ + V + 2 C |ψ|^2\\right) ψ = μ ψ \\qquad \\|ψ\\|_{L^2} = 1\n",
    "$$\n",
    "where ``C`` provides the strength of the boson-boson coupling.\n",
    "It's in particular a favorite model of applied mathematicians because it\n",
    "has a structure simpler than but similar to that of DFT, and displays\n",
    "interesting behavior (especially in higher dimensions with magnetic fields, see\n",
    "Gross-Pitaevskii equation with magnetism)."
   ],
   "metadata": {}
  },
  {
   "cell_type": "markdown",
   "source": [
    "We wish to model this equation in 1D using DFTK.\n",
    "First we set up the lattice. For a 1D case we supply two zero lattice vectors,"
   ],
   "metadata": {}
  },
  {
   "outputs": [],
   "cell_type": "code",
   "source": [
    "a = 10\n",
    "lattice = a .* [[1 0 0.]; [0 0 0]; [0 0 0]];"
   ],
   "metadata": {},
   "execution_count": 1
  },
  {
   "cell_type": "markdown",
   "source": [
    "which is special cased in DFTK to support 1D models.\n",
    "\n",
    "For the potential term `V` we just pick a harmonic\n",
    "potential. The real-space grid is in ``[0,1)``\n",
    "in fractional coordinates( see\n",
    "Lattices and lattice vectors),\n",
    "therefore:"
   ],
   "metadata": {}
  },
  {
   "outputs": [],
   "cell_type": "code",
   "source": [
    "pot(x) = (x - a/2)^2;"
   ],
   "metadata": {},
   "execution_count": 2
  },
  {
   "cell_type": "markdown",
   "source": [
    "We setup each energy term in sequence: kinetic, potential and nonlinear term.\n",
    "For the non-linearity we use the `PowerNonlinearity(C, α)` term of DFTK.\n",
    "This object introduces an energy term ``C ∫ ρ(r)^α dr``\n",
    "to the total energy functional, thus a potential term ``α C ρ^{α-1}``.\n",
    "In our case we thus need the parameters"
   ],
   "metadata": {}
  },
  {
   "outputs": [],
   "cell_type": "code",
   "source": [
    "C = 1.0\n",
    "α = 2;"
   ],
   "metadata": {},
   "execution_count": 3
  },
  {
   "cell_type": "markdown",
   "source": [
    "... and with this build the model"
   ],
   "metadata": {}
  },
  {
   "outputs": [],
   "cell_type": "code",
   "source": [
    "using DFTK\n",
    "using LinearAlgebra\n",
    "\n",
    "n_electrons = 1  # Increase this for fun\n",
    "terms = [Kinetic(),\n",
    "         ExternalFromReal(r -> pot(r[1])),\n",
    "         PowerNonlinearity(C, α),\n",
    "]\n",
    "model = Model(lattice; n_electrons=n_electrons, terms=terms,\n",
    "              spin_polarization=:spinless);  # use \"spinless electrons\""
   ],
   "metadata": {},
   "execution_count": 4
  },
  {
   "cell_type": "markdown",
   "source": [
    "We discretize using a moderate Ecut (For 1D values up to `5000` are completely fine)\n",
    "and run a direct minimization algorithm:"
   ],
   "metadata": {}
  },
  {
   "outputs": [
    {
     "name": "stdout",
     "output_type": "stream",
     "text": [
      "Iter     Function value   Gradient norm \n",
      "     0     2.095141e+02     2.149372e+02\n",
      " * time: 0.000576019287109375\n",
      "     1     1.867470e+02     1.598009e+02\n",
      " * time: 0.0014431476593017578\n",
      "     2     1.442347e+02     1.770673e+02\n",
      " * time: 0.0032892227172851562\n",
      "     3     4.181090e+01     8.603587e+01\n",
      " * time: 0.005553007125854492\n",
      "     4     1.699688e+01     1.468168e+01\n",
      " * time: 0.007529020309448242\n",
      "     5     1.657695e+01     1.499279e+01\n",
      " * time: 0.008414030075073242\n",
      "     6     9.106417e+00     4.535005e+01\n",
      " * time: 0.009859085083007812\n",
      "     7     5.699905e+00     5.352198e+00\n",
      " * time: 0.01120901107788086\n",
      "     8     3.855229e+00     4.097780e+00\n",
      " * time: 0.01239013671875\n",
      "     9     2.672206e+00     1.211370e+01\n",
      " * time: 0.013703107833862305\n",
      "    10     2.202799e+00     1.271685e+01\n",
      " * time: 0.014869213104248047\n",
      "    11     1.566943e+00     6.908819e+00\n",
      " * time: 0.016003131866455078\n",
      "    12     1.414183e+00     1.304367e+00\n",
      " * time: 0.016926050186157227\n",
      "    13     1.343393e+00     1.169811e+00\n",
      " * time: 0.017852067947387695\n",
      "    14     1.254914e+00     1.336099e+00\n",
      " * time: 0.0188140869140625\n",
      "    15     1.179127e+00     7.581788e-01\n",
      " * time: 0.019738197326660156\n",
      "    16     1.149792e+00     1.783868e-01\n",
      " * time: 0.020646095275878906\n",
      "    17     1.147403e+00     1.342402e-01\n",
      " * time: 0.021552085876464844\n",
      "    18     1.144797e+00     7.854001e-02\n",
      " * time: 0.02247309684753418\n",
      "    19     1.144693e+00     6.629575e-02\n",
      " * time: 0.023182153701782227\n",
      "    20     1.144597e+00     9.249129e-02\n",
      " * time: 0.023888111114501953\n",
      "    21     1.144403e+00     1.197937e-01\n",
      " * time: 0.02479720115661621\n",
      "    22     1.144215e+00     1.170312e-01\n",
      " * time: 0.025739192962646484\n",
      "    23     1.144132e+00     9.255320e-02\n",
      " * time: 0.02669811248779297\n",
      "    24     1.144094e+00     7.032524e-02\n",
      " * time: 0.027628183364868164\n",
      "    25     1.144068e+00     5.646523e-02\n",
      " * time: 0.028553009033203125\n",
      "    26     1.144053e+00     3.496176e-02\n",
      " * time: 0.02947521209716797\n",
      "    27     1.144043e+00     1.602496e-02\n",
      " * time: 0.030424118041992188\n",
      "    28     1.144039e+00     7.829880e-03\n",
      " * time: 0.031371116638183594\n",
      "    29     1.144038e+00     5.269983e-03\n",
      " * time: 0.032351016998291016\n",
      "    30     1.144037e+00     9.792260e-04\n",
      " * time: 0.03326606750488281\n",
      "    31     1.144037e+00     1.560433e-03\n",
      " * time: 0.034165143966674805\n",
      "    32     1.144037e+00     9.515188e-04\n",
      " * time: 0.03494000434875488\n",
      "    33     1.144037e+00     6.986992e-04\n",
      " * time: 0.035877227783203125\n",
      "    34     1.144037e+00     2.475624e-04\n",
      " * time: 0.03680920600891113\n",
      "    35     1.144037e+00     3.770309e-04\n",
      " * time: 0.037734031677246094\n",
      "    36     1.144037e+00     3.639043e-04\n",
      " * time: 0.03869509696960449\n",
      "    37     1.144037e+00     2.710124e-04\n",
      " * time: 0.03961801528930664\n",
      "    38     1.144037e+00     1.485200e-04\n",
      " * time: 0.04052615165710449\n",
      "    39     1.144037e+00     6.617439e-05\n",
      " * time: 0.04146122932434082\n",
      "    40     1.144037e+00     4.740411e-05\n",
      " * time: 0.042368173599243164\n",
      "    41     1.144037e+00     2.764253e-05\n",
      " * time: 0.04330921173095703\n",
      "    42     1.144037e+00     8.429597e-06\n",
      " * time: 0.044233083724975586\n",
      "    43     1.144037e+00     4.443377e-06\n",
      " * time: 0.045136213302612305\n",
      "    44     1.144037e+00     5.187471e-06\n",
      " * time: 0.04582810401916504\n",
      "    45     1.144037e+00     4.596368e-06\n",
      " * time: 0.04674720764160156\n",
      "    46     1.144037e+00     2.872894e-06\n",
      " * time: 0.04769301414489746\n",
      "    47     1.144037e+00     1.942928e-06\n",
      " * time: 0.04861116409301758\n",
      "    48     1.144037e+00     1.155714e-06\n",
      " * time: 0.04953503608703613\n",
      "    49     1.144037e+00     6.971302e-07\n",
      " * time: 0.05046415328979492\n",
      "    50     1.144037e+00     3.592352e-07\n",
      " * time: 0.05143117904663086\n",
      "    51     1.144037e+00     2.046580e-07\n",
      " * time: 0.05239510536193848\n",
      "    52     1.144037e+00     1.443726e-07\n",
      " * time: 0.05332303047180176\n",
      "    53     1.144037e+00     1.048385e-07\n",
      " * time: 0.05425119400024414\n"
     ]
    },
    {
     "output_type": "execute_result",
     "data": {
      "text/plain": "Energy breakdown:\n    Kinetic             0.2682057 \n    ExternalFromReal    0.4707475 \n    PowerNonlinearity   0.4050836 \n\n    total               1.144036852755 \n"
     },
     "metadata": {},
     "execution_count": 5
    }
   ],
   "cell_type": "code",
   "source": [
    "Ecut = 500\n",
    "basis = PlaneWaveBasis(model, Ecut)\n",
    "scfres = direct_minimization(basis, tol=1e-8) # This is a constrained preconditioned LBFGS\n",
    "scfres.energies"
   ],
   "metadata": {},
   "execution_count": 5
  },
  {
   "cell_type": "markdown",
   "source": [
    "## Internals\n",
    "We use the opportunity to explore some of DFTK internals.\n",
    "\n",
    "Extract the converged density and the obtained wave function:"
   ],
   "metadata": {}
  },
  {
   "outputs": [],
   "cell_type": "code",
   "source": [
    "ρ = real(scfres.ρ.real)[:, 1, 1]  # converged density\n",
    "ψ_fourier = scfres.ψ[1][:, 1];    # first kpoint, all G components, first eigenvector"
   ],
   "metadata": {},
   "execution_count": 6
  },
  {
   "cell_type": "markdown",
   "source": [
    "Transform the wave function to real space and fix the phase:"
   ],
   "metadata": {}
  },
  {
   "outputs": [],
   "cell_type": "code",
   "source": [
    "ψ = G_to_r(basis, basis.kpoints[1], ψ_fourier)[:, 1, 1]\n",
    "ψ /= (ψ[div(end, 2)] / abs(ψ[div(end, 2)]));"
   ],
   "metadata": {},
   "execution_count": 7
  },
  {
   "cell_type": "markdown",
   "source": [
    "Check whether ``ψ`` is normalised:"
   ],
   "metadata": {}
  },
  {
   "outputs": [],
   "cell_type": "code",
   "source": [
    "x = a * vec(first.(DFTK.r_vectors(basis)))\n",
    "N = length(x)\n",
    "dx = a / N  # real-space grid spacing\n",
    "@assert sum(abs2.(ψ)) * dx ≈ 1.0"
   ],
   "metadata": {},
   "execution_count": 8
  },
  {
   "cell_type": "markdown",
   "source": [
    "The density is simply built from ψ:"
   ],
   "metadata": {}
  },
  {
   "outputs": [
    {
     "output_type": "execute_result",
     "data": {
      "text/plain": "1.8363337464055187e-15"
     },
     "metadata": {},
     "execution_count": 9
    }
   ],
   "cell_type": "code",
   "source": [
    "norm(scfres.ρ.real - abs2.(ψ))"
   ],
   "metadata": {},
   "execution_count": 9
  },
  {
   "cell_type": "markdown",
   "source": [
    "We summarize the ground state in a nice plot:"
   ],
   "metadata": {}
  },
  {
   "outputs": [
    {
     "output_type": "execute_result",
     "data": {
      "text/plain": "Plot{Plots.GRBackend() n=3}",
      "image/png": "[encoded data removed]",
      "text/html": [
       "<?xml version=\"1.0\" encoding=\"utf-8\"?>\n",
       "<svg xmlns=\"http://www.w3.org/2000/svg\" xmlns:xlink=\"http://www.w3.org/1999/xlink\" width=\"600\" height=\"400\" viewBox=\"0 0 2400 1600\">\n",
       "<defs>\n",
       "  <clipPath id=\"clip120\">\n",
       "    <rect x=\"0\" y=\"0\" width=\"2400\" height=\"1600\"/>\n",
       "  </clipPath>\n",
       "</defs>\n",
       "<path clip-path=\"url(#clip120)\" d=\"\n",
       "M0 1600 L2400 1600 L2400 0 L0 0  Z\n",
       "  \" fill=\"#ffffff\" fill-rule=\"evenodd\" fill-opacity=\"1\"/>\n",
       "<defs>\n",
       "  <clipPath id=\"clip121\">\n",
       "    <rect x=\"480\" y=\"0\" width=\"1681\" height=\"1600\"/>\n",
       "  </clipPath>\n",
       "</defs>\n",
       "<path clip-path=\"url(#clip120)\" d=\"\n",
       "M86.9921 1521.01 L2352.76 1521.01 L2352.76 47.2441 L86.9921 47.2441  Z\n",
       "  \" fill=\"#ffffff\" fill-rule=\"evenodd\" fill-opacity=\"1\"/>\n",
       "<defs>\n",
       "  <clipPath id=\"clip122\">\n",
       "    <rect x=\"86\" y=\"47\" width=\"2267\" height=\"1475\"/>\n",
       "  </clipPath>\n",
       "</defs>\n",
       "<polyline clip-path=\"url(#clip122)\" style=\"stroke:#000000; stroke-width:2; stroke-opacity:0.1; fill:none\" points=\"\n",
       "  151.118,1521.01 151.118,47.2441 \n",
       "  \"/>\n",
       "<polyline clip-path=\"url(#clip122)\" style=\"stroke:#000000; stroke-width:2; stroke-opacity:0.1; fill:none\" points=\"\n",
       "  687.981,1521.01 687.981,47.2441 \n",
       "  \"/>\n",
       "<polyline clip-path=\"url(#clip122)\" style=\"stroke:#000000; stroke-width:2; stroke-opacity:0.1; fill:none\" points=\"\n",
       "  1224.84,1521.01 1224.84,47.2441 \n",
       "  \"/>\n",
       "<polyline clip-path=\"url(#clip122)\" style=\"stroke:#000000; stroke-width:2; stroke-opacity:0.1; fill:none\" points=\"\n",
       "  1761.71,1521.01 1761.71,47.2441 \n",
       "  \"/>\n",
       "<polyline clip-path=\"url(#clip122)\" style=\"stroke:#000000; stroke-width:2; stroke-opacity:0.1; fill:none\" points=\"\n",
       "  2298.57,1521.01 2298.57,47.2441 \n",
       "  \"/>\n",
       "<polyline clip-path=\"url(#clip122)\" style=\"stroke:#000000; stroke-width:2; stroke-opacity:0.1; fill:none\" points=\"\n",
       "  86.9921,1479.3 2352.76,1479.3 \n",
       "  \"/>\n",
       "<polyline clip-path=\"url(#clip122)\" style=\"stroke:#000000; stroke-width:2; stroke-opacity:0.1; fill:none\" points=\"\n",
       "  86.9921,1107.38 2352.76,1107.38 \n",
       "  \"/>\n",
       "<polyline clip-path=\"url(#clip122)\" style=\"stroke:#000000; stroke-width:2; stroke-opacity:0.1; fill:none\" points=\"\n",
       "  86.9921,735.461 2352.76,735.461 \n",
       "  \"/>\n",
       "<polyline clip-path=\"url(#clip122)\" style=\"stroke:#000000; stroke-width:2; stroke-opacity:0.1; fill:none\" points=\"\n",
       "  86.9921,363.543 2352.76,363.543 \n",
       "  \"/>\n",
       "<polyline clip-path=\"url(#clip120)\" style=\"stroke:#000000; stroke-width:4; stroke-opacity:1; fill:none\" points=\"\n",
       "  86.9921,1521.01 2352.76,1521.01 \n",
       "  \"/>\n",
       "<polyline clip-path=\"url(#clip120)\" style=\"stroke:#000000; stroke-width:4; stroke-opacity:1; fill:none\" points=\"\n",
       "  86.9921,1521.01 86.9921,47.2441 \n",
       "  \"/>\n",
       "<polyline clip-path=\"url(#clip120)\" style=\"stroke:#000000; stroke-width:4; stroke-opacity:1; fill:none\" points=\"\n",
       "  151.118,1521.01 151.118,1503.32 \n",
       "  \"/>\n",
       "<polyline clip-path=\"url(#clip120)\" style=\"stroke:#000000; stroke-width:4; stroke-opacity:1; fill:none\" points=\"\n",
       "  687.981,1521.01 687.981,1503.32 \n",
       "  \"/>\n",
       "<polyline clip-path=\"url(#clip120)\" style=\"stroke:#000000; stroke-width:4; stroke-opacity:1; fill:none\" points=\"\n",
       "  1224.84,1521.01 1224.84,1503.32 \n",
       "  \"/>\n",
       "<polyline clip-path=\"url(#clip120)\" style=\"stroke:#000000; stroke-width:4; stroke-opacity:1; fill:none\" points=\"\n",
       "  1761.71,1521.01 1761.71,1503.32 \n",
       "  \"/>\n",
       "<polyline clip-path=\"url(#clip120)\" style=\"stroke:#000000; stroke-width:4; stroke-opacity:1; fill:none\" points=\"\n",
       "  2298.57,1521.01 2298.57,1503.32 \n",
       "  \"/>\n",
       "<polyline clip-path=\"url(#clip120)\" style=\"stroke:#000000; stroke-width:4; stroke-opacity:1; fill:none\" points=\"\n",
       "  86.9921,1479.3 114.181,1479.3 \n",
       "  \"/>\n",
       "<polyline clip-path=\"url(#clip120)\" style=\"stroke:#000000; stroke-width:4; stroke-opacity:1; fill:none\" points=\"\n",
       "  86.9921,1107.38 114.181,1107.38 \n",
       "  \"/>\n",
       "<polyline clip-path=\"url(#clip120)\" style=\"stroke:#000000; stroke-width:4; stroke-opacity:1; fill:none\" points=\"\n",
       "  86.9921,735.461 114.181,735.461 \n",
       "  \"/>\n",
       "<polyline clip-path=\"url(#clip120)\" style=\"stroke:#000000; stroke-width:4; stroke-opacity:1; fill:none\" points=\"\n",
       "  86.9921,363.543 114.181,363.543 \n",
       "  \"/>\n",
       "<path clip-path=\"url(#clip120)\" d=\"M 0 0 M132.634 1543 Q129.023 1543 127.194 1546.56 Q125.388 1550.11 125.388 1557.23 Q125.388 1564.34 127.194 1567.91 Q129.023 1571.45 132.634 1571.45 Q136.268 1571.45 138.074 1567.91 Q139.902 1564.34 139.902 1557.23 Q139.902 1550.11 138.074 1546.56 Q136.268 1543 132.634 1543 M132.634 1539.29 Q138.444 1539.29 141.5 1543.9 Q144.578 1548.48 144.578 1557.23 Q144.578 1565.96 141.5 1570.57 Q138.444 1575.15 132.634 1575.15 Q126.824 1575.15 123.745 1570.57 Q120.689 1565.96 120.689 1557.23 Q120.689 1548.48 123.745 1543.9 Q126.824 1539.29 132.634 1539.29 Z\" fill=\"#000000\" fill-rule=\"evenodd\" fill-opacity=\"1\" /><path clip-path=\"url(#clip120)\" d=\"M 0 0 M149.648 1568.6 L154.532 1568.6 L154.532 1574.48 L149.648 1574.48 L149.648 1568.6 Z\" fill=\"#000000\" fill-rule=\"evenodd\" fill-opacity=\"1\" /><path clip-path=\"url(#clip120)\" d=\"M 0 0 M169.601 1543 Q165.99 1543 164.161 1546.56 Q162.356 1550.11 162.356 1557.23 Q162.356 1564.34 164.161 1567.91 Q165.99 1571.45 169.601 1571.45 Q173.235 1571.45 175.041 1567.91 Q176.87 1564.34 176.87 1557.23 Q176.87 1550.11 175.041 1546.56 Q173.235 1543 169.601 1543 M169.601 1539.29 Q175.411 1539.29 178.467 1543.9 Q181.546 1548.48 181.546 1557.23 Q181.546 1565.96 178.467 1570.57 Q175.411 1575.15 169.601 1575.15 Q163.791 1575.15 160.712 1570.57 Q157.657 1565.96 157.657 1557.23 Q157.657 1548.48 160.712 1543.9 Q163.791 1539.29 169.601 1539.29 Z\" fill=\"#000000\" fill-rule=\"evenodd\" fill-opacity=\"1\" /><path clip-path=\"url(#clip120)\" d=\"M 0 0 M664.648 1570.54 L680.967 1570.54 L680.967 1574.48 L659.023 1574.48 L659.023 1570.54 Q661.685 1567.79 666.268 1563.16 Q670.875 1558.51 672.055 1557.17 Q674.301 1554.64 675.18 1552.91 Q676.083 1551.15 676.083 1549.46 Q676.083 1546.7 674.139 1544.97 Q672.217 1543.23 669.116 1543.23 Q666.917 1543.23 664.463 1543.99 Q662.032 1544.76 659.255 1546.31 L659.255 1541.59 Q662.079 1540.45 664.532 1539.87 Q666.986 1539.29 669.023 1539.29 Q674.393 1539.29 677.588 1541.98 Q680.782 1544.67 680.782 1549.16 Q680.782 1551.29 679.972 1553.21 Q679.185 1555.1 677.079 1557.7 Q676.5 1558.37 673.398 1561.59 Q670.296 1564.78 664.648 1570.54 Z\" fill=\"#000000\" fill-rule=\"evenodd\" fill-opacity=\"1\" /><path clip-path=\"url(#clip120)\" d=\"M 0 0 M686.037 1568.6 L690.921 1568.6 L690.921 1574.48 L686.037 1574.48 L686.037 1568.6 Z\" fill=\"#000000\" fill-rule=\"evenodd\" fill-opacity=\"1\" /><path clip-path=\"url(#clip120)\" d=\"M 0 0 M696.037 1539.92 L714.393 1539.92 L714.393 1543.86 L700.319 1543.86 L700.319 1552.33 Q701.338 1551.98 702.356 1551.82 Q703.375 1551.63 704.393 1551.63 Q710.18 1551.63 713.56 1554.8 Q716.939 1557.98 716.939 1563.39 Q716.939 1568.97 713.467 1572.07 Q709.995 1575.15 703.676 1575.15 Q701.5 1575.15 699.231 1574.78 Q696.986 1574.41 694.578 1573.67 L694.578 1568.97 Q696.662 1570.1 698.884 1570.66 Q701.106 1571.22 703.583 1571.22 Q707.588 1571.22 709.926 1569.11 Q712.264 1567 712.264 1563.39 Q712.264 1559.78 709.926 1557.67 Q707.588 1555.57 703.583 1555.57 Q701.708 1555.57 699.833 1555.98 Q697.981 1556.4 696.037 1557.28 L696.037 1539.92 Z\" fill=\"#000000\" fill-rule=\"evenodd\" fill-opacity=\"1\" /><path clip-path=\"url(#clip120)\" d=\"M 0 0 M1196.64 1539.92 L1215 1539.92 L1215 1543.86 L1200.92 1543.86 L1200.92 1552.33 Q1201.94 1551.98 1202.96 1551.82 Q1203.98 1551.63 1205 1551.63 Q1210.78 1551.63 1214.16 1554.8 Q1217.54 1557.98 1217.54 1563.39 Q1217.54 1568.97 1214.07 1572.07 Q1210.6 1575.15 1204.28 1575.15 Q1202.1 1575.15 1199.83 1574.78 Q1197.59 1574.41 1195.18 1573.67 L1195.18 1568.97 Q1197.26 1570.1 1199.49 1570.66 Q1201.71 1571.22 1204.19 1571.22 Q1208.19 1571.22 1210.53 1569.11 Q1212.87 1567 1212.87 1563.39 Q1212.87 1559.78 1210.53 1557.67 Q1208.19 1555.57 1204.19 1555.57 Q1202.31 1555.57 1200.44 1555.98 Q1198.58 1556.4 1196.64 1557.28 L1196.64 1539.92 Z\" fill=\"#000000\" fill-rule=\"evenodd\" fill-opacity=\"1\" /><path clip-path=\"url(#clip120)\" d=\"M 0 0 M1222.61 1568.6 L1227.5 1568.6 L1227.5 1574.48 L1222.61 1574.48 L1222.61 1568.6 Z\" fill=\"#000000\" fill-rule=\"evenodd\" fill-opacity=\"1\" /><path clip-path=\"url(#clip120)\" d=\"M 0 0 M1242.56 1543 Q1238.95 1543 1237.13 1546.56 Q1235.32 1550.11 1235.32 1557.23 Q1235.32 1564.34 1237.13 1567.91 Q1238.95 1571.45 1242.56 1571.45 Q1246.2 1571.45 1248 1567.91 Q1249.83 1564.34 1249.83 1557.23 Q1249.83 1550.11 1248 1546.56 Q1246.2 1543 1242.56 1543 M1242.56 1539.29 Q1248.37 1539.29 1251.43 1543.9 Q1254.51 1548.48 1254.51 1557.23 Q1254.51 1565.96 1251.43 1570.57 Q1248.37 1575.15 1242.56 1575.15 Q1236.75 1575.15 1233.68 1570.57 Q1230.62 1565.96 1230.62 1557.23 Q1230.62 1548.48 1233.68 1543.9 Q1236.75 1539.29 1242.56 1539.29 Z\" fill=\"#000000\" fill-rule=\"evenodd\" fill-opacity=\"1\" /><path clip-path=\"url(#clip120)\" d=\"M 0 0 M1732.61 1539.92 L1754.83 1539.92 L1754.83 1541.91 L1742.29 1574.48 L1737.4 1574.48 L1749.21 1543.86 L1732.61 1543.86 L1732.61 1539.92 Z\" fill=\"#000000\" fill-rule=\"evenodd\" fill-opacity=\"1\" /><path clip-path=\"url(#clip120)\" d=\"M 0 0 M1759.9 1568.6 L1764.79 1568.6 L1764.79 1574.48 L1759.9 1574.48 L1759.9 1568.6 Z\" fill=\"#000000\" fill-rule=\"evenodd\" fill-opacity=\"1\" /><path clip-path=\"url(#clip120)\" d=\"M 0 0 M1769.9 1539.92 L1788.26 1539.92 L1788.26 1543.86 L1774.19 1543.86 L1774.19 1552.33 Q1775.2 1551.98 1776.22 1551.82 Q1777.24 1551.63 1778.26 1551.63 Q1784.05 1551.63 1787.43 1554.8 Q1790.81 1557.98 1790.81 1563.39 Q1790.81 1568.97 1787.33 1572.07 Q1783.86 1575.15 1777.54 1575.15 Q1775.37 1575.15 1773.1 1574.78 Q1770.85 1574.41 1768.44 1573.67 L1768.44 1568.97 Q1770.53 1570.1 1772.75 1570.66 Q1774.97 1571.22 1777.45 1571.22 Q1781.45 1571.22 1783.79 1569.11 Q1786.13 1567 1786.13 1563.39 Q1786.13 1559.78 1783.79 1557.67 Q1781.45 1555.57 1777.45 1555.57 Q1775.57 1555.57 1773.7 1555.98 Q1771.85 1556.4 1769.9 1557.28 L1769.9 1539.92 Z\" fill=\"#000000\" fill-rule=\"evenodd\" fill-opacity=\"1\" /><path clip-path=\"url(#clip120)\" d=\"M 0 0 M2256.96 1570.54 L2264.6 1570.54 L2264.6 1544.18 L2256.29 1545.85 L2256.29 1541.59 L2264.56 1539.92 L2269.23 1539.92 L2269.23 1570.54 L2276.87 1570.54 L2276.87 1574.48 L2256.96 1574.48 L2256.96 1570.54 Z\" fill=\"#000000\" fill-rule=\"evenodd\" fill-opacity=\"1\" /><path clip-path=\"url(#clip120)\" d=\"M 0 0 M2291.94 1543 Q2288.33 1543 2286.5 1546.56 Q2284.7 1550.11 2284.7 1557.23 Q2284.7 1564.34 2286.5 1567.91 Q2288.33 1571.45 2291.94 1571.45 Q2295.57 1571.45 2297.38 1567.91 Q2299.21 1564.34 2299.21 1557.23 Q2299.21 1550.11 2297.38 1546.56 Q2295.57 1543 2291.94 1543 M2291.94 1539.29 Q2297.75 1539.29 2300.81 1543.9 Q2303.88 1548.48 2303.88 1557.23 Q2303.88 1565.96 2300.81 1570.57 Q2297.75 1575.15 2291.94 1575.15 Q2286.13 1575.15 2283.05 1570.57 Q2280 1565.96 2280 1557.23 Q2280 1548.48 2283.05 1543.9 Q2286.13 1539.29 2291.94 1539.29 Z\" fill=\"#000000\" fill-rule=\"evenodd\" fill-opacity=\"1\" /><path clip-path=\"url(#clip120)\" d=\"M 0 0 M2308.95 1568.6 L2313.84 1568.6 L2313.84 1574.48 L2308.95 1574.48 L2308.95 1568.6 Z\" fill=\"#000000\" fill-rule=\"evenodd\" fill-opacity=\"1\" /><path clip-path=\"url(#clip120)\" d=\"M 0 0 M2328.91 1543 Q2325.3 1543 2323.47 1546.56 Q2321.66 1550.11 2321.66 1557.23 Q2321.66 1564.34 2323.47 1567.91 Q2325.3 1571.45 2328.91 1571.45 Q2332.54 1571.45 2334.35 1567.91 Q2336.18 1564.34 2336.18 1557.23 Q2336.18 1550.11 2334.35 1546.56 Q2332.54 1543 2328.91 1543 M2328.91 1539.29 Q2334.72 1539.29 2337.77 1543.9 Q2340.85 1548.48 2340.85 1557.23 Q2340.85 1565.96 2337.77 1570.57 Q2334.72 1575.15 2328.91 1575.15 Q2323.1 1575.15 2320.02 1570.57 Q2316.96 1565.96 2316.96 1557.23 Q2316.96 1548.48 2320.02 1543.9 Q2323.1 1539.29 2328.91 1539.29 Z\" fill=\"#000000\" fill-rule=\"evenodd\" fill-opacity=\"1\" /><path clip-path=\"url(#clip120)\" d=\"M 0 0 M14.0804 1465.1 Q10.4693 1465.1 8.64057 1468.66 Q6.83502 1472.2 6.83502 1479.33 Q6.83502 1486.44 8.64057 1490 Q10.4693 1493.55 14.0804 1493.55 Q17.7146 1493.55 19.5201 1490 Q21.3488 1486.44 21.3488 1479.33 Q21.3488 1472.2 19.5201 1468.66 Q17.7146 1465.1 14.0804 1465.1 M14.0804 1461.39 Q19.8905 1461.39 22.946 1466 Q26.0247 1470.58 26.0247 1479.33 Q26.0247 1488.06 22.946 1492.67 Q19.8905 1497.25 14.0804 1497.25 Q8.2702 1497.25 5.19151 1492.67 Q2.13597 1488.06 2.13597 1479.33 Q2.13597 1470.58 5.19151 1466 Q8.2702 1461.39 14.0804 1461.39 Z\" fill=\"#000000\" fill-rule=\"evenodd\" fill-opacity=\"1\" /><path clip-path=\"url(#clip120)\" d=\"M 0 0 M31.0941 1490.7 L35.9784 1490.7 L35.9784 1496.58 L31.0941 1496.58 L31.0941 1490.7 Z\" fill=\"#000000\" fill-rule=\"evenodd\" fill-opacity=\"1\" /><path clip-path=\"url(#clip120)\" d=\"M 0 0 M51.0477 1465.1 Q47.4367 1465.1 45.608 1468.66 Q43.8024 1472.2 43.8024 1479.33 Q43.8024 1486.44 45.608 1490 Q47.4367 1493.55 51.0477 1493.55 Q54.682 1493.55 56.4875 1490 Q58.3162 1486.44 58.3162 1479.33 Q58.3162 1472.2 56.4875 1468.66 Q54.682 1465.1 51.0477 1465.1 M51.0477 1461.39 Q56.8579 1461.39 59.9134 1466 Q62.9921 1470.58 62.9921 1479.33 Q62.9921 1488.06 59.9134 1492.67 Q56.8579 1497.25 51.0477 1497.25 Q45.2376 1497.25 42.1589 1492.67 Q39.1034 1488.06 39.1034 1479.33 Q39.1034 1470.58 42.1589 1466 Q45.2376 1461.39 51.0477 1461.39 Z\" fill=\"#000000\" fill-rule=\"evenodd\" fill-opacity=\"1\" /><path clip-path=\"url(#clip120)\" d=\"M 0 0 M15.6776 1093.18 Q12.0665 1093.18 10.2378 1096.74 Q8.43223 1100.28 8.43223 1107.41 Q8.43223 1114.52 10.2378 1118.09 Q12.0665 1121.63 15.6776 1121.63 Q19.3118 1121.63 21.1174 1118.09 Q22.946 1114.52 22.946 1107.41 Q22.946 1100.28 21.1174 1096.74 Q19.3118 1093.18 15.6776 1093.18 M15.6776 1089.47 Q21.4877 1089.47 24.5433 1094.08 Q27.6219 1098.66 27.6219 1107.41 Q27.6219 1116.14 24.5433 1120.75 Q21.4877 1125.33 15.6776 1125.33 Q9.86741 1125.33 6.78872 1120.75 Q3.73318 1116.14 3.73318 1107.41 Q3.73318 1098.66 6.78872 1094.08 Q9.86741 1089.47 15.6776 1089.47 Z\" fill=\"#000000\" fill-rule=\"evenodd\" fill-opacity=\"1\" /><path clip-path=\"url(#clip120)\" d=\"M 0 0 M32.6914 1118.78 L37.5756 1118.78 L37.5756 1124.66 L32.6914 1124.66 L32.6914 1118.78 Z\" fill=\"#000000\" fill-rule=\"evenodd\" fill-opacity=\"1\" /><path clip-path=\"url(#clip120)\" d=\"M 0 0 M46.6728 1120.72 L62.9921 1120.72 L62.9921 1124.66 L41.0478 1124.66 L41.0478 1120.72 Q43.7098 1117.97 48.2931 1113.34 Q52.8996 1108.69 54.0801 1107.34 Q56.3255 1104.82 57.2051 1103.09 Q58.1079 1101.33 58.1079 1099.64 Q58.1079 1096.88 56.1635 1095.15 Q54.2422 1093.41 51.1403 1093.41 Q48.9413 1093.41 46.4876 1094.17 Q44.057 1094.94 41.2793 1096.49 L41.2793 1091.77 Q44.1033 1090.63 46.557 1090.05 Q49.0107 1089.47 51.0477 1089.47 Q56.4181 1089.47 59.6125 1092.16 Q62.8069 1094.84 62.8069 1099.34 Q62.8069 1101.46 61.9968 1103.39 Q61.2097 1105.28 59.1033 1107.88 Q58.5246 1108.55 55.4227 1111.77 Q52.3209 1114.96 46.6728 1120.72 Z\" fill=\"#000000\" fill-rule=\"evenodd\" fill-opacity=\"1\" /><path clip-path=\"url(#clip120)\" d=\"M 0 0 M13.5942 721.26 Q9.98315 721.26 8.15446 724.825 Q6.34891 728.366 6.34891 735.496 Q6.34891 742.602 8.15446 746.167 Q9.98315 749.709 13.5942 749.709 Q17.2285 749.709 19.034 746.167 Q20.8627 742.602 20.8627 735.496 Q20.8627 728.366 19.034 724.825 Q17.2285 721.26 13.5942 721.26 M13.5942 717.556 Q19.4044 717.556 22.4599 722.162 Q25.5386 726.746 25.5386 735.496 Q25.5386 744.223 22.4599 748.829 Q19.4044 753.412 13.5942 753.412 Q7.78409 753.412 4.7054 748.829 Q1.64986 744.223 1.64986 735.496 Q1.64986 726.746 4.7054 722.162 Q7.78409 717.556 13.5942 717.556 Z\" fill=\"#000000\" fill-rule=\"evenodd\" fill-opacity=\"1\" /><path clip-path=\"url(#clip120)\" d=\"M 0 0 M30.608 746.861 L35.4923 746.861 L35.4923 752.741 L30.608 752.741 L30.608 746.861 Z\" fill=\"#000000\" fill-rule=\"evenodd\" fill-opacity=\"1\" /><path clip-path=\"url(#clip120)\" d=\"M 0 0 M53.4088 722.255 L41.6034 740.704 L53.4088 740.704 L53.4088 722.255 M52.182 718.181 L58.0616 718.181 L58.0616 740.704 L62.9921 740.704 L62.9921 744.593 L58.0616 744.593 L58.0616 752.741 L53.4088 752.741 L53.4088 744.593 L37.8071 744.593 L37.8071 740.079 L52.182 718.181 Z\" fill=\"#000000\" fill-rule=\"evenodd\" fill-opacity=\"1\" /><path clip-path=\"url(#clip120)\" d=\"M 0 0 M13.9183 349.341 Q10.3072 349.341 8.47853 352.906 Q6.67298 356.448 6.67298 363.577 Q6.67298 370.684 8.47853 374.249 Q10.3072 377.79 13.9183 377.79 Q17.5526 377.79 19.3581 374.249 Q21.1868 370.684 21.1868 363.577 Q21.1868 356.448 19.3581 352.906 Q17.5526 349.341 13.9183 349.341 M13.9183 345.638 Q19.7285 345.638 22.784 350.244 Q25.8627 354.828 25.8627 363.577 Q25.8627 372.304 22.784 376.911 Q19.7285 381.494 13.9183 381.494 Q8.10816 381.494 5.02947 376.911 Q1.97393 372.304 1.97393 363.577 Q1.97393 354.828 5.02947 350.244 Q8.10816 345.638 13.9183 345.638 Z\" fill=\"#000000\" fill-rule=\"evenodd\" fill-opacity=\"1\" /><path clip-path=\"url(#clip120)\" d=\"M 0 0 M30.9321 374.943 L35.8163 374.943 L35.8163 380.823 L30.9321 380.823 L30.9321 374.943 Z\" fill=\"#000000\" fill-rule=\"evenodd\" fill-opacity=\"1\" /><path clip-path=\"url(#clip120)\" d=\"M 0 0 M51.4644 361.679 Q48.3163 361.679 46.4644 363.832 Q44.6357 365.985 44.6357 369.735 Q44.6357 373.462 46.4644 375.638 Q48.3163 377.79 51.4644 377.79 Q54.6125 377.79 56.4412 375.638 Q58.2931 373.462 58.2931 369.735 Q58.2931 365.985 56.4412 363.832 Q54.6125 361.679 51.4644 361.679 M60.7468 347.027 L60.7468 351.286 Q58.9875 350.453 57.182 350.013 Q55.3996 349.573 53.6403 349.573 Q49.0107 349.573 46.557 352.698 Q44.1265 355.823 43.7793 362.142 Q45.145 360.128 47.2052 359.064 Q49.2653 357.976 51.7422 357.976 Q56.9505 357.976 59.9597 361.147 Q62.9921 364.295 62.9921 369.735 Q62.9921 375.059 59.844 378.276 Q56.6959 381.494 51.4644 381.494 Q45.4691 381.494 42.2978 376.911 Q39.1265 372.304 39.1265 363.577 Q39.1265 355.383 43.0154 350.522 Q46.9042 345.638 53.4551 345.638 Q55.2144 345.638 56.9968 345.985 Q58.8023 346.332 60.7468 347.027 Z\" fill=\"#000000\" fill-rule=\"evenodd\" fill-opacity=\"1\" /><polyline clip-path=\"url(#clip122)\" style=\"stroke:#009af9; stroke-width:4; stroke-opacity:1; fill:none\" points=\"\n",
       "  151.118,1479.3 161.059,1479.3 171.001,1479.3 180.943,1479.3 190.885,1479.3 200.827,1479.3 210.769,1479.3 220.711,1479.3 230.653,1479.3 240.595,1479.3 \n",
       "  250.537,1479.3 260.479,1479.3 270.421,1479.29 280.362,1479.29 290.304,1479.29 300.246,1479.29 310.188,1479.29 320.13,1479.28 330.072,1479.28 340.014,1479.27 \n",
       "  349.956,1479.27 359.898,1479.26 369.84,1479.25 379.782,1479.23 389.724,1479.22 399.666,1479.19 409.607,1479.16 419.549,1479.13 429.491,1479.08 439.433,1479.03 \n",
       "  449.375,1478.95 459.317,1478.87 469.259,1478.76 479.201,1478.63 489.143,1478.46 499.085,1478.26 509.027,1478.02 518.969,1477.72 528.911,1477.36 538.852,1476.93 \n",
       "  548.794,1476.4 558.736,1475.78 568.678,1475.03 578.62,1474.14 588.562,1473.08 598.504,1471.83 608.446,1470.36 618.388,1468.63 628.33,1466.61 638.272,1464.25 \n",
       "  648.214,1461.51 658.155,1458.33 668.097,1454.67 678.039,1450.47 687.981,1445.65 697.923,1440.15 707.865,1433.91 717.807,1426.83 727.749,1418.85 737.691,1409.89 \n",
       "  747.633,1399.85 757.575,1388.66 767.517,1376.22 777.459,1362.47 787.4,1347.31 797.342,1330.68 807.284,1312.5 817.226,1292.72 827.168,1271.28 837.11,1248.14 \n",
       "  847.052,1223.27 856.994,1196.67 866.936,1168.34 876.878,1138.29 886.82,1106.58 896.762,1073.25 906.704,1038.39 916.645,1002.11 926.587,964.505 936.529,925.73 \n",
       "  946.471,885.935 956.413,845.288 966.355,803.974 976.297,762.188 986.239,720.132 996.181,678.015 1006.12,636.049 1016.06,594.446 1026.01,553.416 1035.95,513.162 \n",
       "  1045.89,473.884 1055.83,435.769 1065.77,398.994 1075.72,363.725 1085.66,330.115 1095.6,298.302 1105.54,268.414 1115.48,240.562 1125.43,214.845 1135.37,191.35 \n",
       "  1145.31,170.152 1155.25,151.313 1165.19,134.889 1175.14,120.922 1185.08,109.449 1195.02,100.498 1204.96,94.0896 1214.9,90.2389 1224.84,88.9544 1234.79,90.2389 \n",
       "  1244.73,94.0896 1254.67,100.498 1264.61,109.449 1274.55,120.922 1284.5,134.889 1294.44,151.313 1304.38,170.152 1314.32,191.35 1324.26,214.845 1334.21,240.562 \n",
       "  1344.15,268.414 1354.09,298.302 1364.03,330.115 1373.97,363.725 1383.92,398.994 1393.86,435.769 1403.8,473.884 1413.74,513.162 1423.68,553.416 1433.63,594.446 \n",
       "  1443.57,636.049 1453.51,678.015 1463.45,720.132 1473.39,762.188 1483.33,803.974 1493.28,845.288 1503.22,885.935 1513.16,925.73 1523.1,964.505 1533.04,1002.11 \n",
       "  1542.99,1038.39 1552.93,1073.25 1562.87,1106.58 1572.81,1138.29 1582.75,1168.34 1592.7,1196.67 1602.64,1223.27 1612.58,1248.14 1622.52,1271.28 1632.46,1292.72 \n",
       "  1642.41,1312.5 1652.35,1330.68 1662.29,1347.31 1672.23,1362.47 1682.17,1376.22 1692.12,1388.66 1702.06,1399.85 1712,1409.89 1721.94,1418.85 1731.88,1426.83 \n",
       "  1741.82,1433.91 1751.77,1440.15 1761.71,1445.65 1771.65,1450.47 1781.59,1454.67 1791.53,1458.33 1801.48,1461.51 1811.42,1464.25 1821.36,1466.61 1831.3,1468.63 \n",
       "  1841.24,1470.36 1851.19,1471.83 1861.13,1473.08 1871.07,1474.14 1881.01,1475.03 1890.95,1475.78 1900.9,1476.4 1910.84,1476.93 1920.78,1477.36 1930.72,1477.72 \n",
       "  1940.66,1478.02 1950.61,1478.26 1960.55,1478.46 1970.49,1478.63 1980.43,1478.76 1990.37,1478.87 2000.31,1478.95 2010.26,1479.03 2020.2,1479.08 2030.14,1479.13 \n",
       "  2040.08,1479.16 2050.02,1479.19 2059.97,1479.22 2069.91,1479.23 2079.85,1479.25 2089.79,1479.26 2099.73,1479.27 2109.68,1479.27 2119.62,1479.28 2129.56,1479.28 \n",
       "  2139.5,1479.29 2149.44,1479.29 2159.39,1479.29 2169.33,1479.29 2179.27,1479.29 2189.21,1479.3 2199.15,1479.3 2209.1,1479.3 2219.04,1479.3 2228.98,1479.3 \n",
       "  2238.92,1479.3 2248.86,1479.3 2258.8,1479.3 2268.75,1479.3 2278.69,1479.3 2288.63,1479.3 \n",
       "  \"/>\n",
       "<polyline clip-path=\"url(#clip122)\" style=\"stroke:#e26f46; stroke-width:4; stroke-opacity:1; fill:none\" points=\"\n",
       "  151.118,1479.3 161.059,1479.3 171.001,1479.3 180.943,1479.3 190.885,1479.3 200.827,1479.3 210.769,1479.3 220.711,1479.3 230.653,1479.3 240.595,1479.3 \n",
       "  250.537,1479.3 260.479,1479.3 270.421,1479.3 280.362,1479.3 290.304,1479.3 300.246,1479.3 310.188,1479.3 320.13,1479.3 330.072,1479.3 340.014,1479.3 \n",
       "  349.956,1479.3 359.898,1479.3 369.84,1479.3 379.782,1479.3 389.724,1479.3 399.666,1479.3 409.607,1479.3 419.549,1479.3 429.491,1479.3 439.433,1479.3 \n",
       "  449.375,1479.3 459.317,1479.3 469.259,1479.3 479.201,1479.3 489.143,1479.3 499.085,1479.3 509.027,1479.3 518.969,1479.3 528.911,1479.3 538.852,1479.3 \n",
       "  548.794,1479.3 558.736,1479.3 568.678,1479.3 578.62,1479.3 588.562,1479.3 598.504,1479.3 608.446,1479.3 618.388,1479.3 628.33,1479.3 638.272,1479.3 \n",
       "  648.214,1479.3 658.155,1479.3 668.097,1479.3 678.039,1479.3 687.981,1479.3 697.923,1479.3 707.865,1479.3 717.807,1479.3 727.749,1479.3 737.691,1479.3 \n",
       "  747.633,1479.3 757.575,1479.3 767.517,1479.3 777.459,1479.3 787.4,1479.3 797.342,1479.3 807.284,1479.3 817.226,1479.3 827.168,1479.3 837.11,1479.3 \n",
       "  847.052,1479.3 856.994,1479.3 866.936,1479.3 876.878,1479.3 886.82,1479.3 896.762,1479.3 906.704,1479.3 916.645,1479.3 926.587,1479.3 936.529,1479.3 \n",
       "  946.471,1479.3 956.413,1479.3 966.355,1479.3 976.297,1479.3 986.239,1479.3 996.181,1479.3 1006.12,1479.3 1016.06,1479.3 1026.01,1479.3 1035.95,1479.3 \n",
       "  1045.89,1479.3 1055.83,1479.3 1065.77,1479.3 1075.72,1479.3 1085.66,1479.3 1095.6,1479.3 1105.54,1479.3 1115.48,1479.3 1125.43,1479.3 1135.37,1479.3 \n",
       "  1145.31,1479.3 1155.25,1479.3 1165.19,1479.3 1175.14,1479.3 1185.08,1479.3 1195.02,1479.3 1204.96,1479.3 1214.9,1479.3 1224.84,1479.3 1234.79,1479.3 \n",
       "  1244.73,1479.3 1254.67,1479.3 1264.61,1479.3 1274.55,1479.3 1284.5,1479.3 1294.44,1479.3 1304.38,1479.3 1314.32,1479.3 1324.26,1479.3 1334.21,1479.3 \n",
       "  1344.15,1479.3 1354.09,1479.3 1364.03,1479.3 1373.97,1479.3 1383.92,1479.3 1393.86,1479.3 1403.8,1479.3 1413.74,1479.3 1423.68,1479.3 1433.63,1479.3 \n",
       "  1443.57,1479.3 1453.51,1479.3 1463.45,1479.3 1473.39,1479.3 1483.33,1479.3 1493.28,1479.3 1503.22,1479.3 1513.16,1479.3 1523.1,1479.3 1533.04,1479.3 \n",
       "  1542.99,1479.3 1552.93,1479.3 1562.87,1479.3 1572.81,1479.3 1582.75,1479.3 1592.7,1479.3 1602.64,1479.3 1612.58,1479.3 1622.52,1479.3 1632.46,1479.3 \n",
       "  1642.41,1479.3 1652.35,1479.3 1662.29,1479.3 1672.23,1479.3 1682.17,1479.3 1692.12,1479.3 1702.06,1479.3 1712,1479.3 1721.94,1479.3 1731.88,1479.3 \n",
       "  1741.82,1479.3 1751.77,1479.3 1761.71,1479.3 1771.65,1479.3 1781.59,1479.3 1791.53,1479.3 1801.48,1479.3 1811.42,1479.3 1821.36,1479.3 1831.3,1479.3 \n",
       "  1841.24,1479.3 1851.19,1479.3 1861.13,1479.3 1871.07,1479.3 1881.01,1479.3 1890.95,1479.3 1900.9,1479.3 1910.84,1479.3 1920.78,1479.3 1930.72,1479.3 \n",
       "  1940.66,1479.3 1950.61,1479.3 1960.55,1479.3 1970.49,1479.3 1980.43,1479.3 1990.37,1479.3 2000.31,1479.3 2010.26,1479.3 2020.2,1479.3 2030.14,1479.3 \n",
       "  2040.08,1479.3 2050.02,1479.3 2059.97,1479.3 2069.91,1479.3 2079.85,1479.3 2089.79,1479.3 2099.73,1479.3 2109.68,1479.3 2119.62,1479.3 2129.56,1479.3 \n",
       "  2139.5,1479.3 2149.44,1479.3 2159.39,1479.3 2169.33,1479.3 2179.27,1479.3 2189.21,1479.3 2199.15,1479.3 2209.1,1479.3 2219.04,1479.3 2228.98,1479.3 \n",
       "  2238.92,1479.3 2248.86,1479.3 2258.8,1479.3 2268.75,1479.3 2278.69,1479.3 2288.63,1479.3 \n",
       "  \"/>\n",
       "<polyline clip-path=\"url(#clip122)\" style=\"stroke:#3da44d; stroke-width:4; stroke-opacity:1; fill:none\" points=\"\n",
       "  151.118,1479.3 161.059,1479.3 171.001,1479.3 180.943,1479.3 190.885,1479.3 200.827,1479.3 210.769,1479.3 220.711,1479.3 230.653,1479.3 240.595,1479.3 \n",
       "  250.537,1479.3 260.479,1479.3 270.421,1479.3 280.362,1479.3 290.304,1479.3 300.246,1479.3 310.188,1479.3 320.13,1479.3 330.072,1479.3 340.014,1479.3 \n",
       "  349.956,1479.3 359.898,1479.3 369.84,1479.3 379.782,1479.3 389.724,1479.3 399.666,1479.3 409.607,1479.3 419.549,1479.3 429.491,1479.3 439.433,1479.3 \n",
       "  449.375,1479.3 459.317,1479.3 469.259,1479.3 479.201,1479.3 489.143,1479.3 499.085,1479.3 509.027,1479.3 518.969,1479.3 528.911,1479.3 538.852,1479.29 \n",
       "  548.794,1479.29 558.736,1479.29 568.678,1479.29 578.62,1479.28 588.562,1479.28 598.504,1479.27 608.446,1479.25 618.388,1479.24 628.33,1479.21 638.272,1479.18 \n",
       "  648.214,1479.13 658.155,1479.06 668.097,1478.97 678.039,1478.85 687.981,1478.69 697.923,1478.47 707.865,1478.19 717.807,1477.82 727.749,1477.33 737.691,1476.71 \n",
       "  747.633,1475.9 757.575,1474.88 767.517,1473.58 777.459,1471.96 787.4,1469.93 797.342,1467.42 807.284,1464.34 817.226,1460.58 827.168,1456.03 837.11,1450.56 \n",
       "  847.052,1444.05 856.994,1436.34 866.936,1427.3 876.878,1416.76 886.82,1404.59 896.762,1390.64 906.704,1374.76 916.645,1356.84 926.587,1336.79 936.529,1314.51 \n",
       "  946.471,1289.97 956.413,1263.14 966.355,1234.05 976.297,1202.76 986.239,1169.37 996.181,1134.03 1006.12,1096.92 1016.06,1058.26 1026.01,1018.31 1035.95,977.35 \n",
       "  1045.89,935.707 1055.83,893.71 1065.77,851.71 1075.72,810.063 1085.66,769.13 1095.6,729.267 1105.54,690.824 1115.48,654.135 1125.43,619.517 1135.37,587.269 \n",
       "  1145.31,557.663 1155.25,530.948 1165.19,507.345 1175.14,487.045 1185.08,470.213 1195.02,456.982 1204.96,447.457 1214.9,441.713 1224.84,439.793 1234.79,441.713 \n",
       "  1244.73,447.457 1254.67,456.982 1264.61,470.213 1274.55,487.045 1284.5,507.345 1294.44,530.948 1304.38,557.663 1314.32,587.269 1324.26,619.517 1334.21,654.135 \n",
       "  1344.15,690.824 1354.09,729.267 1364.03,769.13 1373.97,810.063 1383.92,851.71 1393.86,893.71 1403.8,935.707 1413.74,977.35 1423.68,1018.31 1433.63,1058.26 \n",
       "  1443.57,1096.92 1453.51,1134.03 1463.45,1169.37 1473.39,1202.76 1483.33,1234.05 1493.28,1263.14 1503.22,1289.97 1513.16,1314.51 1523.1,1336.79 1533.04,1356.84 \n",
       "  1542.99,1374.76 1552.93,1390.64 1562.87,1404.59 1572.81,1416.76 1582.75,1427.3 1592.7,1436.34 1602.64,1444.05 1612.58,1450.56 1622.52,1456.03 1632.46,1460.58 \n",
       "  1642.41,1464.34 1652.35,1467.42 1662.29,1469.93 1672.23,1471.96 1682.17,1473.58 1692.12,1474.88 1702.06,1475.9 1712,1476.71 1721.94,1477.33 1731.88,1477.82 \n",
       "  1741.82,1478.19 1751.77,1478.47 1761.71,1478.69 1771.65,1478.85 1781.59,1478.97 1791.53,1479.06 1801.48,1479.13 1811.42,1479.18 1821.36,1479.21 1831.3,1479.24 \n",
       "  1841.24,1479.25 1851.19,1479.27 1861.13,1479.28 1871.07,1479.28 1881.01,1479.29 1890.95,1479.29 1900.9,1479.29 1910.84,1479.29 1920.78,1479.3 1930.72,1479.3 \n",
       "  1940.66,1479.3 1950.61,1479.3 1960.55,1479.3 1970.49,1479.3 1980.43,1479.3 1990.37,1479.3 2000.31,1479.3 2010.26,1479.3 2020.2,1479.3 2030.14,1479.3 \n",
       "  2040.08,1479.3 2050.02,1479.3 2059.97,1479.3 2069.91,1479.3 2079.85,1479.3 2089.79,1479.3 2099.73,1479.3 2109.68,1479.3 2119.62,1479.3 2129.56,1479.3 \n",
       "  2139.5,1479.3 2149.44,1479.3 2159.39,1479.3 2169.33,1479.3 2179.27,1479.3 2189.21,1479.3 2199.15,1479.3 2209.1,1479.3 2219.04,1479.3 2228.98,1479.3 \n",
       "  2238.92,1479.3 2248.86,1479.3 2258.8,1479.3 2268.75,1479.3 2278.69,1479.3 2288.63,1479.3 \n",
       "  \"/>\n",
       "<path clip-path=\"url(#clip120)\" d=\"\n",
       "M1886.15 372.684 L2280.76 372.684 L2280.76 130.764 L1886.15 130.764  Z\n",
       "  \" fill=\"#ffffff\" fill-rule=\"evenodd\" fill-opacity=\"1\"/>\n",
       "<polyline clip-path=\"url(#clip120)\" style=\"stroke:#000000; stroke-width:4; stroke-opacity:1; fill:none\" points=\"\n",
       "  1886.15,372.684 2280.76,372.684 2280.76,130.764 1886.15,130.764 1886.15,372.684 \n",
       "  \"/>\n",
       "<polyline clip-path=\"url(#clip120)\" style=\"stroke:#009af9; stroke-width:4; stroke-opacity:1; fill:none\" points=\"\n",
       "  1910.15,191.244 2054.15,191.244 \n",
       "  \"/>\n",
       "<path clip-path=\"url(#clip120)\" d=\"M 0 0 M2093.34 186.58 Q2092.62 186.163 2091.76 185.978 Q2090.93 185.77 2089.91 185.77 Q2086.3 185.77 2084.35 188.131 Q2082.43 190.469 2082.43 194.867 L2082.43 208.524 L2078.15 208.524 L2078.15 182.598 L2082.43 182.598 L2082.43 186.626 Q2083.78 184.265 2085.93 183.131 Q2088.08 181.973 2091.16 181.973 Q2091.6 181.973 2092.13 182.043 Q2092.66 182.089 2093.31 182.205 L2093.34 186.58 Z\" fill=\"#000000\" fill-rule=\"evenodd\" fill-opacity=\"1\" /><path clip-path=\"url(#clip120)\" d=\"M 0 0 M2118.94 194.496 L2118.94 196.58 L2099.35 196.58 Q2099.63 200.978 2101.99 203.293 Q2104.38 205.584 2108.61 205.584 Q2111.07 205.584 2113.36 204.982 Q2115.67 204.381 2117.94 203.177 L2117.94 207.205 Q2115.65 208.177 2113.24 208.686 Q2110.84 209.195 2108.36 209.195 Q2102.15 209.195 2098.52 205.584 Q2094.91 201.973 2094.91 195.816 Q2094.91 189.45 2098.34 185.723 Q2101.78 181.973 2107.62 181.973 Q2112.85 181.973 2115.88 185.353 Q2118.94 188.709 2118.94 194.496 M2114.68 193.246 Q2114.63 189.751 2112.71 187.668 Q2110.81 185.584 2107.66 185.584 Q2104.1 185.584 2101.95 187.598 Q2099.82 189.612 2099.49 193.27 L2114.68 193.246 Z\" fill=\"#000000\" fill-rule=\"evenodd\" fill-opacity=\"1\" /><path clip-path=\"url(#clip120)\" d=\"M 0 0 M2135.19 195.492 Q2130.02 195.492 2128.03 196.672 Q2126.04 197.853 2126.04 200.7 Q2126.04 202.969 2127.52 204.311 Q2129.03 205.631 2131.6 205.631 Q2135.14 205.631 2137.27 203.131 Q2139.42 200.607 2139.42 196.441 L2139.42 195.492 L2135.19 195.492 M2143.68 193.733 L2143.68 208.524 L2139.42 208.524 L2139.42 204.589 Q2137.96 206.95 2135.79 208.084 Q2133.61 209.195 2130.46 209.195 Q2126.48 209.195 2124.12 206.973 Q2121.78 204.728 2121.78 200.978 Q2121.78 196.603 2124.7 194.381 Q2127.64 192.158 2133.45 192.158 L2139.42 192.158 L2139.42 191.742 Q2139.42 188.802 2137.48 187.205 Q2135.56 185.584 2132.06 185.584 Q2129.84 185.584 2127.73 186.117 Q2125.63 186.649 2123.68 187.714 L2123.68 183.779 Q2126.02 182.876 2128.22 182.436 Q2130.42 181.973 2132.5 181.973 Q2138.13 181.973 2140.9 184.89 Q2143.68 187.807 2143.68 193.733 Z\" fill=\"#000000\" fill-rule=\"evenodd\" fill-opacity=\"1\" /><path clip-path=\"url(#clip120)\" d=\"M 0 0 M2148.15 172.506 L2152.41 172.506 L2152.41 208.524 L2148.15 208.524 L2148.15 172.506 Z\" fill=\"#000000\" fill-rule=\"evenodd\" fill-opacity=\"1\" /><path clip-path=\"url(#clip120)\" d=\"M 0 0 M2167.11 172.552 Q2164.01 177.876 2162.5 183.084 Q2161 188.293 2161 193.64 Q2161 198.987 2162.5 204.242 Q2164.03 209.473 2167.11 214.774 L2163.4 214.774 Q2159.93 209.334 2158.2 204.08 Q2156.48 198.825 2156.48 193.64 Q2156.48 188.478 2158.2 183.246 Q2159.91 178.015 2163.4 172.552 L2167.11 172.552 Z\" fill=\"#000000\" fill-rule=\"evenodd\" fill-opacity=\"1\" /><path clip-path=\"url(#clip120)\" d=\"M 0 0 M2180.56 209.103 Q2175.21 208.246 2172.73 206.001 Q2169.7 203.246 2169.7 197.621 L2169.7 182.598 L2174.01 182.598 L2174.01 197.459 Q2174.01 201.695 2175.97 203.455 Q2177.69 204.982 2180.56 205.307 L2180.56 182.598 L2184.79 182.598 L2184.79 205.283 Q2187.83 204.959 2189.38 203.432 Q2191.34 201.487 2191.34 197.436 L2191.34 182.598 L2195.65 182.598 L2195.65 197.598 Q2195.65 203.432 2192.62 205.978 Q2189.89 208.269 2184.79 209.08 L2184.79 218.385 L2180.56 218.385 L2180.56 209.103 Z\" fill=\"#000000\" fill-rule=\"evenodd\" fill-opacity=\"1\" /><path clip-path=\"url(#clip120)\" d=\"M 0 0 M2199.45 172.552 L2203.15 172.552 Q2206.62 178.015 2208.33 183.246 Q2210.07 188.478 2210.07 193.64 Q2210.07 198.825 2208.33 204.08 Q2206.62 209.334 2203.15 214.774 L2199.45 214.774 Q2202.52 209.473 2204.03 204.242 Q2205.56 198.987 2205.56 193.64 Q2205.56 188.293 2204.03 183.084 Q2202.52 177.876 2199.45 172.552 Z\" fill=\"#000000\" fill-rule=\"evenodd\" fill-opacity=\"1\" /><polyline clip-path=\"url(#clip120)\" style=\"stroke:#e26f46; stroke-width:4; stroke-opacity:1; fill:none\" points=\"\n",
       "  1910.15,251.724 2054.15,251.724 \n",
       "  \"/>\n",
       "<path clip-path=\"url(#clip120)\" d=\"M 0 0 M2078.15 243.078 L2082.41 243.078 L2082.41 269.004 L2078.15 269.004 L2078.15 243.078 M2078.15 232.986 L2082.41 232.986 L2082.41 238.379 L2078.15 238.379 L2078.15 232.986 Z\" fill=\"#000000\" fill-rule=\"evenodd\" fill-opacity=\"1\" /><path clip-path=\"url(#clip120)\" d=\"M 0 0 M2107.06 248.055 Q2108.66 245.185 2110.88 243.819 Q2113.1 242.453 2116.11 242.453 Q2120.16 242.453 2122.36 245.301 Q2124.56 248.125 2124.56 253.356 L2124.56 269.004 L2120.28 269.004 L2120.28 253.495 Q2120.28 249.768 2118.96 247.963 Q2117.64 246.157 2114.93 246.157 Q2111.62 246.157 2109.7 248.356 Q2107.78 250.555 2107.78 254.351 L2107.78 269.004 L2103.5 269.004 L2103.5 253.495 Q2103.5 249.745 2102.18 247.963 Q2100.86 246.157 2098.1 246.157 Q2094.84 246.157 2092.92 248.379 Q2091 250.578 2091 254.351 L2091 269.004 L2086.72 269.004 L2086.72 243.078 L2091 243.078 L2091 247.106 Q2092.46 244.722 2094.49 243.588 Q2096.53 242.453 2099.33 242.453 Q2102.15 242.453 2104.12 243.888 Q2106.11 245.324 2107.06 248.055 Z\" fill=\"#000000\" fill-rule=\"evenodd\" fill-opacity=\"1\" /><path clip-path=\"url(#clip120)\" d=\"M 0 0 M2140.81 255.972 Q2135.65 255.972 2133.66 257.152 Q2131.67 258.333 2131.67 261.18 Q2131.67 263.449 2133.15 264.791 Q2134.65 266.111 2137.22 266.111 Q2140.77 266.111 2142.9 263.611 Q2145.05 261.087 2145.05 256.921 L2145.05 255.972 L2140.81 255.972 M2149.31 254.213 L2149.31 269.004 L2145.05 269.004 L2145.05 265.069 Q2143.59 267.43 2141.41 268.564 Q2139.24 269.675 2136.09 269.675 Q2132.11 269.675 2129.75 267.453 Q2127.41 265.208 2127.41 261.458 Q2127.41 257.083 2130.33 254.861 Q2133.27 252.638 2139.08 252.638 L2145.05 252.638 L2145.05 252.222 Q2145.05 249.282 2143.1 247.685 Q2141.18 246.064 2137.69 246.064 Q2135.46 246.064 2133.36 246.597 Q2131.25 247.129 2129.31 248.194 L2129.31 244.259 Q2131.65 243.356 2133.84 242.916 Q2136.04 242.453 2138.13 242.453 Q2143.75 242.453 2146.53 245.37 Q2149.31 248.287 2149.31 254.213 Z\" fill=\"#000000\" fill-rule=\"evenodd\" fill-opacity=\"1\" /><path clip-path=\"url(#clip120)\" d=\"M 0 0 M2170.83 255.74 Q2170.83 251.111 2168.91 248.564 Q2167.02 246.018 2163.57 246.018 Q2160.14 246.018 2158.22 248.564 Q2156.32 251.111 2156.32 255.74 Q2156.32 260.347 2158.22 262.893 Q2160.14 265.439 2163.57 265.439 Q2167.02 265.439 2168.91 262.893 Q2170.83 260.347 2170.83 255.74 M2175.09 265.787 Q2175.09 272.407 2172.15 275.624 Q2169.21 278.865 2163.15 278.865 Q2160.9 278.865 2158.91 278.518 Q2156.92 278.194 2155.05 277.499 L2155.05 273.356 Q2156.92 274.374 2158.75 274.861 Q2160.58 275.347 2162.48 275.347 Q2166.67 275.347 2168.75 273.148 Q2170.83 270.972 2170.83 266.55 L2170.83 264.444 Q2169.52 266.736 2167.46 267.87 Q2165.4 269.004 2162.52 269.004 Q2157.76 269.004 2154.84 265.37 Q2151.92 261.736 2151.92 255.74 Q2151.92 249.722 2154.84 246.088 Q2157.76 242.453 2162.52 242.453 Q2165.4 242.453 2167.46 243.588 Q2169.52 244.722 2170.83 247.013 L2170.83 243.078 L2175.09 243.078 L2175.09 265.787 Z\" fill=\"#000000\" fill-rule=\"evenodd\" fill-opacity=\"1\" /><path clip-path=\"url(#clip120)\" d=\"M 0 0 M2189.79 233.032 Q2186.69 238.356 2185.19 243.564 Q2183.68 248.773 2183.68 254.12 Q2183.68 259.467 2185.19 264.722 Q2186.71 269.953 2189.79 275.254 L2186.09 275.254 Q2182.62 269.814 2180.88 264.56 Q2179.17 259.305 2179.17 254.12 Q2179.17 248.958 2180.88 243.726 Q2182.59 238.495 2186.09 233.032 L2189.79 233.032 Z\" fill=\"#000000\" fill-rule=\"evenodd\" fill-opacity=\"1\" /><path clip-path=\"url(#clip120)\" d=\"M 0 0 M2203.24 269.583 Q2197.89 268.726 2195.42 266.481 Q2192.39 263.726 2192.39 258.101 L2192.39 243.078 L2196.69 243.078 L2196.69 257.939 Q2196.69 262.175 2198.66 263.935 Q2200.37 265.462 2203.24 265.787 L2203.24 243.078 L2207.48 243.078 L2207.48 265.763 Q2210.51 265.439 2212.06 263.912 Q2214.03 261.967 2214.03 257.916 L2214.03 243.078 L2218.33 243.078 L2218.33 258.078 Q2218.33 263.912 2215.3 266.458 Q2212.57 268.749 2207.48 269.56 L2207.48 278.865 L2203.24 278.865 L2203.24 269.583 Z\" fill=\"#000000\" fill-rule=\"evenodd\" fill-opacity=\"1\" /><path clip-path=\"url(#clip120)\" d=\"M 0 0 M2222.13 233.032 L2225.83 233.032 Q2229.31 238.495 2231.02 243.726 Q2232.76 248.958 2232.76 254.12 Q2232.76 259.305 2231.02 264.56 Q2229.31 269.814 2225.83 275.254 L2222.13 275.254 Q2225.21 269.953 2226.71 264.722 Q2228.24 259.467 2228.24 254.12 Q2228.24 248.773 2226.71 243.564 Q2225.21 238.356 2222.13 233.032 Z\" fill=\"#000000\" fill-rule=\"evenodd\" fill-opacity=\"1\" /><polyline clip-path=\"url(#clip120)\" style=\"stroke:#3da44d; stroke-width:4; stroke-opacity:1; fill:none\" points=\"\n",
       "  1910.15,312.204 2054.15,312.204 \n",
       "  \"/>\n",
       "<path clip-path=\"url(#clip120)\" d=\"M 0 0 M2080.23 308.188 Q2081.65 305.827 2085.14 303.743 Q2086.51 302.933 2090.72 302.933 Q2095.44 302.933 2098.38 306.683 Q2101.34 310.433 2101.34 316.544 Q2101.34 322.655 2098.38 326.405 Q2095.44 330.155 2090.72 330.155 Q2087.87 330.155 2085.81 329.044 Q2083.78 327.91 2082.43 325.595 L2082.43 339.345 L2078.15 339.345 L2078.15 316.776 Q2078.15 311.429 2080.23 308.188 M2096.92 316.544 Q2096.92 311.845 2094.98 309.183 Q2093.06 306.498 2089.68 306.498 Q2086.3 306.498 2084.35 309.183 Q2082.43 311.845 2082.43 316.544 Q2082.43 321.243 2084.35 323.929 Q2086.3 326.591 2089.68 326.591 Q2093.06 326.591 2094.98 323.929 Q2096.92 321.243 2096.92 316.544 Z\" fill=\"#000000\" fill-rule=\"evenodd\" fill-opacity=\"1\" /></svg>\n"
      ],
      "image/svg+xml": [
       "<?xml version=\"1.0\" encoding=\"utf-8\"?>\n",
       "<svg xmlns=\"http://www.w3.org/2000/svg\" xmlns:xlink=\"http://www.w3.org/1999/xlink\" width=\"600\" height=\"400\" viewBox=\"0 0 2400 1600\">\n",
       "<defs>\n",
       "  <clipPath id=\"clip090\">\n",
       "    <rect x=\"0\" y=\"0\" width=\"2400\" height=\"1600\"/>\n",
       "  </clipPath>\n",
       "</defs>\n",
       "<path clip-path=\"url(#clip090)\" d=\"\n",
       "M0 1600 L2400 1600 L2400 0 L0 0  Z\n",
       "  \" fill=\"#ffffff\" fill-rule=\"evenodd\" fill-opacity=\"1\"/>\n",
       "<defs>\n",
       "  <clipPath id=\"clip091\">\n",
       "    <rect x=\"480\" y=\"0\" width=\"1681\" height=\"1600\"/>\n",
       "  </clipPath>\n",
       "</defs>\n",
       "<path clip-path=\"url(#clip090)\" d=\"\n",
       "M86.9921 1521.01 L2352.76 1521.01 L2352.76 47.2441 L86.9921 47.2441  Z\n",
       "  \" fill=\"#ffffff\" fill-rule=\"evenodd\" fill-opacity=\"1\"/>\n",
       "<defs>\n",
       "  <clipPath id=\"clip092\">\n",
       "    <rect x=\"86\" y=\"47\" width=\"2267\" height=\"1475\"/>\n",
       "  </clipPath>\n",
       "</defs>\n",
       "<polyline clip-path=\"url(#clip092)\" style=\"stroke:#000000; stroke-width:2; stroke-opacity:0.1; fill:none\" points=\"\n",
       "  151.118,1521.01 151.118,47.2441 \n",
       "  \"/>\n",
       "<polyline clip-path=\"url(#clip092)\" style=\"stroke:#000000; stroke-width:2; stroke-opacity:0.1; fill:none\" points=\"\n",
       "  687.981,1521.01 687.981,47.2441 \n",
       "  \"/>\n",
       "<polyline clip-path=\"url(#clip092)\" style=\"stroke:#000000; stroke-width:2; stroke-opacity:0.1; fill:none\" points=\"\n",
       "  1224.84,1521.01 1224.84,47.2441 \n",
       "  \"/>\n",
       "<polyline clip-path=\"url(#clip092)\" style=\"stroke:#000000; stroke-width:2; stroke-opacity:0.1; fill:none\" points=\"\n",
       "  1761.71,1521.01 1761.71,47.2441 \n",
       "  \"/>\n",
       "<polyline clip-path=\"url(#clip092)\" style=\"stroke:#000000; stroke-width:2; stroke-opacity:0.1; fill:none\" points=\"\n",
       "  2298.57,1521.01 2298.57,47.2441 \n",
       "  \"/>\n",
       "<polyline clip-path=\"url(#clip092)\" style=\"stroke:#000000; stroke-width:2; stroke-opacity:0.1; fill:none\" points=\"\n",
       "  86.9921,1479.3 2352.76,1479.3 \n",
       "  \"/>\n",
       "<polyline clip-path=\"url(#clip092)\" style=\"stroke:#000000; stroke-width:2; stroke-opacity:0.1; fill:none\" points=\"\n",
       "  86.9921,1107.38 2352.76,1107.38 \n",
       "  \"/>\n",
       "<polyline clip-path=\"url(#clip092)\" style=\"stroke:#000000; stroke-width:2; stroke-opacity:0.1; fill:none\" points=\"\n",
       "  86.9921,735.461 2352.76,735.461 \n",
       "  \"/>\n",
       "<polyline clip-path=\"url(#clip092)\" style=\"stroke:#000000; stroke-width:2; stroke-opacity:0.1; fill:none\" points=\"\n",
       "  86.9921,363.543 2352.76,363.543 \n",
       "  \"/>\n",
       "<polyline clip-path=\"url(#clip090)\" style=\"stroke:#000000; stroke-width:4; stroke-opacity:1; fill:none\" points=\"\n",
       "  86.9921,1521.01 2352.76,1521.01 \n",
       "  \"/>\n",
       "<polyline clip-path=\"url(#clip090)\" style=\"stroke:#000000; stroke-width:4; stroke-opacity:1; fill:none\" points=\"\n",
       "  86.9921,1521.01 86.9921,47.2441 \n",
       "  \"/>\n",
       "<polyline clip-path=\"url(#clip090)\" style=\"stroke:#000000; stroke-width:4; stroke-opacity:1; fill:none\" points=\"\n",
       "  151.118,1521.01 151.118,1503.32 \n",
       "  \"/>\n",
       "<polyline clip-path=\"url(#clip090)\" style=\"stroke:#000000; stroke-width:4; stroke-opacity:1; fill:none\" points=\"\n",
       "  687.981,1521.01 687.981,1503.32 \n",
       "  \"/>\n",
       "<polyline clip-path=\"url(#clip090)\" style=\"stroke:#000000; stroke-width:4; stroke-opacity:1; fill:none\" points=\"\n",
       "  1224.84,1521.01 1224.84,1503.32 \n",
       "  \"/>\n",
       "<polyline clip-path=\"url(#clip090)\" style=\"stroke:#000000; stroke-width:4; stroke-opacity:1; fill:none\" points=\"\n",
       "  1761.71,1521.01 1761.71,1503.32 \n",
       "  \"/>\n",
       "<polyline clip-path=\"url(#clip090)\" style=\"stroke:#000000; stroke-width:4; stroke-opacity:1; fill:none\" points=\"\n",
       "  2298.57,1521.01 2298.57,1503.32 \n",
       "  \"/>\n",
       "<polyline clip-path=\"url(#clip090)\" style=\"stroke:#000000; stroke-width:4; stroke-opacity:1; fill:none\" points=\"\n",
       "  86.9921,1479.3 114.181,1479.3 \n",
       "  \"/>\n",
       "<polyline clip-path=\"url(#clip090)\" style=\"stroke:#000000; stroke-width:4; stroke-opacity:1; fill:none\" points=\"\n",
       "  86.9921,1107.38 114.181,1107.38 \n",
       "  \"/>\n",
       "<polyline clip-path=\"url(#clip090)\" style=\"stroke:#000000; stroke-width:4; stroke-opacity:1; fill:none\" points=\"\n",
       "  86.9921,735.461 114.181,735.461 \n",
       "  \"/>\n",
       "<polyline clip-path=\"url(#clip090)\" style=\"stroke:#000000; stroke-width:4; stroke-opacity:1; fill:none\" points=\"\n",
       "  86.9921,363.543 114.181,363.543 \n",
       "  \"/>\n",
       "<path clip-path=\"url(#clip090)\" d=\"M 0 0 M132.634 1543 Q129.023 1543 127.194 1546.56 Q125.388 1550.11 125.388 1557.23 Q125.388 1564.34 127.194 1567.91 Q129.023 1571.45 132.634 1571.45 Q136.268 1571.45 138.074 1567.91 Q139.902 1564.34 139.902 1557.23 Q139.902 1550.11 138.074 1546.56 Q136.268 1543 132.634 1543 M132.634 1539.29 Q138.444 1539.29 141.5 1543.9 Q144.578 1548.48 144.578 1557.23 Q144.578 1565.96 141.5 1570.57 Q138.444 1575.15 132.634 1575.15 Q126.824 1575.15 123.745 1570.57 Q120.689 1565.96 120.689 1557.23 Q120.689 1548.48 123.745 1543.9 Q126.824 1539.29 132.634 1539.29 Z\" fill=\"#000000\" fill-rule=\"evenodd\" fill-opacity=\"1\" /><path clip-path=\"url(#clip090)\" d=\"M 0 0 M149.648 1568.6 L154.532 1568.6 L154.532 1574.48 L149.648 1574.48 L149.648 1568.6 Z\" fill=\"#000000\" fill-rule=\"evenodd\" fill-opacity=\"1\" /><path clip-path=\"url(#clip090)\" d=\"M 0 0 M169.601 1543 Q165.99 1543 164.161 1546.56 Q162.356 1550.11 162.356 1557.23 Q162.356 1564.34 164.161 1567.91 Q165.99 1571.45 169.601 1571.45 Q173.235 1571.45 175.041 1567.91 Q176.87 1564.34 176.87 1557.23 Q176.87 1550.11 175.041 1546.56 Q173.235 1543 169.601 1543 M169.601 1539.29 Q175.411 1539.29 178.467 1543.9 Q181.546 1548.48 181.546 1557.23 Q181.546 1565.96 178.467 1570.57 Q175.411 1575.15 169.601 1575.15 Q163.791 1575.15 160.712 1570.57 Q157.657 1565.96 157.657 1557.23 Q157.657 1548.48 160.712 1543.9 Q163.791 1539.29 169.601 1539.29 Z\" fill=\"#000000\" fill-rule=\"evenodd\" fill-opacity=\"1\" /><path clip-path=\"url(#clip090)\" d=\"M 0 0 M664.648 1570.54 L680.967 1570.54 L680.967 1574.48 L659.023 1574.48 L659.023 1570.54 Q661.685 1567.79 666.268 1563.16 Q670.875 1558.51 672.055 1557.17 Q674.301 1554.64 675.18 1552.91 Q676.083 1551.15 676.083 1549.46 Q676.083 1546.7 674.139 1544.97 Q672.217 1543.23 669.116 1543.23 Q666.917 1543.23 664.463 1543.99 Q662.032 1544.76 659.255 1546.31 L659.255 1541.59 Q662.079 1540.45 664.532 1539.87 Q666.986 1539.29 669.023 1539.29 Q674.393 1539.29 677.588 1541.98 Q680.782 1544.67 680.782 1549.16 Q680.782 1551.29 679.972 1553.21 Q679.185 1555.1 677.079 1557.7 Q676.5 1558.37 673.398 1561.59 Q670.296 1564.78 664.648 1570.54 Z\" fill=\"#000000\" fill-rule=\"evenodd\" fill-opacity=\"1\" /><path clip-path=\"url(#clip090)\" d=\"M 0 0 M686.037 1568.6 L690.921 1568.6 L690.921 1574.48 L686.037 1574.48 L686.037 1568.6 Z\" fill=\"#000000\" fill-rule=\"evenodd\" fill-opacity=\"1\" /><path clip-path=\"url(#clip090)\" d=\"M 0 0 M696.037 1539.92 L714.393 1539.92 L714.393 1543.86 L700.319 1543.86 L700.319 1552.33 Q701.338 1551.98 702.356 1551.82 Q703.375 1551.63 704.393 1551.63 Q710.18 1551.63 713.56 1554.8 Q716.939 1557.98 716.939 1563.39 Q716.939 1568.97 713.467 1572.07 Q709.995 1575.15 703.676 1575.15 Q701.5 1575.15 699.231 1574.78 Q696.986 1574.41 694.578 1573.67 L694.578 1568.97 Q696.662 1570.1 698.884 1570.66 Q701.106 1571.22 703.583 1571.22 Q707.588 1571.22 709.926 1569.11 Q712.264 1567 712.264 1563.39 Q712.264 1559.78 709.926 1557.67 Q707.588 1555.57 703.583 1555.57 Q701.708 1555.57 699.833 1555.98 Q697.981 1556.4 696.037 1557.28 L696.037 1539.92 Z\" fill=\"#000000\" fill-rule=\"evenodd\" fill-opacity=\"1\" /><path clip-path=\"url(#clip090)\" d=\"M 0 0 M1196.64 1539.92 L1215 1539.92 L1215 1543.86 L1200.92 1543.86 L1200.92 1552.33 Q1201.94 1551.98 1202.96 1551.82 Q1203.98 1551.63 1205 1551.63 Q1210.78 1551.63 1214.16 1554.8 Q1217.54 1557.98 1217.54 1563.39 Q1217.54 1568.97 1214.07 1572.07 Q1210.6 1575.15 1204.28 1575.15 Q1202.1 1575.15 1199.83 1574.78 Q1197.59 1574.41 1195.18 1573.67 L1195.18 1568.97 Q1197.26 1570.1 1199.49 1570.66 Q1201.71 1571.22 1204.19 1571.22 Q1208.19 1571.22 1210.53 1569.11 Q1212.87 1567 1212.87 1563.39 Q1212.87 1559.78 1210.53 1557.67 Q1208.19 1555.57 1204.19 1555.57 Q1202.31 1555.57 1200.44 1555.98 Q1198.58 1556.4 1196.64 1557.28 L1196.64 1539.92 Z\" fill=\"#000000\" fill-rule=\"evenodd\" fill-opacity=\"1\" /><path clip-path=\"url(#clip090)\" d=\"M 0 0 M1222.61 1568.6 L1227.5 1568.6 L1227.5 1574.48 L1222.61 1574.48 L1222.61 1568.6 Z\" fill=\"#000000\" fill-rule=\"evenodd\" fill-opacity=\"1\" /><path clip-path=\"url(#clip090)\" d=\"M 0 0 M1242.56 1543 Q1238.95 1543 1237.13 1546.56 Q1235.32 1550.11 1235.32 1557.23 Q1235.32 1564.34 1237.13 1567.91 Q1238.95 1571.45 1242.56 1571.45 Q1246.2 1571.45 1248 1567.91 Q1249.83 1564.34 1249.83 1557.23 Q1249.83 1550.11 1248 1546.56 Q1246.2 1543 1242.56 1543 M1242.56 1539.29 Q1248.37 1539.29 1251.43 1543.9 Q1254.51 1548.48 1254.51 1557.23 Q1254.51 1565.96 1251.43 1570.57 Q1248.37 1575.15 1242.56 1575.15 Q1236.75 1575.15 1233.68 1570.57 Q1230.62 1565.96 1230.62 1557.23 Q1230.62 1548.48 1233.68 1543.9 Q1236.75 1539.29 1242.56 1539.29 Z\" fill=\"#000000\" fill-rule=\"evenodd\" fill-opacity=\"1\" /><path clip-path=\"url(#clip090)\" d=\"M 0 0 M1732.61 1539.92 L1754.83 1539.92 L1754.83 1541.91 L1742.29 1574.48 L1737.4 1574.48 L1749.21 1543.86 L1732.61 1543.86 L1732.61 1539.92 Z\" fill=\"#000000\" fill-rule=\"evenodd\" fill-opacity=\"1\" /><path clip-path=\"url(#clip090)\" d=\"M 0 0 M1759.9 1568.6 L1764.79 1568.6 L1764.79 1574.48 L1759.9 1574.48 L1759.9 1568.6 Z\" fill=\"#000000\" fill-rule=\"evenodd\" fill-opacity=\"1\" /><path clip-path=\"url(#clip090)\" d=\"M 0 0 M1769.9 1539.92 L1788.26 1539.92 L1788.26 1543.86 L1774.19 1543.86 L1774.19 1552.33 Q1775.2 1551.98 1776.22 1551.82 Q1777.24 1551.63 1778.26 1551.63 Q1784.05 1551.63 1787.43 1554.8 Q1790.81 1557.98 1790.81 1563.39 Q1790.81 1568.97 1787.33 1572.07 Q1783.86 1575.15 1777.54 1575.15 Q1775.37 1575.15 1773.1 1574.78 Q1770.85 1574.41 1768.44 1573.67 L1768.44 1568.97 Q1770.53 1570.1 1772.75 1570.66 Q1774.97 1571.22 1777.45 1571.22 Q1781.45 1571.22 1783.79 1569.11 Q1786.13 1567 1786.13 1563.39 Q1786.13 1559.78 1783.79 1557.67 Q1781.45 1555.57 1777.45 1555.57 Q1775.57 1555.57 1773.7 1555.98 Q1771.85 1556.4 1769.9 1557.28 L1769.9 1539.92 Z\" fill=\"#000000\" fill-rule=\"evenodd\" fill-opacity=\"1\" /><path clip-path=\"url(#clip090)\" d=\"M 0 0 M2256.96 1570.54 L2264.6 1570.54 L2264.6 1544.18 L2256.29 1545.85 L2256.29 1541.59 L2264.56 1539.92 L2269.23 1539.92 L2269.23 1570.54 L2276.87 1570.54 L2276.87 1574.48 L2256.96 1574.48 L2256.96 1570.54 Z\" fill=\"#000000\" fill-rule=\"evenodd\" fill-opacity=\"1\" /><path clip-path=\"url(#clip090)\" d=\"M 0 0 M2291.94 1543 Q2288.33 1543 2286.5 1546.56 Q2284.7 1550.11 2284.7 1557.23 Q2284.7 1564.34 2286.5 1567.91 Q2288.33 1571.45 2291.94 1571.45 Q2295.57 1571.45 2297.38 1567.91 Q2299.21 1564.34 2299.21 1557.23 Q2299.21 1550.11 2297.38 1546.56 Q2295.57 1543 2291.94 1543 M2291.94 1539.29 Q2297.75 1539.29 2300.81 1543.9 Q2303.88 1548.48 2303.88 1557.23 Q2303.88 1565.96 2300.81 1570.57 Q2297.75 1575.15 2291.94 1575.15 Q2286.13 1575.15 2283.05 1570.57 Q2280 1565.96 2280 1557.23 Q2280 1548.48 2283.05 1543.9 Q2286.13 1539.29 2291.94 1539.29 Z\" fill=\"#000000\" fill-rule=\"evenodd\" fill-opacity=\"1\" /><path clip-path=\"url(#clip090)\" d=\"M 0 0 M2308.95 1568.6 L2313.84 1568.6 L2313.84 1574.48 L2308.95 1574.48 L2308.95 1568.6 Z\" fill=\"#000000\" fill-rule=\"evenodd\" fill-opacity=\"1\" /><path clip-path=\"url(#clip090)\" d=\"M 0 0 M2328.91 1543 Q2325.3 1543 2323.47 1546.56 Q2321.66 1550.11 2321.66 1557.23 Q2321.66 1564.34 2323.47 1567.91 Q2325.3 1571.45 2328.91 1571.45 Q2332.54 1571.45 2334.35 1567.91 Q2336.18 1564.34 2336.18 1557.23 Q2336.18 1550.11 2334.35 1546.56 Q2332.54 1543 2328.91 1543 M2328.91 1539.29 Q2334.72 1539.29 2337.77 1543.9 Q2340.85 1548.48 2340.85 1557.23 Q2340.85 1565.96 2337.77 1570.57 Q2334.72 1575.15 2328.91 1575.15 Q2323.1 1575.15 2320.02 1570.57 Q2316.96 1565.96 2316.96 1557.23 Q2316.96 1548.48 2320.02 1543.9 Q2323.1 1539.29 2328.91 1539.29 Z\" fill=\"#000000\" fill-rule=\"evenodd\" fill-opacity=\"1\" /><path clip-path=\"url(#clip090)\" d=\"M 0 0 M14.0804 1465.1 Q10.4693 1465.1 8.64057 1468.66 Q6.83502 1472.2 6.83502 1479.33 Q6.83502 1486.44 8.64057 1490 Q10.4693 1493.55 14.0804 1493.55 Q17.7146 1493.55 19.5201 1490 Q21.3488 1486.44 21.3488 1479.33 Q21.3488 1472.2 19.5201 1468.66 Q17.7146 1465.1 14.0804 1465.1 M14.0804 1461.39 Q19.8905 1461.39 22.946 1466 Q26.0247 1470.58 26.0247 1479.33 Q26.0247 1488.06 22.946 1492.67 Q19.8905 1497.25 14.0804 1497.25 Q8.2702 1497.25 5.19151 1492.67 Q2.13597 1488.06 2.13597 1479.33 Q2.13597 1470.58 5.19151 1466 Q8.2702 1461.39 14.0804 1461.39 Z\" fill=\"#000000\" fill-rule=\"evenodd\" fill-opacity=\"1\" /><path clip-path=\"url(#clip090)\" d=\"M 0 0 M31.0941 1490.7 L35.9784 1490.7 L35.9784 1496.58 L31.0941 1496.58 L31.0941 1490.7 Z\" fill=\"#000000\" fill-rule=\"evenodd\" fill-opacity=\"1\" /><path clip-path=\"url(#clip090)\" d=\"M 0 0 M51.0477 1465.1 Q47.4367 1465.1 45.608 1468.66 Q43.8024 1472.2 43.8024 1479.33 Q43.8024 1486.44 45.608 1490 Q47.4367 1493.55 51.0477 1493.55 Q54.682 1493.55 56.4875 1490 Q58.3162 1486.44 58.3162 1479.33 Q58.3162 1472.2 56.4875 1468.66 Q54.682 1465.1 51.0477 1465.1 M51.0477 1461.39 Q56.8579 1461.39 59.9134 1466 Q62.9921 1470.58 62.9921 1479.33 Q62.9921 1488.06 59.9134 1492.67 Q56.8579 1497.25 51.0477 1497.25 Q45.2376 1497.25 42.1589 1492.67 Q39.1034 1488.06 39.1034 1479.33 Q39.1034 1470.58 42.1589 1466 Q45.2376 1461.39 51.0477 1461.39 Z\" fill=\"#000000\" fill-rule=\"evenodd\" fill-opacity=\"1\" /><path clip-path=\"url(#clip090)\" d=\"M 0 0 M15.6776 1093.18 Q12.0665 1093.18 10.2378 1096.74 Q8.43223 1100.28 8.43223 1107.41 Q8.43223 1114.52 10.2378 1118.09 Q12.0665 1121.63 15.6776 1121.63 Q19.3118 1121.63 21.1174 1118.09 Q22.946 1114.52 22.946 1107.41 Q22.946 1100.28 21.1174 1096.74 Q19.3118 1093.18 15.6776 1093.18 M15.6776 1089.47 Q21.4877 1089.47 24.5433 1094.08 Q27.6219 1098.66 27.6219 1107.41 Q27.6219 1116.14 24.5433 1120.75 Q21.4877 1125.33 15.6776 1125.33 Q9.86741 1125.33 6.78872 1120.75 Q3.73318 1116.14 3.73318 1107.41 Q3.73318 1098.66 6.78872 1094.08 Q9.86741 1089.47 15.6776 1089.47 Z\" fill=\"#000000\" fill-rule=\"evenodd\" fill-opacity=\"1\" /><path clip-path=\"url(#clip090)\" d=\"M 0 0 M32.6914 1118.78 L37.5756 1118.78 L37.5756 1124.66 L32.6914 1124.66 L32.6914 1118.78 Z\" fill=\"#000000\" fill-rule=\"evenodd\" fill-opacity=\"1\" /><path clip-path=\"url(#clip090)\" d=\"M 0 0 M46.6728 1120.72 L62.9921 1120.72 L62.9921 1124.66 L41.0478 1124.66 L41.0478 1120.72 Q43.7098 1117.97 48.2931 1113.34 Q52.8996 1108.69 54.0801 1107.34 Q56.3255 1104.82 57.2051 1103.09 Q58.1079 1101.33 58.1079 1099.64 Q58.1079 1096.88 56.1635 1095.15 Q54.2422 1093.41 51.1403 1093.41 Q48.9413 1093.41 46.4876 1094.17 Q44.057 1094.94 41.2793 1096.49 L41.2793 1091.77 Q44.1033 1090.63 46.557 1090.05 Q49.0107 1089.47 51.0477 1089.47 Q56.4181 1089.47 59.6125 1092.16 Q62.8069 1094.84 62.8069 1099.34 Q62.8069 1101.46 61.9968 1103.39 Q61.2097 1105.28 59.1033 1107.88 Q58.5246 1108.55 55.4227 1111.77 Q52.3209 1114.96 46.6728 1120.72 Z\" fill=\"#000000\" fill-rule=\"evenodd\" fill-opacity=\"1\" /><path clip-path=\"url(#clip090)\" d=\"M 0 0 M13.5942 721.26 Q9.98315 721.26 8.15446 724.825 Q6.34891 728.366 6.34891 735.496 Q6.34891 742.602 8.15446 746.167 Q9.98315 749.709 13.5942 749.709 Q17.2285 749.709 19.034 746.167 Q20.8627 742.602 20.8627 735.496 Q20.8627 728.366 19.034 724.825 Q17.2285 721.26 13.5942 721.26 M13.5942 717.556 Q19.4044 717.556 22.4599 722.162 Q25.5386 726.746 25.5386 735.496 Q25.5386 744.223 22.4599 748.829 Q19.4044 753.412 13.5942 753.412 Q7.78409 753.412 4.7054 748.829 Q1.64986 744.223 1.64986 735.496 Q1.64986 726.746 4.7054 722.162 Q7.78409 717.556 13.5942 717.556 Z\" fill=\"#000000\" fill-rule=\"evenodd\" fill-opacity=\"1\" /><path clip-path=\"url(#clip090)\" d=\"M 0 0 M30.608 746.861 L35.4923 746.861 L35.4923 752.741 L30.608 752.741 L30.608 746.861 Z\" fill=\"#000000\" fill-rule=\"evenodd\" fill-opacity=\"1\" /><path clip-path=\"url(#clip090)\" d=\"M 0 0 M53.4088 722.255 L41.6034 740.704 L53.4088 740.704 L53.4088 722.255 M52.182 718.181 L58.0616 718.181 L58.0616 740.704 L62.9921 740.704 L62.9921 744.593 L58.0616 744.593 L58.0616 752.741 L53.4088 752.741 L53.4088 744.593 L37.8071 744.593 L37.8071 740.079 L52.182 718.181 Z\" fill=\"#000000\" fill-rule=\"evenodd\" fill-opacity=\"1\" /><path clip-path=\"url(#clip090)\" d=\"M 0 0 M13.9183 349.341 Q10.3072 349.341 8.47853 352.906 Q6.67298 356.448 6.67298 363.577 Q6.67298 370.684 8.47853 374.249 Q10.3072 377.79 13.9183 377.79 Q17.5526 377.79 19.3581 374.249 Q21.1868 370.684 21.1868 363.577 Q21.1868 356.448 19.3581 352.906 Q17.5526 349.341 13.9183 349.341 M13.9183 345.638 Q19.7285 345.638 22.784 350.244 Q25.8627 354.828 25.8627 363.577 Q25.8627 372.304 22.784 376.911 Q19.7285 381.494 13.9183 381.494 Q8.10816 381.494 5.02947 376.911 Q1.97393 372.304 1.97393 363.577 Q1.97393 354.828 5.02947 350.244 Q8.10816 345.638 13.9183 345.638 Z\" fill=\"#000000\" fill-rule=\"evenodd\" fill-opacity=\"1\" /><path clip-path=\"url(#clip090)\" d=\"M 0 0 M30.9321 374.943 L35.8163 374.943 L35.8163 380.823 L30.9321 380.823 L30.9321 374.943 Z\" fill=\"#000000\" fill-rule=\"evenodd\" fill-opacity=\"1\" /><path clip-path=\"url(#clip090)\" d=\"M 0 0 M51.4644 361.679 Q48.3163 361.679 46.4644 363.832 Q44.6357 365.985 44.6357 369.735 Q44.6357 373.462 46.4644 375.638 Q48.3163 377.79 51.4644 377.79 Q54.6125 377.79 56.4412 375.638 Q58.2931 373.462 58.2931 369.735 Q58.2931 365.985 56.4412 363.832 Q54.6125 361.679 51.4644 361.679 M60.7468 347.027 L60.7468 351.286 Q58.9875 350.453 57.182 350.013 Q55.3996 349.573 53.6403 349.573 Q49.0107 349.573 46.557 352.698 Q44.1265 355.823 43.7793 362.142 Q45.145 360.128 47.2052 359.064 Q49.2653 357.976 51.7422 357.976 Q56.9505 357.976 59.9597 361.147 Q62.9921 364.295 62.9921 369.735 Q62.9921 375.059 59.844 378.276 Q56.6959 381.494 51.4644 381.494 Q45.4691 381.494 42.2978 376.911 Q39.1265 372.304 39.1265 363.577 Q39.1265 355.383 43.0154 350.522 Q46.9042 345.638 53.4551 345.638 Q55.2144 345.638 56.9968 345.985 Q58.8023 346.332 60.7468 347.027 Z\" fill=\"#000000\" fill-rule=\"evenodd\" fill-opacity=\"1\" /><polyline clip-path=\"url(#clip092)\" style=\"stroke:#009af9; stroke-width:4; stroke-opacity:1; fill:none\" points=\"\n",
       "  151.118,1479.3 161.059,1479.3 171.001,1479.3 180.943,1479.3 190.885,1479.3 200.827,1479.3 210.769,1479.3 220.711,1479.3 230.653,1479.3 240.595,1479.3 \n",
       "  250.537,1479.3 260.479,1479.3 270.421,1479.29 280.362,1479.29 290.304,1479.29 300.246,1479.29 310.188,1479.29 320.13,1479.28 330.072,1479.28 340.014,1479.27 \n",
       "  349.956,1479.27 359.898,1479.26 369.84,1479.25 379.782,1479.23 389.724,1479.22 399.666,1479.19 409.607,1479.16 419.549,1479.13 429.491,1479.08 439.433,1479.03 \n",
       "  449.375,1478.95 459.317,1478.87 469.259,1478.76 479.201,1478.63 489.143,1478.46 499.085,1478.26 509.027,1478.02 518.969,1477.72 528.911,1477.36 538.852,1476.93 \n",
       "  548.794,1476.4 558.736,1475.78 568.678,1475.03 578.62,1474.14 588.562,1473.08 598.504,1471.83 608.446,1470.36 618.388,1468.63 628.33,1466.61 638.272,1464.25 \n",
       "  648.214,1461.51 658.155,1458.33 668.097,1454.67 678.039,1450.47 687.981,1445.65 697.923,1440.15 707.865,1433.91 717.807,1426.83 727.749,1418.85 737.691,1409.89 \n",
       "  747.633,1399.85 757.575,1388.66 767.517,1376.22 777.459,1362.47 787.4,1347.31 797.342,1330.68 807.284,1312.5 817.226,1292.72 827.168,1271.28 837.11,1248.14 \n",
       "  847.052,1223.27 856.994,1196.67 866.936,1168.34 876.878,1138.29 886.82,1106.58 896.762,1073.25 906.704,1038.39 916.645,1002.11 926.587,964.505 936.529,925.73 \n",
       "  946.471,885.935 956.413,845.288 966.355,803.974 976.297,762.188 986.239,720.132 996.181,678.015 1006.12,636.049 1016.06,594.446 1026.01,553.416 1035.95,513.162 \n",
       "  1045.89,473.884 1055.83,435.769 1065.77,398.994 1075.72,363.725 1085.66,330.115 1095.6,298.302 1105.54,268.414 1115.48,240.562 1125.43,214.845 1135.37,191.35 \n",
       "  1145.31,170.152 1155.25,151.313 1165.19,134.889 1175.14,120.922 1185.08,109.449 1195.02,100.498 1204.96,94.0896 1214.9,90.2389 1224.84,88.9544 1234.79,90.2389 \n",
       "  1244.73,94.0896 1254.67,100.498 1264.61,109.449 1274.55,120.922 1284.5,134.889 1294.44,151.313 1304.38,170.152 1314.32,191.35 1324.26,214.845 1334.21,240.562 \n",
       "  1344.15,268.414 1354.09,298.302 1364.03,330.115 1373.97,363.725 1383.92,398.994 1393.86,435.769 1403.8,473.884 1413.74,513.162 1423.68,553.416 1433.63,594.446 \n",
       "  1443.57,636.049 1453.51,678.015 1463.45,720.132 1473.39,762.188 1483.33,803.974 1493.28,845.288 1503.22,885.935 1513.16,925.73 1523.1,964.505 1533.04,1002.11 \n",
       "  1542.99,1038.39 1552.93,1073.25 1562.87,1106.58 1572.81,1138.29 1582.75,1168.34 1592.7,1196.67 1602.64,1223.27 1612.58,1248.14 1622.52,1271.28 1632.46,1292.72 \n",
       "  1642.41,1312.5 1652.35,1330.68 1662.29,1347.31 1672.23,1362.47 1682.17,1376.22 1692.12,1388.66 1702.06,1399.85 1712,1409.89 1721.94,1418.85 1731.88,1426.83 \n",
       "  1741.82,1433.91 1751.77,1440.15 1761.71,1445.65 1771.65,1450.47 1781.59,1454.67 1791.53,1458.33 1801.48,1461.51 1811.42,1464.25 1821.36,1466.61 1831.3,1468.63 \n",
       "  1841.24,1470.36 1851.19,1471.83 1861.13,1473.08 1871.07,1474.14 1881.01,1475.03 1890.95,1475.78 1900.9,1476.4 1910.84,1476.93 1920.78,1477.36 1930.72,1477.72 \n",
       "  1940.66,1478.02 1950.61,1478.26 1960.55,1478.46 1970.49,1478.63 1980.43,1478.76 1990.37,1478.87 2000.31,1478.95 2010.26,1479.03 2020.2,1479.08 2030.14,1479.13 \n",
       "  2040.08,1479.16 2050.02,1479.19 2059.97,1479.22 2069.91,1479.23 2079.85,1479.25 2089.79,1479.26 2099.73,1479.27 2109.68,1479.27 2119.62,1479.28 2129.56,1479.28 \n",
       "  2139.5,1479.29 2149.44,1479.29 2159.39,1479.29 2169.33,1479.29 2179.27,1479.29 2189.21,1479.3 2199.15,1479.3 2209.1,1479.3 2219.04,1479.3 2228.98,1479.3 \n",
       "  2238.92,1479.3 2248.86,1479.3 2258.8,1479.3 2268.75,1479.3 2278.69,1479.3 2288.63,1479.3 \n",
       "  \"/>\n",
       "<polyline clip-path=\"url(#clip092)\" style=\"stroke:#e26f46; stroke-width:4; stroke-opacity:1; fill:none\" points=\"\n",
       "  151.118,1479.3 161.059,1479.3 171.001,1479.3 180.943,1479.3 190.885,1479.3 200.827,1479.3 210.769,1479.3 220.711,1479.3 230.653,1479.3 240.595,1479.3 \n",
       "  250.537,1479.3 260.479,1479.3 270.421,1479.3 280.362,1479.3 290.304,1479.3 300.246,1479.3 310.188,1479.3 320.13,1479.3 330.072,1479.3 340.014,1479.3 \n",
       "  349.956,1479.3 359.898,1479.3 369.84,1479.3 379.782,1479.3 389.724,1479.3 399.666,1479.3 409.607,1479.3 419.549,1479.3 429.491,1479.3 439.433,1479.3 \n",
       "  449.375,1479.3 459.317,1479.3 469.259,1479.3 479.201,1479.3 489.143,1479.3 499.085,1479.3 509.027,1479.3 518.969,1479.3 528.911,1479.3 538.852,1479.3 \n",
       "  548.794,1479.3 558.736,1479.3 568.678,1479.3 578.62,1479.3 588.562,1479.3 598.504,1479.3 608.446,1479.3 618.388,1479.3 628.33,1479.3 638.272,1479.3 \n",
       "  648.214,1479.3 658.155,1479.3 668.097,1479.3 678.039,1479.3 687.981,1479.3 697.923,1479.3 707.865,1479.3 717.807,1479.3 727.749,1479.3 737.691,1479.3 \n",
       "  747.633,1479.3 757.575,1479.3 767.517,1479.3 777.459,1479.3 787.4,1479.3 797.342,1479.3 807.284,1479.3 817.226,1479.3 827.168,1479.3 837.11,1479.3 \n",
       "  847.052,1479.3 856.994,1479.3 866.936,1479.3 876.878,1479.3 886.82,1479.3 896.762,1479.3 906.704,1479.3 916.645,1479.3 926.587,1479.3 936.529,1479.3 \n",
       "  946.471,1479.3 956.413,1479.3 966.355,1479.3 976.297,1479.3 986.239,1479.3 996.181,1479.3 1006.12,1479.3 1016.06,1479.3 1026.01,1479.3 1035.95,1479.3 \n",
       "  1045.89,1479.3 1055.83,1479.3 1065.77,1479.3 1075.72,1479.3 1085.66,1479.3 1095.6,1479.3 1105.54,1479.3 1115.48,1479.3 1125.43,1479.3 1135.37,1479.3 \n",
       "  1145.31,1479.3 1155.25,1479.3 1165.19,1479.3 1175.14,1479.3 1185.08,1479.3 1195.02,1479.3 1204.96,1479.3 1214.9,1479.3 1224.84,1479.3 1234.79,1479.3 \n",
       "  1244.73,1479.3 1254.67,1479.3 1264.61,1479.3 1274.55,1479.3 1284.5,1479.3 1294.44,1479.3 1304.38,1479.3 1314.32,1479.3 1324.26,1479.3 1334.21,1479.3 \n",
       "  1344.15,1479.3 1354.09,1479.3 1364.03,1479.3 1373.97,1479.3 1383.92,1479.3 1393.86,1479.3 1403.8,1479.3 1413.74,1479.3 1423.68,1479.3 1433.63,1479.3 \n",
       "  1443.57,1479.3 1453.51,1479.3 1463.45,1479.3 1473.39,1479.3 1483.33,1479.3 1493.28,1479.3 1503.22,1479.3 1513.16,1479.3 1523.1,1479.3 1533.04,1479.3 \n",
       "  1542.99,1479.3 1552.93,1479.3 1562.87,1479.3 1572.81,1479.3 1582.75,1479.3 1592.7,1479.3 1602.64,1479.3 1612.58,1479.3 1622.52,1479.3 1632.46,1479.3 \n",
       "  1642.41,1479.3 1652.35,1479.3 1662.29,1479.3 1672.23,1479.3 1682.17,1479.3 1692.12,1479.3 1702.06,1479.3 1712,1479.3 1721.94,1479.3 1731.88,1479.3 \n",
       "  1741.82,1479.3 1751.77,1479.3 1761.71,1479.3 1771.65,1479.3 1781.59,1479.3 1791.53,1479.3 1801.48,1479.3 1811.42,1479.3 1821.36,1479.3 1831.3,1479.3 \n",
       "  1841.24,1479.3 1851.19,1479.3 1861.13,1479.3 1871.07,1479.3 1881.01,1479.3 1890.95,1479.3 1900.9,1479.3 1910.84,1479.3 1920.78,1479.3 1930.72,1479.3 \n",
       "  1940.66,1479.3 1950.61,1479.3 1960.55,1479.3 1970.49,1479.3 1980.43,1479.3 1990.37,1479.3 2000.31,1479.3 2010.26,1479.3 2020.2,1479.3 2030.14,1479.3 \n",
       "  2040.08,1479.3 2050.02,1479.3 2059.97,1479.3 2069.91,1479.3 2079.85,1479.3 2089.79,1479.3 2099.73,1479.3 2109.68,1479.3 2119.62,1479.3 2129.56,1479.3 \n",
       "  2139.5,1479.3 2149.44,1479.3 2159.39,1479.3 2169.33,1479.3 2179.27,1479.3 2189.21,1479.3 2199.15,1479.3 2209.1,1479.3 2219.04,1479.3 2228.98,1479.3 \n",
       "  2238.92,1479.3 2248.86,1479.3 2258.8,1479.3 2268.75,1479.3 2278.69,1479.3 2288.63,1479.3 \n",
       "  \"/>\n",
       "<polyline clip-path=\"url(#clip092)\" style=\"stroke:#3da44d; stroke-width:4; stroke-opacity:1; fill:none\" points=\"\n",
       "  151.118,1479.3 161.059,1479.3 171.001,1479.3 180.943,1479.3 190.885,1479.3 200.827,1479.3 210.769,1479.3 220.711,1479.3 230.653,1479.3 240.595,1479.3 \n",
       "  250.537,1479.3 260.479,1479.3 270.421,1479.3 280.362,1479.3 290.304,1479.3 300.246,1479.3 310.188,1479.3 320.13,1479.3 330.072,1479.3 340.014,1479.3 \n",
       "  349.956,1479.3 359.898,1479.3 369.84,1479.3 379.782,1479.3 389.724,1479.3 399.666,1479.3 409.607,1479.3 419.549,1479.3 429.491,1479.3 439.433,1479.3 \n",
       "  449.375,1479.3 459.317,1479.3 469.259,1479.3 479.201,1479.3 489.143,1479.3 499.085,1479.3 509.027,1479.3 518.969,1479.3 528.911,1479.3 538.852,1479.29 \n",
       "  548.794,1479.29 558.736,1479.29 568.678,1479.29 578.62,1479.28 588.562,1479.28 598.504,1479.27 608.446,1479.25 618.388,1479.24 628.33,1479.21 638.272,1479.18 \n",
       "  648.214,1479.13 658.155,1479.06 668.097,1478.97 678.039,1478.85 687.981,1478.69 697.923,1478.47 707.865,1478.19 717.807,1477.82 727.749,1477.33 737.691,1476.71 \n",
       "  747.633,1475.9 757.575,1474.88 767.517,1473.58 777.459,1471.96 787.4,1469.93 797.342,1467.42 807.284,1464.34 817.226,1460.58 827.168,1456.03 837.11,1450.56 \n",
       "  847.052,1444.05 856.994,1436.34 866.936,1427.3 876.878,1416.76 886.82,1404.59 896.762,1390.64 906.704,1374.76 916.645,1356.84 926.587,1336.79 936.529,1314.51 \n",
       "  946.471,1289.97 956.413,1263.14 966.355,1234.05 976.297,1202.76 986.239,1169.37 996.181,1134.03 1006.12,1096.92 1016.06,1058.26 1026.01,1018.31 1035.95,977.35 \n",
       "  1045.89,935.707 1055.83,893.71 1065.77,851.71 1075.72,810.063 1085.66,769.13 1095.6,729.267 1105.54,690.824 1115.48,654.135 1125.43,619.517 1135.37,587.269 \n",
       "  1145.31,557.663 1155.25,530.948 1165.19,507.345 1175.14,487.045 1185.08,470.213 1195.02,456.982 1204.96,447.457 1214.9,441.713 1224.84,439.793 1234.79,441.713 \n",
       "  1244.73,447.457 1254.67,456.982 1264.61,470.213 1274.55,487.045 1284.5,507.345 1294.44,530.948 1304.38,557.663 1314.32,587.269 1324.26,619.517 1334.21,654.135 \n",
       "  1344.15,690.824 1354.09,729.267 1364.03,769.13 1373.97,810.063 1383.92,851.71 1393.86,893.71 1403.8,935.707 1413.74,977.35 1423.68,1018.31 1433.63,1058.26 \n",
       "  1443.57,1096.92 1453.51,1134.03 1463.45,1169.37 1473.39,1202.76 1483.33,1234.05 1493.28,1263.14 1503.22,1289.97 1513.16,1314.51 1523.1,1336.79 1533.04,1356.84 \n",
       "  1542.99,1374.76 1552.93,1390.64 1562.87,1404.59 1572.81,1416.76 1582.75,1427.3 1592.7,1436.34 1602.64,1444.05 1612.58,1450.56 1622.52,1456.03 1632.46,1460.58 \n",
       "  1642.41,1464.34 1652.35,1467.42 1662.29,1469.93 1672.23,1471.96 1682.17,1473.58 1692.12,1474.88 1702.06,1475.9 1712,1476.71 1721.94,1477.33 1731.88,1477.82 \n",
       "  1741.82,1478.19 1751.77,1478.47 1761.71,1478.69 1771.65,1478.85 1781.59,1478.97 1791.53,1479.06 1801.48,1479.13 1811.42,1479.18 1821.36,1479.21 1831.3,1479.24 \n",
       "  1841.24,1479.25 1851.19,1479.27 1861.13,1479.28 1871.07,1479.28 1881.01,1479.29 1890.95,1479.29 1900.9,1479.29 1910.84,1479.29 1920.78,1479.3 1930.72,1479.3 \n",
       "  1940.66,1479.3 1950.61,1479.3 1960.55,1479.3 1970.49,1479.3 1980.43,1479.3 1990.37,1479.3 2000.31,1479.3 2010.26,1479.3 2020.2,1479.3 2030.14,1479.3 \n",
       "  2040.08,1479.3 2050.02,1479.3 2059.97,1479.3 2069.91,1479.3 2079.85,1479.3 2089.79,1479.3 2099.73,1479.3 2109.68,1479.3 2119.62,1479.3 2129.56,1479.3 \n",
       "  2139.5,1479.3 2149.44,1479.3 2159.39,1479.3 2169.33,1479.3 2179.27,1479.3 2189.21,1479.3 2199.15,1479.3 2209.1,1479.3 2219.04,1479.3 2228.98,1479.3 \n",
       "  2238.92,1479.3 2248.86,1479.3 2258.8,1479.3 2268.75,1479.3 2278.69,1479.3 2288.63,1479.3 \n",
       "  \"/>\n",
       "<path clip-path=\"url(#clip090)\" d=\"\n",
       "M1886.15 372.684 L2280.76 372.684 L2280.76 130.764 L1886.15 130.764  Z\n",
       "  \" fill=\"#ffffff\" fill-rule=\"evenodd\" fill-opacity=\"1\"/>\n",
       "<polyline clip-path=\"url(#clip090)\" style=\"stroke:#000000; stroke-width:4; stroke-opacity:1; fill:none\" points=\"\n",
       "  1886.15,372.684 2280.76,372.684 2280.76,130.764 1886.15,130.764 1886.15,372.684 \n",
       "  \"/>\n",
       "<polyline clip-path=\"url(#clip090)\" style=\"stroke:#009af9; stroke-width:4; stroke-opacity:1; fill:none\" points=\"\n",
       "  1910.15,191.244 2054.15,191.244 \n",
       "  \"/>\n",
       "<path clip-path=\"url(#clip090)\" d=\"M 0 0 M2093.34 186.58 Q2092.62 186.163 2091.76 185.978 Q2090.93 185.77 2089.91 185.77 Q2086.3 185.77 2084.35 188.131 Q2082.43 190.469 2082.43 194.867 L2082.43 208.524 L2078.15 208.524 L2078.15 182.598 L2082.43 182.598 L2082.43 186.626 Q2083.78 184.265 2085.93 183.131 Q2088.08 181.973 2091.16 181.973 Q2091.6 181.973 2092.13 182.043 Q2092.66 182.089 2093.31 182.205 L2093.34 186.58 Z\" fill=\"#000000\" fill-rule=\"evenodd\" fill-opacity=\"1\" /><path clip-path=\"url(#clip090)\" d=\"M 0 0 M2118.94 194.496 L2118.94 196.58 L2099.35 196.58 Q2099.63 200.978 2101.99 203.293 Q2104.38 205.584 2108.61 205.584 Q2111.07 205.584 2113.36 204.982 Q2115.67 204.381 2117.94 203.177 L2117.94 207.205 Q2115.65 208.177 2113.24 208.686 Q2110.84 209.195 2108.36 209.195 Q2102.15 209.195 2098.52 205.584 Q2094.91 201.973 2094.91 195.816 Q2094.91 189.45 2098.34 185.723 Q2101.78 181.973 2107.62 181.973 Q2112.85 181.973 2115.88 185.353 Q2118.94 188.709 2118.94 194.496 M2114.68 193.246 Q2114.63 189.751 2112.71 187.668 Q2110.81 185.584 2107.66 185.584 Q2104.1 185.584 2101.95 187.598 Q2099.82 189.612 2099.49 193.27 L2114.68 193.246 Z\" fill=\"#000000\" fill-rule=\"evenodd\" fill-opacity=\"1\" /><path clip-path=\"url(#clip090)\" d=\"M 0 0 M2135.19 195.492 Q2130.02 195.492 2128.03 196.672 Q2126.04 197.853 2126.04 200.7 Q2126.04 202.969 2127.52 204.311 Q2129.03 205.631 2131.6 205.631 Q2135.14 205.631 2137.27 203.131 Q2139.42 200.607 2139.42 196.441 L2139.42 195.492 L2135.19 195.492 M2143.68 193.733 L2143.68 208.524 L2139.42 208.524 L2139.42 204.589 Q2137.96 206.95 2135.79 208.084 Q2133.61 209.195 2130.46 209.195 Q2126.48 209.195 2124.12 206.973 Q2121.78 204.728 2121.78 200.978 Q2121.78 196.603 2124.7 194.381 Q2127.64 192.158 2133.45 192.158 L2139.42 192.158 L2139.42 191.742 Q2139.42 188.802 2137.48 187.205 Q2135.56 185.584 2132.06 185.584 Q2129.84 185.584 2127.73 186.117 Q2125.63 186.649 2123.68 187.714 L2123.68 183.779 Q2126.02 182.876 2128.22 182.436 Q2130.42 181.973 2132.5 181.973 Q2138.13 181.973 2140.9 184.89 Q2143.68 187.807 2143.68 193.733 Z\" fill=\"#000000\" fill-rule=\"evenodd\" fill-opacity=\"1\" /><path clip-path=\"url(#clip090)\" d=\"M 0 0 M2148.15 172.506 L2152.41 172.506 L2152.41 208.524 L2148.15 208.524 L2148.15 172.506 Z\" fill=\"#000000\" fill-rule=\"evenodd\" fill-opacity=\"1\" /><path clip-path=\"url(#clip090)\" d=\"M 0 0 M2167.11 172.552 Q2164.01 177.876 2162.5 183.084 Q2161 188.293 2161 193.64 Q2161 198.987 2162.5 204.242 Q2164.03 209.473 2167.11 214.774 L2163.4 214.774 Q2159.93 209.334 2158.2 204.08 Q2156.48 198.825 2156.48 193.64 Q2156.48 188.478 2158.2 183.246 Q2159.91 178.015 2163.4 172.552 L2167.11 172.552 Z\" fill=\"#000000\" fill-rule=\"evenodd\" fill-opacity=\"1\" /><path clip-path=\"url(#clip090)\" d=\"M 0 0 M2180.56 209.103 Q2175.21 208.246 2172.73 206.001 Q2169.7 203.246 2169.7 197.621 L2169.7 182.598 L2174.01 182.598 L2174.01 197.459 Q2174.01 201.695 2175.97 203.455 Q2177.69 204.982 2180.56 205.307 L2180.56 182.598 L2184.79 182.598 L2184.79 205.283 Q2187.83 204.959 2189.38 203.432 Q2191.34 201.487 2191.34 197.436 L2191.34 182.598 L2195.65 182.598 L2195.65 197.598 Q2195.65 203.432 2192.62 205.978 Q2189.89 208.269 2184.79 209.08 L2184.79 218.385 L2180.56 218.385 L2180.56 209.103 Z\" fill=\"#000000\" fill-rule=\"evenodd\" fill-opacity=\"1\" /><path clip-path=\"url(#clip090)\" d=\"M 0 0 M2199.45 172.552 L2203.15 172.552 Q2206.62 178.015 2208.33 183.246 Q2210.07 188.478 2210.07 193.64 Q2210.07 198.825 2208.33 204.08 Q2206.62 209.334 2203.15 214.774 L2199.45 214.774 Q2202.52 209.473 2204.03 204.242 Q2205.56 198.987 2205.56 193.64 Q2205.56 188.293 2204.03 183.084 Q2202.52 177.876 2199.45 172.552 Z\" fill=\"#000000\" fill-rule=\"evenodd\" fill-opacity=\"1\" /><polyline clip-path=\"url(#clip090)\" style=\"stroke:#e26f46; stroke-width:4; stroke-opacity:1; fill:none\" points=\"\n",
       "  1910.15,251.724 2054.15,251.724 \n",
       "  \"/>\n",
       "<path clip-path=\"url(#clip090)\" d=\"M 0 0 M2078.15 243.078 L2082.41 243.078 L2082.41 269.004 L2078.15 269.004 L2078.15 243.078 M2078.15 232.986 L2082.41 232.986 L2082.41 238.379 L2078.15 238.379 L2078.15 232.986 Z\" fill=\"#000000\" fill-rule=\"evenodd\" fill-opacity=\"1\" /><path clip-path=\"url(#clip090)\" d=\"M 0 0 M2107.06 248.055 Q2108.66 245.185 2110.88 243.819 Q2113.1 242.453 2116.11 242.453 Q2120.16 242.453 2122.36 245.301 Q2124.56 248.125 2124.56 253.356 L2124.56 269.004 L2120.28 269.004 L2120.28 253.495 Q2120.28 249.768 2118.96 247.963 Q2117.64 246.157 2114.93 246.157 Q2111.62 246.157 2109.7 248.356 Q2107.78 250.555 2107.78 254.351 L2107.78 269.004 L2103.5 269.004 L2103.5 253.495 Q2103.5 249.745 2102.18 247.963 Q2100.86 246.157 2098.1 246.157 Q2094.84 246.157 2092.92 248.379 Q2091 250.578 2091 254.351 L2091 269.004 L2086.72 269.004 L2086.72 243.078 L2091 243.078 L2091 247.106 Q2092.46 244.722 2094.49 243.588 Q2096.53 242.453 2099.33 242.453 Q2102.15 242.453 2104.12 243.888 Q2106.11 245.324 2107.06 248.055 Z\" fill=\"#000000\" fill-rule=\"evenodd\" fill-opacity=\"1\" /><path clip-path=\"url(#clip090)\" d=\"M 0 0 M2140.81 255.972 Q2135.65 255.972 2133.66 257.152 Q2131.67 258.333 2131.67 261.18 Q2131.67 263.449 2133.15 264.791 Q2134.65 266.111 2137.22 266.111 Q2140.77 266.111 2142.9 263.611 Q2145.05 261.087 2145.05 256.921 L2145.05 255.972 L2140.81 255.972 M2149.31 254.213 L2149.31 269.004 L2145.05 269.004 L2145.05 265.069 Q2143.59 267.43 2141.41 268.564 Q2139.24 269.675 2136.09 269.675 Q2132.11 269.675 2129.75 267.453 Q2127.41 265.208 2127.41 261.458 Q2127.41 257.083 2130.33 254.861 Q2133.27 252.638 2139.08 252.638 L2145.05 252.638 L2145.05 252.222 Q2145.05 249.282 2143.1 247.685 Q2141.18 246.064 2137.69 246.064 Q2135.46 246.064 2133.36 246.597 Q2131.25 247.129 2129.31 248.194 L2129.31 244.259 Q2131.65 243.356 2133.84 242.916 Q2136.04 242.453 2138.13 242.453 Q2143.75 242.453 2146.53 245.37 Q2149.31 248.287 2149.31 254.213 Z\" fill=\"#000000\" fill-rule=\"evenodd\" fill-opacity=\"1\" /><path clip-path=\"url(#clip090)\" d=\"M 0 0 M2170.83 255.74 Q2170.83 251.111 2168.91 248.564 Q2167.02 246.018 2163.57 246.018 Q2160.14 246.018 2158.22 248.564 Q2156.32 251.111 2156.32 255.74 Q2156.32 260.347 2158.22 262.893 Q2160.14 265.439 2163.57 265.439 Q2167.02 265.439 2168.91 262.893 Q2170.83 260.347 2170.83 255.74 M2175.09 265.787 Q2175.09 272.407 2172.15 275.624 Q2169.21 278.865 2163.15 278.865 Q2160.9 278.865 2158.91 278.518 Q2156.92 278.194 2155.05 277.499 L2155.05 273.356 Q2156.92 274.374 2158.75 274.861 Q2160.58 275.347 2162.48 275.347 Q2166.67 275.347 2168.75 273.148 Q2170.83 270.972 2170.83 266.55 L2170.83 264.444 Q2169.52 266.736 2167.46 267.87 Q2165.4 269.004 2162.52 269.004 Q2157.76 269.004 2154.84 265.37 Q2151.92 261.736 2151.92 255.74 Q2151.92 249.722 2154.84 246.088 Q2157.76 242.453 2162.52 242.453 Q2165.4 242.453 2167.46 243.588 Q2169.52 244.722 2170.83 247.013 L2170.83 243.078 L2175.09 243.078 L2175.09 265.787 Z\" fill=\"#000000\" fill-rule=\"evenodd\" fill-opacity=\"1\" /><path clip-path=\"url(#clip090)\" d=\"M 0 0 M2189.79 233.032 Q2186.69 238.356 2185.19 243.564 Q2183.68 248.773 2183.68 254.12 Q2183.68 259.467 2185.19 264.722 Q2186.71 269.953 2189.79 275.254 L2186.09 275.254 Q2182.62 269.814 2180.88 264.56 Q2179.17 259.305 2179.17 254.12 Q2179.17 248.958 2180.88 243.726 Q2182.59 238.495 2186.09 233.032 L2189.79 233.032 Z\" fill=\"#000000\" fill-rule=\"evenodd\" fill-opacity=\"1\" /><path clip-path=\"url(#clip090)\" d=\"M 0 0 M2203.24 269.583 Q2197.89 268.726 2195.42 266.481 Q2192.39 263.726 2192.39 258.101 L2192.39 243.078 L2196.69 243.078 L2196.69 257.939 Q2196.69 262.175 2198.66 263.935 Q2200.37 265.462 2203.24 265.787 L2203.24 243.078 L2207.48 243.078 L2207.48 265.763 Q2210.51 265.439 2212.06 263.912 Q2214.03 261.967 2214.03 257.916 L2214.03 243.078 L2218.33 243.078 L2218.33 258.078 Q2218.33 263.912 2215.3 266.458 Q2212.57 268.749 2207.48 269.56 L2207.48 278.865 L2203.24 278.865 L2203.24 269.583 Z\" fill=\"#000000\" fill-rule=\"evenodd\" fill-opacity=\"1\" /><path clip-path=\"url(#clip090)\" d=\"M 0 0 M2222.13 233.032 L2225.83 233.032 Q2229.31 238.495 2231.02 243.726 Q2232.76 248.958 2232.76 254.12 Q2232.76 259.305 2231.02 264.56 Q2229.31 269.814 2225.83 275.254 L2222.13 275.254 Q2225.21 269.953 2226.71 264.722 Q2228.24 259.467 2228.24 254.12 Q2228.24 248.773 2226.71 243.564 Q2225.21 238.356 2222.13 233.032 Z\" fill=\"#000000\" fill-rule=\"evenodd\" fill-opacity=\"1\" /><polyline clip-path=\"url(#clip090)\" style=\"stroke:#3da44d; stroke-width:4; stroke-opacity:1; fill:none\" points=\"\n",
       "  1910.15,312.204 2054.15,312.204 \n",
       "  \"/>\n",
       "<path clip-path=\"url(#clip090)\" d=\"M 0 0 M2080.23 308.188 Q2081.65 305.827 2085.14 303.743 Q2086.51 302.933 2090.72 302.933 Q2095.44 302.933 2098.38 306.683 Q2101.34 310.433 2101.34 316.544 Q2101.34 322.655 2098.38 326.405 Q2095.44 330.155 2090.72 330.155 Q2087.87 330.155 2085.81 329.044 Q2083.78 327.91 2082.43 325.595 L2082.43 339.345 L2078.15 339.345 L2078.15 316.776 Q2078.15 311.429 2080.23 308.188 M2096.92 316.544 Q2096.92 311.845 2094.98 309.183 Q2093.06 306.498 2089.68 306.498 Q2086.3 306.498 2084.35 309.183 Q2082.43 311.845 2082.43 316.544 Q2082.43 321.243 2084.35 323.929 Q2086.3 326.591 2089.68 326.591 Q2093.06 326.591 2094.98 323.929 Q2096.92 321.243 2096.92 316.544 Z\" fill=\"#000000\" fill-rule=\"evenodd\" fill-opacity=\"1\" /></svg>\n"
      ]
     },
     "metadata": {},
     "execution_count": 10
    }
   ],
   "cell_type": "code",
   "source": [
    "using Plots\n",
    "\n",
    "p = plot(x, real.(ψ), label=\"real(ψ)\")\n",
    "plot!(p, x, imag.(ψ), label=\"imag(ψ)\")\n",
    "plot!(p, x, ρ, label=\"ρ\")"
   ],
   "metadata": {},
   "execution_count": 10
  },
  {
   "cell_type": "markdown",
   "source": [
    "The `energy_hamiltonian` function can be used to get the energy and\n",
    "effective Hamiltonian (derivative of the energy with respect to the density matrix)\n",
    "of a particular state (ψ, occupation).\n",
    "The density ρ associated to this state is precomputed\n",
    "and passed to the routine as an optimization."
   ],
   "metadata": {}
  },
  {
   "outputs": [],
   "cell_type": "code",
   "source": [
    "E, ham = energy_hamiltonian(basis, scfres.ψ, scfres.occupation; ρ=scfres.ρ)\n",
    "@assert sum(values(E)) == sum(values(scfres.energies))"
   ],
   "metadata": {},
   "execution_count": 11
  },
  {
   "cell_type": "markdown",
   "source": [
    "Now the Hamiltonian contains all the blocks corresponding to kpoints. Here, we just have one kpoint:"
   ],
   "metadata": {}
  },
  {
   "outputs": [],
   "cell_type": "code",
   "source": [
    "H = ham.blocks[1];"
   ],
   "metadata": {},
   "execution_count": 12
  },
  {
   "cell_type": "markdown",
   "source": [
    "`H` can be used as a linear operator (efficiently using FFTs), or converted to a dense matrix:"
   ],
   "metadata": {}
  },
  {
   "outputs": [],
   "cell_type": "code",
   "source": [
    "ψ11 = scfres.ψ[1][:, 1] # first kpoint, first eigenvector\n",
    "Hmat = Array(H) # This is now just a plain Julia matrix,\n",
    "#                which we can compute and store in this simple 1D example\n",
    "@assert norm(Hmat * ψ11 - H * ψ11) < 1e-10"
   ],
   "metadata": {},
   "execution_count": 13
  },
  {
   "cell_type": "markdown",
   "source": [
    "Let's check that ψ11 is indeed an eigenstate:"
   ],
   "metadata": {}
  },
  {
   "outputs": [
    {
     "output_type": "execute_result",
     "data": {
      "text/plain": "2.0064237702018648e-7"
     },
     "metadata": {},
     "execution_count": 14
    }
   ],
   "cell_type": "code",
   "source": [
    "norm(H * ψ11 - dot(ψ11, H * ψ11) * ψ11)"
   ],
   "metadata": {},
   "execution_count": 14
  },
  {
   "cell_type": "markdown",
   "source": [
    "Build a finite-differences version of the GPE operator ``H``, as a sanity check:"
   ],
   "metadata": {}
  },
  {
   "outputs": [
    {
     "output_type": "execute_result",
     "data": {
      "text/plain": "0.00022345622161237783"
     },
     "metadata": {},
     "execution_count": 15
    }
   ],
   "cell_type": "code",
   "source": [
    "A = Array(Tridiagonal(-ones(N - 1), 2ones(N), -ones(N - 1)))\n",
    "A[1, end] = A[end, 1] = -1\n",
    "K = A / dx^2 / 2\n",
    "V = Diagonal(pot.(x) + C .* α .* (ρ.^(α-1)))\n",
    "H_findiff = K + V;\n",
    "maximum(abs.(H_findiff*ψ - (dot(ψ, H_findiff*ψ) / dot(ψ, ψ)) * ψ))"
   ],
   "metadata": {},
   "execution_count": 15
  }
 ],
 "nbformat_minor": 3,
 "metadata": {
  "language_info": {
   "file_extension": ".jl",
   "mimetype": "application/julia",
   "name": "julia",
   "version": "1.3.1"
  },
  "kernelspec": {
   "name": "julia-1.3",
   "display_name": "Julia 1.3.1",
   "language": "julia"
  }
 },
 "nbformat": 4
}
