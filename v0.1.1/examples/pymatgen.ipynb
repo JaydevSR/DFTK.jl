{
 "cells": [
  {
   "cell_type": "markdown",
   "source": [
    "# Creating supercells with pymatgen\n",
    "\n",
    "The [Pymatgen](https://pymatgen.org/) python library allows to setup\n",
    "solid-state calculations using a flexible set of classes as well as an API\n",
    "to an online data base of structures. Its `Structure` and `Lattice`\n",
    "objects are directly supported by the DFTK `load_atoms` and `load_lattice`\n",
    "functions, such that DFTK may be readily used to run calculation on systems\n",
    "defined in pymatgen. Using the `pymatgen_structure` function a conversion\n",
    "from DFTK to pymatgen structures is also possible. In the following we\n",
    "use this to create a silicon supercell and find its LDA ground state\n",
    "using direct minimisation."
   ],
   "metadata": {}
  },
  {
   "cell_type": "markdown",
   "source": [
    "First we setup the silicon lattice in DFTK."
   ],
   "metadata": {}
  },
  {
   "outputs": [],
   "cell_type": "code",
   "source": [
    "using DFTK\n",
    "\n",
    "a = 10.263141334305942  # Lattice constant in Bohr\n",
    "lattice = a / 2 .* [[0 1 1.]; [1 0 1.]; [1 1 0.]]\n",
    "Si = ElementPsp(:Si, psp=load_psp(\"hgh/lda/Si-q4\"))\n",
    "atoms = [Si => [ones(3)/8, -ones(3)/8]];"
   ],
   "metadata": {},
   "execution_count": 1
  },
  {
   "cell_type": "markdown",
   "source": [
    "Next we make a `[2, 2, 2]` supercell using pymatgen"
   ],
   "metadata": {}
  },
  {
   "outputs": [],
   "cell_type": "code",
   "source": [
    "pystruct = pymatgen_structure(lattice, atoms)\n",
    "pystruct.make_supercell([2, 2, 2])\n",
    "lattice = load_lattice(pystruct)\n",
    "atoms = [Si => [s.frac_coords for s in pystruct.sites]];"
   ],
   "metadata": {},
   "execution_count": 2
  },
  {
   "cell_type": "markdown",
   "source": [
    "Setup an LDA model and discretize using\n",
    "a single kpoint and a small `Ecut` of 5 Hartree.\n",
    "Notice that `PlaneWaveBasis` defaults to just using the ``Γ``-point\n",
    "if no ``k``-point options are provided."
   ],
   "metadata": {}
  },
  {
   "outputs": [
    {
     "output_type": "execute_result",
     "data": {
      "text/plain": "PlaneWaveBasis (Ecut=5.0, 1 kpoints)"
     },
     "metadata": {},
     "execution_count": 3
    }
   ],
   "cell_type": "code",
   "source": [
    "model = model_LDA(lattice, atoms)\n",
    "basis = PlaneWaveBasis(model, 5)"
   ],
   "metadata": {},
   "execution_count": 3
  },
  {
   "cell_type": "markdown",
   "source": [
    "Find the ground state using direct minimisation (always using SCF is boring ...)"
   ],
   "metadata": {}
  },
  {
   "outputs": [
    {
     "name": "stdout",
     "output_type": "stream",
     "text": [
      "Iter     Function value   Gradient norm \n",
      "     0     1.116886e+02     1.497226e+00\n",
      " * time: 0.0959329605102539\n",
      "     1     1.061801e+01     8.705710e-01\n",
      " * time: 1.0360329151153564\n",
      "     2    -1.175583e+01     9.920153e-01\n",
      " * time: 1.1592960357666016\n",
      "     3    -3.431268e+01     7.513608e-01\n",
      " * time: 1.3359110355377197\n",
      "     4    -4.773551e+01     5.180473e-01\n",
      " * time: 1.4955799579620361\n",
      "     5    -5.695168e+01     2.193029e-01\n",
      " * time: 1.655040979385376\n",
      "     6    -5.980109e+01     1.041303e-01\n",
      " * time: 1.7759740352630615\n",
      "     7    -6.085371e+01     4.902186e-02\n",
      " * time: 1.8931388854980469\n",
      "     8    -6.124303e+01     6.633842e-02\n",
      " * time: 2.015105962753296\n",
      "     9    -6.155696e+01     3.404328e-02\n",
      " * time: 2.1303958892822266\n",
      "    10    -6.177759e+01     2.664072e-02\n",
      " * time: 2.256103038787842\n",
      "    11    -6.194409e+01     2.485251e-02\n",
      " * time: 2.3813679218292236\n",
      "    12    -6.201045e+01     2.108280e-02\n",
      " * time: 2.4990880489349365\n",
      "    13    -6.208228e+01     1.674172e-02\n",
      " * time: 2.626473903656006\n",
      "    14    -6.211856e+01     1.503628e-02\n",
      " * time: 2.762563943862915\n",
      "    15    -6.215470e+01     1.083994e-02\n",
      " * time: 2.8874359130859375\n",
      "    16    -6.217502e+01     8.944810e-03\n",
      " * time: 3.015429973602295\n",
      "    17    -6.218847e+01     7.306101e-03\n",
      " * time: 3.1318230628967285\n",
      "    18    -6.219850e+01     7.715369e-03\n",
      " * time: 3.255128860473633\n",
      "    19    -6.220575e+01     8.346695e-03\n",
      " * time: 3.3700780868530273\n",
      "    20    -6.221265e+01     8.244717e-03\n",
      " * time: 3.495903968811035\n",
      "    21    -6.222020e+01     8.389479e-03\n",
      " * time: 3.6177759170532227\n",
      "    22    -6.222912e+01     7.390610e-03\n",
      " * time: 3.734673023223877\n",
      "    23    -6.223824e+01     6.442417e-03\n",
      " * time: 3.8605458736419678\n",
      "    24    -6.224561e+01     4.592371e-03\n",
      " * time: 3.9837329387664795\n",
      "    25    -6.225082e+01     3.794564e-03\n",
      " * time: 4.1005470752716064\n",
      "    26    -6.225415e+01     2.976002e-03\n",
      " * time: 4.222549915313721\n",
      "    27    -6.225640e+01     3.259127e-03\n",
      " * time: 4.338979959487915\n",
      "    28    -6.225795e+01     3.207245e-03\n",
      " * time: 4.464406967163086\n",
      "    29    -6.225907e+01     2.440187e-03\n",
      " * time: 4.5876829624176025\n",
      "    30    -6.225993e+01     1.687359e-03\n",
      " * time: 4.703144073486328\n",
      "    31    -6.226060e+01     1.542222e-03\n",
      " * time: 4.827111005783081\n",
      "    32    -6.226107e+01     1.087502e-03\n",
      " * time: 4.9421820640563965\n",
      "    33    -6.226136e+01     1.208737e-03\n",
      " * time: 5.065161943435669\n",
      "    34    -6.226152e+01     7.683394e-04\n",
      " * time: 5.187391996383667\n",
      "    35    -6.226160e+01     5.136384e-04\n",
      " * time: 5.302941083908081\n",
      "    36    -6.226164e+01     2.933870e-04\n",
      " * time: 5.4299540519714355\n",
      "    37    -6.226165e+01     2.474478e-04\n",
      " * time: 5.544980049133301\n",
      "    38    -6.226166e+01     2.216036e-04\n",
      " * time: 5.671725034713745\n",
      "    39    -6.226166e+01     1.346266e-04\n",
      " * time: 5.793833017349243\n",
      "    40    -6.226166e+01     1.129993e-04\n",
      " * time: 5.911365032196045\n",
      "    41    -6.226166e+01     1.028354e-04\n",
      " * time: 6.035812854766846\n",
      "    42    -6.226166e+01     7.832573e-05\n",
      " * time: 6.159792900085449\n",
      "    43    -6.226167e+01     5.237290e-05\n",
      " * time: 6.278364896774292\n",
      "    44    -6.226167e+01     3.856385e-05\n",
      " * time: 6.404876947402954\n",
      "    45    -6.226167e+01     2.918877e-05\n",
      " * time: 6.5354108810424805\n",
      "    46    -6.226167e+01     2.144112e-05\n",
      " * time: 6.664237976074219\n",
      "    47    -6.226167e+01     1.701019e-05\n",
      " * time: 6.789239883422852\n",
      "    48    -6.226167e+01     1.617045e-05\n",
      " * time: 6.903614044189453\n",
      "    49    -6.226167e+01     8.987845e-06\n",
      " * time: 7.029530048370361\n",
      "    50    -6.226167e+01     5.988806e-06\n",
      " * time: 7.161334037780762\n",
      "    51    -6.226167e+01     4.661903e-06\n",
      " * time: 7.288169860839844\n"
     ]
    }
   ],
   "cell_type": "code",
   "source": [
    "scfres = direct_minimization(basis, tol=1e-5);"
   ],
   "metadata": {},
   "execution_count": 4
  },
  {
   "outputs": [
    {
     "output_type": "execute_result",
     "data": {
      "text/plain": "Energy breakdown:\n    Kinetic             25.7671049\n    AtomicLocal         -18.8557633\n    AtomicNonlocal      14.8522632\n    Ewald               -67.1831486\n    PspCorrection       -2.3569765\n    Hartree             4.8485352 \n    Xc                  -19.3336813\n\n    total               -62.261666452225\n"
     },
     "metadata": {},
     "execution_count": 5
    }
   ],
   "cell_type": "code",
   "source": [
    "scfres.energies"
   ],
   "metadata": {},
   "execution_count": 5
  }
 ],
 "nbformat_minor": 3,
 "metadata": {
  "language_info": {
   "file_extension": ".jl",
   "mimetype": "application/julia",
   "name": "julia",
   "version": "1.3.1"
  },
  "kernelspec": {
   "name": "julia-1.3",
   "display_name": "Julia 1.3.1",
   "language": "julia"
  }
 },
 "nbformat": 4
}
