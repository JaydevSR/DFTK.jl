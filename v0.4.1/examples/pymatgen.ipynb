{
 "cells": [
  {
   "cell_type": "markdown",
   "source": [
    "# Creating supercells with pymatgen\n",
    "\n",
    "The [Pymatgen](https://pymatgen.org/) python library allows to setup\n",
    "solid-state calculations using a flexible set of classes as well as an API\n",
    "to an online data base of structures. Its `Structure` and `Lattice`\n",
    "objects are directly supported by the DFTK `load_atoms` and `load_lattice`\n",
    "functions, such that DFTK may be readily used to run calculation on systems\n",
    "defined in pymatgen. Using the `pymatgen_structure` function a conversion\n",
    "from DFTK to pymatgen structures is also possible. In the following we\n",
    "use this to create a silicon supercell and find its LDA ground state\n",
    "using direct minimisation. To run this example Julia's `PyCall` package\n",
    "needs to be able to find an installation of `pymatgen`."
   ],
   "metadata": {}
  },
  {
   "cell_type": "markdown",
   "source": [
    "First we setup the silicon lattice in DFTK."
   ],
   "metadata": {}
  },
  {
   "outputs": [],
   "cell_type": "code",
   "source": [
    "using DFTK\n",
    "\n",
    "a = 10.263141334305942  # Lattice constant in Bohr\n",
    "lattice = a / 2 .* [[0 1 1.]; [1 0 1.]; [1 1 0.]]\n",
    "Si = ElementPsp(:Si, psp=load_psp(\"hgh/lda/Si-q4\"))\n",
    "atoms = [Si => [ones(3)/8, -ones(3)/8]];"
   ],
   "metadata": {},
   "execution_count": 1
  },
  {
   "cell_type": "markdown",
   "source": [
    "Next we make a `[2, 2, 2]` supercell using pymatgen"
   ],
   "metadata": {}
  },
  {
   "outputs": [],
   "cell_type": "code",
   "source": [
    "pystruct = pymatgen_structure(lattice, atoms)\n",
    "pystruct.make_supercell([2, 2, 2])\n",
    "lattice = load_lattice(pystruct)\n",
    "atoms = [Si => [s.frac_coords for s in pystruct.sites]];"
   ],
   "metadata": {},
   "execution_count": 2
  },
  {
   "cell_type": "markdown",
   "source": [
    "Setup an LDA model and discretize using\n",
    "a single k-point and a small `Ecut` of 5 Hartree."
   ],
   "metadata": {}
  },
  {
   "outputs": [
    {
     "output_type": "execute_result",
     "data": {
      "text/plain": "PlaneWaveBasis discretization:\n    Ecut                 : 5.0 Ha\n    fft_size             : (32, 32, 32)\n    kgrid type           : Monkhorst-Pack\n    kgrid                : [1, 1, 1]\n    num. irred. kpoints  : 1\n\n    Discretized Model(lda_xc_teter93, 3D):\n        lattice (in Bohr)    : [0         , 10.2631   , 10.2631   ]\n                               [10.2631   , 0         , 10.2631   ]\n                               [10.2631   , 10.2631   , 0         ]\n        unit cell volume     : 2162.1 Bohr³\n    \n        atoms                : Si₁₆\n        atom potentials      : ElementPsp(Si, psp=hgh/lda/si-q4)\n    \n        num. electrons       : 64\n        spin polarization    : none\n        temperature          : 0 Ha\n    \n        terms                : Kinetic(1)\n                               AtomicLocal()\n                               AtomicNonlocal()\n                               Ewald()\n                               PspCorrection()\n                               Hartree(1)\n                               Xc([:lda_xc_teter93], 1, nothing)"
     },
     "metadata": {},
     "execution_count": 3
    }
   ],
   "cell_type": "code",
   "source": [
    "model = model_LDA(lattice, atoms)\n",
    "basis = PlaneWaveBasis(model; Ecut=5, kgrid=(1, 1, 1))"
   ],
   "metadata": {},
   "execution_count": 3
  },
  {
   "cell_type": "markdown",
   "source": [
    "Find the ground state using direct minimisation (always using SCF is boring ...)"
   ],
   "metadata": {}
  },
  {
   "outputs": [
    {
     "name": "stdout",
     "output_type": "stream",
     "text": [
      "Iter     Function value   Gradient norm \n",
      "     0     1.119745e+02     1.534611e+00\n",
      " * time: 0.6858079433441162\n",
      "     1     1.001989e+01     9.067000e-01\n",
      " * time: 1.9077880382537842\n",
      "     2    -1.231277e+01     9.831490e-01\n",
      " * time: 2.4594340324401855\n",
      "     3    -3.443302e+01     7.422740e-01\n",
      " * time: 3.296710968017578\n",
      "     4    -4.795090e+01     5.380520e-01\n",
      " * time: 4.098114013671875\n",
      "     5    -5.707327e+01     2.564140e-01\n",
      " * time: 4.9100000858306885\n",
      "     6    -5.976870e+01     1.840169e-01\n",
      " * time: 5.471502065658569\n",
      "     7    -6.080879e+01     5.363202e-02\n",
      " * time: 6.012686014175415\n",
      "     8    -6.123132e+01     7.463058e-02\n",
      " * time: 6.555546045303345\n",
      "     9    -6.150772e+01     6.634163e-02\n",
      " * time: 7.09138298034668\n",
      "    10    -6.173787e+01     2.861154e-02\n",
      " * time: 7.646059036254883\n",
      "    11    -6.192799e+01     2.190902e-02\n",
      " * time: 8.187505006790161\n",
      "    12    -6.201083e+01     1.840368e-02\n",
      " * time: 8.728402137756348\n",
      "    13    -6.208871e+01     1.830214e-02\n",
      " * time: 9.27440094947815\n",
      "    14    -6.213202e+01     1.338024e-02\n",
      " * time: 9.814677000045776\n",
      "    15    -6.216817e+01     1.165805e-02\n",
      " * time: 10.351267099380493\n",
      "    16    -6.218615e+01     9.073019e-03\n",
      " * time: 10.891649007797241\n",
      "    17    -6.219941e+01     9.727073e-03\n",
      " * time: 11.439162015914917\n",
      "    18    -6.220877e+01     8.768039e-03\n",
      " * time: 11.978865146636963\n",
      "    19    -6.221671e+01     7.544395e-03\n",
      " * time: 12.518681049346924\n",
      "    20    -6.222363e+01     5.484427e-03\n",
      " * time: 13.057928085327148\n",
      "    21    -6.223126e+01     5.991926e-03\n",
      " * time: 13.601854085922241\n",
      "    22    -6.223941e+01     5.173361e-03\n",
      " * time: 14.139701128005981\n",
      "    23    -6.224732e+01     4.641030e-03\n",
      " * time: 14.678477048873901\n",
      "    24    -6.225340e+01     4.111441e-03\n",
      " * time: 15.219855070114136\n",
      "    25    -6.225719e+01     3.559551e-03\n",
      " * time: 15.766541004180908\n",
      "    26    -6.225913e+01     2.216527e-03\n",
      " * time: 16.306998014450073\n",
      "    27    -6.226013e+01     1.443151e-03\n",
      " * time: 16.849133014678955\n",
      "    28    -6.226064e+01     1.136548e-03\n",
      " * time: 17.39190101623535\n",
      "    29    -6.226095e+01     1.126307e-03\n",
      " * time: 17.93880295753479\n",
      "    30    -6.226117e+01     1.032155e-03\n",
      " * time: 18.477463006973267\n",
      "    31    -6.226133e+01     9.955401e-04\n",
      " * time: 19.019612073898315\n",
      "    32    -6.226144e+01     7.110819e-04\n",
      " * time: 19.56872797012329\n",
      "    33    -6.226154e+01     5.018042e-04\n",
      " * time: 20.11106014251709\n",
      "    34    -6.226160e+01     3.773442e-04\n",
      " * time: 20.65448307991028\n",
      "    35    -6.226163e+01     2.736419e-04\n",
      " * time: 21.19935703277588\n",
      "    36    -6.226165e+01     1.873975e-04\n",
      " * time: 21.75040292739868\n",
      "    37    -6.226166e+01     1.508332e-04\n",
      " * time: 22.29786205291748\n",
      "    38    -6.226166e+01     9.836398e-05\n",
      " * time: 22.84190607070923\n",
      "    39    -6.226166e+01     7.053136e-05\n",
      " * time: 23.38502812385559\n",
      "    40    -6.226167e+01     5.482125e-05\n",
      " * time: 23.93679714202881\n",
      "    41    -6.226167e+01     4.691477e-05\n",
      " * time: 24.480637073516846\n",
      "    42    -6.226167e+01     3.542361e-05\n",
      " * time: 25.02352213859558\n",
      "    43    -6.226167e+01     2.930704e-05\n",
      " * time: 25.567615032196045\n",
      "    44    -6.226167e+01     2.349085e-05\n",
      " * time: 26.116332054138184\n",
      "    45    -6.226167e+01     1.926572e-05\n",
      " * time: 26.660706043243408\n",
      "    46    -6.226167e+01     1.565035e-05\n",
      " * time: 27.204591035842896\n",
      "    47    -6.226167e+01     1.035712e-05\n",
      " * time: 27.850672960281372\n",
      "    48    -6.226167e+01     8.508926e-06\n",
      " * time: 28.509856939315796\n",
      "    49    -6.226167e+01     5.721727e-06\n",
      " * time: 29.13272500038147\n",
      "    50    -6.226167e+01     3.787734e-06\n",
      " * time: 29.77399206161499\n",
      "    51    -6.226167e+01     2.304309e-06\n",
      " * time: 30.459808111190796\n"
     ]
    }
   ],
   "cell_type": "code",
   "source": [
    "scfres = direct_minimization(basis, tol=1e-5);"
   ],
   "metadata": {},
   "execution_count": 4
  },
  {
   "outputs": [
    {
     "output_type": "execute_result",
     "data": {
      "text/plain": "Energy breakdown (in Ha):\n    Kinetic             25.7671062\n    AtomicLocal         -18.8557671\n    AtomicNonlocal      14.8522649\n    Ewald               -67.1831486\n    PspCorrection       -2.3569765\n    Hartree             4.8485363 \n    Xc                  -19.3336817\n\n    total               -62.261666460927"
     },
     "metadata": {},
     "execution_count": 5
    }
   ],
   "cell_type": "code",
   "source": [
    "scfres.energies"
   ],
   "metadata": {},
   "execution_count": 5
  }
 ],
 "nbformat_minor": 3,
 "metadata": {
  "language_info": {
   "file_extension": ".jl",
   "mimetype": "application/julia",
   "name": "julia",
   "version": "1.6.3"
  },
  "kernelspec": {
   "name": "julia-1.6",
   "display_name": "Julia 1.6.3",
   "language": "julia"
  }
 },
 "nbformat": 4
}
