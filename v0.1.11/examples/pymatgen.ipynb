{
 "cells": [
  {
   "cell_type": "markdown",
   "source": [
    "# Creating supercells with pymatgen\n",
    "\n",
    "The [Pymatgen](https://pymatgen.org/) python library allows to setup\n",
    "solid-state calculations using a flexible set of classes as well as an API\n",
    "to an online data base of structures. Its `Structure` and `Lattice`\n",
    "objects are directly supported by the DFTK `load_atoms` and `load_lattice`\n",
    "functions, such that DFTK may be readily used to run calculation on systems\n",
    "defined in pymatgen. Using the `pymatgen_structure` function a conversion\n",
    "from DFTK to pymatgen structures is also possible. In the following we\n",
    "use this to create a silicon supercell and find its LDA ground state\n",
    "using direct minimisation."
   ],
   "metadata": {}
  },
  {
   "cell_type": "markdown",
   "source": [
    "First we setup the silicon lattice in DFTK."
   ],
   "metadata": {}
  },
  {
   "outputs": [],
   "cell_type": "code",
   "source": [
    "using DFTK\n",
    "\n",
    "a = 10.263141334305942  # Lattice constant in Bohr\n",
    "lattice = a / 2 .* [[0 1 1.]; [1 0 1.]; [1 1 0.]]\n",
    "Si = ElementPsp(:Si, psp=load_psp(\"hgh/lda/Si-q4\"))\n",
    "atoms = [Si => [ones(3)/8, -ones(3)/8]];"
   ],
   "metadata": {},
   "execution_count": 1
  },
  {
   "cell_type": "markdown",
   "source": [
    "Next we make a `[2, 2, 2]` supercell using pymatgen"
   ],
   "metadata": {}
  },
  {
   "outputs": [],
   "cell_type": "code",
   "source": [
    "pystruct = pymatgen_structure(lattice, atoms)\n",
    "pystruct.make_supercell([2, 2, 2])\n",
    "lattice = load_lattice(pystruct)\n",
    "atoms = [Si => [s.frac_coords for s in pystruct.sites]];"
   ],
   "metadata": {},
   "execution_count": 2
  },
  {
   "cell_type": "markdown",
   "source": [
    "Setup an LDA model and discretize using\n",
    "a single kpoint and a small `Ecut` of 5 Hartree."
   ],
   "metadata": {}
  },
  {
   "outputs": [
    {
     "output_type": "execute_result",
     "data": {
      "text/plain": "PlaneWaveBasis (Ecut=5.0, 1 kpoints)"
     },
     "metadata": {},
     "execution_count": 3
    }
   ],
   "cell_type": "code",
   "source": [
    "model = model_LDA(lattice, atoms)\n",
    "basis = PlaneWaveBasis(model, 5, kgrid=(1, 1, 1))"
   ],
   "metadata": {},
   "execution_count": 3
  },
  {
   "cell_type": "markdown",
   "source": [
    "Find the ground state using direct minimisation (always using SCF is boring ...)"
   ],
   "metadata": {}
  },
  {
   "outputs": [
    {
     "name": "stdout",
     "output_type": "stream",
     "text": [
      "Iter     Function value   Gradient norm \n",
      "     0     1.123229e+02     1.539109e+00\n",
      " * time: 0.08958196640014648\n",
      "     1     1.112763e+01     9.443360e-01\n",
      " * time: 1.0209548473358154\n",
      "     2    -1.149957e+01     1.018354e+00\n",
      " * time: 1.152420997619629\n",
      "     3    -3.376798e+01     7.366869e-01\n",
      " * time: 1.3051729202270508\n",
      "     4    -4.745915e+01     5.694787e-01\n",
      " * time: 1.4545609951019287\n",
      "     5    -5.664495e+01     1.965651e-01\n",
      " * time: 1.6011438369750977\n",
      "     6    -5.959904e+01     1.365357e-01\n",
      " * time: 1.7216949462890625\n",
      "     7    -6.081899e+01     5.975411e-02\n",
      " * time: 1.8292210102081299\n",
      "     8    -6.131186e+01     7.635193e-02\n",
      " * time: 1.9471349716186523\n",
      "     9    -6.163622e+01     5.074887e-02\n",
      " * time: 2.059048891067505\n",
      "    10    -6.187253e+01     2.594362e-02\n",
      " * time: 2.165742874145508\n",
      "    11    -6.203107e+01     2.030140e-02\n",
      " * time: 2.2800488471984863\n",
      "    12    -6.209444e+01     1.716454e-02\n",
      " * time: 2.3922719955444336\n",
      "    13    -6.215533e+01     1.322476e-02\n",
      " * time: 2.506537914276123\n",
      "    14    -6.218185e+01     1.403915e-02\n",
      " * time: 2.6199159622192383\n",
      "    15    -6.220442e+01     7.700700e-03\n",
      " * time: 2.7259469032287598\n",
      "    16    -6.221626e+01     8.090741e-03\n",
      " * time: 2.8409600257873535\n",
      "    17    -6.222523e+01     5.534995e-03\n",
      " * time: 2.9567790031433105\n",
      "    18    -6.223277e+01     5.488960e-03\n",
      " * time: 3.081794023513794\n",
      "    19    -6.223949e+01     5.266073e-03\n",
      " * time: 3.2015888690948486\n",
      "    20    -6.224565e+01     5.129681e-03\n",
      " * time: 3.3078370094299316\n",
      "    21    -6.225113e+01     4.841852e-03\n",
      " * time: 3.422358989715576\n",
      "    22    -6.225549e+01     3.709893e-03\n",
      " * time: 3.5304548740386963\n",
      "    23    -6.225839e+01     2.907814e-03\n",
      " * time: 3.643425941467285\n",
      "    24    -6.225992e+01     1.948079e-03\n",
      " * time: 3.757218837738037\n",
      "    25    -6.226067e+01     1.368288e-03\n",
      " * time: 3.8634660243988037\n",
      "    26    -6.226105e+01     1.054760e-03\n",
      " * time: 3.979606866836548\n",
      "    27    -6.226125e+01     9.944678e-04\n",
      " * time: 4.087615966796875\n",
      "    28    -6.226137e+01     8.644535e-04\n",
      " * time: 4.2021238803863525\n",
      "    29    -6.226146e+01     6.617022e-04\n",
      " * time: 4.314996957778931\n",
      "    30    -6.226153e+01     5.212037e-04\n",
      " * time: 4.4211649894714355\n",
      "    31    -6.226158e+01     3.971818e-04\n",
      " * time: 4.534485816955566\n",
      "    32    -6.226162e+01     3.010377e-04\n",
      " * time: 4.641168832778931\n",
      "    33    -6.226164e+01     2.410776e-04\n",
      " * time: 4.7534120082855225\n",
      "    34    -6.226165e+01     2.099539e-04\n",
      " * time: 4.864452838897705\n",
      "    35    -6.226166e+01     1.723948e-04\n",
      " * time: 4.969866037368774\n",
      "    36    -6.226166e+01     1.249989e-04\n",
      " * time: 5.083633899688721\n",
      "    37    -6.226166e+01     6.100564e-05\n",
      " * time: 5.188078880310059\n",
      "    38    -6.226167e+01     4.334218e-05\n",
      " * time: 5.299708843231201\n",
      "    39    -6.226167e+01     2.758848e-05\n",
      " * time: 5.411932945251465\n",
      "    40    -6.226167e+01     2.377561e-05\n",
      " * time: 5.516376972198486\n",
      "    41    -6.226167e+01     1.762358e-05\n",
      " * time: 5.628443002700806\n",
      "    42    -6.226167e+01     1.431827e-05\n",
      " * time: 5.735565900802612\n",
      "    43    -6.226167e+01     1.168065e-05\n",
      " * time: 5.849414825439453\n",
      "    44    -6.226167e+01     8.578474e-06\n",
      " * time: 5.9613518714904785\n",
      "    45    -6.226167e+01     7.839938e-06\n",
      " * time: 6.066061973571777\n",
      "    46    -6.226167e+01     6.730505e-06\n",
      " * time: 6.177887916564941\n",
      "    47    -6.226167e+01     4.881272e-06\n",
      " * time: 6.285434007644653\n",
      "    48    -6.226167e+01     4.309122e-06\n",
      " * time: 6.400516033172607\n",
      "    49    -6.226167e+01     3.024375e-06\n",
      " * time: 6.514066934585571\n"
     ]
    }
   ],
   "cell_type": "code",
   "source": [
    "scfres = direct_minimization(basis, tol=1e-5);"
   ],
   "metadata": {},
   "execution_count": 4
  },
  {
   "outputs": [
    {
     "output_type": "execute_result",
     "data": {
      "text/plain": "Energy breakdown:\n    Kinetic             25.7671068\n    AtomicLocal         -18.8557679\n    AtomicNonlocal      14.8522646\n    Ewald               -67.1831486\n    PspCorrection       -2.3569765\n    Hartree             4.8485372 \n    Xc                  -19.3336820\n\n    total               -62.261666460797\n"
     },
     "metadata": {},
     "execution_count": 5
    }
   ],
   "cell_type": "code",
   "source": [
    "scfres.energies"
   ],
   "metadata": {},
   "execution_count": 5
  }
 ],
 "nbformat_minor": 3,
 "metadata": {
  "language_info": {
   "file_extension": ".jl",
   "mimetype": "application/julia",
   "name": "julia",
   "version": "1.3.1"
  },
  "kernelspec": {
   "name": "julia-1.3",
   "display_name": "Julia 1.3.1",
   "language": "julia"
  }
 },
 "nbformat": 4
}
