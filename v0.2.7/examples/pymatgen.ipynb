{
 "cells": [
  {
   "cell_type": "markdown",
   "source": [
    "# Creating supercells with pymatgen\n",
    "\n",
    "The [Pymatgen](https://pymatgen.org/) python library allows to setup\n",
    "solid-state calculations using a flexible set of classes as well as an API\n",
    "to an online data base of structures. Its `Structure` and `Lattice`\n",
    "objects are directly supported by the DFTK `load_atoms` and `load_lattice`\n",
    "functions, such that DFTK may be readily used to run calculation on systems\n",
    "defined in pymatgen. Using the `pymatgen_structure` function a conversion\n",
    "from DFTK to pymatgen structures is also possible. In the following we\n",
    "use this to create a silicon supercell and find its LDA ground state\n",
    "using direct minimisation."
   ],
   "metadata": {}
  },
  {
   "cell_type": "markdown",
   "source": [
    "First we setup the silicon lattice in DFTK."
   ],
   "metadata": {}
  },
  {
   "outputs": [],
   "cell_type": "code",
   "source": [
    "using DFTK\n",
    "\n",
    "a = 10.263141334305942  # Lattice constant in Bohr\n",
    "lattice = a / 2 .* [[0 1 1.]; [1 0 1.]; [1 1 0.]]\n",
    "Si = ElementPsp(:Si, psp=load_psp(\"hgh/lda/Si-q4\"))\n",
    "atoms = [Si => [ones(3)/8, -ones(3)/8]];"
   ],
   "metadata": {},
   "execution_count": 1
  },
  {
   "cell_type": "markdown",
   "source": [
    "Next we make a `[2, 2, 2]` supercell using pymatgen"
   ],
   "metadata": {}
  },
  {
   "outputs": [],
   "cell_type": "code",
   "source": [
    "pystruct = pymatgen_structure(lattice, atoms)\n",
    "pystruct.make_supercell([2, 2, 2])\n",
    "lattice = load_lattice(pystruct)\n",
    "atoms = [Si => [s.frac_coords for s in pystruct.sites]];"
   ],
   "metadata": {},
   "execution_count": 2
  },
  {
   "cell_type": "markdown",
   "source": [
    "Setup an LDA model and discretize using\n",
    "a single kpoint and a small `Ecut` of 5 Hartree."
   ],
   "metadata": {}
  },
  {
   "outputs": [
    {
     "output_type": "execute_result",
     "data": {
      "text/plain": "PlaneWaveBasis (Ecut=5.0, 1 kpoints)"
     },
     "metadata": {},
     "execution_count": 3
    }
   ],
   "cell_type": "code",
   "source": [
    "model = model_LDA(lattice, atoms)\n",
    "basis = PlaneWaveBasis(model, 5, kgrid=(1, 1, 1))"
   ],
   "metadata": {},
   "execution_count": 3
  },
  {
   "cell_type": "markdown",
   "source": [
    "Find the ground state using direct minimisation (always using SCF is boring ...)"
   ],
   "metadata": {}
  },
  {
   "outputs": [
    {
     "name": "stdout",
     "output_type": "stream",
     "text": [
      "Iter     Function value   Gradient norm \n",
      "     0     1.127014e+02     1.645968e+00\n",
      " * time: 0.3686330318450928\n",
      "     1     1.016898e+01     9.779359e-01\n",
      " * time: 2.30930495262146\n",
      "     2    -1.274010e+01     1.060000e+00\n",
      " * time: 2.9797821044921875\n",
      "     3    -3.424456e+01     9.063216e-01\n",
      " * time: 3.9657609462738037\n",
      "     4    -4.784768e+01     6.961946e-01\n",
      " * time: 4.9306581020355225\n",
      "     5    -5.684164e+01     2.601375e-01\n",
      " * time: 5.850058078765869\n",
      "     6    -5.965884e+01     2.301717e-01\n",
      " * time: 6.458002090454102\n",
      "     7    -6.082223e+01     7.272457e-02\n",
      " * time: 7.060070991516113\n",
      "     8    -6.131443e+01     7.199065e-02\n",
      " * time: 7.695044040679932\n",
      "     9    -6.159552e+01     7.445760e-02\n",
      " * time: 8.311662912368774\n",
      "    10    -6.182426e+01     3.323727e-02\n",
      " * time: 8.909193992614746\n",
      "    11    -6.199562e+01     2.444121e-02\n",
      " * time: 9.509629011154175\n",
      "    12    -6.208239e+01     1.602704e-02\n",
      " * time: 10.084341049194336\n",
      "    13    -6.213631e+01     1.305628e-02\n",
      " * time: 10.656018018722534\n",
      "    14    -6.217527e+01     1.290848e-02\n",
      " * time: 11.235458135604858\n",
      "    15    -6.219647e+01     1.301033e-02\n",
      " * time: 11.877615928649902\n",
      "    16    -6.221011e+01     1.031842e-02\n",
      " * time: 12.54397201538086\n",
      "    17    -6.221963e+01     8.750053e-03\n",
      " * time: 13.215595960617065\n",
      "    18    -6.222718e+01     8.129040e-03\n",
      " * time: 13.878691911697388\n",
      "    19    -6.223367e+01     8.170635e-03\n",
      " * time: 14.550910949707031\n",
      "    20    -6.223978e+01     6.587503e-03\n",
      " * time: 15.217262029647827\n",
      "    21    -6.224576e+01     5.693267e-03\n",
      " * time: 15.881163120269775\n",
      "    22    -6.225114e+01     4.800431e-03\n",
      " * time: 16.548346042633057\n",
      "    23    -6.225541e+01     3.905803e-03\n",
      " * time: 17.22310495376587\n",
      "    24    -6.225822e+01     2.712837e-03\n",
      " * time: 17.892516136169434\n",
      "    25    -6.225982e+01     2.370160e-03\n",
      " * time: 18.559180974960327\n",
      "    26    -6.226064e+01     1.733738e-03\n",
      " * time: 19.22860813140869\n",
      "    27    -6.226107e+01     1.106682e-03\n",
      " * time: 19.903645038604736\n",
      "    28    -6.226129e+01     9.816521e-04\n",
      " * time: 20.57332706451416\n",
      "    29    -6.226142e+01     8.017122e-04\n",
      " * time: 21.24421501159668\n",
      "    30    -6.226150e+01     8.347308e-04\n",
      " * time: 21.888670921325684\n",
      "    31    -6.226155e+01     5.681335e-04\n",
      " * time: 22.433687925338745\n",
      "    32    -6.226159e+01     4.205032e-04\n",
      " * time: 22.981791019439697\n",
      "    33    -6.226162e+01     3.245611e-04\n",
      " * time: 23.544081926345825\n",
      "    34    -6.226164e+01     2.339688e-04\n",
      " * time: 24.08035111427307\n",
      "    35    -6.226165e+01     1.870522e-04\n",
      " * time: 24.59943413734436\n",
      "    36    -6.226166e+01     1.522725e-04\n",
      " * time: 25.13187599182129\n",
      "    37    -6.226166e+01     1.075790e-04\n",
      " * time: 25.66346001625061\n",
      "    38    -6.226166e+01     8.723233e-05\n",
      " * time: 26.193289041519165\n",
      "    39    -6.226167e+01     5.359562e-05\n",
      " * time: 26.72635293006897\n",
      "    40    -6.226167e+01     4.295576e-05\n",
      " * time: 27.294842004776\n",
      "    41    -6.226167e+01     4.193195e-05\n",
      " * time: 27.819143056869507\n",
      "    42    -6.226167e+01     3.210610e-05\n",
      " * time: 28.348798990249634\n",
      "    43    -6.226167e+01     2.634071e-05\n",
      " * time: 28.87254500389099\n",
      "    44    -6.226167e+01     2.114358e-05\n",
      " * time: 29.408798933029175\n",
      "    45    -6.226167e+01     1.536237e-05\n",
      " * time: 29.928049087524414\n",
      "    46    -6.226167e+01     1.145162e-05\n",
      " * time: 30.509958028793335\n",
      "    47    -6.226167e+01     7.755517e-06\n",
      " * time: 31.051834106445312\n",
      "    48    -6.226167e+01     4.785824e-06\n",
      " * time: 31.591071128845215\n",
      "    49    -6.226167e+01     3.233530e-06\n",
      " * time: 32.10446310043335\n",
      "    50    -6.226167e+01     2.540508e-06\n",
      " * time: 32.6425359249115\n"
     ]
    }
   ],
   "cell_type": "code",
   "source": [
    "scfres = direct_minimization(basis, tol=1e-5);"
   ],
   "metadata": {},
   "execution_count": 4
  },
  {
   "outputs": [
    {
     "output_type": "execute_result",
     "data": {
      "text/plain": "Energy breakdown:\n    Kinetic             25.7671073\n    AtomicLocal         -18.8557662\n    AtomicNonlocal      14.8522624\n    Ewald               -67.1831486\n    PspCorrection       -2.3569765\n    Hartree             4.8485374 \n    Xc                  -19.3336822\n\n    total               -62.261666461071\n"
     },
     "metadata": {},
     "execution_count": 5
    }
   ],
   "cell_type": "code",
   "source": [
    "scfres.energies"
   ],
   "metadata": {},
   "execution_count": 5
  }
 ],
 "nbformat_minor": 3,
 "metadata": {
  "language_info": {
   "file_extension": ".jl",
   "mimetype": "application/julia",
   "name": "julia",
   "version": "1.5.4"
  },
  "kernelspec": {
   "name": "julia-1.5",
   "display_name": "Julia 1.5.4",
   "language": "julia"
  }
 },
 "nbformat": 4
}
