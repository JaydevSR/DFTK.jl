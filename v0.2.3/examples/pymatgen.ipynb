{
 "cells": [
  {
   "cell_type": "markdown",
   "source": [
    "# Creating supercells with pymatgen\n",
    "\n",
    "The [Pymatgen](https://pymatgen.org/) python library allows to setup\n",
    "solid-state calculations using a flexible set of classes as well as an API\n",
    "to an online data base of structures. Its `Structure` and `Lattice`\n",
    "objects are directly supported by the DFTK `load_atoms` and `load_lattice`\n",
    "functions, such that DFTK may be readily used to run calculation on systems\n",
    "defined in pymatgen. Using the `pymatgen_structure` function a conversion\n",
    "from DFTK to pymatgen structures is also possible. In the following we\n",
    "use this to create a silicon supercell and find its LDA ground state\n",
    "using direct minimisation."
   ],
   "metadata": {}
  },
  {
   "cell_type": "markdown",
   "source": [
    "First we setup the silicon lattice in DFTK."
   ],
   "metadata": {}
  },
  {
   "outputs": [],
   "cell_type": "code",
   "source": [
    "using DFTK\n",
    "\n",
    "a = 10.263141334305942  # Lattice constant in Bohr\n",
    "lattice = a / 2 .* [[0 1 1.]; [1 0 1.]; [1 1 0.]]\n",
    "Si = ElementPsp(:Si, psp=load_psp(\"hgh/lda/Si-q4\"))\n",
    "atoms = [Si => [ones(3)/8, -ones(3)/8]];"
   ],
   "metadata": {},
   "execution_count": 1
  },
  {
   "cell_type": "markdown",
   "source": [
    "Next we make a `[2, 2, 2]` supercell using pymatgen"
   ],
   "metadata": {}
  },
  {
   "outputs": [],
   "cell_type": "code",
   "source": [
    "pystruct = pymatgen_structure(lattice, atoms)\n",
    "pystruct.make_supercell([2, 2, 2])\n",
    "lattice = load_lattice(pystruct)\n",
    "atoms = [Si => [s.frac_coords for s in pystruct.sites]];"
   ],
   "metadata": {},
   "execution_count": 2
  },
  {
   "cell_type": "markdown",
   "source": [
    "Setup an LDA model and discretize using\n",
    "a single kpoint and a small `Ecut` of 5 Hartree."
   ],
   "metadata": {}
  },
  {
   "outputs": [
    {
     "output_type": "execute_result",
     "data": {
      "text/plain": "PlaneWaveBasis (Ecut=5.0, 1 kpoints)"
     },
     "metadata": {},
     "execution_count": 3
    }
   ],
   "cell_type": "code",
   "source": [
    "model = model_LDA(lattice, atoms)\n",
    "basis = PlaneWaveBasis(model, 5, kgrid=(1, 1, 1))"
   ],
   "metadata": {},
   "execution_count": 3
  },
  {
   "cell_type": "markdown",
   "source": [
    "Find the ground state using direct minimisation (always using SCF is boring ...)"
   ],
   "metadata": {}
  },
  {
   "outputs": [
    {
     "name": "stdout",
     "output_type": "stream",
     "text": [
      "Iter     Function value   Gradient norm \n",
      "     0     1.116087e+02     1.508152e+00\n",
      " * time: 0.3504750728607178\n",
      "     1     1.028278e+01     9.225900e-01\n",
      " * time: 2.1853160858154297\n",
      "     2    -1.174220e+01     1.074814e+00\n",
      " * time: 2.8192861080169678\n",
      "     3    -3.454695e+01     7.779598e-01\n",
      " * time: 3.7571470737457275\n",
      "     4    -4.811129e+01     5.786060e-01\n",
      " * time: 4.693840980529785\n",
      "     5    -5.727865e+01     2.103109e-01\n",
      " * time: 5.628754138946533\n",
      "     6    -6.003898e+01     1.074885e-01\n",
      " * time: 6.302014112472534\n",
      "     7    -6.101716e+01     5.024535e-02\n",
      " * time: 6.932619094848633\n",
      "     8    -6.138297e+01     7.711410e-02\n",
      " * time: 7.554067134857178\n",
      "     9    -6.167357e+01     3.099491e-02\n",
      " * time: 8.18657398223877\n",
      "    10    -6.185817e+01     2.440849e-02\n",
      " * time: 8.83611512184143\n",
      "    11    -6.199986e+01     2.048309e-02\n",
      " * time: 9.469542980194092\n",
      "    12    -6.205737e+01     2.008302e-02\n",
      " * time: 10.107649087905884\n",
      "    13    -6.211077e+01     1.219386e-02\n",
      " * time: 10.749650955200195\n",
      "    14    -6.213814e+01     1.401865e-02\n",
      " * time: 11.401219129562378\n",
      "    15    -6.216393e+01     1.112785e-02\n",
      " * time: 12.03902006149292\n",
      "    16    -6.218042e+01     1.067413e-02\n",
      " * time: 12.665158987045288\n",
      "    17    -6.219252e+01     9.287902e-03\n",
      " * time: 13.297203063964844\n",
      "    18    -6.220081e+01     5.939324e-03\n",
      " * time: 13.918607950210571\n",
      "    19    -6.220613e+01     4.128648e-03\n",
      " * time: 14.554705142974854\n",
      "    20    -6.220942e+01     4.610274e-03\n",
      " * time: 15.189898014068604\n",
      "    21    -6.221165e+01     3.840152e-03\n",
      " * time: 15.82620096206665\n",
      "    22    -6.221333e+01     3.412147e-03\n",
      " * time: 16.462996006011963\n",
      "    23    -6.221466e+01     3.635434e-03\n",
      " * time: 17.09042501449585\n",
      "    24    -6.221577e+01     3.696759e-03\n",
      " * time: 17.736933946609497\n",
      "    25    -6.221701e+01     3.945788e-03\n",
      " * time: 18.3677499294281\n",
      "    26    -6.221885e+01     4.733743e-03\n",
      " * time: 19.00513792037964\n",
      "    27    -6.222200e+01     5.539578e-03\n",
      " * time: 19.6425359249115\n",
      "    28    -6.222644e+01     6.956404e-03\n",
      " * time: 20.291372060775757\n",
      "    29    -6.223281e+01     6.714157e-03\n",
      " * time: 20.938617944717407\n",
      "    30    -6.224389e+01     5.544390e-03\n",
      " * time: 21.58314299583435\n",
      "    31    -6.224969e+01     5.910940e-03\n",
      " * time: 22.227626085281372\n",
      "    32    -6.225405e+01     3.830576e-03\n",
      " * time: 22.86149001121521\n",
      "    33    -6.225655e+01     3.234329e-03\n",
      " * time: 23.496642112731934\n",
      "    34    -6.225854e+01     2.507171e-03\n",
      " * time: 24.122928142547607\n",
      "    35    -6.225971e+01     2.106446e-03\n",
      " * time: 24.77339792251587\n",
      "    36    -6.226050e+01     1.748675e-03\n",
      " * time: 25.420380115509033\n",
      "    37    -6.226095e+01     1.255341e-03\n",
      " * time: 26.06313395500183\n",
      "    38    -6.226123e+01     9.125474e-04\n",
      " * time: 26.708059072494507\n",
      "    39    -6.226140e+01     7.806678e-04\n",
      " * time: 27.36896514892578\n",
      "    40    -6.226150e+01     5.741039e-04\n",
      " * time: 28.001572132110596\n",
      "    41    -6.226156e+01     5.199017e-04\n",
      " * time: 28.639204025268555\n",
      "    42    -6.226160e+01     4.313576e-04\n",
      " * time: 29.2771999835968\n",
      "    43    -6.226163e+01     3.278451e-04\n",
      " * time: 29.902729988098145\n",
      "    44    -6.226164e+01     2.907568e-04\n",
      " * time: 30.530128002166748\n",
      "    45    -6.226165e+01     2.057408e-04\n",
      " * time: 31.171567916870117\n",
      "    46    -6.226166e+01     1.612629e-04\n",
      " * time: 31.818525075912476\n",
      "    47    -6.226166e+01     9.679327e-05\n",
      " * time: 32.45714807510376\n",
      "    48    -6.226166e+01     8.045167e-05\n",
      " * time: 33.08185410499573\n",
      "    49    -6.226166e+01     6.015754e-05\n",
      " * time: 33.71068596839905\n",
      "    50    -6.226167e+01     5.720247e-05\n",
      " * time: 34.33497714996338\n",
      "    51    -6.226167e+01     3.804206e-05\n",
      " * time: 34.968722105026245\n",
      "    52    -6.226167e+01     3.478111e-05\n",
      " * time: 35.59068202972412\n",
      "    53    -6.226167e+01     2.653748e-05\n",
      " * time: 36.23573613166809\n",
      "    54    -6.226167e+01     1.845746e-05\n",
      " * time: 36.8725950717926\n",
      "    55    -6.226167e+01     1.521670e-05\n",
      " * time: 37.499205112457275\n",
      "    56    -6.226167e+01     1.282459e-05\n",
      " * time: 38.13550615310669\n",
      "    57    -6.226167e+01     9.939175e-06\n",
      " * time: 38.76693797111511\n",
      "    58    -6.226167e+01     7.576510e-06\n",
      " * time: 39.397611141204834\n",
      "    59    -6.226167e+01     6.891438e-06\n",
      " * time: 40.03083515167236\n",
      "    60    -6.226167e+01     5.882926e-06\n",
      " * time: 40.66487503051758\n",
      "    61    -6.226167e+01     4.394831e-06\n",
      " * time: 41.30899214744568\n",
      "    62    -6.226167e+01     2.782925e-06\n",
      " * time: 41.968966007232666\n",
      "    63    -6.226167e+01     2.014751e-06\n",
      " * time: 42.61227512359619\n"
     ]
    }
   ],
   "cell_type": "code",
   "source": [
    "scfres = direct_minimization(basis, tol=1e-5);"
   ],
   "metadata": {},
   "execution_count": 4
  },
  {
   "outputs": [
    {
     "output_type": "execute_result",
     "data": {
      "text/plain": "Energy breakdown:\n    Kinetic             25.7671062\n    AtomicLocal         -18.8557648\n    AtomicNonlocal      14.8522628\n    Ewald               -67.1831486\n    PspCorrection       -2.3569765\n    Hartree             4.8485359 \n    Xc                  -19.3336815\n\n    total               -62.261666461869\n"
     },
     "metadata": {},
     "execution_count": 5
    }
   ],
   "cell_type": "code",
   "source": [
    "scfres.energies"
   ],
   "metadata": {},
   "execution_count": 5
  }
 ],
 "nbformat_minor": 3,
 "metadata": {
  "language_info": {
   "file_extension": ".jl",
   "mimetype": "application/julia",
   "name": "julia",
   "version": "1.5.3"
  },
  "kernelspec": {
   "name": "julia-1.5",
   "display_name": "Julia 1.5.3",
   "language": "julia"
  }
 },
 "nbformat": 4
}
