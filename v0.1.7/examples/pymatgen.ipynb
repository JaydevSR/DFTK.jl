{
 "cells": [
  {
   "cell_type": "markdown",
   "source": [
    "# Creating supercells with pymatgen\n",
    "\n",
    "The [Pymatgen](https://pymatgen.org/) python library allows to setup\n",
    "solid-state calculations using a flexible set of classes as well as an API\n",
    "to an online data base of structures. Its `Structure` and `Lattice`\n",
    "objects are directly supported by the DFTK `load_atoms` and `load_lattice`\n",
    "functions, such that DFTK may be readily used to run calculation on systems\n",
    "defined in pymatgen. Using the `pymatgen_structure` function a conversion\n",
    "from DFTK to pymatgen structures is also possible. In the following we\n",
    "use this to create a silicon supercell and find its LDA ground state\n",
    "using direct minimisation."
   ],
   "metadata": {}
  },
  {
   "cell_type": "markdown",
   "source": [
    "First we setup the silicon lattice in DFTK."
   ],
   "metadata": {}
  },
  {
   "outputs": [],
   "cell_type": "code",
   "source": [
    "using DFTK\n",
    "\n",
    "a = 10.263141334305942  # Lattice constant in Bohr\n",
    "lattice = a / 2 .* [[0 1 1.]; [1 0 1.]; [1 1 0.]]\n",
    "Si = ElementPsp(:Si, psp=load_psp(\"hgh/lda/Si-q4\"))\n",
    "atoms = [Si => [ones(3)/8, -ones(3)/8]];"
   ],
   "metadata": {},
   "execution_count": 1
  },
  {
   "cell_type": "markdown",
   "source": [
    "Next we make a `[2, 2, 2]` supercell using pymatgen"
   ],
   "metadata": {}
  },
  {
   "outputs": [],
   "cell_type": "code",
   "source": [
    "pystruct = pymatgen_structure(lattice, atoms)\n",
    "pystruct.make_supercell([2, 2, 2])\n",
    "lattice = load_lattice(pystruct)\n",
    "atoms = [Si => [s.frac_coords for s in pystruct.sites]];"
   ],
   "metadata": {},
   "execution_count": 2
  },
  {
   "cell_type": "markdown",
   "source": [
    "Setup an LDA model and discretize using\n",
    "a single kpoint and a small `Ecut` of 5 Hartree."
   ],
   "metadata": {}
  },
  {
   "outputs": [
    {
     "output_type": "execute_result",
     "data": {
      "text/plain": "PlaneWaveBasis (Ecut=5.0, 1 kpoints)"
     },
     "metadata": {},
     "execution_count": 3
    }
   ],
   "cell_type": "code",
   "source": [
    "model = model_LDA(lattice, atoms)\n",
    "basis = PlaneWaveBasis(model, 5, kgrid=(1, 1, 1))"
   ],
   "metadata": {},
   "execution_count": 3
  },
  {
   "cell_type": "markdown",
   "source": [
    "Find the ground state using direct minimisation (always using SCF is boring ...)"
   ],
   "metadata": {}
  },
  {
   "outputs": [
    {
     "name": "stdout",
     "output_type": "stream",
     "text": [
      "Iter     Function value   Gradient norm \n",
      "     0     1.122318e+02     1.565452e+00\n",
      " * time: 0.09536409378051758\n",
      "     1     1.086646e+01     1.061690e+00\n",
      " * time: 1.0137619972229004\n",
      "     2    -1.178703e+01     1.100925e+00\n",
      " * time: 1.1424801349639893\n",
      "     3    -3.385328e+01     7.721938e-01\n",
      " * time: 1.4513180255889893\n",
      "     4    -4.724548e+01     5.962187e-01\n",
      " * time: 1.910114049911499\n",
      "     5    -5.682023e+01     1.908494e-01\n",
      " * time: 2.058990001678467\n",
      "     6    -5.972318e+01     1.372165e-01\n",
      " * time: 2.1799490451812744\n",
      "     7    -6.085849e+01     5.156289e-02\n",
      " * time: 2.3018441200256348\n",
      "     8    -6.131510e+01     5.118233e-02\n",
      " * time: 2.422210931777954\n",
      "     9    -6.156307e+01     4.147966e-02\n",
      " * time: 2.53706693649292\n",
      "    10    -6.178187e+01     2.972093e-02\n",
      " * time: 2.6586639881134033\n",
      "    11    -6.194825e+01     2.298466e-02\n",
      " * time: 2.7790701389312744\n",
      "    12    -6.203477e+01     1.730676e-02\n",
      " * time: 2.900775909423828\n",
      "    13    -6.209594e+01     1.371984e-02\n",
      " * time: 3.015986919403076\n",
      "    14    -6.213582e+01     1.078852e-02\n",
      " * time: 3.1374330520629883\n",
      "    15    -6.216252e+01     1.009813e-02\n",
      " * time: 3.2576980590820312\n",
      "    16    -6.217881e+01     9.110069e-03\n",
      " * time: 3.37726092338562\n",
      "    17    -6.219071e+01     7.504788e-03\n",
      " * time: 3.490647077560425\n",
      "    18    -6.220010e+01     6.627845e-03\n",
      " * time: 3.6117560863494873\n",
      "    19    -6.220779e+01     5.706607e-03\n",
      " * time: 3.7316811084747314\n",
      "    20    -6.221430e+01     6.820807e-03\n",
      " * time: 3.851736068725586\n",
      "    21    -6.222065e+01     5.399963e-03\n",
      " * time: 3.96579909324646\n",
      "    22    -6.222655e+01     5.710840e-03\n",
      " * time: 4.084999084472656\n",
      "    23    -6.223213e+01     6.147143e-03\n",
      " * time: 4.205821990966797\n",
      "    24    -6.223747e+01     5.297247e-03\n",
      " * time: 4.32539701461792\n",
      "    25    -6.224266e+01     5.303188e-03\n",
      " * time: 4.447113990783691\n",
      "    26    -6.224779e+01     4.471479e-03\n",
      " * time: 4.560956954956055\n",
      "    27    -6.225211e+01     3.698783e-03\n",
      " * time: 4.680889129638672\n",
      "    28    -6.225535e+01     3.239353e-03\n",
      " * time: 4.801916122436523\n",
      "    29    -6.225786e+01     2.599255e-03\n",
      " * time: 4.923574924468994\n",
      "    30    -6.225946e+01     2.254295e-03\n",
      " * time: 5.038027048110962\n",
      "    31    -6.226042e+01     1.627685e-03\n",
      " * time: 5.158473968505859\n",
      "    32    -6.226096e+01     1.185341e-03\n",
      " * time: 5.278083086013794\n",
      "    33    -6.226127e+01     1.066437e-03\n",
      " * time: 5.395761966705322\n",
      "    34    -6.226146e+01     6.420645e-04\n",
      " * time: 5.508224010467529\n",
      "    35    -6.226156e+01     5.348582e-04\n",
      " * time: 5.626827955245972\n",
      "    36    -6.226161e+01     4.422121e-04\n",
      " * time: 5.745767116546631\n",
      "    37    -6.226163e+01     3.612857e-04\n",
      " * time: 5.865941047668457\n",
      "    38    -6.226164e+01     3.087290e-04\n",
      " * time: 5.978832006454468\n",
      "    39    -6.226165e+01     2.048246e-04\n",
      " * time: 6.097949028015137\n",
      "    40    -6.226166e+01     1.623273e-04\n",
      " * time: 6.219054937362671\n",
      "    41    -6.226166e+01     1.232162e-04\n",
      " * time: 6.338736057281494\n",
      "    42    -6.226166e+01     8.912304e-05\n",
      " * time: 6.457047939300537\n",
      "    43    -6.226166e+01     6.118003e-05\n",
      " * time: 6.5694580078125\n",
      "    44    -6.226167e+01     4.431655e-05\n",
      " * time: 6.691035985946655\n",
      "    45    -6.226167e+01     3.282087e-05\n",
      " * time: 6.813619136810303\n",
      "    46    -6.226167e+01     2.526606e-05\n",
      " * time: 6.934385061264038\n",
      "    47    -6.226167e+01     2.018764e-05\n",
      " * time: 7.047840118408203\n",
      "    48    -6.226167e+01     1.310629e-05\n",
      " * time: 7.166610956192017\n",
      "    49    -6.226167e+01     8.361476e-06\n",
      " * time: 7.284625053405762\n",
      "    50    -6.226167e+01     8.457642e-06\n",
      " * time: 7.4038801193237305\n",
      "    51    -6.226167e+01     7.317151e-06\n",
      " * time: 7.51789402961731\n",
      "    52    -6.226167e+01     6.130646e-06\n",
      " * time: 7.639894962310791\n",
      "    53    -6.226167e+01     4.341318e-06\n",
      " * time: 7.760270118713379\n",
      "    54    -6.226167e+01     3.823438e-06\n",
      " * time: 7.879878997802734\n",
      "    55    -6.226167e+01     2.774022e-06\n",
      " * time: 7.994821071624756\n",
      "    56    -6.226167e+01     2.189795e-06\n",
      " * time: 8.113728046417236\n"
     ]
    }
   ],
   "cell_type": "code",
   "source": [
    "scfres = direct_minimization(basis, tol=1e-5);"
   ],
   "metadata": {},
   "execution_count": 4
  },
  {
   "outputs": [
    {
     "output_type": "execute_result",
     "data": {
      "text/plain": "Energy breakdown:\n    Kinetic             25.7671063\n    AtomicLocal         -18.8557684\n    AtomicNonlocal      14.8522658\n    Ewald               -67.1831486\n    PspCorrection       -2.3569765\n    Hartree             4.8485369 \n    Xc                  -19.3336819\n\n    total               -62.261666461562\n"
     },
     "metadata": {},
     "execution_count": 5
    }
   ],
   "cell_type": "code",
   "source": [
    "scfres.energies"
   ],
   "metadata": {},
   "execution_count": 5
  }
 ],
 "nbformat_minor": 3,
 "metadata": {
  "language_info": {
   "file_extension": ".jl",
   "mimetype": "application/julia",
   "name": "julia",
   "version": "1.3.1"
  },
  "kernelspec": {
   "name": "julia-1.3",
   "display_name": "Julia 1.3.1",
   "language": "julia"
  }
 },
 "nbformat": 4
}
