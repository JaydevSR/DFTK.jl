{
 "cells": [
  {
   "cell_type": "markdown",
   "source": [
    "# Creating supercells with pymatgen\n",
    "\n",
    "The [Pymatgen](https://pymatgen.org/) python library allows to setup\n",
    "solid-state calculations using a flexible set of classes as well as an API\n",
    "to an online data base of structures. Its `Structure` and `Lattice`\n",
    "objects are directly supported by the DFTK `load_atoms` and `load_lattice`\n",
    "functions, such that DFTK may be readily used to run calculation on systems\n",
    "defined in pymatgen. Using the `pymatgen_structure` function a conversion\n",
    "from DFTK to pymatgen structures is also possible. In the following we\n",
    "use this to create a silicon supercell and find its LDA ground state\n",
    "using direct minimisation."
   ],
   "metadata": {}
  },
  {
   "cell_type": "markdown",
   "source": [
    "First we setup the silicon lattice in DFTK."
   ],
   "metadata": {}
  },
  {
   "outputs": [],
   "cell_type": "code",
   "source": [
    "using DFTK\n",
    "\n",
    "a = 10.263141334305942  # Lattice constant in Bohr\n",
    "lattice = a / 2 .* [[0 1 1.]; [1 0 1.]; [1 1 0.]]\n",
    "Si = ElementPsp(:Si, psp=load_psp(\"hgh/lda/Si-q4\"))\n",
    "atoms = [Si => [ones(3)/8, -ones(3)/8]];"
   ],
   "metadata": {},
   "execution_count": 1
  },
  {
   "cell_type": "markdown",
   "source": [
    "Next we make a `[2, 2, 2]` supercell using pymatgen"
   ],
   "metadata": {}
  },
  {
   "outputs": [],
   "cell_type": "code",
   "source": [
    "pystruct = pymatgen_structure(lattice, atoms)\n",
    "pystruct.make_supercell([2, 2, 2])\n",
    "lattice = load_lattice(pystruct)\n",
    "atoms = [Si => [s.frac_coords for s in pystruct.sites]];"
   ],
   "metadata": {},
   "execution_count": 2
  },
  {
   "cell_type": "markdown",
   "source": [
    "Setup an LDA model and discretize using\n",
    "a single kpoint and a small `Ecut` of 5 Hartree."
   ],
   "metadata": {}
  },
  {
   "outputs": [
    {
     "output_type": "execute_result",
     "data": {
      "text/plain": "PlaneWaveBasis (Ecut=5.0, 1 kpoints)"
     },
     "metadata": {},
     "execution_count": 3
    }
   ],
   "cell_type": "code",
   "source": [
    "model = model_LDA(lattice, atoms)\n",
    "basis = PlaneWaveBasis(model, 5, kgrid=(1, 1, 1))"
   ],
   "metadata": {},
   "execution_count": 3
  },
  {
   "cell_type": "markdown",
   "source": [
    "Find the ground state using direct minimisation (always using SCF is boring ...)"
   ],
   "metadata": {}
  },
  {
   "outputs": [
    {
     "name": "stdout",
     "output_type": "stream",
     "text": [
      "Iter     Function value   Gradient norm \n",
      "     0     1.125163e+02     1.683444e+00\n",
      " * time: 0.07442092895507812\n",
      "     1     1.060166e+01     1.000549e+00\n",
      " * time: 1.4081988334655762\n",
      "     2    -1.175219e+01     1.139735e+00\n",
      " * time: 1.520354986190796\n",
      "     3    -3.379286e+01     7.842161e-01\n",
      " * time: 1.6302669048309326\n",
      "     4    -4.714633e+01     5.825166e-01\n",
      " * time: 1.7564399242401123\n",
      "     5    -5.683189e+01     2.328308e-01\n",
      " * time: 1.8736579418182373\n",
      "     6    -5.968533e+01     1.874247e-01\n",
      " * time: 1.9463839530944824\n",
      "     7    -6.088317e+01     8.674795e-02\n",
      " * time: 2.021021842956543\n",
      "     8    -6.141235e+01     4.472139e-02\n",
      " * time: 2.1063590049743652\n",
      "     9    -6.169802e+01     3.852340e-02\n",
      " * time: 2.1841468811035156\n",
      "    10    -6.185809e+01     4.134820e-02\n",
      " * time: 2.2580888271331787\n",
      "    11    -6.199476e+01     2.409734e-02\n",
      " * time: 2.342028856277466\n",
      "    12    -6.206872e+01     1.660792e-02\n",
      " * time: 2.4303858280181885\n",
      "    13    -6.211469e+01     1.310387e-02\n",
      " * time: 2.507253885269165\n",
      "    14    -6.214826e+01     1.475271e-02\n",
      " * time: 2.5909459590911865\n",
      "    15    -6.217092e+01     1.152360e-02\n",
      " * time: 2.66666579246521\n",
      "    16    -6.218638e+01     9.419403e-03\n",
      " * time: 2.743010997772217\n",
      "    17    -6.219778e+01     9.358290e-03\n",
      " * time: 2.821047782897949\n",
      "    18    -6.220660e+01     8.234250e-03\n",
      " * time: 2.9060728549957275\n",
      "    19    -6.221401e+01     8.072754e-03\n",
      " * time: 2.9810659885406494\n",
      "    20    -6.222055e+01     7.100349e-03\n",
      " * time: 3.057788848876953\n",
      "    21    -6.222747e+01     6.683824e-03\n",
      " * time: 3.138162851333618\n",
      "    22    -6.223485e+01     6.105189e-03\n",
      " * time: 3.2177109718322754\n",
      "    23    -6.224213e+01     5.368224e-03\n",
      " * time: 3.2914319038391113\n",
      "    24    -6.224824e+01     5.012342e-03\n",
      " * time: 3.368626832962036\n",
      "    25    -6.225240e+01     4.592077e-03\n",
      " * time: 3.451521873474121\n",
      "    26    -6.225529e+01     4.193766e-03\n",
      " * time: 3.5256879329681396\n",
      "    27    -6.225732e+01     3.318391e-03\n",
      " * time: 3.598994016647339\n",
      "    28    -6.225871e+01     2.742178e-03\n",
      " * time: 3.6811928749084473\n",
      "    29    -6.225970e+01     2.116828e-03\n",
      " * time: 3.7565958499908447\n",
      "    30    -6.226045e+01     1.866317e-03\n",
      " * time: 3.8327929973602295\n",
      "    31    -6.226097e+01     1.430458e-03\n",
      " * time: 3.9161159992218018\n",
      "    32    -6.226129e+01     9.715023e-04\n",
      " * time: 3.993825912475586\n",
      "    33    -6.226148e+01     6.852608e-04\n",
      " * time: 4.069645881652832\n",
      "    34    -6.226158e+01     4.247420e-04\n",
      " * time: 4.1444008350372314\n",
      "    35    -6.226163e+01     3.352697e-04\n",
      " * time: 4.228296995162964\n",
      "    36    -6.226165e+01     3.274319e-04\n",
      " * time: 4.305337905883789\n",
      "    37    -6.226166e+01     2.120502e-04\n",
      " * time: 4.3909900188446045\n",
      "    38    -6.226166e+01     1.262009e-04\n",
      " * time: 4.474836826324463\n",
      "    39    -6.226166e+01     9.257791e-05\n",
      " * time: 4.550301790237427\n",
      "    40    -6.226166e+01     7.835113e-05\n",
      " * time: 4.6262218952178955\n",
      "    41    -6.226166e+01     6.367422e-05\n",
      " * time: 4.708501815795898\n",
      "    42    -6.226167e+01     6.091855e-05\n",
      " * time: 4.786352872848511\n",
      "    43    -6.226167e+01     3.732886e-05\n",
      " * time: 4.865405797958374\n",
      "    44    -6.226167e+01     2.822522e-05\n",
      " * time: 4.940643787384033\n",
      "    45    -6.226167e+01     2.716651e-05\n",
      " * time: 5.024302959442139\n",
      "    46    -6.226167e+01     1.805857e-05\n",
      " * time: 5.098430871963501\n",
      "    47    -6.226167e+01     1.445114e-05\n",
      " * time: 5.176337003707886\n",
      "    48    -6.226167e+01     1.337830e-05\n",
      " * time: 5.262537956237793\n",
      "    49    -6.226167e+01     7.807462e-06\n",
      " * time: 5.339044809341431\n",
      "    50    -6.226167e+01     6.624390e-06\n",
      " * time: 5.414999961853027\n",
      "    51    -6.226167e+01     5.694768e-06\n",
      " * time: 5.489182949066162\n",
      "    52    -6.226167e+01     4.835063e-06\n",
      " * time: 5.570072889328003\n",
      "    53    -6.226167e+01     4.180646e-06\n",
      " * time: 5.6441168785095215\n",
      "    54    -6.226167e+01     3.024080e-06\n",
      " * time: 5.720885992050171\n",
      "    55    -6.226167e+01     2.529014e-06\n",
      " * time: 5.807113885879517\n",
      "    56    -6.226167e+01     1.511129e-06\n",
      " * time: 5.880239009857178\n"
     ]
    }
   ],
   "cell_type": "code",
   "source": [
    "scfres = direct_minimization(basis, tol=1e-5);"
   ],
   "metadata": {},
   "execution_count": 4
  },
  {
   "outputs": [
    {
     "output_type": "execute_result",
     "data": {
      "text/plain": "Energy breakdown:\n    Kinetic             25.7671069\n    AtomicLocal         -18.8557672\n    AtomicNonlocal      14.8522639\n    Ewald               -67.1831486\n    PspCorrection       -2.3569765\n    Hartree             4.8485372 \n    Xc                  -19.3336820\n\n    total               -62.261666462606\n"
     },
     "metadata": {},
     "execution_count": 5
    }
   ],
   "cell_type": "code",
   "source": [
    "scfres.energies"
   ],
   "metadata": {},
   "execution_count": 5
  }
 ],
 "nbformat_minor": 3,
 "metadata": {
  "language_info": {
   "file_extension": ".jl",
   "mimetype": "application/julia",
   "name": "julia",
   "version": "1.5.3"
  },
  "kernelspec": {
   "name": "julia-1.5",
   "display_name": "Julia 1.5.3",
   "language": "julia"
  }
 },
 "nbformat": 4
}
