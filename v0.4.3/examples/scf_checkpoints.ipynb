{
 "cells": [
  {
   "cell_type": "markdown",
   "source": [
    "# Saving SCF results on disk and SCF checkpoints\n",
    "\n",
    "For longer DFT calculations it is pretty standard to run them on a cluster\n",
    "in advance and to perform postprocessing (band structure calculation,\n",
    "plotting of density, etc.) at a later point and potentially on a different\n",
    "machine.\n",
    "\n",
    "To support such workflows DFTK offers the two functions `save_scfres`\n",
    "and `load_scfres`, which allow to save the data structure returned\n",
    "by `self_consistent_field` on disk or retrieve it back into memory,\n",
    "respectively. For this purpose DFTK uses the\n",
    "[JLD2.jl](https://github.com/JuliaIO/JLD2.jl) file format and Julia package.\n",
    "For the moment this process is considered an experimental feature and\n",
    "has a number of caveats, see the warnings below.\n",
    "\n",
    "!!! warning \"Saving `scfres` is experimental\"\n",
    "    The `load_scfres` and `save_scfres` pair of functions\n",
    "    are experimental features. This means:\n",
    "\n",
    "    - The interface of these functions\n",
    "      as well as the format in which the data is stored on disk can\n",
    "      change incompatibly in the future. At this point we make no promises ...\n",
    "    - JLD2 is not yet completely matured\n",
    "      and it is recommended to only use it for short-term storage\n",
    "      and **not** to archive scientific results.\n",
    "    - If you are using the functions to transfer data between different\n",
    "      machines ensure that you use the **same version of Julia, JLD2 and DFTK**\n",
    "      for saving and loading data.\n",
    "\n",
    "To illustrate the use of the functions in practice we will compute\n",
    "the total energy of the O₂ molecule at PBE level. To get the triplet\n",
    "ground state we use a collinear spin polarisation\n",
    "(see Collinear spin and magnetic systems for details)\n",
    "and a bit of temperature to ease convergence:"
   ],
   "metadata": {}
  },
  {
   "outputs": [
    {
     "name": "stdout",
     "output_type": "stream",
     "text": [
      "n     Free energy       Eₙ-Eₙ₋₁     ρout-ρin   Magnet   α      Diag\n",
      "---   ---------------   ---------   --------   ------   ----   ----\n",
      "  1   -27.63651954881         NaN   7.36e-01    0.001   0.80    4.5\n",
      "  2   -28.84480849116   -1.21e+00   1.83e-01    0.539   0.80    2.5\n",
      "  3   -28.92951875499   -8.47e-02   7.44e-02    1.045   0.80    7.5\n",
      "  4   -28.93833950900   -8.82e-03   5.66e-02    1.840   0.80    4.0\n"
     ]
    }
   ],
   "cell_type": "code",
   "source": [
    "using DFTK\n",
    "using LinearAlgebra\n",
    "using JLD2\n",
    "\n",
    "d = 2.079  # oxygen-oxygen bondlength\n",
    "a = 9.0    # size of the simulation box\n",
    "lattice = diagm(a * ones(3))\n",
    "O = ElementPsp(:O, psp=load_psp(\"hgh/pbe/O-q6.hgh\"))\n",
    "atoms = [O => d / 2a * [[0, 0, 1], [0, 0, -1]]]\n",
    "magnetic_moments = [O => [1., 1.]]\n",
    "\n",
    "Ecut  = 10  # Far too small to be converged\n",
    "model = model_PBE(lattice, atoms, temperature=0.02, smearing=smearing=Smearing.Gaussian(),\n",
    "                  magnetic_moments=magnetic_moments)\n",
    "basis = PlaneWaveBasis(model; Ecut, kgrid=[1, 1, 1])\n",
    "\n",
    "scfres = self_consistent_field(basis, tol=1e-2, ρ=guess_density(basis, magnetic_moments))\n",
    "save_scfres(\"scfres.jld2\", scfres);"
   ],
   "metadata": {},
   "execution_count": 1
  },
  {
   "outputs": [
    {
     "output_type": "execute_result",
     "data": {
      "text/plain": "Energy breakdown (in Ha):\n    Kinetic             16.7094856\n    AtomicLocal         -58.3615760\n    AtomicNonlocal      4.6954892 \n    Ewald               -4.8994689\n    PspCorrection       0.0044178 \n    Hartree             19.2904809\n    Xc                  -6.3720073\n    Entropy             -0.0051608\n\n    total               -28.938339508998"
     },
     "metadata": {},
     "execution_count": 2
    }
   ],
   "cell_type": "code",
   "source": [
    "scfres.energies"
   ],
   "metadata": {},
   "execution_count": 2
  },
  {
   "cell_type": "markdown",
   "source": [
    "The `scfres.jld2` file could now be transfered to a different computer,\n",
    "Where one could fire up a REPL to inspect the results of the above\n",
    "calculation:"
   ],
   "metadata": {}
  },
  {
   "outputs": [
    {
     "output_type": "execute_result",
     "data": {
      "text/plain": "(:ham, :basis, :energies, :converged, :ρ, :eigenvalues, :occupation, :εF, :n_iter, :n_ep_extra, :ψ, :diagonalization, :stage, :algorithm)"
     },
     "metadata": {},
     "execution_count": 3
    }
   ],
   "cell_type": "code",
   "source": [
    "using DFTK\n",
    "using JLD2\n",
    "loaded = load_scfres(\"scfres.jld2\")\n",
    "propertynames(loaded)"
   ],
   "metadata": {},
   "execution_count": 3
  },
  {
   "outputs": [
    {
     "output_type": "execute_result",
     "data": {
      "text/plain": "Energy breakdown (in Ha):\n    Kinetic             16.7094856\n    AtomicLocal         -58.3615760\n    AtomicNonlocal      4.6954892 \n    Ewald               -4.8994689\n    PspCorrection       0.0044178 \n    Hartree             19.2904809\n    Xc                  -6.3720073\n    Entropy             -0.0051608\n\n    total               -28.938339508998"
     },
     "metadata": {},
     "execution_count": 4
    }
   ],
   "cell_type": "code",
   "source": [
    "loaded.energies"
   ],
   "metadata": {},
   "execution_count": 4
  },
  {
   "cell_type": "markdown",
   "source": [
    "Since the loaded data contains exactly the same data as the `scfres` returned by the\n",
    "SCF calculation one could use it to plot a band structure, e.g.\n",
    "`plot_bandstructure(load_scfres(\"scfres.jld2\"))` directly from the stored data."
   ],
   "metadata": {}
  },
  {
   "cell_type": "markdown",
   "source": [
    "## Checkpointing of SCF calculations\n",
    "A related feature, which is very useful especially for longer calculations with DFTK\n",
    "is automatic checkpointing, where the state of the SCF is periodically written to disk.\n",
    "The advantage is that in case the calculation errors or gets aborted due\n",
    "to overrunning the walltime limit one does not need to start from scratch,\n",
    "but can continue the calculation from the last checkpoint.\n",
    "\n",
    "To enable automatic checkpointing in DFTK one needs to pass the `ScfSaveCheckpoints`\n",
    "callback to `self_consistent_field`, for example:"
   ],
   "metadata": {}
  },
  {
   "outputs": [],
   "cell_type": "code",
   "source": [
    "callback = DFTK.ScfSaveCheckpoints()\n",
    "scfres = self_consistent_field(basis; ρ=guess_density(basis, magnetic_moments),\n",
    "                               tol=1e-2, callback=callback);"
   ],
   "metadata": {},
   "execution_count": 5
  },
  {
   "cell_type": "markdown",
   "source": [
    "Notice that using this callback makes the SCF go silent since the passed\n",
    "callback parameter overwrites the default value (namely `DefaultScfCallback()`)\n",
    "which exactly gives the familiar printing of the SCF convergence.\n",
    "If you want to have both (printing and checkpointing) you need to chain\n",
    "both callbacks:"
   ],
   "metadata": {}
  },
  {
   "outputs": [
    {
     "name": "stdout",
     "output_type": "stream",
     "text": [
      "n     Free energy       Eₙ-Eₙ₋₁     ρout-ρin   Magnet   α      Diag\n",
      "---   ---------------   ---------   --------   ------   ----   ----\n",
      "  1   -27.63664662801         NaN   7.36e-01    0.001   0.80    5.0\n",
      "  2   -28.85523069210   -1.22e+00   1.79e-01    0.552   0.80    3.5\n",
      "  3   -28.92970078299   -7.45e-02   7.32e-02    1.052   0.80    8.5\n",
      "  4   -28.93829307150   -8.59e-03   5.79e-02    1.831   0.80    4.0\n"
     ]
    }
   ],
   "cell_type": "code",
   "source": [
    "callback = DFTK.ScfDefaultCallback() ∘ DFTK.ScfSaveCheckpoints(keep=true)\n",
    "scfres = self_consistent_field(basis; ρ=guess_density(basis, magnetic_moments),\n",
    "                               tol=1e-2, callback=callback);"
   ],
   "metadata": {},
   "execution_count": 6
  },
  {
   "cell_type": "markdown",
   "source": [
    "For more details on using callbacks with DFTK's `self_consistent_field` function\n",
    "see Monitoring self-consistent field calculations."
   ],
   "metadata": {}
  },
  {
   "cell_type": "markdown",
   "source": [
    "By default checkpoint is saved in the file `dftk_scf_checkpoint.jld2`, which is\n",
    "deleted automatically once the SCF completes successfully. If one wants to keep\n",
    "the file one needs to specify `keep=true` as has been done in the ultimate SCF\n",
    "for demonstration purposes: now we can continue the previous calculation\n",
    "from the last checkpoint as if the SCF had been aborted.\n",
    "For this one just loads the checkpoint with `load_scfres`:"
   ],
   "metadata": {}
  },
  {
   "outputs": [
    {
     "name": "stdout",
     "output_type": "stream",
     "text": [
      "n     Free energy       Eₙ-Eₙ₋₁     ρout-ρin   Magnet   α      Diag\n",
      "---   ---------------   ---------   --------   ------   ----   ----\n",
      "  1   -28.93948966887         NaN   2.05e-02    1.966   0.80    1.0\n",
      "  2   -28.93959141178   -1.02e-04   6.90e-03    1.980   0.80    1.0\n"
     ]
    }
   ],
   "cell_type": "code",
   "source": [
    "oldstate = load_scfres(\"dftk_scf_checkpoint.jld2\")\n",
    "scfres   = self_consistent_field(oldstate.basis, ρ=oldstate.ρ,\n",
    "                                 ψ=oldstate.ψ, tol=1e-3);"
   ],
   "metadata": {},
   "execution_count": 7
  },
  {
   "cell_type": "markdown",
   "source": [
    "!!! note \"Availability of `load_scfres`, `save_scfres` and `ScfSaveCheckpoints`\"\n",
    "    As JLD2 is an optional dependency of DFTK these three functions are only\n",
    "    available once one has *both* imported DFTK and JLD2 (`using DFTK`\n",
    "    and `using JLD2`)."
   ],
   "metadata": {}
  },
  {
   "cell_type": "markdown",
   "source": [
    "(Cleanup files generated by this notebook)"
   ],
   "metadata": {}
  },
  {
   "outputs": [],
   "cell_type": "code",
   "source": [
    "rm(\"dftk_scf_checkpoint.jld2\")\n",
    "rm(\"scfres.jld2\")"
   ],
   "metadata": {},
   "execution_count": 8
  }
 ],
 "nbformat_minor": 3,
 "metadata": {
  "language_info": {
   "file_extension": ".jl",
   "mimetype": "application/julia",
   "name": "julia",
   "version": "1.7.0"
  },
  "kernelspec": {
   "name": "julia-1.7",
   "display_name": "Julia 1.7.0",
   "language": "julia"
  }
 },
 "nbformat": 4
}
