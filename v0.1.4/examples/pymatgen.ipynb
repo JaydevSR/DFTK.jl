{
 "cells": [
  {
   "cell_type": "markdown",
   "source": [
    "# Creating supercells with pymatgen\n",
    "\n",
    "The [Pymatgen](https://pymatgen.org/) python library allows to setup\n",
    "solid-state calculations using a flexible set of classes as well as an API\n",
    "to an online data base of structures. Its `Structure` and `Lattice`\n",
    "objects are directly supported by the DFTK `load_atoms` and `load_lattice`\n",
    "functions, such that DFTK may be readily used to run calculation on systems\n",
    "defined in pymatgen. Using the `pymatgen_structure` function a conversion\n",
    "from DFTK to pymatgen structures is also possible. In the following we\n",
    "use this to create a silicon supercell and find its LDA ground state\n",
    "using direct minimisation."
   ],
   "metadata": {}
  },
  {
   "cell_type": "markdown",
   "source": [
    "First we setup the silicon lattice in DFTK."
   ],
   "metadata": {}
  },
  {
   "outputs": [],
   "cell_type": "code",
   "source": [
    "using DFTK\n",
    "\n",
    "a = 10.263141334305942  # Lattice constant in Bohr\n",
    "lattice = a / 2 .* [[0 1 1.]; [1 0 1.]; [1 1 0.]]\n",
    "Si = ElementPsp(:Si, psp=load_psp(\"hgh/lda/Si-q4\"))\n",
    "atoms = [Si => [ones(3)/8, -ones(3)/8]];"
   ],
   "metadata": {},
   "execution_count": 1
  },
  {
   "cell_type": "markdown",
   "source": [
    "Next we make a `[2, 2, 2]` supercell using pymatgen"
   ],
   "metadata": {}
  },
  {
   "outputs": [],
   "cell_type": "code",
   "source": [
    "pystruct = pymatgen_structure(lattice, atoms)\n",
    "pystruct.make_supercell([2, 2, 2])\n",
    "lattice = load_lattice(pystruct)\n",
    "atoms = [Si => [s.frac_coords for s in pystruct.sites]];"
   ],
   "metadata": {},
   "execution_count": 2
  },
  {
   "cell_type": "markdown",
   "source": [
    "Setup an LDA model and discretize using\n",
    "a single kpoint and a small `Ecut` of 5 Hartree.\n",
    "Notice that `PlaneWaveBasis` defaults to just using the ``Γ``-point\n",
    "if no ``k``-point options are provided."
   ],
   "metadata": {}
  },
  {
   "outputs": [
    {
     "output_type": "execute_result",
     "data": {
      "text/plain": "PlaneWaveBasis (Ecut=5.0, 1 kpoints)"
     },
     "metadata": {},
     "execution_count": 3
    }
   ],
   "cell_type": "code",
   "source": [
    "model = model_LDA(lattice, atoms)\n",
    "basis = PlaneWaveBasis(model, 5)"
   ],
   "metadata": {},
   "execution_count": 3
  },
  {
   "cell_type": "markdown",
   "source": [
    "Find the ground state using direct minimisation (always using SCF is boring ...)"
   ],
   "metadata": {}
  },
  {
   "outputs": [
    {
     "name": "stdout",
     "output_type": "stream",
     "text": [
      "Iter     Function value   Gradient norm \n",
      "     0     1.119678e+02     1.555188e+00\n",
      " * time: 0.12992501258850098\n",
      "     1     1.036344e+01     8.794576e-01\n",
      " * time: 0.9579598903656006\n",
      "     2    -1.157328e+01     9.910745e-01\n",
      " * time: 1.1047539710998535\n",
      "     3    -3.385133e+01     7.375764e-01\n",
      " * time: 1.252047061920166\n",
      "     4    -4.713544e+01     5.760360e-01\n",
      " * time: 1.3885259628295898\n",
      "     5    -5.674477e+01     2.134433e-01\n",
      " * time: 1.5302529335021973\n",
      "     6    -5.962189e+01     1.784529e-01\n",
      " * time: 1.6428070068359375\n",
      "     7    -6.082755e+01     8.426401e-02\n",
      " * time: 1.7565970420837402\n",
      "     8    -6.134592e+01     4.061864e-02\n",
      " * time: 1.8630380630493164\n",
      "     9    -6.164547e+01     3.911930e-02\n",
      " * time: 1.9758670330047607\n",
      "    10    -6.183660e+01     2.930725e-02\n",
      " * time: 2.0832479000091553\n",
      "    11    -6.197774e+01     2.502106e-02\n",
      " * time: 2.196089029312134\n",
      "    12    -6.205703e+01     2.607163e-02\n",
      " * time: 2.309519052505493\n",
      "    13    -6.211815e+01     1.726641e-02\n",
      " * time: 2.4143810272216797\n",
      "    14    -6.216083e+01     1.634108e-02\n",
      " * time: 2.527559995651245\n",
      "    15    -6.218743e+01     1.179743e-02\n",
      " * time: 2.639503002166748\n",
      "    16    -6.220411e+01     1.048711e-02\n",
      " * time: 2.7453079223632812\n",
      "    17    -6.221619e+01     7.743060e-03\n",
      " * time: 2.8576929569244385\n",
      "    18    -6.222614e+01     5.885978e-03\n",
      " * time: 2.9644269943237305\n",
      "    19    -6.223385e+01     6.250261e-03\n",
      " * time: 3.0784120559692383\n",
      "    20    -6.224051e+01     6.042500e-03\n",
      " * time: 3.1912739276885986\n",
      "    21    -6.224659e+01     4.729309e-03\n",
      " * time: 3.297569990158081\n",
      "    22    -6.225226e+01     4.725031e-03\n",
      " * time: 3.4105489253997803\n",
      "    23    -6.225642e+01     3.843868e-03\n",
      " * time: 3.52327299118042\n",
      "    24    -6.225882e+01     2.724205e-03\n",
      " * time: 3.628973960876465\n",
      "    25    -6.226007e+01     1.935427e-03\n",
      " * time: 3.7419040203094482\n",
      "    26    -6.226068e+01     1.404129e-03\n",
      " * time: 3.8476099967956543\n",
      "    27    -6.226102e+01     1.160041e-03\n",
      " * time: 3.9599859714508057\n",
      "    28    -6.226121e+01     1.058872e-03\n",
      " * time: 4.0726189613342285\n",
      "    29    -6.226135e+01     8.388635e-04\n",
      " * time: 4.177457094192505\n",
      "    30    -6.226146e+01     7.040504e-04\n",
      " * time: 4.289180040359497\n",
      "    31    -6.226154e+01     5.008275e-04\n",
      " * time: 4.401110887527466\n",
      "    32    -6.226159e+01     4.153330e-04\n",
      " * time: 4.505444049835205\n",
      "    33    -6.226162e+01     3.395265e-04\n",
      " * time: 4.617602109909058\n",
      "    34    -6.226164e+01     2.347694e-04\n",
      " * time: 4.723391056060791\n",
      "    35    -6.226166e+01     1.805192e-04\n",
      " * time: 4.836568117141724\n",
      "    36    -6.226166e+01     1.561923e-04\n",
      " * time: 4.949805021286011\n",
      "    37    -6.226166e+01     8.335740e-05\n",
      " * time: 5.056406021118164\n",
      "    38    -6.226166e+01     7.174964e-05\n",
      " * time: 5.170161008834839\n",
      "    39    -6.226167e+01     5.304730e-05\n",
      " * time: 5.285451889038086\n",
      "    40    -6.226167e+01     4.641446e-05\n",
      " * time: 5.390475034713745\n",
      "    41    -6.226167e+01     3.804632e-05\n",
      " * time: 5.503804922103882\n",
      "    42    -6.226167e+01     3.214299e-05\n",
      " * time: 5.6094069480896\n",
      "    43    -6.226167e+01     2.170627e-05\n",
      " * time: 5.722060918807983\n",
      "    44    -6.226167e+01     1.591992e-05\n",
      " * time: 5.835338115692139\n",
      "    45    -6.226167e+01     1.141559e-05\n",
      " * time: 5.940709114074707\n",
      "    46    -6.226167e+01     8.578836e-06\n",
      " * time: 6.053402900695801\n",
      "    47    -6.226167e+01     6.245589e-06\n",
      " * time: 6.1666810512542725\n",
      "    48    -6.226167e+01     4.899797e-06\n",
      " * time: 6.2722249031066895\n",
      "    49    -6.226167e+01     3.803045e-06\n",
      " * time: 6.384702920913696\n"
     ]
    }
   ],
   "cell_type": "code",
   "source": [
    "scfres = direct_minimization(basis, tol=1e-5);"
   ],
   "metadata": {},
   "execution_count": 4
  },
  {
   "outputs": [
    {
     "output_type": "execute_result",
     "data": {
      "text/plain": "Energy breakdown:\n    Kinetic             25.7671070\n    AtomicLocal         -18.8557698\n    AtomicNonlocal      14.8522659\n    Ewald               -67.1831486\n    PspCorrection       -2.3569765\n    Hartree             4.8485379 \n    Xc                  -19.3336823\n\n    total               -62.261666458719\n"
     },
     "metadata": {},
     "execution_count": 5
    }
   ],
   "cell_type": "code",
   "source": [
    "scfres.energies"
   ],
   "metadata": {},
   "execution_count": 5
  }
 ],
 "nbformat_minor": 3,
 "metadata": {
  "language_info": {
   "file_extension": ".jl",
   "mimetype": "application/julia",
   "name": "julia",
   "version": "1.3.1"
  },
  "kernelspec": {
   "name": "julia-1.3",
   "display_name": "Julia 1.3.1",
   "language": "julia"
  }
 },
 "nbformat": 4
}
