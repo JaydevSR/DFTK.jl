{
 "cells": [
  {
   "cell_type": "markdown",
   "source": [
    "# Creating supercells with pymatgen\n",
    "\n",
    "The [Pymatgen](https://pymatgen.org/) python library allows to setup\n",
    "solid-state calculations using a flexible set of classes as well as an API\n",
    "to an online data base of structures. Its `Structure` and `Lattice`\n",
    "objects are directly supported by the DFTK `load_atoms` and `load_lattice`\n",
    "functions, such that DFTK may be readily used to run calculation on systems\n",
    "defined in pymatgen. Using the `pymatgen_structure` function a conversion\n",
    "from DFTK to pymatgen structures is also possible. In the following we\n",
    "use this to create a silicon supercell and find its LDA ground state\n",
    "using direct minimisation."
   ],
   "metadata": {}
  },
  {
   "cell_type": "markdown",
   "source": [
    "First we setup the silicon lattice in DFTK."
   ],
   "metadata": {}
  },
  {
   "outputs": [],
   "cell_type": "code",
   "source": [
    "using DFTK\n",
    "\n",
    "a = 10.263141334305942  # Lattice constant in Bohr\n",
    "lattice = a / 2 .* [[0 1 1.]; [1 0 1.]; [1 1 0.]]\n",
    "Si = ElementPsp(:Si, psp=load_psp(\"hgh/lda/Si-q4\"))\n",
    "atoms = [Si => [ones(3)/8, -ones(3)/8]];"
   ],
   "metadata": {},
   "execution_count": 1
  },
  {
   "cell_type": "markdown",
   "source": [
    "Next we make a `[2, 2, 2]` supercell using pymatgen"
   ],
   "metadata": {}
  },
  {
   "outputs": [],
   "cell_type": "code",
   "source": [
    "pystruct = pymatgen_structure(lattice, atoms)\n",
    "pystruct.make_supercell([2, 2, 2])\n",
    "lattice = load_lattice(pystruct)\n",
    "atoms = [Si => [s.frac_coords for s in pystruct.sites]];"
   ],
   "metadata": {},
   "execution_count": 2
  },
  {
   "cell_type": "markdown",
   "source": [
    "Setup an LDA model and discretize using\n",
    "a single kpoint and a small `Ecut` of 5 Hartree.\n",
    "Notice that `PlaneWaveBasis` defaults to just using the ``Γ``-point\n",
    "if no ``k``-point options are provided."
   ],
   "metadata": {}
  },
  {
   "outputs": [
    {
     "output_type": "execute_result",
     "data": {
      "text/plain": "PlaneWaveBasis (Ecut=5.0, 1 kpoints)"
     },
     "metadata": {},
     "execution_count": 3
    }
   ],
   "cell_type": "code",
   "source": [
    "model = model_LDA(lattice, atoms)\n",
    "basis = PlaneWaveBasis(model, 5)"
   ],
   "metadata": {},
   "execution_count": 3
  },
  {
   "cell_type": "markdown",
   "source": [
    "Find the ground state using direct minimisation (always using SCF is boring ...)"
   ],
   "metadata": {}
  },
  {
   "outputs": [
    {
     "name": "stdout",
     "output_type": "stream",
     "text": [
      "Iter     Function value   Gradient norm \n",
      "     0     1.121264e+02     1.626245e+00\n",
      " * time: 0.08834385871887207\n",
      "     1     1.111821e+01     9.282608e-01\n",
      " * time: 0.9482319355010986\n",
      "     2    -1.220802e+01     9.980154e-01\n",
      " * time: 1.2058169841766357\n",
      "     3    -3.401709e+01     7.476162e-01\n",
      " * time: 1.3844289779663086\n",
      "     4    -4.763729e+01     5.749256e-01\n",
      " * time: 1.8203768730163574\n",
      "     5    -5.674707e+01     2.234180e-01\n",
      " * time: 2.1936779022216797\n",
      "     6    -5.962044e+01     1.622585e-01\n",
      " * time: 2.3106119632720947\n",
      "     7    -6.082845e+01     6.516739e-02\n",
      " * time: 2.4193248748779297\n",
      "     8    -6.134413e+01     5.545606e-02\n",
      " * time: 2.5376999378204346\n",
      "     9    -6.160821e+01     5.769587e-02\n",
      " * time: 2.652700901031494\n",
      "    10    -6.181836e+01     2.652704e-02\n",
      " * time: 2.766119956970215\n",
      "    11    -6.197664e+01     2.363862e-02\n",
      " * time: 2.8725669384002686\n",
      "    12    -6.206335e+01     1.801765e-02\n",
      " * time: 2.9855358600616455\n",
      "    13    -6.211433e+01     1.760823e-02\n",
      " * time: 3.0997960567474365\n",
      "    14    -6.215908e+01     1.658133e-02\n",
      " * time: 3.2160699367523193\n",
      "    15    -6.218706e+01     1.260608e-02\n",
      " * time: 3.3298230171203613\n",
      "    16    -6.220767e+01     8.631752e-03\n",
      " * time: 3.4370250701904297\n",
      "    17    -6.222085e+01     7.313582e-03\n",
      " * time: 3.5509350299835205\n",
      "    18    -6.223028e+01     7.091991e-03\n",
      " * time: 3.664546012878418\n",
      "    19    -6.223760e+01     7.020501e-03\n",
      " * time: 3.7786099910736084\n",
      "    20    -6.224333e+01     6.988096e-03\n",
      " * time: 3.8855600357055664\n",
      "    21    -6.224846e+01     5.846397e-03\n",
      " * time: 4.000515937805176\n",
      "    22    -6.225306e+01     5.784674e-03\n",
      " * time: 4.115216970443726\n",
      "    23    -6.225679e+01     4.133550e-03\n",
      " * time: 4.230932950973511\n",
      "    24    -6.225908e+01     3.361890e-03\n",
      " * time: 4.338444948196411\n",
      "    25    -6.226027e+01     2.318828e-03\n",
      " * time: 4.454110860824585\n",
      "    26    -6.226085e+01     1.682450e-03\n",
      " * time: 4.569000959396362\n",
      "    27    -6.226115e+01     1.276142e-03\n",
      " * time: 4.684098958969116\n",
      "    28    -6.226132e+01     8.658266e-04\n",
      " * time: 4.791853904724121\n",
      "    29    -6.226143e+01     7.351742e-04\n",
      " * time: 4.90581202507019\n",
      "    30    -6.226151e+01     6.350496e-04\n",
      " * time: 5.020292043685913\n",
      "    31    -6.226157e+01     4.661298e-04\n",
      " * time: 5.133338928222656\n",
      "    32    -6.226160e+01     3.575675e-04\n",
      " * time: 5.240756034851074\n",
      "    33    -6.226163e+01     3.295523e-04\n",
      " * time: 5.35378885269165\n",
      "    34    -6.226165e+01     2.742472e-04\n",
      " * time: 5.465414047241211\n",
      "    35    -6.226166e+01     2.044277e-04\n",
      " * time: 5.57717490196228\n",
      "    36    -6.226166e+01     1.199634e-04\n",
      " * time: 5.683618068695068\n",
      "    37    -6.226166e+01     8.554959e-05\n",
      " * time: 5.795760869979858\n",
      "    38    -6.226167e+01     6.370645e-05\n",
      " * time: 5.9075469970703125\n",
      "    39    -6.226167e+01     4.714082e-05\n",
      " * time: 6.021944999694824\n",
      "    40    -6.226167e+01     3.658814e-05\n",
      " * time: 6.128852844238281\n",
      "    41    -6.226167e+01     2.914609e-05\n",
      " * time: 6.243314027786255\n",
      "    42    -6.226167e+01     2.417152e-05\n",
      " * time: 6.359966993331909\n",
      "    43    -6.226167e+01     1.906681e-05\n",
      " * time: 6.472280025482178\n",
      "    44    -6.226167e+01     1.525022e-05\n",
      " * time: 6.581938028335571\n",
      "    45    -6.226167e+01     1.292578e-05\n",
      " * time: 6.695683002471924\n",
      "    46    -6.226167e+01     1.088461e-05\n",
      " * time: 6.807302951812744\n",
      "    47    -6.226167e+01     8.103978e-06\n",
      " * time: 6.9188220500946045\n",
      "    48    -6.226167e+01     5.354021e-06\n",
      " * time: 7.023863077163696\n",
      "    49    -6.226167e+01     4.766461e-06\n",
      " * time: 7.135586977005005\n"
     ]
    }
   ],
   "cell_type": "code",
   "source": [
    "scfres = direct_minimization(basis, tol=1e-5);"
   ],
   "metadata": {},
   "execution_count": 4
  },
  {
   "outputs": [
    {
     "output_type": "execute_result",
     "data": {
      "text/plain": "Energy breakdown:\n    Kinetic             25.7671065\n    AtomicLocal         -18.8557662\n    AtomicNonlocal      14.8522636\n    Ewald               -67.1831486\n    PspCorrection       -2.3569765\n    Hartree             4.8485367 \n    Xc                  -19.3336819\n\n    total               -62.261666458583\n"
     },
     "metadata": {},
     "execution_count": 5
    }
   ],
   "cell_type": "code",
   "source": [
    "scfres.energies"
   ],
   "metadata": {},
   "execution_count": 5
  }
 ],
 "nbformat_minor": 3,
 "metadata": {
  "language_info": {
   "file_extension": ".jl",
   "mimetype": "application/julia",
   "name": "julia",
   "version": "1.3.1"
  },
  "kernelspec": {
   "name": "julia-1.3",
   "display_name": "Julia 1.3.1",
   "language": "julia"
  }
 },
 "nbformat": 4
}
