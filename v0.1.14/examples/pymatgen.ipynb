{
 "cells": [
  {
   "cell_type": "markdown",
   "source": [
    "# Creating supercells with pymatgen\n",
    "\n",
    "The [Pymatgen](https://pymatgen.org/) python library allows to setup\n",
    "solid-state calculations using a flexible set of classes as well as an API\n",
    "to an online data base of structures. Its `Structure` and `Lattice`\n",
    "objects are directly supported by the DFTK `load_atoms` and `load_lattice`\n",
    "functions, such that DFTK may be readily used to run calculation on systems\n",
    "defined in pymatgen. Using the `pymatgen_structure` function a conversion\n",
    "from DFTK to pymatgen structures is also possible. In the following we\n",
    "use this to create a silicon supercell and find its LDA ground state\n",
    "using direct minimisation."
   ],
   "metadata": {}
  },
  {
   "cell_type": "markdown",
   "source": [
    "First we setup the silicon lattice in DFTK."
   ],
   "metadata": {}
  },
  {
   "outputs": [],
   "cell_type": "code",
   "source": [
    "using DFTK\n",
    "\n",
    "a = 10.263141334305942  # Lattice constant in Bohr\n",
    "lattice = a / 2 .* [[0 1 1.]; [1 0 1.]; [1 1 0.]]\n",
    "Si = ElementPsp(:Si, psp=load_psp(\"hgh/lda/Si-q4\"))\n",
    "atoms = [Si => [ones(3)/8, -ones(3)/8]];"
   ],
   "metadata": {},
   "execution_count": 1
  },
  {
   "cell_type": "markdown",
   "source": [
    "Next we make a `[2, 2, 2]` supercell using pymatgen"
   ],
   "metadata": {}
  },
  {
   "outputs": [],
   "cell_type": "code",
   "source": [
    "pystruct = pymatgen_structure(lattice, atoms)\n",
    "pystruct.make_supercell([2, 2, 2])\n",
    "lattice = load_lattice(pystruct)\n",
    "atoms = [Si => [s.frac_coords for s in pystruct.sites]];"
   ],
   "metadata": {},
   "execution_count": 2
  },
  {
   "cell_type": "markdown",
   "source": [
    "Setup an LDA model and discretize using\n",
    "a single kpoint and a small `Ecut` of 5 Hartree."
   ],
   "metadata": {}
  },
  {
   "outputs": [
    {
     "output_type": "execute_result",
     "data": {
      "text/plain": "PlaneWaveBasis (Ecut=5.0, 1 kpoints)"
     },
     "metadata": {},
     "execution_count": 3
    }
   ],
   "cell_type": "code",
   "source": [
    "model = model_LDA(lattice, atoms)\n",
    "basis = PlaneWaveBasis(model, 5, kgrid=(1, 1, 1))"
   ],
   "metadata": {},
   "execution_count": 3
  },
  {
   "cell_type": "markdown",
   "source": [
    "Find the ground state using direct minimisation (always using SCF is boring ...)"
   ],
   "metadata": {}
  },
  {
   "outputs": [
    {
     "name": "stdout",
     "output_type": "stream",
     "text": [
      "Iter     Function value   Gradient norm \n",
      "     0     1.120432e+02     1.629466e+00\n",
      " * time: 0.0915229320526123\n",
      "     1     1.020353e+01     9.280651e-01\n",
      " * time: 1.3865461349487305\n",
      "     2    -1.163484e+01     1.072797e+00\n",
      " * time: 1.5205409526824951\n",
      "     3    -3.403777e+01     7.536841e-01\n",
      " * time: 1.6778090000152588\n",
      "     4    -4.730902e+01     5.833749e-01\n",
      " * time: 1.8325390815734863\n",
      "     5    -5.678672e+01     2.421626e-01\n",
      " * time: 1.979464054107666\n",
      "     6    -5.953226e+01     2.581652e-01\n",
      " * time: 2.0921881198883057\n",
      "     7    -6.074551e+01     1.442324e-01\n",
      " * time: 2.19901704788208\n",
      "     8    -6.130616e+01     6.457467e-02\n",
      " * time: 2.3142290115356445\n",
      "     9    -6.158138e+01     3.965875e-02\n",
      " * time: 2.4219679832458496\n",
      "    10    -6.179614e+01     2.936352e-02\n",
      " * time: 2.5381410121917725\n",
      "    11    -6.192967e+01     2.145318e-02\n",
      " * time: 2.6459789276123047\n",
      "    12    -6.202732e+01     1.783384e-02\n",
      " * time: 2.7638580799102783\n",
      "    13    -6.207187e+01     1.462447e-02\n",
      " * time: 2.878248929977417\n",
      "    14    -6.211654e+01     1.461392e-02\n",
      " * time: 2.9852280616760254\n",
      "    15    -6.214107e+01     1.323640e-02\n",
      " * time: 3.099822998046875\n",
      "    16    -6.216071e+01     1.170537e-02\n",
      " * time: 3.206676959991455\n",
      "    17    -6.217427e+01     7.464527e-03\n",
      " * time: 3.3196980953216553\n",
      "    18    -6.218501e+01     6.674923e-03\n",
      " * time: 3.425830125808716\n",
      "    19    -6.219364e+01     6.904527e-03\n",
      " * time: 3.540472984313965\n",
      "    20    -6.220056e+01     5.924155e-03\n",
      " * time: 3.6554930210113525\n",
      "    21    -6.220644e+01     5.418469e-03\n",
      " * time: 3.7620739936828613\n",
      "    22    -6.221119e+01     5.319452e-03\n",
      " * time: 3.875231981277466\n",
      "    23    -6.221489e+01     4.526386e-03\n",
      " * time: 3.981337070465088\n",
      "    24    -6.221775e+01     4.442030e-03\n",
      " * time: 4.094058990478516\n",
      "    25    -6.222036e+01     4.447307e-03\n",
      " * time: 4.200876951217651\n",
      "    26    -6.222327e+01     5.331191e-03\n",
      " * time: 4.313283920288086\n",
      "    27    -6.222699e+01     5.045682e-03\n",
      " * time: 4.425858974456787\n",
      "    28    -6.223165e+01     6.009893e-03\n",
      " * time: 4.532051086425781\n",
      "    29    -6.223700e+01     7.022053e-03\n",
      " * time: 4.647005081176758\n",
      "    30    -6.224338e+01     6.019391e-03\n",
      " * time: 4.753629922866821\n",
      "    31    -6.224941e+01     4.744882e-03\n",
      " * time: 4.866814136505127\n",
      "    32    -6.225368e+01     3.954876e-03\n",
      " * time: 4.973637104034424\n",
      "    33    -6.225710e+01     2.845081e-03\n",
      " * time: 5.088124990463257\n",
      "    34    -6.225930e+01     2.274476e-03\n",
      " * time: 5.203088045120239\n",
      "    35    -6.226048e+01     1.780298e-03\n",
      " * time: 5.309830904006958\n",
      "    36    -6.226106e+01     1.139051e-03\n",
      " * time: 5.423520088195801\n",
      "    37    -6.226131e+01     1.125725e-03\n",
      " * time: 5.529853105545044\n",
      "    38    -6.226145e+01     8.230632e-04\n",
      " * time: 5.643270969390869\n",
      "    39    -6.226153e+01     6.464428e-04\n",
      " * time: 5.7508440017700195\n",
      "    40    -6.226158e+01     4.344403e-04\n",
      " * time: 5.865344047546387\n",
      "    41    -6.226161e+01     3.609395e-04\n",
      " * time: 5.9793620109558105\n",
      "    42    -6.226163e+01     3.048840e-04\n",
      " * time: 6.0858330726623535\n",
      "    43    -6.226164e+01     2.525732e-04\n",
      " * time: 6.230518102645874\n",
      "    44    -6.226165e+01     1.782658e-04\n",
      " * time: 6.37717604637146\n",
      "    45    -6.226166e+01     1.840330e-04\n",
      " * time: 6.533704042434692\n",
      "    46    -6.226166e+01     1.035331e-04\n",
      " * time: 6.676911115646362\n",
      "    47    -6.226166e+01     8.140465e-05\n",
      " * time: 6.830284118652344\n",
      "    48    -6.226167e+01     5.216497e-05\n",
      " * time: 6.978574991226196\n",
      "    49    -6.226167e+01     4.147863e-05\n",
      " * time: 7.085860013961792\n",
      "    50    -6.226167e+01     3.547498e-05\n",
      " * time: 7.201524972915649\n",
      "    51    -6.226167e+01     3.233486e-05\n",
      " * time: 7.307646989822388\n",
      "    52    -6.226167e+01     2.133515e-05\n",
      " * time: 7.420643091201782\n",
      "    53    -6.226167e+01     1.602213e-05\n",
      " * time: 7.5262510776519775\n",
      "    54    -6.226167e+01     1.510761e-05\n",
      " * time: 7.6398279666900635\n",
      "    55    -6.226167e+01     1.095045e-05\n",
      " * time: 7.754985094070435\n",
      "    56    -6.226167e+01     7.255856e-06\n",
      " * time: 7.861748933792114\n",
      "    57    -6.226167e+01     5.806958e-06\n",
      " * time: 7.975100994110107\n",
      "    58    -6.226167e+01     4.637451e-06\n",
      " * time: 8.08023190498352\n",
      "    59    -6.226167e+01     4.024279e-06\n",
      " * time: 8.19486403465271\n"
     ]
    }
   ],
   "cell_type": "code",
   "source": [
    "scfres = direct_minimization(basis, tol=1e-5);"
   ],
   "metadata": {},
   "execution_count": 4
  },
  {
   "outputs": [
    {
     "output_type": "execute_result",
     "data": {
      "text/plain": "Energy breakdown:\n    Kinetic             25.7671082\n    AtomicLocal         -18.8557751\n    AtomicNonlocal      14.8522687\n    Ewald               -67.1831486\n    PspCorrection       -2.3569765\n    Hartree             4.8485400 \n    Xc                  -19.3336831\n\n    total               -62.261666459583\n"
     },
     "metadata": {},
     "execution_count": 5
    }
   ],
   "cell_type": "code",
   "source": [
    "scfres.energies"
   ],
   "metadata": {},
   "execution_count": 5
  }
 ],
 "nbformat_minor": 3,
 "metadata": {
  "language_info": {
   "file_extension": ".jl",
   "mimetype": "application/julia",
   "name": "julia",
   "version": "1.4.2"
  },
  "kernelspec": {
   "name": "julia-1.4",
   "display_name": "Julia 1.4.2",
   "language": "julia"
  }
 },
 "nbformat": 4
}
